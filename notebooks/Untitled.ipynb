{
 "cells": [
  {
   "cell_type": "code",
   "execution_count": 4,
   "metadata": {},
   "outputs": [],
   "source": [
    "import numpy as np\n",
    "import pickle\n",
    "import pandas as pd\n",
    "import matplotlib.pyplot as plt\n",
    "%matplotlib inline\n",
    "\n",
    "plt.style.use(\"ggplot\")\n"
   ]
  },
  {
   "cell_type": "code",
   "execution_count": 5,
   "metadata": {},
   "outputs": [],
   "source": [
    "import json\n",
    "\n"
   ]
  },
  {
   "cell_type": "code",
   "execution_count": 22,
   "metadata": {},
   "outputs": [],
   "source": [
    "df = pd.read_excel('../data/Data_2020_P06/all_billings_inputs_08_20.xlsx',\n",
    "                  sheet_name = 'base_billings')"
   ]
  },
  {
   "cell_type": "code",
   "execution_count": 23,
   "metadata": {},
   "outputs": [],
   "source": [
    "df.rename(\n",
    "        index=str,\n",
    "        columns={\n",
    "            \"Contrct Duration in Months\": \"duration\",\n",
    "            \"Document Currency\": \"curr\",\n",
    "            \"Enterprise BU Desc\": \"BU\",\n",
    "            \"Invoice Fiscal Year Period Desc\": \"period\",\n",
    "            \"POB Type\": \"POB_type\",\n",
    "            \"Product Config Type\": \"config\",\n",
    "            \"Rev Rec Category\": \"rev_req_type\",\n",
    "            \"Rule For Bill Date\": \"rebill_rule\",\n",
    "            \"Sales Document Type\": \"sales_doc\",\n",
    "            \"Sales Type\": \"sales_type\",\n",
    "            \"Subscription Term\": \"sub_term\",\n",
    "            \"Completed Sales ( DC )\": \"DC_amount\",\n",
    "            \"Completed Sales\": \"US_amount\",\n",
    "        },\n",
    "        inplace=True,\n",
    "    )\n"
   ]
  },
  {
   "cell_type": "code",
   "execution_count": 24,
   "metadata": {},
   "outputs": [
    {
     "data": {
      "text/html": [
       "<div>\n",
       "<style scoped>\n",
       "    .dataframe tbody tr th:only-of-type {\n",
       "        vertical-align: middle;\n",
       "    }\n",
       "\n",
       "    .dataframe tbody tr th {\n",
       "        vertical-align: top;\n",
       "    }\n",
       "\n",
       "    .dataframe thead th {\n",
       "        text-align: right;\n",
       "    }\n",
       "</style>\n",
       "<table border=\"1\" class=\"dataframe\">\n",
       "  <thead>\n",
       "    <tr style=\"text-align: right;\">\n",
       "      <th></th>\n",
       "      <th>duration</th>\n",
       "      <th>curr</th>\n",
       "      <th>BU</th>\n",
       "      <th>period</th>\n",
       "      <th>POB_type</th>\n",
       "      <th>config</th>\n",
       "      <th>rev_req_type</th>\n",
       "      <th>rebill_rule</th>\n",
       "      <th>sales_doc</th>\n",
       "      <th>sales_type</th>\n",
       "      <th>sub_term</th>\n",
       "      <th>DC_amount</th>\n",
       "      <th>US_amount</th>\n",
       "    </tr>\n",
       "  </thead>\n",
       "  <tbody>\n",
       "    <tr>\n",
       "      <th>0</th>\n",
       "      <td>0</td>\n",
       "      <td>AUD</td>\n",
       "      <td>Experience Cloud</td>\n",
       "      <td>2017-01</td>\n",
       "      <td>NaN</td>\n",
       "      <td>OCONS</td>\n",
       "      <td>NaN</td>\n",
       "      <td>NaN</td>\n",
       "      <td>ZCC</td>\n",
       "      <td>PRO-SVC-INV</td>\n",
       "      <td>0</td>\n",
       "      <td>375.0</td>\n",
       "      <td>278.01</td>\n",
       "    </tr>\n",
       "    <tr>\n",
       "      <th>1</th>\n",
       "      <td>0</td>\n",
       "      <td>AUD</td>\n",
       "      <td>Experience Cloud</td>\n",
       "      <td>2017-01</td>\n",
       "      <td>NaN</td>\n",
       "      <td>ONORE</td>\n",
       "      <td>NaN</td>\n",
       "      <td>NaN</td>\n",
       "      <td>ZCC</td>\n",
       "      <td>RECOGNIZED</td>\n",
       "      <td>0</td>\n",
       "      <td>0.0</td>\n",
       "      <td>45.75</td>\n",
       "    </tr>\n",
       "    <tr>\n",
       "      <th>2</th>\n",
       "      <td>0</td>\n",
       "      <td>AUD</td>\n",
       "      <td>Experience Cloud</td>\n",
       "      <td>2017-01</td>\n",
       "      <td>NaN</td>\n",
       "      <td>ONORE</td>\n",
       "      <td>D</td>\n",
       "      <td>YA</td>\n",
       "      <td>ZCC</td>\n",
       "      <td>DEFERRED</td>\n",
       "      <td>0</td>\n",
       "      <td>-684738.0</td>\n",
       "      <td>-512177.81</td>\n",
       "    </tr>\n",
       "  </tbody>\n",
       "</table>\n",
       "</div>"
      ],
      "text/plain": [
       "   duration curr                BU   period POB_type config rev_req_type  \\\n",
       "0         0  AUD  Experience Cloud  2017-01      NaN  OCONS          NaN   \n",
       "1         0  AUD  Experience Cloud  2017-01      NaN  ONORE          NaN   \n",
       "2         0  AUD  Experience Cloud  2017-01      NaN  ONORE            D   \n",
       "\n",
       "  rebill_rule sales_doc   sales_type  sub_term  DC_amount  US_amount  \n",
       "0         NaN       ZCC  PRO-SVC-INV         0      375.0     278.01  \n",
       "1         NaN       ZCC   RECOGNIZED         0        0.0      45.75  \n",
       "2          YA       ZCC     DEFERRED         0  -684738.0 -512177.81  "
      ]
     },
     "execution_count": 24,
     "metadata": {},
     "output_type": "execute_result"
    }
   ],
   "source": [
    "df.head(3)"
   ]
  },
  {
   "cell_type": "code",
   "execution_count": 25,
   "metadata": {},
   "outputs": [],
   "source": [
    "vc = df[\"curr\"].value_counts()\n",
    "keep_these = vc.values > 20\n",
    "keep_curr = vc[keep_these]\n",
    "list_keepers = keep_curr.index\n",
    "remove_these = vc[vc.values <= 20].index\n",
    "model_dict = {\"curr_removed\": list(vc[remove_these].index)}\n",
    "delete_curr = list(remove_these)\n",
    "\n",
    "if \"TRY\" not in model_dict[\"curr_removed\"]:\n",
    "    model_dict[\"curr_removed\"].append(\"TRY\")\n",
    "    delete_curr.append(\"TRY\")\n",
    "    list_keepers = list_keepers.drop(\"TRY\")\n",
    "\n",
    "df = df[df[\"curr\"].isin(list_keepers)]"
   ]
  },
  {
   "cell_type": "code",
   "execution_count": 26,
   "metadata": {},
   "outputs": [
    {
     "name": "stdout",
     "output_type": "stream",
     "text": [
      "293832\n",
      "286744\n"
     ]
    }
   ],
   "source": [
    "print(len(df))\n",
    "df = df[df[\"DC_amount\"] != 0]\n",
    "print(len(df))"
   ]
  },
  {
   "cell_type": "markdown",
   "metadata": {},
   "source": [
    "## Grouping by POB Type\n",
    "\n",
    "The new 606 has everything grouped by sales type. There are blanks\n",
    "We need to separate into groups based on the POB type\n"
   ]
  },
  {
   "cell_type": "code",
   "execution_count": 30,
   "metadata": {},
   "outputs": [
    {
     "name": "stdout",
     "output_type": "stream",
     "text": [
      "['IR', 'IR-NA', 'LFB', 'CR', 'CR-NA', 'RR', 'RR-NA', 'BNDL']\n"
     ]
    }
   ],
   "source": [
    "list_IR = ['IR', 'IR-NA', 'LFB']\n",
    "list_service = ['CR', 'CR-NA']\n",
    "list_deferred = ['RR', 'RR-NA']\n",
    "list_hybrid = ['BNDL']\n",
    "\n",
    "list_all = list_IR + list_service + list_deferred + list_hybrid\n",
    "print(list_all)"
   ]
  },
  {
   "cell_type": "code",
   "execution_count": 33,
   "metadata": {},
   "outputs": [],
   "source": [
    "rec = df[df[\"POB_type\"].isin(list_IR)].copy()\n",
    "svc = df[df[\"POB_type\"].isin(list_service)].copy()\n",
    "dfr = df[df[\"POB_type\"].isin(list_deferred)].copy()\n",
    "hyb = df[df[\"POB_type\"].isin(list_hybrid)].copy()\n",
    "blank = df[~df[\"POB_type\"].isin(list_all)].copy()"
   ]
  },
  {
   "cell_type": "code",
   "execution_count": 37,
   "metadata": {},
   "outputs": [
    {
     "name": "stdout",
     "output_type": "stream",
     "text": [
      "rec 12299\n",
      "svc 3058\n",
      "dfr 75564\n",
      "hyb 3604\n",
      "blank 192219\n",
      "ALL 286744\n"
     ]
    }
   ],
   "source": [
    "print('rec', len(rec))\n",
    "print('svc', len(svc))\n",
    "print('dfr', len(dfr))\n",
    "print('hyb', len(hyb))\n",
    "print('blank', len(blank))\n",
    "print('ALL', len(df))"
   ]
  },
  {
   "cell_type": "code",
   "execution_count": 39,
   "metadata": {},
   "outputs": [
    {
     "data": {
      "text/plain": [
       "286744"
      ]
     },
     "execution_count": 39,
     "metadata": {},
     "output_type": "execute_result"
    }
   ],
   "source": [
    "len(rec)+len(svc)+ len(dfr)+ len(blank)+len(hyb)"
   ]
  },
  {
   "cell_type": "code",
   "execution_count": 40,
   "metadata": {},
   "outputs": [],
   "source": [
    "gb_rec = rec.groupby([\"curr\", \"BU\", \"period\"], as_index=False).sum()"
   ]
  },
  {
   "cell_type": "code",
   "execution_count": 42,
   "metadata": {},
   "outputs": [],
   "source": [
    "gb_rec.drop(labels=[\"duration\", \"sub_term\"] , axis=1, inplace=True)"
   ]
  },
  {
   "cell_type": "code",
   "execution_count": 43,
   "metadata": {},
   "outputs": [
    {
     "data": {
      "text/html": [
       "<div>\n",
       "<style scoped>\n",
       "    .dataframe tbody tr th:only-of-type {\n",
       "        vertical-align: middle;\n",
       "    }\n",
       "\n",
       "    .dataframe tbody tr th {\n",
       "        vertical-align: top;\n",
       "    }\n",
       "\n",
       "    .dataframe thead th {\n",
       "        text-align: right;\n",
       "    }\n",
       "</style>\n",
       "<table border=\"1\" class=\"dataframe\">\n",
       "  <thead>\n",
       "    <tr style=\"text-align: right;\">\n",
       "      <th></th>\n",
       "      <th>curr</th>\n",
       "      <th>BU</th>\n",
       "      <th>period</th>\n",
       "      <th>DC_amount</th>\n",
       "      <th>US_amount</th>\n",
       "    </tr>\n",
       "  </thead>\n",
       "  <tbody>\n",
       "    <tr>\n",
       "      <th>0</th>\n",
       "      <td>ARS</td>\n",
       "      <td>Creative</td>\n",
       "      <td>2019-07</td>\n",
       "      <td>6786.00</td>\n",
       "      <td>155.12</td>\n",
       "    </tr>\n",
       "    <tr>\n",
       "      <th>1</th>\n",
       "      <td>ARS</td>\n",
       "      <td>Creative</td>\n",
       "      <td>2019-08</td>\n",
       "      <td>16472.00</td>\n",
       "      <td>390.02</td>\n",
       "    </tr>\n",
       "    <tr>\n",
       "      <th>2</th>\n",
       "      <td>ARS</td>\n",
       "      <td>Creative</td>\n",
       "      <td>2019-09</td>\n",
       "      <td>19205.00</td>\n",
       "      <td>405.51</td>\n",
       "    </tr>\n",
       "    <tr>\n",
       "      <th>3</th>\n",
       "      <td>ARS</td>\n",
       "      <td>Creative</td>\n",
       "      <td>2019-10</td>\n",
       "      <td>30382.19</td>\n",
       "      <td>532.13</td>\n",
       "    </tr>\n",
       "  </tbody>\n",
       "</table>\n",
       "</div>"
      ],
      "text/plain": [
       "  curr        BU   period  DC_amount  US_amount\n",
       "0  ARS  Creative  2019-07    6786.00     155.12\n",
       "1  ARS  Creative  2019-08   16472.00     390.02\n",
       "2  ARS  Creative  2019-09   19205.00     405.51\n",
       "3  ARS  Creative  2019-10   30382.19     532.13"
      ]
     },
     "execution_count": 43,
     "metadata": {},
     "output_type": "execute_result"
    }
   ],
   "source": [
    "gb_rec.head(4)"
   ]
  },
  {
   "cell_type": "code",
   "execution_count": 44,
   "metadata": {},
   "outputs": [],
   "source": [
    "gb_svc = svc.groupby([\"curr\", \"BU\", \"period\"], as_index=False).sum()"
   ]
  },
  {
   "cell_type": "code",
   "execution_count": null,
   "metadata": {},
   "outputs": [],
   "source": [
    "gb_svc"
   ]
  },
  {
   "cell_type": "code",
   "execution_count": 45,
   "metadata": {},
   "outputs": [
    {
     "data": {
      "text/html": [
       "<div>\n",
       "<style scoped>\n",
       "    .dataframe tbody tr th:only-of-type {\n",
       "        vertical-align: middle;\n",
       "    }\n",
       "\n",
       "    .dataframe tbody tr th {\n",
       "        vertical-align: top;\n",
       "    }\n",
       "\n",
       "    .dataframe thead th {\n",
       "        text-align: right;\n",
       "    }\n",
       "</style>\n",
       "<table border=\"1\" class=\"dataframe\">\n",
       "  <thead>\n",
       "    <tr style=\"text-align: right;\">\n",
       "      <th></th>\n",
       "      <th>curr</th>\n",
       "      <th>BU</th>\n",
       "      <th>period</th>\n",
       "      <th>duration</th>\n",
       "      <th>sub_term</th>\n",
       "      <th>DC_amount</th>\n",
       "      <th>US_amount</th>\n",
       "    </tr>\n",
       "  </thead>\n",
       "  <tbody>\n",
       "    <tr>\n",
       "      <th>0</th>\n",
       "      <td>AUD</td>\n",
       "      <td>Creative</td>\n",
       "      <td>2017-10</td>\n",
       "      <td>18</td>\n",
       "      <td>0</td>\n",
       "      <td>8544.00</td>\n",
       "      <td>6837.59</td>\n",
       "    </tr>\n",
       "    <tr>\n",
       "      <th>1</th>\n",
       "      <td>AUD</td>\n",
       "      <td>Creative</td>\n",
       "      <td>2019-01</td>\n",
       "      <td>12</td>\n",
       "      <td>0</td>\n",
       "      <td>8472.55</td>\n",
       "      <td>6135.45</td>\n",
       "    </tr>\n",
       "    <tr>\n",
       "      <th>2</th>\n",
       "      <td>AUD</td>\n",
       "      <td>Creative</td>\n",
       "      <td>2019-02</td>\n",
       "      <td>12</td>\n",
       "      <td>0</td>\n",
       "      <td>3635.13</td>\n",
       "      <td>2587.61</td>\n",
       "    </tr>\n",
       "    <tr>\n",
       "      <th>3</th>\n",
       "      <td>AUD</td>\n",
       "      <td>Creative</td>\n",
       "      <td>2019-03</td>\n",
       "      <td>36</td>\n",
       "      <td>24</td>\n",
       "      <td>10437.33</td>\n",
       "      <td>7531.36</td>\n",
       "    </tr>\n",
       "  </tbody>\n",
       "</table>\n",
       "</div>"
      ],
      "text/plain": [
       "  curr        BU   period  duration  sub_term  DC_amount  US_amount\n",
       "0  AUD  Creative  2017-10        18         0    8544.00    6837.59\n",
       "1  AUD  Creative  2019-01        12         0    8472.55    6135.45\n",
       "2  AUD  Creative  2019-02        12         0    3635.13    2587.61\n",
       "3  AUD  Creative  2019-03        36        24   10437.33    7531.36"
      ]
     },
     "execution_count": 45,
     "metadata": {},
     "output_type": "execute_result"
    }
   ],
   "source": [
    "gb_svc.head(4)"
   ]
  },
  {
   "cell_type": "markdown",
   "metadata": {},
   "source": [
    "# Deferred billings\n",
    "## Type B Service based/"
   ]
  },
  {
   "cell_type": "code",
   "execution_count": 46,
   "metadata": {},
   "outputs": [],
   "source": [
    "dfr_b = dfr[dfr[\"rev_req_type\"] == \"B\"].copy()"
   ]
  },
  {
   "cell_type": "code",
   "execution_count": 47,
   "metadata": {},
   "outputs": [
    {
     "name": "stdout",
     "output_type": "stream",
     "text": [
      "75564\n",
      "0\n"
     ]
    }
   ],
   "source": [
    "print(len(dfr))\n",
    "print(len(dfr_b))"
   ]
  },
  {
   "cell_type": "code",
   "execution_count": 49,
   "metadata": {},
   "outputs": [
    {
     "data": {
      "text/html": [
       "<div>\n",
       "<style scoped>\n",
       "    .dataframe tbody tr th:only-of-type {\n",
       "        vertical-align: middle;\n",
       "    }\n",
       "\n",
       "    .dataframe tbody tr th {\n",
       "        vertical-align: top;\n",
       "    }\n",
       "\n",
       "    .dataframe thead th {\n",
       "        text-align: right;\n",
       "    }\n",
       "</style>\n",
       "<table border=\"1\" class=\"dataframe\">\n",
       "  <thead>\n",
       "    <tr style=\"text-align: right;\">\n",
       "      <th></th>\n",
       "      <th>duration</th>\n",
       "      <th>curr</th>\n",
       "      <th>BU</th>\n",
       "      <th>period</th>\n",
       "      <th>POB_type</th>\n",
       "      <th>config</th>\n",
       "      <th>rev_req_type</th>\n",
       "      <th>rebill_rule</th>\n",
       "      <th>sales_doc</th>\n",
       "      <th>sales_type</th>\n",
       "      <th>sub_term</th>\n",
       "      <th>DC_amount</th>\n",
       "      <th>US_amount</th>\n",
       "    </tr>\n",
       "  </thead>\n",
       "  <tbody>\n",
       "    <tr>\n",
       "      <th>15</th>\n",
       "      <td>0</td>\n",
       "      <td>EUR</td>\n",
       "      <td>Experience Cloud</td>\n",
       "      <td>2017-01</td>\n",
       "      <td>RR</td>\n",
       "      <td>ONORE</td>\n",
       "      <td>D</td>\n",
       "      <td>YA</td>\n",
       "      <td>ZCC</td>\n",
       "      <td>DEFERRED</td>\n",
       "      <td>0</td>\n",
       "      <td>117600.00</td>\n",
       "      <td>123853.97</td>\n",
       "    </tr>\n",
       "    <tr>\n",
       "      <th>47</th>\n",
       "      <td>1</td>\n",
       "      <td>EUR</td>\n",
       "      <td>Experience Cloud</td>\n",
       "      <td>2017-01</td>\n",
       "      <td>RR</td>\n",
       "      <td>ONORE</td>\n",
       "      <td>D</td>\n",
       "      <td>YA</td>\n",
       "      <td>ZCC</td>\n",
       "      <td>DEFERRED</td>\n",
       "      <td>0</td>\n",
       "      <td>399.00</td>\n",
       "      <td>426.24</td>\n",
       "    </tr>\n",
       "    <tr>\n",
       "      <th>48</th>\n",
       "      <td>1</td>\n",
       "      <td>JPY</td>\n",
       "      <td>Experience Cloud</td>\n",
       "      <td>2017-01</td>\n",
       "      <td>RR</td>\n",
       "      <td>ONORE</td>\n",
       "      <td>D</td>\n",
       "      <td>YA</td>\n",
       "      <td>ZCC</td>\n",
       "      <td>DEFERRED</td>\n",
       "      <td>0</td>\n",
       "      <td>72772.00</td>\n",
       "      <td>637.48</td>\n",
       "    </tr>\n",
       "    <tr>\n",
       "      <th>55</th>\n",
       "      <td>1</td>\n",
       "      <td>USD</td>\n",
       "      <td>Experience Cloud</td>\n",
       "      <td>2017-01</td>\n",
       "      <td>RR</td>\n",
       "      <td>ONORE</td>\n",
       "      <td>D</td>\n",
       "      <td>Y1</td>\n",
       "      <td>ZCC</td>\n",
       "      <td>DEFERRED</td>\n",
       "      <td>0</td>\n",
       "      <td>1232.50</td>\n",
       "      <td>1232.50</td>\n",
       "    </tr>\n",
       "    <tr>\n",
       "      <th>56</th>\n",
       "      <td>1</td>\n",
       "      <td>USD</td>\n",
       "      <td>Experience Cloud</td>\n",
       "      <td>2017-01</td>\n",
       "      <td>RR</td>\n",
       "      <td>ONORE</td>\n",
       "      <td>D</td>\n",
       "      <td>YA</td>\n",
       "      <td>ZCC</td>\n",
       "      <td>DEFERRED</td>\n",
       "      <td>0</td>\n",
       "      <td>18094.74</td>\n",
       "      <td>18094.74</td>\n",
       "    </tr>\n",
       "    <tr>\n",
       "      <th>57</th>\n",
       "      <td>1</td>\n",
       "      <td>USD</td>\n",
       "      <td>Experience Cloud</td>\n",
       "      <td>2017-01</td>\n",
       "      <td>RR</td>\n",
       "      <td>ONORE</td>\n",
       "      <td>D</td>\n",
       "      <td>YQ</td>\n",
       "      <td>ZCC</td>\n",
       "      <td>DEFERRED</td>\n",
       "      <td>0</td>\n",
       "      <td>4064.52</td>\n",
       "      <td>4064.52</td>\n",
       "    </tr>\n",
       "    <tr>\n",
       "      <th>60</th>\n",
       "      <td>2</td>\n",
       "      <td>EUR</td>\n",
       "      <td>Experience Cloud</td>\n",
       "      <td>2017-01</td>\n",
       "      <td>RR</td>\n",
       "      <td>ONORE</td>\n",
       "      <td>D</td>\n",
       "      <td>YA</td>\n",
       "      <td>ZCC</td>\n",
       "      <td>DEFERRED</td>\n",
       "      <td>0</td>\n",
       "      <td>19485.90</td>\n",
       "      <td>20724.03</td>\n",
       "    </tr>\n",
       "    <tr>\n",
       "      <th>65</th>\n",
       "      <td>2</td>\n",
       "      <td>USD</td>\n",
       "      <td>Experience Cloud</td>\n",
       "      <td>2017-01</td>\n",
       "      <td>RR</td>\n",
       "      <td>ONORE</td>\n",
       "      <td>D</td>\n",
       "      <td>YA</td>\n",
       "      <td>ZCC</td>\n",
       "      <td>DEFERRED</td>\n",
       "      <td>0</td>\n",
       "      <td>13850.00</td>\n",
       "      <td>13850.00</td>\n",
       "    </tr>\n",
       "    <tr>\n",
       "      <th>69</th>\n",
       "      <td>3</td>\n",
       "      <td>CAD</td>\n",
       "      <td>Experience Cloud</td>\n",
       "      <td>2017-01</td>\n",
       "      <td>RR</td>\n",
       "      <td>ONORE</td>\n",
       "      <td>D</td>\n",
       "      <td>YQ</td>\n",
       "      <td>ZCC</td>\n",
       "      <td>DEFERRED</td>\n",
       "      <td>0</td>\n",
       "      <td>78810.00</td>\n",
       "      <td>58634.64</td>\n",
       "    </tr>\n",
       "    <tr>\n",
       "      <th>74</th>\n",
       "      <td>3</td>\n",
       "      <td>EUR</td>\n",
       "      <td>Experience Cloud</td>\n",
       "      <td>2017-01</td>\n",
       "      <td>RR</td>\n",
       "      <td>ONORE</td>\n",
       "      <td>D</td>\n",
       "      <td>YA</td>\n",
       "      <td>ZCC</td>\n",
       "      <td>DEFERRED</td>\n",
       "      <td>0</td>\n",
       "      <td>79251.79</td>\n",
       "      <td>84287.45</td>\n",
       "    </tr>\n",
       "  </tbody>\n",
       "</table>\n",
       "</div>"
      ],
      "text/plain": [
       "    duration curr                BU   period POB_type config rev_req_type  \\\n",
       "15         0  EUR  Experience Cloud  2017-01       RR  ONORE            D   \n",
       "47         1  EUR  Experience Cloud  2017-01       RR  ONORE            D   \n",
       "48         1  JPY  Experience Cloud  2017-01       RR  ONORE            D   \n",
       "55         1  USD  Experience Cloud  2017-01       RR  ONORE            D   \n",
       "56         1  USD  Experience Cloud  2017-01       RR  ONORE            D   \n",
       "57         1  USD  Experience Cloud  2017-01       RR  ONORE            D   \n",
       "60         2  EUR  Experience Cloud  2017-01       RR  ONORE            D   \n",
       "65         2  USD  Experience Cloud  2017-01       RR  ONORE            D   \n",
       "69         3  CAD  Experience Cloud  2017-01       RR  ONORE            D   \n",
       "74         3  EUR  Experience Cloud  2017-01       RR  ONORE            D   \n",
       "\n",
       "   rebill_rule sales_doc sales_type  sub_term  DC_amount  US_amount  \n",
       "15          YA       ZCC   DEFERRED         0  117600.00  123853.97  \n",
       "47          YA       ZCC   DEFERRED         0     399.00     426.24  \n",
       "48          YA       ZCC   DEFERRED         0   72772.00     637.48  \n",
       "55          Y1       ZCC   DEFERRED         0    1232.50    1232.50  \n",
       "56          YA       ZCC   DEFERRED         0   18094.74   18094.74  \n",
       "57          YQ       ZCC   DEFERRED         0    4064.52    4064.52  \n",
       "60          YA       ZCC   DEFERRED         0   19485.90   20724.03  \n",
       "65          YA       ZCC   DEFERRED         0   13850.00   13850.00  \n",
       "69          YQ       ZCC   DEFERRED         0   78810.00   58634.64  \n",
       "74          YA       ZCC   DEFERRED         0   79251.79   84287.45  "
      ]
     },
     "execution_count": 49,
     "metadata": {},
     "output_type": "execute_result"
    }
   ],
   "source": [
    "dfr.head(10)"
   ]
  },
  {
   "cell_type": "code",
   "execution_count": 50,
   "metadata": {},
   "outputs": [
    {
     "data": {
      "text/plain": [
       "D    51470\n",
       "A    23504\n",
       "Name: rev_req_type, dtype: int64"
      ]
     },
     "execution_count": 50,
     "metadata": {},
     "output_type": "execute_result"
    }
   ],
   "source": [
    "dfr.rev_req_type.value_counts()"
   ]
  },
  {
   "cell_type": "markdown",
   "metadata": {},
   "source": [
    "## Type A Deferred billings\n",
    "\n",
    "### First sort by config type\n",
    "\n",
    "### Then use sub term"
   ]
  },
  {
   "cell_type": "code",
   "execution_count": 55,
   "metadata": {},
   "outputs": [
    {
     "name": "stdout",
     "output_type": "stream",
     "text": [
      "length of dfr_a 23504\n"
     ]
    }
   ],
   "source": [
    "dfr_a = dfr[dfr[\"rev_req_type\"] == \"A\"].copy()\n",
    "print(\"length of dfr_a\", len(dfr_a))\n",
    "dfr_a.drop(labels='duration', axis=1, inplace=True)\n",
    "gb_a = dfr_a.groupby([\"curr\", \"BU\", \"period\", \"config\", 'sub_term'], as_index=False).sum()\n"
   ]
  },
  {
   "cell_type": "code",
   "execution_count": 56,
   "metadata": {},
   "outputs": [
    {
     "data": {
      "text/plain": [
       "2744"
      ]
     },
     "execution_count": 56,
     "metadata": {},
     "output_type": "execute_result"
    }
   ],
   "source": [
    "len(gb_a)"
   ]
  },
  {
   "cell_type": "code",
   "execution_count": 58,
   "metadata": {},
   "outputs": [
    {
     "data": {
      "text/html": [
       "<div>\n",
       "<style scoped>\n",
       "    .dataframe tbody tr th:only-of-type {\n",
       "        vertical-align: middle;\n",
       "    }\n",
       "\n",
       "    .dataframe tbody tr th {\n",
       "        vertical-align: top;\n",
       "    }\n",
       "\n",
       "    .dataframe thead th {\n",
       "        text-align: right;\n",
       "    }\n",
       "</style>\n",
       "<table border=\"1\" class=\"dataframe\">\n",
       "  <thead>\n",
       "    <tr style=\"text-align: right;\">\n",
       "      <th></th>\n",
       "      <th>curr</th>\n",
       "      <th>BU</th>\n",
       "      <th>period</th>\n",
       "      <th>config</th>\n",
       "      <th>sub_term</th>\n",
       "      <th>DC_amount</th>\n",
       "      <th>US_amount</th>\n",
       "    </tr>\n",
       "  </thead>\n",
       "  <tbody>\n",
       "    <tr>\n",
       "      <th>0</th>\n",
       "      <td>AUD</td>\n",
       "      <td>Creative</td>\n",
       "      <td>2017-01</td>\n",
       "      <td>1Y</td>\n",
       "      <td>12</td>\n",
       "      <td>52763.75</td>\n",
       "      <td>39147.16</td>\n",
       "    </tr>\n",
       "    <tr>\n",
       "      <th>1</th>\n",
       "      <td>AUD</td>\n",
       "      <td>Creative</td>\n",
       "      <td>2017-01</td>\n",
       "      <td>2Y</td>\n",
       "      <td>0</td>\n",
       "      <td>562.00</td>\n",
       "      <td>417.19</td>\n",
       "    </tr>\n",
       "    <tr>\n",
       "      <th>2</th>\n",
       "      <td>AUD</td>\n",
       "      <td>Creative</td>\n",
       "      <td>2017-01</td>\n",
       "      <td>2Y</td>\n",
       "      <td>12</td>\n",
       "      <td>0.00</td>\n",
       "      <td>0.00</td>\n",
       "    </tr>\n",
       "    <tr>\n",
       "      <th>3</th>\n",
       "      <td>AUD</td>\n",
       "      <td>Creative</td>\n",
       "      <td>2017-02</td>\n",
       "      <td>1Y</td>\n",
       "      <td>0</td>\n",
       "      <td>11438.00</td>\n",
       "      <td>8498.43</td>\n",
       "    </tr>\n",
       "  </tbody>\n",
       "</table>\n",
       "</div>"
      ],
      "text/plain": [
       "  curr        BU   period config  sub_term  DC_amount  US_amount\n",
       "0  AUD  Creative  2017-01     1Y        12   52763.75   39147.16\n",
       "1  AUD  Creative  2017-01     2Y         0     562.00     417.19\n",
       "2  AUD  Creative  2017-01     2Y        12       0.00       0.00\n",
       "3  AUD  Creative  2017-02     1Y         0   11438.00    8498.43"
      ]
     },
     "execution_count": 58,
     "metadata": {},
     "output_type": "execute_result"
    }
   ],
   "source": [
    "gb_a.head(4)\n"
   ]
  },
  {
   "cell_type": "code",
   "execution_count": 59,
   "metadata": {},
   "outputs": [
    {
     "data": {
      "text/plain": [
       "1Y       1757\n",
       "2Y        664\n",
       "OUNIV     112\n",
       "3Y        102\n",
       "MTHLY      82\n",
       "OCONS      14\n",
       "ONORE      13\n",
       "Name: config, dtype: int64"
      ]
     },
     "execution_count": 59,
     "metadata": {},
     "output_type": "execute_result"
    }
   ],
   "source": [
    "gb_a.config.value_counts()"
   ]
  },
  {
   "cell_type": "code",
   "execution_count": 60,
   "metadata": {},
   "outputs": [
    {
     "data": {
      "text/plain": [
       "0     1524\n",
       "12     927\n",
       "1      184\n",
       "36     102\n",
       "24       7\n",
       "Name: sub_term, dtype: int64"
      ]
     },
     "execution_count": 60,
     "metadata": {},
     "output_type": "execute_result"
    }
   ],
   "source": [
    "gb_a.sub_term.value_counts()"
   ]
  },
  {
   "cell_type": "code",
   "execution_count": null,
   "metadata": {},
   "outputs": [],
   "source": []
  }
 ],
 "metadata": {
  "kernelspec": {
   "display_name": "Python 3.7.3 64-bit ('base': conda)",
   "language": "python",
   "name": "python37364bitbasecondaf40c37e8e9dd45c89e043b248b661bde"
  },
  "language_info": {
   "codemirror_mode": {
    "name": "ipython",
    "version": 3
   },
   "file_extension": ".py",
   "mimetype": "text/x-python",
   "name": "python",
   "nbconvert_exporter": "python",
   "pygments_lexer": "ipython3",
   "version": "3.7.3"
  }
 },
 "nbformat": 4,
 "nbformat_minor": 2
}
