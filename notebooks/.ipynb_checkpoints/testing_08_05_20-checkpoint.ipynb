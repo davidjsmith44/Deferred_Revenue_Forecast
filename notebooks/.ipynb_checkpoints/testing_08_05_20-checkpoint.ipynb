{
 "cells": [
  {
   "cell_type": "code",
   "execution_count": 1,
   "metadata": {},
   "outputs": [],
   "source": [
    "import numpy as np\n",
    "import pickle\n",
    "import pandas as pd\n",
    "import matplotlib.pyplot as plt\n",
    "%matplotlib inline\n",
    "\n",
    "plt.style.use(\"ggplot\")\n",
    "\n",
    "import json"
   ]
  },
  {
   "cell_type": "code",
   "execution_count": null,
   "metadata": {},
   "outputs": [],
   "source": [
    "\n",
    "\n"
   ]
  },
  {
   "cell_type": "code",
   "execution_count": 2,
   "metadata": {},
   "outputs": [],
   "source": [
    "df = pd.read_excel('../data/Data_2020_P06/all_billings_inputs_08_20.xlsx',\n",
    "                  sheet_name = 'base_billings')"
   ]
  },
  {
   "cell_type": "code",
   "execution_count": 3,
   "metadata": {},
   "outputs": [
    {
     "name": "stdout",
     "output_type": "stream",
     "text": [
      "df length:  294044\n"
     ]
    }
   ],
   "source": [
    "print('df length: ', len(df))"
   ]
  },
  {
   "cell_type": "code",
   "execution_count": 4,
   "metadata": {},
   "outputs": [],
   "source": [
    "df.rename(\n",
    "        index=str,\n",
    "        columns={\n",
    "            \"Contrct Duration in Months\": \"duration\",\n",
    "            \"Document Currency\": \"curr\",\n",
    "            \"Enterprise BU Desc\": \"BU\",\n",
    "            \"Invoice Fiscal Year Period Desc\": \"period\",\n",
    "            \"POB Type\": \"POB_type\",\n",
    "            \"Product Config Type\": \"config\",\n",
    "            \"Rev Rec Category\": \"rev_req_type\",\n",
    "            \"Rule For Bill Date\": \"rebill_rule\",\n",
    "            \"Sales Document Type\": \"sales_doc\",\n",
    "            \"Sales Type\": \"sales_type\",\n",
    "            \"Subscription Term\": \"sub_term\",\n",
    "            \"Completed Sales ( DC )\": \"DC_amount\",\n",
    "            \"Completed Sales\": \"US_amount\",\n",
    "        },\n",
    "        inplace=True,\n",
    "    )\n"
   ]
  },
  {
   "cell_type": "code",
   "execution_count": 5,
   "metadata": {},
   "outputs": [
    {
     "data": {
      "text/html": [
       "<div>\n",
       "<style scoped>\n",
       "    .dataframe tbody tr th:only-of-type {\n",
       "        vertical-align: middle;\n",
       "    }\n",
       "\n",
       "    .dataframe tbody tr th {\n",
       "        vertical-align: top;\n",
       "    }\n",
       "\n",
       "    .dataframe thead th {\n",
       "        text-align: right;\n",
       "    }\n",
       "</style>\n",
       "<table border=\"1\" class=\"dataframe\">\n",
       "  <thead>\n",
       "    <tr style=\"text-align: right;\">\n",
       "      <th></th>\n",
       "      <th>duration</th>\n",
       "      <th>curr</th>\n",
       "      <th>BU</th>\n",
       "      <th>period</th>\n",
       "      <th>POB_type</th>\n",
       "      <th>config</th>\n",
       "      <th>rev_req_type</th>\n",
       "      <th>rebill_rule</th>\n",
       "      <th>sales_doc</th>\n",
       "      <th>sales_type</th>\n",
       "      <th>sub_term</th>\n",
       "      <th>DC_amount</th>\n",
       "      <th>US_amount</th>\n",
       "    </tr>\n",
       "  </thead>\n",
       "  <tbody>\n",
       "    <tr>\n",
       "      <th>0</th>\n",
       "      <td>0</td>\n",
       "      <td>AUD</td>\n",
       "      <td>Experience Cloud</td>\n",
       "      <td>2017-01</td>\n",
       "      <td>NaN</td>\n",
       "      <td>OCONS</td>\n",
       "      <td>NaN</td>\n",
       "      <td>NaN</td>\n",
       "      <td>ZCC</td>\n",
       "      <td>PRO-SVC-INV</td>\n",
       "      <td>0</td>\n",
       "      <td>375.0</td>\n",
       "      <td>278.01</td>\n",
       "    </tr>\n",
       "    <tr>\n",
       "      <th>1</th>\n",
       "      <td>0</td>\n",
       "      <td>AUD</td>\n",
       "      <td>Experience Cloud</td>\n",
       "      <td>2017-01</td>\n",
       "      <td>NaN</td>\n",
       "      <td>ONORE</td>\n",
       "      <td>NaN</td>\n",
       "      <td>NaN</td>\n",
       "      <td>ZCC</td>\n",
       "      <td>RECOGNIZED</td>\n",
       "      <td>0</td>\n",
       "      <td>0.0</td>\n",
       "      <td>45.75</td>\n",
       "    </tr>\n",
       "    <tr>\n",
       "      <th>2</th>\n",
       "      <td>0</td>\n",
       "      <td>AUD</td>\n",
       "      <td>Experience Cloud</td>\n",
       "      <td>2017-01</td>\n",
       "      <td>NaN</td>\n",
       "      <td>ONORE</td>\n",
       "      <td>D</td>\n",
       "      <td>YA</td>\n",
       "      <td>ZCC</td>\n",
       "      <td>DEFERRED</td>\n",
       "      <td>0</td>\n",
       "      <td>-684738.0</td>\n",
       "      <td>-512177.81</td>\n",
       "    </tr>\n",
       "  </tbody>\n",
       "</table>\n",
       "</div>"
      ],
      "text/plain": [
       "   duration curr                BU   period POB_type config rev_req_type  \\\n",
       "0         0  AUD  Experience Cloud  2017-01      NaN  OCONS          NaN   \n",
       "1         0  AUD  Experience Cloud  2017-01      NaN  ONORE          NaN   \n",
       "2         0  AUD  Experience Cloud  2017-01      NaN  ONORE            D   \n",
       "\n",
       "  rebill_rule sales_doc   sales_type  sub_term  DC_amount  US_amount  \n",
       "0         NaN       ZCC  PRO-SVC-INV         0      375.0     278.01  \n",
       "1         NaN       ZCC   RECOGNIZED         0        0.0      45.75  \n",
       "2          YA       ZCC     DEFERRED         0  -684738.0 -512177.81  "
      ]
     },
     "execution_count": 5,
     "metadata": {},
     "output_type": "execute_result"
    }
   ],
   "source": [
    "df.head(3)"
   ]
  },
  {
   "cell_type": "code",
   "execution_count": 6,
   "metadata": {},
   "outputs": [],
   "source": [
    "vc = df[\"curr\"].value_counts()\n",
    "keep_these = vc.values > 20\n",
    "keep_curr = vc[keep_these]\n",
    "list_keepers = keep_curr.index\n",
    "remove_these = vc[vc.values <= 20].index\n",
    "model_dict = {\"curr_removed\": list(vc[remove_these].index)}\n",
    "delete_curr = list(remove_these)\n",
    "\n",
    "if \"TRY\" not in model_dict[\"curr_removed\"]:\n",
    "    model_dict[\"curr_removed\"].append(\"TRY\")\n",
    "    delete_curr.append(\"TRY\")\n",
    "    list_keepers = list_keepers.drop(\"TRY\")\n",
    "\n",
    "df = df[df[\"curr\"].isin(list_keepers)]"
   ]
  },
  {
   "cell_type": "code",
   "execution_count": 7,
   "metadata": {},
   "outputs": [
    {
     "name": "stdout",
     "output_type": "stream",
     "text": [
      "293832\n",
      "286744\n"
     ]
    }
   ],
   "source": [
    "print(len(df))\n",
    "df = df[df[\"DC_amount\"] != 0]\n",
    "print(len(df))"
   ]
  },
  {
   "cell_type": "code",
   "execution_count": 8,
   "metadata": {},
   "outputs": [
    {
     "data": {
      "text/plain": [
       "{'curr_removed': ['BHD',\n",
       "  'JOD',\n",
       "  'EGP',\n",
       "  'OMR',\n",
       "  'LBP',\n",
       "  'BMD',\n",
       "  'AED',\n",
       "  'MXP',\n",
       "  'TRY']}"
      ]
     },
     "execution_count": 8,
     "metadata": {},
     "output_type": "execute_result"
    }
   ],
   "source": [
    "model_dict"
   ]
  },
  {
   "cell_type": "code",
   "execution_count": 9,
   "metadata": {},
   "outputs": [
    {
     "data": {
      "text/plain": [
       "NaN      192219\n",
       "RR        73256\n",
       "IR-NA      7424\n",
       "IR         4819\n",
       "BNDL       3604\n",
       "CR         2956\n",
       "RR-NA      2308\n",
       "CR-NA       102\n",
       "LFB          56\n",
       "Name: POB_type, dtype: int64"
      ]
     },
     "execution_count": 9,
     "metadata": {},
     "output_type": "execute_result"
    }
   ],
   "source": [
    "df['POB_type'].value_counts(dropna=False)"
   ]
  },
  {
   "cell_type": "markdown",
   "metadata": {},
   "source": [
    "## Grouping by POB Type\n",
    "\n",
    "The new 606 has everything grouped by sales type. There are blanks\n",
    "We need to separate into groups based on the POB type\n"
   ]
  },
  {
   "cell_type": "code",
   "execution_count": 25,
   "metadata": {},
   "outputs": [
    {
     "name": "stdout",
     "output_type": "stream",
     "text": [
      "['IR', 'IR-NA', 'LFB', 'CR', 'CR-NA', 'RR', 'RR-NA', 'BNDL']\n"
     ]
    }
   ],
   "source": [
    "list_IR = ['IR', 'IR-NA', 'LFB']\n",
    "list_service = ['CR', 'CR-NA']\n",
    "list_deferred = ['RR', 'RR-NA']\n",
    "list_hybrid = ['BNDL']\n",
    "\n",
    "list_all = list_IR + list_service + list_deferred + list_hybrid\n",
    "print(list_all)"
   ]
  },
  {
   "cell_type": "code",
   "execution_count": 33,
   "metadata": {},
   "outputs": [],
   "source": [
    "rec = df[df[\"POB_type\"].isin(list_IR)].copy()\n",
    "svc = df[df[\"POB_type\"].isin(list_service)].copy()\n",
    "dfr = df[df[\"POB_type\"].isin(list_deferred)].copy()\n",
    "hyb = df[df[\"POB_type\"].isin(list_hybrid)].copy()\n",
    "blank = df[~df[\"POB_type\"].isin(list_all)].copy()"
   ]
  },
  {
   "cell_type": "code",
   "execution_count": 34,
   "metadata": {},
   "outputs": [
    {
     "name": "stdout",
     "output_type": "stream",
     "text": [
      "rec 12299\n",
      "svc 3058\n",
      "dfr 75564\n",
      "hyb 3604\n",
      "blank 192219\n",
      "ALL 286744\n"
     ]
    }
   ],
   "source": [
    "print('rec', len(rec))\n",
    "print('svc', len(svc))\n",
    "print('dfr', len(dfr))\n",
    "print('hyb', len(hyb))\n",
    "print('blank', len(blank))\n",
    "print('ALL', len(df))"
   ]
  },
  {
   "cell_type": "code",
   "execution_count": 35,
   "metadata": {},
   "outputs": [
    {
     "data": {
      "text/plain": [
       "286744"
      ]
     },
     "execution_count": 35,
     "metadata": {},
     "output_type": "execute_result"
    }
   ],
   "source": [
    "len(rec)+len(svc)+ len(dfr)+ len(blank)+len(hyb)"
   ]
  },
  {
   "cell_type": "code",
   "execution_count": 36,
   "metadata": {},
   "outputs": [],
   "source": [
    "gb_rec = rec.groupby([\"curr\", \"BU\", \"period\"], as_index=False).sum()"
   ]
  },
  {
   "cell_type": "code",
   "execution_count": 37,
   "metadata": {},
   "outputs": [],
   "source": [
    "gb_rec.drop(labels=[\"duration\", \"sub_term\"] , axis=1, inplace=True)"
   ]
  },
  {
   "cell_type": "code",
   "execution_count": 38,
   "metadata": {},
   "outputs": [
    {
     "data": {
      "text/html": [
       "<div>\n",
       "<style scoped>\n",
       "    .dataframe tbody tr th:only-of-type {\n",
       "        vertical-align: middle;\n",
       "    }\n",
       "\n",
       "    .dataframe tbody tr th {\n",
       "        vertical-align: top;\n",
       "    }\n",
       "\n",
       "    .dataframe thead th {\n",
       "        text-align: right;\n",
       "    }\n",
       "</style>\n",
       "<table border=\"1\" class=\"dataframe\">\n",
       "  <thead>\n",
       "    <tr style=\"text-align: right;\">\n",
       "      <th></th>\n",
       "      <th>curr</th>\n",
       "      <th>BU</th>\n",
       "      <th>period</th>\n",
       "      <th>DC_amount</th>\n",
       "      <th>US_amount</th>\n",
       "    </tr>\n",
       "  </thead>\n",
       "  <tbody>\n",
       "    <tr>\n",
       "      <th>0</th>\n",
       "      <td>ARS</td>\n",
       "      <td>Creative</td>\n",
       "      <td>2019-07</td>\n",
       "      <td>6786.00</td>\n",
       "      <td>155.12</td>\n",
       "    </tr>\n",
       "    <tr>\n",
       "      <th>1</th>\n",
       "      <td>ARS</td>\n",
       "      <td>Creative</td>\n",
       "      <td>2019-08</td>\n",
       "      <td>16472.00</td>\n",
       "      <td>390.02</td>\n",
       "    </tr>\n",
       "    <tr>\n",
       "      <th>2</th>\n",
       "      <td>ARS</td>\n",
       "      <td>Creative</td>\n",
       "      <td>2019-09</td>\n",
       "      <td>19205.00</td>\n",
       "      <td>405.51</td>\n",
       "    </tr>\n",
       "    <tr>\n",
       "      <th>3</th>\n",
       "      <td>ARS</td>\n",
       "      <td>Creative</td>\n",
       "      <td>2019-10</td>\n",
       "      <td>30382.19</td>\n",
       "      <td>532.13</td>\n",
       "    </tr>\n",
       "    <tr>\n",
       "      <th>4</th>\n",
       "      <td>ARS</td>\n",
       "      <td>Creative</td>\n",
       "      <td>2019-11</td>\n",
       "      <td>59049.00</td>\n",
       "      <td>1023.67</td>\n",
       "    </tr>\n",
       "    <tr>\n",
       "      <th>...</th>\n",
       "      <td>...</td>\n",
       "      <td>...</td>\n",
       "      <td>...</td>\n",
       "      <td>...</td>\n",
       "      <td>...</td>\n",
       "    </tr>\n",
       "    <tr>\n",
       "      <th>1398</th>\n",
       "      <td>USD</td>\n",
       "      <td>Print &amp; Publishing</td>\n",
       "      <td>2020-02</td>\n",
       "      <td>6806243.20</td>\n",
       "      <td>6806243.20</td>\n",
       "    </tr>\n",
       "    <tr>\n",
       "      <th>1399</th>\n",
       "      <td>USD</td>\n",
       "      <td>Print &amp; Publishing</td>\n",
       "      <td>2020-03</td>\n",
       "      <td>6369245.97</td>\n",
       "      <td>6369245.97</td>\n",
       "    </tr>\n",
       "    <tr>\n",
       "      <th>1400</th>\n",
       "      <td>USD</td>\n",
       "      <td>Print &amp; Publishing</td>\n",
       "      <td>2020-04</td>\n",
       "      <td>684593.15</td>\n",
       "      <td>684593.15</td>\n",
       "    </tr>\n",
       "    <tr>\n",
       "      <th>1401</th>\n",
       "      <td>USD</td>\n",
       "      <td>Print &amp; Publishing</td>\n",
       "      <td>2020-05</td>\n",
       "      <td>1656955.97</td>\n",
       "      <td>1656955.97</td>\n",
       "    </tr>\n",
       "    <tr>\n",
       "      <th>1402</th>\n",
       "      <td>USD</td>\n",
       "      <td>Print &amp; Publishing</td>\n",
       "      <td>2020-06</td>\n",
       "      <td>10336697.21</td>\n",
       "      <td>10336697.21</td>\n",
       "    </tr>\n",
       "  </tbody>\n",
       "</table>\n",
       "<p>1403 rows × 5 columns</p>\n",
       "</div>"
      ],
      "text/plain": [
       "     curr                  BU   period    DC_amount    US_amount\n",
       "0     ARS            Creative  2019-07      6786.00       155.12\n",
       "1     ARS            Creative  2019-08     16472.00       390.02\n",
       "2     ARS            Creative  2019-09     19205.00       405.51\n",
       "3     ARS            Creative  2019-10     30382.19       532.13\n",
       "4     ARS            Creative  2019-11     59049.00      1023.67\n",
       "...   ...                 ...      ...          ...          ...\n",
       "1398  USD  Print & Publishing  2020-02   6806243.20   6806243.20\n",
       "1399  USD  Print & Publishing  2020-03   6369245.97   6369245.97\n",
       "1400  USD  Print & Publishing  2020-04    684593.15    684593.15\n",
       "1401  USD  Print & Publishing  2020-05   1656955.97   1656955.97\n",
       "1402  USD  Print & Publishing  2020-06  10336697.21  10336697.21\n",
       "\n",
       "[1403 rows x 5 columns]"
      ]
     },
     "execution_count": 38,
     "metadata": {},
     "output_type": "execute_result"
    }
   ],
   "source": [
    "gb_rec"
   ]
  },
  {
   "cell_type": "code",
   "execution_count": 39,
   "metadata": {},
   "outputs": [],
   "source": [
    "gb_svc = svc.groupby([\"curr\", \"BU\", \"period\"], as_index=False).sum()"
   ]
  },
  {
   "cell_type": "code",
   "execution_count": 40,
   "metadata": {},
   "outputs": [
    {
     "data": {
      "text/html": [
       "<div>\n",
       "<style scoped>\n",
       "    .dataframe tbody tr th:only-of-type {\n",
       "        vertical-align: middle;\n",
       "    }\n",
       "\n",
       "    .dataframe tbody tr th {\n",
       "        vertical-align: top;\n",
       "    }\n",
       "\n",
       "    .dataframe thead th {\n",
       "        text-align: right;\n",
       "    }\n",
       "</style>\n",
       "<table border=\"1\" class=\"dataframe\">\n",
       "  <thead>\n",
       "    <tr style=\"text-align: right;\">\n",
       "      <th></th>\n",
       "      <th>curr</th>\n",
       "      <th>BU</th>\n",
       "      <th>period</th>\n",
       "      <th>DC_amount</th>\n",
       "      <th>US_amount</th>\n",
       "    </tr>\n",
       "  </thead>\n",
       "  <tbody>\n",
       "    <tr>\n",
       "      <th>0</th>\n",
       "      <td>AUD</td>\n",
       "      <td>Creative</td>\n",
       "      <td>2017-10</td>\n",
       "      <td>8544.00</td>\n",
       "      <td>6837.59</td>\n",
       "    </tr>\n",
       "    <tr>\n",
       "      <th>1</th>\n",
       "      <td>AUD</td>\n",
       "      <td>Creative</td>\n",
       "      <td>2019-01</td>\n",
       "      <td>8472.55</td>\n",
       "      <td>6135.45</td>\n",
       "    </tr>\n",
       "    <tr>\n",
       "      <th>2</th>\n",
       "      <td>AUD</td>\n",
       "      <td>Creative</td>\n",
       "      <td>2019-02</td>\n",
       "      <td>3635.13</td>\n",
       "      <td>2587.61</td>\n",
       "    </tr>\n",
       "    <tr>\n",
       "      <th>3</th>\n",
       "      <td>AUD</td>\n",
       "      <td>Creative</td>\n",
       "      <td>2019-03</td>\n",
       "      <td>10437.33</td>\n",
       "      <td>7531.36</td>\n",
       "    </tr>\n",
       "    <tr>\n",
       "      <th>4</th>\n",
       "      <td>AUD</td>\n",
       "      <td>Creative</td>\n",
       "      <td>2019-04</td>\n",
       "      <td>6914.89</td>\n",
       "      <td>4896.03</td>\n",
       "    </tr>\n",
       "    <tr>\n",
       "      <th>...</th>\n",
       "      <td>...</td>\n",
       "      <td>...</td>\n",
       "      <td>...</td>\n",
       "      <td>...</td>\n",
       "      <td>...</td>\n",
       "    </tr>\n",
       "    <tr>\n",
       "      <th>576</th>\n",
       "      <td>USD</td>\n",
       "      <td>Print &amp; Publishing</td>\n",
       "      <td>2019-12</td>\n",
       "      <td>70834.00</td>\n",
       "      <td>70834.00</td>\n",
       "    </tr>\n",
       "    <tr>\n",
       "      <th>577</th>\n",
       "      <td>USD</td>\n",
       "      <td>Print &amp; Publishing</td>\n",
       "      <td>2020-01</td>\n",
       "      <td>35000.00</td>\n",
       "      <td>35000.00</td>\n",
       "    </tr>\n",
       "    <tr>\n",
       "      <th>578</th>\n",
       "      <td>USD</td>\n",
       "      <td>Print &amp; Publishing</td>\n",
       "      <td>2020-02</td>\n",
       "      <td>33333.00</td>\n",
       "      <td>33333.00</td>\n",
       "    </tr>\n",
       "    <tr>\n",
       "      <th>579</th>\n",
       "      <td>USD</td>\n",
       "      <td>Print &amp; Publishing</td>\n",
       "      <td>2020-04</td>\n",
       "      <td>33333.00</td>\n",
       "      <td>33333.00</td>\n",
       "    </tr>\n",
       "    <tr>\n",
       "      <th>580</th>\n",
       "      <td>USD</td>\n",
       "      <td>Print &amp; Publishing</td>\n",
       "      <td>2020-06</td>\n",
       "      <td>50000.00</td>\n",
       "      <td>50000.00</td>\n",
       "    </tr>\n",
       "  </tbody>\n",
       "</table>\n",
       "<p>581 rows × 5 columns</p>\n",
       "</div>"
      ],
      "text/plain": [
       "    curr                  BU   period  DC_amount  US_amount\n",
       "0    AUD            Creative  2017-10    8544.00    6837.59\n",
       "1    AUD            Creative  2019-01    8472.55    6135.45\n",
       "2    AUD            Creative  2019-02    3635.13    2587.61\n",
       "3    AUD            Creative  2019-03   10437.33    7531.36\n",
       "4    AUD            Creative  2019-04    6914.89    4896.03\n",
       "..   ...                 ...      ...        ...        ...\n",
       "576  USD  Print & Publishing  2019-12   70834.00   70834.00\n",
       "577  USD  Print & Publishing  2020-01   35000.00   35000.00\n",
       "578  USD  Print & Publishing  2020-02   33333.00   33333.00\n",
       "579  USD  Print & Publishing  2020-04   33333.00   33333.00\n",
       "580  USD  Print & Publishing  2020-06   50000.00   50000.00\n",
       "\n",
       "[581 rows x 5 columns]"
      ]
     },
     "execution_count": 40,
     "metadata": {},
     "output_type": "execute_result"
    }
   ],
   "source": [
    "gb_svc.drop(labels=[\"sub_term\", \"duration\"] , axis=1, inplace=True)\n",
    "\n",
    "gb_svc"
   ]
  },
  {
   "cell_type": "code",
   "execution_count": 41,
   "metadata": {},
   "outputs": [
    {
     "data": {
      "text/html": [
       "<div>\n",
       "<style scoped>\n",
       "    .dataframe tbody tr th:only-of-type {\n",
       "        vertical-align: middle;\n",
       "    }\n",
       "\n",
       "    .dataframe tbody tr th {\n",
       "        vertical-align: top;\n",
       "    }\n",
       "\n",
       "    .dataframe thead th {\n",
       "        text-align: right;\n",
       "    }\n",
       "</style>\n",
       "<table border=\"1\" class=\"dataframe\">\n",
       "  <thead>\n",
       "    <tr style=\"text-align: right;\">\n",
       "      <th></th>\n",
       "      <th>curr</th>\n",
       "      <th>BU</th>\n",
       "      <th>period</th>\n",
       "      <th>DC_amount</th>\n",
       "      <th>US_amount</th>\n",
       "    </tr>\n",
       "  </thead>\n",
       "  <tbody>\n",
       "    <tr>\n",
       "      <th>0</th>\n",
       "      <td>AUD</td>\n",
       "      <td>Creative</td>\n",
       "      <td>2017-10</td>\n",
       "      <td>8544.00</td>\n",
       "      <td>6837.59</td>\n",
       "    </tr>\n",
       "    <tr>\n",
       "      <th>1</th>\n",
       "      <td>AUD</td>\n",
       "      <td>Creative</td>\n",
       "      <td>2019-01</td>\n",
       "      <td>8472.55</td>\n",
       "      <td>6135.45</td>\n",
       "    </tr>\n",
       "    <tr>\n",
       "      <th>2</th>\n",
       "      <td>AUD</td>\n",
       "      <td>Creative</td>\n",
       "      <td>2019-02</td>\n",
       "      <td>3635.13</td>\n",
       "      <td>2587.61</td>\n",
       "    </tr>\n",
       "    <tr>\n",
       "      <th>3</th>\n",
       "      <td>AUD</td>\n",
       "      <td>Creative</td>\n",
       "      <td>2019-03</td>\n",
       "      <td>10437.33</td>\n",
       "      <td>7531.36</td>\n",
       "    </tr>\n",
       "  </tbody>\n",
       "</table>\n",
       "</div>"
      ],
      "text/plain": [
       "  curr        BU   period  DC_amount  US_amount\n",
       "0  AUD  Creative  2017-10    8544.00    6837.59\n",
       "1  AUD  Creative  2019-01    8472.55    6135.45\n",
       "2  AUD  Creative  2019-02    3635.13    2587.61\n",
       "3  AUD  Creative  2019-03   10437.33    7531.36"
      ]
     },
     "execution_count": 41,
     "metadata": {},
     "output_type": "execute_result"
    }
   ],
   "source": [
    "gb_svc.head(4)"
   ]
  },
  {
   "cell_type": "markdown",
   "metadata": {},
   "source": [
    "# Deferred billings\n",
    "## Type B Service based/"
   ]
  },
  {
   "cell_type": "code",
   "execution_count": 42,
   "metadata": {},
   "outputs": [],
   "source": [
    "dfr_b = dfr[dfr[\"rev_req_type\"] == \"B\"].copy()"
   ]
  },
  {
   "cell_type": "code",
   "execution_count": 43,
   "metadata": {},
   "outputs": [
    {
     "name": "stdout",
     "output_type": "stream",
     "text": [
      "75564\n",
      "0\n"
     ]
    }
   ],
   "source": [
    "print(len(dfr))\n",
    "print(len(dfr_b))"
   ]
  },
  {
   "cell_type": "code",
   "execution_count": 44,
   "metadata": {},
   "outputs": [
    {
     "data": {
      "text/html": [
       "<div>\n",
       "<style scoped>\n",
       "    .dataframe tbody tr th:only-of-type {\n",
       "        vertical-align: middle;\n",
       "    }\n",
       "\n",
       "    .dataframe tbody tr th {\n",
       "        vertical-align: top;\n",
       "    }\n",
       "\n",
       "    .dataframe thead th {\n",
       "        text-align: right;\n",
       "    }\n",
       "</style>\n",
       "<table border=\"1\" class=\"dataframe\">\n",
       "  <thead>\n",
       "    <tr style=\"text-align: right;\">\n",
       "      <th></th>\n",
       "      <th>duration</th>\n",
       "      <th>curr</th>\n",
       "      <th>BU</th>\n",
       "      <th>period</th>\n",
       "      <th>POB_type</th>\n",
       "      <th>config</th>\n",
       "      <th>rev_req_type</th>\n",
       "      <th>rebill_rule</th>\n",
       "      <th>sales_doc</th>\n",
       "      <th>sales_type</th>\n",
       "      <th>sub_term</th>\n",
       "      <th>DC_amount</th>\n",
       "      <th>US_amount</th>\n",
       "    </tr>\n",
       "  </thead>\n",
       "  <tbody>\n",
       "    <tr>\n",
       "      <th>15</th>\n",
       "      <td>0</td>\n",
       "      <td>EUR</td>\n",
       "      <td>Experience Cloud</td>\n",
       "      <td>2017-01</td>\n",
       "      <td>RR</td>\n",
       "      <td>ONORE</td>\n",
       "      <td>D</td>\n",
       "      <td>YA</td>\n",
       "      <td>ZCC</td>\n",
       "      <td>DEFERRED</td>\n",
       "      <td>0</td>\n",
       "      <td>117600.00</td>\n",
       "      <td>123853.97</td>\n",
       "    </tr>\n",
       "    <tr>\n",
       "      <th>47</th>\n",
       "      <td>1</td>\n",
       "      <td>EUR</td>\n",
       "      <td>Experience Cloud</td>\n",
       "      <td>2017-01</td>\n",
       "      <td>RR</td>\n",
       "      <td>ONORE</td>\n",
       "      <td>D</td>\n",
       "      <td>YA</td>\n",
       "      <td>ZCC</td>\n",
       "      <td>DEFERRED</td>\n",
       "      <td>0</td>\n",
       "      <td>399.00</td>\n",
       "      <td>426.24</td>\n",
       "    </tr>\n",
       "    <tr>\n",
       "      <th>48</th>\n",
       "      <td>1</td>\n",
       "      <td>JPY</td>\n",
       "      <td>Experience Cloud</td>\n",
       "      <td>2017-01</td>\n",
       "      <td>RR</td>\n",
       "      <td>ONORE</td>\n",
       "      <td>D</td>\n",
       "      <td>YA</td>\n",
       "      <td>ZCC</td>\n",
       "      <td>DEFERRED</td>\n",
       "      <td>0</td>\n",
       "      <td>72772.00</td>\n",
       "      <td>637.48</td>\n",
       "    </tr>\n",
       "    <tr>\n",
       "      <th>55</th>\n",
       "      <td>1</td>\n",
       "      <td>USD</td>\n",
       "      <td>Experience Cloud</td>\n",
       "      <td>2017-01</td>\n",
       "      <td>RR</td>\n",
       "      <td>ONORE</td>\n",
       "      <td>D</td>\n",
       "      <td>Y1</td>\n",
       "      <td>ZCC</td>\n",
       "      <td>DEFERRED</td>\n",
       "      <td>0</td>\n",
       "      <td>1232.50</td>\n",
       "      <td>1232.50</td>\n",
       "    </tr>\n",
       "    <tr>\n",
       "      <th>56</th>\n",
       "      <td>1</td>\n",
       "      <td>USD</td>\n",
       "      <td>Experience Cloud</td>\n",
       "      <td>2017-01</td>\n",
       "      <td>RR</td>\n",
       "      <td>ONORE</td>\n",
       "      <td>D</td>\n",
       "      <td>YA</td>\n",
       "      <td>ZCC</td>\n",
       "      <td>DEFERRED</td>\n",
       "      <td>0</td>\n",
       "      <td>18094.74</td>\n",
       "      <td>18094.74</td>\n",
       "    </tr>\n",
       "    <tr>\n",
       "      <th>57</th>\n",
       "      <td>1</td>\n",
       "      <td>USD</td>\n",
       "      <td>Experience Cloud</td>\n",
       "      <td>2017-01</td>\n",
       "      <td>RR</td>\n",
       "      <td>ONORE</td>\n",
       "      <td>D</td>\n",
       "      <td>YQ</td>\n",
       "      <td>ZCC</td>\n",
       "      <td>DEFERRED</td>\n",
       "      <td>0</td>\n",
       "      <td>4064.52</td>\n",
       "      <td>4064.52</td>\n",
       "    </tr>\n",
       "    <tr>\n",
       "      <th>60</th>\n",
       "      <td>2</td>\n",
       "      <td>EUR</td>\n",
       "      <td>Experience Cloud</td>\n",
       "      <td>2017-01</td>\n",
       "      <td>RR</td>\n",
       "      <td>ONORE</td>\n",
       "      <td>D</td>\n",
       "      <td>YA</td>\n",
       "      <td>ZCC</td>\n",
       "      <td>DEFERRED</td>\n",
       "      <td>0</td>\n",
       "      <td>19485.90</td>\n",
       "      <td>20724.03</td>\n",
       "    </tr>\n",
       "    <tr>\n",
       "      <th>65</th>\n",
       "      <td>2</td>\n",
       "      <td>USD</td>\n",
       "      <td>Experience Cloud</td>\n",
       "      <td>2017-01</td>\n",
       "      <td>RR</td>\n",
       "      <td>ONORE</td>\n",
       "      <td>D</td>\n",
       "      <td>YA</td>\n",
       "      <td>ZCC</td>\n",
       "      <td>DEFERRED</td>\n",
       "      <td>0</td>\n",
       "      <td>13850.00</td>\n",
       "      <td>13850.00</td>\n",
       "    </tr>\n",
       "    <tr>\n",
       "      <th>69</th>\n",
       "      <td>3</td>\n",
       "      <td>CAD</td>\n",
       "      <td>Experience Cloud</td>\n",
       "      <td>2017-01</td>\n",
       "      <td>RR</td>\n",
       "      <td>ONORE</td>\n",
       "      <td>D</td>\n",
       "      <td>YQ</td>\n",
       "      <td>ZCC</td>\n",
       "      <td>DEFERRED</td>\n",
       "      <td>0</td>\n",
       "      <td>78810.00</td>\n",
       "      <td>58634.64</td>\n",
       "    </tr>\n",
       "    <tr>\n",
       "      <th>74</th>\n",
       "      <td>3</td>\n",
       "      <td>EUR</td>\n",
       "      <td>Experience Cloud</td>\n",
       "      <td>2017-01</td>\n",
       "      <td>RR</td>\n",
       "      <td>ONORE</td>\n",
       "      <td>D</td>\n",
       "      <td>YA</td>\n",
       "      <td>ZCC</td>\n",
       "      <td>DEFERRED</td>\n",
       "      <td>0</td>\n",
       "      <td>79251.79</td>\n",
       "      <td>84287.45</td>\n",
       "    </tr>\n",
       "  </tbody>\n",
       "</table>\n",
       "</div>"
      ],
      "text/plain": [
       "    duration curr                BU   period POB_type config rev_req_type  \\\n",
       "15         0  EUR  Experience Cloud  2017-01       RR  ONORE            D   \n",
       "47         1  EUR  Experience Cloud  2017-01       RR  ONORE            D   \n",
       "48         1  JPY  Experience Cloud  2017-01       RR  ONORE            D   \n",
       "55         1  USD  Experience Cloud  2017-01       RR  ONORE            D   \n",
       "56         1  USD  Experience Cloud  2017-01       RR  ONORE            D   \n",
       "57         1  USD  Experience Cloud  2017-01       RR  ONORE            D   \n",
       "60         2  EUR  Experience Cloud  2017-01       RR  ONORE            D   \n",
       "65         2  USD  Experience Cloud  2017-01       RR  ONORE            D   \n",
       "69         3  CAD  Experience Cloud  2017-01       RR  ONORE            D   \n",
       "74         3  EUR  Experience Cloud  2017-01       RR  ONORE            D   \n",
       "\n",
       "   rebill_rule sales_doc sales_type  sub_term  DC_amount  US_amount  \n",
       "15          YA       ZCC   DEFERRED         0  117600.00  123853.97  \n",
       "47          YA       ZCC   DEFERRED         0     399.00     426.24  \n",
       "48          YA       ZCC   DEFERRED         0   72772.00     637.48  \n",
       "55          Y1       ZCC   DEFERRED         0    1232.50    1232.50  \n",
       "56          YA       ZCC   DEFERRED         0   18094.74   18094.74  \n",
       "57          YQ       ZCC   DEFERRED         0    4064.52    4064.52  \n",
       "60          YA       ZCC   DEFERRED         0   19485.90   20724.03  \n",
       "65          YA       ZCC   DEFERRED         0   13850.00   13850.00  \n",
       "69          YQ       ZCC   DEFERRED         0   78810.00   58634.64  \n",
       "74          YA       ZCC   DEFERRED         0   79251.79   84287.45  "
      ]
     },
     "execution_count": 44,
     "metadata": {},
     "output_type": "execute_result"
    }
   ],
   "source": [
    "dfr.head(10)"
   ]
  },
  {
   "cell_type": "code",
   "execution_count": 45,
   "metadata": {},
   "outputs": [
    {
     "data": {
      "text/plain": [
       "D      51470\n",
       "A      23504\n",
       "NaN      590\n",
       "Name: rev_req_type, dtype: int64"
      ]
     },
     "execution_count": 45,
     "metadata": {},
     "output_type": "execute_result"
    }
   ],
   "source": [
    "dfr.rev_req_type.value_counts(dropna=False)"
   ]
  },
  {
   "cell_type": "markdown",
   "metadata": {},
   "source": [
    "## Type A Deferred billings\n",
    "\n",
    "### First sort by config type\n",
    "\n",
    "### Then use sub term"
   ]
  },
  {
   "cell_type": "code",
   "execution_count": null,
   "metadata": {},
   "outputs": [],
   "source": [
    "dfr_a = dfr[dfr[\"rev_req_type\"] == \"A\"].copy()\n",
    "print(\"length of dfr_a\", len(dfr_a))\n",
    "dfr_a.drop(labels='duration', axis=1, inplace=True)\n",
    "gb_a = dfr_a.groupby([\"curr\", \"BU\", \"period\", \"config\", 'sub_term'], as_index=False).sum()\n"
   ]
  },
  {
   "cell_type": "code",
   "execution_count": null,
   "metadata": {},
   "outputs": [],
   "source": [
    "len(gb_a)"
   ]
  },
  {
   "cell_type": "code",
   "execution_count": null,
   "metadata": {},
   "outputs": [],
   "source": [
    "gb_a.head(4)\n"
   ]
  },
  {
   "cell_type": "code",
   "execution_count": null,
   "metadata": {},
   "outputs": [],
   "source": [
    "gb_a.config.value_counts(dropna=False)"
   ]
  },
  {
   "cell_type": "code",
   "execution_count": null,
   "metadata": {},
   "outputs": [],
   "source": [
    "gb_a.sub_term.value_counts(dropna=False)"
   ]
  },
  {
   "cell_type": "code",
   "execution_count": null,
   "metadata": {},
   "outputs": [],
   "source": [
    "config_type_keepers = ['MTHLY', '1Y', '2Y', '3Y']\n"
   ]
  },
  {
   "cell_type": "code",
   "execution_count": null,
   "metadata": {},
   "outputs": [],
   "source": [
    "gb_a_keepers = gb_a[gb_a[\"config\"].isin(config_type_keepers)].copy()\n",
    "a_bad_config = gb_a[~gb_a[\"config\"].isin(config_type_keepers)].copy()"
   ]
  },
  {
   "cell_type": "code",
   "execution_count": null,
   "metadata": {},
   "outputs": [],
   "source": [
    "print('len gb_a', len(gb_a))\n",
    "print('gb_a_keepers', len(gb_a_keepers))\n",
    "print('len a_blank_config', len(a_bad_config))\n"
   ]
  },
  {
   "cell_type": "code",
   "execution_count": null,
   "metadata": {},
   "outputs": [],
   "source": [
    "gb_a_keepers['config'].value_counts(dropna=False)"
   ]
  },
  {
   "cell_type": "code",
   "execution_count": null,
   "metadata": {},
   "outputs": [],
   "source": [
    "gb_a_keepers['sub_term'].value_counts(dropna=False)"
   ]
  },
  {
   "cell_type": "code",
   "execution_count": null,
   "metadata": {},
   "outputs": [],
   "source": [
    "gb_a_keepers.head(10)"
   ]
  },
  {
   "cell_type": "code",
   "execution_count": null,
   "metadata": {},
   "outputs": [],
   "source": [
    "print('Total USD Equivalent Billings of Type A with bad configs', \n",
    "      a_bad_config.US_amount.sum())"
   ]
  },
  {
   "cell_type": "markdown",
   "metadata": {},
   "source": [
    "## For the type A billings that we can use, we need to split them apart by sub_term and config\n",
    "If subterm == 0, then we use the config period. (Assuming these are PUP?)\n",
    "\n",
    "Otherwise, 12 = annual, 24 = two years, 36 = 3 years\n",
    "\n",
    "Old code has these as gb_a_1M, gb_a_1Y, gb_a_2Y, gb_a_3Y\n",
    "\n",
    "Here we will pull out the types from the gb_a_keepers dataframe into a new dataframe and then delete these old records from the gb_a_keepers dataframe"
   ]
  },
  {
   "cell_type": "code",
   "execution_count": null,
   "metadata": {},
   "outputs": [],
   "source": [
    "print('start length', len(gb_a_keepers))\n",
    "df_1M = gb_a_keepers[(gb_a_keepers['config']=='MTHLY') |\n",
    "                       (gb_a_keepers['sub_term']==1)].copy()\n",
    "\n",
    "index_1M = df_1M.index\n",
    "\n",
    "\n",
    "gb_a_keepers.drop(index_1M, inplace=True)\n",
    "\n",
    "print(df_1M.head(10))\n",
    "print('len df_1M', len(df_1M))\n",
    "print(len(gb_a_keepers))\n"
   ]
  },
  {
   "cell_type": "code",
   "execution_count": null,
   "metadata": {},
   "outputs": [],
   "source": [
    "print(len(gb_a_keepers))"
   ]
  },
  {
   "cell_type": "code",
   "execution_count": null,
   "metadata": {},
   "outputs": [],
   "source": [
    "#df_1M['sub_term'].value_counts(dropna=False)\n",
    "df_1M['config'].value_counts(dropna=False)"
   ]
  },
  {
   "cell_type": "code",
   "execution_count": null,
   "metadata": {},
   "outputs": [],
   "source": [
    "gb_a_keepers.head(10)"
   ]
  },
  {
   "cell_type": "markdown",
   "metadata": {},
   "source": [
    "##### Dealing with the 1 year rebillings"
   ]
  },
  {
   "cell_type": "code",
   "execution_count": null,
   "metadata": {},
   "outputs": [],
   "source": [
    "print('start length', len(gb_a_keepers))\n",
    "df_1Y = gb_a_keepers[(gb_a_keepers['sub_term']==12) | \n",
    "                       ((gb_a_keepers['sub_term']==0) &\n",
    "                        (gb_a_keepers['config']=='1Y'))].copy()\n",
    "\n",
    "index_1Y = df_1Y.index\n",
    "\n",
    "\n",
    "gb_a_keepers.drop(index_1Y, inplace=True)\n",
    "\n",
    "print(df_1Y.head(10))\n",
    "print('len df_1Y', len(df_1Y))\n",
    "print(len(gb_a_keepers))"
   ]
  },
  {
   "cell_type": "code",
   "execution_count": null,
   "metadata": {},
   "outputs": [],
   "source": [
    "df_2Y = gb_a_keepers[gb_a_keepers['config']=='2Y'].copy()\n",
    "df_3Y = gb_a_keepers[gb_a_keepers['config']=='3Y'].copy()\n",
    "\n",
    "print('length gb_a_keepers', len(gb_a_keepers))\n",
    "print('length df_2Y', len(df_2Y))\n",
    "print('df_3Y', len(df_3Y))"
   ]
  },
  {
   "cell_type": "code",
   "execution_count": null,
   "metadata": {},
   "outputs": [],
   "source": [
    "test2 = gb_a_keepers[gb_a_keepers['config']=='3Y']\n",
    "test2.sub_term.value_counts()"
   ]
  },
  {
   "cell_type": "code",
   "execution_count": null,
   "metadata": {},
   "outputs": [],
   "source": []
  },
  {
   "cell_type": "markdown",
   "metadata": {},
   "source": [
    "# Type D Billings\n",
    "\n"
   ]
  },
  {
   "cell_type": "code",
   "execution_count": null,
   "metadata": {},
   "outputs": [],
   "source": [
    "dfr_d = dfr[dfr[\"rev_req_type\"] == \"D\"].copy()\n",
    "dfr_d.head(10)"
   ]
  },
  {
   "cell_type": "code",
   "execution_count": null,
   "metadata": {},
   "outputs": [],
   "source": [
    "gb_d = dfr_d.groupby([\"curr\", \"BU\", \"period\", \"rebill_rule\", \"sales_doc\"], as_index=False).sum()\n",
    "gb_d.head(10)"
   ]
  },
  {
   "cell_type": "code",
   "execution_count": null,
   "metadata": {},
   "outputs": [],
   "source": [
    "gb_d.drop(labels=[\"sub_term\", \"duration\"], axis=1, inplace=True)\n",
    "gb_d.head(10)"
   ]
  },
  {
   "cell_type": "code",
   "execution_count": null,
   "metadata": {},
   "outputs": [],
   "source": [
    "gb_d[\"rebill_rule\"].value_counts(dropna=False)"
   ]
  },
  {
   "cell_type": "code",
   "execution_count": null,
   "metadata": {},
   "outputs": [],
   "source": [
    "list_monthly = ['Y1', 'Y2', 'Y3', 'YM']\n",
    "list_qtrly = ['YQ', 'YY', 'YT']\n",
    "list_semi_ann = ['YH']\n",
    "list_ann = ['YA', 'YC', 'YX']\n",
    "list_2yrs = ['Y4']\n",
    "list_3yrs = ['Y7']\n",
    "list_all_rebills = list_monthly + list_qtrly + list_semi_ann + list_ann + list_2yrs + list_3yrs\n",
    "print(list_all_rebills)"
   ]
  },
  {
   "cell_type": "code",
   "execution_count": null,
   "metadata": {},
   "outputs": [],
   "source": [
    "gb_d_mthly = gb_d[gb_d[\"rebill_rule\"].isin(list_monthly)].copy()\n",
    "gb_d_mthly.drop(labels=\"rebill_rule\", axis=1, inplace=True)\n",
    "gb_d_mthly = gb_d_mthly.groupby([\"curr\", \"BU\", \"period\"]).sum()\n",
    "gb_d_mthly.reset_index(inplace=True)\n",
    "\n",
    "gb_d_qtrly = gb_d[gb_d[\"rebill_rule\"].isin(list_qtrly)].copy()\n",
    "gb_d_qtrly.drop(labels=\"rebill_rule\", axis=1, inplace=True)\n",
    "gb_d_qtrly = gb_d_qtrly.groupby([\"curr\", \"BU\", \"period\"]).sum()\n",
    "gb_d_qtrly.reset_index(inplace=True)\n",
    "\n",
    "gb_d_semi_ann = gb_d[gb_d[\"rebill_rule\"].isin(list_semi_ann)]\n",
    "gb_d_semi_ann.drop(labels=\"rebill_rule\", axis=1, inplace=True)\n",
    "gb_d_semi_ann = gb_d_semi_ann.groupby([\"curr\", \"BU\", \"period\"]).sum()\n",
    "gb_d_semi_ann.reset_index(inplace=True)\n",
    "\n",
    "gb_d_annual = gb_d[gb_d[\"rebill_rule\"].isin(list_ann)].copy()\n",
    "gb_d_annual.drop(labels=\"rebill_rule\", axis=1, inplace=True)\n",
    "gb_d_annual = gb_d_annual.groupby([\"curr\", \"BU\", \"period\"]).sum()\n",
    "gb_d_annual.reset_index(inplace=True)\n",
    "\n",
    "gb_d_two_yrs = gb_d[gb_d[\"rebill_rule\"].isin(list_2yrs)].copy()\n",
    "gb_d_two_yrs.drop(labels=\"rebill_rule\", axis=1, inplace=True)\n",
    "gb_d_two_yrs = gb_d_two_yrs.groupby([\"curr\", \"BU\", \"period\"]).sum()\n",
    "gb_d_two_yrs.reset_index(inplace=True)\n",
    "\n",
    "gb_d_three_yrs = gb_d[gb_d[\"rebill_rule\"].isin(list_3yrs)]\n",
    "gb_d_three_yrs.drop(labels=\"rebill_rule\", axis=1, inplace=True)\n",
    "gb_d_three_yrs = gb_d_three_yrs.groupby([\"curr\", \"BU\", \"period\"]).sum()\n",
    "gb_d_three_yrs.reset_index(inplace=True)\n",
    "\n",
    "print(\"Length of monthly\", len(gb_d_mthly))\n",
    "print(\"Length of quarterly\", len(gb_d_qtrly))\n",
    "print(\"Length of semi ann\", len(gb_d_semi_ann))\n",
    "print(\"Length of annual\", len(gb_d_annual))\n",
    "print(\"Length of two years\", len(gb_d_two_yrs))\n",
    "print(\"Length of three years\", len(gb_d_three_yrs))\n"
   ]
  },
  {
   "cell_type": "code",
   "execution_count": null,
   "metadata": {},
   "outputs": [],
   "source": [
    "list_df = [\n",
    "    gb_rec,\n",
    "    gb_svc,\n",
    "    gb_b,\n",
    "    gb_a_1M,\n",
    "    gb_a_1Y,\n",
    "    gb_a_2Y,\n",
    "    gb_a_3Y,\n",
    "    gb_d_mthly,\n",
    "    gb_d_qtrly,\n",
    "    gb_d_semi_ann,\n",
    "    gb_d_annual,\n",
    "    gb_d_two_yrs,\n",
    "    gb_d_three_yrs,\n",
    "]\n",
    "\n",
    "list_columns = [\n",
    "    \"recognized\",\n",
    "    \"service\",\n",
    "    \"deferred_B\",\n",
    "    \"deferred_1M_a\",\n",
    "    \"deferred_1Y_a\",\n",
    "    \"deferred_2Y_a\",\n",
    "    \"deferred_3Y_a\",\n",
    "    \"deferred_1M_d\",\n",
    "    \"deferred_3M_d\",\n",
    "    \"deferred_6M_d\",\n",
    "    \"deferred_1Y_d\",\n",
    "    \"deferred_2Y_d\",\n",
    "    \"deferred_3Y_d\",\n",
    "]\n"
   ]
  },
  {
   "cell_type": "code",
   "execution_count": null,
   "metadata": {},
   "outputs": [],
   "source": []
  }
 ],
 "metadata": {
  "kernelspec": {
   "display_name": "Python 3.7.3 64-bit ('base': conda)",
   "language": "python",
   "name": "python37364bitbasecondaf40c37e8e9dd45c89e043b248b661bde"
  },
  "language_info": {
   "codemirror_mode": {
    "name": "ipython",
    "version": 3
   },
   "file_extension": ".py",
   "mimetype": "text/x-python",
   "name": "python",
   "nbconvert_exporter": "python",
   "pygments_lexer": "ipython3",
   "version": "3.7.3"
  }
 },
 "nbformat": 4,
 "nbformat_minor": 2
}
