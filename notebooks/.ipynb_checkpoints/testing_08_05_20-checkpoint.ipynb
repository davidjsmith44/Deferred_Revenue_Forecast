{
 "cells": [
  {
   "cell_type": "code",
   "execution_count": null,
   "metadata": {},
   "outputs": [],
   "source": [
    "import numpy as np\n",
    "import pickle\n",
    "import pandas as pd\n",
    "import matplotlib.pyplot as plt\n",
    "%matplotlib inline\n",
    "\n",
    "plt.style.use(\"ggplot\")\n",
    "\n",
    "import json"
   ]
  },
  {
   "cell_type": "code",
   "execution_count": null,
   "metadata": {},
   "outputs": [],
   "source": [
    "\n",
    "\n"
   ]
  },
  {
   "cell_type": "code",
   "execution_count": null,
   "metadata": {},
   "outputs": [],
   "source": [
    "df = pd.read_excel('../data/Data_2020_P06/all_billings_inputs_08_20.xlsx',\n",
    "                  sheet_name = 'base_billings')"
   ]
  },
  {
   "cell_type": "code",
   "execution_count": null,
   "metadata": {},
   "outputs": [],
   "source": [
    "print('df length: ', len(df))"
   ]
  },
  {
   "cell_type": "code",
   "execution_count": null,
   "metadata": {},
   "outputs": [],
   "source": [
    "df.rename(\n",
    "        index=str,\n",
    "        columns={\n",
    "            \"Contrct Duration in Months\": \"duration\",\n",
    "            \"Document Currency\": \"curr\",\n",
    "            \"Enterprise BU Desc\": \"BU\",\n",
    "            \"Invoice Fiscal Year Period Desc\": \"period\",\n",
    "            \"POB Type\": \"POB_type\",\n",
    "            \"Product Config Type\": \"config\",\n",
    "            \"Rev Rec Category\": \"rev_req_type\",\n",
    "            \"Rule For Bill Date\": \"rebill_rule\",\n",
    "            \"Sales Document Type\": \"sales_doc\",\n",
    "            \"Sales Type\": \"sales_type\",\n",
    "            \"Subscription Term\": \"sub_term\",\n",
    "            \"Completed Sales ( DC )\": \"DC_amount\",\n",
    "            \"Completed Sales\": \"US_amount\",\n",
    "        },\n",
    "        inplace=True,\n",
    "    )\n"
   ]
  },
  {
   "cell_type": "code",
   "execution_count": null,
   "metadata": {},
   "outputs": [],
   "source": [
    "df.head(3)"
   ]
  },
  {
   "cell_type": "code",
   "execution_count": null,
   "metadata": {},
   "outputs": [],
   "source": [
    "vc = df[\"curr\"].value_counts()\n",
    "keep_these = vc.values > 20\n",
    "keep_curr = vc[keep_these]\n",
    "list_keepers = keep_curr.index\n",
    "remove_these = vc[vc.values <= 20].index\n",
    "model_dict = {\"curr_removed\": list(vc[remove_these].index)}\n",
    "delete_curr = list(remove_these)\n",
    "\n",
    "if \"TRY\" not in model_dict[\"curr_removed\"]:\n",
    "    model_dict[\"curr_removed\"].append(\"TRY\")\n",
    "    delete_curr.append(\"TRY\")\n",
    "    list_keepers = list_keepers.drop(\"TRY\")\n",
    "\n",
    "df = df[df[\"curr\"].isin(list_keepers)]"
   ]
  },
  {
   "cell_type": "code",
   "execution_count": null,
   "metadata": {},
   "outputs": [],
   "source": [
    "print(len(df))\n",
    "df = df[df[\"DC_amount\"] != 0]\n",
    "print(len(df))"
   ]
  },
  {
   "cell_type": "code",
   "execution_count": null,
   "metadata": {},
   "outputs": [],
   "source": [
    "model_dict"
   ]
  },
  {
   "cell_type": "code",
   "execution_count": null,
   "metadata": {},
   "outputs": [],
   "source": [
    "df['POB_type'].value_counts(dropna=False)"
   ]
  },
  {
   "cell_type": "markdown",
   "metadata": {},
   "source": [
    "## Grouping by POB Type\n",
    "\n",
    "The new 606 has everything grouped by sales type. There are blanks\n",
    "We need to separate into groups based on the POB type\n"
   ]
  },
  {
   "cell_type": "code",
   "execution_count": null,
   "metadata": {},
   "outputs": [],
   "source": [
    "list_IR = ['IR', 'IR-NA', 'LFB']\n",
    "list_service = ['CR', 'CR-NA']\n",
    "list_deferred = ['RR', 'RR-NA']\n",
    "list_hybrid = ['BNDL']\n",
    "\n",
    "list_all = list_IR + list_service + list_deferred + list_hybrid\n",
    "print(list_all)"
   ]
  },
  {
   "cell_type": "code",
   "execution_count": null,
   "metadata": {},
   "outputs": [],
   "source": [
    "rec = df[df[\"POB_type\"].isin(list_IR)].copy()\n",
    "svc = df[df[\"POB_type\"].isin(list_service)].copy()\n",
    "dfr = df[df[\"POB_type\"].isin(list_deferred)].copy()\n",
    "hyb = df[df[\"POB_type\"].isin(list_hybrid)].copy()\n",
    "blank = df[~df[\"POB_type\"].isin(list_all)].copy()"
   ]
  },
  {
   "cell_type": "code",
   "execution_count": null,
   "metadata": {},
   "outputs": [],
   "source": [
    "print('rec', len(rec))\n",
    "print('svc', len(svc))\n",
    "print('dfr', len(dfr))\n",
    "print('hyb', len(hyb))\n",
    "print('blank', len(blank))\n",
    "print('ALL', len(df))"
   ]
  },
  {
   "cell_type": "code",
   "execution_count": null,
   "metadata": {},
   "outputs": [],
   "source": [
    "len(rec)+len(svc)+ len(dfr)+ len(blank)+len(hyb)"
   ]
  },
  {
   "cell_type": "code",
   "execution_count": null,
   "metadata": {},
   "outputs": [],
   "source": [
    "gb_rec = rec.groupby([\"curr\", \"BU\", \"period\"], as_index=False).sum()"
   ]
  },
  {
   "cell_type": "code",
   "execution_count": null,
   "metadata": {},
   "outputs": [],
   "source": [
    "gb_rec.drop(labels=[\"duration\", \"sub_term\"] , axis=1, inplace=True)"
   ]
  },
  {
   "cell_type": "code",
   "execution_count": null,
   "metadata": {},
   "outputs": [],
   "source": [
    "gb_rec.head(4)"
   ]
  },
  {
   "cell_type": "code",
   "execution_count": null,
   "metadata": {},
   "outputs": [],
   "source": [
    "gb_svc = svc.groupby([\"curr\", \"BU\", \"period\"], as_index=False).sum()"
   ]
  },
  {
   "cell_type": "code",
   "execution_count": null,
   "metadata": {},
   "outputs": [],
   "source": [
    "gb_svc"
   ]
  },
  {
   "cell_type": "code",
   "execution_count": null,
   "metadata": {},
   "outputs": [],
   "source": [
    "gb_svc.head(4)"
   ]
  },
  {
   "cell_type": "markdown",
   "metadata": {},
   "source": [
    "# Deferred billings\n",
    "## Type B Service based/"
   ]
  },
  {
   "cell_type": "code",
   "execution_count": null,
   "metadata": {},
   "outputs": [],
   "source": [
    "dfr_b = dfr[dfr[\"rev_req_type\"] == \"B\"].copy()"
   ]
  },
  {
   "cell_type": "code",
   "execution_count": null,
   "metadata": {},
   "outputs": [],
   "source": [
    "print(len(dfr))\n",
    "print(len(dfr_b))"
   ]
  },
  {
   "cell_type": "code",
   "execution_count": null,
   "metadata": {},
   "outputs": [],
   "source": [
    "dfr.head(10)"
   ]
  },
  {
   "cell_type": "code",
   "execution_count": null,
   "metadata": {},
   "outputs": [],
   "source": [
    "dfr.rev_req_type.value_counts(dropna=False)"
   ]
  },
  {
   "cell_type": "markdown",
   "metadata": {},
   "source": [
    "## Type A Deferred billings\n",
    "\n",
    "### First sort by config type\n",
    "\n",
    "### Then use sub term"
   ]
  },
  {
   "cell_type": "code",
   "execution_count": null,
   "metadata": {},
   "outputs": [],
   "source": [
    "dfr_a = dfr[dfr[\"rev_req_type\"] == \"A\"].copy()\n",
    "print(\"length of dfr_a\", len(dfr_a))\n",
    "dfr_a.drop(labels='duration', axis=1, inplace=True)\n",
    "gb_a = dfr_a.groupby([\"curr\", \"BU\", \"period\", \"config\", 'sub_term'], as_index=False).sum()\n"
   ]
  },
  {
   "cell_type": "code",
   "execution_count": null,
   "metadata": {},
   "outputs": [],
   "source": [
    "len(gb_a)"
   ]
  },
  {
   "cell_type": "code",
   "execution_count": null,
   "metadata": {},
   "outputs": [],
   "source": [
    "gb_a.head(4)\n"
   ]
  },
  {
   "cell_type": "code",
   "execution_count": null,
   "metadata": {},
   "outputs": [],
   "source": [
    "gb_a.config.value_counts(dropna=False)"
   ]
  },
  {
   "cell_type": "code",
   "execution_count": null,
   "metadata": {},
   "outputs": [],
   "source": [
    "gb_a.sub_term.value_counts(dropna=False)"
   ]
  },
  {
   "cell_type": "code",
   "execution_count": null,
   "metadata": {},
   "outputs": [],
   "source": [
    "config_type_keepers = ['MTHLY', '1Y', '2Y', '3Y']\n"
   ]
  },
  {
   "cell_type": "code",
   "execution_count": null,
   "metadata": {},
   "outputs": [],
   "source": [
    "gb_a_keepers = gb_a[gb_a[\"config\"].isin(config_type_keepers)].copy()\n",
    "a_bad_config = gb_a[~gb_a[\"config\"].isin(config_type_keepers)].copy()"
   ]
  },
  {
   "cell_type": "code",
   "execution_count": null,
   "metadata": {},
   "outputs": [],
   "source": [
    "print('len gb_a', len(gb_a))\n",
    "print('gb_a_keepers', len(gb_a_keepers))\n",
    "print('len a_blank_config', len(a_bad_config))\n"
   ]
  },
  {
   "cell_type": "code",
   "execution_count": null,
   "metadata": {},
   "outputs": [],
   "source": [
    "gb_a_keepers['config'].value_counts(dropna=False)"
   ]
  },
  {
   "cell_type": "code",
   "execution_count": null,
   "metadata": {},
   "outputs": [],
   "source": [
    "gb_a_keepers['sub_term'].value_counts(dropna=False)"
   ]
  },
  {
   "cell_type": "code",
   "execution_count": null,
   "metadata": {},
   "outputs": [],
   "source": [
    "gb_a_keepers.head(10)"
   ]
  },
  {
   "cell_type": "code",
   "execution_count": null,
   "metadata": {},
   "outputs": [],
   "source": [
    "print('Total USD Equivalent Billings of Type A with bad configs', \n",
    "      a_bad_config.US_amount.sum())"
   ]
  },
  {
   "cell_type": "markdown",
   "metadata": {},
   "source": [
    "## For the type A billings that we can use, we need to split them apart by sub_term and config\n",
    "If subterm == 0, then we use the config period. (Assuming these are PUP?)\n",
    "\n",
    "Otherwise, 12 = annual, 24 = two years, 36 = 3 years\n",
    "\n",
    "Old code has these as gb_a_1M, gb_a_1Y, gb_a_2Y, gb_a_3Y\n",
    "\n",
    "Here we will pull out the types from the gb_a_keepers dataframe into a new dataframe and then delete these old records from the gb_a_keepers dataframe"
   ]
  },
  {
   "cell_type": "code",
   "execution_count": null,
   "metadata": {},
   "outputs": [],
   "source": [
    "print('start length', len(gb_a_keepers))\n",
    "df_1M = gb_a_keepers[(gb_a_keepers['config']=='MTHLY') |\n",
    "                       (gb_a_keepers['sub_term']==1)].copy()\n",
    "\n",
    "index_1M = df_1M.index\n",
    "\n",
    "\n",
    "gb_a_keepers.drop(index_1M, inplace=True)\n",
    "\n",
    "print(df_1M.head(10))\n",
    "print('len df_1M', len(df_1M))\n",
    "print(len(gb_a_keepers))\n"
   ]
  },
  {
   "cell_type": "code",
   "execution_count": null,
   "metadata": {},
   "outputs": [],
   "source": [
    "print(len(gb_a_keepers))"
   ]
  },
  {
   "cell_type": "code",
   "execution_count": null,
   "metadata": {},
   "outputs": [],
   "source": [
    "#df_1M['sub_term'].value_counts(dropna=False)\n",
    "df_1M['config'].value_counts(dropna=False)"
   ]
  },
  {
   "cell_type": "code",
   "execution_count": null,
   "metadata": {},
   "outputs": [],
   "source": [
    "gb_a_keepers.head(10)"
   ]
  },
  {
   "cell_type": "markdown",
   "metadata": {},
   "source": [
    "##### Dealing with the 1 year rebillings"
   ]
  },
  {
   "cell_type": "code",
   "execution_count": null,
   "metadata": {},
   "outputs": [],
   "source": [
    "print('start length', len(gb_a_keepers))\n",
    "df_1Y = gb_a_keepers[(gb_a_keepers['sub_term']==12) | \n",
    "                       ((gb_a_keepers['sub_term']==0) &\n",
    "                        (gb_a_keepers['config']=='1Y'))].copy()\n",
    "\n",
    "index_1Y = df_1Y.index\n",
    "\n",
    "\n",
    "gb_a_keepers.drop(index_1Y, inplace=True)\n",
    "\n",
    "print(df_1Y.head(10))\n",
    "print('len df_1Y', len(df_1Y))\n",
    "print(len(gb_a_keepers))"
   ]
  },
  {
   "cell_type": "code",
   "execution_count": null,
   "metadata": {},
   "outputs": [],
   "source": [
    "df_2Y = gb_a_keepers[gb_a_keepers['config']=='2Y'].copy()\n",
    "df_3Y = gb_a_keepers[gb_a_keepers['config']=='3Y'].copy()\n",
    "\n",
    "print('length gb_a_keepers', len(gb_a_keepers))\n",
    "print('length df_2Y', len(df_2Y))\n",
    "print('df_3Y', len(df_3Y))"
   ]
  },
  {
   "cell_type": "code",
   "execution_count": null,
   "metadata": {},
   "outputs": [],
   "source": [
    "test2 = gb_a_keepers[gb_a_keepers['config']=='3Y']\n",
    "test2.sub_term.value_counts()"
   ]
  },
  {
   "cell_type": "code",
   "execution_count": null,
   "metadata": {},
   "outputs": [],
   "source": [
    "df_1Y.config.value_counts(dropna=False)"
   ]
  },
  {
   "cell_type": "code",
   "execution_count": null,
   "metadata": {},
   "outputs": [],
   "source": [
    "gb_a_keepers.sample(50)"
   ]
  },
  {
   "cell_type": "code",
   "execution_count": null,
   "metadata": {},
   "outputs": [],
   "source": []
  }
 ],
 "metadata": {
  "kernelspec": {
   "display_name": "Python 3.7.3 64-bit ('base': conda)",
   "language": "python",
   "name": "python37364bitbasecondaf40c37e8e9dd45c89e043b248b661bde"
  },
  "language_info": {
   "codemirror_mode": {
    "name": "ipython",
    "version": 3
   },
   "file_extension": ".py",
   "mimetype": "text/x-python",
   "name": "python",
   "nbconvert_exporter": "python",
   "pygments_lexer": "ipython3",
   "version": "3.7.3"
  }
 },
 "nbformat": 4,
 "nbformat_minor": 2
}
