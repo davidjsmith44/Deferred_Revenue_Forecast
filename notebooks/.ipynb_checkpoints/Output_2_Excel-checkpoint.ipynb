{
 "cells": [
  {
   "cell_type": "markdown",
   "metadata": {},
   "source": [
    "Output_2_Excel\n"
   ]
  },
  {
   "cell_type": "code",
   "execution_count": 1,
   "metadata": {},
   "outputs": [],
   "source": [
    "import pandas as pd\n",
    "#import openpyxl"
   ]
  },
  {
   "cell_type": "code",
   "execution_count": 2,
   "metadata": {},
   "outputs": [],
   "source": [
    "df = pd.read_excel('../data/sampledfinput.xlsx', sheet_name='sampledata')\n",
    "df2 = df\n",
    "\n",
    "template_file = '../data/sampOutput.xlsx'\n"
   ]
  },
  {
   "cell_type": "code",
   "execution_count": 3,
   "metadata": {},
   "outputs": [],
   "source": [
    "output_dict1 = {'var_name': df,\n",
    "               'tab': 'first_page',\n",
    "               'start_row': 7,\n",
    "               'start_col': 1,\n",
    "               'header': False,\n",
    "               'index': False}\n",
    "\n",
    "output_dict2 = {'var_name': df2,\n",
    "               'tab': 'second_page',\n",
    "               'start_row': 7,\n",
    "               'start_col': 1,\n",
    "               'header': True,\n",
    "               'index': True}\n",
    "\n",
    "output_dict = {'data_1': output_dict1,\n",
    "              'data_2': output_dict2}\n"
   ]
  },
  {
   "cell_type": "code",
   "execution_count": 4,
   "metadata": {},
   "outputs": [],
   "source": [
    "def multiple_dfs_to_xl(output_dict, template_file, header=False):\n",
    "    '''\n",
    "    Inputs\n",
    "        output_dict - a dictionary comprised of dictionaries. The keys of the outter-most dictionary are the \n",
    "        \n",
    "        The inner dictionaries are comprised of the following keys\n",
    "        \n",
    "            df - the dataframe that will be sent to excel\n",
    "            template_file - the path and filename of the excel workbook template the dataframes will be written to\n",
    "            output_tab - the tab in the output file to send the data to.\n",
    "            start_row - the first row where the data will appear. NOTE: Python treats cell A1 as row zero.\n",
    "            start_column - the first column where the data will appear. NOTE: Python treats cell A1 as row zero.\n",
    "            header - if the header is True, it will send in the column names of the dataframe. \n",
    "                If header is false, no column names will be sent to the excel file.\n",
    "                If header contains a list of strings, the list of strings will be an alias to the column names\n",
    "            index - boolean variable that determines whether the index of the dataframe will be sent to excel.\n",
    "    \n",
    "    This function copies, renames (with a timestamp into the same directory) and opens the renamed copy of the workbook \n",
    "    template_file.   Then it reads in all of the sheets of the opened workbook and sends multiple\n",
    "    dataframes to multiple tabs at specific locations on the the excel sheet. The location is determined by the start_row and\n",
    "    start_column contained in the dictionaries.\n",
    "        \n",
    "    Python Modules to be imported for this to work\n",
    "        pandas\n",
    "        openpyxl\n",
    "        '''\n",
    "    import openpyxl\n",
    "    import datetime\n",
    "    import shutil\n",
    "    \n",
    "    # create a datestamp \n",
    "    x = datetime.datetime.now().strftime('%d''%b''%y''%H''%M''%S')\n",
    "    \n",
    "    #parse string with template name and concatenate with above timestamp\n",
    "    prefix_index = template_file.rfind('/')+1\n",
    "    prefix = template_file[:prefix_index]\n",
    "    suffix_index = template_file.rfind('.')\n",
    "    suffix = template_file[suffix_index:]\n",
    "    fylename = template_file[prefix_index:suffix_index] + x\n",
    "    new_copied_file_name = prefix + fylename + suffix\n",
    "    \n",
    "    #copy template and save with new concatenated name\n",
    "    output_file = shutil.copy(template_file, new_copied_file_name) \n",
    "         \n",
    "    #open workbook to write to, discover tabs in workbook\n",
    "    book = openpyxl.load_workbook(output_file)\n",
    "    writer = pd.ExcelWriter(output_file, engine = 'openpyxl')\n",
    "    writer.book = book\n",
    "    writer.sheets = dict((ws.title, ws) for ws in book.worksheets)\n",
    "\n",
    "    #iterate through dictionary and output dataframes to worksheets\n",
    "    for key in output_dict.keys():\n",
    "\n",
    "        output_dict[key]['var_name'].to_excel(writer, \n",
    "                                              sheet_name = output_dict[key]['tab'], \n",
    "                                              startrow = output_dict[key]['start_row'], \n",
    "                                              startcol = output_dict[key]['start_col'], \n",
    "                                              header = output_dict[key]['header'], \n",
    "                                              index=False)\n",
    "\n",
    "    writer.save()\n",
    "    writer.close()\n",
    "    print('DataFrame is written successfully to Excel File.')\n",
    "    return None"
   ]
  },
  {
   "cell_type": "code",
   "execution_count": 5,
   "metadata": {},
   "outputs": [
    {
     "name": "stdout",
     "output_type": "stream",
     "text": [
      "DataFrame is written successfully to Excel File.\n"
     ]
    }
   ],
   "source": [
    "template_file = template_file\n",
    "multiple_dfs_to_xl(output_dict, template_file)"
   ]
  },
  {
   "cell_type": "code",
   "execution_count": null,
   "metadata": {},
   "outputs": [],
   "source": [
    "\n",
    "def df_to_xl(df, output_file, output_tab, start_row=0, start_column=0, header=False):\n",
    "    '''\n",
    "    Inputs\n",
    "        df - the dataframe that will be sent to excel\n",
    "        output_file - the path and filename of the output file\n",
    "        output_tab - the tab in the output file to send the data to.\n",
    "        start_row - the first row where the data will appear. NOTE: Python treats cell A1 as row zero.\n",
    "        start_column - the first column where the data will appear. NOTE: Python treats cell A1 as row zero.\n",
    "        header - if the header is True, it will send in the column names of the dataframe. \n",
    "                If header is false, no column names will be sent to the excel file.\n",
    "                If header contains a list of strings, the list of strings will be an alias to the column names\n",
    "    \n",
    "    This function opens the workbook output_file, reads in all of the sheets to that file and sends\n",
    "    the dataframe df to a location on the output_tab sheet. The location is determined by the start_row and\n",
    "    start_column sent to the function.\n",
    "        \n",
    "    Python Modules to be imported for this to work\n",
    "        pandas\n",
    "        openpyxl\n",
    "    '''\n",
    "    \n",
    "    book = openpyxl.load_workbook(output_file)\n",
    "\n",
    "    writer = pd.ExcelWriter(output_file, engine = 'openpyxl')\n",
    "    writer.book = book\n",
    "    writer.sheets = dict((ws.title, ws) for ws in book.worksheets)\n",
    "\n",
    "    df.to_excel(writer, \n",
    "                sheet_name=output_tab, \n",
    "                startrow = start_row, \n",
    "                startcol = start_col, \n",
    "                header = header, \n",
    "                index=False)\n",
    "\n",
    "    writer.save()\n",
    "\n",
    "    writer.close()\n",
    "\n",
    "    print('DataFrame is written successfully to Excel File.')\n",
    "    \n",
    "    return None\n"
   ]
  },
  {
   "cell_type": "code",
   "execution_count": null,
   "metadata": {},
   "outputs": [],
   "source": [
    "#df_to_xl(df, path, output_tab, start_row, start_col)"
   ]
  },
  {
   "cell_type": "code",
   "execution_count": null,
   "metadata": {},
   "outputs": [],
   "source": []
  }
 ],
 "metadata": {
  "kernelspec": {
   "display_name": "Python 3",
   "language": "python",
   "name": "python3"
  },
  "language_info": {
   "codemirror_mode": {
    "name": "ipython",
    "version": 3
   },
   "file_extension": ".py",
   "mimetype": "text/x-python",
   "name": "python",
   "nbconvert_exporter": "python",
   "pygments_lexer": "ipython3",
   "version": "3.7.3"
  }
 },
 "nbformat": 4,
 "nbformat_minor": 2
}
