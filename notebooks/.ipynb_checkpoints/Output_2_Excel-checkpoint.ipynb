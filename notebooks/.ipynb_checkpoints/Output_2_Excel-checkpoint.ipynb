{
 "cells": [
  {
   "cell_type": "markdown",
   "metadata": {},
   "source": [
    "Output_2_Excel\n"
   ]
  },
  {
   "cell_type": "code",
   "execution_count": 18,
   "metadata": {},
   "outputs": [],
   "source": [
    "import pandas as pd\n",
    "import openpyxl"
   ]
  },
  {
   "cell_type": "code",
   "execution_count": 2,
   "metadata": {},
   "outputs": [],
   "source": [
    "df = pd.read_excel('../data/sampledfinput.xlsx', sheet_name='sampledata')"
   ]
  },
  {
   "cell_type": "code",
   "execution_count": null,
   "metadata": {},
   "outputs": [],
   "source": [
    "'''\n",
    "path = '../data/sampOutput.xlsx'\n",
    "book = openpyxl.load_workbook(path)\n",
    "\n",
    "writer = pd.ExcelWriter(path, engine = 'openpyxl')\n",
    "writer.book = book\n",
    "writer.sheets = dict((ws.title, ws) for ws in book.worksheets)\n",
    "\n",
    "df.to_excel(writer,'firstpage', start_row=7, start_col=1, header=False, index=False)\n",
    "\n",
    "writer.save()\n",
    "\n",
    "writer.close()\n",
    "\n",
    "print('DataFrame is written successfully to Excel File.')\n",
    "'''"
   ]
  },
  {
   "cell_type": "code",
   "execution_count": 25,
   "metadata": {},
   "outputs": [],
   "source": [
    "def df_to_xl(df, output_file, output_tab, start_row=0, start_column=0, header=False):\n",
    "    '''\n",
    "    Inputs\n",
    "        df - the dataframe that will be sent to excel\n",
    "        output_file - the path and filename of the output file\n",
    "        output_tab - the tab in the output file to send the data to.\n",
    "        start_row - the first row where the data will appear. NOTE: Python treats cell A1 as row zero.\n",
    "        start_column - the first column where the data will appear. NOTE: Python treats cell A1 as row zero.\n",
    "        header - if the header is True, it will send in the column names of the dataframe. \n",
    "                If header is false, no column names will be sent to the excel file.\n",
    "                If header contains a list of strings, the list of strings will be an alias to the column names\n",
    "    \n",
    "    This function opens the workbook output_file, reads in all of the sheets to that file and sends\n",
    "    the dataframe df to a location on the output_tab sheet. The location is determined by the start_row and\n",
    "    start_column sent to the function.\n",
    "        \n",
    "    Python Modules to be imported for this to work\n",
    "        pandas\n",
    "        openpyxl\n",
    "    '''\n",
    "    \n",
    "    book = openpyxl.load_workbook(output_file)\n",
    "\n",
    "    writer = pd.ExcelWriter(path, engine = 'openpyxl')\n",
    "    writer.book = book\n",
    "    writer.sheets = dict((ws.title, ws) for ws in book.worksheets)\n",
    "\n",
    "    df.to_excel(writer, \n",
    "                sheet_name=output_tab, \n",
    "                startrow = start_row, \n",
    "                startcol = start_col, \n",
    "                header = header, \n",
    "                index=False)\n",
    "\n",
    "    writer.save()\n",
    "\n",
    "    writer.close()\n",
    "\n",
    "    print('DataFrame is written successfully to Excel File.')\n",
    "    \n",
    "    return None"
   ]
  },
  {
   "cell_type": "code",
   "execution_count": 21,
   "metadata": {},
   "outputs": [],
   "source": [
    "path = '../data/sampOutput.xlsx'\n",
    "output_tab = 'first_page'\n",
    "start_row=7\n",
    "start_col=1\n",
    "header=False\n",
    "df2 = df"
   ]
  },
  {
   "cell_type": "code",
   "execution_count": 17,
   "metadata": {},
   "outputs": [
    {
     "name": "stdout",
     "output_type": "stream",
     "text": [
      "DataFrame is written successfully to Excel File.\n"
     ]
    }
   ],
   "source": [
    "df_to_xl(df, path, output_tab, start_row, start_col)"
   ]
  },
  {
   "cell_type": "code",
   "execution_count": 27,
   "metadata": {},
   "outputs": [],
   "source": [
    "output_dict1 = {'var_name': df,\n",
    "               'tab': 'first_page',\n",
    "               'start_row': 7,\n",
    "               'start_col': 1,\n",
    "               'header': False,\n",
    "               'index': False}\n",
    "\n",
    "output_dict2 = {'var_name': df2,\n",
    "               'tab': 'second_page',\n",
    "               'start_row': 7,\n",
    "               'start_col': 1,\n",
    "               'header': True,\n",
    "               'index': True}\n",
    "\n",
    "output_dict = {'data_1': output_dict1,\n",
    "              'data_2': output_dict2}\n"
   ]
  },
  {
   "cell_type": "code",
   "execution_count": 28,
   "metadata": {},
   "outputs": [
    {
     "data": {
      "text/plain": [
       "{'data_1': {'var_name':      DC  USD_equivalent\n",
       "  0   USD        51568.71\n",
       "  1   AUD         3030.43\n",
       "  2   CHF          595.60\n",
       "  3   COP       123756.08\n",
       "  4   DKK          186.25\n",
       "  5   EUR        10216.72\n",
       "  6   GBP         5054.95\n",
       "  7   HKD        12747.10\n",
       "  8   IDR           17.24\n",
       "  9   INR           57.10\n",
       "  10  JPY       151340.97\n",
       "  11  NOK         7194.00\n",
       "  12  PEN          158.00\n",
       "  13  PHP        69601.38\n",
       "  14  RUB      1156094.25\n",
       "  15  SEK           22.72\n",
       "  16  SGD           23.88\n",
       "  17  TWD           17.24,\n",
       "  'tab': 'first_page',\n",
       "  'start_row': 7,\n",
       "  'start_col': 1,\n",
       "  'header': False,\n",
       "  'index': False},\n",
       " 'data_2': {'var_name':      DC  USD_equivalent\n",
       "  0   USD        51568.71\n",
       "  1   AUD         3030.43\n",
       "  2   CHF          595.60\n",
       "  3   COP       123756.08\n",
       "  4   DKK          186.25\n",
       "  5   EUR        10216.72\n",
       "  6   GBP         5054.95\n",
       "  7   HKD        12747.10\n",
       "  8   IDR           17.24\n",
       "  9   INR           57.10\n",
       "  10  JPY       151340.97\n",
       "  11  NOK         7194.00\n",
       "  12  PEN          158.00\n",
       "  13  PHP        69601.38\n",
       "  14  RUB      1156094.25\n",
       "  15  SEK           22.72\n",
       "  16  SGD           23.88\n",
       "  17  TWD           17.24,\n",
       "  'tab': 'second_page',\n",
       "  'start_row': 7,\n",
       "  'start_col': 1,\n",
       "  'header': True,\n",
       "  'index': True}}"
      ]
     },
     "execution_count": 28,
     "metadata": {},
     "output_type": "execute_result"
    }
   ],
   "source": [
    "output_dict"
   ]
  },
  {
   "cell_type": "code",
   "execution_count": 26,
   "metadata": {},
   "outputs": [],
   "source": [
    "def multiple_dfs_to_xl(output_dict, output_file, header=False):\n",
    "    '''\n",
    "    Inputs\n",
    "        output_dict - a dictionary comprised of dictionaries. The keys of the outter-most dictionary are the \n",
    "        \n",
    "        The inner dictionaries are comprised of the following keys\n",
    "        \n",
    "            df - the dataframe that will be sent to excel\n",
    "            output_file - the path and filename of the output file\n",
    "            output_tab - the tab in the output file to send the data to.\n",
    "            start_row - the first row where the data will appear. NOTE: Python treats cell A1 as row zero.\n",
    "            start_column - the first column where the data will appear. NOTE: Python treats cell A1 as row zero.\n",
    "            header - if the header is True, it will send in the column names of the dataframe. \n",
    "                If header is false, no column names will be sent to the excel file.\n",
    "                If header contains a list of strings, the list of strings will be an alias to the column names\n",
    "            index - boolean variable that determines whether the index of the dataframe will be sent to excel.\n",
    "    \n",
    "    This function opens the workbook output_file, reads in all of the sheets to that file and sends multiple\n",
    "    dataframes to a locations on the in the excel sheet. The location is determined by the start_row and\n",
    "    start_column conteined in the dictionaries.\n",
    "        \n",
    "    Python Modules to be imported for this to work\n",
    "        pandas\n",
    "        openpyxl\n",
    "    '''\n",
    "    # JTL CODE HERE!!!\n",
    "    \n",
    "    return None"
   ]
  },
  {
   "cell_type": "code",
   "execution_count": null,
   "metadata": {},
   "outputs": [],
   "source": []
  },
  {
   "cell_type": "code",
   "execution_count": null,
   "metadata": {},
   "outputs": [],
   "source": []
  }
 ],
 "metadata": {
  "kernelspec": {
   "display_name": "Python 3",
   "language": "python",
   "name": "python3"
  },
  "language_info": {
   "codemirror_mode": {
    "name": "ipython",
    "version": 3
   },
   "file_extension": ".py",
   "mimetype": "text/x-python",
   "name": "python",
   "nbconvert_exporter": "python",
   "pygments_lexer": "ipython3",
   "version": "3.7.3"
  }
 },
 "nbformat": 4,
 "nbformat_minor": 2
}
