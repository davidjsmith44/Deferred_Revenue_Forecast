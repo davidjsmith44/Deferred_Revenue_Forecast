{
 "cells": [
  {
   "cell_type": "markdown",
   "metadata": {},
   "source": [
    "# Testing Deferred Revenue in Python\n",
    "Will this be easier for everyone to use than Matlab?"
   ]
  },
  {
   "cell_type": "code",
   "execution_count": 109,
   "metadata": {},
   "outputs": [],
   "source": [
    "import numpy as np\n",
    "import pandas as pd\n",
    "import matplotlib.pyplot as plt\n",
    "%matplotlib inline\n",
    "\n",
    "import statsmodels.api as sm\n",
    "\n",
    "plt.style.use('ggplot')"
   ]
  },
  {
   "cell_type": "markdown",
   "metadata": {},
   "source": [
    "## Step 1: Processing Base Billings Data"
   ]
  },
  {
   "cell_type": "code",
   "execution_count": 2,
   "metadata": {},
   "outputs": [],
   "source": [
    "df = pd.read_excel('../data/Creative_billings.xlsx')"
   ]
  },
  {
   "cell_type": "code",
   "execution_count": 3,
   "metadata": {
    "scrolled": true
   },
   "outputs": [
    {
     "data": {
      "text/html": [
       "<div>\n",
       "<style scoped>\n",
       "    .dataframe tbody tr th:only-of-type {\n",
       "        vertical-align: middle;\n",
       "    }\n",
       "\n",
       "    .dataframe tbody tr th {\n",
       "        vertical-align: top;\n",
       "    }\n",
       "\n",
       "    .dataframe thead th {\n",
       "        text-align: right;\n",
       "    }\n",
       "</style>\n",
       "<table border=\"1\" class=\"dataframe\">\n",
       "  <thead>\n",
       "    <tr style=\"text-align: right;\">\n",
       "      <th></th>\n",
       "      <th>Day of Invoice Calender Date</th>\n",
       "      <th>Document Currency</th>\n",
       "      <th>Enterprise BU Desc</th>\n",
       "      <th>Frequency</th>\n",
       "      <th>Major Product Config Desc</th>\n",
       "      <th>Major Product Group Hier Desc</th>\n",
       "      <th>Product Config Type</th>\n",
       "      <th>Product Mgt BU</th>\n",
       "      <th>Rev Rec Category</th>\n",
       "      <th>Rule For Bill Date</th>\n",
       "      <th>Sales Type</th>\n",
       "      <th>Subscription Term</th>\n",
       "      <th>Completed Sales ( DC )</th>\n",
       "      <th>Completed Sales</th>\n",
       "    </tr>\n",
       "  </thead>\n",
       "  <tbody>\n",
       "    <tr>\n",
       "      <th>510757</th>\n",
       "      <td>2019-10-30</td>\n",
       "      <td>USD</td>\n",
       "      <td>Creative</td>\n",
       "      <td>NaN</td>\n",
       "      <td>Subscription</td>\n",
       "      <td>POINT</td>\n",
       "      <td>1Y</td>\n",
       "      <td>Pro DI</td>\n",
       "      <td>A</td>\n",
       "      <td>NaN</td>\n",
       "      <td>DEFERRED</td>\n",
       "      <td>12</td>\n",
       "      <td>458916.49</td>\n",
       "      <td>452802.49</td>\n",
       "    </tr>\n",
       "    <tr>\n",
       "      <th>469714</th>\n",
       "      <td>2018-11-05</td>\n",
       "      <td>USD</td>\n",
       "      <td>Creative</td>\n",
       "      <td>NaN</td>\n",
       "      <td>Royalty</td>\n",
       "      <td>NaN</td>\n",
       "      <td>NaN</td>\n",
       "      <td>Digital Publishing</td>\n",
       "      <td>NaN</td>\n",
       "      <td>NaN</td>\n",
       "      <td>RECOGNIZED</td>\n",
       "      <td>0</td>\n",
       "      <td>396861.00</td>\n",
       "      <td>396861.00</td>\n",
       "    </tr>\n",
       "    <tr>\n",
       "      <th>215509</th>\n",
       "      <td>2017-12-30</td>\n",
       "      <td>GBP</td>\n",
       "      <td>Creative</td>\n",
       "      <td>NaN</td>\n",
       "      <td>Subscription</td>\n",
       "      <td>NaN</td>\n",
       "      <td>1Y</td>\n",
       "      <td>Pro DI</td>\n",
       "      <td>A</td>\n",
       "      <td>NaN</td>\n",
       "      <td>DEFERRED</td>\n",
       "      <td>1</td>\n",
       "      <td>-114.02</td>\n",
       "      <td>-153.05</td>\n",
       "    </tr>\n",
       "    <tr>\n",
       "      <th>448381</th>\n",
       "      <td>2019-10-14</td>\n",
       "      <td>SGD</td>\n",
       "      <td>Creative</td>\n",
       "      <td>NaN</td>\n",
       "      <td>Subscription</td>\n",
       "      <td>SUITE</td>\n",
       "      <td>MTHLY</td>\n",
       "      <td>All Media</td>\n",
       "      <td>D</td>\n",
       "      <td>Y3</td>\n",
       "      <td>DEFERRED</td>\n",
       "      <td>1</td>\n",
       "      <td>692.74</td>\n",
       "      <td>502.47</td>\n",
       "    </tr>\n",
       "    <tr>\n",
       "      <th>440007</th>\n",
       "      <td>2019-06-12</td>\n",
       "      <td>SEK</td>\n",
       "      <td>Creative</td>\n",
       "      <td>NaN</td>\n",
       "      <td>Subscription</td>\n",
       "      <td>SUITE</td>\n",
       "      <td>MTHLY</td>\n",
       "      <td>All Media</td>\n",
       "      <td>D</td>\n",
       "      <td>Y3</td>\n",
       "      <td>DEFERRED</td>\n",
       "      <td>1</td>\n",
       "      <td>18473.00</td>\n",
       "      <td>1958.88</td>\n",
       "    </tr>\n",
       "    <tr>\n",
       "      <th>236523</th>\n",
       "      <td>2019-05-08</td>\n",
       "      <td>GBP</td>\n",
       "      <td>Creative</td>\n",
       "      <td>NaN</td>\n",
       "      <td>Subscription</td>\n",
       "      <td>POINT</td>\n",
       "      <td>1Y</td>\n",
       "      <td>Pro DI</td>\n",
       "      <td>D</td>\n",
       "      <td>Y3</td>\n",
       "      <td>DEFERRED</td>\n",
       "      <td>1</td>\n",
       "      <td>82586.26</td>\n",
       "      <td>107688.07</td>\n",
       "    </tr>\n",
       "    <tr>\n",
       "      <th>286530</th>\n",
       "      <td>2019-09-04</td>\n",
       "      <td>INR</td>\n",
       "      <td>Creative</td>\n",
       "      <td>NaN</td>\n",
       "      <td>Subscription</td>\n",
       "      <td>SUITE</td>\n",
       "      <td>1Y</td>\n",
       "      <td>Design</td>\n",
       "      <td>D</td>\n",
       "      <td>Y3</td>\n",
       "      <td>DEFERRED</td>\n",
       "      <td>1</td>\n",
       "      <td>676.00</td>\n",
       "      <td>9.43</td>\n",
       "    </tr>\n",
       "    <tr>\n",
       "      <th>436423</th>\n",
       "      <td>2019-04-20</td>\n",
       "      <td>SEK</td>\n",
       "      <td>Creative</td>\n",
       "      <td>NaN</td>\n",
       "      <td>Subscription</td>\n",
       "      <td>SUITE</td>\n",
       "      <td>1Y</td>\n",
       "      <td>All Media</td>\n",
       "      <td>D</td>\n",
       "      <td>NaN</td>\n",
       "      <td>DEFERRED</td>\n",
       "      <td>1</td>\n",
       "      <td>-321.97</td>\n",
       "      <td>-34.70</td>\n",
       "    </tr>\n",
       "    <tr>\n",
       "      <th>460107</th>\n",
       "      <td>2019-08-14</td>\n",
       "      <td>TWD</td>\n",
       "      <td>Creative</td>\n",
       "      <td>NaN</td>\n",
       "      <td>Subscription</td>\n",
       "      <td>POINT</td>\n",
       "      <td>MTHLY</td>\n",
       "      <td>Pro DI</td>\n",
       "      <td>D</td>\n",
       "      <td>Y3</td>\n",
       "      <td>DEFERRED</td>\n",
       "      <td>1</td>\n",
       "      <td>3880.00</td>\n",
       "      <td>123.40</td>\n",
       "    </tr>\n",
       "    <tr>\n",
       "      <th>248868</th>\n",
       "      <td>2018-06-16</td>\n",
       "      <td>GBP</td>\n",
       "      <td>Creative</td>\n",
       "      <td>NaN</td>\n",
       "      <td>Subscription</td>\n",
       "      <td>SUITE</td>\n",
       "      <td>MTHLY</td>\n",
       "      <td>All Media</td>\n",
       "      <td>D</td>\n",
       "      <td>Y3</td>\n",
       "      <td>DEFERRED</td>\n",
       "      <td>1</td>\n",
       "      <td>9674.24</td>\n",
       "      <td>12886.74</td>\n",
       "    </tr>\n",
       "  </tbody>\n",
       "</table>\n",
       "</div>"
      ],
      "text/plain": [
       "       Day of Invoice Calender Date Document Currency Enterprise BU Desc  \\\n",
       "510757                   2019-10-30               USD           Creative   \n",
       "469714                   2018-11-05               USD           Creative   \n",
       "215509                   2017-12-30               GBP           Creative   \n",
       "448381                   2019-10-14               SGD           Creative   \n",
       "440007                   2019-06-12               SEK           Creative   \n",
       "236523                   2019-05-08               GBP           Creative   \n",
       "286530                   2019-09-04               INR           Creative   \n",
       "436423                   2019-04-20               SEK           Creative   \n",
       "460107                   2019-08-14               TWD           Creative   \n",
       "248868                   2018-06-16               GBP           Creative   \n",
       "\n",
       "       Frequency Major Product Config Desc Major Product Group Hier Desc  \\\n",
       "510757       NaN              Subscription                         POINT   \n",
       "469714       NaN                   Royalty                           NaN   \n",
       "215509       NaN              Subscription                           NaN   \n",
       "448381       NaN              Subscription                         SUITE   \n",
       "440007       NaN              Subscription                         SUITE   \n",
       "236523       NaN              Subscription                         POINT   \n",
       "286530       NaN              Subscription                         SUITE   \n",
       "436423       NaN              Subscription                         SUITE   \n",
       "460107       NaN              Subscription                         POINT   \n",
       "248868       NaN              Subscription                         SUITE   \n",
       "\n",
       "       Product Config Type      Product Mgt BU Rev Rec Category  \\\n",
       "510757                  1Y              Pro DI                A   \n",
       "469714                 NaN  Digital Publishing              NaN   \n",
       "215509                  1Y              Pro DI                A   \n",
       "448381               MTHLY           All Media                D   \n",
       "440007               MTHLY           All Media                D   \n",
       "236523                  1Y              Pro DI                D   \n",
       "286530                  1Y              Design                D   \n",
       "436423                  1Y           All Media                D   \n",
       "460107               MTHLY              Pro DI                D   \n",
       "248868               MTHLY           All Media                D   \n",
       "\n",
       "       Rule For Bill Date  Sales Type  Subscription Term  \\\n",
       "510757                NaN    DEFERRED                 12   \n",
       "469714                NaN  RECOGNIZED                  0   \n",
       "215509                NaN    DEFERRED                  1   \n",
       "448381                 Y3    DEFERRED                  1   \n",
       "440007                 Y3    DEFERRED                  1   \n",
       "236523                 Y3    DEFERRED                  1   \n",
       "286530                 Y3    DEFERRED                  1   \n",
       "436423                NaN    DEFERRED                  1   \n",
       "460107                 Y3    DEFERRED                  1   \n",
       "248868                 Y3    DEFERRED                  1   \n",
       "\n",
       "        Completed Sales ( DC )  Completed Sales  \n",
       "510757               458916.49        452802.49  \n",
       "469714               396861.00        396861.00  \n",
       "215509                 -114.02          -153.05  \n",
       "448381                  692.74           502.47  \n",
       "440007                18473.00          1958.88  \n",
       "236523                82586.26        107688.07  \n",
       "286530                  676.00             9.43  \n",
       "436423                 -321.97           -34.70  \n",
       "460107                 3880.00           123.40  \n",
       "248868                 9674.24         12886.74  "
      ]
     },
     "execution_count": 3,
     "metadata": {},
     "output_type": "execute_result"
    }
   ],
   "source": [
    "df.sample(10)"
   ]
  },
  {
   "cell_type": "code",
   "execution_count": 5,
   "metadata": {},
   "outputs": [
    {
     "name": "stdout",
     "output_type": "stream",
     "text": [
      "<class 'pandas.core.frame.DataFrame'>\n",
      "RangeIndex: 540144 entries, 0 to 540143\n",
      "Data columns (total 14 columns):\n",
      " #   Column                         Non-Null Count   Dtype         \n",
      "---  ------                         --------------   -----         \n",
      " 0   Day of Invoice Calender Date   540144 non-null  datetime64[ns]\n",
      " 1   Document Currency              540144 non-null  object        \n",
      " 2   Enterprise BU Desc             540144 non-null  object        \n",
      " 3   Frequency                      2627 non-null    object        \n",
      " 4   Major Product Config Desc      540144 non-null  object        \n",
      " 5   Major Product Group Hier Desc  388802 non-null  object        \n",
      " 6   Product Config Type            467105 non-null  object        \n",
      " 7   Product Mgt BU                 540144 non-null  object        \n",
      " 8   Rev Rec Category               480513 non-null  object        \n",
      " 9   Rule For Bill Date             300532 non-null  object        \n",
      " 10  Sales Type                     540144 non-null  object        \n",
      " 11  Subscription Term              540144 non-null  int64         \n",
      " 12  Completed Sales ( DC )         540119 non-null  float64       \n",
      " 13  Completed Sales                540144 non-null  float64       \n",
      "dtypes: datetime64[ns](1), float64(2), int64(1), object(10)\n",
      "memory usage: 57.7+ MB\n"
     ]
    }
   ],
   "source": [
    "df.info()"
   ]
  },
  {
   "cell_type": "code",
   "execution_count": 7,
   "metadata": {},
   "outputs": [
    {
     "data": {
      "text/plain": [
       "Subscription           450543\n",
       "Software as Service     37764\n",
       "Full                    24468\n",
       "Licensing               10569\n",
       "Upgrade                  8113\n",
       "Educational              5900\n",
       "Royalty                  1084\n",
       "Other                     747\n",
       "Upgrade Plan              666\n",
       "Royalty M&S               168\n",
       "Licensing M&S              79\n",
       "Consulting                 41\n",
       "OEM Bundles                 2\n",
       "Name: Major Product Config Desc, dtype: int64"
      ]
     },
     "execution_count": 7,
     "metadata": {},
     "output_type": "execute_result"
    }
   ],
   "source": [
    "df['Major Product Config Desc'].value_counts()"
   ]
  },
  {
   "cell_type": "code",
   "execution_count": 8,
   "metadata": {},
   "outputs": [
    {
     "data": {
      "text/plain": [
       "POINT    263558\n",
       "SUITE    125244\n",
       "Name: Major Product Group Hier Desc, dtype: int64"
      ]
     },
     "execution_count": 8,
     "metadata": {},
     "output_type": "execute_result"
    }
   ],
   "source": [
    "df['Major Product Group Hier Desc'].value_counts()"
   ]
  },
  {
   "cell_type": "code",
   "execution_count": 9,
   "metadata": {},
   "outputs": [
    {
     "data": {
      "text/plain": [
       "Pro DI                  118352\n",
       "Design                  112608\n",
       "All Media                98084\n",
       "DVA                      78309\n",
       "Stock Photography        68426\n",
       "Web                      41830\n",
       "Elements                 21277\n",
       "Digital Publishing         416\n",
       "Flash Builder              374\n",
       "CCE Stock                  292\n",
       "Distribution/Toolbar        96\n",
       "Mobile                      55\n",
       "Immersive Design            25\n",
       "Name: Product Mgt BU, dtype: int64"
      ]
     },
     "execution_count": 9,
     "metadata": {},
     "output_type": "execute_result"
    }
   ],
   "source": [
    "df['Product Mgt BU'].value_counts()"
   ]
  },
  {
   "cell_type": "code",
   "execution_count": 10,
   "metadata": {},
   "outputs": [
    {
     "data": {
      "text/plain": [
       "DEFERRED       491208\n",
       "RECOGNIZED      48901\n",
       "NON-REV            31\n",
       "PRO-SVC-INV         4\n",
       "Name: Sales Type, dtype: int64"
      ]
     },
     "execution_count": 10,
     "metadata": {},
     "output_type": "execute_result"
    }
   ],
   "source": [
    "df['Sales Type'].value_counts()"
   ]
  },
  {
   "cell_type": "markdown",
   "metadata": {},
   "source": [
    "# Changing the column names early since they are inconsistent across other reports"
   ]
  },
  {
   "cell_type": "code",
   "execution_count": 27,
   "metadata": {},
   "outputs": [
    {
     "data": {
      "text/plain": [
       "Index(['Day of Invoice Calender Date', 'curr', 'BU', 'freq', 'MPC_desc',\n",
       "       'point_or_suite', 'config', 'product', 'rev_req_type', 'rebill_rule',\n",
       "       'Sales Type', 'Subscription Term', 'DC_amount', 'US_amount'],\n",
       "      dtype='object')"
      ]
     },
     "execution_count": 27,
     "metadata": {},
     "output_type": "execute_result"
    }
   ],
   "source": [
    "df.columns"
   ]
  },
  {
   "cell_type": "code",
   "execution_count": 28,
   "metadata": {},
   "outputs": [],
   "source": [
    "df.rename(index = str, columns = {'Day of Invoice Calender Date': 'date', \n",
    "                                 'Document Currency':'curr',\n",
    "                                 'Enterprise BU Desc':'BU',\n",
    "                                 'Frequency':'freq',\n",
    "                                 'Major Product Config Desc':'MPC_desc',\n",
    "                                 'Major Product Group Hier Desc':'point_or_suite',\n",
    "                                 'Product Config Type': 'config',\n",
    "                                 'Product Mgt BU': 'product',\n",
    "                                 'Rev Rec Category': 'rev_req_type',\n",
    "                                 'Rule For Bill Date': 'rebill_rule',\n",
    "                                 'Completed Sales ( DC )': 'DC_amount',\n",
    "                                 'Completed Sales': 'US_amount'}, inplace=True)"
   ]
  },
  {
   "cell_type": "code",
   "execution_count": 29,
   "metadata": {},
   "outputs": [
    {
     "data": {
      "text/plain": [
       "Index(['date', 'curr', 'BU', 'freq', 'MPC_desc', 'point_or_suite', 'config',\n",
       "       'product', 'rev_req_type', 'rebill_rule', 'Sales Type',\n",
       "       'Subscription Term', 'DC_amount', 'US_amount'],\n",
       "      dtype='object')"
      ]
     },
     "execution_count": 29,
     "metadata": {},
     "output_type": "execute_result"
    }
   ],
   "source": [
    "df.columns"
   ]
  },
  {
   "cell_type": "code",
   "execution_count": 30,
   "metadata": {},
   "outputs": [
    {
     "data": {
      "text/html": [
       "<div>\n",
       "<style scoped>\n",
       "    .dataframe tbody tr th:only-of-type {\n",
       "        vertical-align: middle;\n",
       "    }\n",
       "\n",
       "    .dataframe tbody tr th {\n",
       "        vertical-align: top;\n",
       "    }\n",
       "\n",
       "    .dataframe thead th {\n",
       "        text-align: right;\n",
       "    }\n",
       "</style>\n",
       "<table border=\"1\" class=\"dataframe\">\n",
       "  <thead>\n",
       "    <tr style=\"text-align: right;\">\n",
       "      <th></th>\n",
       "      <th>date</th>\n",
       "      <th>curr</th>\n",
       "      <th>BU</th>\n",
       "      <th>freq</th>\n",
       "      <th>MPC_desc</th>\n",
       "      <th>point_or_suite</th>\n",
       "      <th>config</th>\n",
       "      <th>product</th>\n",
       "      <th>rev_req_type</th>\n",
       "      <th>rebill_rule</th>\n",
       "      <th>Sales Type</th>\n",
       "      <th>Subscription Term</th>\n",
       "      <th>DC_amount</th>\n",
       "      <th>US_amount</th>\n",
       "    </tr>\n",
       "  </thead>\n",
       "  <tbody>\n",
       "    <tr>\n",
       "      <th>73815</th>\n",
       "      <td>2018-06-30</td>\n",
       "      <td>CHF</td>\n",
       "      <td>Creative</td>\n",
       "      <td>NaN</td>\n",
       "      <td>Full</td>\n",
       "      <td>NaN</td>\n",
       "      <td>NaN</td>\n",
       "      <td>Pro DI</td>\n",
       "      <td>NaN</td>\n",
       "      <td>NaN</td>\n",
       "      <td>RECOGNIZED</td>\n",
       "      <td>0</td>\n",
       "      <td>476.00</td>\n",
       "      <td>479.40</td>\n",
       "    </tr>\n",
       "    <tr>\n",
       "      <th>22744</th>\n",
       "      <td>2018-11-10</td>\n",
       "      <td>AUD</td>\n",
       "      <td>Creative</td>\n",
       "      <td>NaN</td>\n",
       "      <td>Subscription</td>\n",
       "      <td>NaN</td>\n",
       "      <td>MTHLY</td>\n",
       "      <td>Stock Photography</td>\n",
       "      <td>D</td>\n",
       "      <td>NaN</td>\n",
       "      <td>DEFERRED</td>\n",
       "      <td>1</td>\n",
       "      <td>-35.99</td>\n",
       "      <td>-26.07</td>\n",
       "    </tr>\n",
       "    <tr>\n",
       "      <th>494254</th>\n",
       "      <td>2018-05-24</td>\n",
       "      <td>USD</td>\n",
       "      <td>Creative</td>\n",
       "      <td>NaN</td>\n",
       "      <td>Subscription</td>\n",
       "      <td>NaN</td>\n",
       "      <td>MTHLY</td>\n",
       "      <td>Stock Photography</td>\n",
       "      <td>D</td>\n",
       "      <td>Y3</td>\n",
       "      <td>DEFERRED</td>\n",
       "      <td>1</td>\n",
       "      <td>20560.31</td>\n",
       "      <td>20560.31</td>\n",
       "    </tr>\n",
       "    <tr>\n",
       "      <th>461224</th>\n",
       "      <td>2020-02-09</td>\n",
       "      <td>TWD</td>\n",
       "      <td>Creative</td>\n",
       "      <td>NaN</td>\n",
       "      <td>Subscription</td>\n",
       "      <td>SUITE</td>\n",
       "      <td>1Y</td>\n",
       "      <td>All Media</td>\n",
       "      <td>D</td>\n",
       "      <td>Y3</td>\n",
       "      <td>DEFERRED</td>\n",
       "      <td>1</td>\n",
       "      <td>231530.00</td>\n",
       "      <td>7675.95</td>\n",
       "    </tr>\n",
       "    <tr>\n",
       "      <th>304856</th>\n",
       "      <td>2020-01-12</td>\n",
       "      <td>JPY</td>\n",
       "      <td>Creative</td>\n",
       "      <td>NaN</td>\n",
       "      <td>Subscription</td>\n",
       "      <td>POINT</td>\n",
       "      <td>1Y</td>\n",
       "      <td>Design</td>\n",
       "      <td>A</td>\n",
       "      <td>NaN</td>\n",
       "      <td>DEFERRED</td>\n",
       "      <td>12</td>\n",
       "      <td>1991520.00</td>\n",
       "      <td>0.00</td>\n",
       "    </tr>\n",
       "    <tr>\n",
       "      <th>257441</th>\n",
       "      <td>2019-08-22</td>\n",
       "      <td>HKD</td>\n",
       "      <td>Creative</td>\n",
       "      <td>NaN</td>\n",
       "      <td>Subscription</td>\n",
       "      <td>NaN</td>\n",
       "      <td>1Y</td>\n",
       "      <td>Stock Photography</td>\n",
       "      <td>D</td>\n",
       "      <td>Y3</td>\n",
       "      <td>DEFERRED</td>\n",
       "      <td>1</td>\n",
       "      <td>11092.00</td>\n",
       "      <td>1414.13</td>\n",
       "    </tr>\n",
       "    <tr>\n",
       "      <th>365232</th>\n",
       "      <td>2019-07-09</td>\n",
       "      <td>NOK</td>\n",
       "      <td>Creative</td>\n",
       "      <td>NaN</td>\n",
       "      <td>Subscription</td>\n",
       "      <td>POINT</td>\n",
       "      <td>MTHLY</td>\n",
       "      <td>Design</td>\n",
       "      <td>D</td>\n",
       "      <td>Y3</td>\n",
       "      <td>DEFERRED</td>\n",
       "      <td>1</td>\n",
       "      <td>4245.00</td>\n",
       "      <td>495.45</td>\n",
       "    </tr>\n",
       "    <tr>\n",
       "      <th>125605</th>\n",
       "      <td>2018-07-06</td>\n",
       "      <td>DKK</td>\n",
       "      <td>Creative</td>\n",
       "      <td>NaN</td>\n",
       "      <td>Subscription</td>\n",
       "      <td>NaN</td>\n",
       "      <td>1Y</td>\n",
       "      <td>Stock Photography</td>\n",
       "      <td>A</td>\n",
       "      <td>NaN</td>\n",
       "      <td>DEFERRED</td>\n",
       "      <td>1</td>\n",
       "      <td>220.00</td>\n",
       "      <td>34.34</td>\n",
       "    </tr>\n",
       "    <tr>\n",
       "      <th>284612</th>\n",
       "      <td>2020-03-25</td>\n",
       "      <td>INR</td>\n",
       "      <td>Creative</td>\n",
       "      <td>NaN</td>\n",
       "      <td>Subscription</td>\n",
       "      <td>POINT</td>\n",
       "      <td>MTHLY</td>\n",
       "      <td>Pro DI</td>\n",
       "      <td>D</td>\n",
       "      <td>Y3</td>\n",
       "      <td>DEFERRED</td>\n",
       "      <td>1</td>\n",
       "      <td>31948.96</td>\n",
       "      <td>428.48</td>\n",
       "    </tr>\n",
       "    <tr>\n",
       "      <th>455350</th>\n",
       "      <td>2020-01-21</td>\n",
       "      <td>TRY</td>\n",
       "      <td>Creative</td>\n",
       "      <td>NaN</td>\n",
       "      <td>Subscription</td>\n",
       "      <td>SUITE</td>\n",
       "      <td>1Y</td>\n",
       "      <td>All Media</td>\n",
       "      <td>D</td>\n",
       "      <td>Y3</td>\n",
       "      <td>DEFERRED</td>\n",
       "      <td>1</td>\n",
       "      <td>11354.65</td>\n",
       "      <td>1932.65</td>\n",
       "    </tr>\n",
       "  </tbody>\n",
       "</table>\n",
       "</div>"
      ],
      "text/plain": [
       "             date curr        BU freq      MPC_desc point_or_suite config  \\\n",
       "73815  2018-06-30  CHF  Creative  NaN          Full            NaN    NaN   \n",
       "22744  2018-11-10  AUD  Creative  NaN  Subscription            NaN  MTHLY   \n",
       "494254 2018-05-24  USD  Creative  NaN  Subscription            NaN  MTHLY   \n",
       "461224 2020-02-09  TWD  Creative  NaN  Subscription          SUITE     1Y   \n",
       "304856 2020-01-12  JPY  Creative  NaN  Subscription          POINT     1Y   \n",
       "257441 2019-08-22  HKD  Creative  NaN  Subscription            NaN     1Y   \n",
       "365232 2019-07-09  NOK  Creative  NaN  Subscription          POINT  MTHLY   \n",
       "125605 2018-07-06  DKK  Creative  NaN  Subscription            NaN     1Y   \n",
       "284612 2020-03-25  INR  Creative  NaN  Subscription          POINT  MTHLY   \n",
       "455350 2020-01-21  TRY  Creative  NaN  Subscription          SUITE     1Y   \n",
       "\n",
       "                  product rev_req_type rebill_rule  Sales Type  \\\n",
       "73815              Pro DI          NaN         NaN  RECOGNIZED   \n",
       "22744   Stock Photography            D         NaN    DEFERRED   \n",
       "494254  Stock Photography            D          Y3    DEFERRED   \n",
       "461224          All Media            D          Y3    DEFERRED   \n",
       "304856             Design            A         NaN    DEFERRED   \n",
       "257441  Stock Photography            D          Y3    DEFERRED   \n",
       "365232             Design            D          Y3    DEFERRED   \n",
       "125605  Stock Photography            A         NaN    DEFERRED   \n",
       "284612             Pro DI            D          Y3    DEFERRED   \n",
       "455350          All Media            D          Y3    DEFERRED   \n",
       "\n",
       "        Subscription Term   DC_amount  US_amount  \n",
       "73815                   0      476.00     479.40  \n",
       "22744                   1      -35.99     -26.07  \n",
       "494254                  1    20560.31   20560.31  \n",
       "461224                  1   231530.00    7675.95  \n",
       "304856                 12  1991520.00       0.00  \n",
       "257441                  1    11092.00    1414.13  \n",
       "365232                  1     4245.00     495.45  \n",
       "125605                  1      220.00      34.34  \n",
       "284612                  1    31948.96     428.48  \n",
       "455350                  1    11354.65    1932.65  "
      ]
     },
     "execution_count": 30,
     "metadata": {},
     "output_type": "execute_result"
    }
   ],
   "source": [
    "df.sample(10)"
   ]
  },
  {
   "cell_type": "code",
   "execution_count": null,
   "metadata": {},
   "outputs": [],
   "source": []
  },
  {
   "cell_type": "code",
   "execution_count": null,
   "metadata": {},
   "outputs": [],
   "source": []
  },
  {
   "cell_type": "markdown",
   "metadata": {},
   "source": [
    "## Filter that removes any currency that has  < 10 transactions. \n"
   ]
  },
  {
   "cell_type": "code",
   "execution_count": 15,
   "metadata": {},
   "outputs": [
    {
     "name": "stdout",
     "output_type": "stream",
     "text": [
      "USD    78095\n",
      "EUR    57906\n",
      "GBP    48557\n",
      "JPY    47687\n",
      "AUD    43923\n",
      "CHF    32439\n",
      "SEK    30879\n",
      "NOK    28249\n",
      "DKK    27260\n",
      "HKD    21137\n",
      "BRL    20378\n",
      "RUB    19764\n",
      "KRW    13546\n",
      "ARS     7487\n",
      "INR     7451\n",
      "CLP     7059\n",
      "COP     7021\n",
      "TWD     6482\n",
      "SGD     6268\n",
      "THB     5806\n",
      "PEN     5520\n",
      "PHP     5296\n",
      "MYR     4435\n",
      "IDR     4304\n",
      "ILS     1283\n",
      "TRY     1046\n",
      "CAD      860\n",
      "SAR        5\n",
      "AED        1\n",
      "Name: curr, dtype: int64\n"
     ]
    }
   ],
   "source": [
    "# creates a list of the currencies and the number of transactions for each currency\n",
    "vc = df['curr'].value_counts()\n",
    "print(vc)"
   ]
  },
  {
   "cell_type": "code",
   "execution_count": 16,
   "metadata": {},
   "outputs": [],
   "source": [
    "# Create variable that is true if the number of transaction is greater than 10, false otherwise\n",
    "keep_these = vc.values > 10\n",
    "# filtering only currencies that were greater than 10\n",
    "keep_curr = vc[keep_these]\n",
    "a = keep_curr.index\n",
    "# filtering the dataframe to remove any of teh currencies not in our list\n",
    "df = df[df['curr'].isin(a)]"
   ]
  },
  {
   "cell_type": "markdown",
   "metadata": {},
   "source": [
    "## Just keeping track of the currencies we removed in our model_dict data structure"
   ]
  },
  {
   "cell_type": "code",
   "execution_count": 31,
   "metadata": {},
   "outputs": [],
   "source": [
    "remove_these = vc[vc.values <= 10].index\n",
    "model_dict = {'curr_removed': list(vc[remove_these].index)}\n",
    "delete_curr = list(remove_these)"
   ]
  },
  {
   "cell_type": "markdown",
   "metadata": {},
   "source": [
    "## The FX database does not have information on the following currencies\n",
    " - AED (United Arab Emirates Dirham)\n",
    " - BMD (Bermudan Dollar)\n",
    " - MXP (Mexican Peso)\n",
    " - TRY (Turkish Lira)"
   ]
  },
  {
   "cell_type": "code",
   "execution_count": 32,
   "metadata": {},
   "outputs": [
    {
     "ename": "KeyError",
     "evalue": "\"['TRY'] not found in axis\"",
     "output_type": "error",
     "traceback": [
      "\u001b[0;31m---------------------------------------------------------------------------\u001b[0m",
      "\u001b[0;31mKeyError\u001b[0m                                  Traceback (most recent call last)",
      "\u001b[0;32m<ipython-input-32-649f6a33c0a7>\u001b[0m in \u001b[0;36m<module>\u001b[0;34m\u001b[0m\n\u001b[1;32m      2\u001b[0m     \u001b[0mmodel_dict\u001b[0m\u001b[0;34m[\u001b[0m\u001b[0;34m'curr_removed'\u001b[0m\u001b[0;34m]\u001b[0m\u001b[0;34m.\u001b[0m\u001b[0mappend\u001b[0m\u001b[0;34m(\u001b[0m\u001b[0;34m'TRY'\u001b[0m\u001b[0;34m)\u001b[0m\u001b[0;34m\u001b[0m\u001b[0;34m\u001b[0m\u001b[0m\n\u001b[1;32m      3\u001b[0m     \u001b[0mdelete_curr\u001b[0m\u001b[0;34m.\u001b[0m\u001b[0mappend\u001b[0m\u001b[0;34m(\u001b[0m\u001b[0;34m'TRY'\u001b[0m\u001b[0;34m)\u001b[0m\u001b[0;34m\u001b[0m\u001b[0;34m\u001b[0m\u001b[0m\n\u001b[0;32m----> 4\u001b[0;31m     \u001b[0ma\u001b[0m \u001b[0;34m=\u001b[0m \u001b[0ma\u001b[0m\u001b[0;34m.\u001b[0m\u001b[0mdrop\u001b[0m\u001b[0;34m(\u001b[0m\u001b[0;34m'TRY'\u001b[0m\u001b[0;34m)\u001b[0m\u001b[0;34m\u001b[0m\u001b[0;34m\u001b[0m\u001b[0m\n\u001b[0m\u001b[1;32m      5\u001b[0m \u001b[0;34m\u001b[0m\u001b[0m\n\u001b[1;32m      6\u001b[0m \u001b[0mprint\u001b[0m\u001b[0;34m(\u001b[0m\u001b[0;34m'Model dictionary'\u001b[0m\u001b[0;34m,\u001b[0m \u001b[0mmodel_dict\u001b[0m\u001b[0;34m)\u001b[0m\u001b[0;34m\u001b[0m\u001b[0;34m\u001b[0m\u001b[0m\n",
      "\u001b[0;32m~/anaconda3/lib/python3.7/site-packages/pandas/core/indexes/base.py\u001b[0m in \u001b[0;36mdrop\u001b[0;34m(self, labels, errors)\u001b[0m\n\u001b[1;32m   5016\u001b[0m         \u001b[0;32mif\u001b[0m \u001b[0mmask\u001b[0m\u001b[0;34m.\u001b[0m\u001b[0many\u001b[0m\u001b[0;34m(\u001b[0m\u001b[0;34m)\u001b[0m\u001b[0;34m:\u001b[0m\u001b[0;34m\u001b[0m\u001b[0;34m\u001b[0m\u001b[0m\n\u001b[1;32m   5017\u001b[0m             \u001b[0;32mif\u001b[0m \u001b[0merrors\u001b[0m \u001b[0;34m!=\u001b[0m \u001b[0;34m\"ignore\"\u001b[0m\u001b[0;34m:\u001b[0m\u001b[0;34m\u001b[0m\u001b[0;34m\u001b[0m\u001b[0m\n\u001b[0;32m-> 5018\u001b[0;31m                 \u001b[0;32mraise\u001b[0m \u001b[0mKeyError\u001b[0m\u001b[0;34m(\u001b[0m\u001b[0;34mf\"{labels[mask]} not found in axis\"\u001b[0m\u001b[0;34m)\u001b[0m\u001b[0;34m\u001b[0m\u001b[0;34m\u001b[0m\u001b[0m\n\u001b[0m\u001b[1;32m   5019\u001b[0m             \u001b[0mindexer\u001b[0m \u001b[0;34m=\u001b[0m \u001b[0mindexer\u001b[0m\u001b[0;34m[\u001b[0m\u001b[0;34m~\u001b[0m\u001b[0mmask\u001b[0m\u001b[0;34m]\u001b[0m\u001b[0;34m\u001b[0m\u001b[0;34m\u001b[0m\u001b[0m\n\u001b[1;32m   5020\u001b[0m         \u001b[0;32mreturn\u001b[0m \u001b[0mself\u001b[0m\u001b[0;34m.\u001b[0m\u001b[0mdelete\u001b[0m\u001b[0;34m(\u001b[0m\u001b[0mindexer\u001b[0m\u001b[0;34m)\u001b[0m\u001b[0;34m\u001b[0m\u001b[0;34m\u001b[0m\u001b[0m\n",
      "\u001b[0;31mKeyError\u001b[0m: \"['TRY'] not found in axis\""
     ]
    }
   ],
   "source": [
    "if 'TRY' not in model_dict:\n",
    "    model_dict['curr_removed'].append('TRY')\n",
    "    delete_curr.append('TRY')\n",
    "    a = a.drop('TRY')\n",
    "    \n",
    "print('Model dictionary', model_dict)\n",
    "print('Deleted Currencies', delete_curr)"
   ]
  },
  {
   "cell_type": "code",
   "execution_count": 19,
   "metadata": {},
   "outputs": [
    {
     "name": "stdout",
     "output_type": "stream",
     "text": [
      "---Removing infrequent currencies from billings history---\n",
      "Total number of currencies in the base billings file:  29\n",
      "\n",
      " Currencies were removed:  3\n",
      "SAR , AED , \n",
      "\n",
      "26 Remaining currencies: \n",
      "USD , EUR , GBP , JPY , AUD , CHF , SEK , NOK , DKK , HKD , BRL , RUB , KRW , ARS , INR , CLP , COP , TWD , SGD , THB , PEN , PHP , MYR , IDR , ILS , CAD , "
     ]
    }
   ],
   "source": [
    "print(\"---Removing infrequent currencies from billings history---\")\n",
    "print('Total number of currencies in the base billings file: ', len(vc))\n",
    "if len(model_dict['curr_removed'])==0:\n",
    "    print('No currencies were removed, all contained 10 or more billings')\n",
    "    print('Currencies in the base billings file')\n",
    "    for item in a:\n",
    "        print(a[item], end = \" \")\n",
    "else:\n",
    "    print('\\n Currencies were removed: ', len(model_dict['curr_removed']))\n",
    "\n",
    "    for item in remove_these:\n",
    "        print(item, ', ', end=\"\")\n",
    "        \n",
    "    print(\"\\n\\n{} Remaining currencies: \".format(len(a)))\n",
    "    for item in a:\n",
    "        print(item, ', ', end=\"\")"
   ]
  },
  {
   "cell_type": "code",
   "execution_count": null,
   "metadata": {},
   "outputs": [],
   "source": []
  },
  {
   "cell_type": "markdown",
   "metadata": {},
   "source": [
    "# Removing any of the values that are zero"
   ]
  },
  {
   "cell_type": "code",
   "execution_count": 34,
   "metadata": {},
   "outputs": [
    {
     "name": "stdout",
     "output_type": "stream",
     "text": [
      "This is the length of the dataframe before removing zeros:  534823\n",
      "This is the length of the dataframe after removing zeros:  534823\n"
     ]
    }
   ],
   "source": [
    "print('This is the length of the dataframe before removing zeros: ', len(df))\n",
    "df = df[df['DC_amount']!=0]\n",
    "print('This is the length of the dataframe after removing zeros: ', len(df))"
   ]
  },
  {
   "cell_type": "code",
   "execution_count": 35,
   "metadata": {},
   "outputs": [
    {
     "data": {
      "text/html": [
       "<div>\n",
       "<style scoped>\n",
       "    .dataframe tbody tr th:only-of-type {\n",
       "        vertical-align: middle;\n",
       "    }\n",
       "\n",
       "    .dataframe tbody tr th {\n",
       "        vertical-align: top;\n",
       "    }\n",
       "\n",
       "    .dataframe thead th {\n",
       "        text-align: right;\n",
       "    }\n",
       "</style>\n",
       "<table border=\"1\" class=\"dataframe\">\n",
       "  <thead>\n",
       "    <tr style=\"text-align: right;\">\n",
       "      <th></th>\n",
       "      <th>date</th>\n",
       "      <th>curr</th>\n",
       "      <th>BU</th>\n",
       "      <th>freq</th>\n",
       "      <th>MPC_desc</th>\n",
       "      <th>point_or_suite</th>\n",
       "      <th>config</th>\n",
       "      <th>product</th>\n",
       "      <th>rev_req_type</th>\n",
       "      <th>rebill_rule</th>\n",
       "      <th>Sales Type</th>\n",
       "      <th>Subscription Term</th>\n",
       "      <th>DC_amount</th>\n",
       "      <th>US_amount</th>\n",
       "    </tr>\n",
       "  </thead>\n",
       "  <tbody>\n",
       "    <tr>\n",
       "      <th>41536</th>\n",
       "      <td>2019-03-29</td>\n",
       "      <td>AUD</td>\n",
       "      <td>Creative</td>\n",
       "      <td>NaN</td>\n",
       "      <td>Subscription</td>\n",
       "      <td>POINT</td>\n",
       "      <td>1Y</td>\n",
       "      <td>Web</td>\n",
       "      <td>D</td>\n",
       "      <td>YA</td>\n",
       "      <td>DEFERRED</td>\n",
       "      <td>12</td>\n",
       "      <td>994.52</td>\n",
       "      <td>706.10</td>\n",
       "    </tr>\n",
       "    <tr>\n",
       "      <th>500453</th>\n",
       "      <td>2019-05-03</td>\n",
       "      <td>USD</td>\n",
       "      <td>Creative</td>\n",
       "      <td>NaN</td>\n",
       "      <td>Subscription</td>\n",
       "      <td>POINT</td>\n",
       "      <td>MTHLY</td>\n",
       "      <td>Design</td>\n",
       "      <td>D</td>\n",
       "      <td>NaN</td>\n",
       "      <td>DEFERRED</td>\n",
       "      <td>1</td>\n",
       "      <td>-2418.54</td>\n",
       "      <td>-2418.54</td>\n",
       "    </tr>\n",
       "    <tr>\n",
       "      <th>509617</th>\n",
       "      <td>2019-07-02</td>\n",
       "      <td>USD</td>\n",
       "      <td>Creative</td>\n",
       "      <td>NaN</td>\n",
       "      <td>Subscription</td>\n",
       "      <td>POINT</td>\n",
       "      <td>1Y</td>\n",
       "      <td>Pro DI</td>\n",
       "      <td>A</td>\n",
       "      <td>NaN</td>\n",
       "      <td>DEFERRED</td>\n",
       "      <td>1</td>\n",
       "      <td>93570.58</td>\n",
       "      <td>93570.58</td>\n",
       "    </tr>\n",
       "    <tr>\n",
       "      <th>117746</th>\n",
       "      <td>2019-05-11</td>\n",
       "      <td>COP</td>\n",
       "      <td>Creative</td>\n",
       "      <td>NaN</td>\n",
       "      <td>Subscription</td>\n",
       "      <td>SUITE</td>\n",
       "      <td>1Y</td>\n",
       "      <td>All Media</td>\n",
       "      <td>D</td>\n",
       "      <td>Y3</td>\n",
       "      <td>DEFERRED</td>\n",
       "      <td>1</td>\n",
       "      <td>5423399.53</td>\n",
       "      <td>1650.45</td>\n",
       "    </tr>\n",
       "    <tr>\n",
       "      <th>255512</th>\n",
       "      <td>2020-01-26</td>\n",
       "      <td>HKD</td>\n",
       "      <td>Creative</td>\n",
       "      <td>NaN</td>\n",
       "      <td>Subscription</td>\n",
       "      <td>NaN</td>\n",
       "      <td>1Y</td>\n",
       "      <td>Pro DI</td>\n",
       "      <td>D</td>\n",
       "      <td>Y3</td>\n",
       "      <td>DEFERRED</td>\n",
       "      <td>1</td>\n",
       "      <td>3832.00</td>\n",
       "      <td>493.06</td>\n",
       "    </tr>\n",
       "    <tr>\n",
       "      <th>307960</th>\n",
       "      <td>2019-06-07</td>\n",
       "      <td>JPY</td>\n",
       "      <td>Creative</td>\n",
       "      <td>NaN</td>\n",
       "      <td>Subscription</td>\n",
       "      <td>POINT</td>\n",
       "      <td>1Y</td>\n",
       "      <td>Design</td>\n",
       "      <td>D</td>\n",
       "      <td>YA</td>\n",
       "      <td>DEFERRED</td>\n",
       "      <td>12</td>\n",
       "      <td>3901130.00</td>\n",
       "      <td>35747.84</td>\n",
       "    </tr>\n",
       "    <tr>\n",
       "      <th>502794</th>\n",
       "      <td>2019-11-04</td>\n",
       "      <td>USD</td>\n",
       "      <td>Creative</td>\n",
       "      <td>NaN</td>\n",
       "      <td>Subscription</td>\n",
       "      <td>POINT</td>\n",
       "      <td>1Y</td>\n",
       "      <td>DVA</td>\n",
       "      <td>A</td>\n",
       "      <td>NaN</td>\n",
       "      <td>DEFERRED</td>\n",
       "      <td>1</td>\n",
       "      <td>49258.22</td>\n",
       "      <td>49258.22</td>\n",
       "    </tr>\n",
       "    <tr>\n",
       "      <th>171499</th>\n",
       "      <td>2020-03-10</td>\n",
       "      <td>EUR</td>\n",
       "      <td>Creative</td>\n",
       "      <td>NaN</td>\n",
       "      <td>Subscription</td>\n",
       "      <td>POINT</td>\n",
       "      <td>1Y</td>\n",
       "      <td>Design</td>\n",
       "      <td>A</td>\n",
       "      <td>NaN</td>\n",
       "      <td>DEFERRED</td>\n",
       "      <td>12</td>\n",
       "      <td>108245.39</td>\n",
       "      <td>121156.79</td>\n",
       "    </tr>\n",
       "    <tr>\n",
       "      <th>310199</th>\n",
       "      <td>2018-02-28</td>\n",
       "      <td>JPY</td>\n",
       "      <td>Creative</td>\n",
       "      <td>NaN</td>\n",
       "      <td>Subscription</td>\n",
       "      <td>POINT</td>\n",
       "      <td>1Y</td>\n",
       "      <td>DVA</td>\n",
       "      <td>A</td>\n",
       "      <td>NaN</td>\n",
       "      <td>DEFERRED</td>\n",
       "      <td>1</td>\n",
       "      <td>36915.00</td>\n",
       "      <td>344.77</td>\n",
       "    </tr>\n",
       "    <tr>\n",
       "      <th>80331</th>\n",
       "      <td>2020-03-10</td>\n",
       "      <td>CHF</td>\n",
       "      <td>Creative</td>\n",
       "      <td>NaN</td>\n",
       "      <td>Subscription</td>\n",
       "      <td>NaN</td>\n",
       "      <td>1Y</td>\n",
       "      <td>Pro DI</td>\n",
       "      <td>D</td>\n",
       "      <td>Y3</td>\n",
       "      <td>DEFERRED</td>\n",
       "      <td>1</td>\n",
       "      <td>2142.00</td>\n",
       "      <td>2252.57</td>\n",
       "    </tr>\n",
       "  </tbody>\n",
       "</table>\n",
       "</div>"
      ],
      "text/plain": [
       "             date curr        BU freq      MPC_desc point_or_suite config  \\\n",
       "41536  2019-03-29  AUD  Creative  NaN  Subscription          POINT     1Y   \n",
       "500453 2019-05-03  USD  Creative  NaN  Subscription          POINT  MTHLY   \n",
       "509617 2019-07-02  USD  Creative  NaN  Subscription          POINT     1Y   \n",
       "117746 2019-05-11  COP  Creative  NaN  Subscription          SUITE     1Y   \n",
       "255512 2020-01-26  HKD  Creative  NaN  Subscription            NaN     1Y   \n",
       "307960 2019-06-07  JPY  Creative  NaN  Subscription          POINT     1Y   \n",
       "502794 2019-11-04  USD  Creative  NaN  Subscription          POINT     1Y   \n",
       "171499 2020-03-10  EUR  Creative  NaN  Subscription          POINT     1Y   \n",
       "310199 2018-02-28  JPY  Creative  NaN  Subscription          POINT     1Y   \n",
       "80331  2020-03-10  CHF  Creative  NaN  Subscription            NaN     1Y   \n",
       "\n",
       "          product rev_req_type rebill_rule Sales Type  Subscription Term  \\\n",
       "41536         Web            D          YA   DEFERRED                 12   \n",
       "500453     Design            D         NaN   DEFERRED                  1   \n",
       "509617     Pro DI            A         NaN   DEFERRED                  1   \n",
       "117746  All Media            D          Y3   DEFERRED                  1   \n",
       "255512     Pro DI            D          Y3   DEFERRED                  1   \n",
       "307960     Design            D          YA   DEFERRED                 12   \n",
       "502794        DVA            A         NaN   DEFERRED                  1   \n",
       "171499     Design            A         NaN   DEFERRED                 12   \n",
       "310199        DVA            A         NaN   DEFERRED                  1   \n",
       "80331      Pro DI            D          Y3   DEFERRED                  1   \n",
       "\n",
       "         DC_amount  US_amount  \n",
       "41536       994.52     706.10  \n",
       "500453    -2418.54   -2418.54  \n",
       "509617    93570.58   93570.58  \n",
       "117746  5423399.53    1650.45  \n",
       "255512     3832.00     493.06  \n",
       "307960  3901130.00   35747.84  \n",
       "502794    49258.22   49258.22  \n",
       "171499   108245.39  121156.79  \n",
       "310199    36915.00     344.77  \n",
       "80331      2142.00    2252.57  "
      ]
     },
     "execution_count": 35,
     "metadata": {},
     "output_type": "execute_result"
    }
   ],
   "source": [
    "df.sample(10)"
   ]
  },
  {
   "cell_type": "markdown",
   "metadata": {},
   "source": [
    "## Clearing out the Non-Revenue billings from the file\n",
    " - No Idea what these are"
   ]
  },
  {
   "cell_type": "code",
   "execution_count": 36,
   "metadata": {},
   "outputs": [
    {
     "data": {
      "text/plain": [
       "DEFERRED       486788\n",
       "RECOGNIZED      48031\n",
       "PRO-SVC-INV         4\n",
       "Name: Sales Type, dtype: int64"
      ]
     },
     "execution_count": 36,
     "metadata": {},
     "output_type": "execute_result"
    }
   ],
   "source": [
    "df[\"Sales Type\"].value_counts()"
   ]
  },
  {
   "cell_type": "code",
   "execution_count": 37,
   "metadata": {},
   "outputs": [
    {
     "name": "stdout",
     "output_type": "stream",
     "text": [
      "Length of the dataframe before removing non-revenue billings:  534823\n",
      "Length of the dataframe after removing non-revenue billings:   534823\n"
     ]
    }
   ],
   "source": [
    "print('Length of the dataframe before removing non-revenue billings: ', len(df))\n",
    "df = df[df['Sales Type']!='NON-REV']\n",
    "print('Length of the dataframe after removing non-revenue billings:  ', len(df))\n"
   ]
  },
  {
   "cell_type": "markdown",
   "metadata": {},
   "source": [
    "## Starting to group the revenue by period, industry, etc"
   ]
  },
  {
   "cell_type": "markdown",
   "metadata": {},
   "source": [
    "Attempting to group by the following categories\n",
    " - currency\n",
    " - period\n",
    " - sale type\n",
    " \n",
    "May need to process the data differently with the deferred billings so we will start with the recognized and then the service billings\n",
    "\n",
    "# DOING THIS ALL IN PANDAS WITH SPLIT APPLY COMBINE on Sales Type \n"
   ]
  },
  {
   "cell_type": "code",
   "execution_count": 38,
   "metadata": {},
   "outputs": [],
   "source": [
    "# First split the data into three dataframes\n",
    "# Recognized billings\n",
    "rec = df[df['Sales Type']=='RECOGNIZED']\n",
    "svc = df[df['Sales Type']=='PRO-SVC-INV']\n",
    "dfr = df[df['Sales Type']=='DEFERRED']"
   ]
  },
  {
   "cell_type": "markdown",
   "metadata": {},
   "source": [
    "# NOW WORKING ON THE BILLINGS"
   ]
  },
  {
   "cell_type": "markdown",
   "metadata": {},
   "source": [
    "### Recognized Revenue"
   ]
  },
  {
   "cell_type": "code",
   "execution_count": 39,
   "metadata": {},
   "outputs": [
    {
     "data": {
      "text/html": [
       "<div>\n",
       "<style scoped>\n",
       "    .dataframe tbody tr th:only-of-type {\n",
       "        vertical-align: middle;\n",
       "    }\n",
       "\n",
       "    .dataframe tbody tr th {\n",
       "        vertical-align: top;\n",
       "    }\n",
       "\n",
       "    .dataframe thead th {\n",
       "        text-align: right;\n",
       "    }\n",
       "</style>\n",
       "<table border=\"1\" class=\"dataframe\">\n",
       "  <thead>\n",
       "    <tr style=\"text-align: right;\">\n",
       "      <th></th>\n",
       "      <th>date</th>\n",
       "      <th>curr</th>\n",
       "      <th>BU</th>\n",
       "      <th>freq</th>\n",
       "      <th>MPC_desc</th>\n",
       "      <th>point_or_suite</th>\n",
       "      <th>config</th>\n",
       "      <th>product</th>\n",
       "      <th>rev_req_type</th>\n",
       "      <th>rebill_rule</th>\n",
       "      <th>Sales Type</th>\n",
       "      <th>Subscription Term</th>\n",
       "      <th>DC_amount</th>\n",
       "      <th>US_amount</th>\n",
       "    </tr>\n",
       "  </thead>\n",
       "  <tbody>\n",
       "    <tr>\n",
       "      <th>150945</th>\n",
       "      <td>2019-09-05</td>\n",
       "      <td>EUR</td>\n",
       "      <td>Creative</td>\n",
       "      <td>NaN</td>\n",
       "      <td>Licensing</td>\n",
       "      <td>NaN</td>\n",
       "      <td>NaN</td>\n",
       "      <td>Elements</td>\n",
       "      <td>NaN</td>\n",
       "      <td>NaN</td>\n",
       "      <td>RECOGNIZED</td>\n",
       "      <td>0</td>\n",
       "      <td>1361.00</td>\n",
       "      <td>1505.54</td>\n",
       "    </tr>\n",
       "    <tr>\n",
       "      <th>292268</th>\n",
       "      <td>2017-12-08</td>\n",
       "      <td>JPY</td>\n",
       "      <td>Creative</td>\n",
       "      <td>NaN</td>\n",
       "      <td>Other</td>\n",
       "      <td>NaN</td>\n",
       "      <td>NaN</td>\n",
       "      <td>Elements</td>\n",
       "      <td>NaN</td>\n",
       "      <td>NaN</td>\n",
       "      <td>RECOGNIZED</td>\n",
       "      <td>0</td>\n",
       "      <td>5400.00</td>\n",
       "      <td>48.28</td>\n",
       "    </tr>\n",
       "    <tr>\n",
       "      <th>413059</th>\n",
       "      <td>2018-10-29</td>\n",
       "      <td>SEK</td>\n",
       "      <td>Creative</td>\n",
       "      <td>NaN</td>\n",
       "      <td>Full</td>\n",
       "      <td>NaN</td>\n",
       "      <td>NaN</td>\n",
       "      <td>Stock Photography</td>\n",
       "      <td>NaN</td>\n",
       "      <td>NaN</td>\n",
       "      <td>RECOGNIZED</td>\n",
       "      <td>0</td>\n",
       "      <td>4527.00</td>\n",
       "      <td>498.55</td>\n",
       "    </tr>\n",
       "    <tr>\n",
       "      <th>202379</th>\n",
       "      <td>2018-09-28</td>\n",
       "      <td>EUR</td>\n",
       "      <td>Creative</td>\n",
       "      <td>NaN</td>\n",
       "      <td>Upgrade</td>\n",
       "      <td>NaN</td>\n",
       "      <td>NaN</td>\n",
       "      <td>Elements</td>\n",
       "      <td>NaN</td>\n",
       "      <td>NaN</td>\n",
       "      <td>RECOGNIZED</td>\n",
       "      <td>0</td>\n",
       "      <td>1024.00</td>\n",
       "      <td>1199.11</td>\n",
       "    </tr>\n",
       "    <tr>\n",
       "      <th>478736</th>\n",
       "      <td>2019-04-18</td>\n",
       "      <td>USD</td>\n",
       "      <td>Creative</td>\n",
       "      <td>NaN</td>\n",
       "      <td>Software as Service</td>\n",
       "      <td>SUITE</td>\n",
       "      <td>NaN</td>\n",
       "      <td>All Media</td>\n",
       "      <td>NaN</td>\n",
       "      <td>NaN</td>\n",
       "      <td>RECOGNIZED</td>\n",
       "      <td>0</td>\n",
       "      <td>324.00</td>\n",
       "      <td>324.00</td>\n",
       "    </tr>\n",
       "    <tr>\n",
       "      <th>538904</th>\n",
       "      <td>2019-01-17</td>\n",
       "      <td>USD</td>\n",
       "      <td>Creative</td>\n",
       "      <td>ACTL</td>\n",
       "      <td>Software as Service</td>\n",
       "      <td>POINT</td>\n",
       "      <td>ONORE</td>\n",
       "      <td>Design</td>\n",
       "      <td>NaN</td>\n",
       "      <td>NaN</td>\n",
       "      <td>RECOGNIZED</td>\n",
       "      <td>0</td>\n",
       "      <td>82011.70</td>\n",
       "      <td>82011.70</td>\n",
       "    </tr>\n",
       "    <tr>\n",
       "      <th>392276</th>\n",
       "      <td>2018-07-18</td>\n",
       "      <td>RUB</td>\n",
       "      <td>Creative</td>\n",
       "      <td>NaN</td>\n",
       "      <td>Full</td>\n",
       "      <td>NaN</td>\n",
       "      <td>NaN</td>\n",
       "      <td>Stock Photography</td>\n",
       "      <td>NaN</td>\n",
       "      <td>NaN</td>\n",
       "      <td>RECOGNIZED</td>\n",
       "      <td>0</td>\n",
       "      <td>7731.00</td>\n",
       "      <td>124.16</td>\n",
       "    </tr>\n",
       "    <tr>\n",
       "      <th>465952</th>\n",
       "      <td>2018-12-04</td>\n",
       "      <td>USD</td>\n",
       "      <td>Creative</td>\n",
       "      <td>NaN</td>\n",
       "      <td>Full</td>\n",
       "      <td>NaN</td>\n",
       "      <td>NaN</td>\n",
       "      <td>Stock Photography</td>\n",
       "      <td>NaN</td>\n",
       "      <td>NaN</td>\n",
       "      <td>RECOGNIZED</td>\n",
       "      <td>0</td>\n",
       "      <td>22121.64</td>\n",
       "      <td>22121.64</td>\n",
       "    </tr>\n",
       "    <tr>\n",
       "      <th>467097</th>\n",
       "      <td>2019-05-19</td>\n",
       "      <td>USD</td>\n",
       "      <td>Creative</td>\n",
       "      <td>NaN</td>\n",
       "      <td>Licensing</td>\n",
       "      <td>NaN</td>\n",
       "      <td>NaN</td>\n",
       "      <td>Elements</td>\n",
       "      <td>NaN</td>\n",
       "      <td>NaN</td>\n",
       "      <td>RECOGNIZED</td>\n",
       "      <td>0</td>\n",
       "      <td>33.00</td>\n",
       "      <td>33.00</td>\n",
       "    </tr>\n",
       "    <tr>\n",
       "      <th>74322</th>\n",
       "      <td>2018-03-18</td>\n",
       "      <td>CHF</td>\n",
       "      <td>Creative</td>\n",
       "      <td>NaN</td>\n",
       "      <td>Full</td>\n",
       "      <td>NaN</td>\n",
       "      <td>NaN</td>\n",
       "      <td>Stock Photography</td>\n",
       "      <td>NaN</td>\n",
       "      <td>NaN</td>\n",
       "      <td>RECOGNIZED</td>\n",
       "      <td>0</td>\n",
       "      <td>786.00</td>\n",
       "      <td>828.96</td>\n",
       "    </tr>\n",
       "  </tbody>\n",
       "</table>\n",
       "</div>"
      ],
      "text/plain": [
       "             date curr        BU  freq             MPC_desc point_or_suite  \\\n",
       "150945 2019-09-05  EUR  Creative   NaN            Licensing            NaN   \n",
       "292268 2017-12-08  JPY  Creative   NaN                Other            NaN   \n",
       "413059 2018-10-29  SEK  Creative   NaN                 Full            NaN   \n",
       "202379 2018-09-28  EUR  Creative   NaN              Upgrade            NaN   \n",
       "478736 2019-04-18  USD  Creative   NaN  Software as Service          SUITE   \n",
       "538904 2019-01-17  USD  Creative  ACTL  Software as Service          POINT   \n",
       "392276 2018-07-18  RUB  Creative   NaN                 Full            NaN   \n",
       "465952 2018-12-04  USD  Creative   NaN                 Full            NaN   \n",
       "467097 2019-05-19  USD  Creative   NaN            Licensing            NaN   \n",
       "74322  2018-03-18  CHF  Creative   NaN                 Full            NaN   \n",
       "\n",
       "       config            product rev_req_type rebill_rule  Sales Type  \\\n",
       "150945    NaN           Elements          NaN         NaN  RECOGNIZED   \n",
       "292268    NaN           Elements          NaN         NaN  RECOGNIZED   \n",
       "413059    NaN  Stock Photography          NaN         NaN  RECOGNIZED   \n",
       "202379    NaN           Elements          NaN         NaN  RECOGNIZED   \n",
       "478736    NaN          All Media          NaN         NaN  RECOGNIZED   \n",
       "538904  ONORE             Design          NaN         NaN  RECOGNIZED   \n",
       "392276    NaN  Stock Photography          NaN         NaN  RECOGNIZED   \n",
       "465952    NaN  Stock Photography          NaN         NaN  RECOGNIZED   \n",
       "467097    NaN           Elements          NaN         NaN  RECOGNIZED   \n",
       "74322     NaN  Stock Photography          NaN         NaN  RECOGNIZED   \n",
       "\n",
       "        Subscription Term  DC_amount  US_amount  \n",
       "150945                  0    1361.00    1505.54  \n",
       "292268                  0    5400.00      48.28  \n",
       "413059                  0    4527.00     498.55  \n",
       "202379                  0    1024.00    1199.11  \n",
       "478736                  0     324.00     324.00  \n",
       "538904                  0   82011.70   82011.70  \n",
       "392276                  0    7731.00     124.16  \n",
       "465952                  0   22121.64   22121.64  \n",
       "467097                  0      33.00      33.00  \n",
       "74322                   0     786.00     828.96  "
      ]
     },
     "execution_count": 39,
     "metadata": {},
     "output_type": "execute_result"
    }
   ],
   "source": [
    "rec.sample(10)"
   ]
  },
  {
   "cell_type": "code",
   "execution_count": 42,
   "metadata": {},
   "outputs": [],
   "source": [
    "# testing groupby object\n",
    "gb_rec = rec.groupby(['curr', 'BU', 'product','date'], as_index=False).sum()"
   ]
  },
  {
   "cell_type": "code",
   "execution_count": 43,
   "metadata": {},
   "outputs": [],
   "source": [
    "# the Subscription term hangs around. We are dropping that here\n",
    "gb_rec.drop(labels='Subscription Term', axis=1,inplace =True)"
   ]
  },
  {
   "cell_type": "code",
   "execution_count": 44,
   "metadata": {},
   "outputs": [
    {
     "data": {
      "text/html": [
       "<div>\n",
       "<style scoped>\n",
       "    .dataframe tbody tr th:only-of-type {\n",
       "        vertical-align: middle;\n",
       "    }\n",
       "\n",
       "    .dataframe tbody tr th {\n",
       "        vertical-align: top;\n",
       "    }\n",
       "\n",
       "    .dataframe thead th {\n",
       "        text-align: right;\n",
       "    }\n",
       "</style>\n",
       "<table border=\"1\" class=\"dataframe\">\n",
       "  <thead>\n",
       "    <tr style=\"text-align: right;\">\n",
       "      <th></th>\n",
       "      <th>curr</th>\n",
       "      <th>BU</th>\n",
       "      <th>product</th>\n",
       "      <th>date</th>\n",
       "      <th>DC_amount</th>\n",
       "      <th>US_amount</th>\n",
       "    </tr>\n",
       "  </thead>\n",
       "  <tbody>\n",
       "    <tr>\n",
       "      <th>13913</th>\n",
       "      <td>HKD</td>\n",
       "      <td>Creative</td>\n",
       "      <td>Stock Photography</td>\n",
       "      <td>2019-06-19</td>\n",
       "      <td>234.00</td>\n",
       "      <td>29.88</td>\n",
       "    </tr>\n",
       "    <tr>\n",
       "      <th>24751</th>\n",
       "      <td>USD</td>\n",
       "      <td>Creative</td>\n",
       "      <td>Elements</td>\n",
       "      <td>2019-07-09</td>\n",
       "      <td>15125.87</td>\n",
       "      <td>15125.87</td>\n",
       "    </tr>\n",
       "    <tr>\n",
       "      <th>14983</th>\n",
       "      <td>JPY</td>\n",
       "      <td>Creative</td>\n",
       "      <td>All Media</td>\n",
       "      <td>2020-03-01</td>\n",
       "      <td>11484.00</td>\n",
       "      <td>104.61</td>\n",
       "    </tr>\n",
       "    <tr>\n",
       "      <th>19083</th>\n",
       "      <td>NOK</td>\n",
       "      <td>Creative</td>\n",
       "      <td>Stock Photography</td>\n",
       "      <td>2020-02-29</td>\n",
       "      <td>756.00</td>\n",
       "      <td>80.60</td>\n",
       "    </tr>\n",
       "    <tr>\n",
       "      <th>1989</th>\n",
       "      <td>AUD</td>\n",
       "      <td>Creative</td>\n",
       "      <td>Stock Photography</td>\n",
       "      <td>2018-05-19</td>\n",
       "      <td>263.41</td>\n",
       "      <td>197.80</td>\n",
       "    </tr>\n",
       "    <tr>\n",
       "      <th>7370</th>\n",
       "      <td>DKK</td>\n",
       "      <td>Creative</td>\n",
       "      <td>Stock Photography</td>\n",
       "      <td>2019-05-07</td>\n",
       "      <td>4166.00</td>\n",
       "      <td>624.59</td>\n",
       "    </tr>\n",
       "    <tr>\n",
       "      <th>3266</th>\n",
       "      <td>BRL</td>\n",
       "      <td>Creative</td>\n",
       "      <td>Stock Photography</td>\n",
       "      <td>2020-01-02</td>\n",
       "      <td>64.00</td>\n",
       "      <td>15.73</td>\n",
       "    </tr>\n",
       "    <tr>\n",
       "      <th>14195</th>\n",
       "      <td>INR</td>\n",
       "      <td>Creative</td>\n",
       "      <td>Stock Photography</td>\n",
       "      <td>2020-01-19</td>\n",
       "      <td>1080.00</td>\n",
       "      <td>15.23</td>\n",
       "    </tr>\n",
       "    <tr>\n",
       "      <th>7110</th>\n",
       "      <td>DKK</td>\n",
       "      <td>Creative</td>\n",
       "      <td>Stock Photography</td>\n",
       "      <td>2018-08-02</td>\n",
       "      <td>192.00</td>\n",
       "      <td>30.10</td>\n",
       "    </tr>\n",
       "    <tr>\n",
       "      <th>4806</th>\n",
       "      <td>CHF</td>\n",
       "      <td>Creative</td>\n",
       "      <td>Stock Photography</td>\n",
       "      <td>2018-01-07</td>\n",
       "      <td>391.00</td>\n",
       "      <td>401.25</td>\n",
       "    </tr>\n",
       "  </tbody>\n",
       "</table>\n",
       "</div>"
      ],
      "text/plain": [
       "      curr        BU            product       date  DC_amount  US_amount\n",
       "13913  HKD  Creative  Stock Photography 2019-06-19     234.00      29.88\n",
       "24751  USD  Creative           Elements 2019-07-09   15125.87   15125.87\n",
       "14983  JPY  Creative          All Media 2020-03-01   11484.00     104.61\n",
       "19083  NOK  Creative  Stock Photography 2020-02-29     756.00      80.60\n",
       "1989   AUD  Creative  Stock Photography 2018-05-19     263.41     197.80\n",
       "7370   DKK  Creative  Stock Photography 2019-05-07    4166.00     624.59\n",
       "3266   BRL  Creative  Stock Photography 2020-01-02      64.00      15.73\n",
       "14195  INR  Creative  Stock Photography 2020-01-19    1080.00      15.23\n",
       "7110   DKK  Creative  Stock Photography 2018-08-02     192.00      30.10\n",
       "4806   CHF  Creative  Stock Photography 2018-01-07     391.00     401.25"
      ]
     },
     "execution_count": 44,
     "metadata": {},
     "output_type": "execute_result"
    }
   ],
   "source": [
    "gb_rec.sample(10)"
   ]
  },
  {
   "cell_type": "code",
   "execution_count": 46,
   "metadata": {},
   "outputs": [
    {
     "data": {
      "text/plain": [
       "Stock Photography       10550\n",
       "Elements                 6842\n",
       "All Media                4572\n",
       "Pro DI                   3186\n",
       "Design                    581\n",
       "DVA                       504\n",
       "Flash Builder             290\n",
       "Digital Publishing        181\n",
       "Web                       107\n",
       "Distribution/Toolbar       74\n",
       "Mobile                     27\n",
       "Name: product, dtype: int64"
      ]
     },
     "execution_count": 46,
     "metadata": {},
     "output_type": "execute_result"
    }
   ],
   "source": [
    "gb_rec['product'].value_counts()"
   ]
  },
  {
   "cell_type": "markdown",
   "metadata": {},
   "source": [
    "## TESTING STOCK PHOTOGTAPHY IN THE US!\n",
    " - create df slice that is stock photography\n",
    " - create slice that is USD"
   ]
  },
  {
   "cell_type": "code",
   "execution_count": 141,
   "metadata": {},
   "outputs": [],
   "source": [
    "df_US_stock = gb_rec[(gb_rec['curr']=='USD') & (gb_rec['product']=='Stock Photography')].copy()\n",
    "df_test = df_US_stock.set_index('date')"
   ]
  },
  {
   "cell_type": "code",
   "execution_count": 142,
   "metadata": {},
   "outputs": [],
   "source": [
    "df_US_stock['day_of_week'] = pd.DatetimeIndex(df_US_stock['date']).day"
   ]
  },
  {
   "cell_type": "code",
   "execution_count": 143,
   "metadata": {},
   "outputs": [
    {
     "data": {
      "text/html": [
       "<div>\n",
       "<style scoped>\n",
       "    .dataframe tbody tr th:only-of-type {\n",
       "        vertical-align: middle;\n",
       "    }\n",
       "\n",
       "    .dataframe tbody tr th {\n",
       "        vertical-align: top;\n",
       "    }\n",
       "\n",
       "    .dataframe thead th {\n",
       "        text-align: right;\n",
       "    }\n",
       "</style>\n",
       "<table border=\"1\" class=\"dataframe\">\n",
       "  <thead>\n",
       "    <tr style=\"text-align: right;\">\n",
       "      <th></th>\n",
       "      <th>curr</th>\n",
       "      <th>BU</th>\n",
       "      <th>product</th>\n",
       "      <th>date</th>\n",
       "      <th>DC_amount</th>\n",
       "      <th>US_amount</th>\n",
       "      <th>day_of_week</th>\n",
       "    </tr>\n",
       "  </thead>\n",
       "  <tbody>\n",
       "    <tr>\n",
       "      <th>26802</th>\n",
       "      <td>USD</td>\n",
       "      <td>Creative</td>\n",
       "      <td>Stock Photography</td>\n",
       "      <td>2020-03-23</td>\n",
       "      <td>28741.45</td>\n",
       "      <td>28741.45</td>\n",
       "      <td>23</td>\n",
       "    </tr>\n",
       "    <tr>\n",
       "      <th>26803</th>\n",
       "      <td>USD</td>\n",
       "      <td>Creative</td>\n",
       "      <td>Stock Photography</td>\n",
       "      <td>2020-03-24</td>\n",
       "      <td>30731.64</td>\n",
       "      <td>30731.64</td>\n",
       "      <td>24</td>\n",
       "    </tr>\n",
       "    <tr>\n",
       "      <th>26804</th>\n",
       "      <td>USD</td>\n",
       "      <td>Creative</td>\n",
       "      <td>Stock Photography</td>\n",
       "      <td>2020-03-25</td>\n",
       "      <td>13419.22</td>\n",
       "      <td>13419.22</td>\n",
       "      <td>25</td>\n",
       "    </tr>\n",
       "    <tr>\n",
       "      <th>26805</th>\n",
       "      <td>USD</td>\n",
       "      <td>Creative</td>\n",
       "      <td>Stock Photography</td>\n",
       "      <td>2020-03-26</td>\n",
       "      <td>35387.44</td>\n",
       "      <td>35387.44</td>\n",
       "      <td>26</td>\n",
       "    </tr>\n",
       "    <tr>\n",
       "      <th>26806</th>\n",
       "      <td>USD</td>\n",
       "      <td>Creative</td>\n",
       "      <td>Stock Photography</td>\n",
       "      <td>2020-03-27</td>\n",
       "      <td>25184.43</td>\n",
       "      <td>25184.43</td>\n",
       "      <td>27</td>\n",
       "    </tr>\n",
       "  </tbody>\n",
       "</table>\n",
       "</div>"
      ],
      "text/plain": [
       "      curr        BU            product       date  DC_amount  US_amount  \\\n",
       "26802  USD  Creative  Stock Photography 2020-03-23   28741.45   28741.45   \n",
       "26803  USD  Creative  Stock Photography 2020-03-24   30731.64   30731.64   \n",
       "26804  USD  Creative  Stock Photography 2020-03-25   13419.22   13419.22   \n",
       "26805  USD  Creative  Stock Photography 2020-03-26   35387.44   35387.44   \n",
       "26806  USD  Creative  Stock Photography 2020-03-27   25184.43   25184.43   \n",
       "\n",
       "       day_of_week  \n",
       "26802           23  \n",
       "26803           24  \n",
       "26804           25  \n",
       "26805           26  \n",
       "26806           27  "
      ]
     },
     "execution_count": 143,
     "metadata": {},
     "output_type": "execute_result"
    }
   ],
   "source": [
    "df_US_stock.tail(5)"
   ]
  },
  {
   "cell_type": "code",
   "execution_count": 144,
   "metadata": {},
   "outputs": [
    {
     "data": {
      "text/plain": [
       "Text(0.5, 0, 'Day of the Month')"
      ]
     },
     "execution_count": 144,
     "metadata": {},
     "output_type": "execute_result"
    },
    {
     "data": {
      "image/png": "[encoded data removed]",
      "text/plain": [
       "<Figure size 1008x1008 with 2 Axes>"
      ]
     },
     "metadata": {},
     "output_type": "display_data"
    }
   ],
   "source": [
    "fig, axes = plt.subplots(2,1, figsize=(14,14))\n",
    "axes[0].plot(df_US_stock['date'], df_US_stock['US_amount'])\n",
    "axes[0].set_title('USD Stock Photography Recognized Revenue')\n",
    "\n",
    "temp = df_US_stock.groupby('day_of_week')['US_amount'].sum()\n",
    "axes[1].plot(temp)\n",
    "axes[1].set_title('Histogram of USD Stock Photography Recognized Revenue by Day of Month')\n",
    "axes[1].set_xlabel('Day of the Month')"
   ]
  },
  {
   "cell_type": "code",
   "execution_count": 175,
   "metadata": {},
   "outputs": [],
   "source": [
    "def make_design_matrix(series):\n",
    "    return sm.add_constant(series.reshape(-1,1))\n",
    "\n",
    "def fit_linear_trend(series):\n",
    "    X = make_design_matrix(np.arange(len(series))+1)\n",
    "    linear_trend_ols = sm.OLS(series.values, X).fit()\n",
    "    linear_trend = linear_trend_ols.predict(X)\n",
    "    return pd.Series(linear_trend, index=series.index)\n",
    "\n",
    "def make_detrended_series(series, linear_trend):\n",
    "    return series - linear_trend"
   ]
  },
  {
   "cell_type": "code",
   "execution_count": 176,
   "metadata": {},
   "outputs": [],
   "source": [
    "def create_qtr_dummies(series):\n",
    "    series_qtr = np.zeros(shape=(len(series)))\n",
    "    qtr = 0\n",
    "    for i in range(len(series)):\n",
    "        qtr = qtr+1\n",
    "        if qtr > 4:\n",
    "            qtr = 1\n",
    "\n",
    "        series_qtr[i]= qtr\n",
    "\n",
    "    qtr_dummies = pd.get_dummies(series_qtr, drop_first=True)\n",
    "\n",
    "    return sm.add_constant(qtr_dummies)"
   ]
  },
  {
   "cell_type": "code",
   "execution_count": 177,
   "metadata": {},
   "outputs": [],
   "source": [
    "def create_daily_dummies(series):\n",
    "    daily_dummies = pd.get_dummies(series, drop_first = True)\n",
    "    return sm.add_constant(daily_dummies)"
   ]
  },
  {
   "cell_type": "code",
   "execution_count": 178,
   "metadata": {},
   "outputs": [],
   "source": [
    "def fit_seasonal_trend(data_series, day_of_week):\n",
    "    #dummies = create_qtr_dummies(series)\n",
    "    dummies = create_daily_dummies(day_of_week)\n",
    "    X = sm.add_constant(dummies)\n",
    "    seasonal_model = sm.OLS(data_series.values, X).fit()\n",
    "    seasonal_prediction = seasonal_model.predict(X)\n",
    "    return seasonal_prediction"
   ]
  },
  {
   "cell_type": "code",
   "execution_count": 179,
   "metadata": {},
   "outputs": [],
   "source": [
    "def create_hist_bins(series1, series2):\n",
    "    x_min = np.minimum(series1.min(), series2.min())\n",
    "    x_max = np.maximum(series1.max(), series2.max())\n",
    "    x_step = (x_max - x_min)/10\n",
    "    return np.arange(x_min, x_max, x_step)"
   ]
  },
  {
   "cell_type": "code",
   "execution_count": 180,
   "metadata": {},
   "outputs": [],
   "source": [
    "def decompose_series_daily(df, name):\n",
    "    # extract the series\n",
    "    this_series = df[name]\n",
    "    \n",
    "    these_dom = df['day_of_week']\n",
    "\n",
    "    # calculating deviation from mean for the histogram\n",
    "    this_mean = np.mean(this_series)\n",
    "    series_variation = this_series - this_mean\n",
    "    print(np.mean(series_variation))\n",
    "\n",
    "    # remove the linear trend with OLS\n",
    "    linear_trend = fit_linear_trend(this_series)\n",
    "    linear_removed = make_detrended_series(this_series, linear_trend)\n",
    "\n",
    "    # remove seasonal component\n",
    "    seasonal_trend = fit_seasonal_trend(linear_removed, these_dom)\n",
    "    seasonal_removed = linear_removed - seasonal_trend.values\n",
    "    model = linear_trend.values + seasonal_trend.values\n",
    "\n",
    "\n",
    "    series_dict = {'name' : name,\n",
    "            'raw_series': this_series,\n",
    "           'series_variation': series_variation,\n",
    "           'linear_trend': linear_trend,\n",
    "           'linear_resids': linear_removed,\n",
    "           'seasonal_trend': seasonal_trend,\n",
    "           'residual': seasonal_removed,\n",
    "           'model' : model}\n",
    "\n",
    "    fig, axs = plt.subplots(5, figsize=(14,11))\n",
    "    build_time_series_charts(series_dict, axs)\n",
    "    fig.suptitle(name, y=1.01, fontsize='xx-large', fontweight='heavy')\n",
    "    plt.show()\n",
    "    return series_dict"
   ]
  },
  {
   "cell_type": "code",
   "execution_count": 181,
   "metadata": {},
   "outputs": [],
   "source": [
    "def build_time_series_charts(series_dict, axs):\n",
    "\n",
    "    axs[0].plot(series_dict['raw_series'].index, series_dict['raw_series'],\n",
    "                marker='.', label = series_dict['name'])\n",
    "    axs[0].plot(series_dict['raw_series'].index, series_dict['linear_trend'],\n",
    "                marker='.', label = 'linear_trend')\n",
    "    axs[0].legend(loc='upper left')\n",
    "    axs[0].set_ylabel(series_dict['name'])\n",
    "    axs[0].set_title(\"{} Series and Linear Trend\".format(series_dict['name']))\n",
    "\n",
    "    axs[1].hist(series_dict['raw_series'].values, bins=10, alpha=0.5, label='raw_series')\n",
    "    axs[1].set_ylabel('Frequency')\n",
    "    axs[1].set_title(\"Histogram of {} Series\".format(series_dict['name']))\n",
    "    series_mean = np.mean(series_dict['raw_series'].values)\n",
    "    series_std = np.std(series_dict['raw_series'].values)\n",
    "\n",
    "    y_loc = axs[1].get_ylim()\n",
    "    x_loc = axs[1].get_xlim()\n",
    "    axs[1].text(x_loc[1], y_loc[1], 'Std dev: %.2f' %(round(series_std,2)), horizontalalignment='right')\n",
    "    axs[1].text(x_loc[0], y_loc[1], 'Mean : %.2f' %(round(series_mean,2)), horizontalalignment='left')\n",
    "\n",
    "    axs[2].plot(series_dict['linear_resids'].index, series_dict['linear_resids'],\n",
    "                marker='.', label='{} Ex Linear Trend'.format(series_dict['name']))\n",
    "    axs[2].plot(series_dict['linear_resids'].index, series_dict['seasonal_trend'],\n",
    "                marker='.', label='Seasonality Estimate')\n",
    "    axs[2].set_title(\"Linear Trend Removed and Seasonality Estimate\")\n",
    "    axs[2].set_ylabel(series_dict['name'])\n",
    "    axs[2].legend(loc='upper left')\n",
    "\n",
    "\n",
    "    axs[3].plot(series_dict['raw_series'].index, series_dict['raw_series'],\n",
    "                marker='.', label='Actual {} Series'.format(series_dict['name']))\n",
    "    axs[3].plot(series_dict['raw_series'].index, series_dict['model'],\n",
    "                marker='.', label='Model')\n",
    "    axs[3].legend(loc='upper left')\n",
    "    axs[3].set_ylabel(series_dict['name'])\n",
    "    axs[3].set_title(\"Actual {} Series vs. Final Model\".format(series_dict['name']))\n",
    "\n",
    "    #hist_bins = create_hist_bins(DSO_dict['residual'], DSO_dict['series_variation'])\n",
    "    axs[4].hist(series_dict['residual'].values, alpha=0.5, label='final residuals')\n",
    "    axs[4].set_ylabel('Frequency')\n",
    "    axs[4].set_title(\"Histogram of Final Residuals\")\n",
    "\n",
    "    resids_mean = np.mean(series_dict['residual'].values)\n",
    "    resids_std = np.std(series_dict['residual'].values)\n",
    "    y_loc = axs[4].get_ylim()\n",
    "    x_loc = axs[4].get_xlim()\n",
    "    axs[4].text(x_loc[1], y_loc[1], 'Std dev: %.2f' %(round(resids_std,2)), horizontalalignment='right')\n",
    "    axs[4].text(x_loc[0], y_loc[1], 'Mean : %.2f' %(round(resids_mean,2)), horizontalalignment='left')\n",
    "\n",
    "    # testing the final model distribution versus actual\n",
    "    axs[0].xaxis.set_major_locator(plt.MaxNLocator(10))\n",
    "    axs[1].xaxis.set_major_locator(plt.MaxNLocator(10))\n",
    "    axs[2].xaxis.set_major_locator(plt.MaxNLocator(10))\n",
    "    axs[3].xaxis.set_major_locator(plt.MaxNLocator(10))\n",
    "\n",
    "    plt.tight_layout()"
   ]
  },
  {
   "cell_type": "code",
   "execution_count": 182,
   "metadata": {},
   "outputs": [
    {
     "name": "stdout",
     "output_type": "stream",
     "text": [
      "-5.837087601933457e-12\n"
     ]
    },
    {
     "data": {
      "image/png": "[encoded data removed]",
      "text/plain": [
       "<Figure size 1008x792 with 5 Axes>"
      ]
     },
     "metadata": {},
     "output_type": "display_data"
    }
   ],
   "source": [
    "stock_dict = decompose_series_daily(df_US_stock, 'US_amount')"
   ]
  },
  {
   "cell_type": "code",
   "execution_count": 188,
   "metadata": {},
   "outputs": [],
   "source": [
    "df_US_stock['model'] = stock_dict['model']\n",
    "df_US_stock['redisual']= stock_dict['residual']"
   ]
  },
  {
   "cell_type": "code",
   "execution_count": 189,
   "metadata": {},
   "outputs": [
    {
     "data": {
      "text/html": [
       "<div>\n",
       "<style scoped>\n",
       "    .dataframe tbody tr th:only-of-type {\n",
       "        vertical-align: middle;\n",
       "    }\n",
       "\n",
       "    .dataframe tbody tr th {\n",
       "        vertical-align: top;\n",
       "    }\n",
       "\n",
       "    .dataframe thead th {\n",
       "        text-align: right;\n",
       "    }\n",
       "</style>\n",
       "<table border=\"1\" class=\"dataframe\">\n",
       "  <thead>\n",
       "    <tr style=\"text-align: right;\">\n",
       "      <th></th>\n",
       "      <th>curr</th>\n",
       "      <th>BU</th>\n",
       "      <th>product</th>\n",
       "      <th>date</th>\n",
       "      <th>DC_amount</th>\n",
       "      <th>US_amount</th>\n",
       "      <th>day_of_week</th>\n",
       "      <th>model</th>\n",
       "      <th>redisual</th>\n",
       "    </tr>\n",
       "  </thead>\n",
       "  <tbody>\n",
       "    <tr>\n",
       "      <th>26757</th>\n",
       "      <td>USD</td>\n",
       "      <td>Creative</td>\n",
       "      <td>Stock Photography</td>\n",
       "      <td>2020-02-07</td>\n",
       "      <td>24654.76</td>\n",
       "      <td>24654.76</td>\n",
       "      <td>7</td>\n",
       "      <td>23854.535247</td>\n",
       "      <td>800.224753</td>\n",
       "    </tr>\n",
       "    <tr>\n",
       "      <th>26758</th>\n",
       "      <td>USD</td>\n",
       "      <td>Creative</td>\n",
       "      <td>Stock Photography</td>\n",
       "      <td>2020-02-08</td>\n",
       "      <td>12496.35</td>\n",
       "      <td>12496.35</td>\n",
       "      <td>8</td>\n",
       "      <td>22141.817747</td>\n",
       "      <td>-9645.467747</td>\n",
       "    </tr>\n",
       "    <tr>\n",
       "      <th>26759</th>\n",
       "      <td>USD</td>\n",
       "      <td>Creative</td>\n",
       "      <td>Stock Photography</td>\n",
       "      <td>2020-02-09</td>\n",
       "      <td>7946.63</td>\n",
       "      <td>7946.63</td>\n",
       "      <td>9</td>\n",
       "      <td>23384.875961</td>\n",
       "      <td>-15438.245961</td>\n",
       "    </tr>\n",
       "    <tr>\n",
       "      <th>26760</th>\n",
       "      <td>USD</td>\n",
       "      <td>Creative</td>\n",
       "      <td>Stock Photography</td>\n",
       "      <td>2020-02-10</td>\n",
       "      <td>39458.77</td>\n",
       "      <td>39458.77</td>\n",
       "      <td>10</td>\n",
       "      <td>25011.968461</td>\n",
       "      <td>14446.801539</td>\n",
       "    </tr>\n",
       "    <tr>\n",
       "      <th>26761</th>\n",
       "      <td>USD</td>\n",
       "      <td>Creative</td>\n",
       "      <td>Stock Photography</td>\n",
       "      <td>2020-02-11</td>\n",
       "      <td>31065.68</td>\n",
       "      <td>31065.68</td>\n",
       "      <td>11</td>\n",
       "      <td>25542.951319</td>\n",
       "      <td>5522.728681</td>\n",
       "    </tr>\n",
       "    <tr>\n",
       "      <th>26762</th>\n",
       "      <td>USD</td>\n",
       "      <td>Creative</td>\n",
       "      <td>Stock Photography</td>\n",
       "      <td>2020-02-12</td>\n",
       "      <td>41517.77</td>\n",
       "      <td>41517.77</td>\n",
       "      <td>12</td>\n",
       "      <td>27129.503819</td>\n",
       "      <td>14388.266181</td>\n",
       "    </tr>\n",
       "    <tr>\n",
       "      <th>26763</th>\n",
       "      <td>USD</td>\n",
       "      <td>Creative</td>\n",
       "      <td>Stock Photography</td>\n",
       "      <td>2020-02-13</td>\n",
       "      <td>37035.87</td>\n",
       "      <td>37035.87</td>\n",
       "      <td>13</td>\n",
       "      <td>25147.426676</td>\n",
       "      <td>11888.443324</td>\n",
       "    </tr>\n",
       "    <tr>\n",
       "      <th>26764</th>\n",
       "      <td>USD</td>\n",
       "      <td>Creative</td>\n",
       "      <td>Stock Photography</td>\n",
       "      <td>2020-02-14</td>\n",
       "      <td>26198.73</td>\n",
       "      <td>26198.73</td>\n",
       "      <td>14</td>\n",
       "      <td>23594.177033</td>\n",
       "      <td>2604.552967</td>\n",
       "    </tr>\n",
       "    <tr>\n",
       "      <th>26765</th>\n",
       "      <td>USD</td>\n",
       "      <td>Creative</td>\n",
       "      <td>Stock Photography</td>\n",
       "      <td>2020-02-15</td>\n",
       "      <td>9567.86</td>\n",
       "      <td>9567.86</td>\n",
       "      <td>15</td>\n",
       "      <td>22619.530961</td>\n",
       "      <td>-13051.670961</td>\n",
       "    </tr>\n",
       "    <tr>\n",
       "      <th>26766</th>\n",
       "      <td>USD</td>\n",
       "      <td>Creative</td>\n",
       "      <td>Stock Photography</td>\n",
       "      <td>2020-02-16</td>\n",
       "      <td>7125.38</td>\n",
       "      <td>7125.38</td>\n",
       "      <td>16</td>\n",
       "      <td>24133.672747</td>\n",
       "      <td>-17008.292747</td>\n",
       "    </tr>\n",
       "    <tr>\n",
       "      <th>26767</th>\n",
       "      <td>USD</td>\n",
       "      <td>Creative</td>\n",
       "      <td>Stock Photography</td>\n",
       "      <td>2020-02-17</td>\n",
       "      <td>20496.62</td>\n",
       "      <td>20496.62</td>\n",
       "      <td>17</td>\n",
       "      <td>24300.133461</td>\n",
       "      <td>-3803.513461</td>\n",
       "    </tr>\n",
       "    <tr>\n",
       "      <th>26768</th>\n",
       "      <td>USD</td>\n",
       "      <td>Creative</td>\n",
       "      <td>Stock Photography</td>\n",
       "      <td>2020-02-18</td>\n",
       "      <td>27466.01</td>\n",
       "      <td>27466.01</td>\n",
       "      <td>18</td>\n",
       "      <td>24480.656676</td>\n",
       "      <td>2985.353324</td>\n",
       "    </tr>\n",
       "    <tr>\n",
       "      <th>26769</th>\n",
       "      <td>USD</td>\n",
       "      <td>Creative</td>\n",
       "      <td>Stock Photography</td>\n",
       "      <td>2020-02-19</td>\n",
       "      <td>30391.84</td>\n",
       "      <td>30391.84</td>\n",
       "      <td>19</td>\n",
       "      <td>25916.513104</td>\n",
       "      <td>4475.326896</td>\n",
       "    </tr>\n",
       "    <tr>\n",
       "      <th>26770</th>\n",
       "      <td>USD</td>\n",
       "      <td>Creative</td>\n",
       "      <td>Stock Photography</td>\n",
       "      <td>2020-02-20</td>\n",
       "      <td>31517.25</td>\n",
       "      <td>31517.25</td>\n",
       "      <td>20</td>\n",
       "      <td>25044.422747</td>\n",
       "      <td>6472.827253</td>\n",
       "    </tr>\n",
       "    <tr>\n",
       "      <th>26771</th>\n",
       "      <td>USD</td>\n",
       "      <td>Creative</td>\n",
       "      <td>Stock Photography</td>\n",
       "      <td>2020-02-21</td>\n",
       "      <td>24383.53</td>\n",
       "      <td>24383.53</td>\n",
       "      <td>21</td>\n",
       "      <td>22670.368104</td>\n",
       "      <td>1713.161896</td>\n",
       "    </tr>\n",
       "    <tr>\n",
       "      <th>26772</th>\n",
       "      <td>USD</td>\n",
       "      <td>Creative</td>\n",
       "      <td>Stock Photography</td>\n",
       "      <td>2020-02-22</td>\n",
       "      <td>7483.65</td>\n",
       "      <td>7483.65</td>\n",
       "      <td>22</td>\n",
       "      <td>22785.911676</td>\n",
       "      <td>-15302.261676</td>\n",
       "    </tr>\n",
       "    <tr>\n",
       "      <th>26773</th>\n",
       "      <td>USD</td>\n",
       "      <td>Creative</td>\n",
       "      <td>Stock Photography</td>\n",
       "      <td>2020-02-23</td>\n",
       "      <td>11643.69</td>\n",
       "      <td>11643.69</td>\n",
       "      <td>23</td>\n",
       "      <td>23919.228819</td>\n",
       "      <td>-12275.538819</td>\n",
       "    </tr>\n",
       "    <tr>\n",
       "      <th>26774</th>\n",
       "      <td>USD</td>\n",
       "      <td>Creative</td>\n",
       "      <td>Stock Photography</td>\n",
       "      <td>2020-02-24</td>\n",
       "      <td>35095.94</td>\n",
       "      <td>35095.94</td>\n",
       "      <td>24</td>\n",
       "      <td>22958.296676</td>\n",
       "      <td>12137.643324</td>\n",
       "    </tr>\n",
       "    <tr>\n",
       "      <th>26775</th>\n",
       "      <td>USD</td>\n",
       "      <td>Creative</td>\n",
       "      <td>Stock Photography</td>\n",
       "      <td>2020-02-25</td>\n",
       "      <td>31663.53</td>\n",
       "      <td>31663.53</td>\n",
       "      <td>25</td>\n",
       "      <td>22820.944533</td>\n",
       "      <td>8842.585467</td>\n",
       "    </tr>\n",
       "    <tr>\n",
       "      <th>26776</th>\n",
       "      <td>USD</td>\n",
       "      <td>Creative</td>\n",
       "      <td>Stock Photography</td>\n",
       "      <td>2020-02-26</td>\n",
       "      <td>42696.95</td>\n",
       "      <td>42696.95</td>\n",
       "      <td>26</td>\n",
       "      <td>25998.650604</td>\n",
       "      <td>16698.299396</td>\n",
       "    </tr>\n",
       "    <tr>\n",
       "      <th>26777</th>\n",
       "      <td>USD</td>\n",
       "      <td>Creative</td>\n",
       "      <td>Stock Photography</td>\n",
       "      <td>2020-02-27</td>\n",
       "      <td>40577.19</td>\n",
       "      <td>40577.19</td>\n",
       "      <td>27</td>\n",
       "      <td>23817.202033</td>\n",
       "      <td>16759.987967</td>\n",
       "    </tr>\n",
       "    <tr>\n",
       "      <th>26778</th>\n",
       "      <td>USD</td>\n",
       "      <td>Creative</td>\n",
       "      <td>Stock Photography</td>\n",
       "      <td>2020-02-28</td>\n",
       "      <td>31980.00</td>\n",
       "      <td>31980.00</td>\n",
       "      <td>28</td>\n",
       "      <td>24518.272993</td>\n",
       "      <td>7461.727007</td>\n",
       "    </tr>\n",
       "    <tr>\n",
       "      <th>26779</th>\n",
       "      <td>USD</td>\n",
       "      <td>Creative</td>\n",
       "      <td>Stock Photography</td>\n",
       "      <td>2020-02-29</td>\n",
       "      <td>12898.91</td>\n",
       "      <td>12898.91</td>\n",
       "      <td>29</td>\n",
       "      <td>23555.636578</td>\n",
       "      <td>-10656.726578</td>\n",
       "    </tr>\n",
       "    <tr>\n",
       "      <th>26780</th>\n",
       "      <td>USD</td>\n",
       "      <td>Creative</td>\n",
       "      <td>Stock Photography</td>\n",
       "      <td>2020-03-01</td>\n",
       "      <td>9823.57</td>\n",
       "      <td>9823.57</td>\n",
       "      <td>1</td>\n",
       "      <td>22192.495946</td>\n",
       "      <td>-12368.925946</td>\n",
       "    </tr>\n",
       "    <tr>\n",
       "      <th>26781</th>\n",
       "      <td>USD</td>\n",
       "      <td>Creative</td>\n",
       "      <td>Stock Photography</td>\n",
       "      <td>2020-03-02</td>\n",
       "      <td>30820.95</td>\n",
       "      <td>30820.95</td>\n",
       "      <td>2</td>\n",
       "      <td>22175.986642</td>\n",
       "      <td>8644.963358</td>\n",
       "    </tr>\n",
       "    <tr>\n",
       "      <th>26782</th>\n",
       "      <td>USD</td>\n",
       "      <td>Creative</td>\n",
       "      <td>Stock Photography</td>\n",
       "      <td>2020-03-03</td>\n",
       "      <td>40161.12</td>\n",
       "      <td>40161.12</td>\n",
       "      <td>3</td>\n",
       "      <td>31908.736284</td>\n",
       "      <td>8252.383716</td>\n",
       "    </tr>\n",
       "    <tr>\n",
       "      <th>26783</th>\n",
       "      <td>USD</td>\n",
       "      <td>Creative</td>\n",
       "      <td>Stock Photography</td>\n",
       "      <td>2020-03-04</td>\n",
       "      <td>24401.74</td>\n",
       "      <td>24401.74</td>\n",
       "      <td>4</td>\n",
       "      <td>24816.491284</td>\n",
       "      <td>-414.751284</td>\n",
       "    </tr>\n",
       "    <tr>\n",
       "      <th>26784</th>\n",
       "      <td>USD</td>\n",
       "      <td>Creative</td>\n",
       "      <td>Stock Photography</td>\n",
       "      <td>2020-03-05</td>\n",
       "      <td>24640.00</td>\n",
       "      <td>24640.00</td>\n",
       "      <td>5</td>\n",
       "      <td>25885.319142</td>\n",
       "      <td>-1245.319142</td>\n",
       "    </tr>\n",
       "    <tr>\n",
       "      <th>26785</th>\n",
       "      <td>USD</td>\n",
       "      <td>Creative</td>\n",
       "      <td>Stock Photography</td>\n",
       "      <td>2020-03-06</td>\n",
       "      <td>31701.30</td>\n",
       "      <td>31701.30</td>\n",
       "      <td>6</td>\n",
       "      <td>26098.516642</td>\n",
       "      <td>5602.783358</td>\n",
       "    </tr>\n",
       "    <tr>\n",
       "      <th>26786</th>\n",
       "      <td>USD</td>\n",
       "      <td>Creative</td>\n",
       "      <td>Stock Photography</td>\n",
       "      <td>2020-03-07</td>\n",
       "      <td>10742.10</td>\n",
       "      <td>10742.10</td>\n",
       "      <td>7</td>\n",
       "      <td>24272.929142</td>\n",
       "      <td>-13530.829142</td>\n",
       "    </tr>\n",
       "    <tr>\n",
       "      <th>26787</th>\n",
       "      <td>USD</td>\n",
       "      <td>Creative</td>\n",
       "      <td>Stock Photography</td>\n",
       "      <td>2020-03-08</td>\n",
       "      <td>7455.85</td>\n",
       "      <td>7455.85</td>\n",
       "      <td>8</td>\n",
       "      <td>22560.211642</td>\n",
       "      <td>-15104.361642</td>\n",
       "    </tr>\n",
       "    <tr>\n",
       "      <th>26788</th>\n",
       "      <td>USD</td>\n",
       "      <td>Creative</td>\n",
       "      <td>Stock Photography</td>\n",
       "      <td>2020-03-09</td>\n",
       "      <td>28821.49</td>\n",
       "      <td>28821.49</td>\n",
       "      <td>9</td>\n",
       "      <td>23803.269856</td>\n",
       "      <td>5018.220144</td>\n",
       "    </tr>\n",
       "    <tr>\n",
       "      <th>26789</th>\n",
       "      <td>USD</td>\n",
       "      <td>Creative</td>\n",
       "      <td>Stock Photography</td>\n",
       "      <td>2020-03-10</td>\n",
       "      <td>23401.22</td>\n",
       "      <td>23401.22</td>\n",
       "      <td>10</td>\n",
       "      <td>25430.362356</td>\n",
       "      <td>-2029.142356</td>\n",
       "    </tr>\n",
       "    <tr>\n",
       "      <th>26790</th>\n",
       "      <td>USD</td>\n",
       "      <td>Creative</td>\n",
       "      <td>Stock Photography</td>\n",
       "      <td>2020-03-11</td>\n",
       "      <td>21854.29</td>\n",
       "      <td>21854.29</td>\n",
       "      <td>11</td>\n",
       "      <td>25961.345213</td>\n",
       "      <td>-4107.055213</td>\n",
       "    </tr>\n",
       "    <tr>\n",
       "      <th>26791</th>\n",
       "      <td>USD</td>\n",
       "      <td>Creative</td>\n",
       "      <td>Stock Photography</td>\n",
       "      <td>2020-03-12</td>\n",
       "      <td>25984.12</td>\n",
       "      <td>25984.12</td>\n",
       "      <td>12</td>\n",
       "      <td>27547.897713</td>\n",
       "      <td>-1563.777713</td>\n",
       "    </tr>\n",
       "    <tr>\n",
       "      <th>26792</th>\n",
       "      <td>USD</td>\n",
       "      <td>Creative</td>\n",
       "      <td>Stock Photography</td>\n",
       "      <td>2020-03-13</td>\n",
       "      <td>24649.52</td>\n",
       "      <td>24649.52</td>\n",
       "      <td>13</td>\n",
       "      <td>25565.820570</td>\n",
       "      <td>-916.300570</td>\n",
       "    </tr>\n",
       "    <tr>\n",
       "      <th>26793</th>\n",
       "      <td>USD</td>\n",
       "      <td>Creative</td>\n",
       "      <td>Stock Photography</td>\n",
       "      <td>2020-03-14</td>\n",
       "      <td>5458.66</td>\n",
       "      <td>5458.66</td>\n",
       "      <td>14</td>\n",
       "      <td>24012.570927</td>\n",
       "      <td>-18553.910927</td>\n",
       "    </tr>\n",
       "    <tr>\n",
       "      <th>26794</th>\n",
       "      <td>USD</td>\n",
       "      <td>Creative</td>\n",
       "      <td>Stock Photography</td>\n",
       "      <td>2020-03-15</td>\n",
       "      <td>6909.16</td>\n",
       "      <td>6909.16</td>\n",
       "      <td>15</td>\n",
       "      <td>23037.924856</td>\n",
       "      <td>-16128.764856</td>\n",
       "    </tr>\n",
       "    <tr>\n",
       "      <th>26795</th>\n",
       "      <td>USD</td>\n",
       "      <td>Creative</td>\n",
       "      <td>Stock Photography</td>\n",
       "      <td>2020-03-16</td>\n",
       "      <td>37077.50</td>\n",
       "      <td>37077.50</td>\n",
       "      <td>16</td>\n",
       "      <td>24552.066642</td>\n",
       "      <td>12525.433358</td>\n",
       "    </tr>\n",
       "    <tr>\n",
       "      <th>26796</th>\n",
       "      <td>USD</td>\n",
       "      <td>Creative</td>\n",
       "      <td>Stock Photography</td>\n",
       "      <td>2020-03-17</td>\n",
       "      <td>28243.17</td>\n",
       "      <td>28243.17</td>\n",
       "      <td>17</td>\n",
       "      <td>24718.527356</td>\n",
       "      <td>3524.642644</td>\n",
       "    </tr>\n",
       "    <tr>\n",
       "      <th>26797</th>\n",
       "      <td>USD</td>\n",
       "      <td>Creative</td>\n",
       "      <td>Stock Photography</td>\n",
       "      <td>2020-03-18</td>\n",
       "      <td>21537.05</td>\n",
       "      <td>21537.05</td>\n",
       "      <td>18</td>\n",
       "      <td>24899.050570</td>\n",
       "      <td>-3362.000570</td>\n",
       "    </tr>\n",
       "    <tr>\n",
       "      <th>26798</th>\n",
       "      <td>USD</td>\n",
       "      <td>Creative</td>\n",
       "      <td>Stock Photography</td>\n",
       "      <td>2020-03-19</td>\n",
       "      <td>22426.25</td>\n",
       "      <td>22426.25</td>\n",
       "      <td>19</td>\n",
       "      <td>26334.906999</td>\n",
       "      <td>-3908.656999</td>\n",
       "    </tr>\n",
       "    <tr>\n",
       "      <th>26799</th>\n",
       "      <td>USD</td>\n",
       "      <td>Creative</td>\n",
       "      <td>Stock Photography</td>\n",
       "      <td>2020-03-20</td>\n",
       "      <td>21481.52</td>\n",
       "      <td>21481.52</td>\n",
       "      <td>20</td>\n",
       "      <td>25462.816642</td>\n",
       "      <td>-3981.296642</td>\n",
       "    </tr>\n",
       "    <tr>\n",
       "      <th>26800</th>\n",
       "      <td>USD</td>\n",
       "      <td>Creative</td>\n",
       "      <td>Stock Photography</td>\n",
       "      <td>2020-03-21</td>\n",
       "      <td>6789.56</td>\n",
       "      <td>6789.56</td>\n",
       "      <td>21</td>\n",
       "      <td>23088.761999</td>\n",
       "      <td>-16299.201999</td>\n",
       "    </tr>\n",
       "    <tr>\n",
       "      <th>26801</th>\n",
       "      <td>USD</td>\n",
       "      <td>Creative</td>\n",
       "      <td>Stock Photography</td>\n",
       "      <td>2020-03-22</td>\n",
       "      <td>12126.21</td>\n",
       "      <td>12126.21</td>\n",
       "      <td>22</td>\n",
       "      <td>23204.305570</td>\n",
       "      <td>-11078.095570</td>\n",
       "    </tr>\n",
       "    <tr>\n",
       "      <th>26802</th>\n",
       "      <td>USD</td>\n",
       "      <td>Creative</td>\n",
       "      <td>Stock Photography</td>\n",
       "      <td>2020-03-23</td>\n",
       "      <td>28741.45</td>\n",
       "      <td>28741.45</td>\n",
       "      <td>23</td>\n",
       "      <td>24337.622713</td>\n",
       "      <td>4403.827287</td>\n",
       "    </tr>\n",
       "    <tr>\n",
       "      <th>26803</th>\n",
       "      <td>USD</td>\n",
       "      <td>Creative</td>\n",
       "      <td>Stock Photography</td>\n",
       "      <td>2020-03-24</td>\n",
       "      <td>30731.64</td>\n",
       "      <td>30731.64</td>\n",
       "      <td>24</td>\n",
       "      <td>23376.690570</td>\n",
       "      <td>7354.949430</td>\n",
       "    </tr>\n",
       "    <tr>\n",
       "      <th>26804</th>\n",
       "      <td>USD</td>\n",
       "      <td>Creative</td>\n",
       "      <td>Stock Photography</td>\n",
       "      <td>2020-03-25</td>\n",
       "      <td>13419.22</td>\n",
       "      <td>13419.22</td>\n",
       "      <td>25</td>\n",
       "      <td>23239.338427</td>\n",
       "      <td>-9820.118427</td>\n",
       "    </tr>\n",
       "    <tr>\n",
       "      <th>26805</th>\n",
       "      <td>USD</td>\n",
       "      <td>Creative</td>\n",
       "      <td>Stock Photography</td>\n",
       "      <td>2020-03-26</td>\n",
       "      <td>35387.44</td>\n",
       "      <td>35387.44</td>\n",
       "      <td>26</td>\n",
       "      <td>26417.044499</td>\n",
       "      <td>8970.395501</td>\n",
       "    </tr>\n",
       "    <tr>\n",
       "      <th>26806</th>\n",
       "      <td>USD</td>\n",
       "      <td>Creative</td>\n",
       "      <td>Stock Photography</td>\n",
       "      <td>2020-03-27</td>\n",
       "      <td>25184.43</td>\n",
       "      <td>25184.43</td>\n",
       "      <td>27</td>\n",
       "      <td>24235.595927</td>\n",
       "      <td>948.834073</td>\n",
       "    </tr>\n",
       "  </tbody>\n",
       "</table>\n",
       "</div>"
      ],
      "text/plain": [
       "      curr        BU            product       date  DC_amount  US_amount  \\\n",
       "26757  USD  Creative  Stock Photography 2020-02-07   24654.76   24654.76   \n",
       "26758  USD  Creative  Stock Photography 2020-02-08   12496.35   12496.35   \n",
       "26759  USD  Creative  Stock Photography 2020-02-09    7946.63    7946.63   \n",
       "26760  USD  Creative  Stock Photography 2020-02-10   39458.77   39458.77   \n",
       "26761  USD  Creative  Stock Photography 2020-02-11   31065.68   31065.68   \n",
       "26762  USD  Creative  Stock Photography 2020-02-12   41517.77   41517.77   \n",
       "26763  USD  Creative  Stock Photography 2020-02-13   37035.87   37035.87   \n",
       "26764  USD  Creative  Stock Photography 2020-02-14   26198.73   26198.73   \n",
       "26765  USD  Creative  Stock Photography 2020-02-15    9567.86    9567.86   \n",
       "26766  USD  Creative  Stock Photography 2020-02-16    7125.38    7125.38   \n",
       "26767  USD  Creative  Stock Photography 2020-02-17   20496.62   20496.62   \n",
       "26768  USD  Creative  Stock Photography 2020-02-18   27466.01   27466.01   \n",
       "26769  USD  Creative  Stock Photography 2020-02-19   30391.84   30391.84   \n",
       "26770  USD  Creative  Stock Photography 2020-02-20   31517.25   31517.25   \n",
       "26771  USD  Creative  Stock Photography 2020-02-21   24383.53   24383.53   \n",
       "26772  USD  Creative  Stock Photography 2020-02-22    7483.65    7483.65   \n",
       "26773  USD  Creative  Stock Photography 2020-02-23   11643.69   11643.69   \n",
       "26774  USD  Creative  Stock Photography 2020-02-24   35095.94   35095.94   \n",
       "26775  USD  Creative  Stock Photography 2020-02-25   31663.53   31663.53   \n",
       "26776  USD  Creative  Stock Photography 2020-02-26   42696.95   42696.95   \n",
       "26777  USD  Creative  Stock Photography 2020-02-27   40577.19   40577.19   \n",
       "26778  USD  Creative  Stock Photography 2020-02-28   31980.00   31980.00   \n",
       "26779  USD  Creative  Stock Photography 2020-02-29   12898.91   12898.91   \n",
       "26780  USD  Creative  Stock Photography 2020-03-01    9823.57    9823.57   \n",
       "26781  USD  Creative  Stock Photography 2020-03-02   30820.95   30820.95   \n",
       "26782  USD  Creative  Stock Photography 2020-03-03   40161.12   40161.12   \n",
       "26783  USD  Creative  Stock Photography 2020-03-04   24401.74   24401.74   \n",
       "26784  USD  Creative  Stock Photography 2020-03-05   24640.00   24640.00   \n",
       "26785  USD  Creative  Stock Photography 2020-03-06   31701.30   31701.30   \n",
       "26786  USD  Creative  Stock Photography 2020-03-07   10742.10   10742.10   \n",
       "26787  USD  Creative  Stock Photography 2020-03-08    7455.85    7455.85   \n",
       "26788  USD  Creative  Stock Photography 2020-03-09   28821.49   28821.49   \n",
       "26789  USD  Creative  Stock Photography 2020-03-10   23401.22   23401.22   \n",
       "26790  USD  Creative  Stock Photography 2020-03-11   21854.29   21854.29   \n",
       "26791  USD  Creative  Stock Photography 2020-03-12   25984.12   25984.12   \n",
       "26792  USD  Creative  Stock Photography 2020-03-13   24649.52   24649.52   \n",
       "26793  USD  Creative  Stock Photography 2020-03-14    5458.66    5458.66   \n",
       "26794  USD  Creative  Stock Photography 2020-03-15    6909.16    6909.16   \n",
       "26795  USD  Creative  Stock Photography 2020-03-16   37077.50   37077.50   \n",
       "26796  USD  Creative  Stock Photography 2020-03-17   28243.17   28243.17   \n",
       "26797  USD  Creative  Stock Photography 2020-03-18   21537.05   21537.05   \n",
       "26798  USD  Creative  Stock Photography 2020-03-19   22426.25   22426.25   \n",
       "26799  USD  Creative  Stock Photography 2020-03-20   21481.52   21481.52   \n",
       "26800  USD  Creative  Stock Photography 2020-03-21    6789.56    6789.56   \n",
       "26801  USD  Creative  Stock Photography 2020-03-22   12126.21   12126.21   \n",
       "26802  USD  Creative  Stock Photography 2020-03-23   28741.45   28741.45   \n",
       "26803  USD  Creative  Stock Photography 2020-03-24   30731.64   30731.64   \n",
       "26804  USD  Creative  Stock Photography 2020-03-25   13419.22   13419.22   \n",
       "26805  USD  Creative  Stock Photography 2020-03-26   35387.44   35387.44   \n",
       "26806  USD  Creative  Stock Photography 2020-03-27   25184.43   25184.43   \n",
       "\n",
       "       day_of_week         model      redisual  \n",
       "26757            7  23854.535247    800.224753  \n",
       "26758            8  22141.817747  -9645.467747  \n",
       "26759            9  23384.875961 -15438.245961  \n",
       "26760           10  25011.968461  14446.801539  \n",
       "26761           11  25542.951319   5522.728681  \n",
       "26762           12  27129.503819  14388.266181  \n",
       "26763           13  25147.426676  11888.443324  \n",
       "26764           14  23594.177033   2604.552967  \n",
       "26765           15  22619.530961 -13051.670961  \n",
       "26766           16  24133.672747 -17008.292747  \n",
       "26767           17  24300.133461  -3803.513461  \n",
       "26768           18  24480.656676   2985.353324  \n",
       "26769           19  25916.513104   4475.326896  \n",
       "26770           20  25044.422747   6472.827253  \n",
       "26771           21  22670.368104   1713.161896  \n",
       "26772           22  22785.911676 -15302.261676  \n",
       "26773           23  23919.228819 -12275.538819  \n",
       "26774           24  22958.296676  12137.643324  \n",
       "26775           25  22820.944533   8842.585467  \n",
       "26776           26  25998.650604  16698.299396  \n",
       "26777           27  23817.202033  16759.987967  \n",
       "26778           28  24518.272993   7461.727007  \n",
       "26779           29  23555.636578 -10656.726578  \n",
       "26780            1  22192.495946 -12368.925946  \n",
       "26781            2  22175.986642   8644.963358  \n",
       "26782            3  31908.736284   8252.383716  \n",
       "26783            4  24816.491284   -414.751284  \n",
       "26784            5  25885.319142  -1245.319142  \n",
       "26785            6  26098.516642   5602.783358  \n",
       "26786            7  24272.929142 -13530.829142  \n",
       "26787            8  22560.211642 -15104.361642  \n",
       "26788            9  23803.269856   5018.220144  \n",
       "26789           10  25430.362356  -2029.142356  \n",
       "26790           11  25961.345213  -4107.055213  \n",
       "26791           12  27547.897713  -1563.777713  \n",
       "26792           13  25565.820570   -916.300570  \n",
       "26793           14  24012.570927 -18553.910927  \n",
       "26794           15  23037.924856 -16128.764856  \n",
       "26795           16  24552.066642  12525.433358  \n",
       "26796           17  24718.527356   3524.642644  \n",
       "26797           18  24899.050570  -3362.000570  \n",
       "26798           19  26334.906999  -3908.656999  \n",
       "26799           20  25462.816642  -3981.296642  \n",
       "26800           21  23088.761999 -16299.201999  \n",
       "26801           22  23204.305570 -11078.095570  \n",
       "26802           23  24337.622713   4403.827287  \n",
       "26803           24  23376.690570   7354.949430  \n",
       "26804           25  23239.338427  -9820.118427  \n",
       "26805           26  26417.044499   8970.395501  \n",
       "26806           27  24235.595927    948.834073  "
      ]
     },
     "execution_count": 189,
     "metadata": {},
     "output_type": "execute_result"
    }
   ],
   "source": [
    "df_US_stock.tail(50)"
   ]
  },
  {
   "cell_type": "code",
   "execution_count": 192,
   "metadata": {},
   "outputs": [
    {
     "data": {
      "text/plain": [
       "-72361.07569720058"
      ]
     },
     "execution_count": 192,
     "metadata": {},
     "output_type": "execute_result"
    }
   ],
   "source": [
    "sum(df_US_stock['redisual'].loc[26778:])"
   ]
  },
  {
   "cell_type": "code",
   "execution_count": 135,
   "metadata": {},
   "outputs": [],
   "source": [
    "this_series = df_US_stock['US_amount']"
   ]
  },
  {
   "cell_type": "code",
   "execution_count": 139,
   "metadata": {},
   "outputs": [],
   "source": [
    "df_test = df_US_stock.set_index('date')"
   ]
  },
  {
   "cell_type": "code",
   "execution_count": 140,
   "metadata": {},
   "outputs": [
    {
     "data": {
      "text/html": [
       "<div>\n",
       "<style scoped>\n",
       "    .dataframe tbody tr th:only-of-type {\n",
       "        vertical-align: middle;\n",
       "    }\n",
       "\n",
       "    .dataframe tbody tr th {\n",
       "        vertical-align: top;\n",
       "    }\n",
       "\n",
       "    .dataframe thead th {\n",
       "        text-align: right;\n",
       "    }\n",
       "</style>\n",
       "<table border=\"1\" class=\"dataframe\">\n",
       "  <thead>\n",
       "    <tr style=\"text-align: right;\">\n",
       "      <th></th>\n",
       "      <th>curr</th>\n",
       "      <th>BU</th>\n",
       "      <th>product</th>\n",
       "      <th>DC_amount</th>\n",
       "      <th>US_amount</th>\n",
       "      <th>day_of_week</th>\n",
       "    </tr>\n",
       "    <tr>\n",
       "      <th>date</th>\n",
       "      <th></th>\n",
       "      <th></th>\n",
       "      <th></th>\n",
       "      <th></th>\n",
       "      <th></th>\n",
       "      <th></th>\n",
       "    </tr>\n",
       "  </thead>\n",
       "  <tbody>\n",
       "    <tr>\n",
       "      <th>2017-12-02</th>\n",
       "      <td>USD</td>\n",
       "      <td>Creative</td>\n",
       "      <td>Stock Photography</td>\n",
       "      <td>4521.31</td>\n",
       "      <td>4521.31</td>\n",
       "      <td>2</td>\n",
       "    </tr>\n",
       "    <tr>\n",
       "      <th>2017-12-03</th>\n",
       "      <td>USD</td>\n",
       "      <td>Creative</td>\n",
       "      <td>Stock Photography</td>\n",
       "      <td>5695.87</td>\n",
       "      <td>5695.87</td>\n",
       "      <td>3</td>\n",
       "    </tr>\n",
       "    <tr>\n",
       "      <th>2017-12-04</th>\n",
       "      <td>USD</td>\n",
       "      <td>Creative</td>\n",
       "      <td>Stock Photography</td>\n",
       "      <td>10619.42</td>\n",
       "      <td>10619.42</td>\n",
       "      <td>4</td>\n",
       "    </tr>\n",
       "    <tr>\n",
       "      <th>2017-12-05</th>\n",
       "      <td>USD</td>\n",
       "      <td>Creative</td>\n",
       "      <td>Stock Photography</td>\n",
       "      <td>12307.25</td>\n",
       "      <td>12307.25</td>\n",
       "      <td>5</td>\n",
       "    </tr>\n",
       "    <tr>\n",
       "      <th>2017-12-06</th>\n",
       "      <td>USD</td>\n",
       "      <td>Creative</td>\n",
       "      <td>Stock Photography</td>\n",
       "      <td>20239.47</td>\n",
       "      <td>20239.47</td>\n",
       "      <td>6</td>\n",
       "    </tr>\n",
       "    <tr>\n",
       "      <th>2017-12-07</th>\n",
       "      <td>USD</td>\n",
       "      <td>Creative</td>\n",
       "      <td>Stock Photography</td>\n",
       "      <td>16176.74</td>\n",
       "      <td>16176.74</td>\n",
       "      <td>7</td>\n",
       "    </tr>\n",
       "    <tr>\n",
       "      <th>2017-12-08</th>\n",
       "      <td>USD</td>\n",
       "      <td>Creative</td>\n",
       "      <td>Stock Photography</td>\n",
       "      <td>10353.14</td>\n",
       "      <td>10353.14</td>\n",
       "      <td>8</td>\n",
       "    </tr>\n",
       "    <tr>\n",
       "      <th>2017-12-09</th>\n",
       "      <td>USD</td>\n",
       "      <td>Creative</td>\n",
       "      <td>Stock Photography</td>\n",
       "      <td>2682.08</td>\n",
       "      <td>2682.08</td>\n",
       "      <td>9</td>\n",
       "    </tr>\n",
       "    <tr>\n",
       "      <th>2017-12-10</th>\n",
       "      <td>USD</td>\n",
       "      <td>Creative</td>\n",
       "      <td>Stock Photography</td>\n",
       "      <td>4037.39</td>\n",
       "      <td>4037.39</td>\n",
       "      <td>10</td>\n",
       "    </tr>\n",
       "    <tr>\n",
       "      <th>2017-12-11</th>\n",
       "      <td>USD</td>\n",
       "      <td>Creative</td>\n",
       "      <td>Stock Photography</td>\n",
       "      <td>17804.01</td>\n",
       "      <td>17804.01</td>\n",
       "      <td>11</td>\n",
       "    </tr>\n",
       "  </tbody>\n",
       "</table>\n",
       "</div>"
      ],
      "text/plain": [
       "           curr        BU            product  DC_amount  US_amount  \\\n",
       "date                                                                 \n",
       "2017-12-02  USD  Creative  Stock Photography    4521.31    4521.31   \n",
       "2017-12-03  USD  Creative  Stock Photography    5695.87    5695.87   \n",
       "2017-12-04  USD  Creative  Stock Photography   10619.42   10619.42   \n",
       "2017-12-05  USD  Creative  Stock Photography   12307.25   12307.25   \n",
       "2017-12-06  USD  Creative  Stock Photography   20239.47   20239.47   \n",
       "2017-12-07  USD  Creative  Stock Photography   16176.74   16176.74   \n",
       "2017-12-08  USD  Creative  Stock Photography   10353.14   10353.14   \n",
       "2017-12-09  USD  Creative  Stock Photography    2682.08    2682.08   \n",
       "2017-12-10  USD  Creative  Stock Photography    4037.39    4037.39   \n",
       "2017-12-11  USD  Creative  Stock Photography   17804.01   17804.01   \n",
       "\n",
       "            day_of_week  \n",
       "date                     \n",
       "2017-12-02            2  \n",
       "2017-12-03            3  \n",
       "2017-12-04            4  \n",
       "2017-12-05            5  \n",
       "2017-12-06            6  \n",
       "2017-12-07            7  \n",
       "2017-12-08            8  \n",
       "2017-12-09            9  \n",
       "2017-12-10           10  \n",
       "2017-12-11           11  "
      ]
     },
     "execution_count": 140,
     "metadata": {},
     "output_type": "execute_result"
    }
   ],
   "source": [
    "df_test.head(10)"
   ]
  },
  {
   "cell_type": "code",
   "execution_count": 187,
   "metadata": {},
   "outputs": [
    {
     "data": {
      "text/plain": [
       "[<matplotlib.lines.Line2D at 0x126a2cc18>]"
      ]
     },
     "execution_count": 187,
     "metadata": {},
     "output_type": "execute_result"
    },
    {
     "data": {
      "image/png": "[encoded data removed]",
      "text/plain": [
       "<Figure size 432x288 with 1 Axes>"
      ]
     },
     "metadata": {},
     "output_type": "display_data"
    }
   ],
   "source": [
    "plt.plot(stock_dict['residual'])\n"
   ]
  },
  {
   "cell_type": "code",
   "execution_count": null,
   "metadata": {},
   "outputs": [],
   "source": []
  },
  {
   "cell_type": "code",
   "execution_count": null,
   "metadata": {},
   "outputs": [],
   "source": []
  },
  {
   "cell_type": "code",
   "execution_count": null,
   "metadata": {},
   "outputs": [],
   "source": []
  },
  {
   "cell_type": "code",
   "execution_count": null,
   "metadata": {},
   "outputs": [],
   "source": []
  },
  {
   "cell_type": "markdown",
   "metadata": {},
   "source": [
    "## Now doing this for the service billings"
   ]
  },
  {
   "cell_type": "code",
   "execution_count": null,
   "metadata": {},
   "outputs": [],
   "source": [
    "# testing groupby object\n",
    "gb_svc = svc.groupby(['curr', 'BU', 'period'], as_index=False).sum()"
   ]
  },
  {
   "cell_type": "code",
   "execution_count": null,
   "metadata": {},
   "outputs": [],
   "source": [
    "gb_svc.drop(labels='Subscription Term', axis=1,inplace =True)\n",
    "gb_svc.head(5)"
   ]
  },
  {
   "cell_type": "markdown",
   "metadata": {},
   "source": [
    "# NOW WORKING ON DEFERRED BILLINGS\n",
    "\n",
    "## Type B billings are service agreements that will have invoices submitted before the billings are reclassified to revenue. If no invoices are assigned to the billings, the billings become revenue in 12 months"
   ]
  },
  {
   "cell_type": "code",
   "execution_count": null,
   "metadata": {},
   "outputs": [],
   "source": [
    "# filter out the type B first then do a group_by\n",
    "dfr_b = dfr[dfr['rev_req_type']=='B']"
   ]
  },
  {
   "cell_type": "code",
   "execution_count": null,
   "metadata": {},
   "outputs": [],
   "source": [
    "gb_b = dfr_b.groupby(['curr', 'BU', 'period'], as_index=False).sum()"
   ]
  },
  {
   "cell_type": "code",
   "execution_count": null,
   "metadata": {},
   "outputs": [],
   "source": [
    "gb_b.drop(labels='Subscription Term', axis=1, inplace=True)"
   ]
  },
  {
   "cell_type": "code",
   "execution_count": null,
   "metadata": {},
   "outputs": [],
   "source": [
    "gb_b.head(10)"
   ]
  },
  {
   "cell_type": "code",
   "execution_count": null,
   "metadata": {},
   "outputs": [],
   "source": []
  },
  {
   "cell_type": "code",
   "execution_count": null,
   "metadata": {},
   "outputs": [],
   "source": [
    "print('length of deferred billings : ', len(dfr))\n",
    "print('length of the type B billings: ', len(dfr_b))"
   ]
  },
  {
   "cell_type": "code",
   "execution_count": null,
   "metadata": {},
   "outputs": [],
   "source": []
  },
  {
   "cell_type": "code",
   "execution_count": null,
   "metadata": {},
   "outputs": [],
   "source": []
  },
  {
   "cell_type": "markdown",
   "metadata": {},
   "source": [
    "## Now Type A Billings\n",
    "These billings are on a billing plan. The product config tells us how long before they renew\n",
    "\n",
    " - '2Y' = 24 months\n",
    " - '1Y' = 12 months\n",
    " - 'MTHLY' = 1 month\n",
    " \n",
    "NOTE: There are also other fields in the 'Product Configtype ID' field that do not map well to a rebill period.\n",
    "To fix this, we need to load up a different file and determine the length of the sales contract (type A no config)\n",
    " "
   ]
  },
  {
   "cell_type": "code",
   "execution_count": null,
   "metadata": {},
   "outputs": [],
   "source": [
    "# filtering just the type A billings\n",
    "dfr_a = dfr[dfr['rev_req_type']=='A']"
   ]
  },
  {
   "cell_type": "code",
   "execution_count": null,
   "metadata": {},
   "outputs": [],
   "source": [
    "gb_a = dfr_a.groupby(['curr', 'BU', 'period',\n",
    "                     'config'], as_index=False).sum()\n",
    "gb_a.drop(labels='Subscription Term', axis=1, inplace = True)"
   ]
  },
  {
   "cell_type": "code",
   "execution_count": null,
   "metadata": {},
   "outputs": [],
   "source": [
    "gb_a.sample(10)"
   ]
  },
  {
   "cell_type": "code",
   "execution_count": null,
   "metadata": {},
   "outputs": [],
   "source": [
    "gb_a['config'].value_counts()"
   ]
  },
  {
   "cell_type": "markdown",
   "metadata": {},
   "source": [
    "### Below is just a check to see how large the billing types are across all periods"
   ]
  },
  {
   "cell_type": "code",
   "execution_count": null,
   "metadata": {},
   "outputs": [],
   "source": [
    "gb_a_config = gb_a.groupby(['config'], as_index=False).sum()\n",
    "gb_a_config"
   ]
  },
  {
   "cell_type": "markdown",
   "metadata": {},
   "source": [
    "### These 'OCONS', 'ONORE' and 'OUNIV' data types are not actual product config IDs so we have to get them from a different data file. We are excluding these types below."
   ]
  },
  {
   "cell_type": "code",
   "execution_count": null,
   "metadata": {},
   "outputs": [],
   "source": [
    "config_list = ['1Y', '2Y', '3Y', 'MTHLY']\n",
    "test1 = gb_a[gb_a['config'].isin(config_list)]\n"
   ]
  },
  {
   "cell_type": "code",
   "execution_count": null,
   "metadata": {},
   "outputs": [],
   "source": [
    "test1.sample(5)"
   ]
  },
  {
   "cell_type": "code",
   "execution_count": null,
   "metadata": {},
   "outputs": [],
   "source": []
  },
  {
   "cell_type": "markdown",
   "metadata": {},
   "source": [
    "## For now, lets just split this into gb_a_1Y, gb_a_2Y, gb_a_3y, gb_a_1M\n"
   ]
  },
  {
   "cell_type": "code",
   "execution_count": null,
   "metadata": {},
   "outputs": [],
   "source": [
    "gb_a_1Y = test1[test1['config']=='1Y']\n",
    "gb_a_2Y = test1[test1['config']=='2Y']\n",
    "gb_a_3Y = test1[test1['config']=='3Y']\n",
    "gb_a_1M = test1[test1['config']=='MTHLY']"
   ]
  },
  {
   "cell_type": "code",
   "execution_count": null,
   "metadata": {},
   "outputs": [],
   "source": [
    "print('this is the lenght of type A 1M billings: ', len(gb_a_1M))\n",
    "print('this is the lenght of type A 1Y billings: ', len(gb_a_1Y))\n",
    "print('this is the lenght of type A 2Y billings: ', len(gb_a_2Y))\n",
    "print('this is the lenght of type A 3Y billings: ', len(gb_a_3Y))"
   ]
  },
  {
   "cell_type": "markdown",
   "metadata": {},
   "source": [
    "# TYPE D billings\n",
    "These billings have a field 'Rule For Bill Date' that determines when new billings will occur\n",
    " - Monthly [Y1, Y2, Y3, Y5]\n",
    " - Quarterly [YQ]\n",
    " - Every 4 months [YT]\n",
    " - Semi-annual [YH]\n",
    " - Annual [YA, YC]\n",
    " - Every 2 years - [Y4]\n",
    " \n",
    " We also need to track the type D billings that do not have a 'Rule for Bill Date'"
   ]
  },
  {
   "cell_type": "code",
   "execution_count": null,
   "metadata": {},
   "outputs": [],
   "source": [
    "# for now just do a groupby on the type\n",
    "# filtering just the type A billings\n",
    "dfr_d = dfr[dfr['rev_req_type']=='D']"
   ]
  },
  {
   "cell_type": "code",
   "execution_count": null,
   "metadata": {},
   "outputs": [],
   "source": [
    "gb_d = dfr_d.groupby(['curr', 'BU', 'period',\n",
    "                     'rebill_rule'], as_index=False).sum()\n",
    "gb_d.drop(labels='Subscription Term', axis=1, inplace = True)"
   ]
  },
  {
   "cell_type": "code",
   "execution_count": null,
   "metadata": {},
   "outputs": [],
   "source": [
    "gb_d_mthly = gb_d[gb_d['rebill_rule'].isin(['Y1', 'Y2', 'Y3', 'Y5'])]\n",
    "gb_d_qtrly = gb_d[gb_d['rebill_rule']=='YQ']\n",
    "gb_d_four_mths = gb_d[gb_d['rebill_rule']=='YT']\n",
    "gb_d_semi_ann = gb_d[gb_d['rebill_rule']=='YH']\n",
    "gb_d_annual = gb_d[gb_d['rebill_rule'].isin(['YA', 'YC'])]\n",
    "gb_d_two_yrs = gb_d[gb_d['rebill_rule']=='Y4']"
   ]
  },
  {
   "cell_type": "code",
   "execution_count": null,
   "metadata": {},
   "outputs": [],
   "source": [
    "gb_d['rebill_rule'].value_counts()"
   ]
  },
  {
   "cell_type": "markdown",
   "metadata": {},
   "source": [
    "### Note: There is one type D billings that is listed as 'BT' I don't know what this means, but it was a $180 EUR payment from January 2017, so we will ignore"
   ]
  },
  {
   "cell_type": "code",
   "execution_count": null,
   "metadata": {},
   "outputs": [],
   "source": [
    "what_is_YT = gb_d[gb_d['rebill_rule']=='YT']\n",
    "what_is_YT.head(10)"
   ]
  },
  {
   "cell_type": "markdown",
   "metadata": {},
   "source": [
    "## Note: There are only 8 payments (back from 2017) that paid on a 4 month basis. \n",
    "We will ignore these as well."
   ]
  },
  {
   "cell_type": "code",
   "execution_count": null,
   "metadata": {},
   "outputs": [],
   "source": [
    "print('Length of monthly', len(gb_d_mthly))\n",
    "print('Length of quarterly', len(gb_d_qtrly))\n",
    "print('Length of four months', len(gb_d_four_mths))\n",
    "print('Length of semi ann', len(gb_d_semi_ann))\n",
    "print('Length of annual', len(gb_d_annual))\n",
    "print('Length of two years', len(gb_d_two_yrs))"
   ]
  },
  {
   "cell_type": "code",
   "execution_count": null,
   "metadata": {},
   "outputs": [],
   "source": []
  },
  {
   "cell_type": "code",
   "execution_count": null,
   "metadata": {},
   "outputs": [],
   "source": []
  },
  {
   "cell_type": "markdown",
   "metadata": {},
   "source": [
    "## NOW WE NEED TO BUILD A DATAFRAME THAT INTEGRATES THIS DATA\n",
    "\n",
    "- We will have the following descriptive fields\n",
    "   - Invoicing Fiscal Year-Period\n",
    "   - Document Currency\n",
    "   - Enterprise BU\n",
    "\n",
    "- We will have the following fields based on rebilling rule\n",
    "   - Recognized\n",
    "   - Service\n",
    "   - Monthly\n",
    "   - Quarterly\n",
    "   - Annual\n",
    "   - Two Years\n",
    "   - Three Years"
   ]
  },
  {
   "cell_type": "code",
   "execution_count": null,
   "metadata": {},
   "outputs": [],
   "source": [
    "# We need to do it this way when we get to a .py file!\n",
    "list_df = [gb_rec, gb_svc, gb_b,\n",
    "        gb_a_1M,    gb_a_1Y,    gb_a_2Y,       gb_a_3Y, \n",
    "        gb_d_mthly, gb_d_qtrly, gb_d_semi_ann, gb_d_annual, gb_d_two_yrs]\n",
    "\n",
    "list_columns = ['recognized', 'service', 'deferred_B', \n",
    "    'deferred_1M_a', 'deferred_1Y_a', 'deferred_2Y_a', 'deferred_3Y_a',\n",
    "    'deferred_1M_d', 'deferred_3M_d', 'deferred_6M_d', 'deferred_1Y_d', 'deferred_2Y_d']\n"
   ]
  },
  {
   "cell_type": "code",
   "execution_count": null,
   "metadata": {},
   "outputs": [],
   "source": [
    "def merge_new_dataframe(old_df, new_df, new_column):\n",
    "    df_merged = pd.merge(old_df, new_df, how='outer', \n",
    "                     left_on=['curr', 'BU', 'period'],\n",
    "                    right_on=['curr', 'BU', 'period'])\n",
    "    df_merged.rename(index=str, columns={'DC_amount': new_column}, inplace=True)\n",
    "    \n",
    "    #need to drop the product configtype id for merges where the new_df is of type A\n",
    "    config_str = 'config'\n",
    "    rule_str = 'rebill_rule'\n",
    "    if config_str in df_merged.columns:\n",
    "        df_merged.drop(columns=['config'], inplace=True)\n",
    "    \n",
    "    if rule_str in df_merged.columns:\n",
    "        df_merged.drop(columns=['rebill_rule'], inplace=True)\n",
    "        \n",
    "    return df_merged"
   ]
  },
  {
   "cell_type": "code",
   "execution_count": null,
   "metadata": {},
   "outputs": [],
   "source": [
    "def merge_all_dataframes(list_df, list_columns):\n",
    "    for i, df in enumerate(list_df):\n",
    "        print('This is i:', i)\n",
    "        #print(\"This is the df: \", df.head())\n",
    "        print('referencing the column: ', list_columns[i])\n",
    "\n",
    "        if i==0:\n",
    "            df_merged = list_df[0]\n",
    "            df_merged.rename(index=str, columns={'amount': list_columns[i]}, inplace=True)\n",
    "        else:\n",
    "            df_merged = merge_new_dataframe(df_merged, df, list_columns[i])\n",
    "\n",
    "    return df_merged\n",
    "    "
   ]
  },
  {
   "cell_type": "code",
   "execution_count": null,
   "metadata": {},
   "outputs": [],
   "source": [
    "df = merge_all_dataframes(list_df, list_columns)"
   ]
  },
  {
   "cell_type": "code",
   "execution_count": null,
   "metadata": {
    "scrolled": true
   },
   "outputs": [],
   "source": [
    "df.columns"
   ]
  },
  {
   "cell_type": "code",
   "execution_count": null,
   "metadata": {},
   "outputs": [],
   "source": [
    "def clean_df_columns(df):\n",
    "    \n",
    "    # clean up NaNs before adding \n",
    "    df = df.fillna(value=0)\n",
    "    \n",
    "    # Monthly\n",
    "    df['deferred_1M'] = df['deferred_1M_a']+df['deferred_1M_d']\n",
    "    df.drop(labels=['deferred_1M_a', 'deferred_1M_d'], axis=1, inplace=True)\n",
    "    \n",
    "    # Annual\n",
    "    df['deferred_1Y'] = df['deferred_1Y_a']+df['deferred_1Y_d']\n",
    "    df.drop(labels=['deferred_1Y_a', 'deferred_1Y_d'], axis=1, inplace=True)\n",
    "    \n",
    "    # Two-Year\n",
    "    df['deferred_2Y'] = df['deferred_2Y_a']+df['deferred_2Y_d']\n",
    "    df.drop(labels=['deferred_2Y_a', 'deferred_2Y_d'], axis=1, inplace=True)\n",
    "    \n",
    "    # renaming 3Y, 3M and 6M\n",
    "    df.rename(index=str, columns = {'deferred_3Y_a':'deferred_3Y', 'deferred_3M_d':'deferred_3M', \n",
    "                               'deferred_6M_d': 'deferred_6M'}, inplace=True)\n",
    "\n",
    "    #cleaning up the longer column names\n",
    "    df.rename(index=str, columns = {'curr': 'curr',\n",
    "                               'BU':'BU',\n",
    "                               'period':'period'}, inplace=True)\n",
    "    \n",
    "    return df"
   ]
  },
  {
   "cell_type": "code",
   "execution_count": null,
   "metadata": {},
   "outputs": [],
   "source": [
    "df = clean_df_columns(df)"
   ]
  },
  {
   "cell_type": "code",
   "execution_count": null,
   "metadata": {},
   "outputs": [],
   "source": [
    "df.sample(10)"
   ]
  },
  {
   "cell_type": "code",
   "execution_count": null,
   "metadata": {},
   "outputs": [],
   "source": [
    "# Make this a function to be cleaned up somehow\n",
    "del dfr\n",
    "del dfr_a\n",
    "del dfr_b\n",
    "del dfr_d\n",
    "del gb_a\n",
    "del gb_a_1M\n",
    "del gb_a_1Y\n",
    "del gb_a_2Y\n",
    "del gb_a_3Y\n",
    "del gb_b, \n",
    "del gb_d\n",
    "del gb_svc, gb_rec, gb_d_two_yrs\n",
    "del gb_d_four_mths, gb_d_qtrly, gb_d_semi_ann\n"
   ]
  },
  {
   "cell_type": "markdown",
   "metadata": {},
   "source": [
    "# Now working on the ZCC billings\n",
    "\n",
    "These billings are type D billings that did not populate the rebill_rule field of the database.\n",
    "\n",
    "They have a 'sales document type' = 'ZCC\"\n",
    "\n",
    "The billings themselves are being created from a tableau report that looks for additions to the deferred revenue waterfall based on billings of type D and have a sales document type of ZCC"
   ]
  },
  {
   "cell_type": "code",
   "execution_count": null,
   "metadata": {},
   "outputs": [],
   "source": [
    "whos"
   ]
  },
  {
   "cell_type": "code",
   "execution_count": null,
   "metadata": {},
   "outputs": [],
   "source": [
    "df.sample(10)"
   ]
  },
  {
   "cell_type": "markdown",
   "metadata": {},
   "source": [
    "# TO BE DONE:\n",
    "\n",
    "1. Clean up the type F billings (at least check to see if they are necessary)\n",
    "2. Make a function to delete all intermediate dataframes\n",
    "3. Add type A no config function\n",
    "4. Add type D ZCC billings\n",
    "\n",
    "5. Work on the forecast part of this\n",
    "\n",
    "6. Load up FX rates"
   ]
  },
  {
   "cell_type": "code",
   "execution_count": null,
   "metadata": {},
   "outputs": [],
   "source": [
    "# Adobe financial calendar\n",
    "df_cal = pd.read_excel('../data/old/ADOBE_FINANCIAL_CALENDAR.xlsx', 'ADBE_cal')"
   ]
  },
  {
   "cell_type": "code",
   "execution_count": null,
   "metadata": {},
   "outputs": [],
   "source": [
    "df_cal.head()"
   ]
  },
  {
   "cell_type": "markdown",
   "metadata": {},
   "source": [
    "## Working on Type A billings with no configuration\n",
    "\n",
    " - this is included in the all_billings_inputs file on the 'type_A_no_config' sheet"
   ]
  },
  {
   "cell_type": "code",
   "execution_count": null,
   "metadata": {},
   "outputs": [],
   "source": []
  },
  {
   "cell_type": "code",
   "execution_count": null,
   "metadata": {},
   "outputs": [],
   "source": []
  },
  {
   "cell_type": "code",
   "execution_count": null,
   "metadata": {},
   "outputs": [],
   "source": []
  },
  {
   "cell_type": "code",
   "execution_count": null,
   "metadata": {},
   "outputs": [],
   "source": []
  },
  {
   "cell_type": "code",
   "execution_count": null,
   "metadata": {},
   "outputs": [],
   "source": []
  },
  {
   "cell_type": "code",
   "execution_count": null,
   "metadata": {},
   "outputs": [],
   "source": []
  },
  {
   "cell_type": "code",
   "execution_count": null,
   "metadata": {},
   "outputs": [],
   "source": []
  },
  {
   "cell_type": "code",
   "execution_count": null,
   "metadata": {},
   "outputs": [],
   "source": []
  },
  {
   "cell_type": "code",
   "execution_count": null,
   "metadata": {},
   "outputs": [],
   "source": []
  },
  {
   "cell_type": "code",
   "execution_count": null,
   "metadata": {},
   "outputs": [],
   "source": []
  },
  {
   "cell_type": "code",
   "execution_count": null,
   "metadata": {},
   "outputs": [],
   "source": []
  },
  {
   "cell_type": "code",
   "execution_count": null,
   "metadata": {},
   "outputs": [],
   "source": []
  },
  {
   "cell_type": "code",
   "execution_count": null,
   "metadata": {},
   "outputs": [],
   "source": []
  },
  {
   "cell_type": "code",
   "execution_count": null,
   "metadata": {},
   "outputs": [],
   "source": []
  },
  {
   "cell_type": "code",
   "execution_count": null,
   "metadata": {},
   "outputs": [],
   "source": []
  },
  {
   "cell_type": "code",
   "execution_count": null,
   "metadata": {},
   "outputs": [],
   "source": []
  },
  {
   "cell_type": "code",
   "execution_count": null,
   "metadata": {},
   "outputs": [],
   "source": []
  },
  {
   "cell_type": "code",
   "execution_count": null,
   "metadata": {},
   "outputs": [],
   "source": []
  },
  {
   "cell_type": "code",
   "execution_count": null,
   "metadata": {},
   "outputs": [],
   "source": []
  },
  {
   "cell_type": "code",
   "execution_count": null,
   "metadata": {},
   "outputs": [],
   "source": []
  },
  {
   "cell_type": "code",
   "execution_count": null,
   "metadata": {},
   "outputs": [],
   "source": []
  },
  {
   "cell_type": "code",
   "execution_count": null,
   "metadata": {},
   "outputs": [],
   "source": []
  },
  {
   "cell_type": "markdown",
   "metadata": {},
   "source": [
    "## ZCC Billings have been included in the base billings file"
   ]
  },
  {
   "cell_type": "code",
   "execution_count": null,
   "metadata": {},
   "outputs": [],
   "source": [
    "df_ZCC = pd.read_excel('../data/all_billings_inputs.xlsx', sheet_name='type_A_no_config')"
   ]
  },
  {
   "cell_type": "code",
   "execution_count": null,
   "metadata": {},
   "outputs": [],
   "source": [
    "\n",
    "# clean up NaNs before adding \n",
    "test_merge = test_merge.fillna(value=0)\n",
    "\n",
    "# Monthly\n",
    "test_merge['deferred_1M'] = test_merge['deferred_1M_x']+test_merge['deferred_1M_y']\n",
    "test_merge.drop(labels=['deferred_1M_x', 'deferred_1M_x'], axis=1, inplace=True)\n",
    "\n",
    "# Quarterly\n",
    "test_merge['deferred_3M'] = test_merge['deferred_3M_x']+test_merge['deferred_3M_y']\n",
    "test_merge.drop(labels=['deferred_3M_x', 'deferred_3M_y'], axis=1, inplace=True)\n",
    "\n",
    "# Semi-Annual\n",
    "test_merge['deferred_6M'] = test_merge['deferred_6M_x']+test_merge['deferred_6M_y']\n",
    "test_merge.drop(labels=['deferred_6M_x', 'deferred_6M_y'], axis=1, inplace=True)\n",
    "\n",
    "# Annual\n",
    "test_merge['deferred_1Y'] = test_merge['deferred_1Y_x']+test_merge['deferred_1Y_y']\n",
    "test_merge.drop(labels=['deferred_1Y_x', 'deferred_1Y_y'], axis=1, inplace=True)\n",
    "\n",
    "# 2-Years\n",
    "test_merge['deferred_2Y'] = test_merge['deferred_2Y_x']+test_merge['deferred_2Y_y']\n",
    "test_merge.drop(labels=['deferred_2Y_x', 'deferred_2Y_y'], axis=1, inplace=True)\n",
    "\n",
    "\n",
    "\n"
   ]
  },
  {
   "cell_type": "code",
   "execution_count": null,
   "metadata": {},
   "outputs": [],
   "source": [
    "test_merge.columns"
   ]
  },
  {
   "cell_type": "code",
   "execution_count": null,
   "metadata": {},
   "outputs": [],
   "source": [
    "test_merge.sample(20)"
   ]
  },
  {
   "cell_type": "code",
   "execution_count": null,
   "metadata": {},
   "outputs": [],
   "source": [
    "## Looks like the type ZCC billings are complete"
   ]
  },
  {
   "cell_type": "code",
   "execution_count": null,
   "metadata": {},
   "outputs": [],
   "source": [
    "# renaming the main dataframe as df\n",
    "df = test_merge.copy()"
   ]
  },
  {
   "cell_type": "markdown",
   "metadata": {},
   "source": [
    "# Type A No Config Type Billings\n",
    "\n",
    "This file contains type A billings that have a revenue contract start date and end date. We need to map these into the terms of our dataframe.\n",
    "\n",
    "### Steps:\n",
    "1. Rename the columns\n",
    "2. This file has entries for pennies. Need to clear out anything less than $10 in absolute value\n",
    "3. Determine the length of time between start date and end date\n",
    "4. Group this dataframe by currency, period and BU\n",
    "5. Merge this final dataframe with the larger dataframe\n",
    "\n",
    "## NOTE: This file contains two different start date and end date columns. We need to look at all of them"
   ]
  },
  {
   "cell_type": "code",
   "execution_count": null,
   "metadata": {},
   "outputs": [],
   "source": [
    "df_A = pd.read_excel('../data/old/type_A_no_config.xlsx', 'DC')"
   ]
  },
  {
   "cell_type": "code",
   "execution_count": null,
   "metadata": {},
   "outputs": [],
   "source": [
    "df_A.sample(10)"
   ]
  },
  {
   "cell_type": "code",
   "execution_count": null,
   "metadata": {},
   "outputs": [],
   "source": [
    "df_A.columns"
   ]
  },
  {
   "cell_type": "code",
   "execution_count": null,
   "metadata": {},
   "outputs": [],
   "source": [
    "df_A.rename(index=str, columns={'Document Currency':'currency', \n",
    "                               'Enterprise Bu':'BU',\n",
    "                               'Invoicing Fiscal Year-Period Desc':'period',\n",
    "                               'Rev Rec Contract End Date Hdr':'end_date_1',\n",
    "                               'Rev Rec Contract End Date Item':'end_date_2',\n",
    "                               'Rev Rec Contract Start Date Hdr': 'start_date_1',\n",
    "                               'Rev Rec Contract Start Date Item': 'start_date_2',\n",
    "                               'Completed Sales Doc Currency':'amount'}, inplace=True)\n",
    "\n",
    "df_A.drop(columns='Product Configtype ID', inplace=True)"
   ]
  },
  {
   "cell_type": "code",
   "execution_count": null,
   "metadata": {},
   "outputs": [],
   "source": [
    "df_A.columns"
   ]
  },
  {
   "cell_type": "markdown",
   "metadata": {},
   "source": [
    "### Dealing with the duplicate dates by taking a max"
   ]
  },
  {
   "cell_type": "code",
   "execution_count": null,
   "metadata": {},
   "outputs": [],
   "source": [
    "df_A.head()"
   ]
  },
  {
   "cell_type": "code",
   "execution_count": null,
   "metadata": {},
   "outputs": [],
   "source": [
    "df_A['start_date_str'] = df_A[['start_date_1','start_date_2']].max(axis=1).astype(int).astype(str)\n",
    "df_A['end_date_str'] = df_A[['end_date_1','end_date_2']].max(axis=1).astype(int).astype(str)"
   ]
  },
  {
   "cell_type": "code",
   "execution_count": null,
   "metadata": {},
   "outputs": [],
   "source": [
    "df_A.sample(10)"
   ]
  },
  {
   "cell_type": "code",
   "execution_count": null,
   "metadata": {},
   "outputs": [],
   "source": [
    "df_A['start_date'] = pd.to_datetime(df_A['start_date_str'])\n",
    "df_A['end_date'] = pd.to_datetime(df_A['end_date_str'])"
   ]
  },
  {
   "cell_type": "code",
   "execution_count": null,
   "metadata": {},
   "outputs": [],
   "source": [
    "df_A.drop(labels=['end_date_1', 'end_date_2', 'start_date_1', 'start_date_2',\n",
    "                  'start_date_str', 'end_date_str'], axis=1, inplace=True)"
   ]
  },
  {
   "cell_type": "code",
   "execution_count": null,
   "metadata": {},
   "outputs": [],
   "source": []
  },
  {
   "cell_type": "code",
   "execution_count": null,
   "metadata": {},
   "outputs": [],
   "source": [
    "df_A['month_interval']=(df_A['end_date']-df_A['start_date'])"
   ]
  },
  {
   "cell_type": "code",
   "execution_count": null,
   "metadata": {},
   "outputs": [],
   "source": [
    "df_A.sample(10)"
   ]
  },
  {
   "cell_type": "code",
   "execution_count": null,
   "metadata": {},
   "outputs": [],
   "source": [
    "df_A['months']= (df_A['month_interval']/ np.timedelta64(1,'M')).round(0)"
   ]
  },
  {
   "cell_type": "code",
   "execution_count": null,
   "metadata": {},
   "outputs": [],
   "source": []
  },
  {
   "cell_type": "markdown",
   "metadata": {},
   "source": [
    "### Now I need to map the months into the different integers in my dataframe\n"
   ]
  },
  {
   "cell_type": "code",
   "execution_count": null,
   "metadata": {},
   "outputs": [],
   "source": [
    "list_rebills = [1, 3, 6, 12, 24, 36]\n",
    "temp_rebill = np.zeros_like(df_A['months'])\n",
    "for i in range(len(df_A)):\n",
    "    temp_rebill[i] = min(list_rebills, key=lambda x:abs(x-df_A['months'][i]))\n",
    "df_A['rebill_months']=temp_rebill\n"
   ]
  },
  {
   "cell_type": "code",
   "execution_count": null,
   "metadata": {},
   "outputs": [],
   "source": [
    "df_A.sample(10)"
   ]
  },
  {
   "cell_type": "code",
   "execution_count": null,
   "metadata": {},
   "outputs": [],
   "source": [
    "plt.scatter(df_A['months'], df_A['rebill_months'])"
   ]
  },
  {
   "cell_type": "markdown",
   "metadata": {},
   "source": [
    "## Grouping the dataframe by rebill_months"
   ]
  },
  {
   "cell_type": "code",
   "execution_count": null,
   "metadata": {},
   "outputs": [],
   "source": [
    "# drop what we dont need\n",
    "df_A.drop(columns = ['start_date', 'end_date', 'month_interval', 'months'], axis=1, inplace=True)"
   ]
  },
  {
   "cell_type": "code",
   "execution_count": null,
   "metadata": {},
   "outputs": [],
   "source": [
    "df_A.head()"
   ]
  },
  {
   "cell_type": "code",
   "execution_count": null,
   "metadata": {},
   "outputs": [],
   "source": [
    "#gb_A = df+A.groupby(['curr', 'BU', 'period'], as_index=False).sum()"
   ]
  },
  {
   "cell_type": "code",
   "execution_count": null,
   "metadata": {},
   "outputs": [],
   "source": [
    "#medals = df.pivot_table('no of medals', ['Year', 'Country'], 'medal')\n",
    "temp = df_A.pivot_table('amount', ['currency', 'BU', 'period'], 'rebill_months')"
   ]
  },
  {
   "cell_type": "code",
   "execution_count": null,
   "metadata": {},
   "outputs": [],
   "source": [
    "temp"
   ]
  },
  {
   "cell_type": "code",
   "execution_count": null,
   "metadata": {},
   "outputs": [],
   "source": [
    "temp.columns[5]"
   ]
  },
  {
   "cell_type": "code",
   "execution_count": null,
   "metadata": {},
   "outputs": [],
   "source": [
    "temp.fillna(0)"
   ]
  },
  {
   "cell_type": "code",
   "execution_count": null,
   "metadata": {},
   "outputs": [],
   "source": [
    "temp.rename(index=str, columns = {''})"
   ]
  },
  {
   "cell_type": "code",
   "execution_count": null,
   "metadata": {},
   "outputs": [],
   "source": [
    "whos"
   ]
  },
  {
   "cell_type": "code",
   "execution_count": null,
   "metadata": {},
   "outputs": [],
   "source": []
  },
  {
   "cell_type": "code",
   "execution_count": null,
   "metadata": {},
   "outputs": [],
   "source": []
  }
 ],
 "metadata": {
  "kernelspec": {
   "display_name": "Python 3",
   "language": "python",
   "name": "python3"
  },
  "language_info": {
   "codemirror_mode": {
    "name": "ipython",
    "version": 3
   },
   "file_extension": ".py",
   "mimetype": "text/x-python",
   "name": "python",
   "nbconvert_exporter": "python",
   "pygments_lexer": "ipython3",
   "version": "3.7.3"
  }
 },
 "nbformat": 4,
 "nbformat_minor": 2
}
