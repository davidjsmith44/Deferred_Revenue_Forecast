{
 "cells": [
  {
   "cell_type": "markdown",
   "metadata": {},
   "source": [
    "# Deferred After the inputs have been created\n",
    "\n",
    "The input_df_dict dictionary contains the following information (keys)\n",
    " - billings\n",
    " - ADBE_cal\n",
    " - bookings\n",
    " - FX_forwards\n",
    " - FX_rates\n"
   ]
  },
  {
   "cell_type": "code",
   "execution_count": 1,
   "metadata": {},
   "outputs": [],
   "source": [
    "import pandas as pd\n",
    "import matplotlib.pyplot as plt\n",
    "import numpy as np\n",
    "import pickle\n"
   ]
  },
  {
   "cell_type": "code",
   "execution_count": 2,
   "metadata": {},
   "outputs": [],
   "source": [
    "input_df_dict = pickle.load(open('../data/processed/all_inputs.p', 'rb'))\n",
    "\n",
    "df_billings = input_df_dict['billings']\n",
    "df_ADBE_cal = input_df_dict['ADBE_cal']\n",
    "df_bookings = input_df_dict['bookings']\n",
    "df_FX_fwds  = input_df_dict['FX_forwards']\n",
    "df_FX_rates = input_df_dict['FX_rates']"
   ]
  },
  {
   "cell_type": "code",
   "execution_count": null,
   "metadata": {},
   "outputs": [],
   "source": []
  },
  {
   "cell_type": "code",
   "execution_count": null,
   "metadata": {},
   "outputs": [],
   "source": []
  }
 ],
 "metadata": {
  "kernelspec": {
   "display_name": "Python 3.7.3 64-bit ('base': conda)",
   "language": "python",
   "name": "python37364bitbasecondaf40c37e8e9dd45c89e043b248b661bde"
  },
  "language_info": {
   "codemirror_mode": {
    "name": "ipython",
    "version": 3
   },
   "file_extension": ".py",
   "mimetype": "text/x-python",
   "name": "python",
   "nbconvert_exporter": "python",
   "pygments_lexer": "ipython3",
   "version": "3.7.3"
  }
 },
 "nbformat": 4,
 "nbformat_minor": 2
}
