{
 "cells": [
  {
   "cell_type": "markdown",
   "metadata": {},
   "source": [
    "# Testing Deferred Revenue in Python\n",
    "Will this be easier for everyone to use than Matlab?"
   ]
  },
  {
   "cell_type": "code",
   "execution_count": 1,
   "metadata": {},
   "outputs": [],
   "source": [
    "import numpy as np\n",
    "import pandas as pd\n",
    "import matplotlib.pyplot as plt\n",
    "%matplotlib inline\n",
    "\n",
    "import pickle"
   ]
  },
  {
   "cell_type": "markdown",
   "metadata": {},
   "source": [
    "## Step 1: Processing Base Billings Data"
   ]
  },
  {
   "cell_type": "code",
   "execution_count": 2,
   "metadata": {},
   "outputs": [],
   "source": [
    "df = pd.read_excel('../data/all_billings_inputs.xlsx', sheet_name='base_billings')"
   ]
  },
  {
   "cell_type": "code",
   "execution_count": 3,
   "metadata": {
    "scrolled": true
   },
   "outputs": [
    {
     "data": {
      "text/html": [
       "<div>\n",
       "<style scoped>\n",
       "    .dataframe tbody tr th:only-of-type {\n",
       "        vertical-align: middle;\n",
       "    }\n",
       "\n",
       "    .dataframe tbody tr th {\n",
       "        vertical-align: top;\n",
       "    }\n",
       "\n",
       "    .dataframe thead th {\n",
       "        text-align: right;\n",
       "    }\n",
       "</style>\n",
       "<table border=\"1\" class=\"dataframe\">\n",
       "  <thead>\n",
       "    <tr style=\"text-align: right;\">\n",
       "      <th></th>\n",
       "      <th>Document Currency</th>\n",
       "      <th>Enterprise BU Desc</th>\n",
       "      <th>Frequency</th>\n",
       "      <th>Invoice Fiscal Year Period Desc</th>\n",
       "      <th>Product Config Type</th>\n",
       "      <th>Rev Rec Category</th>\n",
       "      <th>Rule For Bill Date</th>\n",
       "      <th>Sales Type</th>\n",
       "      <th>Subscription Term</th>\n",
       "      <th>Completed Sales ( DC )</th>\n",
       "      <th>Completed Sales</th>\n",
       "    </tr>\n",
       "  </thead>\n",
       "  <tbody>\n",
       "    <tr>\n",
       "      <th>32691</th>\n",
       "      <td>NOK</td>\n",
       "      <td>Document Cloud</td>\n",
       "      <td>NaN</td>\n",
       "      <td>2017-01</td>\n",
       "      <td>NaN</td>\n",
       "      <td>A</td>\n",
       "      <td>NaN</td>\n",
       "      <td>DEFERRED</td>\n",
       "      <td>1</td>\n",
       "      <td>-426.00</td>\n",
       "      <td>-50.01</td>\n",
       "    </tr>\n",
       "    <tr>\n",
       "      <th>38144</th>\n",
       "      <td>USD</td>\n",
       "      <td>Creative</td>\n",
       "      <td>NaN</td>\n",
       "      <td>2017-04</td>\n",
       "      <td>1V</td>\n",
       "      <td>NaN</td>\n",
       "      <td>NaN</td>\n",
       "      <td>RECOGNIZED</td>\n",
       "      <td>0</td>\n",
       "      <td>-375.00</td>\n",
       "      <td>-375.00</td>\n",
       "    </tr>\n",
       "    <tr>\n",
       "      <th>34547</th>\n",
       "      <td>RUB</td>\n",
       "      <td>Other Solutions</td>\n",
       "      <td>NaN</td>\n",
       "      <td>2019-06</td>\n",
       "      <td>NaN</td>\n",
       "      <td>NaN</td>\n",
       "      <td>NaN</td>\n",
       "      <td>RECOGNIZED</td>\n",
       "      <td>0</td>\n",
       "      <td>-386.40</td>\n",
       "      <td>-5.92</td>\n",
       "    </tr>\n",
       "    <tr>\n",
       "      <th>23278</th>\n",
       "      <td>GBP</td>\n",
       "      <td>Experience Cloud</td>\n",
       "      <td>1TME</td>\n",
       "      <td>2019-10</td>\n",
       "      <td>NaN</td>\n",
       "      <td>A</td>\n",
       "      <td>NaN</td>\n",
       "      <td>DEFERRED</td>\n",
       "      <td>0</td>\n",
       "      <td>10000.00</td>\n",
       "      <td>12211.60</td>\n",
       "    </tr>\n",
       "    <tr>\n",
       "      <th>3277</th>\n",
       "      <td>AUD</td>\n",
       "      <td>Experience Cloud</td>\n",
       "      <td>1TME</td>\n",
       "      <td>2019-08</td>\n",
       "      <td>NaN</td>\n",
       "      <td>B</td>\n",
       "      <td>NaN</td>\n",
       "      <td>DEFERRED</td>\n",
       "      <td>0</td>\n",
       "      <td>101691.00</td>\n",
       "      <td>71399.42</td>\n",
       "    </tr>\n",
       "    <tr>\n",
       "      <th>47664</th>\n",
       "      <td>USD</td>\n",
       "      <td>Experience Cloud</td>\n",
       "      <td>ONGO</td>\n",
       "      <td>2020-01</td>\n",
       "      <td>NaN</td>\n",
       "      <td>D</td>\n",
       "      <td>Y1</td>\n",
       "      <td>DEFERRED</td>\n",
       "      <td>0</td>\n",
       "      <td>122994.42</td>\n",
       "      <td>122994.42</td>\n",
       "    </tr>\n",
       "    <tr>\n",
       "      <th>31268</th>\n",
       "      <td>JPY</td>\n",
       "      <td>Print &amp; Publishing</td>\n",
       "      <td>NaN</td>\n",
       "      <td>2018-12</td>\n",
       "      <td>1V</td>\n",
       "      <td>NaN</td>\n",
       "      <td>NaN</td>\n",
       "      <td>RECOGNIZED</td>\n",
       "      <td>0</td>\n",
       "      <td>139775.00</td>\n",
       "      <td>1238.41</td>\n",
       "    </tr>\n",
       "    <tr>\n",
       "      <th>16629</th>\n",
       "      <td>EUR</td>\n",
       "      <td>Experience Cloud</td>\n",
       "      <td>1TME</td>\n",
       "      <td>2020-01</td>\n",
       "      <td>NaN</td>\n",
       "      <td>NaN</td>\n",
       "      <td>NaN</td>\n",
       "      <td>DEFERRED</td>\n",
       "      <td>0</td>\n",
       "      <td>3784.50</td>\n",
       "      <td>4169.22</td>\n",
       "    </tr>\n",
       "    <tr>\n",
       "      <th>26413</th>\n",
       "      <td>INR</td>\n",
       "      <td>Creative</td>\n",
       "      <td>NaN</td>\n",
       "      <td>2020-04</td>\n",
       "      <td>NaN</td>\n",
       "      <td>NaN</td>\n",
       "      <td>NaN</td>\n",
       "      <td>RECOGNIZED</td>\n",
       "      <td>0</td>\n",
       "      <td>103624.00</td>\n",
       "      <td>1439.25</td>\n",
       "    </tr>\n",
       "    <tr>\n",
       "      <th>41534</th>\n",
       "      <td>USD</td>\n",
       "      <td>Document Cloud</td>\n",
       "      <td>NaN</td>\n",
       "      <td>2019-08</td>\n",
       "      <td>1Y</td>\n",
       "      <td>A</td>\n",
       "      <td>NaN</td>\n",
       "      <td>DEFERRED</td>\n",
       "      <td>0</td>\n",
       "      <td>520694.80</td>\n",
       "      <td>520694.80</td>\n",
       "    </tr>\n",
       "  </tbody>\n",
       "</table>\n",
       "</div>"
      ],
      "text/plain": [
       "      Document Currency  Enterprise BU Desc Frequency  \\\n",
       "32691               NOK      Document Cloud       NaN   \n",
       "38144               USD            Creative       NaN   \n",
       "34547               RUB     Other Solutions       NaN   \n",
       "23278               GBP    Experience Cloud      1TME   \n",
       "3277                AUD    Experience Cloud      1TME   \n",
       "47664               USD    Experience Cloud      ONGO   \n",
       "31268               JPY  Print & Publishing       NaN   \n",
       "16629               EUR    Experience Cloud      1TME   \n",
       "26413               INR            Creative       NaN   \n",
       "41534               USD      Document Cloud       NaN   \n",
       "\n",
       "      Invoice Fiscal Year Period Desc Product Config Type Rev Rec Category  \\\n",
       "32691                         2017-01                 NaN                A   \n",
       "38144                         2017-04                  1V              NaN   \n",
       "34547                         2019-06                 NaN              NaN   \n",
       "23278                         2019-10                 NaN                A   \n",
       "3277                          2019-08                 NaN                B   \n",
       "47664                         2020-01                 NaN                D   \n",
       "31268                         2018-12                  1V              NaN   \n",
       "16629                         2020-01                 NaN              NaN   \n",
       "26413                         2020-04                 NaN              NaN   \n",
       "41534                         2019-08                  1Y                A   \n",
       "\n",
       "      Rule For Bill Date  Sales Type  Subscription Term  \\\n",
       "32691                NaN    DEFERRED                  1   \n",
       "38144                NaN  RECOGNIZED                  0   \n",
       "34547                NaN  RECOGNIZED                  0   \n",
       "23278                NaN    DEFERRED                  0   \n",
       "3277                 NaN    DEFERRED                  0   \n",
       "47664                 Y1    DEFERRED                  0   \n",
       "31268                NaN  RECOGNIZED                  0   \n",
       "16629                NaN    DEFERRED                  0   \n",
       "26413                NaN  RECOGNIZED                  0   \n",
       "41534                NaN    DEFERRED                  0   \n",
       "\n",
       "       Completed Sales ( DC )  Completed Sales  \n",
       "32691                 -426.00           -50.01  \n",
       "38144                 -375.00          -375.00  \n",
       "34547                 -386.40            -5.92  \n",
       "23278                10000.00         12211.60  \n",
       "3277                101691.00         71399.42  \n",
       "47664               122994.42        122994.42  \n",
       "31268               139775.00          1238.41  \n",
       "16629                 3784.50          4169.22  \n",
       "26413               103624.00          1439.25  \n",
       "41534               520694.80        520694.80  "
      ]
     },
     "execution_count": 3,
     "metadata": {},
     "output_type": "execute_result"
    }
   ],
   "source": [
    "df.sample(10)"
   ]
  },
  {
   "cell_type": "markdown",
   "metadata": {},
   "source": [
    "## Changing the column names early since they are inconsistent across other reports"
   ]
  },
  {
   "cell_type": "code",
   "execution_count": 4,
   "metadata": {},
   "outputs": [
    {
     "data": {
      "text/plain": [
       "Index(['Document Currency', 'Enterprise BU Desc', 'Frequency',\n",
       "       'Invoice Fiscal Year Period Desc', 'Product Config Type',\n",
       "       'Rev Rec Category', 'Rule For Bill Date', 'Sales Type',\n",
       "       'Subscription Term', 'Completed Sales ( DC )', 'Completed Sales'],\n",
       "      dtype='object')"
      ]
     },
     "execution_count": 4,
     "metadata": {},
     "output_type": "execute_result"
    }
   ],
   "source": [
    "df.columns"
   ]
  },
  {
   "cell_type": "code",
   "execution_count": 5,
   "metadata": {},
   "outputs": [],
   "source": [
    "df.rename(index = str, columns = {'Document Currency': 'curr',\n",
    "                                 'Enterprise BU Desc': 'BU',\n",
    "                                 'Invoice Fiscal Year Period Desc': 'period',\n",
    "                                 'Product Config Type': 'config',\n",
    "                                 'Rev Rec Category': 'rev_req_type',\n",
    "                                 'Rule For Bill Date': 'rebill_rule',\n",
    "                                 'Completed Sales ( DC )': 'DC_amount',\n",
    "                                 'Completed Sales': 'US_amount'}, inplace=True)"
   ]
  },
  {
   "cell_type": "code",
   "execution_count": 6,
   "metadata": {},
   "outputs": [
    {
     "data": {
      "text/plain": [
       "Index(['curr', 'BU', 'Frequency', 'period', 'config', 'rev_req_type',\n",
       "       'rebill_rule', 'Sales Type', 'Subscription Term', 'DC_amount',\n",
       "       'US_amount'],\n",
       "      dtype='object')"
      ]
     },
     "execution_count": 6,
     "metadata": {},
     "output_type": "execute_result"
    }
   ],
   "source": [
    "df.columns"
   ]
  },
  {
   "cell_type": "markdown",
   "metadata": {},
   "source": [
    "## Filter that removes any currency that has  < 10 transactions. \n"
   ]
  },
  {
   "cell_type": "code",
   "execution_count": 7,
   "metadata": {},
   "outputs": [
    {
     "name": "stdout",
     "output_type": "stream",
     "text": [
      "USD    12427\n",
      "EUR     7725\n",
      "GBP     5714\n",
      "AUD     5068\n",
      "JPY     4919\n",
      "CHF     2389\n",
      "SEK     2260\n",
      "DKK     2172\n",
      "NOK     1854\n",
      "CAD     1520\n",
      "HKD      486\n",
      "BRL      466\n",
      "RUB      461\n",
      "KRW      247\n",
      "CLP      211\n",
      "COP      210\n",
      "ARS      210\n",
      "SGD      209\n",
      "PEN      190\n",
      "INR      181\n",
      "PHP      151\n",
      "TWD      148\n",
      "THB      144\n",
      "MYR      138\n",
      "IDR      132\n",
      "NZD       67\n",
      "ILS       38\n",
      "TRY       27\n",
      "SAR        4\n",
      "BMD        2\n",
      "AED        1\n",
      "MXP        1\n",
      "Name: curr, dtype: int64\n"
     ]
    }
   ],
   "source": [
    "# creates a list of the currencies and the number of transactions for each currency\n",
    "vc = df['curr'].value_counts()\n",
    "print(vc)"
   ]
  },
  {
   "cell_type": "code",
   "execution_count": 8,
   "metadata": {},
   "outputs": [],
   "source": [
    "# Create variable that is true if the number of transaction is greater than 10, false otherwise\n",
    "keep_these = vc.values > 10\n",
    "# filtering only currencies that were greater than 10\n",
    "keep_curr = vc[keep_these]\n",
    "a = keep_curr.index\n",
    "# filtering the dataframe to remove any of teh currencies not in our list\n",
    "df = df[df['curr'].isin(a)]"
   ]
  },
  {
   "cell_type": "markdown",
   "metadata": {},
   "source": [
    "## Just keeping track of the currencies we removed in our model_dict data structure"
   ]
  },
  {
   "cell_type": "code",
   "execution_count": 9,
   "metadata": {},
   "outputs": [],
   "source": [
    "remove_these = vc[vc.values <= 10].index\n",
    "model_dict = {'curr_removed': list(vc[remove_these].index)}\n",
    "delete_curr = list(remove_these)"
   ]
  },
  {
   "cell_type": "markdown",
   "metadata": {},
   "source": [
    "## The FX database does not have information on the following currencies\n",
    " - AED (United Arab Emirates Dirham)\n",
    " - BMD (Bermudan Dollar)\n",
    " - MXP (Mexican Peso)\n",
    " - TRY (Turkish Lira)"
   ]
  },
  {
   "cell_type": "code",
   "execution_count": 10,
   "metadata": {},
   "outputs": [
    {
     "name": "stdout",
     "output_type": "stream",
     "text": [
      "Model dictionary {'curr_removed': ['SAR', 'BMD', 'AED', 'MXP', 'TRY']}\n",
      "Deleted Currencies ['SAR', 'BMD', 'AED', 'MXP', 'TRY']\n"
     ]
    }
   ],
   "source": [
    "if 'TRY' not in model_dict:\n",
    "    model_dict['curr_removed'].append('TRY')\n",
    "    delete_curr.append('TRY')\n",
    "    a = a.drop('TRY')\n",
    "    \n",
    "print('Model dictionary', model_dict)\n",
    "print('Deleted Currencies', delete_curr)"
   ]
  },
  {
   "cell_type": "code",
   "execution_count": 11,
   "metadata": {},
   "outputs": [
    {
     "name": "stdout",
     "output_type": "stream",
     "text": [
      "---Removing infrequent currencies from billings history---\n",
      "Total number of currencies in the base billings file:  32\n",
      "\n",
      " Currencies were removed:  5\n",
      "SAR , BMD , AED , MXP , \n",
      "\n",
      "27 Remaining currencies: \n",
      "USD , EUR , GBP , AUD , JPY , CHF , SEK , DKK , NOK , CAD , HKD , BRL , RUB , KRW , CLP , COP , ARS , SGD , PEN , INR , PHP , TWD , THB , MYR , IDR , NZD , ILS , "
     ]
    }
   ],
   "source": [
    "print(\"---Removing infrequent currencies from billings history---\")\n",
    "print('Total number of currencies in the base billings file: ', len(vc))\n",
    "if len(model_dict['curr_removed'])==0:\n",
    "    print('No currencies were removed, all contained 10 or more billings')\n",
    "    print('Currencies in the base billings file')\n",
    "    for item in a:\n",
    "        print(a[item], end = \" \")\n",
    "else:\n",
    "    print('\\n Currencies were removed: ', len(model_dict['curr_removed']))\n",
    "\n",
    "    for item in remove_these:\n",
    "        print(item, ', ', end=\"\")\n",
    "        \n",
    "    print(\"\\n\\n{} Remaining currencies: \".format(len(a)))\n",
    "    for item in a:\n",
    "        print(item, ', ', end=\"\")"
   ]
  },
  {
   "cell_type": "code",
   "execution_count": null,
   "metadata": {},
   "outputs": [],
   "source": []
  },
  {
   "cell_type": "markdown",
   "metadata": {},
   "source": [
    "# Removing any of the values that are zero"
   ]
  },
  {
   "cell_type": "code",
   "execution_count": 12,
   "metadata": {},
   "outputs": [
    {
     "name": "stdout",
     "output_type": "stream",
     "text": [
      "This is the length of the dataframe before removing zeros:  49764\n",
      "This is the length of the dataframe after removing zeros:  46285\n"
     ]
    }
   ],
   "source": [
    "print('This is the length of the dataframe before removing zeros: ', len(df))\n",
    "df = df[df['DC_amount']!=0]\n",
    "print('This is the length of the dataframe after removing zeros: ', len(df))"
   ]
  },
  {
   "cell_type": "code",
   "execution_count": 13,
   "metadata": {},
   "outputs": [
    {
     "data": {
      "text/html": [
       "<div>\n",
       "<style scoped>\n",
       "    .dataframe tbody tr th:only-of-type {\n",
       "        vertical-align: middle;\n",
       "    }\n",
       "\n",
       "    .dataframe tbody tr th {\n",
       "        vertical-align: top;\n",
       "    }\n",
       "\n",
       "    .dataframe thead th {\n",
       "        text-align: right;\n",
       "    }\n",
       "</style>\n",
       "<table border=\"1\" class=\"dataframe\">\n",
       "  <thead>\n",
       "    <tr style=\"text-align: right;\">\n",
       "      <th></th>\n",
       "      <th>curr</th>\n",
       "      <th>BU</th>\n",
       "      <th>Frequency</th>\n",
       "      <th>period</th>\n",
       "      <th>config</th>\n",
       "      <th>rev_req_type</th>\n",
       "      <th>rebill_rule</th>\n",
       "      <th>Sales Type</th>\n",
       "      <th>Subscription Term</th>\n",
       "      <th>DC_amount</th>\n",
       "      <th>US_amount</th>\n",
       "    </tr>\n",
       "  </thead>\n",
       "  <tbody>\n",
       "    <tr>\n",
       "      <th>1</th>\n",
       "      <td>ARS</td>\n",
       "      <td>Creative</td>\n",
       "      <td>NaN</td>\n",
       "      <td>2019-03</td>\n",
       "      <td>1Y</td>\n",
       "      <td>D</td>\n",
       "      <td>NaN</td>\n",
       "      <td>DEFERRED</td>\n",
       "      <td>1</td>\n",
       "      <td>-11291.52</td>\n",
       "      <td>-289.26</td>\n",
       "    </tr>\n",
       "    <tr>\n",
       "      <th>2</th>\n",
       "      <td>ARS</td>\n",
       "      <td>Creative</td>\n",
       "      <td>NaN</td>\n",
       "      <td>2019-03</td>\n",
       "      <td>1Y</td>\n",
       "      <td>D</td>\n",
       "      <td>Y3</td>\n",
       "      <td>DEFERRED</td>\n",
       "      <td>1</td>\n",
       "      <td>373766.00</td>\n",
       "      <td>9601.19</td>\n",
       "    </tr>\n",
       "    <tr>\n",
       "      <th>3</th>\n",
       "      <td>ARS</td>\n",
       "      <td>Creative</td>\n",
       "      <td>NaN</td>\n",
       "      <td>2019-03</td>\n",
       "      <td>1Y</td>\n",
       "      <td>D</td>\n",
       "      <td>YA</td>\n",
       "      <td>DEFERRED</td>\n",
       "      <td>12</td>\n",
       "      <td>241380.00</td>\n",
       "      <td>6194.45</td>\n",
       "    </tr>\n",
       "    <tr>\n",
       "      <th>4</th>\n",
       "      <td>ARS</td>\n",
       "      <td>Creative</td>\n",
       "      <td>NaN</td>\n",
       "      <td>2019-03</td>\n",
       "      <td>MTHLY</td>\n",
       "      <td>D</td>\n",
       "      <td>NaN</td>\n",
       "      <td>DEFERRED</td>\n",
       "      <td>1</td>\n",
       "      <td>-1221.00</td>\n",
       "      <td>-31.07</td>\n",
       "    </tr>\n",
       "    <tr>\n",
       "      <th>5</th>\n",
       "      <td>ARS</td>\n",
       "      <td>Creative</td>\n",
       "      <td>NaN</td>\n",
       "      <td>2019-03</td>\n",
       "      <td>MTHLY</td>\n",
       "      <td>D</td>\n",
       "      <td>Y3</td>\n",
       "      <td>DEFERRED</td>\n",
       "      <td>1</td>\n",
       "      <td>45799.00</td>\n",
       "      <td>1173.37</td>\n",
       "    </tr>\n",
       "    <tr>\n",
       "      <th>6</th>\n",
       "      <td>ARS</td>\n",
       "      <td>Creative</td>\n",
       "      <td>NaN</td>\n",
       "      <td>2019-04</td>\n",
       "      <td>1Y</td>\n",
       "      <td>D</td>\n",
       "      <td>NaN</td>\n",
       "      <td>DEFERRED</td>\n",
       "      <td>1</td>\n",
       "      <td>-40014.70</td>\n",
       "      <td>-985.24</td>\n",
       "    </tr>\n",
       "    <tr>\n",
       "      <th>7</th>\n",
       "      <td>ARS</td>\n",
       "      <td>Creative</td>\n",
       "      <td>NaN</td>\n",
       "      <td>2019-04</td>\n",
       "      <td>1Y</td>\n",
       "      <td>D</td>\n",
       "      <td>Y3</td>\n",
       "      <td>DEFERRED</td>\n",
       "      <td>1</td>\n",
       "      <td>1705471.00</td>\n",
       "      <td>42032.83</td>\n",
       "    </tr>\n",
       "    <tr>\n",
       "      <th>8</th>\n",
       "      <td>ARS</td>\n",
       "      <td>Creative</td>\n",
       "      <td>NaN</td>\n",
       "      <td>2019-04</td>\n",
       "      <td>1Y</td>\n",
       "      <td>D</td>\n",
       "      <td>YA</td>\n",
       "      <td>DEFERRED</td>\n",
       "      <td>12</td>\n",
       "      <td>1112854.12</td>\n",
       "      <td>27486.58</td>\n",
       "    </tr>\n",
       "    <tr>\n",
       "      <th>9</th>\n",
       "      <td>ARS</td>\n",
       "      <td>Creative</td>\n",
       "      <td>NaN</td>\n",
       "      <td>2019-04</td>\n",
       "      <td>MTHLY</td>\n",
       "      <td>D</td>\n",
       "      <td>NaN</td>\n",
       "      <td>DEFERRED</td>\n",
       "      <td>1</td>\n",
       "      <td>-14292.80</td>\n",
       "      <td>-351.04</td>\n",
       "    </tr>\n",
       "    <tr>\n",
       "      <th>10</th>\n",
       "      <td>ARS</td>\n",
       "      <td>Creative</td>\n",
       "      <td>NaN</td>\n",
       "      <td>2019-04</td>\n",
       "      <td>MTHLY</td>\n",
       "      <td>D</td>\n",
       "      <td>Y3</td>\n",
       "      <td>DEFERRED</td>\n",
       "      <td>1</td>\n",
       "      <td>188938.00</td>\n",
       "      <td>4653.43</td>\n",
       "    </tr>\n",
       "    <tr>\n",
       "      <th>11</th>\n",
       "      <td>ARS</td>\n",
       "      <td>Creative</td>\n",
       "      <td>NaN</td>\n",
       "      <td>2019-05</td>\n",
       "      <td>1Y</td>\n",
       "      <td>D</td>\n",
       "      <td>NaN</td>\n",
       "      <td>DEFERRED</td>\n",
       "      <td>1</td>\n",
       "      <td>-44604.25</td>\n",
       "      <td>-1043.70</td>\n",
       "    </tr>\n",
       "    <tr>\n",
       "      <th>12</th>\n",
       "      <td>ARS</td>\n",
       "      <td>Creative</td>\n",
       "      <td>NaN</td>\n",
       "      <td>2019-05</td>\n",
       "      <td>1Y</td>\n",
       "      <td>D</td>\n",
       "      <td>NaN</td>\n",
       "      <td>DEFERRED</td>\n",
       "      <td>12</td>\n",
       "      <td>-44738.00</td>\n",
       "      <td>-1057.41</td>\n",
       "    </tr>\n",
       "    <tr>\n",
       "      <th>13</th>\n",
       "      <td>ARS</td>\n",
       "      <td>Creative</td>\n",
       "      <td>NaN</td>\n",
       "      <td>2019-05</td>\n",
       "      <td>1Y</td>\n",
       "      <td>D</td>\n",
       "      <td>Y3</td>\n",
       "      <td>DEFERRED</td>\n",
       "      <td>1</td>\n",
       "      <td>2965447.29</td>\n",
       "      <td>69483.14</td>\n",
       "    </tr>\n",
       "    <tr>\n",
       "      <th>14</th>\n",
       "      <td>ARS</td>\n",
       "      <td>Creative</td>\n",
       "      <td>NaN</td>\n",
       "      <td>2019-05</td>\n",
       "      <td>1Y</td>\n",
       "      <td>D</td>\n",
       "      <td>YA</td>\n",
       "      <td>DEFERRED</td>\n",
       "      <td>12</td>\n",
       "      <td>1595808.00</td>\n",
       "      <td>37319.65</td>\n",
       "    </tr>\n",
       "    <tr>\n",
       "      <th>15</th>\n",
       "      <td>ARS</td>\n",
       "      <td>Creative</td>\n",
       "      <td>NaN</td>\n",
       "      <td>2019-05</td>\n",
       "      <td>MTHLY</td>\n",
       "      <td>D</td>\n",
       "      <td>NaN</td>\n",
       "      <td>DEFERRED</td>\n",
       "      <td>1</td>\n",
       "      <td>-23443.10</td>\n",
       "      <td>-546.25</td>\n",
       "    </tr>\n",
       "    <tr>\n",
       "      <th>16</th>\n",
       "      <td>ARS</td>\n",
       "      <td>Creative</td>\n",
       "      <td>NaN</td>\n",
       "      <td>2019-05</td>\n",
       "      <td>MTHLY</td>\n",
       "      <td>D</td>\n",
       "      <td>Y3</td>\n",
       "      <td>DEFERRED</td>\n",
       "      <td>1</td>\n",
       "      <td>239931.00</td>\n",
       "      <td>5631.16</td>\n",
       "    </tr>\n",
       "    <tr>\n",
       "      <th>17</th>\n",
       "      <td>ARS</td>\n",
       "      <td>Creative</td>\n",
       "      <td>NaN</td>\n",
       "      <td>2019-06</td>\n",
       "      <td>1Y</td>\n",
       "      <td>D</td>\n",
       "      <td>NaN</td>\n",
       "      <td>DEFERRED</td>\n",
       "      <td>1</td>\n",
       "      <td>-27908.71</td>\n",
       "      <td>-627.60</td>\n",
       "    </tr>\n",
       "    <tr>\n",
       "      <th>18</th>\n",
       "      <td>ARS</td>\n",
       "      <td>Creative</td>\n",
       "      <td>NaN</td>\n",
       "      <td>2019-06</td>\n",
       "      <td>1Y</td>\n",
       "      <td>D</td>\n",
       "      <td>NaN</td>\n",
       "      <td>DEFERRED</td>\n",
       "      <td>12</td>\n",
       "      <td>-137098.08</td>\n",
       "      <td>-3056.07</td>\n",
       "    </tr>\n",
       "    <tr>\n",
       "      <th>19</th>\n",
       "      <td>ARS</td>\n",
       "      <td>Creative</td>\n",
       "      <td>NaN</td>\n",
       "      <td>2019-06</td>\n",
       "      <td>1Y</td>\n",
       "      <td>D</td>\n",
       "      <td>Y3</td>\n",
       "      <td>DEFERRED</td>\n",
       "      <td>1</td>\n",
       "      <td>5310445.69</td>\n",
       "      <td>118673.40</td>\n",
       "    </tr>\n",
       "    <tr>\n",
       "      <th>20</th>\n",
       "      <td>ARS</td>\n",
       "      <td>Creative</td>\n",
       "      <td>NaN</td>\n",
       "      <td>2019-06</td>\n",
       "      <td>1Y</td>\n",
       "      <td>D</td>\n",
       "      <td>YA</td>\n",
       "      <td>DEFERRED</td>\n",
       "      <td>12</td>\n",
       "      <td>1654238.00</td>\n",
       "      <td>36923.24</td>\n",
       "    </tr>\n",
       "    <tr>\n",
       "      <th>21</th>\n",
       "      <td>ARS</td>\n",
       "      <td>Creative</td>\n",
       "      <td>NaN</td>\n",
       "      <td>2019-06</td>\n",
       "      <td>MTHLY</td>\n",
       "      <td>D</td>\n",
       "      <td>NaN</td>\n",
       "      <td>DEFERRED</td>\n",
       "      <td>1</td>\n",
       "      <td>-12141.47</td>\n",
       "      <td>-272.23</td>\n",
       "    </tr>\n",
       "    <tr>\n",
       "      <th>22</th>\n",
       "      <td>ARS</td>\n",
       "      <td>Creative</td>\n",
       "      <td>NaN</td>\n",
       "      <td>2019-06</td>\n",
       "      <td>MTHLY</td>\n",
       "      <td>D</td>\n",
       "      <td>Y3</td>\n",
       "      <td>DEFERRED</td>\n",
       "      <td>1</td>\n",
       "      <td>421487.88</td>\n",
       "      <td>9411.49</td>\n",
       "    </tr>\n",
       "    <tr>\n",
       "      <th>23</th>\n",
       "      <td>ARS</td>\n",
       "      <td>Creative</td>\n",
       "      <td>NaN</td>\n",
       "      <td>2019-07</td>\n",
       "      <td>NaN</td>\n",
       "      <td>NaN</td>\n",
       "      <td>NaN</td>\n",
       "      <td>DEFERRED</td>\n",
       "      <td>0</td>\n",
       "      <td>13960.00</td>\n",
       "      <td>321.64</td>\n",
       "    </tr>\n",
       "    <tr>\n",
       "      <th>24</th>\n",
       "      <td>ARS</td>\n",
       "      <td>Creative</td>\n",
       "      <td>NaN</td>\n",
       "      <td>2019-07</td>\n",
       "      <td>NaN</td>\n",
       "      <td>NaN</td>\n",
       "      <td>NaN</td>\n",
       "      <td>RECOGNIZED</td>\n",
       "      <td>0</td>\n",
       "      <td>6786.00</td>\n",
       "      <td>155.12</td>\n",
       "    </tr>\n",
       "    <tr>\n",
       "      <th>25</th>\n",
       "      <td>ARS</td>\n",
       "      <td>Creative</td>\n",
       "      <td>NaN</td>\n",
       "      <td>2019-07</td>\n",
       "      <td>1Y</td>\n",
       "      <td>D</td>\n",
       "      <td>NaN</td>\n",
       "      <td>DEFERRED</td>\n",
       "      <td>1</td>\n",
       "      <td>-11874.23</td>\n",
       "      <td>-266.11</td>\n",
       "    </tr>\n",
       "    <tr>\n",
       "      <th>26</th>\n",
       "      <td>ARS</td>\n",
       "      <td>Creative</td>\n",
       "      <td>NaN</td>\n",
       "      <td>2019-07</td>\n",
       "      <td>1Y</td>\n",
       "      <td>D</td>\n",
       "      <td>NaN</td>\n",
       "      <td>DEFERRED</td>\n",
       "      <td>12</td>\n",
       "      <td>-69742.85</td>\n",
       "      <td>-1571.01</td>\n",
       "    </tr>\n",
       "    <tr>\n",
       "      <th>27</th>\n",
       "      <td>ARS</td>\n",
       "      <td>Creative</td>\n",
       "      <td>NaN</td>\n",
       "      <td>2019-07</td>\n",
       "      <td>1Y</td>\n",
       "      <td>D</td>\n",
       "      <td>Y3</td>\n",
       "      <td>DEFERRED</td>\n",
       "      <td>1</td>\n",
       "      <td>5913949.87</td>\n",
       "      <td>133871.44</td>\n",
       "    </tr>\n",
       "    <tr>\n",
       "      <th>28</th>\n",
       "      <td>ARS</td>\n",
       "      <td>Creative</td>\n",
       "      <td>NaN</td>\n",
       "      <td>2019-07</td>\n",
       "      <td>1Y</td>\n",
       "      <td>D</td>\n",
       "      <td>YA</td>\n",
       "      <td>DEFERRED</td>\n",
       "      <td>12</td>\n",
       "      <td>953875.89</td>\n",
       "      <td>21566.14</td>\n",
       "    </tr>\n",
       "    <tr>\n",
       "      <th>29</th>\n",
       "      <td>ARS</td>\n",
       "      <td>Creative</td>\n",
       "      <td>NaN</td>\n",
       "      <td>2019-07</td>\n",
       "      <td>MTHLY</td>\n",
       "      <td>D</td>\n",
       "      <td>NaN</td>\n",
       "      <td>DEFERRED</td>\n",
       "      <td>1</td>\n",
       "      <td>-17399.90</td>\n",
       "      <td>-396.55</td>\n",
       "    </tr>\n",
       "    <tr>\n",
       "      <th>30</th>\n",
       "      <td>ARS</td>\n",
       "      <td>Creative</td>\n",
       "      <td>NaN</td>\n",
       "      <td>2019-07</td>\n",
       "      <td>MTHLY</td>\n",
       "      <td>D</td>\n",
       "      <td>Y3</td>\n",
       "      <td>DEFERRED</td>\n",
       "      <td>1</td>\n",
       "      <td>539341.44</td>\n",
       "      <td>12219.68</td>\n",
       "    </tr>\n",
       "  </tbody>\n",
       "</table>\n",
       "</div>"
      ],
      "text/plain": [
       "   curr        BU Frequency   period config rev_req_type rebill_rule  \\\n",
       "1   ARS  Creative       NaN  2019-03     1Y            D         NaN   \n",
       "2   ARS  Creative       NaN  2019-03     1Y            D          Y3   \n",
       "3   ARS  Creative       NaN  2019-03     1Y            D          YA   \n",
       "4   ARS  Creative       NaN  2019-03  MTHLY            D         NaN   \n",
       "5   ARS  Creative       NaN  2019-03  MTHLY            D          Y3   \n",
       "6   ARS  Creative       NaN  2019-04     1Y            D         NaN   \n",
       "7   ARS  Creative       NaN  2019-04     1Y            D          Y3   \n",
       "8   ARS  Creative       NaN  2019-04     1Y            D          YA   \n",
       "9   ARS  Creative       NaN  2019-04  MTHLY            D         NaN   \n",
       "10  ARS  Creative       NaN  2019-04  MTHLY            D          Y3   \n",
       "11  ARS  Creative       NaN  2019-05     1Y            D         NaN   \n",
       "12  ARS  Creative       NaN  2019-05     1Y            D         NaN   \n",
       "13  ARS  Creative       NaN  2019-05     1Y            D          Y3   \n",
       "14  ARS  Creative       NaN  2019-05     1Y            D          YA   \n",
       "15  ARS  Creative       NaN  2019-05  MTHLY            D         NaN   \n",
       "16  ARS  Creative       NaN  2019-05  MTHLY            D          Y3   \n",
       "17  ARS  Creative       NaN  2019-06     1Y            D         NaN   \n",
       "18  ARS  Creative       NaN  2019-06     1Y            D         NaN   \n",
       "19  ARS  Creative       NaN  2019-06     1Y            D          Y3   \n",
       "20  ARS  Creative       NaN  2019-06     1Y            D          YA   \n",
       "21  ARS  Creative       NaN  2019-06  MTHLY            D         NaN   \n",
       "22  ARS  Creative       NaN  2019-06  MTHLY            D          Y3   \n",
       "23  ARS  Creative       NaN  2019-07    NaN          NaN         NaN   \n",
       "24  ARS  Creative       NaN  2019-07    NaN          NaN         NaN   \n",
       "25  ARS  Creative       NaN  2019-07     1Y            D         NaN   \n",
       "26  ARS  Creative       NaN  2019-07     1Y            D         NaN   \n",
       "27  ARS  Creative       NaN  2019-07     1Y            D          Y3   \n",
       "28  ARS  Creative       NaN  2019-07     1Y            D          YA   \n",
       "29  ARS  Creative       NaN  2019-07  MTHLY            D         NaN   \n",
       "30  ARS  Creative       NaN  2019-07  MTHLY            D          Y3   \n",
       "\n",
       "    Sales Type  Subscription Term   DC_amount  US_amount  \n",
       "1     DEFERRED                  1   -11291.52    -289.26  \n",
       "2     DEFERRED                  1   373766.00    9601.19  \n",
       "3     DEFERRED                 12   241380.00    6194.45  \n",
       "4     DEFERRED                  1    -1221.00     -31.07  \n",
       "5     DEFERRED                  1    45799.00    1173.37  \n",
       "6     DEFERRED                  1   -40014.70    -985.24  \n",
       "7     DEFERRED                  1  1705471.00   42032.83  \n",
       "8     DEFERRED                 12  1112854.12   27486.58  \n",
       "9     DEFERRED                  1   -14292.80    -351.04  \n",
       "10    DEFERRED                  1   188938.00    4653.43  \n",
       "11    DEFERRED                  1   -44604.25   -1043.70  \n",
       "12    DEFERRED                 12   -44738.00   -1057.41  \n",
       "13    DEFERRED                  1  2965447.29   69483.14  \n",
       "14    DEFERRED                 12  1595808.00   37319.65  \n",
       "15    DEFERRED                  1   -23443.10    -546.25  \n",
       "16    DEFERRED                  1   239931.00    5631.16  \n",
       "17    DEFERRED                  1   -27908.71    -627.60  \n",
       "18    DEFERRED                 12  -137098.08   -3056.07  \n",
       "19    DEFERRED                  1  5310445.69  118673.40  \n",
       "20    DEFERRED                 12  1654238.00   36923.24  \n",
       "21    DEFERRED                  1   -12141.47    -272.23  \n",
       "22    DEFERRED                  1   421487.88    9411.49  \n",
       "23    DEFERRED                  0    13960.00     321.64  \n",
       "24  RECOGNIZED                  0     6786.00     155.12  \n",
       "25    DEFERRED                  1   -11874.23    -266.11  \n",
       "26    DEFERRED                 12   -69742.85   -1571.01  \n",
       "27    DEFERRED                  1  5913949.87  133871.44  \n",
       "28    DEFERRED                 12   953875.89   21566.14  \n",
       "29    DEFERRED                  1   -17399.90    -396.55  \n",
       "30    DEFERRED                  1   539341.44   12219.68  "
      ]
     },
     "execution_count": 13,
     "metadata": {},
     "output_type": "execute_result"
    }
   ],
   "source": [
    "df.head(30)"
   ]
  },
  {
   "cell_type": "markdown",
   "metadata": {},
   "source": [
    "## Clearing out the Non-Revenue billings from the file\n",
    " - No Idea what these are"
   ]
  },
  {
   "cell_type": "code",
   "execution_count": 14,
   "metadata": {},
   "outputs": [
    {
     "data": {
      "text/plain": [
       "DEFERRED       37628\n",
       "RECOGNIZED      7183\n",
       "PRO-SVC-INV     1323\n",
       "NON-REV          150\n",
       "Name: Sales Type, dtype: int64"
      ]
     },
     "execution_count": 14,
     "metadata": {},
     "output_type": "execute_result"
    }
   ],
   "source": [
    "df[\"Sales Type\"].value_counts()"
   ]
  },
  {
   "cell_type": "code",
   "execution_count": 15,
   "metadata": {},
   "outputs": [
    {
     "name": "stdout",
     "output_type": "stream",
     "text": [
      "Length of the dataframe before removing non-revenue billings:  46285\n",
      "Length of the dataframe after removing non-revenue billings:   46135\n"
     ]
    }
   ],
   "source": [
    "print('Length of the dataframe before removing non-revenue billings: ', len(df))\n",
    "df = df[df['Sales Type']!='NON-REV']\n",
    "print('Length of the dataframe after removing non-revenue billings:  ', len(df))\n"
   ]
  },
  {
   "cell_type": "markdown",
   "metadata": {},
   "source": [
    "## Starting to group the revenue by period, industry, etc"
   ]
  },
  {
   "cell_type": "markdown",
   "metadata": {},
   "source": [
    "Attempting to group by the following categories\n",
    " - currency\n",
    " - period\n",
    " - sale type\n",
    " \n",
    "May need to process the data differently with the deferred billings so we will start with the recognized and then the service billings\n",
    "\n",
    "# DOING THIS ALL IN PANDAS WITH SPLIT APPLY COMBINE on Sales Type \n"
   ]
  },
  {
   "cell_type": "code",
   "execution_count": 16,
   "metadata": {},
   "outputs": [],
   "source": [
    "# First split the data into three dataframes\n",
    "# Recognized billings\n",
    "rec = df[df['Sales Type']=='RECOGNIZED'].copy()\n",
    "svc = df[df['Sales Type']=='PRO-SVC-INV'].copy()\n",
    "dfr = df[df['Sales Type']=='DEFERRED'].copy()"
   ]
  },
  {
   "cell_type": "markdown",
   "metadata": {},
   "source": [
    "# NOW WORKING ON THE BILLINGS"
   ]
  },
  {
   "cell_type": "markdown",
   "metadata": {},
   "source": [
    "### Recognized Revenue"
   ]
  },
  {
   "cell_type": "code",
   "execution_count": 17,
   "metadata": {},
   "outputs": [
    {
     "data": {
      "text/html": [
       "<div>\n",
       "<style scoped>\n",
       "    .dataframe tbody tr th:only-of-type {\n",
       "        vertical-align: middle;\n",
       "    }\n",
       "\n",
       "    .dataframe tbody tr th {\n",
       "        vertical-align: top;\n",
       "    }\n",
       "\n",
       "    .dataframe thead th {\n",
       "        text-align: right;\n",
       "    }\n",
       "</style>\n",
       "<table border=\"1\" class=\"dataframe\">\n",
       "  <thead>\n",
       "    <tr style=\"text-align: right;\">\n",
       "      <th></th>\n",
       "      <th>curr</th>\n",
       "      <th>BU</th>\n",
       "      <th>Frequency</th>\n",
       "      <th>period</th>\n",
       "      <th>config</th>\n",
       "      <th>rev_req_type</th>\n",
       "      <th>rebill_rule</th>\n",
       "      <th>Sales Type</th>\n",
       "      <th>Subscription Term</th>\n",
       "      <th>DC_amount</th>\n",
       "      <th>US_amount</th>\n",
       "    </tr>\n",
       "  </thead>\n",
       "  <tbody>\n",
       "    <tr>\n",
       "      <th>24</th>\n",
       "      <td>ARS</td>\n",
       "      <td>Creative</td>\n",
       "      <td>NaN</td>\n",
       "      <td>2019-07</td>\n",
       "      <td>NaN</td>\n",
       "      <td>NaN</td>\n",
       "      <td>NaN</td>\n",
       "      <td>RECOGNIZED</td>\n",
       "      <td>0</td>\n",
       "      <td>6786.00</td>\n",
       "      <td>155.12</td>\n",
       "    </tr>\n",
       "    <tr>\n",
       "      <th>32</th>\n",
       "      <td>ARS</td>\n",
       "      <td>Creative</td>\n",
       "      <td>NaN</td>\n",
       "      <td>2019-08</td>\n",
       "      <td>NaN</td>\n",
       "      <td>NaN</td>\n",
       "      <td>NaN</td>\n",
       "      <td>RECOGNIZED</td>\n",
       "      <td>0</td>\n",
       "      <td>16472.00</td>\n",
       "      <td>390.02</td>\n",
       "    </tr>\n",
       "    <tr>\n",
       "      <th>39</th>\n",
       "      <td>ARS</td>\n",
       "      <td>Creative</td>\n",
       "      <td>NaN</td>\n",
       "      <td>2019-09</td>\n",
       "      <td>NaN</td>\n",
       "      <td>NaN</td>\n",
       "      <td>NaN</td>\n",
       "      <td>RECOGNIZED</td>\n",
       "      <td>0</td>\n",
       "      <td>19205.00</td>\n",
       "      <td>405.51</td>\n",
       "    </tr>\n",
       "    <tr>\n",
       "      <th>47</th>\n",
       "      <td>ARS</td>\n",
       "      <td>Creative</td>\n",
       "      <td>NaN</td>\n",
       "      <td>2019-10</td>\n",
       "      <td>NaN</td>\n",
       "      <td>NaN</td>\n",
       "      <td>NaN</td>\n",
       "      <td>RECOGNIZED</td>\n",
       "      <td>0</td>\n",
       "      <td>30382.19</td>\n",
       "      <td>532.13</td>\n",
       "    </tr>\n",
       "    <tr>\n",
       "      <th>55</th>\n",
       "      <td>ARS</td>\n",
       "      <td>Creative</td>\n",
       "      <td>NaN</td>\n",
       "      <td>2019-11</td>\n",
       "      <td>NaN</td>\n",
       "      <td>NaN</td>\n",
       "      <td>NaN</td>\n",
       "      <td>RECOGNIZED</td>\n",
       "      <td>0</td>\n",
       "      <td>59049.00</td>\n",
       "      <td>1023.67</td>\n",
       "    </tr>\n",
       "    <tr>\n",
       "      <th>63</th>\n",
       "      <td>ARS</td>\n",
       "      <td>Creative</td>\n",
       "      <td>NaN</td>\n",
       "      <td>2019-12</td>\n",
       "      <td>NaN</td>\n",
       "      <td>NaN</td>\n",
       "      <td>NaN</td>\n",
       "      <td>RECOGNIZED</td>\n",
       "      <td>0</td>\n",
       "      <td>71355.57</td>\n",
       "      <td>1195.94</td>\n",
       "    </tr>\n",
       "    <tr>\n",
       "      <th>71</th>\n",
       "      <td>ARS</td>\n",
       "      <td>Creative</td>\n",
       "      <td>NaN</td>\n",
       "      <td>2020-01</td>\n",
       "      <td>NaN</td>\n",
       "      <td>NaN</td>\n",
       "      <td>NaN</td>\n",
       "      <td>RECOGNIZED</td>\n",
       "      <td>0</td>\n",
       "      <td>79224.95</td>\n",
       "      <td>1323.41</td>\n",
       "    </tr>\n",
       "    <tr>\n",
       "      <th>80</th>\n",
       "      <td>ARS</td>\n",
       "      <td>Creative</td>\n",
       "      <td>NaN</td>\n",
       "      <td>2020-02</td>\n",
       "      <td>NaN</td>\n",
       "      <td>NaN</td>\n",
       "      <td>NaN</td>\n",
       "      <td>RECOGNIZED</td>\n",
       "      <td>0</td>\n",
       "      <td>36596.00</td>\n",
       "      <td>611.42</td>\n",
       "    </tr>\n",
       "    <tr>\n",
       "      <th>88</th>\n",
       "      <td>ARS</td>\n",
       "      <td>Creative</td>\n",
       "      <td>NaN</td>\n",
       "      <td>2020-03</td>\n",
       "      <td>NaN</td>\n",
       "      <td>NaN</td>\n",
       "      <td>NaN</td>\n",
       "      <td>RECOGNIZED</td>\n",
       "      <td>0</td>\n",
       "      <td>49107.00</td>\n",
       "      <td>810.06</td>\n",
       "    </tr>\n",
       "    <tr>\n",
       "      <th>96</th>\n",
       "      <td>ARS</td>\n",
       "      <td>Creative</td>\n",
       "      <td>NaN</td>\n",
       "      <td>2020-04</td>\n",
       "      <td>NaN</td>\n",
       "      <td>NaN</td>\n",
       "      <td>NaN</td>\n",
       "      <td>RECOGNIZED</td>\n",
       "      <td>0</td>\n",
       "      <td>20858.00</td>\n",
       "      <td>336.07</td>\n",
       "    </tr>\n",
       "    <tr>\n",
       "      <th>211</th>\n",
       "      <td>AUD</td>\n",
       "      <td>Creative</td>\n",
       "      <td>NaN</td>\n",
       "      <td>2015-01</td>\n",
       "      <td>NaN</td>\n",
       "      <td>NaN</td>\n",
       "      <td>NaN</td>\n",
       "      <td>RECOGNIZED</td>\n",
       "      <td>0</td>\n",
       "      <td>128281.46</td>\n",
       "      <td>107432.06</td>\n",
       "    </tr>\n",
       "    <tr>\n",
       "      <th>213</th>\n",
       "      <td>AUD</td>\n",
       "      <td>Creative</td>\n",
       "      <td>NaN</td>\n",
       "      <td>2015-01</td>\n",
       "      <td>1V</td>\n",
       "      <td>NaN</td>\n",
       "      <td>NaN</td>\n",
       "      <td>RECOGNIZED</td>\n",
       "      <td>0</td>\n",
       "      <td>3308.00</td>\n",
       "      <td>2812.28</td>\n",
       "    </tr>\n",
       "    <tr>\n",
       "      <th>215</th>\n",
       "      <td>AUD</td>\n",
       "      <td>Creative</td>\n",
       "      <td>NaN</td>\n",
       "      <td>2015-01</td>\n",
       "      <td>1Y</td>\n",
       "      <td>NaN</td>\n",
       "      <td>NaN</td>\n",
       "      <td>RECOGNIZED</td>\n",
       "      <td>0</td>\n",
       "      <td>57568.00</td>\n",
       "      <td>47687.03</td>\n",
       "    </tr>\n",
       "    <tr>\n",
       "      <th>222</th>\n",
       "      <td>AUD</td>\n",
       "      <td>Creative</td>\n",
       "      <td>NaN</td>\n",
       "      <td>2015-01</td>\n",
       "      <td>2V</td>\n",
       "      <td>NaN</td>\n",
       "      <td>NaN</td>\n",
       "      <td>RECOGNIZED</td>\n",
       "      <td>0</td>\n",
       "      <td>1137.00</td>\n",
       "      <td>956.06</td>\n",
       "    </tr>\n",
       "    <tr>\n",
       "      <th>227</th>\n",
       "      <td>AUD</td>\n",
       "      <td>Creative</td>\n",
       "      <td>NaN</td>\n",
       "      <td>2015-01</td>\n",
       "      <td>UPG1</td>\n",
       "      <td>NaN</td>\n",
       "      <td>NaN</td>\n",
       "      <td>RECOGNIZED</td>\n",
       "      <td>0</td>\n",
       "      <td>1603.00</td>\n",
       "      <td>1341.83</td>\n",
       "    </tr>\n",
       "    <tr>\n",
       "      <th>228</th>\n",
       "      <td>AUD</td>\n",
       "      <td>Creative</td>\n",
       "      <td>NaN</td>\n",
       "      <td>2015-02</td>\n",
       "      <td>NaN</td>\n",
       "      <td>NaN</td>\n",
       "      <td>NaN</td>\n",
       "      <td>RECOGNIZED</td>\n",
       "      <td>0</td>\n",
       "      <td>118999.82</td>\n",
       "      <td>95963.61</td>\n",
       "    </tr>\n",
       "    <tr>\n",
       "      <th>232</th>\n",
       "      <td>AUD</td>\n",
       "      <td>Creative</td>\n",
       "      <td>NaN</td>\n",
       "      <td>2015-02</td>\n",
       "      <td>1V</td>\n",
       "      <td>NaN</td>\n",
       "      <td>NaN</td>\n",
       "      <td>RECOGNIZED</td>\n",
       "      <td>0</td>\n",
       "      <td>3233.00</td>\n",
       "      <td>2630.63</td>\n",
       "    </tr>\n",
       "    <tr>\n",
       "      <th>235</th>\n",
       "      <td>AUD</td>\n",
       "      <td>Creative</td>\n",
       "      <td>NaN</td>\n",
       "      <td>2015-02</td>\n",
       "      <td>1Y</td>\n",
       "      <td>NaN</td>\n",
       "      <td>NaN</td>\n",
       "      <td>RECOGNIZED</td>\n",
       "      <td>0</td>\n",
       "      <td>19881.86</td>\n",
       "      <td>16137.71</td>\n",
       "    </tr>\n",
       "    <tr>\n",
       "      <th>242</th>\n",
       "      <td>AUD</td>\n",
       "      <td>Creative</td>\n",
       "      <td>NaN</td>\n",
       "      <td>2015-02</td>\n",
       "      <td>2V</td>\n",
       "      <td>NaN</td>\n",
       "      <td>NaN</td>\n",
       "      <td>RECOGNIZED</td>\n",
       "      <td>0</td>\n",
       "      <td>73.75</td>\n",
       "      <td>60.12</td>\n",
       "    </tr>\n",
       "    <tr>\n",
       "      <th>247</th>\n",
       "      <td>AUD</td>\n",
       "      <td>Creative</td>\n",
       "      <td>NaN</td>\n",
       "      <td>2015-02</td>\n",
       "      <td>UPG1</td>\n",
       "      <td>NaN</td>\n",
       "      <td>NaN</td>\n",
       "      <td>RECOGNIZED</td>\n",
       "      <td>0</td>\n",
       "      <td>689.00</td>\n",
       "      <td>559.40</td>\n",
       "    </tr>\n",
       "  </tbody>\n",
       "</table>\n",
       "</div>"
      ],
      "text/plain": [
       "    curr        BU Frequency   period config rev_req_type rebill_rule  \\\n",
       "24   ARS  Creative       NaN  2019-07    NaN          NaN         NaN   \n",
       "32   ARS  Creative       NaN  2019-08    NaN          NaN         NaN   \n",
       "39   ARS  Creative       NaN  2019-09    NaN          NaN         NaN   \n",
       "47   ARS  Creative       NaN  2019-10    NaN          NaN         NaN   \n",
       "55   ARS  Creative       NaN  2019-11    NaN          NaN         NaN   \n",
       "63   ARS  Creative       NaN  2019-12    NaN          NaN         NaN   \n",
       "71   ARS  Creative       NaN  2020-01    NaN          NaN         NaN   \n",
       "80   ARS  Creative       NaN  2020-02    NaN          NaN         NaN   \n",
       "88   ARS  Creative       NaN  2020-03    NaN          NaN         NaN   \n",
       "96   ARS  Creative       NaN  2020-04    NaN          NaN         NaN   \n",
       "211  AUD  Creative       NaN  2015-01    NaN          NaN         NaN   \n",
       "213  AUD  Creative       NaN  2015-01     1V          NaN         NaN   \n",
       "215  AUD  Creative       NaN  2015-01     1Y          NaN         NaN   \n",
       "222  AUD  Creative       NaN  2015-01     2V          NaN         NaN   \n",
       "227  AUD  Creative       NaN  2015-01   UPG1          NaN         NaN   \n",
       "228  AUD  Creative       NaN  2015-02    NaN          NaN         NaN   \n",
       "232  AUD  Creative       NaN  2015-02     1V          NaN         NaN   \n",
       "235  AUD  Creative       NaN  2015-02     1Y          NaN         NaN   \n",
       "242  AUD  Creative       NaN  2015-02     2V          NaN         NaN   \n",
       "247  AUD  Creative       NaN  2015-02   UPG1          NaN         NaN   \n",
       "\n",
       "     Sales Type  Subscription Term  DC_amount  US_amount  \n",
       "24   RECOGNIZED                  0    6786.00     155.12  \n",
       "32   RECOGNIZED                  0   16472.00     390.02  \n",
       "39   RECOGNIZED                  0   19205.00     405.51  \n",
       "47   RECOGNIZED                  0   30382.19     532.13  \n",
       "55   RECOGNIZED                  0   59049.00    1023.67  \n",
       "63   RECOGNIZED                  0   71355.57    1195.94  \n",
       "71   RECOGNIZED                  0   79224.95    1323.41  \n",
       "80   RECOGNIZED                  0   36596.00     611.42  \n",
       "88   RECOGNIZED                  0   49107.00     810.06  \n",
       "96   RECOGNIZED                  0   20858.00     336.07  \n",
       "211  RECOGNIZED                  0  128281.46  107432.06  \n",
       "213  RECOGNIZED                  0    3308.00    2812.28  \n",
       "215  RECOGNIZED                  0   57568.00   47687.03  \n",
       "222  RECOGNIZED                  0    1137.00     956.06  \n",
       "227  RECOGNIZED                  0    1603.00    1341.83  \n",
       "228  RECOGNIZED                  0  118999.82   95963.61  \n",
       "232  RECOGNIZED                  0    3233.00    2630.63  \n",
       "235  RECOGNIZED                  0   19881.86   16137.71  \n",
       "242  RECOGNIZED                  0      73.75      60.12  \n",
       "247  RECOGNIZED                  0     689.00     559.40  "
      ]
     },
     "execution_count": 17,
     "metadata": {},
     "output_type": "execute_result"
    }
   ],
   "source": [
    "rec.head(20)"
   ]
  },
  {
   "cell_type": "code",
   "execution_count": 18,
   "metadata": {},
   "outputs": [],
   "source": [
    "# testing groupby object\n",
    "gb_rec = rec.groupby(['curr', 'BU', 'period'], as_index=False).sum()"
   ]
  },
  {
   "cell_type": "code",
   "execution_count": 19,
   "metadata": {},
   "outputs": [],
   "source": [
    "# the Subscription term hangs around. We are dropping that here\n",
    "gb_rec.drop(labels='Subscription Term', axis=1,inplace =True)"
   ]
  },
  {
   "cell_type": "code",
   "execution_count": 20,
   "metadata": {},
   "outputs": [
    {
     "name": "stdout",
     "output_type": "stream",
     "text": [
      "<class 'pandas.core.frame.DataFrame'>\n",
      "Int64Index: 3347 entries, 0 to 3346\n",
      "Data columns (total 5 columns):\n",
      " #   Column     Non-Null Count  Dtype  \n",
      "---  ------     --------------  -----  \n",
      " 0   curr       3347 non-null   object \n",
      " 1   BU         3347 non-null   object \n",
      " 2   period     3347 non-null   object \n",
      " 3   DC_amount  3347 non-null   float64\n",
      " 4   US_amount  3347 non-null   float64\n",
      "dtypes: float64(2), object(3)\n",
      "memory usage: 156.9+ KB\n"
     ]
    }
   ],
   "source": [
    "gb_rec.info()"
   ]
  },
  {
   "cell_type": "markdown",
   "metadata": {},
   "source": [
    "## Now doing this for the service billings"
   ]
  },
  {
   "cell_type": "code",
   "execution_count": 21,
   "metadata": {},
   "outputs": [],
   "source": [
    "# testing groupby object\n",
    "gb_svc = svc.groupby(['curr', 'BU', 'period'], as_index=False).sum()"
   ]
  },
  {
   "cell_type": "code",
   "execution_count": 22,
   "metadata": {},
   "outputs": [
    {
     "data": {
      "text/html": [
       "<div>\n",
       "<style scoped>\n",
       "    .dataframe tbody tr th:only-of-type {\n",
       "        vertical-align: middle;\n",
       "    }\n",
       "\n",
       "    .dataframe tbody tr th {\n",
       "        vertical-align: top;\n",
       "    }\n",
       "\n",
       "    .dataframe thead th {\n",
       "        text-align: right;\n",
       "    }\n",
       "</style>\n",
       "<table border=\"1\" class=\"dataframe\">\n",
       "  <thead>\n",
       "    <tr style=\"text-align: right;\">\n",
       "      <th></th>\n",
       "      <th>curr</th>\n",
       "      <th>BU</th>\n",
       "      <th>period</th>\n",
       "      <th>DC_amount</th>\n",
       "      <th>US_amount</th>\n",
       "    </tr>\n",
       "  </thead>\n",
       "  <tbody>\n",
       "    <tr>\n",
       "      <th>0</th>\n",
       "      <td>AUD</td>\n",
       "      <td>Experience Cloud</td>\n",
       "      <td>2015-01</td>\n",
       "      <td>25075.00</td>\n",
       "      <td>21084.51</td>\n",
       "    </tr>\n",
       "    <tr>\n",
       "      <th>1</th>\n",
       "      <td>AUD</td>\n",
       "      <td>Experience Cloud</td>\n",
       "      <td>2015-02</td>\n",
       "      <td>-4750.00</td>\n",
       "      <td>-4220.74</td>\n",
       "    </tr>\n",
       "    <tr>\n",
       "      <th>2</th>\n",
       "      <td>AUD</td>\n",
       "      <td>Experience Cloud</td>\n",
       "      <td>2015-03</td>\n",
       "      <td>424271.75</td>\n",
       "      <td>337822.37</td>\n",
       "    </tr>\n",
       "    <tr>\n",
       "      <th>3</th>\n",
       "      <td>AUD</td>\n",
       "      <td>Experience Cloud</td>\n",
       "      <td>2015-04</td>\n",
       "      <td>297925.00</td>\n",
       "      <td>229116.23</td>\n",
       "    </tr>\n",
       "    <tr>\n",
       "      <th>4</th>\n",
       "      <td>AUD</td>\n",
       "      <td>Experience Cloud</td>\n",
       "      <td>2015-05</td>\n",
       "      <td>316894.82</td>\n",
       "      <td>237310.85</td>\n",
       "    </tr>\n",
       "    <tr>\n",
       "      <th>5</th>\n",
       "      <td>AUD</td>\n",
       "      <td>Experience Cloud</td>\n",
       "      <td>2015-06</td>\n",
       "      <td>589499.45</td>\n",
       "      <td>465692.76</td>\n",
       "    </tr>\n",
       "    <tr>\n",
       "      <th>6</th>\n",
       "      <td>AUD</td>\n",
       "      <td>Experience Cloud</td>\n",
       "      <td>2015-07</td>\n",
       "      <td>656493.50</td>\n",
       "      <td>509990.40</td>\n",
       "    </tr>\n",
       "    <tr>\n",
       "      <th>7</th>\n",
       "      <td>AUD</td>\n",
       "      <td>Experience Cloud</td>\n",
       "      <td>2015-08</td>\n",
       "      <td>370780.74</td>\n",
       "      <td>272070.02</td>\n",
       "    </tr>\n",
       "    <tr>\n",
       "      <th>8</th>\n",
       "      <td>AUD</td>\n",
       "      <td>Experience Cloud</td>\n",
       "      <td>2015-09</td>\n",
       "      <td>1251726.13</td>\n",
       "      <td>917876.03</td>\n",
       "    </tr>\n",
       "    <tr>\n",
       "      <th>9</th>\n",
       "      <td>AUD</td>\n",
       "      <td>Experience Cloud</td>\n",
       "      <td>2015-10</td>\n",
       "      <td>291324.07</td>\n",
       "      <td>208547.57</td>\n",
       "    </tr>\n",
       "    <tr>\n",
       "      <th>10</th>\n",
       "      <td>AUD</td>\n",
       "      <td>Experience Cloud</td>\n",
       "      <td>2015-11</td>\n",
       "      <td>770327.50</td>\n",
       "      <td>555186.86</td>\n",
       "    </tr>\n",
       "    <tr>\n",
       "      <th>11</th>\n",
       "      <td>AUD</td>\n",
       "      <td>Experience Cloud</td>\n",
       "      <td>2015-12</td>\n",
       "      <td>700684.00</td>\n",
       "      <td>499408.94</td>\n",
       "    </tr>\n",
       "    <tr>\n",
       "      <th>12</th>\n",
       "      <td>AUD</td>\n",
       "      <td>Experience Cloud</td>\n",
       "      <td>2016-01</td>\n",
       "      <td>528857.50</td>\n",
       "      <td>381205.10</td>\n",
       "    </tr>\n",
       "    <tr>\n",
       "      <th>13</th>\n",
       "      <td>AUD</td>\n",
       "      <td>Experience Cloud</td>\n",
       "      <td>2016-02</td>\n",
       "      <td>367175.25</td>\n",
       "      <td>254719.28</td>\n",
       "    </tr>\n",
       "    <tr>\n",
       "      <th>14</th>\n",
       "      <td>AUD</td>\n",
       "      <td>Experience Cloud</td>\n",
       "      <td>2016-03</td>\n",
       "      <td>974604.14</td>\n",
       "      <td>697281.64</td>\n",
       "    </tr>\n",
       "    <tr>\n",
       "      <th>15</th>\n",
       "      <td>AUD</td>\n",
       "      <td>Experience Cloud</td>\n",
       "      <td>2016-04</td>\n",
       "      <td>284306.25</td>\n",
       "      <td>215286.68</td>\n",
       "    </tr>\n",
       "    <tr>\n",
       "      <th>16</th>\n",
       "      <td>AUD</td>\n",
       "      <td>Experience Cloud</td>\n",
       "      <td>2016-05</td>\n",
       "      <td>127172.25</td>\n",
       "      <td>98554.88</td>\n",
       "    </tr>\n",
       "    <tr>\n",
       "      <th>17</th>\n",
       "      <td>AUD</td>\n",
       "      <td>Experience Cloud</td>\n",
       "      <td>2016-06</td>\n",
       "      <td>1364965.00</td>\n",
       "      <td>984510.08</td>\n",
       "    </tr>\n",
       "    <tr>\n",
       "      <th>18</th>\n",
       "      <td>AUD</td>\n",
       "      <td>Experience Cloud</td>\n",
       "      <td>2016-07</td>\n",
       "      <td>937308.26</td>\n",
       "      <td>702518.83</td>\n",
       "    </tr>\n",
       "    <tr>\n",
       "      <th>19</th>\n",
       "      <td>AUD</td>\n",
       "      <td>Experience Cloud</td>\n",
       "      <td>2016-08</td>\n",
       "      <td>632113.75</td>\n",
       "      <td>475127.60</td>\n",
       "    </tr>\n",
       "    <tr>\n",
       "      <th>20</th>\n",
       "      <td>AUD</td>\n",
       "      <td>Experience Cloud</td>\n",
       "      <td>2016-09</td>\n",
       "      <td>793855.90</td>\n",
       "      <td>603498.40</td>\n",
       "    </tr>\n",
       "    <tr>\n",
       "      <th>21</th>\n",
       "      <td>AUD</td>\n",
       "      <td>Experience Cloud</td>\n",
       "      <td>2016-10</td>\n",
       "      <td>392077.97</td>\n",
       "      <td>297718.82</td>\n",
       "    </tr>\n",
       "    <tr>\n",
       "      <th>22</th>\n",
       "      <td>AUD</td>\n",
       "      <td>Experience Cloud</td>\n",
       "      <td>2016-11</td>\n",
       "      <td>521839.06</td>\n",
       "      <td>399176.79</td>\n",
       "    </tr>\n",
       "    <tr>\n",
       "      <th>23</th>\n",
       "      <td>AUD</td>\n",
       "      <td>Experience Cloud</td>\n",
       "      <td>2016-12</td>\n",
       "      <td>1087703.30</td>\n",
       "      <td>805407.01</td>\n",
       "    </tr>\n",
       "    <tr>\n",
       "      <th>24</th>\n",
       "      <td>AUD</td>\n",
       "      <td>Experience Cloud</td>\n",
       "      <td>2017-01</td>\n",
       "      <td>434154.00</td>\n",
       "      <td>321983.46</td>\n",
       "    </tr>\n",
       "    <tr>\n",
       "      <th>25</th>\n",
       "      <td>AUD</td>\n",
       "      <td>Experience Cloud</td>\n",
       "      <td>2017-02</td>\n",
       "      <td>437898.04</td>\n",
       "      <td>328988.07</td>\n",
       "    </tr>\n",
       "    <tr>\n",
       "      <th>26</th>\n",
       "      <td>AUD</td>\n",
       "      <td>Experience Cloud</td>\n",
       "      <td>2017-03</td>\n",
       "      <td>1128552.21</td>\n",
       "      <td>867288.93</td>\n",
       "    </tr>\n",
       "    <tr>\n",
       "      <th>27</th>\n",
       "      <td>AUD</td>\n",
       "      <td>Experience Cloud</td>\n",
       "      <td>2017-04</td>\n",
       "      <td>1189796.99</td>\n",
       "      <td>912419.98</td>\n",
       "    </tr>\n",
       "    <tr>\n",
       "      <th>28</th>\n",
       "      <td>AUD</td>\n",
       "      <td>Experience Cloud</td>\n",
       "      <td>2017-05</td>\n",
       "      <td>779638.00</td>\n",
       "      <td>588195.03</td>\n",
       "    </tr>\n",
       "    <tr>\n",
       "      <th>29</th>\n",
       "      <td>AUD</td>\n",
       "      <td>Experience Cloud</td>\n",
       "      <td>2017-06</td>\n",
       "      <td>1004742.45</td>\n",
       "      <td>750349.70</td>\n",
       "    </tr>\n",
       "  </tbody>\n",
       "</table>\n",
       "</div>"
      ],
      "text/plain": [
       "   curr                BU   period   DC_amount  US_amount\n",
       "0   AUD  Experience Cloud  2015-01    25075.00   21084.51\n",
       "1   AUD  Experience Cloud  2015-02    -4750.00   -4220.74\n",
       "2   AUD  Experience Cloud  2015-03   424271.75  337822.37\n",
       "3   AUD  Experience Cloud  2015-04   297925.00  229116.23\n",
       "4   AUD  Experience Cloud  2015-05   316894.82  237310.85\n",
       "5   AUD  Experience Cloud  2015-06   589499.45  465692.76\n",
       "6   AUD  Experience Cloud  2015-07   656493.50  509990.40\n",
       "7   AUD  Experience Cloud  2015-08   370780.74  272070.02\n",
       "8   AUD  Experience Cloud  2015-09  1251726.13  917876.03\n",
       "9   AUD  Experience Cloud  2015-10   291324.07  208547.57\n",
       "10  AUD  Experience Cloud  2015-11   770327.50  555186.86\n",
       "11  AUD  Experience Cloud  2015-12   700684.00  499408.94\n",
       "12  AUD  Experience Cloud  2016-01   528857.50  381205.10\n",
       "13  AUD  Experience Cloud  2016-02   367175.25  254719.28\n",
       "14  AUD  Experience Cloud  2016-03   974604.14  697281.64\n",
       "15  AUD  Experience Cloud  2016-04   284306.25  215286.68\n",
       "16  AUD  Experience Cloud  2016-05   127172.25   98554.88\n",
       "17  AUD  Experience Cloud  2016-06  1364965.00  984510.08\n",
       "18  AUD  Experience Cloud  2016-07   937308.26  702518.83\n",
       "19  AUD  Experience Cloud  2016-08   632113.75  475127.60\n",
       "20  AUD  Experience Cloud  2016-09   793855.90  603498.40\n",
       "21  AUD  Experience Cloud  2016-10   392077.97  297718.82\n",
       "22  AUD  Experience Cloud  2016-11   521839.06  399176.79\n",
       "23  AUD  Experience Cloud  2016-12  1087703.30  805407.01\n",
       "24  AUD  Experience Cloud  2017-01   434154.00  321983.46\n",
       "25  AUD  Experience Cloud  2017-02   437898.04  328988.07\n",
       "26  AUD  Experience Cloud  2017-03  1128552.21  867288.93\n",
       "27  AUD  Experience Cloud  2017-04  1189796.99  912419.98\n",
       "28  AUD  Experience Cloud  2017-05   779638.00  588195.03\n",
       "29  AUD  Experience Cloud  2017-06  1004742.45  750349.70"
      ]
     },
     "execution_count": 22,
     "metadata": {},
     "output_type": "execute_result"
    }
   ],
   "source": [
    "gb_svc.drop(labels='Subscription Term', axis=1,inplace =True)\n",
    "gb_svc.head(30)"
   ]
  },
  {
   "cell_type": "markdown",
   "metadata": {},
   "source": [
    "# NOW WORKING ON DEFERRED BILLINGS\n",
    "\n",
    "## Type B billings are service agreements that will have invoices submitted before the billings are reclassified to revenue. If no invoices are assigned to the billings, the billings become revenue in 12 months"
   ]
  },
  {
   "cell_type": "code",
   "execution_count": 23,
   "metadata": {},
   "outputs": [],
   "source": [
    "# filter out the type B first then do a group_by\n",
    "dfr_b = dfr[dfr['rev_req_type']=='B'].copy()"
   ]
  },
  {
   "cell_type": "code",
   "execution_count": 24,
   "metadata": {},
   "outputs": [],
   "source": [
    "gb_b = dfr_b.groupby(['curr', 'BU', 'period'], as_index=False).sum()"
   ]
  },
  {
   "cell_type": "code",
   "execution_count": 25,
   "metadata": {},
   "outputs": [],
   "source": [
    "gb_b.drop(labels='Subscription Term', axis=1, inplace=True)"
   ]
  },
  {
   "cell_type": "code",
   "execution_count": 26,
   "metadata": {},
   "outputs": [
    {
     "name": "stdout",
     "output_type": "stream",
     "text": [
      "<class 'pandas.core.frame.DataFrame'>\n",
      "Int64Index: 709 entries, 0 to 708\n",
      "Data columns (total 5 columns):\n",
      " #   Column     Non-Null Count  Dtype  \n",
      "---  ------     --------------  -----  \n",
      " 0   curr       709 non-null    object \n",
      " 1   BU         709 non-null    object \n",
      " 2   period     709 non-null    object \n",
      " 3   DC_amount  709 non-null    float64\n",
      " 4   US_amount  709 non-null    float64\n",
      "dtypes: float64(2), object(3)\n",
      "memory usage: 33.2+ KB\n"
     ]
    }
   ],
   "source": [
    "gb_b.info()"
   ]
  },
  {
   "cell_type": "code",
   "execution_count": null,
   "metadata": {},
   "outputs": [],
   "source": []
  },
  {
   "cell_type": "code",
   "execution_count": 27,
   "metadata": {},
   "outputs": [
    {
     "name": "stdout",
     "output_type": "stream",
     "text": [
      "length of deferred billings :  37628\n",
      "length of the type B billings:  1434\n"
     ]
    }
   ],
   "source": [
    "print('length of deferred billings : ', len(dfr))\n",
    "print('length of the type B billings: ', len(dfr_b))"
   ]
  },
  {
   "cell_type": "code",
   "execution_count": null,
   "metadata": {},
   "outputs": [],
   "source": []
  },
  {
   "cell_type": "code",
   "execution_count": null,
   "metadata": {},
   "outputs": [],
   "source": []
  },
  {
   "cell_type": "markdown",
   "metadata": {},
   "source": [
    "## Now Type A Billings\n",
    "These billings are on a billing plan. The product config tells us how long before they renew\n",
    "\n",
    " - '2Y' = 24 months\n",
    " - '1Y' = 12 months\n",
    " - 'MTHLY' = 1 month\n",
    " \n",
    "NOTE: There are also other fields in the 'Product Configtype ID' field that do not map well to a rebill period.\n",
    "To fix this, we need to load up a different file and determine the length of the sales contract (type A no config)\n",
    " "
   ]
  },
  {
   "cell_type": "code",
   "execution_count": 28,
   "metadata": {},
   "outputs": [],
   "source": [
    "# filtering just the type A billings\n",
    "dfr_a = dfr[dfr['rev_req_type']=='A'].copy()"
   ]
  },
  {
   "cell_type": "code",
   "execution_count": 29,
   "metadata": {},
   "outputs": [],
   "source": [
    "gb_a = dfr_a.groupby(['curr', 'BU', 'period',\n",
    "                     'config'], as_index=False).sum()\n",
    "gb_a.drop(labels='Subscription Term', axis=1, inplace = True)"
   ]
  },
  {
   "cell_type": "code",
   "execution_count": 30,
   "metadata": {},
   "outputs": [
    {
     "data": {
      "text/html": [
       "<div>\n",
       "<style scoped>\n",
       "    .dataframe tbody tr th:only-of-type {\n",
       "        vertical-align: middle;\n",
       "    }\n",
       "\n",
       "    .dataframe tbody tr th {\n",
       "        vertical-align: top;\n",
       "    }\n",
       "\n",
       "    .dataframe thead th {\n",
       "        text-align: right;\n",
       "    }\n",
       "</style>\n",
       "<table border=\"1\" class=\"dataframe\">\n",
       "  <thead>\n",
       "    <tr style=\"text-align: right;\">\n",
       "      <th></th>\n",
       "      <th>curr</th>\n",
       "      <th>BU</th>\n",
       "      <th>period</th>\n",
       "      <th>config</th>\n",
       "      <th>DC_amount</th>\n",
       "      <th>US_amount</th>\n",
       "    </tr>\n",
       "  </thead>\n",
       "  <tbody>\n",
       "    <tr>\n",
       "      <th>0</th>\n",
       "      <td>AUD</td>\n",
       "      <td>Creative</td>\n",
       "      <td>2015-01</td>\n",
       "      <td>1Y</td>\n",
       "      <td>1091293.60</td>\n",
       "      <td>872984.35</td>\n",
       "    </tr>\n",
       "    <tr>\n",
       "      <th>1</th>\n",
       "      <td>AUD</td>\n",
       "      <td>Creative</td>\n",
       "      <td>2015-01</td>\n",
       "      <td>2Y</td>\n",
       "      <td>29664.80</td>\n",
       "      <td>24592.98</td>\n",
       "    </tr>\n",
       "    <tr>\n",
       "      <th>2</th>\n",
       "      <td>AUD</td>\n",
       "      <td>Creative</td>\n",
       "      <td>2015-01</td>\n",
       "      <td>MTHLY</td>\n",
       "      <td>-1868.55</td>\n",
       "      <td>-1562.55</td>\n",
       "    </tr>\n",
       "    <tr>\n",
       "      <th>3</th>\n",
       "      <td>AUD</td>\n",
       "      <td>Creative</td>\n",
       "      <td>2015-02</td>\n",
       "      <td>1Y</td>\n",
       "      <td>789086.99</td>\n",
       "      <td>576028.63</td>\n",
       "    </tr>\n",
       "    <tr>\n",
       "      <th>4</th>\n",
       "      <td>AUD</td>\n",
       "      <td>Creative</td>\n",
       "      <td>2015-02</td>\n",
       "      <td>2Y</td>\n",
       "      <td>595.00</td>\n",
       "      <td>484.88</td>\n",
       "    </tr>\n",
       "    <tr>\n",
       "      <th>5</th>\n",
       "      <td>AUD</td>\n",
       "      <td>Creative</td>\n",
       "      <td>2015-02</td>\n",
       "      <td>MTHLY</td>\n",
       "      <td>-2220.75</td>\n",
       "      <td>-1809.04</td>\n",
       "    </tr>\n",
       "    <tr>\n",
       "      <th>6</th>\n",
       "      <td>AUD</td>\n",
       "      <td>Creative</td>\n",
       "      <td>2015-03</td>\n",
       "      <td>1Y</td>\n",
       "      <td>1764509.20</td>\n",
       "      <td>1293318.86</td>\n",
       "    </tr>\n",
       "    <tr>\n",
       "      <th>7</th>\n",
       "      <td>AUD</td>\n",
       "      <td>Creative</td>\n",
       "      <td>2015-03</td>\n",
       "      <td>2Y</td>\n",
       "      <td>14118.00</td>\n",
       "      <td>11045.07</td>\n",
       "    </tr>\n",
       "    <tr>\n",
       "      <th>8</th>\n",
       "      <td>AUD</td>\n",
       "      <td>Creative</td>\n",
       "      <td>2015-03</td>\n",
       "      <td>MTHLY</td>\n",
       "      <td>-2446.92</td>\n",
       "      <td>-1919.10</td>\n",
       "    </tr>\n",
       "    <tr>\n",
       "      <th>9</th>\n",
       "      <td>AUD</td>\n",
       "      <td>Creative</td>\n",
       "      <td>2015-04</td>\n",
       "      <td>1Y</td>\n",
       "      <td>1481271.41</td>\n",
       "      <td>1063257.93</td>\n",
       "    </tr>\n",
       "    <tr>\n",
       "      <th>10</th>\n",
       "      <td>AUD</td>\n",
       "      <td>Creative</td>\n",
       "      <td>2015-04</td>\n",
       "      <td>2Y</td>\n",
       "      <td>711.00</td>\n",
       "      <td>556.38</td>\n",
       "    </tr>\n",
       "    <tr>\n",
       "      <th>11</th>\n",
       "      <td>AUD</td>\n",
       "      <td>Creative</td>\n",
       "      <td>2015-04</td>\n",
       "      <td>MTHLY</td>\n",
       "      <td>-1583.46</td>\n",
       "      <td>-1225.56</td>\n",
       "    </tr>\n",
       "    <tr>\n",
       "      <th>12</th>\n",
       "      <td>AUD</td>\n",
       "      <td>Creative</td>\n",
       "      <td>2015-05</td>\n",
       "      <td>1Y</td>\n",
       "      <td>4527364.44</td>\n",
       "      <td>3448517.38</td>\n",
       "    </tr>\n",
       "    <tr>\n",
       "      <th>13</th>\n",
       "      <td>AUD</td>\n",
       "      <td>Creative</td>\n",
       "      <td>2015-05</td>\n",
       "      <td>2Y</td>\n",
       "      <td>540.00</td>\n",
       "      <td>414.58</td>\n",
       "    </tr>\n",
       "    <tr>\n",
       "      <th>14</th>\n",
       "      <td>AUD</td>\n",
       "      <td>Creative</td>\n",
       "      <td>2015-05</td>\n",
       "      <td>MTHLY</td>\n",
       "      <td>-2995.51</td>\n",
       "      <td>-2315.40</td>\n",
       "    </tr>\n",
       "    <tr>\n",
       "      <th>15</th>\n",
       "      <td>AUD</td>\n",
       "      <td>Creative</td>\n",
       "      <td>2015-06</td>\n",
       "      <td>1Y</td>\n",
       "      <td>2693114.19</td>\n",
       "      <td>2056303.18</td>\n",
       "    </tr>\n",
       "    <tr>\n",
       "      <th>16</th>\n",
       "      <td>AUD</td>\n",
       "      <td>Creative</td>\n",
       "      <td>2015-06</td>\n",
       "      <td>2Y</td>\n",
       "      <td>26443.20</td>\n",
       "      <td>20895.29</td>\n",
       "    </tr>\n",
       "    <tr>\n",
       "      <th>17</th>\n",
       "      <td>AUD</td>\n",
       "      <td>Creative</td>\n",
       "      <td>2015-06</td>\n",
       "      <td>MTHLY</td>\n",
       "      <td>-2758.57</td>\n",
       "      <td>-2186.18</td>\n",
       "    </tr>\n",
       "    <tr>\n",
       "      <th>18</th>\n",
       "      <td>AUD</td>\n",
       "      <td>Creative</td>\n",
       "      <td>2015-07</td>\n",
       "      <td>1Y</td>\n",
       "      <td>2728882.18</td>\n",
       "      <td>2063482.34</td>\n",
       "    </tr>\n",
       "    <tr>\n",
       "      <th>19</th>\n",
       "      <td>AUD</td>\n",
       "      <td>Creative</td>\n",
       "      <td>2015-07</td>\n",
       "      <td>2Y</td>\n",
       "      <td>10399.50</td>\n",
       "      <td>8031.68</td>\n",
       "    </tr>\n",
       "  </tbody>\n",
       "</table>\n",
       "</div>"
      ],
      "text/plain": [
       "   curr        BU   period config   DC_amount   US_amount\n",
       "0   AUD  Creative  2015-01     1Y  1091293.60   872984.35\n",
       "1   AUD  Creative  2015-01     2Y    29664.80    24592.98\n",
       "2   AUD  Creative  2015-01  MTHLY    -1868.55    -1562.55\n",
       "3   AUD  Creative  2015-02     1Y   789086.99   576028.63\n",
       "4   AUD  Creative  2015-02     2Y      595.00      484.88\n",
       "5   AUD  Creative  2015-02  MTHLY    -2220.75    -1809.04\n",
       "6   AUD  Creative  2015-03     1Y  1764509.20  1293318.86\n",
       "7   AUD  Creative  2015-03     2Y    14118.00    11045.07\n",
       "8   AUD  Creative  2015-03  MTHLY    -2446.92    -1919.10\n",
       "9   AUD  Creative  2015-04     1Y  1481271.41  1063257.93\n",
       "10  AUD  Creative  2015-04     2Y      711.00      556.38\n",
       "11  AUD  Creative  2015-04  MTHLY    -1583.46    -1225.56\n",
       "12  AUD  Creative  2015-05     1Y  4527364.44  3448517.38\n",
       "13  AUD  Creative  2015-05     2Y      540.00      414.58\n",
       "14  AUD  Creative  2015-05  MTHLY    -2995.51    -2315.40\n",
       "15  AUD  Creative  2015-06     1Y  2693114.19  2056303.18\n",
       "16  AUD  Creative  2015-06     2Y    26443.20    20895.29\n",
       "17  AUD  Creative  2015-06  MTHLY    -2758.57    -2186.18\n",
       "18  AUD  Creative  2015-07     1Y  2728882.18  2063482.34\n",
       "19  AUD  Creative  2015-07     2Y    10399.50     8031.68"
      ]
     },
     "execution_count": 30,
     "metadata": {},
     "output_type": "execute_result"
    }
   ],
   "source": [
    "gb_a.head(20)"
   ]
  },
  {
   "cell_type": "code",
   "execution_count": 31,
   "metadata": {},
   "outputs": [
    {
     "data": {
      "text/plain": [
       "1Y       2418\n",
       "MTHLY     950\n",
       "2Y        875\n",
       "OUNIV     231\n",
       "OCONS     106\n",
       "3Y        101\n",
       "ONORE      32\n",
       "1V          1\n",
       "OENSV       1\n",
       "Name: config, dtype: int64"
      ]
     },
     "execution_count": 31,
     "metadata": {},
     "output_type": "execute_result"
    }
   ],
   "source": [
    "gb_a['config'].value_counts()"
   ]
  },
  {
   "cell_type": "markdown",
   "metadata": {},
   "source": [
    "### Below is just a check to see how large the billing types are across all periods"
   ]
  },
  {
   "cell_type": "code",
   "execution_count": 32,
   "metadata": {},
   "outputs": [
    {
     "data": {
      "text/html": [
       "<div>\n",
       "<style scoped>\n",
       "    .dataframe tbody tr th:only-of-type {\n",
       "        vertical-align: middle;\n",
       "    }\n",
       "\n",
       "    .dataframe tbody tr th {\n",
       "        vertical-align: top;\n",
       "    }\n",
       "\n",
       "    .dataframe thead th {\n",
       "        text-align: right;\n",
       "    }\n",
       "</style>\n",
       "<table border=\"1\" class=\"dataframe\">\n",
       "  <thead>\n",
       "    <tr style=\"text-align: right;\">\n",
       "      <th></th>\n",
       "      <th>config</th>\n",
       "      <th>DC_amount</th>\n",
       "      <th>US_amount</th>\n",
       "    </tr>\n",
       "  </thead>\n",
       "  <tbody>\n",
       "    <tr>\n",
       "      <th>0</th>\n",
       "      <td>1V</td>\n",
       "      <td>6.503000e+03</td>\n",
       "      <td>6.503000e+03</td>\n",
       "    </tr>\n",
       "    <tr>\n",
       "      <th>1</th>\n",
       "      <td>1Y</td>\n",
       "      <td>1.198135e+11</td>\n",
       "      <td>9.655797e+09</td>\n",
       "    </tr>\n",
       "    <tr>\n",
       "      <th>2</th>\n",
       "      <td>2Y</td>\n",
       "      <td>2.470307e+08</td>\n",
       "      <td>6.719101e+07</td>\n",
       "    </tr>\n",
       "    <tr>\n",
       "      <th>3</th>\n",
       "      <td>3Y</td>\n",
       "      <td>9.380464e+08</td>\n",
       "      <td>4.051346e+06</td>\n",
       "    </tr>\n",
       "    <tr>\n",
       "      <th>4</th>\n",
       "      <td>MTHLY</td>\n",
       "      <td>1.381940e+08</td>\n",
       "      <td>3.985406e+07</td>\n",
       "    </tr>\n",
       "    <tr>\n",
       "      <th>5</th>\n",
       "      <td>OCONS</td>\n",
       "      <td>3.903233e+07</td>\n",
       "      <td>1.028252e+07</td>\n",
       "    </tr>\n",
       "    <tr>\n",
       "      <th>6</th>\n",
       "      <td>OENSV</td>\n",
       "      <td>-1.200000e+02</td>\n",
       "      <td>-1.200000e+02</td>\n",
       "    </tr>\n",
       "    <tr>\n",
       "      <th>7</th>\n",
       "      <td>ONORE</td>\n",
       "      <td>2.350904e+06</td>\n",
       "      <td>2.015485e+06</td>\n",
       "    </tr>\n",
       "    <tr>\n",
       "      <th>8</th>\n",
       "      <td>OUNIV</td>\n",
       "      <td>4.283761e+06</td>\n",
       "      <td>3.473767e+06</td>\n",
       "    </tr>\n",
       "  </tbody>\n",
       "</table>\n",
       "</div>"
      ],
      "text/plain": [
       "  config     DC_amount     US_amount\n",
       "0     1V  6.503000e+03  6.503000e+03\n",
       "1     1Y  1.198135e+11  9.655797e+09\n",
       "2     2Y  2.470307e+08  6.719101e+07\n",
       "3     3Y  9.380464e+08  4.051346e+06\n",
       "4  MTHLY  1.381940e+08  3.985406e+07\n",
       "5  OCONS  3.903233e+07  1.028252e+07\n",
       "6  OENSV -1.200000e+02 -1.200000e+02\n",
       "7  ONORE  2.350904e+06  2.015485e+06\n",
       "8  OUNIV  4.283761e+06  3.473767e+06"
      ]
     },
     "execution_count": 32,
     "metadata": {},
     "output_type": "execute_result"
    }
   ],
   "source": [
    "gb_a_config = gb_a.groupby(['config'], as_index=False).sum()\n",
    "gb_a_config"
   ]
  },
  {
   "cell_type": "markdown",
   "metadata": {},
   "source": [
    "### These 'OCONS', 'ONORE' and 'OUNIV' data types are not actual product config IDs so we have to get them from a different data file. We are excluding these types below."
   ]
  },
  {
   "cell_type": "code",
   "execution_count": 33,
   "metadata": {},
   "outputs": [],
   "source": [
    "config_list = ['1Y', '2Y', '3Y', 'MTHLY']\n",
    "test1 = gb_a[gb_a['config'].isin(config_list)]\n"
   ]
  },
  {
   "cell_type": "code",
   "execution_count": 34,
   "metadata": {},
   "outputs": [
    {
     "name": "stdout",
     "output_type": "stream",
     "text": [
      "<class 'pandas.core.frame.DataFrame'>\n",
      "Int64Index: 4344 entries, 0 to 4714\n",
      "Data columns (total 6 columns):\n",
      " #   Column     Non-Null Count  Dtype  \n",
      "---  ------     --------------  -----  \n",
      " 0   curr       4344 non-null   object \n",
      " 1   BU         4344 non-null   object \n",
      " 2   period     4344 non-null   object \n",
      " 3   config     4344 non-null   object \n",
      " 4   DC_amount  4344 non-null   float64\n",
      " 5   US_amount  4344 non-null   float64\n",
      "dtypes: float64(2), object(4)\n",
      "memory usage: 237.6+ KB\n"
     ]
    }
   ],
   "source": [
    "test1.info()"
   ]
  },
  {
   "cell_type": "code",
   "execution_count": null,
   "metadata": {},
   "outputs": [],
   "source": []
  },
  {
   "cell_type": "markdown",
   "metadata": {},
   "source": [
    "## For now, lets just split this into gb_a_1Y, gb_a_2Y, gb_a_3y, gb_a_1M\n"
   ]
  },
  {
   "cell_type": "code",
   "execution_count": 35,
   "metadata": {},
   "outputs": [],
   "source": [
    "gb_a_1Y = test1[test1['config']=='1Y'].copy()\n",
    "gb_a_2Y = test1[test1['config']=='2Y'].copy()\n",
    "gb_a_3Y = test1[test1['config']=='3Y'].copy()\n",
    "gb_a_1M = test1[test1['config']=='MTHLY'].copy()"
   ]
  },
  {
   "cell_type": "code",
   "execution_count": 36,
   "metadata": {},
   "outputs": [
    {
     "name": "stdout",
     "output_type": "stream",
     "text": [
      "this is the lenght of type A 1M billings:  950\n",
      "this is the lenght of type A 1Y billings:  2418\n",
      "this is the lenght of type A 2Y billings:  875\n",
      "this is the lenght of type A 3Y billings:  101\n"
     ]
    }
   ],
   "source": [
    "print('this is the lenght of type A 1M billings: ', len(gb_a_1M))\n",
    "print('this is the lenght of type A 1Y billings: ', len(gb_a_1Y))\n",
    "print('this is the lenght of type A 2Y billings: ', len(gb_a_2Y))\n",
    "print('this is the lenght of type A 3Y billings: ', len(gb_a_3Y))"
   ]
  },
  {
   "cell_type": "code",
   "execution_count": 37,
   "metadata": {},
   "outputs": [
    {
     "name": "stdout",
     "output_type": "stream",
     "text": [
      "<class 'pandas.core.frame.DataFrame'>\n",
      "Int64Index: 875 entries, 1 to 4714\n",
      "Data columns (total 6 columns):\n",
      " #   Column     Non-Null Count  Dtype  \n",
      "---  ------     --------------  -----  \n",
      " 0   curr       875 non-null    object \n",
      " 1   BU         875 non-null    object \n",
      " 2   period     875 non-null    object \n",
      " 3   config     875 non-null    object \n",
      " 4   DC_amount  875 non-null    float64\n",
      " 5   US_amount  875 non-null    float64\n",
      "dtypes: float64(2), object(4)\n",
      "memory usage: 47.9+ KB\n"
     ]
    }
   ],
   "source": [
    "gb_a_2Y.info()"
   ]
  },
  {
   "cell_type": "markdown",
   "metadata": {},
   "source": [
    "# TYPE D billings\n",
    "These billings have a field 'Rule For Bill Date' that determines when new billings will occur\n",
    " - Monthly [Y1, Y2, Y3, Y5]\n",
    " - Quarterly [YQ]\n",
    " - Every 4 months [YT]\n",
    " - Semi-annual [YH]\n",
    " - Annual [YA, YC]\n",
    " - Every 2 years - [Y4]\n",
    " \n",
    " We also need to track the type D billings that do not have a 'Rule for Bill Date'"
   ]
  },
  {
   "cell_type": "code",
   "execution_count": 38,
   "metadata": {},
   "outputs": [],
   "source": [
    "# for now just do a groupby on the type\n",
    "# filtering just the type A billings\n",
    "dfr_d = dfr[dfr['rev_req_type']=='D'].copy()"
   ]
  },
  {
   "cell_type": "code",
   "execution_count": 39,
   "metadata": {},
   "outputs": [],
   "source": [
    "gb_d = dfr_d.groupby(['curr', 'BU', 'period',\n",
    "                     'rebill_rule'], as_index=False).sum()\n",
    "gb_d.drop(labels='Subscription Term', axis=1, inplace = True)"
   ]
  },
  {
   "cell_type": "code",
   "execution_count": 40,
   "metadata": {},
   "outputs": [
    {
     "data": {
      "text/plain": [
       "YA    2952\n",
       "Y3    2375\n",
       "YQ     991\n",
       "YH     547\n",
       "Y1     491\n",
       "YC     490\n",
       "Y2     153\n",
       "Y4      57\n",
       "Y7      31\n",
       "YM      23\n",
       "YX      12\n",
       "YY      10\n",
       "YT      10\n",
       "Name: rebill_rule, dtype: int64"
      ]
     },
     "execution_count": 40,
     "metadata": {},
     "output_type": "execute_result"
    }
   ],
   "source": [
    "gb_d['rebill_rule'].value_counts()"
   ]
  },
  {
   "cell_type": "code",
   "execution_count": 41,
   "metadata": {},
   "outputs": [],
   "source": [
    "gb_d_mthly = gb_d[gb_d['rebill_rule'].isin(['Y1', 'Y2', 'Y3', 'YM'])].copy()\n",
    "gb_d_mthly.drop(labels='rebill_rule', axis=1,inplace=True)\n",
    "gb_d_mthly = gb_d_mthly.groupby(['curr', 'BU', 'period']).sum()\n",
    "gb_d_mthly.reset_index(inplace=True)\n",
    "\n",
    "gb_d_qtrly = gb_d[gb_d['rebill_rule'].isin(['YQ', 'YY'])].copy()\n",
    "gb_d_qtrly.drop(labels='rebill_rule', axis=1,inplace=True)\n",
    "gb_d_qtrly = gb_d_qtrly.groupby(['curr', 'BU', 'period']).sum()\n",
    "gb_d_qtrly.reset_index(inplace=True)\n",
    "\n",
    "\n",
    "gb_d_four_mths = gb_d[gb_d['rebill_rule']=='YT']\n",
    "gb_d_semi_ann = gb_d[gb_d['rebill_rule']=='YH']\n",
    "\n",
    "gb_d_annual = gb_d[gb_d['rebill_rule'].isin(['YA', 'YC', 'YX'])].copy()\n",
    "gb_d_annual.drop(labels='rebill_rule', axis=1,inplace=True)\n",
    "gb_d_annual = gb_d_annual.groupby(['curr', 'BU', 'period']).sum()\n",
    "gb_d_annual.reset_index(inplace=True)\n",
    "\n",
    "\n",
    "gb_d_two_yrs = gb_d[gb_d['rebill_rule']=='Y4']\n",
    "gb_d_three_yrs = gb_d[gb_d['rebill_rule']=='Y7']"
   ]
  },
  {
   "cell_type": "code",
   "execution_count": 45,
   "metadata": {},
   "outputs": [
    {
     "data": {
      "text/html": [
       "<div>\n",
       "<style scoped>\n",
       "    .dataframe tbody tr th:only-of-type {\n",
       "        vertical-align: middle;\n",
       "    }\n",
       "\n",
       "    .dataframe tbody tr th {\n",
       "        vertical-align: top;\n",
       "    }\n",
       "\n",
       "    .dataframe thead th {\n",
       "        text-align: right;\n",
       "    }\n",
       "</style>\n",
       "<table border=\"1\" class=\"dataframe\">\n",
       "  <thead>\n",
       "    <tr style=\"text-align: right;\">\n",
       "      <th></th>\n",
       "      <th>curr</th>\n",
       "      <th>BU</th>\n",
       "      <th>period</th>\n",
       "      <th>DC_amount</th>\n",
       "      <th>US_amount</th>\n",
       "    </tr>\n",
       "  </thead>\n",
       "  <tbody>\n",
       "    <tr>\n",
       "      <th>2942</th>\n",
       "      <td>USD</td>\n",
       "      <td>Print &amp; Publishing</td>\n",
       "      <td>2019-07</td>\n",
       "      <td>4825618.35</td>\n",
       "      <td>4825618.35</td>\n",
       "    </tr>\n",
       "    <tr>\n",
       "      <th>2943</th>\n",
       "      <td>USD</td>\n",
       "      <td>Print &amp; Publishing</td>\n",
       "      <td>2019-08</td>\n",
       "      <td>1686567.90</td>\n",
       "      <td>1686567.90</td>\n",
       "    </tr>\n",
       "    <tr>\n",
       "      <th>2944</th>\n",
       "      <td>USD</td>\n",
       "      <td>Print &amp; Publishing</td>\n",
       "      <td>2019-09</td>\n",
       "      <td>4762479.88</td>\n",
       "      <td>4762479.88</td>\n",
       "    </tr>\n",
       "    <tr>\n",
       "      <th>2945</th>\n",
       "      <td>USD</td>\n",
       "      <td>Print &amp; Publishing</td>\n",
       "      <td>2019-10</td>\n",
       "      <td>4001644.47</td>\n",
       "      <td>4010789.47</td>\n",
       "    </tr>\n",
       "    <tr>\n",
       "      <th>2946</th>\n",
       "      <td>USD</td>\n",
       "      <td>Print &amp; Publishing</td>\n",
       "      <td>2019-11</td>\n",
       "      <td>5254275.03</td>\n",
       "      <td>5254275.03</td>\n",
       "    </tr>\n",
       "    <tr>\n",
       "      <th>2947</th>\n",
       "      <td>USD</td>\n",
       "      <td>Print &amp; Publishing</td>\n",
       "      <td>2019-12</td>\n",
       "      <td>7109263.16</td>\n",
       "      <td>7109263.16</td>\n",
       "    </tr>\n",
       "    <tr>\n",
       "      <th>2948</th>\n",
       "      <td>USD</td>\n",
       "      <td>Print &amp; Publishing</td>\n",
       "      <td>2020-01</td>\n",
       "      <td>2038078.16</td>\n",
       "      <td>2038078.16</td>\n",
       "    </tr>\n",
       "    <tr>\n",
       "      <th>2949</th>\n",
       "      <td>USD</td>\n",
       "      <td>Print &amp; Publishing</td>\n",
       "      <td>2020-02</td>\n",
       "      <td>2489383.24</td>\n",
       "      <td>2489383.24</td>\n",
       "    </tr>\n",
       "    <tr>\n",
       "      <th>2950</th>\n",
       "      <td>USD</td>\n",
       "      <td>Print &amp; Publishing</td>\n",
       "      <td>2020-03</td>\n",
       "      <td>5282552.91</td>\n",
       "      <td>5282552.91</td>\n",
       "    </tr>\n",
       "    <tr>\n",
       "      <th>2951</th>\n",
       "      <td>USD</td>\n",
       "      <td>Print &amp; Publishing</td>\n",
       "      <td>2020-04</td>\n",
       "      <td>717861.76</td>\n",
       "      <td>717861.76</td>\n",
       "    </tr>\n",
       "  </tbody>\n",
       "</table>\n",
       "</div>"
      ],
      "text/plain": [
       "     curr                  BU   period   DC_amount   US_amount\n",
       "2942  USD  Print & Publishing  2019-07  4825618.35  4825618.35\n",
       "2943  USD  Print & Publishing  2019-08  1686567.90  1686567.90\n",
       "2944  USD  Print & Publishing  2019-09  4762479.88  4762479.88\n",
       "2945  USD  Print & Publishing  2019-10  4001644.47  4010789.47\n",
       "2946  USD  Print & Publishing  2019-11  5254275.03  5254275.03\n",
       "2947  USD  Print & Publishing  2019-12  7109263.16  7109263.16\n",
       "2948  USD  Print & Publishing  2020-01  2038078.16  2038078.16\n",
       "2949  USD  Print & Publishing  2020-02  2489383.24  2489383.24\n",
       "2950  USD  Print & Publishing  2020-03  5282552.91  5282552.91\n",
       "2951  USD  Print & Publishing  2020-04   717861.76   717861.76"
      ]
     },
     "execution_count": 45,
     "metadata": {},
     "output_type": "execute_result"
    }
   ],
   "source": [
    "gb_d_annual.tail(10)"
   ]
  },
  {
   "cell_type": "code",
   "execution_count": 46,
   "metadata": {},
   "outputs": [
    {
     "name": "stdout",
     "output_type": "stream",
     "text": [
      "Length of monthly 2597\n",
      "Length of quarterly 991\n",
      "Length of four months 10\n",
      "Length of semi ann 547\n",
      "Length of annual 2952\n",
      "Length of two years 57\n",
      "Length of three years 31\n"
     ]
    }
   ],
   "source": [
    "print('Length of monthly', len(gb_d_mthly))\n",
    "print('Length of quarterly', len(gb_d_qtrly))\n",
    "print('Length of four months', len(gb_d_four_mths))\n",
    "print('Length of semi ann', len(gb_d_semi_ann))\n",
    "print('Length of annual', len(gb_d_annual))\n",
    "print('Length of two years', len(gb_d_two_yrs))\n",
    "print('Length of three years', len(gb_d_three_yrs))"
   ]
  },
  {
   "cell_type": "code",
   "execution_count": null,
   "metadata": {},
   "outputs": [],
   "source": [
    "whos"
   ]
  },
  {
   "cell_type": "code",
   "execution_count": null,
   "metadata": {},
   "outputs": [],
   "source": []
  },
  {
   "cell_type": "markdown",
   "metadata": {},
   "source": [
    "## NOW WE NEED TO BUILD A DATAFRAME THAT INTEGRATES THIS DATA\n",
    "\n",
    "- We will have the following descriptive fields\n",
    "   - Invoicing Fiscal Year-Period\n",
    "   - Document Currency\n",
    "   - Enterprise BU\n",
    "\n",
    "- We will have the following fields based on rebilling rule\n",
    "   - Recognized\n",
    "   - Service\n",
    "   - Monthly\n",
    "   - Quarterly\n",
    "   - Annual\n",
    "   - Two Years\n",
    "   - Three Years"
   ]
  },
  {
   "cell_type": "code",
   "execution_count": null,
   "metadata": {},
   "outputs": [],
   "source": [
    "print(gb_rec2['US_amount'].sum())\n",
    "print(gb_svc2['US_amount'].sum())\n",
    "print(gb_svc2['US_amount'].sum()+ gb_rec2['US_amount'].sum())\n",
    "\n",
    "print(joined_df['US_amount_rec'].sum() + joined_df['US_amount_svc'].sum())\n"
   ]
  },
  {
   "cell_type": "code",
   "execution_count": 53,
   "metadata": {},
   "outputs": [],
   "source": [
    "# We need to do it this way when we get to a .py file!\n",
    "list_df = [gb_rec, gb_svc, gb_b,\n",
    "        gb_a_1M,    gb_a_1Y,    gb_a_2Y,       gb_a_3Y, \n",
    "        gb_d_mthly, gb_d_qtrly, gb_d_semi_ann, gb_d_annual, gb_d_two_yrs, gb_d_three_yrs]\n",
    "\n",
    "list_columns = ['recognized', 'service', 'deferred_B', \n",
    "    'deferred_1M_a', 'deferred_1Y_a', 'deferred_2Y_a', 'deferred_3Y_a',\n",
    "    'deferred_1M_d', 'deferred_3M_d', 'deferred_6M_d', 'deferred_1Y_d', 'deferred_2Y_d', 'deferred_3Y_d']\n"
   ]
  },
  {
   "cell_type": "code",
   "execution_count": 61,
   "metadata": {},
   "outputs": [],
   "source": [
    "def sum_USD_amt(list_df, list_columns):\n",
    "    total_US = []\n",
    "    for df in list_df:\n",
    "        total_US.append(df['US_amount'].sum())\n",
    "    total_df = pd.DataFrame(index = list_columns, columns = ['US_amounts'], data=total_US)\n",
    "    return total_df"
   ]
  },
  {
   "cell_type": "code",
   "execution_count": 63,
   "metadata": {},
   "outputs": [],
   "source": [
    "def merge_all_dataframes(list_df, list_columns):\n",
    "    for i, df in enumerate(list_df):\n",
    "        print('This is i:', i)\n",
    "        #print(\"This is the df: \", df.head())\n",
    "        print('referencing the column: ', list_columns[i])\n",
    "\n",
    "        if i==0:\n",
    "            df_merged = list_df[0].copy()\n",
    "            df_merged.rename(index=str, columns={'DC_amount': list_columns[i]+'_DC', \n",
    "                                                 'US_amount': list_columns[i]+'_US'}, inplace=True)\n",
    "        else:\n",
    "            df_merged = merge_new_dataframe(df_merged, df, list_columns[i])\n",
    "\n",
    "    return df_merged\n",
    "    "
   ]
  },
  {
   "cell_type": "code",
   "execution_count": 64,
   "metadata": {},
   "outputs": [],
   "source": [
    "def merge_new_dataframe(old_df, new_df, new_column):\n",
    "    df_merged = pd.merge(old_df, new_df, how='outer', \n",
    "                     left_on=['curr', 'BU', 'period'],\n",
    "                    right_on=['curr', 'BU', 'period'])\n",
    "    df_merged.rename(index=str, columns={'DC_amount': new_column+'_DC', 'US_amount': new_column+'_US'}, inplace=True)\n",
    "    \n",
    "    #need to drop the product configtype id for merges where the new_df is of type A\n",
    "    config_str = 'config'\n",
    "    rule_str = 'rebill_rule'\n",
    "    if config_str in df_merged.columns:\n",
    "        df_merged.drop(columns=['config'], inplace=True)\n",
    "    \n",
    "    if rule_str in df_merged.columns:\n",
    "        df_merged.drop(columns=['rebill_rule'], inplace=True)\n",
    "        \n",
    "    return df_merged"
   ]
  },
  {
   "cell_type": "code",
   "execution_count": 65,
   "metadata": {},
   "outputs": [
    {
     "name": "stdout",
     "output_type": "stream",
     "text": [
      "This is i: 0\n",
      "referencing the column:  recognized\n",
      "This is i: 1\n",
      "referencing the column:  service\n",
      "This is i: 2\n",
      "referencing the column:  deferred_B\n",
      "This is i: 3\n",
      "referencing the column:  deferred_1M_a\n",
      "This is i: 4\n",
      "referencing the column:  deferred_1Y_a\n",
      "This is i: 5\n",
      "referencing the column:  deferred_2Y_a\n",
      "This is i: 6\n",
      "referencing the column:  deferred_3Y_a\n",
      "This is i: 7\n",
      "referencing the column:  deferred_1M_d\n",
      "This is i: 8\n",
      "referencing the column:  deferred_3M_d\n",
      "This is i: 9\n",
      "referencing the column:  deferred_6M_d\n",
      "This is i: 10\n",
      "referencing the column:  deferred_1Y_d\n",
      "This is i: 11\n",
      "referencing the column:  deferred_2Y_d\n",
      "This is i: 12\n",
      "referencing the column:  deferred_3Y_d\n"
     ]
    }
   ],
   "source": [
    "df = merge_all_dataframes(list_df, list_columns)"
   ]
  },
  {
   "cell_type": "code",
   "execution_count": 66,
   "metadata": {},
   "outputs": [],
   "source": [
    "def clean_df_columns(df):\n",
    "    \n",
    "    # clean up NaNs before adding \n",
    "    df = df.fillna(value=0)\n",
    "    \n",
    "    # DC columns first\n",
    "    # Monthly\n",
    "    df['deferred_1M_DC'] = df['deferred_1M_a_DC']+df['deferred_1M_d_DC']\n",
    "    df.drop(labels=['deferred_1M_a_DC', 'deferred_1M_d_DC'], axis=1, inplace=True)\n",
    "    \n",
    "    # Annual\n",
    "    df['deferred_1Y_DC'] = df['deferred_1Y_a_DC']+df['deferred_1Y_d_DC']\n",
    "    df.drop(labels=['deferred_1Y_a_DC', 'deferred_1Y_d_DC'], axis=1, inplace=True)\n",
    "    \n",
    "    # Two-Year\n",
    "    df['deferred_2Y_DC'] = df['deferred_2Y_a_DC']+df['deferred_2Y_d_DC']\n",
    "    df.drop(labels=['deferred_2Y_a_DC', 'deferred_2Y_d_DC'], axis=1, inplace=True)\n",
    "    \n",
    "    #Three-Year\n",
    "    df['deferred_3Y_DC'] = df['deferred_3Y_a_DC']+df['deferred_3Y_d_DC']\n",
    "    df.drop(labels=['deferred_3Y_a_DC', 'deferred_3Y_d_DC'], axis=1, inplace=True)\n",
    "    \n",
    "    # renaming 3M and 6M\n",
    "    df.rename(index=str, columns = {'deferred_3M_d_DC':'deferred_3M_DC', \n",
    "                               'deferred_6M_d_DC': 'deferred_6M_DC'}, inplace=True)\n",
    "\n",
    "    # US columns\n",
    "    # Monthly\n",
    "    df['deferred_1M_US'] = df['deferred_1M_a_US']+df['deferred_1M_d_US']\n",
    "    df.drop(labels=['deferred_1M_a_US', 'deferred_1M_d_US'], axis=1, inplace=True)\n",
    "    \n",
    "    # Annual\n",
    "    df['deferred_1Y_US'] = df['deferred_1Y_a_US']+df['deferred_1Y_d_US']\n",
    "    df.drop(labels=['deferred_1Y_a_US', 'deferred_1Y_d_US'], axis=1, inplace=True)\n",
    "    \n",
    "    # Two-Year\n",
    "    df['deferred_2Y_US'] = df['deferred_2Y_a_US']+df['deferred_2Y_d_US']\n",
    "    df.drop(labels=['deferred_2Y_a_US', 'deferred_2Y_d_US'], axis=1, inplace=True)\n",
    "    \n",
    "    # Three-Year\n",
    "    df['deferred_3Y_US'] = df['deferred_3Y_a_US']+df['deferred_3Y_d_US']\n",
    "    df.drop(labels=['deferred_3Y_a_US', 'deferred_3Y_d_US'], axis=1, inplace=True)\n",
    "    \n",
    "    # renaming 3M and 6M\n",
    "    df.rename(index=str, columns = {'deferred_3M_d_US':'deferred_3M_US', \n",
    "                               'deferred_6M_d_US': 'deferred_6M_US'}, inplace=True)\n",
    "\n",
    "    \n",
    "    #cleaning up the longer column names\n",
    "    df.rename(index=str, columns = {'curr': 'curr',\n",
    "                               'BU':'BU',\n",
    "                               'period':'period'}, inplace=True)\n",
    "    \n",
    "    return df"
   ]
  },
  {
   "cell_type": "code",
   "execution_count": 67,
   "metadata": {},
   "outputs": [],
   "source": [
    "df = clean_df_columns(df)"
   ]
  },
  {
   "cell_type": "code",
   "execution_count": 69,
   "metadata": {},
   "outputs": [
    {
     "data": {
      "text/plain": [
       "curr              ARSARSARSARSARSARSARSARSARSARSAUDAUDAUDAUDAUDA...\n",
       "BU                CreativeCreativeCreativeCreativeCreativeCreati...\n",
       "period            2019-072019-082019-092019-102019-112019-122020...\n",
       "recognized_DC                                           3.72773e+10\n",
       "recognized_US                                           4.68828e+09\n",
       "service_DC                                              3.96039e+09\n",
       "service_US                                              9.38328e+08\n",
       "deferred_B_DC                                           9.59237e+09\n",
       "deferred_B_US                                           5.73855e+08\n",
       "deferred_3M_DC                                          2.83187e+09\n",
       "deferred_3M_US                                          1.75483e+09\n",
       "deferred_6M_DC                                          1.01191e+09\n",
       "deferred_6M_US                                          1.78882e+08\n",
       "deferred_1M_DC                                          1.61229e+11\n",
       "deferred_1Y_DC                                          2.28124e+11\n",
       "deferred_2Y_DC                                          3.17469e+08\n",
       "deferred_3Y_DC                                          9.38287e+08\n",
       "deferred_1M_US                                          1.24338e+10\n",
       "deferred_1Y_US                                          2.20479e+10\n",
       "deferred_2Y_US                                          6.86889e+07\n",
       "deferred_3Y_US                                            4.292e+06\n",
       "dtype: object"
      ]
     },
     "execution_count": 69,
     "metadata": {},
     "output_type": "execute_result"
    }
   ],
   "source": [
    "df.sum()"
   ]
  },
  {
   "cell_type": "code",
   "execution_count": 62,
   "metadata": {},
   "outputs": [
    {
     "data": {
      "text/html": [
       "<div>\n",
       "<style scoped>\n",
       "    .dataframe tbody tr th:only-of-type {\n",
       "        vertical-align: middle;\n",
       "    }\n",
       "\n",
       "    .dataframe tbody tr th {\n",
       "        vertical-align: top;\n",
       "    }\n",
       "\n",
       "    .dataframe thead th {\n",
       "        text-align: right;\n",
       "    }\n",
       "</style>\n",
       "<table border=\"1\" class=\"dataframe\">\n",
       "  <thead>\n",
       "    <tr style=\"text-align: right;\">\n",
       "      <th></th>\n",
       "      <th>US_amounts</th>\n",
       "    </tr>\n",
       "  </thead>\n",
       "  <tbody>\n",
       "    <tr>\n",
       "      <th>recognized</th>\n",
       "      <td>4.688280e+09</td>\n",
       "    </tr>\n",
       "    <tr>\n",
       "      <th>service</th>\n",
       "      <td>9.383283e+08</td>\n",
       "    </tr>\n",
       "    <tr>\n",
       "      <th>deferred_B</th>\n",
       "      <td>5.738549e+08</td>\n",
       "    </tr>\n",
       "    <tr>\n",
       "      <th>deferred_1M_a</th>\n",
       "      <td>3.985406e+07</td>\n",
       "    </tr>\n",
       "    <tr>\n",
       "      <th>deferred_1Y_a</th>\n",
       "      <td>9.655797e+09</td>\n",
       "    </tr>\n",
       "    <tr>\n",
       "      <th>deferred_2Y_a</th>\n",
       "      <td>6.719101e+07</td>\n",
       "    </tr>\n",
       "    <tr>\n",
       "      <th>deferred_3Y_a</th>\n",
       "      <td>4.051346e+06</td>\n",
       "    </tr>\n",
       "    <tr>\n",
       "      <th>deferred_1M_d</th>\n",
       "      <td>1.239392e+10</td>\n",
       "    </tr>\n",
       "    <tr>\n",
       "      <th>deferred_3M_d</th>\n",
       "      <td>1.754833e+09</td>\n",
       "    </tr>\n",
       "    <tr>\n",
       "      <th>deferred_6M_d</th>\n",
       "      <td>1.788820e+08</td>\n",
       "    </tr>\n",
       "    <tr>\n",
       "      <th>deferred_1Y_d</th>\n",
       "      <td>1.239208e+10</td>\n",
       "    </tr>\n",
       "    <tr>\n",
       "      <th>deferred_2Y_d</th>\n",
       "      <td>1.497862e+06</td>\n",
       "    </tr>\n",
       "    <tr>\n",
       "      <th>deferred_3Y_d</th>\n",
       "      <td>2.406549e+05</td>\n",
       "    </tr>\n",
       "  </tbody>\n",
       "</table>\n",
       "</div>"
      ],
      "text/plain": [
       "                 US_amounts\n",
       "recognized     4.688280e+09\n",
       "service        9.383283e+08\n",
       "deferred_B     5.738549e+08\n",
       "deferred_1M_a  3.985406e+07\n",
       "deferred_1Y_a  9.655797e+09\n",
       "deferred_2Y_a  6.719101e+07\n",
       "deferred_3Y_a  4.051346e+06\n",
       "deferred_1M_d  1.239392e+10\n",
       "deferred_3M_d  1.754833e+09\n",
       "deferred_6M_d  1.788820e+08\n",
       "deferred_1Y_d  1.239208e+10\n",
       "deferred_2Y_d  1.497862e+06\n",
       "deferred_3Y_d  2.406549e+05"
      ]
     },
     "execution_count": 62,
     "metadata": {},
     "output_type": "execute_result"
    }
   ],
   "source": [
    "total_df = sum_USD_amt(list_df, list_columns)\n",
    "total_df"
   ]
  },
  {
   "cell_type": "code",
   "execution_count": 73,
   "metadata": {},
   "outputs": [
    {
     "data": {
      "text/plain": [
       "US_amounts    1.243378e+10\n",
       "dtype: float64"
      ]
     },
     "execution_count": 73,
     "metadata": {},
     "output_type": "execute_result"
    }
   ],
   "source": [
    "total_df.loc['deferred_1M_d']+total_df.loc['deferred_1M_a']"
   ]
  },
  {
   "cell_type": "code",
   "execution_count": null,
   "metadata": {},
   "outputs": [],
   "source": []
  },
  {
   "cell_type": "code",
   "execution_count": null,
   "metadata": {},
   "outputs": [],
   "source": []
  },
  {
   "cell_type": "code",
   "execution_count": null,
   "metadata": {},
   "outputs": [],
   "source": []
  },
  {
   "cell_type": "code",
   "execution_count": null,
   "metadata": {},
   "outputs": [],
   "source": []
  },
  {
   "cell_type": "code",
   "execution_count": 74,
   "metadata": {},
   "outputs": [],
   "source": [
    "# Make this a function to be cleaned up somehow\n",
    "del dfr\n",
    "del dfr_a\n",
    "del dfr_b\n",
    "del dfr_d\n",
    "del gb_a\n",
    "del gb_a_1M\n",
    "del gb_a_1Y\n",
    "del gb_a_2Y\n",
    "del gb_a_3Y\n",
    "del gb_b, \n",
    "del gb_d\n",
    "del gb_svc, gb_rec, gb_d_two_yrs\n",
    "del gb_d_four_mths, gb_d_qtrly, gb_d_semi_ann\n"
   ]
  },
  {
   "cell_type": "markdown",
   "metadata": {},
   "source": [
    "# Now working on the ZCC billings\n",
    "\n",
    "These billings are type D billings that did not populate the rebill_rule field of the database.\n",
    "\n",
    "They have a 'sales document type' = 'ZCC\"\n",
    "\n",
    "The billings themselves are being created from a tableau report that looks for additions to the deferred revenue waterfall based on billings of type D and have a sales document type of ZCC"
   ]
  },
  {
   "cell_type": "markdown",
   "metadata": {},
   "source": [
    "# TO BE DONE:\n",
    "\n",
    "1. Clean up the type F billings (at least check to see if they are necessary)\n",
    "2. Make a function to delete all intermediate dataframes\n",
    "3. Add type A no config function\n",
    "4. Add type D ZCC billings\n",
    "\n",
    "5. Work on the forecast part of this\n",
    "\n",
    "6. Load up FX rates"
   ]
  },
  {
   "cell_type": "code",
   "execution_count": null,
   "metadata": {},
   "outputs": [],
   "source": [
    "# Adobe financial calendar\n",
    "df_cal = pd.read_excel('../data/old/ADOBE_FINANCIAL_CALENDAR.xlsx', 'ADBE_cal')"
   ]
  },
  {
   "cell_type": "code",
   "execution_count": null,
   "metadata": {},
   "outputs": [],
   "source": [
    "df_cal.head()"
   ]
  },
  {
   "cell_type": "markdown",
   "metadata": {},
   "source": [
    "## Working on Type A billings with no configuration\n",
    "\n",
    " - this is included in the all_billings_inputs file on the 'type_A_no_config' sheet"
   ]
  },
  {
   "cell_type": "markdown",
   "metadata": {},
   "source": [
    "# Type A No Config Type Billings\n",
    "\n",
    "This file contains type A billings that have a revenue contract start date and end date. We need to map these into the terms of our dataframe.\n",
    "\n",
    "### Steps:\n",
    "1. Rename the columns\n",
    "2. This file has entries for pennies. Need to clear out anything less than $10 in absolute value\n",
    "3. Determine the length of time between start date and end date\n",
    "4. Group this dataframe by currency, period and BU\n",
    "5. Merge this final dataframe with the larger dataframe\n",
    "\n",
    "## NOTE: This file contains two different start date and end date columns. We need to look at all of them"
   ]
  },
  {
   "cell_type": "code",
   "execution_count": null,
   "metadata": {},
   "outputs": [],
   "source": [
    "df_A = pd.read_excel('../data/all_billings_inputs.xlsx', sheet_name='type_A_no_config')\n"
   ]
  },
  {
   "cell_type": "code",
   "execution_count": null,
   "metadata": {},
   "outputs": [],
   "source": [
    "df_A.sample(10)"
   ]
  },
  {
   "cell_type": "code",
   "execution_count": null,
   "metadata": {},
   "outputs": [],
   "source": [
    "df_A.columns"
   ]
  },
  {
   "cell_type": "code",
   "execution_count": null,
   "metadata": {},
   "outputs": [],
   "source": [
    "df_A.rename(index=str, columns={'Document Currency':'currency', \n",
    "                               'Enterprise Bu':'BU',\n",
    "                               'Invoicing Fiscal Year-Period Desc':'period',\n",
    "                               'Rev Rec Contract End Date Hdr':'end_date_1',\n",
    "                               'Rev Rec Contract End Date Item':'end_date_2',\n",
    "                               'Rev Rec Contract Start Date Hdr': 'start_date_1',\n",
    "                               'Rev Rec Contract Start Date Item': 'start_date_2',\n",
    "                               'Completed Sales ( DC )':'DC_amount',\n",
    "                               'Completed Sales': 'US_amount'\n",
    "                               }, inplace=True)\n",
    "\n"
   ]
  },
  {
   "cell_type": "code",
   "execution_count": null,
   "metadata": {},
   "outputs": [],
   "source": [
    "df_A.columns"
   ]
  },
  {
   "cell_type": "markdown",
   "metadata": {},
   "source": [
    "### Dealing with the duplicate dates by taking a max"
   ]
  },
  {
   "cell_type": "code",
   "execution_count": null,
   "metadata": {},
   "outputs": [],
   "source": [
    "df_A.head()"
   ]
  },
  {
   "cell_type": "code",
   "execution_count": null,
   "metadata": {},
   "outputs": [],
   "source": [
    "df_A['start_date_str'] = df_A[['start_date_1','start_date_2']].max(axis=1).astype(str)\n",
    "df_A['end_date_str'] = df_A[['end_date_1','end_date_2']].max(axis=1).astype(str)"
   ]
  },
  {
   "cell_type": "code",
   "execution_count": null,
   "metadata": {},
   "outputs": [],
   "source": [
    "df_A.sample(10)"
   ]
  },
  {
   "cell_type": "code",
   "execution_count": null,
   "metadata": {},
   "outputs": [],
   "source": []
  },
  {
   "cell_type": "code",
   "execution_count": null,
   "metadata": {},
   "outputs": [],
   "source": [
    "df_A['start_date'] = pd.to_datetime(df_A['start_date_str'])\n",
    "df_A['end_date'] = pd.to_datetime(df_A['end_date_str'])"
   ]
  },
  {
   "cell_type": "code",
   "execution_count": null,
   "metadata": {},
   "outputs": [],
   "source": [
    "df_A.drop(labels=['end_date_1', 'end_date_2', 'start_date_1', 'start_date_2',\n",
    "                  'start_date_str', 'end_date_str'], axis=1, inplace=True)"
   ]
  },
  {
   "cell_type": "code",
   "execution_count": null,
   "metadata": {},
   "outputs": [],
   "source": []
  },
  {
   "cell_type": "code",
   "execution_count": null,
   "metadata": {},
   "outputs": [],
   "source": [
    "df_A['month_interval']=(df_A['end_date']-df_A['start_date'])"
   ]
  },
  {
   "cell_type": "code",
   "execution_count": null,
   "metadata": {},
   "outputs": [],
   "source": [
    "df_A.sample(10)"
   ]
  },
  {
   "cell_type": "code",
   "execution_count": null,
   "metadata": {},
   "outputs": [],
   "source": [
    "df_A['months']= (df_A['month_interval']/ np.timedelta64(1,'M')).round(0)"
   ]
  },
  {
   "cell_type": "code",
   "execution_count": null,
   "metadata": {},
   "outputs": [],
   "source": [
    "df_A.month_interval.describe()"
   ]
  },
  {
   "cell_type": "markdown",
   "metadata": {},
   "source": [
    "### Now I need to map the months into the different integers in my dataframe\n"
   ]
  },
  {
   "cell_type": "code",
   "execution_count": null,
   "metadata": {},
   "outputs": [],
   "source": [
    "list_rebills = [1, 3, 6, 12, 24, 36]\n",
    "temp_rebill = np.zeros_like(df_A['months'])\n",
    "for i in range(len(df_A)):\n",
    "    temp_rebill[i] = min(list_rebills, key=lambda x:abs(x-df_A['months'][i]))\n",
    "df_A['rebill_months']=temp_rebill\n"
   ]
  },
  {
   "cell_type": "code",
   "execution_count": null,
   "metadata": {},
   "outputs": [],
   "source": [
    "df_A.sample(10)"
   ]
  },
  {
   "cell_type": "code",
   "execution_count": null,
   "metadata": {},
   "outputs": [],
   "source": [
    "plt.scatter(df_A['months'], df_A['rebill_months'])"
   ]
  },
  {
   "cell_type": "code",
   "execution_count": null,
   "metadata": {},
   "outputs": [],
   "source": []
  },
  {
   "cell_type": "markdown",
   "metadata": {},
   "source": [
    "## Grouping the dataframe by rebill_months"
   ]
  },
  {
   "cell_type": "code",
   "execution_count": null,
   "metadata": {},
   "outputs": [],
   "source": [
    "# drop what we dont need\n",
    "df_A.drop(columns = ['start_date', 'end_date', 'month_interval', 'months'], axis=1, inplace=True)"
   ]
  },
  {
   "cell_type": "code",
   "execution_count": null,
   "metadata": {},
   "outputs": [],
   "source": [
    "df_A.head()"
   ]
  },
  {
   "cell_type": "code",
   "execution_count": null,
   "metadata": {},
   "outputs": [],
   "source": [
    "df_A.rename(index = str, columns={'currency': 'curr', 'Enterprise BU Desc':'BU', \n",
    "             'Invoice Fiscal Year Period Desc': 'period'}, inplace=True)\n"
   ]
  },
  {
   "cell_type": "code",
   "execution_count": null,
   "metadata": {},
   "outputs": [],
   "source": [
    "df_A.head(10)"
   ]
  },
  {
   "cell_type": "code",
   "execution_count": null,
   "metadata": {},
   "outputs": [],
   "source": [
    "#medals = df.pivot_table('no of medals', ['Year', 'Country'], 'medal')\n",
    "temp_DC = df_A.pivot_table('DC_amount', ['curr', 'BU', 'period'], 'rebill_months')\n",
    "temp_US = df_A.pivot_table('US_amount', ['curr', 'BU', 'period'], 'rebill_months')\n"
   ]
  },
  {
   "cell_type": "code",
   "execution_count": null,
   "metadata": {},
   "outputs": [],
   "source": [
    "temp_DC"
   ]
  },
  {
   "cell_type": "code",
   "execution_count": null,
   "metadata": {},
   "outputs": [],
   "source": [
    "temp_DC = temp_DC.fillna(0)\n",
    "temp_US = temp_DC.fillna(0)"
   ]
  },
  {
   "cell_type": "code",
   "execution_count": null,
   "metadata": {},
   "outputs": [],
   "source": [
    "temp_US"
   ]
  },
  {
   "cell_type": "code",
   "execution_count": null,
   "metadata": {},
   "outputs": [],
   "source": [
    "temp_flat_DC = pd.DataFrame(temp_DC.to_records())\n",
    "temp_flat_US = pd.DataFrame(temp_US.to_records())"
   ]
  },
  {
   "cell_type": "code",
   "execution_count": null,
   "metadata": {},
   "outputs": [],
   "source": [
    "temp_flat_DC.info()"
   ]
  },
  {
   "cell_type": "code",
   "execution_count": null,
   "metadata": {},
   "outputs": [],
   "source": [
    "temp_flat_DC.rename(index=str, columns={'1.0':'deferred_1M_DC', \n",
    "                               '3.0':'deferred_3M_DC',\n",
    "                               '6.0':'deferred_6M_DC',\n",
    "                               '12.0':'deferred_1Y_DC',\n",
    "                               '24.0':'deferred_2Y_DC',\n",
    "                               '36.0': 'deferred_3Y_DC'}, inplace=True)\n",
    "\n",
    "temp_flat_US.rename(index=str, columns={'1.0':'deferred_1M_US', \n",
    "                               '3.0':'deferred_3M_US',\n",
    "                               '6.0':'deferred_6M_US',\n",
    "                               '12.0':'deferred_1Y_US',\n",
    "                               '24.0':'deferred_2Y_US',\n",
    "                               '36.0': 'deferred_3Y_US'}, inplace=True)\n"
   ]
  },
  {
   "cell_type": "code",
   "execution_count": null,
   "metadata": {},
   "outputs": [],
   "source": [
    "temp_flat_DC.tail(20)"
   ]
  },
  {
   "cell_type": "code",
   "execution_count": null,
   "metadata": {},
   "outputs": [],
   "source": [
    "df.head(30)"
   ]
  },
  {
   "cell_type": "code",
   "execution_count": null,
   "metadata": {},
   "outputs": [],
   "source": [
    "df_test_dup = df.copy()\n",
    "print(len(df_test_dup))"
   ]
  },
  {
   "cell_type": "code",
   "execution_count": null,
   "metadata": {},
   "outputs": [],
   "source": [
    "df_test_dup =df_test_dup.drop_duplicates(subset=['curr', 'BU', 'period'])"
   ]
  },
  {
   "cell_type": "code",
   "execution_count": null,
   "metadata": {},
   "outputs": [],
   "source": [
    "print(len(df_test_dup))"
   ]
  },
  {
   "cell_type": "markdown",
   "metadata": {},
   "source": [
    "## Now we have to merge these two dataframes with the other billings dataframe"
   ]
  },
  {
   "cell_type": "code",
   "execution_count": null,
   "metadata": {},
   "outputs": [],
   "source": [
    "''' def merge_new_dataframe(old_df, new_df, new_column):\n",
    "    df_merged = pd.merge(old_df, new_df, how='outer', \n",
    "                     left_on=['curr', 'BU', 'period'],\n",
    "                    right_on=['curr', 'BU', 'period'])\n",
    "    df_merged.rename(index=str, columns={'DC_amount': new_column+'_DC', 'US_amount': new_column+'_US'}, inplace=True)\n",
    "    \n",
    "    #need to drop the product configtype id for merges where the new_df is of type A\n",
    "    config_str = 'config'\n",
    "    rule_str = 'rebill_rule'\n",
    "    if config_str in df_merged.columns:\n",
    "        df_merged.drop(columns=['config'], inplace=True)\n",
    "    \n",
    "    if rule_str in df_merged.columns:\n",
    "        df_merged.drop(columns=['rebill_rule'], inplace=True)\n",
    "        \n",
    "    return df_merged\n",
    "'''"
   ]
  },
  {
   "cell_type": "code",
   "execution_count": null,
   "metadata": {},
   "outputs": [],
   "source": [
    "temp_flat_DC.head(30)"
   ]
  },
  {
   "cell_type": "code",
   "execution_count": null,
   "metadata": {},
   "outputs": [],
   "source": [
    "df_with_A = pd.merge(df, temp_flat_DC, how='outer',\n",
    "                    left_on= ['curr', 'BU', 'period'],\n",
    "                    right_on=['curr', 'BU', 'period'], indicator=True, validate='one_to_one')\n",
    "df_with_A = df_with_A.fillna(0)"
   ]
  },
  {
   "cell_type": "code",
   "execution_count": null,
   "metadata": {},
   "outputs": [],
   "source": [
    "df_with_A.head(30)"
   ]
  },
  {
   "cell_type": "code",
   "execution_count": null,
   "metadata": {},
   "outputs": [],
   "source": [
    "df_with_all = pd.merge(df_with_A, temp_flat_US, how='outer',\n",
    "                    left_on= ['curr', 'BU', 'period'],\n",
    "                    right_on=['curr', 'BU', 'period'])\n",
    "df_with_all = df_with_all.fillna(0)"
   ]
  },
  {
   "cell_type": "code",
   "execution_count": null,
   "metadata": {},
   "outputs": [],
   "source": [
    "df_with_all.fillna(0)"
   ]
  },
  {
   "cell_type": "code",
   "execution_count": null,
   "metadata": {},
   "outputs": [],
   "source": [
    "df_with_all.head(10)"
   ]
  },
  {
   "cell_type": "code",
   "execution_count": null,
   "metadata": {},
   "outputs": [],
   "source": [
    "df_with_all['deferred_1M_DC']= df_with_all['deferred_1M_DC_x']+df_with_all['deferred_1M_DC_y']\n",
    "df_with_all['deferred_3M_DC']= df_with_all['deferred_3M_DC_x']+df_with_all['deferred_3M_DC_y']\n",
    "df_with_all['deferred_6M_DC']= df_with_all['deferred_6M_DC_x']+df_with_all['deferred_6M_DC_y']\n",
    "df_with_all['deferred_1Y_DC']= df_with_all['deferred_1Y_DC_x']+df_with_all['deferred_1Y_DC_y']\n",
    "df_with_all['deferred_2Y_DC']= df_with_all['deferred_2Y_DC_x']+df_with_all['deferred_2Y_DC_y']\n",
    "df_with_all['deferred_3Y_DC']= df_with_all['deferred_3Y_DC_x']+df_with_all['deferred_3Y_DC_y']\n",
    "\n",
    "df_with_all['deferred_1M_US']= df_with_all['deferred_1M_US_x']+df_with_all['deferred_1M_US_y']\n",
    "df_with_all['deferred_3M_US']= df_with_all['deferred_3M_US_x']+df_with_all['deferred_3M_US_y']\n",
    "df_with_all['deferred_6M_US']= df_with_all['deferred_6M_US_x']+df_with_all['deferred_6M_US_y']\n",
    "df_with_all['deferred_1Y_US']= df_with_all['deferred_1Y_US_x']+df_with_all['deferred_1Y_US_y']\n",
    "df_with_all['deferred_2Y_US']= df_with_all['deferred_2Y_US_x']+df_with_all['deferred_2Y_US_y']\n",
    "df_with_all['deferred_3Y_US']= df_with_all['deferred_3Y_US_x']+df_with_all['deferred_3Y_US_y']"
   ]
  },
  {
   "cell_type": "code",
   "execution_count": null,
   "metadata": {},
   "outputs": [],
   "source": [
    "df_with_all.drop(labels = ['deferred_1M_DC_x','deferred_1M_DC_y',\n",
    "                        'deferred_3M_DC_x','deferred_3M_DC_y',\n",
    "                        'deferred_6M_DC_x','deferred_6M_DC_y',\n",
    "                        'deferred_1Y_DC_x','deferred_1Y_DC_y',\n",
    "                        'deferred_2Y_DC_x','deferred_2Y_DC_y',\n",
    "                        'deferred_3Y_DC_x','deferred_3Y_DC_y',\n",
    "                        'deferred_1M_US_x','deferred_1M_US_y',   \n",
    "                        'deferred_3M_US_x','deferred_3M_US_y',\n",
    "                        'deferred_6M_US_x','deferred_6M_US_y',\n",
    "                        'deferred_1Y_US_x','deferred_1Y_US_y',\n",
    "                        'deferred_2Y_US_x','deferred_2Y_US_y',\n",
    "                        'deferred_3Y_US_x','deferred_3Y_US_y'],\n",
    "                 axis=1, inplace=True)"
   ]
  },
  {
   "cell_type": "code",
   "execution_count": null,
   "metadata": {},
   "outputs": [],
   "source": [
    "df_with_all.head()"
   ]
  },
  {
   "cell_type": "code",
   "execution_count": null,
   "metadata": {},
   "outputs": [],
   "source": [
    "df_with_all.columns"
   ]
  },
  {
   "cell_type": "code",
   "execution_count": null,
   "metadata": {},
   "outputs": [],
   "source": [
    "df_with_all['deferred_1Y_US'].describe()"
   ]
  },
  {
   "cell_type": "code",
   "execution_count": null,
   "metadata": {},
   "outputs": [],
   "source": [
    "df['deferred_1Y_US'].describe()"
   ]
  },
  {
   "cell_type": "code",
   "execution_count": null,
   "metadata": {},
   "outputs": [],
   "source": [
    "print('sum of temp flat DC 1M', temp_flat_DC['deferred_1M_DC'].sum())\n",
    "print('sum of base_df before DC 1M', df['deferred_1M_DC'].sum())\n",
    "print('sum of final DC 1M', df_with_all['deferred_1M_DC'].sum())\n",
    "\n",
    "a = temp_flat_DC['deferred_1M_DC'].sum()\n",
    "b = df['deferred_1M_DC'].sum()\n",
    "c = df_with_all['deferred_1M_DC'].sum()\n",
    "print(c)\n",
    "print(a+b)"
   ]
  },
  {
   "cell_type": "code",
   "execution_count": null,
   "metadata": {},
   "outputs": [],
   "source": [
    "df['deferred_1M_DC'].sum()"
   ]
  },
  {
   "cell_type": "code",
   "execution_count": null,
   "metadata": {},
   "outputs": [],
   "source": [
    "temp_flat_DC['deferred_1M_DC'].sum()"
   ]
  },
  {
   "cell_type": "code",
   "execution_count": null,
   "metadata": {},
   "outputs": [],
   "source": [
    "df_with_all['deferred_1M_DC'].sum()"
   ]
  },
  {
   "cell_type": "markdown",
   "metadata": {},
   "source": [
    "# Need to create a table that contains the total billings by DC for each dataframe and each step for auditing\n",
    "\n",
    " - start with all of the DC\n",
    " - then create function that appends and adds rows\n",
    " - then do the same for the DC stuff type_A\n",
    " - then check the totals\n"
   ]
  },
  {
   "cell_type": "code",
   "execution_count": null,
   "metadata": {},
   "outputs": [],
   "source": [
    "df = df_with_all.copy()"
   ]
  },
  {
   "cell_type": "code",
   "execution_count": null,
   "metadata": {},
   "outputs": [],
   "source": [
    "drop_index= df[df['period']=='2020-04'].index\n",
    "df.drop(drop_index, inplace=True)"
   ]
  },
  {
   "cell_type": "code",
   "execution_count": null,
   "metadata": {},
   "outputs": [],
   "source": [
    "whos"
   ]
  },
  {
   "cell_type": "code",
   "execution_count": null,
   "metadata": {},
   "outputs": [],
   "source": [
    "# dump the pickle\n",
    "#pickle.dump(df, open('../data/processed/all_billings.p', 'wb'))\n",
    "\n",
    "# open the pickle file\n",
    "df = pickle.load(open('../data/processed/all_billings.p', 'rb'))"
   ]
  },
  {
   "cell_type": "code",
   "execution_count": null,
   "metadata": {},
   "outputs": [],
   "source": []
  },
  {
   "cell_type": "code",
   "execution_count": null,
   "metadata": {},
   "outputs": [],
   "source": [
    "df['period'].unique()"
   ]
  },
  {
   "cell_type": "code",
   "execution_count": null,
   "metadata": {},
   "outputs": [],
   "source": [
    "len(df)"
   ]
  },
  {
   "cell_type": "markdown",
   "metadata": {},
   "source": [
    "## Loading All of the other information we need here\n",
    " - filename = currency_map"
   ]
  },
  {
   "cell_type": "code",
   "execution_count": null,
   "metadata": {},
   "outputs": [],
   "source": [
    "df_curr_map= pd.read_excel('../data/currency_map.xlsx', sheet_name='curr_map')\n",
    "df_curr_map['Country'] = df_curr_map['Country'].str.replace('\\(MA\\)', '', case=False)"
   ]
  },
  {
   "cell_type": "code",
   "execution_count": null,
   "metadata": {},
   "outputs": [],
   "source": []
  },
  {
   "cell_type": "code",
   "execution_count": null,
   "metadata": {},
   "outputs": [],
   "source": [
    "df_weeks = pd.read_excel('../data/Period_weeks.xlsx', sheet_name='period_weeks')\n"
   ]
  },
  {
   "cell_type": "code",
   "execution_count": null,
   "metadata": {},
   "outputs": [],
   "source": []
  },
  {
   "cell_type": "code",
   "execution_count": null,
   "metadata": {},
   "outputs": [],
   "source": [
    "df_fx_fwds = pd.read_excel('../data/FX_forward_rates.xlsx', sheet_name='forward_data', \n",
    "                          skiprows = 1, usecols=\"C,G\")"
   ]
  },
  {
   "cell_type": "code",
   "execution_count": null,
   "metadata": {},
   "outputs": [],
   "source": [
    "df_fx_fwds.rename(index=str, columns={'Unnamed: 2': 'curr', 'FWD REF':'forward'}, inplace=True)"
   ]
  },
  {
   "cell_type": "code",
   "execution_count": null,
   "metadata": {},
   "outputs": [],
   "source": []
  },
  {
   "cell_type": "code",
   "execution_count": null,
   "metadata": {},
   "outputs": [],
   "source": [
    "df_fx_fwds"
   ]
  },
  {
   "cell_type": "code",
   "execution_count": null,
   "metadata": {},
   "outputs": [],
   "source": []
  },
  {
   "cell_type": "markdown",
   "metadata": {},
   "source": [
    "## Working on the func_load_bookings now"
   ]
  },
  {
   "cell_type": "code",
   "execution_count": null,
   "metadata": {},
   "outputs": [],
   "source": [
    "df_bookings = pd.read_excel('../data/2020_bookings_fcst_Q1.xlsx', sheet_name='bookings')\n"
   ]
  },
  {
   "cell_type": "markdown",
   "metadata": {},
   "source": [
    "## Cleaning up the bookings data\n",
    " - remove odd strings such as '(EB)' from BU\n",
    " - (IS) from internal segment\n",
    " - etc\n",
    " \n",
    " \n",
    " NOTE: The '(' is a special character so we need to precede these with the escape character '\\'"
   ]
  },
  {
   "cell_type": "code",
   "execution_count": null,
   "metadata": {},
   "outputs": [],
   "source": [
    "df_bookings['EBU'] = df_bookings['EBU'].str.replace(' \\(EB\\)', '', case=False)\n",
    "df_bookings['Internal Segment'] = df_bookings['Internal Segment'].str.replace('\\(IS\\)', '')\n",
    "\n",
    "df_bookings['PMBU'] = df_bookings['PMBU'].str.replace('\\(PMBU\\)', '')\n",
    "df_bookings['GEO'] = df_bookings['GEO'].str.replace('\\(G\\)', '')\n",
    "df_bookings['Market Area'] = df_bookings['Market Area'].str.replace('\\(MA\\)', '')\n"
   ]
  },
  {
   "cell_type": "code",
   "execution_count": null,
   "metadata": {},
   "outputs": [],
   "source": [
    "df_bookings.sample(5)"
   ]
  },
  {
   "cell_type": "code",
   "execution_count": null,
   "metadata": {},
   "outputs": [],
   "source": [
    "df_bookings.EBU.value_counts()"
   ]
  },
  {
   "cell_type": "code",
   "execution_count": null,
   "metadata": {},
   "outputs": [],
   "source": [
    "df_bookings.PMBU.value_counts()"
   ]
  },
  {
   "cell_type": "code",
   "execution_count": null,
   "metadata": {},
   "outputs": [],
   "source": [
    "df_bookings.GEO.value_counts()"
   ]
  },
  {
   "cell_type": "code",
   "execution_count": null,
   "metadata": {},
   "outputs": [],
   "source": [
    "df_bookings['Mark Segment'].value_counts()"
   ]
  },
  {
   "cell_type": "code",
   "execution_count": null,
   "metadata": {},
   "outputs": [],
   "source": [
    "df_bookings['Type'].value_counts()"
   ]
  },
  {
   "cell_type": "code",
   "execution_count": null,
   "metadata": {},
   "outputs": [],
   "source": [
    "df_bookings['Bookings Type'].value_counts()"
   ]
  },
  {
   "cell_type": "code",
   "execution_count": null,
   "metadata": {},
   "outputs": [],
   "source": [
    "df_bookings['Scenario'].value_counts()"
   ]
  },
  {
   "cell_type": "code",
   "execution_count": null,
   "metadata": {},
   "outputs": [],
   "source": [
    "df_bookings['FX'].value_counts()"
   ]
  },
  {
   "cell_type": "code",
   "execution_count": null,
   "metadata": {},
   "outputs": [],
   "source": [
    "df_bookings.sample(5)"
   ]
  },
  {
   "cell_type": "code",
   "execution_count": null,
   "metadata": {},
   "outputs": [],
   "source": [
    "df_bookings.drop(columns = ['Hedge', 'Mark Segment', 'Type', 'Scenario', 'FX'], inplace = True)"
   ]
  },
  {
   "cell_type": "code",
   "execution_count": null,
   "metadata": {},
   "outputs": [],
   "source": [
    "df_bookings.rename(index=str, columns = {'EBU': 'BU', \n",
    "                                        'Internal Segment': 'segment',\n",
    "                                        'PMBU': 'product',\n",
    "                                        'GEO':'geo',\n",
    "                                        'Market Area': 'country',\n",
    "                                        'Bookings Type': 'booking_type',\n",
    "                                        'value': 'US_amount'}, inplace =True)"
   ]
  },
  {
   "cell_type": "code",
   "execution_count": null,
   "metadata": {},
   "outputs": [],
   "source": [
    "df_curr_map.head(5)"
   ]
  },
  {
   "cell_type": "code",
   "execution_count": null,
   "metadata": {},
   "outputs": [],
   "source": [
    "df_bookings['country'].unique()"
   ]
  },
  {
   "cell_type": "code",
   "execution_count": null,
   "metadata": {},
   "outputs": [],
   "source": [
    "list_book_ctry = df_bookings['country'].unique()\n"
   ]
  },
  {
   "cell_type": "code",
   "execution_count": null,
   "metadata": {},
   "outputs": [],
   "source": [
    "list_curr_map = df_curr_map['Country'].unique()"
   ]
  },
  {
   "cell_type": "code",
   "execution_count": null,
   "metadata": {},
   "outputs": [],
   "source": [
    "a = list(set(list_book_ctry) & set(list_curr_map))\n",
    "a"
   ]
  },
  {
   "cell_type": "code",
   "execution_count": null,
   "metadata": {},
   "outputs": [],
   "source": [
    "not_in_map = set(list_book_ctry).difference(set(list_curr_map))\n",
    "not_in_map"
   ]
  },
  {
   "cell_type": "code",
   "execution_count": null,
   "metadata": {},
   "outputs": [],
   "source": [
    "df_bookings = pd.merge(df_bookings, df_curr_map, how='left', left_on='country', right_on='Country')"
   ]
  },
  {
   "cell_type": "code",
   "execution_count": null,
   "metadata": {},
   "outputs": [],
   "source": [
    "df_bookings.sample(10)"
   ]
  },
  {
   "cell_type": "markdown",
   "metadata": {},
   "source": [
    "## Percent period bookings "
   ]
  },
  {
   "cell_type": "code",
   "execution_count": null,
   "metadata": {},
   "outputs": [],
   "source": [
    "# need to create a list of periods we want to use and keep\n",
    "\n",
    "\n",
    "list_q2 = ['2019-04', '2019-05', '2019-06']\n",
    "list_q3 = ['2019-07', '2019-08', '2019-09']\n",
    "list_q4 = ['2019-10', '2019-11', '2019-12']\n",
    "list_q1 = [ '2020-01', '2020-02', '2020-03']\n",
    "\n",
    "list_quarters = [list_q1, list_q2, list_q3, list_q4]"
   ]
  },
  {
   "cell_type": "code",
   "execution_count": null,
   "metadata": {},
   "outputs": [],
   "source": [
    "list_BUs = df_bookings['BU'].unique()\n",
    "list_curr = df_bookings['Currency'].unique()"
   ]
  },
  {
   "cell_type": "code",
   "execution_count": null,
   "metadata": {},
   "outputs": [],
   "source": [
    "this_BU"
   ]
  },
  {
   "cell_type": "code",
   "execution_count": null,
   "metadata": {},
   "outputs": [],
   "source": [
    "i = 0\n",
    "j=1\n",
    "this_BU = list_BUs[i]\n",
    "this_curr = list_curr[j]\n",
    "\n",
    "print(this_BU, this_curr)"
   ]
  },
  {
   "cell_type": "code",
   "execution_count": null,
   "metadata": {},
   "outputs": [],
   "source": [
    "df_test = df[(df['BU']==this_BU)&\n",
    "             (df['curr']==this_curr)&\n",
    "             (df['period'].isin(list_q2))]"
   ]
  },
  {
   "cell_type": "code",
   "execution_count": null,
   "metadata": {},
   "outputs": [],
   "source": []
  },
  {
   "cell_type": "code",
   "execution_count": null,
   "metadata": {},
   "outputs": [],
   "source": [
    "df_test.head(20)"
   ]
  },
  {
   "cell_type": "code",
   "execution_count": null,
   "metadata": {},
   "outputs": [],
   "source": []
  },
  {
   "cell_type": "code",
   "execution_count": null,
   "metadata": {},
   "outputs": [],
   "source": [
    "df.head()"
   ]
  },
  {
   "cell_type": "code",
   "execution_count": null,
   "metadata": {},
   "outputs": [],
   "source": [
    "df.BU.unique()"
   ]
  },
  {
   "cell_type": "code",
   "execution_count": null,
   "metadata": {},
   "outputs": [],
   "source": []
  },
  {
   "cell_type": "code",
   "execution_count": null,
   "metadata": {},
   "outputs": [],
   "source": []
  },
  {
   "cell_type": "code",
   "execution_count": null,
   "metadata": {},
   "outputs": [],
   "source": []
  },
  {
   "cell_type": "code",
   "execution_count": null,
   "metadata": {},
   "outputs": [],
   "source": [
    "df_test1= df[(df['curr']=='EUR')&\n",
    "            (df['BU']=='Experience Cloud')&\n",
    "             (df['period']=='2019-03')]\n",
    "\n",
    "             "
   ]
  },
  {
   "cell_type": "code",
   "execution_count": null,
   "metadata": {},
   "outputs": [],
   "source": [
    "df_test1"
   ]
  },
  {
   "cell_type": "code",
   "execution_count": null,
   "metadata": {},
   "outputs": [],
   "source": []
  },
  {
   "cell_type": "code",
   "execution_count": null,
   "metadata": {},
   "outputs": [],
   "source": [
    "df.tail(20)"
   ]
  },
  {
   "cell_type": "code",
   "execution_count": null,
   "metadata": {},
   "outputs": [],
   "source": []
  },
  {
   "cell_type": "code",
   "execution_count": null,
   "metadata": {},
   "outputs": [],
   "source": [
    "print(gb_d_mthly['US_amount'].sum())"
   ]
  },
  {
   "cell_type": "code",
   "execution_count": null,
   "metadata": {},
   "outputs": [],
   "source": [
    "gb_d_mthly.tail(20)"
   ]
  },
  {
   "cell_type": "code",
   "execution_count": null,
   "metadata": {},
   "outputs": [],
   "source": [
    "gb_test = gb_d[gb_d['rebill_rule'].isin(['Y1', 'Y2', 'Y3', 'YM'])]\n",
    "gb_test = gb_test.copy()\n",
    "gb_test.tail(20)"
   ]
  },
  {
   "cell_type": "code",
   "execution_count": null,
   "metadata": {},
   "outputs": [],
   "source": [
    "gb_test.drop(labels='rebill_rule', axis=1,inplace=True)\n",
    "gb_test.tail(20)"
   ]
  },
  {
   "cell_type": "code",
   "execution_count": null,
   "metadata": {},
   "outputs": [],
   "source": [
    "gb_test2 = gb_test.groupby(['curr', 'BU', 'period']).sum()"
   ]
  },
  {
   "cell_type": "code",
   "execution_count": null,
   "metadata": {},
   "outputs": [],
   "source": [
    "gb_test2.tail(20)"
   ]
  },
  {
   "cell_type": "code",
   "execution_count": null,
   "metadata": {},
   "outputs": [],
   "source": [
    "gb_test2.info()"
   ]
  },
  {
   "cell_type": "code",
   "execution_count": null,
   "metadata": {},
   "outputs": [],
   "source": [
    "gb_d_mthly = gb_d[gb_d['rebill_rule'].isin(['Y1', 'Y2', 'Y3', 'YM'])].copy()\n",
    "gb_d_mthly.drop(labels='rebill_rule', axis=1,inplace=True)\n",
    "gb_d_mthly = gb_d_mthly.groupby(['curr', 'BU', 'period']).sum()\n",
    "gb_d_mthly.tail(20)"
   ]
  },
  {
   "cell_type": "code",
   "execution_count": null,
   "metadata": {},
   "outputs": [],
   "source": [
    "gb_d_mthly.info()"
   ]
  },
  {
   "cell_type": "code",
   "execution_count": null,
   "metadata": {},
   "outputs": [],
   "source": [
    "gb_2 = gb_d_mthly.copy()\n",
    "gb_2.head(10)"
   ]
  },
  {
   "cell_type": "code",
   "execution_count": null,
   "metadata": {},
   "outputs": [],
   "source": [
    "gb_2.reset_index(inplace=True)\n",
    "gb_2.head(10)"
   ]
  },
  {
   "cell_type": "code",
   "execution_count": null,
   "metadata": {},
   "outputs": [],
   "source": [
    "gb_d.head(10)"
   ]
  },
  {
   "cell_type": "code",
   "execution_count": null,
   "metadata": {},
   "outputs": [],
   "source": []
  },
  {
   "cell_type": "code",
   "execution_count": null,
   "metadata": {},
   "outputs": [],
   "source": []
  },
  {
   "cell_type": "code",
   "execution_count": null,
   "metadata": {},
   "outputs": [],
   "source": [
    "gb_d_qtrly.tail(20)"
   ]
  },
  {
   "cell_type": "code",
   "execution_count": null,
   "metadata": {},
   "outputs": [],
   "source": []
  },
  {
   "cell_type": "markdown",
   "metadata": {},
   "source": [
    "def join_new_dataframe(old_df, new_df, new_column):\n",
    "    df_joined = old_df.join(new_df, how='outer')\n",
    "    df_joined.rename(index=str, columns={'DC_amount': new_column+'_DC', 'US_amount': new_column+'_US'}, inplace=True)\n",
    "    df_joined.fillna(value=0, inplace=True)\n",
    "    \n",
    "    #need to drop the product configtype id for merges where the new_df is of type A\n",
    "    config_str = 'config'\n",
    "    rule_str = 'rebill_rule'\n",
    "    if config_str in df_joined.columns:\n",
    "        df_joined.drop(columns=['config'], inplace=True)\n",
    "    \n",
    "    if rule_str in df_joined.columns:\n",
    "        df_joined.drop(columns=['rebill_rule'], inplace=True)\n",
    "        \n",
    "    return df_joined\n"
   ]
  },
  {
   "cell_type": "markdown",
   "metadata": {},
   "source": [
    "def join_all_dataframes(list_df, list_columns):\n",
    "    for i, df in enumerate(list_df):\n",
    "        print('This is i:', i)\n",
    "        print('referencing the column: ', list_columns[i])\n",
    "        #print(df.columns)\n",
    "        # setting the index to be 'curr', 'BU' and 'period'\n",
    "        df.set_index(['curr', 'BU', 'period'], drop=True, inplace=True, verify_integrity=True)\n",
    "        print(df.head(4))\n",
    "        #if i==0:\n",
    "            #df_joined = df.copy()\n",
    "            #df_joined = list_df[0].copy()\n",
    "            #df_joined.rename(index=str, columns={'DC_amount': list_columns[i]+'_DC', \n",
    "            #                                     'US_amount': list_columns[i]+'_US'}, inplace=True)\n",
    "        #else:\n",
    "            #df_joined = join_new_dataframe(df_joined, df, list_columns[i])\n",
    "\n",
    "    #return df_joined\n",
    "    x=1\n",
    "    return x "
   ]
  },
  {
   "cell_type": "code",
   "execution_count": null,
   "metadata": {},
   "outputs": [],
   "source": []
  }
 ],
 "metadata": {
  "kernelspec": {
   "display_name": "Python 3",
   "language": "python",
   "name": "python3"
  },
  "language_info": {
   "codemirror_mode": {
    "name": "ipython",
    "version": 3
   },
   "file_extension": ".py",
   "mimetype": "text/x-python",
   "name": "python",
   "nbconvert_exporter": "python",
   "pygments_lexer": "ipython3",
   "version": "3.7.3"
  }
 },
 "nbformat": 4,
 "nbformat_minor": 2
}
