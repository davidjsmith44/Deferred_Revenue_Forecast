{
 "cells": [
  {
   "cell_type": "code",
   "execution_count": null,
   "metadata": {},
   "outputs": [],
   "source": [
    "input_dict = {'path_to_data': '../data/Data_2020_P06/',\n",
    "             'billings': 'all_billings_inputs.xlsx',\n",
    "             }"
   ]
  },
  {
   "cell_type": "code",
   "execution_count": null,
   "metadata": {},
   "outputs": [],
   "source": [
    "billings_dict = {'filename': 'all_billings_inputs.xlsx',\n",
    "                'base_tab': 'base_billings',\n",
    "                'type_A_tab': 'type_A_no_config'}"
   ]
  },
  {
   "cell_type": "code",
   "execution_count": null,
   "metadata": {},
   "outputs": [],
   "source": [
    "billings_dict"
   ]
  },
  {
   "cell_type": "code",
   "execution_count": 1,
   "metadata": {},
   "outputs": [],
   "source": [
    "input_dict = {'path_to_data': '../data/Data_2020_P06/',\n",
    "             'billings': {'filename': 'all_billings_inputs.xlsx',\n",
    "                'base_sheetname': 'base_billings',\n",
    "                'type_A_sheetname': 'type_A_no_config'},\n",
    "              'bookings': {'filename': '2020_bookings_fcst_Q2.xlsx',\n",
    "                'sheetname': 'source'},\n",
    "              'FX_forwards': {'filename': 'FX_forward_rates.xlsx',\n",
    "                             'sheetname': 'forward_data'},\n",
    "              'FX_rates': {'filename': 'FX_forward_rates.xlsx',\n",
    "                              'sheetname': 'to_matlab'}\n",
    "                            }\n"
   ]
  },
  {
   "cell_type": "code",
   "execution_count": null,
   "metadata": {},
   "outputs": [],
   "source": [
    "bookings_dict = {'filename': '2020_bookings_fcst_Q2.xlsx',\n",
    "                'sheetname': 'source'}\n"
   ]
  },
  {
   "cell_type": "code",
   "execution_count": 2,
   "metadata": {},
   "outputs": [
    {
     "data": {
      "text/plain": [
       "{'path_to_data': '../data/Data_2020_P06/',\n",
       " 'billings': {'filename': 'all_billings_inputs.xlsx',\n",
       "  'base_sheetname': 'base_billings',\n",
       "  'type_A_sheetname': 'type_A_no_config'},\n",
       " 'bookings': {'filename': '2020_bookings_fcst_Q2.xlsx', 'sheetname': 'source'},\n",
       " 'FX_forwards': {'filename': 'FX_forward_rates.xlsx',\n",
       "  'sheetname': 'forward_data'},\n",
       " 'FX_rates': {'filename': 'FX_forward_rates.xlsx', 'sheetname': 'to_matlab'}}"
      ]
     },
     "execution_count": 2,
     "metadata": {},
     "output_type": "execute_result"
    }
   ],
   "source": [
    "input_dict"
   ]
  },
  {
   "cell_type": "code",
   "execution_count": null,
   "metadata": {},
   "outputs": [],
   "source": []
  },
  {
   "cell_type": "code",
   "execution_count": 3,
   "metadata": {},
   "outputs": [],
   "source": [
    "a = input_dict['billings']['filename']"
   ]
  },
  {
   "cell_type": "code",
   "execution_count": 4,
   "metadata": {},
   "outputs": [
    {
     "data": {
      "text/plain": [
       "'all_billings_inputs.xlsx'"
      ]
     },
     "execution_count": 4,
     "metadata": {},
     "output_type": "execute_result"
    }
   ],
   "source": [
    "a"
   ]
  },
  {
   "cell_type": "code",
   "execution_count": 6,
   "metadata": {},
   "outputs": [
    {
     "data": {
      "text/plain": [
       "'../data/Data_2020_P06/'"
      ]
     },
     "execution_count": 6,
     "metadata": {},
     "output_type": "execute_result"
    }
   ],
   "source": [
    "input_dict['path_to_data']"
   ]
  },
  {
   "cell_type": "code",
   "execution_count": null,
   "metadata": {},
   "outputs": [],
   "source": [
    "whos"
   ]
  },
  {
   "cell_type": "code",
   "execution_count": null,
   "metadata": {},
   "outputs": [],
   "source": []
  }
 ],
 "metadata": {
  "kernelspec": {
   "display_name": "Python 3.7.3 64-bit ('base': conda)",
   "language": "python",
   "name": "python37364bitbasecondaf40c37e8e9dd45c89e043b248b661bde"
  },
  "language_info": {
   "codemirror_mode": {
    "name": "ipython",
    "version": 3
   },
   "file_extension": ".py",
   "mimetype": "text/x-python",
   "name": "python",
   "nbconvert_exporter": "python",
   "pygments_lexer": "ipython3",
   "version": "3.7.3"
  }
 },
 "nbformat": 4,
 "nbformat_minor": 2
}
