{
 "cells": [
  {
   "cell_type": "markdown",
   "metadata": {},
   "source": [
    "# Creating charts in Bokeh\n"
   ]
  },
  {
   "cell_type": "code",
   "execution_count": null,
   "metadata": {},
   "outputs": [],
   "source": []
  },
  {
   "cell_type": "code",
   "execution_count": null,
   "metadata": {},
   "outputs": [],
   "source": [
    "from bokeh.plotting import figure, output_file, show, ColumnDataSource\n",
    "# ColumnDataSource allows you to do tool tips and other things"
   ]
  },
  {
   "cell_type": "code",
   "execution_count": null,
   "metadata": {},
   "outputs": [],
   "source": [
    "# What the hell do I do now????\n",
    "# Is it bokeh time????\n",
    "this_BU = 'Creative'\n",
    "this_curr = 'USD'\n",
    "this_slice = df_billings[(df_billings['BU']==this_BU)&\n",
    "                        (df_billings['curr']==this_curr)].copy()\n",
    "\n",
    "# Create ColumnDataSource from dataframe\n",
    "source = ColumnDataSource(this_slice)\n",
    "\n",
    "x_ticks = this_slice['period']\n",
    "y = this_slice['recognized_DC']\n",
    "x = np.arange(len(y))\n",
    "\n"
   ]
  },
  {
   "cell_type": "code",
   "execution_count": null,
   "metadata": {},
   "outputs": [],
   "source": [
    "\n",
    "\n",
    "\n",
    "output_file('index.html')\n",
    "\n",
    "# add plot\n",
    "p = figure(\n",
    "    title='Creative Recognized Billings in USD',\n",
    "    \n",
    "    plot_width = 800,\n",
    "    plot_height = 600,\n",
    "    x_axis_label='Period',\n",
    "    y_axis_label = 'Billings',\n",
    "    tools = \"pan, box_select, zoom_in, zoom_out, save, reset\"\n",
    ")\n",
    "\n",
    "# render the graph\n",
    "p.line(y = 'recognized_DC',\n",
    "       x = 'index',\n",
    "       legend='test',\n",
    "       line_width=2,\n",
    "       color = 'orange',\n",
    "       source = source)\n",
    "\n",
    "#show results\n",
    "show(p)"
   ]
  },
  {
   "cell_type": "code",
   "execution_count": null,
   "metadata": {},
   "outputs": [],
   "source": [
    "# from bokeh web site\n",
    "'''import numpy as np\n",
    "\n",
    "from bokeh.io import curdoc, show\n",
    "from bokeh.models import ColumnDataSource, Grid, Line, LinearAxis, Plot\n",
    "\n",
    "N = 30\n",
    "x = np.linspace(-2, 2, N)\n",
    "y = x**2\n",
    "\n",
    "source = ColumnDataSource(dict(x=x, y=y))\n",
    "\n",
    "plot = Plot(\n",
    "    title=None, plot_width=300, plot_height=300,\n",
    "    min_border=0, toolbar_location=None)\n",
    "\n",
    "glyph = Line(x=\"x\", y=\"y\", line_color=\"#f46d43\", line_width=6, line_alpha=0.6)\n",
    "plot.add_glyph(source, glyph)\n",
    "\n",
    "xaxis = LinearAxis()\n",
    "plot.add_layout(xaxis, 'below')\n",
    "\n",
    "yaxis = LinearAxis()\n",
    "plot.add_layout(yaxis, 'left')\n",
    "\n",
    "plot.add_layout(Grid(dimension=0, ticker=xaxis.ticker))\n",
    "plot.add_layout(Grid(dimension=1, ticker=yaxis.ticker))\n",
    "\n",
    "curdoc().add_root(plot)\n",
    "\n",
    "show(plot)\n",
    "'''"
   ]
  },
  {
   "cell_type": "code",
   "execution_count": null,
   "metadata": {},
   "outputs": [],
   "source": []
  }
 ],
 "metadata": {
  "kernelspec": {
   "display_name": "Python 3.7.3 64-bit ('base': conda)",
   "language": "python",
   "name": "python37364bitbasecondaf40c37e8e9dd45c89e043b248b661bde"
  },
  "language_info": {
   "codemirror_mode": {
    "name": "ipython",
    "version": 3
   },
   "file_extension": ".py",
   "mimetype": "text/x-python",
   "name": "python",
   "nbconvert_exporter": "python",
   "pygments_lexer": "ipython3",
   "version": "3.7.3"
  }
 },
 "nbformat": 4,
 "nbformat_minor": 2
}
