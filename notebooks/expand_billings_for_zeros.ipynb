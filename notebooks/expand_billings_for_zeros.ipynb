{
 "cells": [
  {
   "cell_type": "markdown",
   "metadata": {},
   "source": [
    "## Attempting to add every historical period to the dataset for all currencies and BUs so that we can do the forecast easier."
   ]
  },
  {
   "cell_type": "code",
   "execution_count": 1,
   "metadata": {},
   "outputs": [],
   "source": [
    "import pandas as pd\n",
    "import numpy as np\n",
    "import matplotlib.pyplot as plt\n",
    "%matplotlib inline\n",
    "\n",
    "import pickle"
   ]
  },
  {
   "cell_type": "code",
   "execution_count": 2,
   "metadata": {},
   "outputs": [],
   "source": [
    "input_df_dict = pickle.load(open('../data/processed/all_inputs.p', 'rb'))\n",
    "\n",
    "df_billings = input_df_dict['billings']\n",
    "df_cal = input_df_dict['ADBE_cal']\n",
    "df_bookings = input_df_dict['bookings']\n",
    "df_FX_fwds  = input_df_dict['FX_forwards']\n",
    "df_FX_rates = input_df_dict['FX_rates']"
   ]
  },
  {
   "cell_type": "code",
   "execution_count": 3,
   "metadata": {},
   "outputs": [
    {
     "name": "stdout",
     "output_type": "stream",
     "text": [
      "4096\n"
     ]
    }
   ],
   "source": [
    "print(len(df_billings))"
   ]
  },
  {
   "cell_type": "code",
   "execution_count": 4,
   "metadata": {},
   "outputs": [],
   "source": [
    "def add_billings_periods(df_billings):\n",
    "    # clean up billings by removing LiveCycle and other solutions\n",
    "    index_lc = df_billings[df_billings['BU']=='LiveCycle'].index\n",
    "    df_billings.drop(index_lc, inplace=True)\n",
    "\n",
    "    index_other = df_billings[df_billings['BU']=='Other Solutions'].index\n",
    "    df_billings.drop(index_other, inplace=True)\n",
    "\n",
    "    \n",
    "    all_BU = df_billings['BU'].unique()\n",
    "    all_curr = df_billings['curr'].unique()\n",
    "\n",
    "    all_periods = df_billings['period'].unique()\n",
    "    all_periods = np.sort(all_periods)\n",
    "    all_periods = all_periods[-36:]\n",
    "\n",
    "\n",
    "    list_new_BUs = []\n",
    "    list_new_currs = []\n",
    "    list_new_periods = []\n",
    "\n",
    "    for this_BU in all_BU:\n",
    "\n",
    "        for this_curr in all_curr:\n",
    "\n",
    "            df_slice = df_billings[(df_billings['BU']== this_BU)&\n",
    "                                   (df_billings['curr']==this_curr)].copy()\n",
    "\n",
    "            list_periods = df_slice['period'].unique()\n",
    "            set_periods = set(list_periods)\n",
    "            set_all = set(all_periods)\n",
    "\n",
    "            periods_missing = set_all.difference(set_periods)\n",
    "\n",
    "            for i in periods_missing:\n",
    "                list_new_periods.append(i)\n",
    "                list_new_currs.append(this_curr)\n",
    "                list_new_BUs.append(this_BU)\n",
    "\n",
    "\n",
    "    df_to_add = pd.DataFrame({'curr': list_new_currs, \n",
    "                              'BU': list_new_BUs,\n",
    "                              'period': list_new_periods})\n",
    "\n",
    "    df_billings_check = pd.concat([df_billings, df_to_add], sort=False)\n",
    "\n",
    "    df_billings_check = df_billings_check.fillna(0)\n",
    "\n",
    "    df_billings = df_billings_check.copy()\n",
    "    \n",
    "    df_billings=df_billings.sort_values(['curr', 'BU', 'period'], ascending = (True, True, True))\n",
    "\n",
    "    return df_billings\n"
   ]
  },
  {
   "cell_type": "code",
   "execution_count": 7,
   "metadata": {},
   "outputs": [],
   "source": [
    "df_billings = add_billings_periods(df_billings)\n"
   ]
  },
  {
   "cell_type": "code",
   "execution_count": 8,
   "metadata": {},
   "outputs": [
    {
     "name": "stdout",
     "output_type": "stream",
     "text": [
      "6413\n"
     ]
    }
   ],
   "source": [
    "print(len(df_billings))"
   ]
  },
  {
   "cell_type": "code",
   "execution_count": null,
   "metadata": {},
   "outputs": [],
   "source": [
    "df_billings.sample(20)"
   ]
  },
  {
   "cell_type": "code",
   "execution_count": null,
   "metadata": {},
   "outputs": [],
   "source": []
  },
  {
   "cell_type": "code",
   "execution_count": null,
   "metadata": {},
   "outputs": [],
   "source": []
  }
 ],
 "metadata": {
  "kernelspec": {
   "display_name": "Python 3.7.3 64-bit ('base': conda)",
   "language": "python",
   "name": "python37364bitbasecondaf40c37e8e9dd45c89e043b248b661bde"
  },
  "language_info": {
   "codemirror_mode": {
    "name": "ipython",
    "version": 3
   },
   "file_extension": ".py",
   "mimetype": "text/x-python",
   "name": "python",
   "nbconvert_exporter": "python",
   "pygments_lexer": "ipython3",
   "version": "3.7.3"
  }
 },
 "nbformat": 4,
 "nbformat_minor": 2
}
