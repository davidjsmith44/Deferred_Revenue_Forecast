{
 "cells": [
  {
   "cell_type": "markdown",
   "metadata": {},
   "source": [
    "# Deferred Revenue Forecast COVID\n",
    "\n",
    "This jupyter notebook contains the details Adobe's deferred revenue forecast model in a more readable, easy to understand format.\n",
    "\n",
    "The program is run from python directly (versus using a notebook like we have here) and the details are available on my github page www.github.com/davidjsmith44/Deferred_Revenue_Forecast\n",
    "Note: You will need me to give you access to this repository as it is not public\n",
    "\n",
    "<b>This is bold text </b>\n",
    "\n",
    "<i>Italic Text </i>\n",
    "\n",
    "<blockquote> This is where I have my blockquote text. It will all be indented to make it easier to read </blockquote>\n",
    "\n",
    "This is not blockquote, but below is a horizontal line\n",
    "___\n",
    "\n",
    "<b> Step 1: Process the Base Billings Data </B>\n",
    "\n",
    "\n",
    "Steps to the program\n",
    "1. Load up all input data\n",
    "    - billings history\n",
    "        - Type A\n",
    "    - FX rates\n",
    "    - FX_currency map\n",
    "    - FX forwards\n",
    "    - bookings data\n",
    " \n",
    " \n",
    " 2. Process the billings data into a dataframe that includes the BU, currency, period and every type of billings based on it's rebill frequency\n",
    " \n",
    " 3. Process the bookings information\n",
    "\n",
    "4. Forecast the future billings\n",
    "\n",
    "5. Basic reporting documents\n",
    "\n",
    "6. Checking for sanity\n",
    "\n",
    "\n",
    "NOTE: If you plan on using a Jupyter Notebook to run the Deferred Revenue Forecast, you must first download all of the input data to your local directory. I do not yet know how to use a Jupyter Notebook and access data off of the Treasury server.\n",
    "\n",
    "The input data sits on the Treasury server under Treasury\\Financial_Database\\Deferred_Revenue\\Inputs\\Data_YYYY_pMM\n",
    "\n",
    "There will be 6 files located at this directory that need to be copied to your local drive (preferably where you have installed Anaconda) under a directory called data"
   ]
  },
  {
   "cell_type": "markdown",
   "metadata": {},
   "source": [
    "## Code Begins here\n",
    "Below are standard import statements to include all the functionality of numpy, pandas, matplotlib, pickle and a linear regression moodel from sklearn."
   ]
  },
  {
   "cell_type": "code",
   "execution_count": 1,
   "metadata": {},
   "outputs": [],
   "source": [
    "import numpy as np\n",
    "import pandas as pd\n",
    "import matplotlib.pyplot as plt\n",
    "plt.style.use('ggplot')\n",
    "%matplotlib inline\n",
    "\n",
    "import pickle\n",
    "from math import ceil\n",
    "from sklearn.linear_model import LinearRegression\n",
    "from scipy.interpolate import interp1d, griddata"
   ]
  },
  {
   "cell_type": "markdown",
   "metadata": {},
   "source": [
    "## Step 1: Processing Base Billings Data\n",
    "\n",
    "The billings data comes from tableau and is saved in a file \"all_billings_inputs.xlsx\" with two sheets of information\n",
    "\n",
    "\"base_billings\"\n",
    "Contains the basic information about all of the billings"
   ]
  },
  {
   "cell_type": "code",
   "execution_count": 2,
   "metadata": {},
   "outputs": [],
   "source": [
    "df = pd.read_excel('../data/Data_2020_P03/all_billings_inputs_COVID.xlsx', sheet_name='base_billings')"
   ]
  },
  {
   "cell_type": "markdown",
   "metadata": {},
   "source": [
    "###### Changing the column names early since they are inconsistent across other reports"
   ]
  },
  {
   "cell_type": "code",
   "execution_count": 3,
   "metadata": {},
   "outputs": [],
   "source": [
    "df.rename(index = str, columns = {'Document Currency': 'curr',\n",
    "                                 'Enterprise BU Desc': 'BU',\n",
    "                                 'Invoice Fiscal Year Period Desc': 'period',\n",
    "                                 'Product Config Type': 'config',\n",
    "                                 'Rev Rec Category': 'rev_req_type',\n",
    "                                 'Rule For Bill Date': 'rebill_rule',\n",
    "                                 'Completed Sales ( DC )': 'DC_amount',\n",
    "                                 'Completed Sales': 'US_amount'}, inplace=True)"
   ]
  },
  {
   "cell_type": "markdown",
   "metadata": {},
   "source": [
    "### To inspect the dataframe we just loaded, you can remove the '#' symbol from the rows below. The # symbol makes the line of code a comment (so the program will not read and execute that line of code). Removing the # will make the line executable and display the results\n",
    "\n",
    "The df.head(5) command will show the first 5 rows of the billings dataframe. To run this, simply remove the # before this line\n",
    " \n",
    "The df.tail(5) command will show the last 5 rows of the billings dataframe. To run this, simply remove the # before this line\n",
    "\n",
    "The df.sample(5) command will show a random 5 rows of the rec dataframe. To run this, simply remove the # before this line\n",
    "\n",
    "Note 1: Only one of these commands can be entered in a single code cell at a time. (So if you remove 2 of the #, only one of the commands will be displayed.\n",
    "\n",
    "Note 2: The 5 can also be changed, but I think it caps out at 100. For example df.head(30) will show the first 30 rows of the billings dataframe.\n",
    "\n",
    "Note 3: The code must sit on the far leftmost column of the code window. If there is a space it will cause an error."
   ]
  },
  {
   "cell_type": "code",
   "execution_count": 6,
   "metadata": {},
   "outputs": [
    {
     "data": {
      "text/html": [
       "<div>\n",
       "<style scoped>\n",
       "    .dataframe tbody tr th:only-of-type {\n",
       "        vertical-align: middle;\n",
       "    }\n",
       "\n",
       "    .dataframe tbody tr th {\n",
       "        vertical-align: top;\n",
       "    }\n",
       "\n",
       "    .dataframe thead th {\n",
       "        text-align: right;\n",
       "    }\n",
       "</style>\n",
       "<table border=\"1\" class=\"dataframe\">\n",
       "  <thead>\n",
       "    <tr style=\"text-align: right;\">\n",
       "      <th></th>\n",
       "      <th>curr</th>\n",
       "      <th>BU</th>\n",
       "      <th>Frequency</th>\n",
       "      <th>period</th>\n",
       "      <th>config</th>\n",
       "      <th>rev_req_type</th>\n",
       "      <th>rebill_rule</th>\n",
       "      <th>Sales Type</th>\n",
       "      <th>Subscription Term</th>\n",
       "      <th>DC_amount</th>\n",
       "      <th>US_amount</th>\n",
       "    </tr>\n",
       "  </thead>\n",
       "  <tbody>\n",
       "    <tr>\n",
       "      <th>1883</th>\n",
       "      <td>HKD</td>\n",
       "      <td>Document Cloud</td>\n",
       "      <td>NaN</td>\n",
       "      <td>2020-06</td>\n",
       "      <td>NaN</td>\n",
       "      <td>D</td>\n",
       "      <td>YA</td>\n",
       "      <td>DEFERRED</td>\n",
       "      <td>12</td>\n",
       "      <td>38416.00</td>\n",
       "      <td>4956.12</td>\n",
       "    </tr>\n",
       "    <tr>\n",
       "      <th>41</th>\n",
       "      <td>ARS</td>\n",
       "      <td>Document Cloud</td>\n",
       "      <td>NaN</td>\n",
       "      <td>2020-04</td>\n",
       "      <td>NaN</td>\n",
       "      <td>D</td>\n",
       "      <td>YA</td>\n",
       "      <td>DEFERRED</td>\n",
       "      <td>12</td>\n",
       "      <td>280360.00</td>\n",
       "      <td>4474.40</td>\n",
       "    </tr>\n",
       "    <tr>\n",
       "      <th>3251</th>\n",
       "      <td>TRY</td>\n",
       "      <td>Document Cloud</td>\n",
       "      <td>NaN</td>\n",
       "      <td>2020-06</td>\n",
       "      <td>NaN</td>\n",
       "      <td>D</td>\n",
       "      <td>NaN</td>\n",
       "      <td>DEFERRED</td>\n",
       "      <td>12</td>\n",
       "      <td>-376.81</td>\n",
       "      <td>-53.43</td>\n",
       "    </tr>\n",
       "    <tr>\n",
       "      <th>2866</th>\n",
       "      <td>RUB</td>\n",
       "      <td>Creative</td>\n",
       "      <td>NaN</td>\n",
       "      <td>2020-06</td>\n",
       "      <td>MTHLY</td>\n",
       "      <td>D</td>\n",
       "      <td>NaN</td>\n",
       "      <td>DEFERRED</td>\n",
       "      <td>1</td>\n",
       "      <td>-97183.61</td>\n",
       "      <td>-1299.78</td>\n",
       "    </tr>\n",
       "    <tr>\n",
       "      <th>859</th>\n",
       "      <td>DKK</td>\n",
       "      <td>Creative</td>\n",
       "      <td>NaN</td>\n",
       "      <td>2020-04</td>\n",
       "      <td>NaN</td>\n",
       "      <td>D</td>\n",
       "      <td>Y3</td>\n",
       "      <td>DEFERRED</td>\n",
       "      <td>1</td>\n",
       "      <td>8000.00</td>\n",
       "      <td>1185.23</td>\n",
       "    </tr>\n",
       "  </tbody>\n",
       "</table>\n",
       "</div>"
      ],
      "text/plain": [
       "     curr              BU Frequency   period config rev_req_type rebill_rule  \\\n",
       "1883  HKD  Document Cloud       NaN  2020-06    NaN            D          YA   \n",
       "41    ARS  Document Cloud       NaN  2020-04    NaN            D          YA   \n",
       "3251  TRY  Document Cloud       NaN  2020-06    NaN            D         NaN   \n",
       "2866  RUB        Creative       NaN  2020-06  MTHLY            D         NaN   \n",
       "859   DKK        Creative       NaN  2020-04    NaN            D          Y3   \n",
       "\n",
       "     Sales Type  Subscription Term  DC_amount  US_amount  \n",
       "1883   DEFERRED                 12   38416.00    4956.12  \n",
       "41     DEFERRED                 12  280360.00    4474.40  \n",
       "3251   DEFERRED                 12    -376.81     -53.43  \n",
       "2866   DEFERRED                  1  -97183.61   -1299.78  \n",
       "859    DEFERRED                  1    8000.00    1185.23  "
      ]
     },
     "execution_count": 6,
     "metadata": {},
     "output_type": "execute_result"
    }
   ],
   "source": [
    "#df.head(5)\n",
    "#df.tail(5)\n",
    "df.sample(5)"
   ]
  },
  {
   "cell_type": "markdown",
   "metadata": {},
   "source": [
    "### Filtering out any currency that has  < 10 transactions. \n",
    "###### To see the list of currencies and how any times they appear in the billings database remove the # before the print(vc) statement"
   ]
  },
  {
   "cell_type": "code",
   "execution_count": 7,
   "metadata": {},
   "outputs": [],
   "source": [
    "# creates a list of the currencies and the number of transactions for each currency\n",
    "vc = df['curr'].value_counts()\n",
    "#print(vc)\n",
    "\n",
    "#Create variable that is true if the number of transaction is greater than 10, false otherwise\n",
    "keep_these = vc.values > 10\n",
    "# filtering only currencies that were greater than 10\n",
    "keep_curr = vc[keep_these]\n",
    "a = keep_curr.index"
   ]
  },
  {
   "cell_type": "markdown",
   "metadata": {},
   "source": [
    "#### Just keeping track of the currencies we removed in our model_dict data structure"
   ]
  },
  {
   "cell_type": "code",
   "execution_count": 8,
   "metadata": {},
   "outputs": [
    {
     "name": "stdout",
     "output_type": "stream",
     "text": [
      "{'curr_removed': ['OMR', 'NZD']}\n"
     ]
    }
   ],
   "source": [
    "remove_these = vc[vc.values <= 10].index\n",
    "model_dict = {'curr_removed': list(vc[remove_these].index)}\n",
    "delete_curr = list(remove_these)\n",
    "print(model_dict)"
   ]
  },
  {
   "cell_type": "markdown",
   "metadata": {},
   "source": [
    "#### The FX database does not have information on the following currencies\n",
    " - AED (United Arab Emirates Dirham)\n",
    " - BMD (Bermudan Dollar)\n",
    " - MXP (Mexican Peso)\n",
    " - TRY (Turkish Lira)\n",
    " \n",
    " Below we are adding the Turkish Lira to our list of currencies that should be removed from the dataframe"
   ]
  },
  {
   "cell_type": "code",
   "execution_count": 9,
   "metadata": {},
   "outputs": [],
   "source": [
    "if 'TRY' not in model_dict['curr_removed']:\n",
    "    model_dict['curr_removed'].append('TRY')\n",
    "    delete_curr.append('TRY')\n",
    "    a = a.drop('TRY')\n"
   ]
  },
  {
   "cell_type": "markdown",
   "metadata": {},
   "source": [
    "###### Clearing out the infrequent currencies from our billings data"
   ]
  },
  {
   "cell_type": "code",
   "execution_count": 10,
   "metadata": {},
   "outputs": [
    {
     "name": "stdout",
     "output_type": "stream",
     "text": [
      "Model dictionary {'curr_removed': ['OMR', 'NZD', 'TRY']}\n"
     ]
    }
   ],
   "source": [
    "df = df[df['curr'].isin(a)]\n",
    "\n",
    "print('Model dictionary', model_dict)"
   ]
  },
  {
   "cell_type": "code",
   "execution_count": 11,
   "metadata": {},
   "outputs": [
    {
     "name": "stdout",
     "output_type": "stream",
     "text": [
      "---Removing infrequent currencies from billings history---\n",
      "Total number of currencies in the base billings file:  35\n",
      "\n",
      " Currencies were removed:  3\n",
      "OMR , NZD , \n",
      "\n",
      "32 Remaining currencies: \n",
      "USD , EUR , GBP , AUD , JPY , CHF , DKK , SEK , NOK , BRL , HKD , SGD , RUB , KRW , INR , CLP , CAD , PHP , TWD , COP , ARS , PEN , THB , MYR , IDR , ILS , SAR , KWD , BHD , JOD , LBP , EGP , "
     ]
    }
   ],
   "source": [
    "print(\"---Removing infrequent currencies from billings history---\")\n",
    "print('Total number of currencies in the base billings file: ', len(vc))\n",
    "if len(model_dict['curr_removed'])==0:\n",
    "    print('No currencies were removed, all contained 10 or more billings')\n",
    "    print('Currencies in the base billings file')\n",
    "    for item in a:\n",
    "        print(a[item], end = \" \")\n",
    "else:\n",
    "    print('\\n Currencies were removed: ', len(model_dict['curr_removed']))\n",
    "\n",
    "    for item in remove_these:\n",
    "        print(item, ', ', end=\"\")\n",
    "        \n",
    "    print(\"\\n\\n{} Remaining currencies: \".format(len(a)))\n",
    "    for item in a:\n",
    "        print(item, ', ', end=\"\")"
   ]
  },
  {
   "cell_type": "markdown",
   "metadata": {},
   "source": [
    "#### Removing any of the values that are zero"
   ]
  },
  {
   "cell_type": "code",
   "execution_count": 12,
   "metadata": {},
   "outputs": [
    {
     "name": "stdout",
     "output_type": "stream",
     "text": [
      "This is the length of the dataframe before removing zeros:  3987\n",
      "This is the length of the dataframe after removing zeros:  3866\n"
     ]
    }
   ],
   "source": [
    "print('This is the length of the dataframe before removing zeros: ', len(df))\n",
    "df = df[df['DC_amount']!=0]\n",
    "print('This is the length of the dataframe after removing zeros: ', len(df))"
   ]
  },
  {
   "cell_type": "code",
   "execution_count": 13,
   "metadata": {},
   "outputs": [],
   "source": [
    "#df.head(10)\n",
    "#df.tail(10)\n",
    "#df.sample(10)"
   ]
  },
  {
   "cell_type": "markdown",
   "metadata": {},
   "source": [
    "#### Clearing out the Non-Revenue billings from the file\n",
    " "
   ]
  },
  {
   "cell_type": "code",
   "execution_count": 14,
   "metadata": {},
   "outputs": [
    {
     "data": {
      "text/plain": [
       "DEFERRED       3493\n",
       "RECOGNIZED      298\n",
       "PRO-SVC-INV      51\n",
       "NON-REV          16\n",
       "Name: Sales Type, dtype: int64"
      ]
     },
     "execution_count": 14,
     "metadata": {},
     "output_type": "execute_result"
    }
   ],
   "source": [
    "df[\"Sales Type\"].value_counts()"
   ]
  },
  {
   "cell_type": "code",
   "execution_count": 15,
   "metadata": {},
   "outputs": [
    {
     "name": "stdout",
     "output_type": "stream",
     "text": [
      "Length of the dataframe before removing non-revenue billings:  3866\n",
      "Length of the dataframe after removing non-revenue billings:   3850\n"
     ]
    }
   ],
   "source": [
    "print('Length of the dataframe before removing non-revenue billings: ', len(df))\n",
    "df = df[df['Sales Type']!='NON-REV']\n",
    "print('Length of the dataframe after removing non-revenue billings:  ', len(df))"
   ]
  },
  {
   "cell_type": "markdown",
   "metadata": {},
   "source": [
    "\n",
    "## Grouping the billings by sales type"
   ]
  },
  {
   "cell_type": "markdown",
   "metadata": {},
   "source": [
    "Grouping the data by the <b> Sales Type </b> field\n",
    " - <i>'RECOGNIZED'</i> sales are perpetual and go straight to revenue without hitting deferred \n",
    " - <i>'PRO-SVC-INV'</i> professional services that are invoiced and go to revenue directly when invoiced\n",
    " - <i>'DEFERRED'</i> sales that will sit on the balance sheet in deferred revenue and amortize over their life\n",
    " \n",
    " #### Below we are creating a seperate dataframe for each of the Sales Types\n"
   ]
  },
  {
   "cell_type": "code",
   "execution_count": 16,
   "metadata": {},
   "outputs": [
    {
     "name": "stdout",
     "output_type": "stream",
     "text": [
      "Total number of billings:               3850\n",
      "Number of recognized revenue billings:  298\n",
      "Number of service invoiced billings:    51\n",
      "Number of deferred revenue billings:    3493\n"
     ]
    }
   ],
   "source": [
    "rec = df[df['Sales Type']=='RECOGNIZED'].copy()\n",
    "svc = df[df['Sales Type']=='PRO-SVC-INV'].copy()\n",
    "dfr = df[df['Sales Type']=='DEFERRED'].copy()\n",
    "\n",
    "print('Total number of billings:              ', len(df))\n",
    "print(\"Number of recognized revenue billings: \", len(rec))\n",
    "print(\"Number of service invoiced billings:   \", len(svc))\n",
    "print(\"Number of deferred revenue billings:   \", len(dfr))"
   ]
  },
  {
   "cell_type": "markdown",
   "metadata": {},
   "source": [
    "### Recognized Revenue\n",
    "\n",
    "The rec.head(5) command will show the first 5 elements of the rec dataframe. To run this, simply remove the # before this line\n",
    " \n",
    "The rec.tail(5) command will show the last 5 elements of the rec dataframe. To run this, simply remove the # before this line\n",
    "\n",
    "The rec.sample(5) command will show the a random 5 elements of the rec dataframe. To run this, simply remove the # before this line\n",
    "\n",
    "Note: Only one of these commands can be entered in a single code cell at a time. \n",
    "\n",
    "Note: The 5 can also be changed, but I think it caps out at 100"
   ]
  },
  {
   "cell_type": "code",
   "execution_count": 17,
   "metadata": {},
   "outputs": [],
   "source": [
    "#rec.head(5)\n",
    "#rec.tail(5)\n",
    "#rec.sample(5)"
   ]
  },
  {
   "cell_type": "markdown",
   "metadata": {},
   "source": [
    "##### Below we are grouping the rec dataframe by Currency, Business Unit and Period and cleaning up the data we do not need. Since the recognized revenue go directly to revenue, there is no contract that will renew and need to be modeled in the future."
   ]
  },
  {
   "cell_type": "code",
   "execution_count": 18,
   "metadata": {},
   "outputs": [],
   "source": [
    "# testing groupby object\n",
    "gb_rec = rec.groupby(['curr', 'BU', 'period'], as_index=False).sum()\n",
    "gb_rec.drop(labels='Subscription Term', axis=1,inplace =True)"
   ]
  },
  {
   "cell_type": "code",
   "execution_count": 19,
   "metadata": {},
   "outputs": [],
   "source": [
    "#gb_rec.head(10)\n",
    "#gb_rec.tail(10)\n",
    "#gb_rec.sample(10)"
   ]
  },
  {
   "cell_type": "markdown",
   "metadata": {},
   "source": [
    "### Service Billings\n",
    "\n",
    "##### Below we are grouping the svc dataframe by Currency, Business Unit and Period and cleaning up the data we do not need. Since the service billings go directly to revenue, there is no contract that will renew and need to be modeled in the future."
   ]
  },
  {
   "cell_type": "code",
   "execution_count": 20,
   "metadata": {},
   "outputs": [],
   "source": [
    "gb_svc = svc.groupby(['curr', 'BU', 'period'], as_index=False).sum()\n",
    "gb_svc.drop(labels='Subscription Term', axis=1,inplace =True)"
   ]
  },
  {
   "cell_type": "code",
   "execution_count": 21,
   "metadata": {},
   "outputs": [],
   "source": [
    "#gb_svc.head(5)\n",
    "#gb_svc.tail(5)\n",
    "#gb_svc.sample(5)"
   ]
  },
  {
   "cell_type": "markdown",
   "metadata": {},
   "source": [
    "### Deffered Billings\n",
    "\n",
    "#### Type B Billings \n",
    "Type B billings are service agreements that will have invoices submitted before the billings are reclassified to revenue. If no invoices are assigned to the billings, the billings become revenue in 12 months. Since these billings do not have a contract that will renew in the future, there is no need to model a rebillings of these service based billings\n"
   ]
  },
  {
   "cell_type": "code",
   "execution_count": 22,
   "metadata": {},
   "outputs": [],
   "source": [
    "dfr_b = dfr[dfr['rev_req_type']=='B'].copy()\n",
    "gb_b = dfr_b.groupby(['curr', 'BU', 'period'], as_index=False).sum()\n",
    "gb_b.drop(labels='Subscription Term', axis=1, inplace=True)"
   ]
  },
  {
   "cell_type": "code",
   "execution_count": 23,
   "metadata": {},
   "outputs": [],
   "source": [
    "#gb_b.head(5)\n",
    "#gb_b.tail(25)\n",
    "#gb_b.sample(5)"
   ]
  },
  {
   "cell_type": "markdown",
   "metadata": {},
   "source": [
    "#### Type A Billings\n",
    "\n",
    "These billings are on a billing plan. The product config tells us how long before they renew\n",
    "\n",
    " - '3Y' = 36 months\n",
    " - '2Y' = 24 months\n",
    " - '1Y' = 12 months\n",
    " - 'MTHLY' = 1 month\n",
    " \n",
    "NOTE: There are also other fields in the 'Product Configtype ID' field that do not map well to a rebill period.\n",
    "To fix this, we need to load up a different file and determine the length of the sales contract (type A no config)\n"
   ]
  },
  {
   "cell_type": "code",
   "execution_count": 24,
   "metadata": {},
   "outputs": [],
   "source": [
    "dfr_a = dfr[dfr['rev_req_type']=='A'].copy()\n",
    "\n",
    "gb_a = dfr_a.groupby(['curr', 'BU', 'period',\n",
    "                     'config'], as_index=False).sum()\n",
    "gb_a.drop(labels='Subscription Term', axis=1, inplace = True)"
   ]
  },
  {
   "cell_type": "code",
   "execution_count": 25,
   "metadata": {},
   "outputs": [],
   "source": [
    "#gb_a.head(20)\n",
    "#gb_a.tail(20)\n",
    "#gb_a.sample(20)"
   ]
  },
  {
   "cell_type": "code",
   "execution_count": 26,
   "metadata": {},
   "outputs": [
    {
     "data": {
      "text/plain": [
       "1Y       67\n",
       "2Y       30\n",
       "3Y       13\n",
       "MTHLY     6\n",
       "OUNIV     5\n",
       "Name: config, dtype: int64"
      ]
     },
     "execution_count": 26,
     "metadata": {},
     "output_type": "execute_result"
    }
   ],
   "source": [
    "gb_a['config'].value_counts()"
   ]
  },
  {
   "cell_type": "markdown",
   "metadata": {},
   "source": [
    "#### Below is just a check to see how large the billing types are across all periods"
   ]
  },
  {
   "cell_type": "code",
   "execution_count": 27,
   "metadata": {},
   "outputs": [
    {
     "data": {
      "text/html": [
       "<div>\n",
       "<style scoped>\n",
       "    .dataframe tbody tr th:only-of-type {\n",
       "        vertical-align: middle;\n",
       "    }\n",
       "\n",
       "    .dataframe tbody tr th {\n",
       "        vertical-align: top;\n",
       "    }\n",
       "\n",
       "    .dataframe thead th {\n",
       "        text-align: right;\n",
       "    }\n",
       "</style>\n",
       "<table border=\"1\" class=\"dataframe\">\n",
       "  <thead>\n",
       "    <tr style=\"text-align: right;\">\n",
       "      <th></th>\n",
       "      <th>config</th>\n",
       "      <th>DC_amount</th>\n",
       "      <th>US_amount</th>\n",
       "    </tr>\n",
       "  </thead>\n",
       "  <tbody>\n",
       "    <tr>\n",
       "      <th>0</th>\n",
       "      <td>1Y</td>\n",
       "      <td>6.530233e+09</td>\n",
       "      <td>4.244484e+08</td>\n",
       "    </tr>\n",
       "    <tr>\n",
       "      <th>1</th>\n",
       "      <td>2Y</td>\n",
       "      <td>2.768885e+07</td>\n",
       "      <td>9.635676e+05</td>\n",
       "    </tr>\n",
       "    <tr>\n",
       "      <th>2</th>\n",
       "      <td>3Y</td>\n",
       "      <td>1.424745e+08</td>\n",
       "      <td>6.293950e+05</td>\n",
       "    </tr>\n",
       "    <tr>\n",
       "      <th>3</th>\n",
       "      <td>MTHLY</td>\n",
       "      <td>1.574775e+06</td>\n",
       "      <td>1.574775e+06</td>\n",
       "    </tr>\n",
       "    <tr>\n",
       "      <th>4</th>\n",
       "      <td>OUNIV</td>\n",
       "      <td>2.859288e+04</td>\n",
       "      <td>3.043323e+04</td>\n",
       "    </tr>\n",
       "  </tbody>\n",
       "</table>\n",
       "</div>"
      ],
      "text/plain": [
       "  config     DC_amount     US_amount\n",
       "0     1Y  6.530233e+09  4.244484e+08\n",
       "1     2Y  2.768885e+07  9.635676e+05\n",
       "2     3Y  1.424745e+08  6.293950e+05\n",
       "3  MTHLY  1.574775e+06  1.574775e+06\n",
       "4  OUNIV  2.859288e+04  3.043323e+04"
      ]
     },
     "execution_count": 27,
     "metadata": {},
     "output_type": "execute_result"
    }
   ],
   "source": [
    "gb_a_config = gb_a.groupby(['config'], as_index=False).sum()\n",
    "gb_a_config"
   ]
  },
  {
   "cell_type": "markdown",
   "metadata": {},
   "source": [
    "###### These 'OCONS', 'OENSV', 'ONORE' and 'OUNIV' config types are not actual product config IDs so we have to get them from a different data file. We are excluding these types below."
   ]
  },
  {
   "cell_type": "code",
   "execution_count": 28,
   "metadata": {},
   "outputs": [],
   "source": [
    "config_list = ['1Y', '2Y', '3Y', 'MTHLY']\n",
    "gb_a_config = gb_a[gb_a['config'].isin(config_list)]"
   ]
  },
  {
   "cell_type": "markdown",
   "metadata": {},
   "source": [
    "###### Grouping by the config type into gb_a_1Y, gb_a_2Y, gb_a_3y, gb_a_1M dataframes\n"
   ]
  },
  {
   "cell_type": "code",
   "execution_count": 29,
   "metadata": {},
   "outputs": [],
   "source": [
    "gb_a_1Y = gb_a_config[gb_a_config['config']=='1Y'].copy()\n",
    "gb_a_2Y = gb_a_config[gb_a_config['config']=='2Y'].copy()\n",
    "gb_a_3Y = gb_a_config[gb_a_config['config']=='3Y'].copy()\n",
    "gb_a_1M = gb_a_config[gb_a_config['config']=='MTHLY'].copy()"
   ]
  },
  {
   "cell_type": "code",
   "execution_count": 30,
   "metadata": {},
   "outputs": [
    {
     "name": "stdout",
     "output_type": "stream",
     "text": [
      "this is the lenght of type A 1M billings:  6\n",
      "this is the lenght of type A 1Y billings:  67\n",
      "this is the lenght of type A 2Y billings:  30\n",
      "this is the lenght of type A 3Y billings:  13\n"
     ]
    }
   ],
   "source": [
    "print('this is the lenght of type A 1M billings: ', len(gb_a_1M))\n",
    "print('this is the lenght of type A 1Y billings: ', len(gb_a_1Y))\n",
    "print('this is the lenght of type A 2Y billings: ', len(gb_a_2Y))\n",
    "print('this is the lenght of type A 3Y billings: ', len(gb_a_3Y))"
   ]
  },
  {
   "cell_type": "code",
   "execution_count": 31,
   "metadata": {},
   "outputs": [],
   "source": [
    "#gb_a_2Y.head(5)\n",
    "#gb_a_1M.tail(5)\n",
    "#gb_a_3Y.sample(5)"
   ]
  },
  {
   "cell_type": "markdown",
   "metadata": {},
   "source": [
    "#### TYPE D billings\n",
    "These billings have a field 'Rule For Bill Date' that determines when new billings will occur\n",
    " - Monthly:        *{Y1, Y2, Y3, Y5}*\n",
    " - Quarterly:      *YQ*\n",
    " - Every 4 months: *YT*  --NOTE: There are only 10 of these, so I am treating these as quarterly--\n",
    " - Semi-annual:    *YH*\n",
    " - Annual:         *{YA, YC}*\n",
    " - Every 2 years:  *Y4*\n",
    " - Every 3 years:  *Y7*\n",
    " \n",
    " We also need to track the type D billings that do not have a 'Rule for Bill Date'"
   ]
  },
  {
   "cell_type": "code",
   "execution_count": 32,
   "metadata": {},
   "outputs": [],
   "source": [
    "dfr_d = dfr[dfr['rev_req_type']=='D'].copy()\n",
    "\n",
    "gb_d = dfr_d.groupby(['curr', 'BU', 'period',\n",
    "                     'rebill_rule'], as_index=False).sum()\n",
    "gb_d.drop(labels='Subscription Term', axis=1, inplace = True)"
   ]
  },
  {
   "cell_type": "code",
   "execution_count": 33,
   "metadata": {},
   "outputs": [
    {
     "data": {
      "text/plain": [
       "YA    238\n",
       "Y3    204\n",
       "YQ     46\n",
       "YC     24\n",
       "Y1     20\n",
       "YH     20\n",
       "YM     10\n",
       "Y2      5\n",
       "YX      4\n",
       "Y4      4\n",
       "Y7      3\n",
       "YY      1\n",
       "Name: rebill_rule, dtype: int64"
      ]
     },
     "execution_count": 33,
     "metadata": {},
     "output_type": "execute_result"
    }
   ],
   "source": [
    "gb_d['rebill_rule'].value_counts()"
   ]
  },
  {
   "cell_type": "markdown",
   "metadata": {},
   "source": [
    "###### Grouping these by rebill rule and incorporating rebill rules that have the same rebill period"
   ]
  },
  {
   "cell_type": "code",
   "execution_count": 34,
   "metadata": {},
   "outputs": [],
   "source": [
    "gb_d_mthly = gb_d[gb_d['rebill_rule'].isin(['Y1', 'Y2', 'Y3', 'YM'])].copy()\n",
    "gb_d_mthly.drop(labels='rebill_rule', axis=1,inplace=True)\n",
    "gb_d_mthly = gb_d_mthly.groupby(['curr', 'BU', 'period']).sum()\n",
    "gb_d_mthly.reset_index(inplace=True)\n",
    "\n",
    "gb_d_qtrly = gb_d[gb_d['rebill_rule'].isin(['YQ', 'YY', 'YT'])].copy()\n",
    "gb_d_qtrly.drop(labels='rebill_rule', axis=1,inplace=True)\n",
    "gb_d_qtrly = gb_d_qtrly.groupby(['curr', 'BU', 'period']).sum()\n",
    "gb_d_qtrly.reset_index(inplace=True)\n",
    "\n",
    "gb_d_semi_ann = gb_d[gb_d['rebill_rule']=='YH']\n",
    "\n",
    "gb_d_annual = gb_d[gb_d['rebill_rule'].isin(['YA', 'YC', 'YX'])].copy()\n",
    "gb_d_annual.drop(labels='rebill_rule', axis=1,inplace=True)\n",
    "gb_d_annual = gb_d_annual.groupby(['curr', 'BU', 'period']).sum()\n",
    "gb_d_annual.reset_index(inplace=True)\n",
    "\n",
    "gb_d_two_yrs = gb_d[gb_d['rebill_rule']=='Y4']\n",
    "gb_d_three_yrs = gb_d[gb_d['rebill_rule']=='Y7']"
   ]
  },
  {
   "cell_type": "code",
   "execution_count": 35,
   "metadata": {},
   "outputs": [],
   "source": [
    "#gb_d_qtrly.head(10)\n",
    "#gb_d_annual.tail(10)\n",
    "#gb_d_three_yrs.head(10)"
   ]
  },
  {
   "cell_type": "code",
   "execution_count": 36,
   "metadata": {},
   "outputs": [
    {
     "name": "stdout",
     "output_type": "stream",
     "text": [
      "Length of monthly 216\n",
      "Length of quarterly 46\n",
      "Length of semi ann 20\n",
      "Length of annual 238\n",
      "Length of two years 4\n",
      "Length of three years 3\n"
     ]
    }
   ],
   "source": [
    "print('Length of monthly', len(gb_d_mthly))\n",
    "print('Length of quarterly', len(gb_d_qtrly))\n",
    "print('Length of semi ann', len(gb_d_semi_ann))\n",
    "print('Length of annual', len(gb_d_annual))\n",
    "print('Length of two years', len(gb_d_two_yrs))\n",
    "print('Length of three years', len(gb_d_three_yrs))"
   ]
  },
  {
   "cell_type": "markdown",
   "metadata": {},
   "source": [
    "## Building a single dataframe that incorporates all of this data\n",
    "\n",
    "- We will have the following descriptive fields\n",
    "   - Invoicing Fiscal Year-Period\n",
    "   - Document Currency Billing Amount\n",
    "   - USD Billing Amount\n",
    "   - Enterprise BU\n",
    "\n",
    "- We will have the following fields based on rebilling rule\n",
    "   - Recognized\n",
    "   - Service\n",
    "   - Monthly\n",
    "   - Quarterly\n",
    "   - Annual\n",
    "   - Two Years\n",
    "   - Three Years"
   ]
  },
  {
   "cell_type": "markdown",
   "metadata": {},
   "source": [
    "###### Below uses functions to merge a list of dataframes and move billings amounts to the correct category based on rebill frequency and type\n"
   ]
  },
  {
   "cell_type": "code",
   "execution_count": 37,
   "metadata": {},
   "outputs": [],
   "source": [
    "list_df = [gb_rec, gb_svc, gb_b,\n",
    "           gb_a_1M,    gb_a_1Y,    gb_a_2Y,       gb_a_3Y, \n",
    "           gb_d_mthly, gb_d_qtrly, gb_d_semi_ann, gb_d_annual, gb_d_two_yrs, gb_d_three_yrs]\n",
    "\n",
    "list_columns = ['recognized', 'service', 'deferred_B', \n",
    "        'deferred_1M_a', 'deferred_1Y_a', 'deferred_2Y_a', 'deferred_3Y_a',\n",
    "        'deferred_1M_d', 'deferred_3M_d', 'deferred_6M_d', 'deferred_1Y_d', 'deferred_2Y_d', 'deferred_3Y_d']\n"
   ]
  },
  {
   "cell_type": "code",
   "execution_count": 38,
   "metadata": {},
   "outputs": [],
   "source": [
    "def sum_USD_amt(list_df, list_columns):\n",
    "    total_US = []\n",
    "    for df in list_df:\n",
    "        total_US.append(df['US_amount'].sum())\n",
    "    total_df = pd.DataFrame(index = list_columns, columns = ['US_amounts'], data=total_US)\n",
    "    return total_df"
   ]
  },
  {
   "cell_type": "code",
   "execution_count": 39,
   "metadata": {},
   "outputs": [],
   "source": [
    "def merge_all_dataframes(list_df, list_columns):\n",
    "    for i, df in enumerate(list_df):\n",
    "        #print('This is i:', i)\n",
    "        #print('referencing the column: ', list_columns[i])\n",
    "\n",
    "        if i==0:\n",
    "            df_merged = list_df[0].copy()\n",
    "            df_merged.rename(index=str, columns={'DC_amount': list_columns[i]+'_DC', \n",
    "                                                 'US_amount': list_columns[i]+'_US'}, inplace=True)\n",
    "        else:\n",
    "            df_merged = merge_new_dataframe(df_merged, df, list_columns[i])\n",
    "\n",
    "    return df_merged\n",
    "    "
   ]
  },
  {
   "cell_type": "code",
   "execution_count": 40,
   "metadata": {},
   "outputs": [],
   "source": [
    "def merge_new_dataframe(old_df, new_df, new_column):\n",
    "    df_merged = pd.merge(old_df, new_df, how='outer', \n",
    "                     left_on=['curr', 'BU', 'period'],\n",
    "                    right_on=['curr', 'BU', 'period'])\n",
    "    df_merged.rename(index=str, columns={'DC_amount': new_column+'_DC', 'US_amount': new_column+'_US'}, inplace=True)\n",
    "    \n",
    "    #need to drop the product configtype id for merges where the new_df is of type A\n",
    "    config_str = 'config'\n",
    "    rule_str = 'rebill_rule'\n",
    "    if config_str in df_merged.columns:\n",
    "        df_merged.drop(columns=['config'], inplace=True)\n",
    "    \n",
    "    if rule_str in df_merged.columns:\n",
    "        df_merged.drop(columns=['rebill_rule'], inplace=True)\n",
    "        \n",
    "    return df_merged"
   ]
  },
  {
   "cell_type": "code",
   "execution_count": 41,
   "metadata": {},
   "outputs": [],
   "source": [
    "def clean_df_columns(df):\n",
    "    \n",
    "    # clean up NaNs before adding \n",
    "    df = df.fillna(value=0)\n",
    "    \n",
    "    # DC columns first\n",
    "    # Monthly\n",
    "    df['deferred_1M_DC'] = df['deferred_1M_a_DC']+df['deferred_1M_d_DC']\n",
    "    df.drop(labels=['deferred_1M_a_DC', 'deferred_1M_d_DC'], axis=1, inplace=True)\n",
    "    \n",
    "    # Annual\n",
    "    df['deferred_1Y_DC'] = df['deferred_1Y_a_DC']+df['deferred_1Y_d_DC']\n",
    "    df.drop(labels=['deferred_1Y_a_DC', 'deferred_1Y_d_DC'], axis=1, inplace=True)\n",
    "    \n",
    "    # Two-Year\n",
    "    df['deferred_2Y_DC'] = df['deferred_2Y_a_DC']+df['deferred_2Y_d_DC']\n",
    "    df.drop(labels=['deferred_2Y_a_DC', 'deferred_2Y_d_DC'], axis=1, inplace=True)\n",
    "    \n",
    "    #Three-Year\n",
    "    df['deferred_3Y_DC'] = df['deferred_3Y_a_DC']+df['deferred_3Y_d_DC']\n",
    "    df.drop(labels=['deferred_3Y_a_DC', 'deferred_3Y_d_DC'], axis=1, inplace=True)\n",
    "    \n",
    "    # renaming 3M and 6M\n",
    "    df.rename(index=str, columns = {'deferred_3M_d_DC':'deferred_3M_DC', \n",
    "                               'deferred_6M_d_DC': 'deferred_6M_DC'}, inplace=True)\n",
    "\n",
    "    # US columns\n",
    "    # Monthly\n",
    "    df['deferred_1M_US'] = df['deferred_1M_a_US']+df['deferred_1M_d_US']\n",
    "    df.drop(labels=['deferred_1M_a_US', 'deferred_1M_d_US'], axis=1, inplace=True)\n",
    "    \n",
    "    # Annual\n",
    "    df['deferred_1Y_US'] = df['deferred_1Y_a_US']+df['deferred_1Y_d_US']\n",
    "    df.drop(labels=['deferred_1Y_a_US', 'deferred_1Y_d_US'], axis=1, inplace=True)\n",
    "    \n",
    "    # Two-Year\n",
    "    df['deferred_2Y_US'] = df['deferred_2Y_a_US']+df['deferred_2Y_d_US']\n",
    "    df.drop(labels=['deferred_2Y_a_US', 'deferred_2Y_d_US'], axis=1, inplace=True)\n",
    "    \n",
    "    # Three-Year\n",
    "    df['deferred_3Y_US'] = df['deferred_3Y_a_US']+df['deferred_3Y_d_US']\n",
    "    df.drop(labels=['deferred_3Y_a_US', 'deferred_3Y_d_US'], axis=1, inplace=True)\n",
    "    \n",
    "    # renaming 3M and 6M\n",
    "    df.rename(index=str, columns = {'deferred_3M_d_US':'deferred_3M_US', \n",
    "                               'deferred_6M_d_US': 'deferred_6M_US'}, inplace=True)\n",
    "\n",
    "    \n",
    "    #cleaning up the longer column names\n",
    "    df.rename(index=str, columns = {'curr': 'curr',\n",
    "                               'BU':'BU',\n",
    "                               'period':'period'}, inplace=True)\n",
    "    \n",
    "    return df"
   ]
  },
  {
   "cell_type": "markdown",
   "metadata": {},
   "source": [
    "##### The code below uses the functions above to merge all of the dataframes and clean up the columns"
   ]
  },
  {
   "cell_type": "code",
   "execution_count": 42,
   "metadata": {},
   "outputs": [],
   "source": [
    "df = merge_all_dataframes(list_df, list_columns)\n",
    "\n",
    "df = clean_df_columns(df)"
   ]
  },
  {
   "cell_type": "markdown",
   "metadata": {},
   "source": [
    "## I NEED TO CREATE A BETTER PRESENTATION OF THIS CHECK THAT EVERYTHING MATCHES!!!!"
   ]
  },
  {
   "cell_type": "markdown",
   "metadata": {},
   "source": [
    "## Need to create a summary report with totals coming from every area to make sure the totals I have make sense"
   ]
  },
  {
   "cell_type": "code",
   "execution_count": 43,
   "metadata": {},
   "outputs": [
    {
     "data": {
      "text/plain": [
       "curr              ARSARSARSAUDAUDAUDAUDAUDAUDAUDAUDAUDAUDAUDAUDA...\n",
       "BU                CreativeCreativeCreativeCreativeCreativeCreati...\n",
       "period            2020-042020-052020-062020-042020-052020-062020...\n",
       "recognized_DC                                           1.24338e+09\n",
       "recognized_US                                           1.45639e+08\n",
       "service_DC                                               6.7736e+07\n",
       "service_US                                              3.18046e+07\n",
       "deferred_B_DC                                           4.90688e+08\n",
       "deferred_B_US                                           4.06135e+07\n",
       "deferred_3M_DC                                          7.89801e+07\n",
       "deferred_3M_US                                          7.47816e+07\n",
       "deferred_6M_DC                                          4.27054e+07\n",
       "deferred_6M_US                                          3.78052e+06\n",
       "deferred_1M_DC                                          1.65416e+10\n",
       "deferred_1Y_DC                                          1.99821e+10\n",
       "deferred_2Y_DC                                          2.76076e+07\n",
       "deferred_3Y_DC                                          1.42479e+08\n",
       "deferred_1M_US                                          4.36125e+08\n",
       "deferred_1Y_US                                          9.95585e+08\n",
       "deferred_2Y_US                                               882278\n",
       "deferred_3Y_US                                               633857\n",
       "dtype: object"
      ]
     },
     "execution_count": 43,
     "metadata": {},
     "output_type": "execute_result"
    }
   ],
   "source": [
    "df.sum()"
   ]
  },
  {
   "cell_type": "code",
   "execution_count": 44,
   "metadata": {},
   "outputs": [
    {
     "data": {
      "text/html": [
       "<div>\n",
       "<style scoped>\n",
       "    .dataframe tbody tr th:only-of-type {\n",
       "        vertical-align: middle;\n",
       "    }\n",
       "\n",
       "    .dataframe tbody tr th {\n",
       "        vertical-align: top;\n",
       "    }\n",
       "\n",
       "    .dataframe thead th {\n",
       "        text-align: right;\n",
       "    }\n",
       "</style>\n",
       "<table border=\"1\" class=\"dataframe\">\n",
       "  <thead>\n",
       "    <tr style=\"text-align: right;\">\n",
       "      <th></th>\n",
       "      <th>US_amounts</th>\n",
       "    </tr>\n",
       "  </thead>\n",
       "  <tbody>\n",
       "    <tr>\n",
       "      <th>recognized</th>\n",
       "      <td>1.456387e+08</td>\n",
       "    </tr>\n",
       "    <tr>\n",
       "      <th>service</th>\n",
       "      <td>3.180455e+07</td>\n",
       "    </tr>\n",
       "    <tr>\n",
       "      <th>deferred_B</th>\n",
       "      <td>4.061348e+07</td>\n",
       "    </tr>\n",
       "    <tr>\n",
       "      <th>deferred_1M_a</th>\n",
       "      <td>1.574775e+06</td>\n",
       "    </tr>\n",
       "    <tr>\n",
       "      <th>deferred_1Y_a</th>\n",
       "      <td>4.244484e+08</td>\n",
       "    </tr>\n",
       "    <tr>\n",
       "      <th>deferred_2Y_a</th>\n",
       "      <td>9.635676e+05</td>\n",
       "    </tr>\n",
       "    <tr>\n",
       "      <th>deferred_3Y_a</th>\n",
       "      <td>6.293950e+05</td>\n",
       "    </tr>\n",
       "    <tr>\n",
       "      <th>deferred_1M_d</th>\n",
       "      <td>4.345503e+08</td>\n",
       "    </tr>\n",
       "    <tr>\n",
       "      <th>deferred_3M_d</th>\n",
       "      <td>7.478163e+07</td>\n",
       "    </tr>\n",
       "    <tr>\n",
       "      <th>deferred_6M_d</th>\n",
       "      <td>3.780523e+06</td>\n",
       "    </tr>\n",
       "    <tr>\n",
       "      <th>deferred_1Y_d</th>\n",
       "      <td>5.711366e+08</td>\n",
       "    </tr>\n",
       "    <tr>\n",
       "      <th>deferred_2Y_d</th>\n",
       "      <td>-8.128932e+04</td>\n",
       "    </tr>\n",
       "    <tr>\n",
       "      <th>deferred_3Y_d</th>\n",
       "      <td>4.462260e+03</td>\n",
       "    </tr>\n",
       "  </tbody>\n",
       "</table>\n",
       "</div>"
      ],
      "text/plain": [
       "                 US_amounts\n",
       "recognized     1.456387e+08\n",
       "service        3.180455e+07\n",
       "deferred_B     4.061348e+07\n",
       "deferred_1M_a  1.574775e+06\n",
       "deferred_1Y_a  4.244484e+08\n",
       "deferred_2Y_a  9.635676e+05\n",
       "deferred_3Y_a  6.293950e+05\n",
       "deferred_1M_d  4.345503e+08\n",
       "deferred_3M_d  7.478163e+07\n",
       "deferred_6M_d  3.780523e+06\n",
       "deferred_1Y_d  5.711366e+08\n",
       "deferred_2Y_d -8.128932e+04\n",
       "deferred_3Y_d  4.462260e+03"
      ]
     },
     "execution_count": 44,
     "metadata": {},
     "output_type": "execute_result"
    }
   ],
   "source": [
    "total_df = sum_USD_amt(list_df, list_columns)\n",
    "total_df"
   ]
  },
  {
   "cell_type": "code",
   "execution_count": 45,
   "metadata": {},
   "outputs": [
    {
     "data": {
      "text/plain": [
       "US_amounts    4.361251e+08\n",
       "dtype: float64"
      ]
     },
     "execution_count": 45,
     "metadata": {},
     "output_type": "execute_result"
    }
   ],
   "source": [
    "total_df.loc['deferred_1M_d']+total_df.loc['deferred_1M_a']"
   ]
  },
  {
   "cell_type": "code",
   "execution_count": null,
   "metadata": {},
   "outputs": [],
   "source": []
  },
  {
   "cell_type": "code",
   "execution_count": null,
   "metadata": {},
   "outputs": [],
   "source": []
  },
  {
   "cell_type": "code",
   "execution_count": null,
   "metadata": {},
   "outputs": [],
   "source": []
  },
  {
   "cell_type": "code",
   "execution_count": 46,
   "metadata": {},
   "outputs": [],
   "source": [
    "# Make this a function to be cleaned up somehow\n",
    "del dfr\n",
    "del dfr_a\n",
    "del dfr_b\n",
    "del dfr_d\n",
    "del gb_a\n",
    "del gb_a_1M\n",
    "del gb_a_1Y\n",
    "del gb_a_2Y\n",
    "del gb_a_3Y\n",
    "del gb_b, \n",
    "del gb_d\n",
    "del gb_svc, gb_rec, gb_d_two_yrs\n",
    "del gb_d_qtrly, gb_d_semi_ann\n"
   ]
  },
  {
   "cell_type": "markdown",
   "metadata": {},
   "source": [
    "# TO BE DONE:\n",
    "\n",
    "1. Clean up the type F billings (at least check to see if they are necessary)\n"
   ]
  },
  {
   "cell_type": "markdown",
   "metadata": {},
   "source": [
    "###### Loading up the Adobe Financial Calendar to get period start and end dates"
   ]
  },
  {
   "cell_type": "code",
   "execution_count": 47,
   "metadata": {},
   "outputs": [],
   "source": [
    "# loading Adobe financial calendar and calculating period weeks\n",
    "df_cal = pd.read_excel('../data/old/ADOBE_FINANCIAL_CALENDAR.xlsx', 'ADBE_cal')\n",
    "df_cal['Period_Weeks'] = (df_cal['Per_End']-df_cal['Per_Start'])/np.timedelta64(1, 'W')\n",
    "df_cal['Period_Weeks']=df_cal['Period_Weeks'].astype(int)\n",
    "df_cal['Period_Weeks'] = df_cal['Period_Weeks']+1"
   ]
  },
  {
   "cell_type": "code",
   "execution_count": null,
   "metadata": {},
   "outputs": [],
   "source": [
    "#df_cal.head(5)\n",
    "#df_cal.sample(5)\n",
    "#df_cal.tail(5)"
   ]
  },
  {
   "cell_type": "markdown",
   "metadata": {},
   "source": [
    "___\n",
    "## Type A No Config Type Billings\n",
    "___\n",
    "\n",
    "This file contains type A billings that have a revenue contract start date and end date. We need to map these into the terms of our dataframe.\n",
    "\n",
    "#### Steps\n",
    "1. Rename the columns\n",
    "2. This file has entries for pennies. Need to clear out anything less than $10 in absolute value\n",
    "3. Determine the length of time between start date and end date\n",
    "4. Group this dataframe by currency, period and BU\n",
    "5. Merge this final dataframe with the larger dataframe\n"
   ]
  },
  {
   "cell_type": "markdown",
   "metadata": {},
   "source": [
    "###### Note: This file contains two different start date and end date columns. At least one of these columns is populated"
   ]
  },
  {
   "cell_type": "code",
   "execution_count": 48,
   "metadata": {},
   "outputs": [],
   "source": [
    "df_A = pd.read_excel('../data/Data_2020_P03/all_billings_inputs_COVID.xlsx', sheet_name='type_A_no_config')"
   ]
  },
  {
   "cell_type": "code",
   "execution_count": 49,
   "metadata": {},
   "outputs": [],
   "source": [
    "df_A.rename(index=str, columns={'Document Currency':'curr', \n",
    "                               'Enterprise BU Desc':'BU',\n",
    "                               'Invoice Fiscal Year Period Desc':'period',\n",
    "                               'Rev Rec Contract End Date Hdr':'end_date_1',\n",
    "                               'Rev Rec Contract End Date Item':'end_date_2',\n",
    "                               'Rev Rec Contract Start Date Hdr': 'start_date_1',\n",
    "                               'Rev Rec Contract Start Date Item': 'start_date_2',\n",
    "                               'Completed Sales ( DC )':'DC_amount',\n",
    "                               'Completed Sales': 'US_amount'\n",
    "                               }, inplace=True)\n",
    "\n"
   ]
  },
  {
   "cell_type": "code",
   "execution_count": 50,
   "metadata": {},
   "outputs": [
    {
     "data": {
      "text/html": [
       "<div>\n",
       "<style scoped>\n",
       "    .dataframe tbody tr th:only-of-type {\n",
       "        vertical-align: middle;\n",
       "    }\n",
       "\n",
       "    .dataframe tbody tr th {\n",
       "        vertical-align: top;\n",
       "    }\n",
       "\n",
       "    .dataframe thead th {\n",
       "        text-align: right;\n",
       "    }\n",
       "</style>\n",
       "<table border=\"1\" class=\"dataframe\">\n",
       "  <thead>\n",
       "    <tr style=\"text-align: right;\">\n",
       "      <th></th>\n",
       "      <th>curr</th>\n",
       "      <th>BU</th>\n",
       "      <th>period</th>\n",
       "      <th>end_date_1</th>\n",
       "      <th>end_date_2</th>\n",
       "      <th>start_date_1</th>\n",
       "      <th>start_date_2</th>\n",
       "      <th>DC_amount</th>\n",
       "      <th>US_amount</th>\n",
       "    </tr>\n",
       "  </thead>\n",
       "  <tbody>\n",
       "    <tr>\n",
       "      <th>0</th>\n",
       "      <td>AUD</td>\n",
       "      <td>Creative</td>\n",
       "      <td>2020-04</td>\n",
       "      <td>NaT</td>\n",
       "      <td>2020-03-20</td>\n",
       "      <td>NaT</td>\n",
       "      <td>2020-02-21</td>\n",
       "      <td>4356.77</td>\n",
       "      <td>2563.26</td>\n",
       "    </tr>\n",
       "    <tr>\n",
       "      <th>1</th>\n",
       "      <td>AUD</td>\n",
       "      <td>Creative</td>\n",
       "      <td>2020-04</td>\n",
       "      <td>NaT</td>\n",
       "      <td>2020-03-21</td>\n",
       "      <td>NaT</td>\n",
       "      <td>2020-02-22</td>\n",
       "      <td>4845.58</td>\n",
       "      <td>2850.85</td>\n",
       "    </tr>\n",
       "    <tr>\n",
       "      <th>2</th>\n",
       "      <td>AUD</td>\n",
       "      <td>Creative</td>\n",
       "      <td>2020-04</td>\n",
       "      <td>NaT</td>\n",
       "      <td>2020-03-22</td>\n",
       "      <td>NaT</td>\n",
       "      <td>2020-02-23</td>\n",
       "      <td>4485.10</td>\n",
       "      <td>2638.77</td>\n",
       "    </tr>\n",
       "    <tr>\n",
       "      <th>3</th>\n",
       "      <td>AUD</td>\n",
       "      <td>Creative</td>\n",
       "      <td>2020-04</td>\n",
       "      <td>NaT</td>\n",
       "      <td>2020-03-23</td>\n",
       "      <td>NaT</td>\n",
       "      <td>2020-02-24</td>\n",
       "      <td>4937.18</td>\n",
       "      <td>2904.74</td>\n",
       "    </tr>\n",
       "    <tr>\n",
       "      <th>4</th>\n",
       "      <td>AUD</td>\n",
       "      <td>Creative</td>\n",
       "      <td>2020-04</td>\n",
       "      <td>NaT</td>\n",
       "      <td>2020-03-24</td>\n",
       "      <td>NaT</td>\n",
       "      <td>2020-02-25</td>\n",
       "      <td>3836.10</td>\n",
       "      <td>2256.93</td>\n",
       "    </tr>\n",
       "  </tbody>\n",
       "</table>\n",
       "</div>"
      ],
      "text/plain": [
       "  curr        BU   period end_date_1 end_date_2 start_date_1 start_date_2  \\\n",
       "0  AUD  Creative  2020-04        NaT 2020-03-20          NaT   2020-02-21   \n",
       "1  AUD  Creative  2020-04        NaT 2020-03-21          NaT   2020-02-22   \n",
       "2  AUD  Creative  2020-04        NaT 2020-03-22          NaT   2020-02-23   \n",
       "3  AUD  Creative  2020-04        NaT 2020-03-23          NaT   2020-02-24   \n",
       "4  AUD  Creative  2020-04        NaT 2020-03-24          NaT   2020-02-25   \n",
       "\n",
       "   DC_amount  US_amount  \n",
       "0    4356.77    2563.26  \n",
       "1    4845.58    2850.85  \n",
       "2    4485.10    2638.77  \n",
       "3    4937.18    2904.74  \n",
       "4    3836.10    2256.93  "
      ]
     },
     "execution_count": 50,
     "metadata": {},
     "output_type": "execute_result"
    }
   ],
   "source": [
    "df_A.head(5)\n",
    "#df_A.sample(5)\n",
    "#df_A.tail(5)"
   ]
  },
  {
   "cell_type": "markdown",
   "metadata": {},
   "source": [
    "##### Removing banned currencies\n",
    "model_dict"
   ]
  },
  {
   "cell_type": "code",
   "execution_count": 51,
   "metadata": {},
   "outputs": [],
   "source": [
    "def remove_bad_currencies(df, model_dict):\n",
    "    this_list = df['curr'].unique().tolist()\n",
    "    \n",
    "    for curr in model_dict['curr_removed']:\n",
    "        if curr in this_list:\n",
    "            print('need to ban this currency: ', curr)\n",
    "            df = df[df['curr']!= curr]\n",
    "    return df\n"
   ]
  },
  {
   "cell_type": "code",
   "execution_count": 52,
   "metadata": {},
   "outputs": [],
   "source": [
    "df_A = remove_bad_currencies(df_A, model_dict)"
   ]
  },
  {
   "cell_type": "markdown",
   "metadata": {},
   "source": [
    "###### Handling the duplicate dates by taking a max and creating a start_date and end_date fields in pandas datetime format"
   ]
  },
  {
   "cell_type": "code",
   "execution_count": 53,
   "metadata": {},
   "outputs": [],
   "source": [
    "df_A['start_date_str'] = df_A[['start_date_1','start_date_2']].max(axis=1).astype(str)\n",
    "df_A['end_date_str'] = df_A[['end_date_1','end_date_2']].max(axis=1).astype(str)\n",
    "\n",
    "df_A['start_date'] = pd.to_datetime(df_A['start_date_str'])\n",
    "df_A['end_date'] = pd.to_datetime(df_A['end_date_str'])\n",
    "\n",
    "df_A.drop(labels=['end_date_1', 'end_date_2', 'start_date_1', 'start_date_2',\n",
    "                  'start_date_str', 'end_date_str'], axis=1, inplace=True)"
   ]
  },
  {
   "cell_type": "markdown",
   "metadata": {},
   "source": [
    "###### Creating a month_interval field that calculates the difference between the start_date and end_date in months. We will map this number of months into a rebilling frequency (this number of months determines when the contract expires and the deferred revenue model assumes that all attribution is accounted for in our net new billings estimates provided by FP&A)"
   ]
  },
  {
   "cell_type": "code",
   "execution_count": 54,
   "metadata": {},
   "outputs": [],
   "source": [
    "df_A['month_interval']=(df_A['end_date']-df_A['start_date'])\n",
    "df_A['months']= (df_A['month_interval']/ np.timedelta64(1,'M')).round(0)"
   ]
  },
  {
   "cell_type": "code",
   "execution_count": 55,
   "metadata": {},
   "outputs": [
    {
     "data": {
      "text/html": [
       "<div>\n",
       "<style scoped>\n",
       "    .dataframe tbody tr th:only-of-type {\n",
       "        vertical-align: middle;\n",
       "    }\n",
       "\n",
       "    .dataframe tbody tr th {\n",
       "        vertical-align: top;\n",
       "    }\n",
       "\n",
       "    .dataframe thead th {\n",
       "        text-align: right;\n",
       "    }\n",
       "</style>\n",
       "<table border=\"1\" class=\"dataframe\">\n",
       "  <thead>\n",
       "    <tr style=\"text-align: right;\">\n",
       "      <th></th>\n",
       "      <th>curr</th>\n",
       "      <th>BU</th>\n",
       "      <th>period</th>\n",
       "      <th>DC_amount</th>\n",
       "      <th>US_amount</th>\n",
       "      <th>start_date</th>\n",
       "      <th>end_date</th>\n",
       "      <th>month_interval</th>\n",
       "      <th>months</th>\n",
       "    </tr>\n",
       "  </thead>\n",
       "  <tbody>\n",
       "    <tr>\n",
       "      <th>23</th>\n",
       "      <td>AUD</td>\n",
       "      <td>Creative</td>\n",
       "      <td>2020-04</td>\n",
       "      <td>5426.29</td>\n",
       "      <td>3192.50</td>\n",
       "      <td>2020-03-15</td>\n",
       "      <td>2020-04-14</td>\n",
       "      <td>30 days</td>\n",
       "      <td>1.0</td>\n",
       "    </tr>\n",
       "    <tr>\n",
       "      <th>148</th>\n",
       "      <td>GBP</td>\n",
       "      <td>Print &amp; Publishing</td>\n",
       "      <td>2020-04</td>\n",
       "      <td>39.98</td>\n",
       "      <td>51.52</td>\n",
       "      <td>2020-03-08</td>\n",
       "      <td>2020-04-07</td>\n",
       "      <td>30 days</td>\n",
       "      <td>1.0</td>\n",
       "    </tr>\n",
       "    <tr>\n",
       "      <th>10</th>\n",
       "      <td>AUD</td>\n",
       "      <td>Creative</td>\n",
       "      <td>2020-04</td>\n",
       "      <td>9191.43</td>\n",
       "      <td>5407.69</td>\n",
       "      <td>2020-03-02</td>\n",
       "      <td>2020-04-01</td>\n",
       "      <td>30 days</td>\n",
       "      <td>1.0</td>\n",
       "    </tr>\n",
       "    <tr>\n",
       "      <th>260</th>\n",
       "      <td>USD</td>\n",
       "      <td>Document Cloud</td>\n",
       "      <td>2020-05</td>\n",
       "      <td>0.00</td>\n",
       "      <td>0.00</td>\n",
       "      <td>2019-06-25</td>\n",
       "      <td>2020-06-24</td>\n",
       "      <td>365 days</td>\n",
       "      <td>12.0</td>\n",
       "    </tr>\n",
       "    <tr>\n",
       "      <th>298</th>\n",
       "      <td>USD</td>\n",
       "      <td>Print &amp; Publishing</td>\n",
       "      <td>2020-04</td>\n",
       "      <td>1720.00</td>\n",
       "      <td>1720.00</td>\n",
       "      <td>2020-03-26</td>\n",
       "      <td>2020-04-25</td>\n",
       "      <td>30 days</td>\n",
       "      <td>1.0</td>\n",
       "    </tr>\n",
       "    <tr>\n",
       "      <th>374</th>\n",
       "      <td>USD</td>\n",
       "      <td>Print &amp; Publishing</td>\n",
       "      <td>2020-06</td>\n",
       "      <td>540.00</td>\n",
       "      <td>540.00</td>\n",
       "      <td>2020-05-06</td>\n",
       "      <td>2021-05-05</td>\n",
       "      <td>364 days</td>\n",
       "      <td>12.0</td>\n",
       "    </tr>\n",
       "    <tr>\n",
       "      <th>167</th>\n",
       "      <td>GBP</td>\n",
       "      <td>Print &amp; Publishing</td>\n",
       "      <td>2020-05</td>\n",
       "      <td>159.92</td>\n",
       "      <td>191.44</td>\n",
       "      <td>2020-04-02</td>\n",
       "      <td>2020-05-01</td>\n",
       "      <td>29 days</td>\n",
       "      <td>1.0</td>\n",
       "    </tr>\n",
       "    <tr>\n",
       "      <th>205</th>\n",
       "      <td>USD</td>\n",
       "      <td>Creative</td>\n",
       "      <td>2020-04</td>\n",
       "      <td>9245.14</td>\n",
       "      <td>9245.14</td>\n",
       "      <td>2020-03-03</td>\n",
       "      <td>2020-04-02</td>\n",
       "      <td>30 days</td>\n",
       "      <td>1.0</td>\n",
       "    </tr>\n",
       "    <tr>\n",
       "      <th>124</th>\n",
       "      <td>EUR</td>\n",
       "      <td>Print &amp; Publishing</td>\n",
       "      <td>2020-05</td>\n",
       "      <td>994.00</td>\n",
       "      <td>1084.82</td>\n",
       "      <td>2020-03-30</td>\n",
       "      <td>2021-03-29</td>\n",
       "      <td>364 days</td>\n",
       "      <td>12.0</td>\n",
       "    </tr>\n",
       "    <tr>\n",
       "      <th>269</th>\n",
       "      <td>USD</td>\n",
       "      <td>Other Solutions</td>\n",
       "      <td>2020-04</td>\n",
       "      <td>5000.00</td>\n",
       "      <td>5000.00</td>\n",
       "      <td>2020-03-05</td>\n",
       "      <td>2021-03-04</td>\n",
       "      <td>364 days</td>\n",
       "      <td>12.0</td>\n",
       "    </tr>\n",
       "  </tbody>\n",
       "</table>\n",
       "</div>"
      ],
      "text/plain": [
       "    curr                  BU   period  DC_amount  US_amount start_date  \\\n",
       "23   AUD            Creative  2020-04    5426.29    3192.50 2020-03-15   \n",
       "148  GBP  Print & Publishing  2020-04      39.98      51.52 2020-03-08   \n",
       "10   AUD            Creative  2020-04    9191.43    5407.69 2020-03-02   \n",
       "260  USD      Document Cloud  2020-05       0.00       0.00 2019-06-25   \n",
       "298  USD  Print & Publishing  2020-04    1720.00    1720.00 2020-03-26   \n",
       "374  USD  Print & Publishing  2020-06     540.00     540.00 2020-05-06   \n",
       "167  GBP  Print & Publishing  2020-05     159.92     191.44 2020-04-02   \n",
       "205  USD            Creative  2020-04    9245.14    9245.14 2020-03-03   \n",
       "124  EUR  Print & Publishing  2020-05     994.00    1084.82 2020-03-30   \n",
       "269  USD     Other Solutions  2020-04    5000.00    5000.00 2020-03-05   \n",
       "\n",
       "      end_date month_interval  months  \n",
       "23  2020-04-14        30 days     1.0  \n",
       "148 2020-04-07        30 days     1.0  \n",
       "10  2020-04-01        30 days     1.0  \n",
       "260 2020-06-24       365 days    12.0  \n",
       "298 2020-04-25        30 days     1.0  \n",
       "374 2021-05-05       364 days    12.0  \n",
       "167 2020-05-01        29 days     1.0  \n",
       "205 2020-04-02        30 days     1.0  \n",
       "124 2021-03-29       364 days    12.0  \n",
       "269 2021-03-04       364 days    12.0  "
      ]
     },
     "execution_count": 55,
     "metadata": {},
     "output_type": "execute_result"
    }
   ],
   "source": [
    "#df_A.head(10)\n",
    "df_A.sample(10)\n",
    "#df_A.tail(10)"
   ]
  },
  {
   "cell_type": "markdown",
   "metadata": {},
   "source": [
    "##### Mapping the number of months into our common rebill frequencies (monthly, quarterly, semi-annual, annual, 2 years and 3 years)\n"
   ]
  },
  {
   "cell_type": "code",
   "execution_count": 56,
   "metadata": {},
   "outputs": [],
   "source": [
    "list_rebills = [1, 3, 6, 12, 24, 36]\n",
    "temp_rebill = np.zeros_like(df_A['months'])\n",
    "for i in range(len(df_A)):\n",
    "    temp_rebill[i] = min(list_rebills, key=lambda x:abs(x-df_A['months'][i]))\n",
    "df_A['rebill_months']=temp_rebill"
   ]
  },
  {
   "cell_type": "code",
   "execution_count": 57,
   "metadata": {},
   "outputs": [
    {
     "data": {
      "image/png": "[encoded data removed]",
      "text/plain": [
       "<Figure size 1008x432 with 1 Axes>"
      ]
     },
     "metadata": {
      "needs_background": "light"
     },
     "output_type": "display_data"
    }
   ],
   "source": [
    "fig, axs = plt.subplots(1,1, figsize=(14,6))\n",
    "axs.scatter(df_A['months'], df_A['rebill_months'])\n",
    "axs.set_ylabel('Rebill Months')\n",
    "axs.set_xlabel('Number of months between contract start and end dates')\n",
    "axs.set_title('Type A billings with no config type rebilling mapping')\n",
    "print_text = 'No'"
   ]
  },
  {
   "cell_type": "code",
   "execution_count": 58,
   "metadata": {},
   "outputs": [],
   "source": [
    "#df_A.head(10)\n",
    "#df_A.sample(10)\n",
    "#df_A.tail(10)"
   ]
  },
  {
   "cell_type": "markdown",
   "metadata": {},
   "source": [
    "###### Dropping the columns we no longer need"
   ]
  },
  {
   "cell_type": "code",
   "execution_count": 59,
   "metadata": {},
   "outputs": [],
   "source": [
    "df_A.drop(columns = ['start_date', 'end_date', 'month_interval', 'months'], axis=1, inplace=True)"
   ]
  },
  {
   "cell_type": "markdown",
   "metadata": {},
   "source": [
    "###### Grouping the dataframe by rebill_months using a pivot table"
   ]
  },
  {
   "cell_type": "code",
   "execution_count": 60,
   "metadata": {},
   "outputs": [],
   "source": [
    "#medals = df.pivot_table('no of medals', ['Year', 'Country'], 'medal')\n",
    "temp_DC = df_A.pivot_table('DC_amount', ['curr', 'BU', 'period'], 'rebill_months')\n",
    "temp_US = df_A.pivot_table('US_amount', ['curr', 'BU', 'period'], 'rebill_months')"
   ]
  },
  {
   "cell_type": "markdown",
   "metadata": {},
   "source": [
    "###### Filling in any zeros that arise if there is no contract on a specific period, currency and BU for a particular rebill period"
   ]
  },
  {
   "cell_type": "code",
   "execution_count": 61,
   "metadata": {},
   "outputs": [],
   "source": [
    "temp_DC = temp_DC.fillna(0)\n",
    "temp_US = temp_DC.fillna(0)"
   ]
  },
  {
   "cell_type": "markdown",
   "metadata": {},
   "source": [
    "###### Flattening the pivot table back to a normal dataframe and renaming the columns"
   ]
  },
  {
   "cell_type": "code",
   "execution_count": 62,
   "metadata": {},
   "outputs": [],
   "source": [
    "temp_flat_DC = pd.DataFrame(temp_DC.to_records())\n",
    "temp_flat_US = pd.DataFrame(temp_US.to_records())"
   ]
  },
  {
   "cell_type": "code",
   "execution_count": 63,
   "metadata": {},
   "outputs": [],
   "source": [
    "temp_flat_DC.rename(index=str, columns={'1.0':'deferred_1M_DC', \n",
    "                               '3.0':'deferred_3M_DC',\n",
    "                               '6.0':'deferred_6M_DC',\n",
    "                               '12.0':'deferred_1Y_DC',\n",
    "                               '24.0':'deferred_2Y_DC',\n",
    "                               '36.0': 'deferred_3Y_DC'}, inplace=True)\n",
    "\n",
    "temp_flat_US.rename(index=str, columns={'1.0':'deferred_1M_US', \n",
    "                               '3.0':'deferred_3M_US',\n",
    "                               '6.0':'deferred_6M_US',\n",
    "                               '12.0':'deferred_1Y_US',\n",
    "                               '24.0':'deferred_2Y_US',\n",
    "                               '36.0': 'deferred_3Y_US'}, inplace=True)"
   ]
  },
  {
   "cell_type": "code",
   "execution_count": 64,
   "metadata": {},
   "outputs": [],
   "source": [
    "#temp_flat_DC.head(20)\n",
    "#temp_flat_US.sample(20)\n",
    "#temp_flat_DC.tail(20)"
   ]
  },
  {
   "cell_type": "markdown",
   "metadata": {},
   "source": [
    "###### Quick check that we have not created duplicate column entries (for example two entries for a period with same BU and currency)"
   ]
  },
  {
   "cell_type": "code",
   "execution_count": 65,
   "metadata": {},
   "outputs": [
    {
     "name": "stdout",
     "output_type": "stream",
     "text": [
      "Original Length of the dataframe before duplicate test:  279\n",
      "New length of database after duplicates have been removed:  279\n"
     ]
    }
   ],
   "source": [
    "df_test_dup = df.copy()\n",
    "orig_len = len(df_test_dup)\n",
    "print(\"Original Length of the dataframe before duplicate test: \", orig_len)\n",
    "\n",
    "df_test_dup =df_test_dup.drop_duplicates(subset=['curr', 'BU', 'period'])\n",
    "print('New length of database after duplicates have been removed: ',len(df_test_dup))\n",
    "\n",
    "if orig_len!=len(df_test_dup):\n",
    "    print('We had duplicates in the dataframe! Look into why')"
   ]
  },
  {
   "cell_type": "markdown",
   "metadata": {},
   "source": [
    "###### Merging the billings dataframe with the temp_flat_DC dataframe and and temp_flat_US dataframe and filling in any blanks with zero"
   ]
  },
  {
   "cell_type": "code",
   "execution_count": 66,
   "metadata": {},
   "outputs": [],
   "source": [
    "df_with_A = pd.merge(df, temp_flat_DC, how='outer',\n",
    "                    left_on= ['curr', 'BU', 'period'],\n",
    "                    right_on=['curr', 'BU', 'period'], indicator=True, validate='one_to_one')\n",
    "\n",
    "df_with_A = df_with_A.fillna(pd.Series(0, index=df_with_A.select_dtypes(exclude='category').columns))"
   ]
  },
  {
   "cell_type": "code",
   "execution_count": 67,
   "metadata": {},
   "outputs": [],
   "source": [
    "df_with_all = pd.merge(df_with_A, temp_flat_US, how='outer',\n",
    "                    left_on= ['curr', 'BU', 'period'],\n",
    "                    right_on=['curr', 'BU', 'period'])\n",
    "\n",
    "df_with_all = df_with_all.fillna(pd.Series(0, index=df_with_all.select_dtypes(exclude='category').columns))"
   ]
  },
  {
   "cell_type": "code",
   "execution_count": 70,
   "metadata": {},
   "outputs": [
    {
     "data": {
      "text/html": [
       "<div>\n",
       "<style scoped>\n",
       "    .dataframe tbody tr th:only-of-type {\n",
       "        vertical-align: middle;\n",
       "    }\n",
       "\n",
       "    .dataframe tbody tr th {\n",
       "        vertical-align: top;\n",
       "    }\n",
       "\n",
       "    .dataframe thead th {\n",
       "        text-align: right;\n",
       "    }\n",
       "</style>\n",
       "<table border=\"1\" class=\"dataframe\">\n",
       "  <thead>\n",
       "    <tr style=\"text-align: right;\">\n",
       "      <th></th>\n",
       "      <th>curr</th>\n",
       "      <th>BU</th>\n",
       "      <th>period</th>\n",
       "      <th>recognized_DC</th>\n",
       "      <th>recognized_US</th>\n",
       "      <th>service_DC</th>\n",
       "      <th>service_US</th>\n",
       "      <th>deferred_B_DC</th>\n",
       "      <th>deferred_B_US</th>\n",
       "      <th>deferred_3M_DC</th>\n",
       "      <th>...</th>\n",
       "      <th>deferred_1Y_DC_y</th>\n",
       "      <th>deferred_2Y_DC_y</th>\n",
       "      <th>deferred_3Y_DC_y</th>\n",
       "      <th>_merge</th>\n",
       "      <th>deferred_1M_US_y</th>\n",
       "      <th>deferred_6M_US_y</th>\n",
       "      <th>deferred_1Y_US_y</th>\n",
       "      <th>deferred_2Y_US_y</th>\n",
       "      <th>deferred_3Y_US_y</th>\n",
       "      <th>deferred_1M_DC</th>\n",
       "    </tr>\n",
       "  </thead>\n",
       "  <tbody>\n",
       "    <tr>\n",
       "      <th>138</th>\n",
       "      <td>SEK</td>\n",
       "      <td>Experience Cloud</td>\n",
       "      <td>2020-06</td>\n",
       "      <td>58206.69</td>\n",
       "      <td>5894.59</td>\n",
       "      <td>0.00</td>\n",
       "      <td>0.00</td>\n",
       "      <td>0.0</td>\n",
       "      <td>0.00</td>\n",
       "      <td>0.00</td>\n",
       "      <td>...</td>\n",
       "      <td>0.0</td>\n",
       "      <td>0.0</td>\n",
       "      <td>0.0</td>\n",
       "      <td>left_only</td>\n",
       "      <td>0.00</td>\n",
       "      <td>0.0</td>\n",
       "      <td>0.0</td>\n",
       "      <td>0.0</td>\n",
       "      <td>0.0</td>\n",
       "      <td>0.00</td>\n",
       "    </tr>\n",
       "    <tr>\n",
       "      <th>208</th>\n",
       "      <td>IDR</td>\n",
       "      <td>Document Cloud</td>\n",
       "      <td>2020-05</td>\n",
       "      <td>0.00</td>\n",
       "      <td>0.00</td>\n",
       "      <td>0.00</td>\n",
       "      <td>0.00</td>\n",
       "      <td>0.0</td>\n",
       "      <td>0.00</td>\n",
       "      <td>0.00</td>\n",
       "      <td>...</td>\n",
       "      <td>0.0</td>\n",
       "      <td>0.0</td>\n",
       "      <td>0.0</td>\n",
       "      <td>left_only</td>\n",
       "      <td>0.00</td>\n",
       "      <td>0.0</td>\n",
       "      <td>0.0</td>\n",
       "      <td>0.0</td>\n",
       "      <td>0.0</td>\n",
       "      <td>21817100.00</td>\n",
       "    </tr>\n",
       "    <tr>\n",
       "      <th>83</th>\n",
       "      <td>GBP</td>\n",
       "      <td>Print &amp; Publishing</td>\n",
       "      <td>2020-06</td>\n",
       "      <td>6534.58</td>\n",
       "      <td>8142.64</td>\n",
       "      <td>0.00</td>\n",
       "      <td>0.00</td>\n",
       "      <td>0.0</td>\n",
       "      <td>0.00</td>\n",
       "      <td>0.00</td>\n",
       "      <td>...</td>\n",
       "      <td>3598.0</td>\n",
       "      <td>0.0</td>\n",
       "      <td>0.0</td>\n",
       "      <td>both</td>\n",
       "      <td>179.91</td>\n",
       "      <td>0.0</td>\n",
       "      <td>3598.0</td>\n",
       "      <td>0.0</td>\n",
       "      <td>0.0</td>\n",
       "      <td>4825.77</td>\n",
       "    </tr>\n",
       "    <tr>\n",
       "      <th>9</th>\n",
       "      <td>AUD</td>\n",
       "      <td>Experience Cloud</td>\n",
       "      <td>2020-04</td>\n",
       "      <td>1950196.81</td>\n",
       "      <td>1249155.71</td>\n",
       "      <td>1832284.44</td>\n",
       "      <td>1055414.53</td>\n",
       "      <td>207010.0</td>\n",
       "      <td>134812.73</td>\n",
       "      <td>1893817.76</td>\n",
       "      <td>...</td>\n",
       "      <td>0.0</td>\n",
       "      <td>0.0</td>\n",
       "      <td>0.0</td>\n",
       "      <td>left_only</td>\n",
       "      <td>0.00</td>\n",
       "      <td>0.0</td>\n",
       "      <td>0.0</td>\n",
       "      <td>0.0</td>\n",
       "      <td>0.0</td>\n",
       "      <td>46701.50</td>\n",
       "    </tr>\n",
       "    <tr>\n",
       "      <th>116</th>\n",
       "      <td>NOK</td>\n",
       "      <td>Document Cloud</td>\n",
       "      <td>2020-05</td>\n",
       "      <td>5279.00</td>\n",
       "      <td>485.77</td>\n",
       "      <td>0.00</td>\n",
       "      <td>0.00</td>\n",
       "      <td>0.0</td>\n",
       "      <td>0.00</td>\n",
       "      <td>0.00</td>\n",
       "      <td>...</td>\n",
       "      <td>0.0</td>\n",
       "      <td>0.0</td>\n",
       "      <td>0.0</td>\n",
       "      <td>left_only</td>\n",
       "      <td>0.00</td>\n",
       "      <td>0.0</td>\n",
       "      <td>0.0</td>\n",
       "      <td>0.0</td>\n",
       "      <td>0.0</td>\n",
       "      <td>113818.37</td>\n",
       "    </tr>\n",
       "    <tr>\n",
       "      <th>120</th>\n",
       "      <td>PEN</td>\n",
       "      <td>Creative</td>\n",
       "      <td>2020-04</td>\n",
       "      <td>10.22</td>\n",
       "      <td>2.99</td>\n",
       "      <td>0.00</td>\n",
       "      <td>0.00</td>\n",
       "      <td>0.0</td>\n",
       "      <td>0.00</td>\n",
       "      <td>0.00</td>\n",
       "      <td>...</td>\n",
       "      <td>0.0</td>\n",
       "      <td>0.0</td>\n",
       "      <td>0.0</td>\n",
       "      <td>left_only</td>\n",
       "      <td>0.00</td>\n",
       "      <td>0.0</td>\n",
       "      <td>0.0</td>\n",
       "      <td>0.0</td>\n",
       "      <td>0.0</td>\n",
       "      <td>395436.55</td>\n",
       "    </tr>\n",
       "    <tr>\n",
       "      <th>211</th>\n",
       "      <td>ILS</td>\n",
       "      <td>Creative</td>\n",
       "      <td>2020-05</td>\n",
       "      <td>0.00</td>\n",
       "      <td>0.00</td>\n",
       "      <td>0.00</td>\n",
       "      <td>0.00</td>\n",
       "      <td>0.0</td>\n",
       "      <td>0.00</td>\n",
       "      <td>0.00</td>\n",
       "      <td>...</td>\n",
       "      <td>0.0</td>\n",
       "      <td>0.0</td>\n",
       "      <td>0.0</td>\n",
       "      <td>left_only</td>\n",
       "      <td>0.00</td>\n",
       "      <td>0.0</td>\n",
       "      <td>0.0</td>\n",
       "      <td>0.0</td>\n",
       "      <td>0.0</td>\n",
       "      <td>391319.19</td>\n",
       "    </tr>\n",
       "    <tr>\n",
       "      <th>124</th>\n",
       "      <td>PHP</td>\n",
       "      <td>Creative</td>\n",
       "      <td>2020-05</td>\n",
       "      <td>25211.00</td>\n",
       "      <td>496.28</td>\n",
       "      <td>0.00</td>\n",
       "      <td>0.00</td>\n",
       "      <td>0.0</td>\n",
       "      <td>0.00</td>\n",
       "      <td>0.00</td>\n",
       "      <td>...</td>\n",
       "      <td>0.0</td>\n",
       "      <td>0.0</td>\n",
       "      <td>0.0</td>\n",
       "      <td>left_only</td>\n",
       "      <td>0.00</td>\n",
       "      <td>0.0</td>\n",
       "      <td>0.0</td>\n",
       "      <td>0.0</td>\n",
       "      <td>0.0</td>\n",
       "      <td>3208495.77</td>\n",
       "    </tr>\n",
       "    <tr>\n",
       "      <th>114</th>\n",
       "      <td>NOK</td>\n",
       "      <td>Creative</td>\n",
       "      <td>2020-06</td>\n",
       "      <td>91164.00</td>\n",
       "      <td>8707.85</td>\n",
       "      <td>0.00</td>\n",
       "      <td>0.00</td>\n",
       "      <td>0.0</td>\n",
       "      <td>0.00</td>\n",
       "      <td>0.00</td>\n",
       "      <td>...</td>\n",
       "      <td>0.0</td>\n",
       "      <td>0.0</td>\n",
       "      <td>0.0</td>\n",
       "      <td>left_only</td>\n",
       "      <td>0.00</td>\n",
       "      <td>0.0</td>\n",
       "      <td>0.0</td>\n",
       "      <td>0.0</td>\n",
       "      <td>0.0</td>\n",
       "      <td>2722164.06</td>\n",
       "    </tr>\n",
       "    <tr>\n",
       "      <th>200</th>\n",
       "      <td>EUR</td>\n",
       "      <td>DX Other</td>\n",
       "      <td>2020-04</td>\n",
       "      <td>0.00</td>\n",
       "      <td>0.00</td>\n",
       "      <td>0.00</td>\n",
       "      <td>0.00</td>\n",
       "      <td>0.0</td>\n",
       "      <td>0.00</td>\n",
       "      <td>0.00</td>\n",
       "      <td>...</td>\n",
       "      <td>0.0</td>\n",
       "      <td>0.0</td>\n",
       "      <td>0.0</td>\n",
       "      <td>left_only</td>\n",
       "      <td>0.00</td>\n",
       "      <td>0.0</td>\n",
       "      <td>0.0</td>\n",
       "      <td>0.0</td>\n",
       "      <td>0.0</td>\n",
       "      <td>2145.83</td>\n",
       "    </tr>\n",
       "  </tbody>\n",
       "</table>\n",
       "<p>10 rows × 33 columns</p>\n",
       "</div>"
      ],
      "text/plain": [
       "    curr                  BU   period  recognized_DC  recognized_US  \\\n",
       "138  SEK    Experience Cloud  2020-06       58206.69        5894.59   \n",
       "208  IDR      Document Cloud  2020-05           0.00           0.00   \n",
       "83   GBP  Print & Publishing  2020-06        6534.58        8142.64   \n",
       "9    AUD    Experience Cloud  2020-04     1950196.81     1249155.71   \n",
       "116  NOK      Document Cloud  2020-05        5279.00         485.77   \n",
       "120  PEN            Creative  2020-04          10.22           2.99   \n",
       "211  ILS            Creative  2020-05           0.00           0.00   \n",
       "124  PHP            Creative  2020-05       25211.00         496.28   \n",
       "114  NOK            Creative  2020-06       91164.00        8707.85   \n",
       "200  EUR            DX Other  2020-04           0.00           0.00   \n",
       "\n",
       "     service_DC  service_US  deferred_B_DC  deferred_B_US  deferred_3M_DC  \\\n",
       "138        0.00        0.00            0.0           0.00            0.00   \n",
       "208        0.00        0.00            0.0           0.00            0.00   \n",
       "83         0.00        0.00            0.0           0.00            0.00   \n",
       "9    1832284.44  1055414.53       207010.0      134812.73      1893817.76   \n",
       "116        0.00        0.00            0.0           0.00            0.00   \n",
       "120        0.00        0.00            0.0           0.00            0.00   \n",
       "211        0.00        0.00            0.0           0.00            0.00   \n",
       "124        0.00        0.00            0.0           0.00            0.00   \n",
       "114        0.00        0.00            0.0           0.00            0.00   \n",
       "200        0.00        0.00            0.0           0.00            0.00   \n",
       "\n",
       "     ...  deferred_1Y_DC_y  deferred_2Y_DC_y  deferred_3Y_DC_y     _merge  \\\n",
       "138  ...               0.0               0.0               0.0  left_only   \n",
       "208  ...               0.0               0.0               0.0  left_only   \n",
       "83   ...            3598.0               0.0               0.0       both   \n",
       "9    ...               0.0               0.0               0.0  left_only   \n",
       "116  ...               0.0               0.0               0.0  left_only   \n",
       "120  ...               0.0               0.0               0.0  left_only   \n",
       "211  ...               0.0               0.0               0.0  left_only   \n",
       "124  ...               0.0               0.0               0.0  left_only   \n",
       "114  ...               0.0               0.0               0.0  left_only   \n",
       "200  ...               0.0               0.0               0.0  left_only   \n",
       "\n",
       "     deferred_1M_US_y  deferred_6M_US_y  deferred_1Y_US_y  deferred_2Y_US_y  \\\n",
       "138              0.00               0.0               0.0               0.0   \n",
       "208              0.00               0.0               0.0               0.0   \n",
       "83             179.91               0.0            3598.0               0.0   \n",
       "9                0.00               0.0               0.0               0.0   \n",
       "116              0.00               0.0               0.0               0.0   \n",
       "120              0.00               0.0               0.0               0.0   \n",
       "211              0.00               0.0               0.0               0.0   \n",
       "124              0.00               0.0               0.0               0.0   \n",
       "114              0.00               0.0               0.0               0.0   \n",
       "200              0.00               0.0               0.0               0.0   \n",
       "\n",
       "     deferred_3Y_US_y  deferred_1M_DC  \n",
       "138               0.0            0.00  \n",
       "208               0.0     21817100.00  \n",
       "83                0.0         4825.77  \n",
       "9                 0.0        46701.50  \n",
       "116               0.0       113818.37  \n",
       "120               0.0       395436.55  \n",
       "211               0.0       391319.19  \n",
       "124               0.0      3208495.77  \n",
       "114               0.0      2722164.06  \n",
       "200               0.0         2145.83  \n",
       "\n",
       "[10 rows x 33 columns]"
      ]
     },
     "execution_count": 70,
     "metadata": {},
     "output_type": "execute_result"
    }
   ],
   "source": [
    "#df_with_all.head(10)\n",
    "df_with_all.sample(10)\n",
    "#df_with_all.tail(10)"
   ]
  },
  {
   "cell_type": "code",
   "execution_count": 71,
   "metadata": {},
   "outputs": [
    {
     "data": {
      "text/plain": [
       "Index(['curr', 'BU', 'period', 'recognized_DC', 'recognized_US', 'service_DC',\n",
       "       'service_US', 'deferred_B_DC', 'deferred_B_US', 'deferred_3M_DC',\n",
       "       'deferred_3M_US', 'deferred_6M_DC_x', 'deferred_6M_US_x',\n",
       "       'deferred_1M_DC_x', 'deferred_1Y_DC_x', 'deferred_2Y_DC_x',\n",
       "       'deferred_3Y_DC_x', 'deferred_1M_US_x', 'deferred_1Y_US_x',\n",
       "       'deferred_2Y_US_x', 'deferred_3Y_US_x', 'deferred_1M_DC_y',\n",
       "       'deferred_6M_DC_y', 'deferred_1Y_DC_y', 'deferred_2Y_DC_y',\n",
       "       'deferred_3Y_DC_y', '_merge', 'deferred_1M_US_y', 'deferred_6M_US_y',\n",
       "       'deferred_1Y_US_y', 'deferred_2Y_US_y', 'deferred_3Y_US_y',\n",
       "       'deferred_1M_DC'],\n",
       "      dtype='object')"
      ]
     },
     "execution_count": 71,
     "metadata": {},
     "output_type": "execute_result"
    }
   ],
   "source": [
    "df_with_all.columns"
   ]
  },
  {
   "cell_type": "markdown",
   "metadata": {},
   "source": [
    "###### Combining columns form the different data sources (they get merged with different names) and cleaning up the columns"
   ]
  },
  {
   "cell_type": "code",
   "execution_count": 76,
   "metadata": {},
   "outputs": [],
   "source": [
    "df_with_all['deferred_1M_DC']= df_with_all['deferred_1M_DC_x']+df_with_all['deferred_1M_DC_y']\n",
    "#df_with_all['deferred_3M_DC']= df_with_all['deferred_3M_DC_x']+df_with_all['deferred_3M_DC_y']\n",
    "df_with_all['deferred_6M_DC']= df_with_all['deferred_6M_DC_x']+df_with_all['deferred_6M_DC_y']\n",
    "df_with_all['deferred_1Y_DC']= df_with_all['deferred_1Y_DC_x']+df_with_all['deferred_1Y_DC_y']\n",
    "df_with_all['deferred_2Y_DC']= df_with_all['deferred_2Y_DC_x']+df_with_all['deferred_2Y_DC_y']\n",
    "df_with_all['deferred_3Y_DC']= df_with_all['deferred_3Y_DC_x']+df_with_all['deferred_3Y_DC_y']\n",
    "\n",
    "df_with_all['deferred_1M_US']= df_with_all['deferred_1M_US_x']+df_with_all['deferred_1M_US_y']\n",
    "#df_with_all['deferred_3M_US']= df_with_all['deferred_3M_US_x']+df_with_all['deferred_3M_US_y']\n",
    "\n",
    "df_with_all['deferred_6M_US']= df_with_all['deferred_6M_US_x']+df_with_all['deferred_6M_US_y']\n",
    "df_with_all['deferred_1Y_US']= df_with_all['deferred_1Y_US_x']+df_with_all['deferred_1Y_US_y']\n",
    "df_with_all['deferred_2Y_US']= df_with_all['deferred_2Y_US_x']+df_with_all['deferred_2Y_US_y']\n",
    "df_with_all['deferred_3Y_US']= df_with_all['deferred_3Y_US_x']+df_with_all['deferred_3Y_US_y']\n",
    "\n",
    "df_with_all.drop(labels = ['deferred_1M_DC_x','deferred_1M_DC_y',\n",
    "                        #'deferred_3M_DC_x','deferred_3M_DC_y',\n",
    "                        'deferred_6M_DC_x','deferred_6M_DC_y',\n",
    "                        'deferred_1Y_DC_x','deferred_1Y_DC_y',\n",
    "                        'deferred_2Y_DC_x','deferred_2Y_DC_y',\n",
    "                        'deferred_3Y_DC_x','deferred_3Y_DC_y',\n",
    "                        'deferred_1M_US_x','deferred_1M_US_y',   \n",
    "                        #'deferred_3M_US_x','deferred_3M_US_y',\n",
    "                        'deferred_6M_US_x','deferred_6M_US_y',\n",
    "                        'deferred_1Y_US_x','deferred_1Y_US_y',\n",
    "                        'deferred_2Y_US_x','deferred_2Y_US_y',\n",
    "                        'deferred_3Y_US_x','deferred_3Y_US_y'],\n",
    "                         axis=1, inplace=True)"
   ]
  },
  {
   "cell_type": "code",
   "execution_count": 77,
   "metadata": {},
   "outputs": [
    {
     "data": {
      "text/html": [
       "<div>\n",
       "<style scoped>\n",
       "    .dataframe tbody tr th:only-of-type {\n",
       "        vertical-align: middle;\n",
       "    }\n",
       "\n",
       "    .dataframe tbody tr th {\n",
       "        vertical-align: top;\n",
       "    }\n",
       "\n",
       "    .dataframe thead th {\n",
       "        text-align: right;\n",
       "    }\n",
       "</style>\n",
       "<table border=\"1\" class=\"dataframe\">\n",
       "  <thead>\n",
       "    <tr style=\"text-align: right;\">\n",
       "      <th></th>\n",
       "      <th>curr</th>\n",
       "      <th>BU</th>\n",
       "      <th>period</th>\n",
       "      <th>recognized_DC</th>\n",
       "      <th>recognized_US</th>\n",
       "      <th>service_DC</th>\n",
       "      <th>service_US</th>\n",
       "      <th>deferred_B_DC</th>\n",
       "      <th>deferred_B_US</th>\n",
       "      <th>deferred_3M_DC</th>\n",
       "      <th>...</th>\n",
       "      <th>deferred_1M_DC</th>\n",
       "      <th>deferred_6M_DC</th>\n",
       "      <th>deferred_1Y_DC</th>\n",
       "      <th>deferred_2Y_DC</th>\n",
       "      <th>deferred_3Y_DC</th>\n",
       "      <th>deferred_1M_US</th>\n",
       "      <th>deferred_6M_US</th>\n",
       "      <th>deferred_1Y_US</th>\n",
       "      <th>deferred_2Y_US</th>\n",
       "      <th>deferred_3Y_US</th>\n",
       "    </tr>\n",
       "  </thead>\n",
       "  <tbody>\n",
       "    <tr>\n",
       "      <th>2</th>\n",
       "      <td>ARS</td>\n",
       "      <td>Creative</td>\n",
       "      <td>2020-06</td>\n",
       "      <td>71292.00</td>\n",
       "      <td>1069.81</td>\n",
       "      <td>0.0</td>\n",
       "      <td>0.0</td>\n",
       "      <td>0.0</td>\n",
       "      <td>0.00</td>\n",
       "      <td>0.0</td>\n",
       "      <td>...</td>\n",
       "      <td>5.949502e+06</td>\n",
       "      <td>0.0</td>\n",
       "      <td>1.489774e+06</td>\n",
       "      <td>0.0</td>\n",
       "      <td>0.0</td>\n",
       "      <td>89110.38</td>\n",
       "      <td>0.0</td>\n",
       "      <td>22231.63</td>\n",
       "      <td>0.00</td>\n",
       "      <td>0.0</td>\n",
       "    </tr>\n",
       "    <tr>\n",
       "      <th>212</th>\n",
       "      <td>ILS</td>\n",
       "      <td>Creative</td>\n",
       "      <td>2020-06</td>\n",
       "      <td>0.00</td>\n",
       "      <td>0.00</td>\n",
       "      <td>0.0</td>\n",
       "      <td>0.0</td>\n",
       "      <td>0.0</td>\n",
       "      <td>0.00</td>\n",
       "      <td>0.0</td>\n",
       "      <td>...</td>\n",
       "      <td>3.445973e+05</td>\n",
       "      <td>0.0</td>\n",
       "      <td>1.358836e+05</td>\n",
       "      <td>0.0</td>\n",
       "      <td>0.0</td>\n",
       "      <td>98048.39</td>\n",
       "      <td>0.0</td>\n",
       "      <td>38578.94</td>\n",
       "      <td>0.00</td>\n",
       "      <td>0.0</td>\n",
       "    </tr>\n",
       "    <tr>\n",
       "      <th>90</th>\n",
       "      <td>INR</td>\n",
       "      <td>Other Solutions</td>\n",
       "      <td>2020-04</td>\n",
       "      <td>-121.68</td>\n",
       "      <td>-1.65</td>\n",
       "      <td>0.0</td>\n",
       "      <td>0.0</td>\n",
       "      <td>0.0</td>\n",
       "      <td>0.00</td>\n",
       "      <td>0.0</td>\n",
       "      <td>...</td>\n",
       "      <td>0.000000e+00</td>\n",
       "      <td>0.0</td>\n",
       "      <td>0.000000e+00</td>\n",
       "      <td>0.0</td>\n",
       "      <td>0.0</td>\n",
       "      <td>0.00</td>\n",
       "      <td>0.0</td>\n",
       "      <td>0.00</td>\n",
       "      <td>0.00</td>\n",
       "      <td>0.0</td>\n",
       "    </tr>\n",
       "    <tr>\n",
       "      <th>94</th>\n",
       "      <td>JPY</td>\n",
       "      <td>Creative</td>\n",
       "      <td>2020-06</td>\n",
       "      <td>59309774.00</td>\n",
       "      <td>554000.69</td>\n",
       "      <td>0.0</td>\n",
       "      <td>0.0</td>\n",
       "      <td>1463000.0</td>\n",
       "      <td>13679.05</td>\n",
       "      <td>0.0</td>\n",
       "      <td>...</td>\n",
       "      <td>4.155874e+08</td>\n",
       "      <td>0.0</td>\n",
       "      <td>1.535126e+09</td>\n",
       "      <td>21060864.0</td>\n",
       "      <td>0.0</td>\n",
       "      <td>3882199.27</td>\n",
       "      <td>0.0</td>\n",
       "      <td>13126852.30</td>\n",
       "      <td>195655.43</td>\n",
       "      <td>0.0</td>\n",
       "    </tr>\n",
       "    <tr>\n",
       "      <th>151</th>\n",
       "      <td>THB</td>\n",
       "      <td>Creative</td>\n",
       "      <td>2020-06</td>\n",
       "      <td>64036.00</td>\n",
       "      <td>1973.80</td>\n",
       "      <td>0.0</td>\n",
       "      <td>0.0</td>\n",
       "      <td>0.0</td>\n",
       "      <td>0.00</td>\n",
       "      <td>0.0</td>\n",
       "      <td>...</td>\n",
       "      <td>2.581878e+06</td>\n",
       "      <td>0.0</td>\n",
       "      <td>1.320365e+06</td>\n",
       "      <td>0.0</td>\n",
       "      <td>0.0</td>\n",
       "      <td>79783.68</td>\n",
       "      <td>0.0</td>\n",
       "      <td>40703.46</td>\n",
       "      <td>0.00</td>\n",
       "      <td>0.0</td>\n",
       "    </tr>\n",
       "  </tbody>\n",
       "</table>\n",
       "<p>5 rows × 22 columns</p>\n",
       "</div>"
      ],
      "text/plain": [
       "    curr               BU   period  recognized_DC  recognized_US  service_DC  \\\n",
       "2    ARS         Creative  2020-06       71292.00        1069.81         0.0   \n",
       "212  ILS         Creative  2020-06           0.00           0.00         0.0   \n",
       "90   INR  Other Solutions  2020-04        -121.68          -1.65         0.0   \n",
       "94   JPY         Creative  2020-06    59309774.00      554000.69         0.0   \n",
       "151  THB         Creative  2020-06       64036.00        1973.80         0.0   \n",
       "\n",
       "     service_US  deferred_B_DC  deferred_B_US  deferred_3M_DC  ...  \\\n",
       "2           0.0            0.0           0.00             0.0  ...   \n",
       "212         0.0            0.0           0.00             0.0  ...   \n",
       "90          0.0            0.0           0.00             0.0  ...   \n",
       "94          0.0      1463000.0       13679.05             0.0  ...   \n",
       "151         0.0            0.0           0.00             0.0  ...   \n",
       "\n",
       "     deferred_1M_DC deferred_6M_DC  deferred_1Y_DC  deferred_2Y_DC  \\\n",
       "2      5.949502e+06            0.0    1.489774e+06             0.0   \n",
       "212    3.445973e+05            0.0    1.358836e+05             0.0   \n",
       "90     0.000000e+00            0.0    0.000000e+00             0.0   \n",
       "94     4.155874e+08            0.0    1.535126e+09      21060864.0   \n",
       "151    2.581878e+06            0.0    1.320365e+06             0.0   \n",
       "\n",
       "     deferred_3Y_DC  deferred_1M_US  deferred_6M_US  deferred_1Y_US  \\\n",
       "2               0.0        89110.38             0.0        22231.63   \n",
       "212             0.0        98048.39             0.0        38578.94   \n",
       "90              0.0            0.00             0.0            0.00   \n",
       "94              0.0      3882199.27             0.0     13126852.30   \n",
       "151             0.0        79783.68             0.0        40703.46   \n",
       "\n",
       "     deferred_2Y_US  deferred_3Y_US  \n",
       "2              0.00             0.0  \n",
       "212            0.00             0.0  \n",
       "90             0.00             0.0  \n",
       "94        195655.43             0.0  \n",
       "151            0.00             0.0  \n",
       "\n",
       "[5 rows x 22 columns]"
      ]
     },
     "execution_count": 77,
     "metadata": {},
     "output_type": "execute_result"
    }
   ],
   "source": [
    "#df_with_all.head(5)\n",
    "df_with_all.sample(5)\n",
    "#df_with_all.tail(5)"
   ]
  },
  {
   "cell_type": "markdown",
   "metadata": {},
   "source": [
    "###### Checking totals to se if they match what we expect"
   ]
  },
  {
   "cell_type": "code",
   "execution_count": 78,
   "metadata": {},
   "outputs": [
    {
     "name": "stdout",
     "output_type": "stream",
     "text": [
      "sum of temp flat DC 1M:       44973.05967750795\n",
      "sum of base_df before DC 1M:  16541598879.070002\n",
      "sum of final DC 1M:           16541643852.12968\n",
      "16541643852.12968\n",
      "16541643852.129679\n"
     ]
    }
   ],
   "source": [
    "print('sum of temp flat DC 1M:      ', temp_flat_DC['deferred_1M_DC'].sum())\n",
    "print('sum of base_df before DC 1M: ', df['deferred_1M_DC'].sum())\n",
    "print('sum of final DC 1M:          ', df_with_all['deferred_1M_DC'].sum())\n",
    "\n",
    "a = temp_flat_DC['deferred_1M_DC'].sum()\n",
    "b = df['deferred_1M_DC'].sum()\n",
    "c = df_with_all['deferred_1M_DC'].sum()\n",
    "print(c)\n",
    "print(a+b)"
   ]
  },
  {
   "cell_type": "markdown",
   "metadata": {},
   "source": [
    "# TO BE DONE: Create a table that contains the total billings by DC for each dataframe and each step for auditing\n",
    "\n",
    " - start with all of the DC\n",
    " - then create function that appends and adds rows\n",
    " - then do the same for the DC stuff type_A\n",
    " - then check the totals\n"
   ]
  },
  {
   "cell_type": "markdown",
   "metadata": {},
   "source": [
    "##### Renaming the cleaned billings dataframe as df_billings"
   ]
  },
  {
   "cell_type": "code",
   "execution_count": 79,
   "metadata": {},
   "outputs": [],
   "source": [
    "df_billings = df_with_all.copy()"
   ]
  },
  {
   "cell_type": "markdown",
   "metadata": {},
   "source": [
    "###### Checking that there are no bilings from future periods in this dataframe. If so, drop them"
   ]
  },
  {
   "cell_type": "code",
   "execution_count": null,
   "metadata": {},
   "outputs": [],
   "source": [
    "#drop_index= df_billings[df_billings['period']=='2020-04'].index\n",
    "df_billings.drop(drop_index, inplace=True)"
   ]
  },
  {
   "cell_type": "markdown",
   "metadata": {},
   "source": [
    "##### Sorting the dataframe and saving this dataframe for use later in a pickle file"
   ]
  },
  {
   "cell_type": "code",
   "execution_count": 80,
   "metadata": {},
   "outputs": [],
   "source": [
    "df_billings = df_billings.sort_values(['curr', 'BU', 'period'], ascending = (True, True, True))\n",
    "\n",
    "with open('../data/processed/COVID_billings.p', 'wb') as f:\n",
    "    pickle.dump(df_billings, f)  "
   ]
  },
  {
   "cell_type": "markdown",
   "metadata": {},
   "source": [
    "### Loading All of the other information we need here from excel files\n",
    " - currency_map: contain a mapping of currency the majority of our billings in each country\n",
    " - FX_data: contains current spot rates, FX forward rates and FX volatilities\n",
    " - FX_forward_rates: contains the forward rates used in the FP&A Plan\n",
    " - Bookings Forecast: contains the most recent FP&A net new booking forecast (usually only one fiscal year included)"
   ]
  },
  {
   "cell_type": "markdown",
   "metadata": {},
   "source": [
    "###### Currency Map"
   ]
  },
  {
   "cell_type": "code",
   "execution_count": null,
   "metadata": {},
   "outputs": [],
   "source": [
    "df_curr_map = pd.read_excel(\"../data/currency_map.xlsx\", sheet_name=\"curr_map\")\n",
    "df_curr_map[\"Country\"] = df_curr_map[\"Country\"].str.replace(\"\\(MA\\)\", \"\", case=False)"
   ]
  },
  {
   "cell_type": "markdown",
   "metadata": {},
   "source": [
    "##### FX data"
   ]
  },
  {
   "cell_type": "code",
   "execution_count": null,
   "metadata": {},
   "outputs": [],
   "source": [
    "df_FX_rates = pd.read_excel('../data/FX_data.xlsx', sheet_name='to_matlab')\n",
    "df_FX_rates['VOL_3M'] = df_FX_rates['VOL_3M']/100\n",
    "df_FX_rates['VOL_6M'] = df_FX_rates['VOL_6M']/100\n",
    "df_FX_rates['VOL_9M'] = df_FX_rates['VOL_9M']/100\n",
    "df_FX_rates['VOL_1Y'] = df_FX_rates['VOL_1Y']/100"
   ]
  },
  {
   "cell_type": "code",
   "execution_count": null,
   "metadata": {},
   "outputs": [],
   "source": [
    "#df_FX_rates.head(5)\n",
    "#df_FX_rates.sample(5)\n",
    "#df_FX_rates.tail(5)"
   ]
  },
  {
   "cell_type": "markdown",
   "metadata": {},
   "source": [
    "###### FX Forward Rates used in the FP&A Plan"
   ]
  },
  {
   "cell_type": "code",
   "execution_count": null,
   "metadata": {},
   "outputs": [],
   "source": [
    "df_FX_fwds = pd.read_excel('../data/FX_forward_rates.xlsx', sheet_name='forward_data', \n",
    "                          skiprows = 1, usecols=\"C,G\")\n",
    "\n",
    "df_FX_fwds.rename(index=str, columns={'Unnamed: 2': 'curr', 'FWD REF':'forward'}, inplace=True)"
   ]
  },
  {
   "cell_type": "code",
   "execution_count": null,
   "metadata": {},
   "outputs": [],
   "source": [
    "# Remove the # below to see the entire list of FX_fwds in the plan\n",
    "#df_FX_fwds"
   ]
  },
  {
   "cell_type": "markdown",
   "metadata": {},
   "source": [
    "##### Bookings Forecast"
   ]
  },
  {
   "cell_type": "code",
   "execution_count": null,
   "metadata": {},
   "outputs": [],
   "source": [
    "df_bookings = pd.read_excel('../data/2020_bookings_fcst_Q1.xlsx', sheet_name='bookings')"
   ]
  },
  {
   "cell_type": "code",
   "execution_count": null,
   "metadata": {},
   "outputs": [],
   "source": [
    "#df_bookings.head(10)\n",
    "#df_bookings.sample(10)\n",
    "#df_bookings.tail(10)"
   ]
  },
  {
   "cell_type": "markdown",
   "metadata": {},
   "source": [
    "### Cleaning up the bookings data\n",
    " - remove odd strings such as '(EB)' from BU, (IS) from Internal Segment, etc\n",
    " - dropping columns we do not need\n",
    " - renaming columns to better match our data naming convention\n",
    " \n",
    " NOTE: The '('  and ')' is a special character so we need to precede these with the escape character '\\'"
   ]
  },
  {
   "cell_type": "code",
   "execution_count": null,
   "metadata": {},
   "outputs": [],
   "source": [
    "df_bookings['EBU'] = df_bookings['EBU'].str.replace(' \\(EB\\)', '', case=False)\n",
    "df_bookings['Internal Segment'] = df_bookings['Internal Segment'].str.replace('\\(IS\\)', '')\n",
    "df_bookings['PMBU'] = df_bookings['PMBU'].str.replace('\\(PMBU\\)', '')\n",
    "df_bookings['GEO'] = df_bookings['GEO'].str.replace('\\(G\\)', '')\n",
    "df_bookings['Market Area'] = df_bookings['Market Area'].str.replace('\\(MA\\)', '')"
   ]
  },
  {
   "cell_type": "code",
   "execution_count": null,
   "metadata": {},
   "outputs": [],
   "source": [
    "df_bookings.drop(columns = ['Hedge', 'Mark Segment', 'Type', 'Scenario', 'FX'], inplace = True)\n",
    "\n",
    "df_bookings.rename(index=str, columns = {'EBU': 'BU', \n",
    "                                        'Internal Segment': 'segment',\n",
    "                                        'PMBU': 'product',\n",
    "                                        'GEO':'geo',\n",
    "                                        'Market Area': 'country',\n",
    "                                        'Bookings Type': 'booking_type',\n",
    "                                        'value': 'US_amount'}, inplace =True)"
   ]
  },
  {
   "cell_type": "code",
   "execution_count": null,
   "metadata": {},
   "outputs": [],
   "source": [
    "#df_bookings.head(10)\n",
    "#df_bookings.sample(10)\n",
    "#df_bookings.tail(10)"
   ]
  },
  {
   "cell_type": "markdown",
   "metadata": {},
   "source": [
    "###### The cell below shows samples of what is in the data. Removing one of the parenthesis will execute the code. (One at a time)"
   ]
  },
  {
   "cell_type": "code",
   "execution_count": null,
   "metadata": {},
   "outputs": [],
   "source": [
    "#df_bookings['BU'].value_counts()\n",
    "#df_bookings['segment'].value_counts()\n",
    "#df_bookings['product'].value_counts()\n",
    "#df_bookings['country'].value_counts()\n",
    "#df_bookings['booking_type'].value_counts()"
   ]
  },
  {
   "cell_type": "markdown",
   "metadata": {},
   "source": [
    "##### Merging the bookings country data to a currency using the currency map dataframe (df_curr_map)"
   ]
  },
  {
   "cell_type": "code",
   "execution_count": null,
   "metadata": {},
   "outputs": [],
   "source": [
    "df_curr_map"
   ]
  },
  {
   "cell_type": "code",
   "execution_count": null,
   "metadata": {},
   "outputs": [],
   "source": [
    "list_book_ctry = df_bookings['country'].unique()\n",
    "print('Countries in the bookings file: \\n', list_book_ctry)\n",
    "\n",
    "list_curr_map = df_curr_map['Country'].unique()\n",
    "print('Countries in the currency map file: \\n', list_curr_map)\n"
   ]
  },
  {
   "cell_type": "markdown",
   "metadata": {},
   "source": [
    "##### Checking that we have the currency mapping for every country where we have a bookings forecast"
   ]
  },
  {
   "cell_type": "code",
   "execution_count": null,
   "metadata": {},
   "outputs": [],
   "source": [
    "a = list(set(list_book_ctry) & set(list_curr_map))\n",
    "\n",
    "not_in_map = set(list_book_ctry).difference(set(list_curr_map))\n",
    "if len(not_in_map)!=0:\n",
    "    print('There is a bookings currency that is not in the currency map!\\nWe need to look into the currency map file and add this!')\n",
    "else:\n",
    "    print('The bookings currencies are in the currency map. OK to merge the dataframes.')"
   ]
  },
  {
   "cell_type": "markdown",
   "metadata": {},
   "source": [
    "###### Merge the bookings forecast with the currency map"
   ]
  },
  {
   "cell_type": "code",
   "execution_count": null,
   "metadata": {},
   "outputs": [],
   "source": [
    "df_bookings = pd.merge(df_bookings, df_curr_map, how='left', left_on='country', right_on='Country')"
   ]
  },
  {
   "cell_type": "code",
   "execution_count": null,
   "metadata": {},
   "outputs": [],
   "source": [
    "#df_bookings.head(10)\n",
    "#df_bookings.sample(10)\n",
    "#df_bookings.tail(10)"
   ]
  },
  {
   "cell_type": "markdown",
   "metadata": {},
   "source": [
    "### Adding periods weeks (from the Adobe calendar) to the billings dataframe"
   ]
  },
  {
   "cell_type": "code",
   "execution_count": null,
   "metadata": {},
   "outputs": [],
   "source": [
    "#df_cal.head(10)\n",
    "#df_cal.sample(10)\n",
    "#df_cal.tail(10)"
   ]
  },
  {
   "cell_type": "markdown",
   "metadata": {},
   "source": [
    "##### Creating a column in df_cal with year  '-' the last two digits of the per_ticker to match with the billings dataframe"
   ]
  },
  {
   "cell_type": "code",
   "execution_count": null,
   "metadata": {},
   "outputs": [],
   "source": [
    "df_cal['p2digit']=df_cal['Period'].astype(str)\n",
    "df_cal['p2digit']=df_cal['p2digit'].str.zfill(2)\n",
    "\n",
    "df_cal['period_match']=df_cal['Year'].astype(str) + '-' + df_cal['p2digit'].astype(str)\n",
    "\n",
    "df_cal.drop(['p2digit'],axis=1, inplace=True)"
   ]
  },
  {
   "cell_type": "code",
   "execution_count": null,
   "metadata": {},
   "outputs": [],
   "source": [
    "#df_cal.head(10)\n",
    "#df_cal.sample(10)\n",
    "#df_cal.tail(10)"
   ]
  },
  {
   "cell_type": "markdown",
   "metadata": {},
   "source": [
    "##### Getting the calendar ready to be merged with the df_billings dataframe by removing columns that are not needed"
   ]
  },
  {
   "cell_type": "code",
   "execution_count": null,
   "metadata": {},
   "outputs": [],
   "source": [
    "df_cal_2_merge = df_cal.copy()\n",
    "df_cal_2_merge.drop(['Year', 'Quarter', 'Period', 'Qtr_Ticker', 'Qtr_Start', 'Qtr_End', 'Per_Start',\n",
    "                     'Per_Ticker','Per_End'], axis=1, inplace=True)"
   ]
  },
  {
   "cell_type": "markdown",
   "metadata": {},
   "source": [
    "##### Merging the calendar periods with the periods in the df_billings dataframe to bring over period weeks"
   ]
  },
  {
   "cell_type": "code",
   "execution_count": null,
   "metadata": {},
   "outputs": [],
   "source": [
    "df_billings = df_billings.merge(df_cal_2_merge, how='left', left_on='period', right_on='period_match')\n",
    "df_billings.drop(['period_match', '_merge'], axis=1, inplace=True)"
   ]
  },
  {
   "cell_type": "code",
   "execution_count": null,
   "metadata": {},
   "outputs": [],
   "source": [
    "df_billings.columns"
   ]
  },
  {
   "cell_type": "code",
   "execution_count": null,
   "metadata": {},
   "outputs": [],
   "source": [
    "#df_billings.head(5)\n",
    "#df_billings.sample(5)\n",
    "#df_billings.tail(5)"
   ]
  },
  {
   "cell_type": "markdown",
   "metadata": {},
   "source": [
    "##### Saving these dataframes in as a python dictionary in the pickle file 'all_inputs.p'"
   ]
  },
  {
   "cell_type": "code",
   "execution_count": null,
   "metadata": {},
   "outputs": [],
   "source": [
    "df_billings=df_billings.sort_values(['curr', 'BU', 'period'], ascending = (True, True, True))\n",
    "\n",
    "input_df_dict = {'model_dict': model_dict,\n",
    "                 'billings':df_billings, \n",
    "                 'ADBE_cal':df_cal,\n",
    "                 'bookings': df_bookings,\n",
    "                 'FX_forwards': df_FX_fwds,\n",
    "                 'FX_rates': df_FX_rates\n",
    "                }\n",
    "\n",
    "pickle.dump(input_df_dict, open('../data/processed/all_inputs.p', 'wb'))"
   ]
  },
  {
   "cell_type": "markdown",
   "metadata": {},
   "source": [
    "### Cleaning up the billings dataframe\n",
    "- the billings dataframe does not contain every period if there are no bookings within a period.\n",
    "- the easiest way to create the forecast requires that we have all of the periods in each BU and currency pair (or at least 36 months worth so that we can incorporate the 3 year deferred bookings\n",
    "\n",
    "###### The bookings foreacast also contains products such as 'LiveCycle' and 'other solutions' that we do not expect to recieve billings for going forward (there are no booking associated with this) so we need to remove them from the billings data"
   ]
  },
  {
   "cell_type": "code",
   "execution_count": null,
   "metadata": {},
   "outputs": [],
   "source": [
    "def add_billings_periods(df_billings):\n",
    "    # clean up billings by removing LiveCycle and other solutions\n",
    "    index_lc = df_billings[df_billings['BU']=='LiveCycle'].index\n",
    "    df_billings.drop(index_lc, inplace=True)\n",
    "\n",
    "    index_other = df_billings[df_billings['BU']=='Other Solutions'].index\n",
    "    df_billings.drop(index_other, inplace=True)\n",
    "\n",
    "    \n",
    "    all_BU = df_billings['BU'].unique()\n",
    "    all_curr = df_billings['curr'].unique()\n",
    "\n",
    "    all_periods = df_billings['period'].unique()\n",
    "    all_periods = np.sort(all_periods)\n",
    "    all_periods = all_periods[-36:]\n",
    "\n",
    "\n",
    "    list_new_BUs = []\n",
    "    list_new_currs = []\n",
    "    list_new_periods = []\n",
    "\n",
    "    for this_BU in all_BU:\n",
    "\n",
    "        for this_curr in all_curr:\n",
    "\n",
    "            df_slice = df_billings[(df_billings['BU']== this_BU)&\n",
    "                                   (df_billings['curr']==this_curr)].copy()\n",
    "\n",
    "            list_periods = df_slice['period'].unique()\n",
    "            set_periods = set(list_periods)\n",
    "            set_all = set(all_periods)\n",
    "\n",
    "            periods_missing = set_all.difference(set_periods)\n",
    "\n",
    "            for i in periods_missing:\n",
    "                list_new_periods.append(i)\n",
    "                list_new_currs.append(this_curr)\n",
    "                list_new_BUs.append(this_BU)\n",
    "\n",
    "\n",
    "    df_to_add = pd.DataFrame({'curr': list_new_currs, \n",
    "                              'BU': list_new_BUs,\n",
    "                              'period': list_new_periods})\n",
    "\n",
    "    df_billings_check = pd.concat([df_billings, df_to_add], sort=False)\n",
    "\n",
    "    df_billings_check = df_billings_check.fillna(0)\n",
    "\n",
    "    df_billings = df_billings_check.copy()\n",
    "    \n",
    "    df_billings=df_billings.sort_values(['curr', 'BU', 'period'], ascending = (True, True, True))\n",
    "\n",
    "    return df_billings\n"
   ]
  },
  {
   "cell_type": "markdown",
   "metadata": {},
   "source": [
    "###### Explicit call to the add_billings_periods function is below"
   ]
  },
  {
   "cell_type": "code",
   "execution_count": null,
   "metadata": {},
   "outputs": [],
   "source": [
    "print('Length of df_billings before removal of old BUs and adding periods:', len(df_billings))\n",
    "df_billings = add_billings_periods(df_billings)\n",
    "print('Length of df_billings after removal of old BUs and adding periods:', len(df_billings))"
   ]
  },
  {
   "cell_type": "markdown",
   "metadata": {},
   "source": [
    "## Cleaning up the bookings dataframe to be incorporated into the deferred model\n",
    "- The billings dataframe is by period\n",
    "- the bookings dataframe contains net new bookings by quarter\n"
   ]
  },
  {
   "cell_type": "code",
   "execution_count": null,
   "metadata": {},
   "outputs": [],
   "source": [
    "# find the last period in the billings index\n",
    "last_period = '2020-03'\n",
    "\n",
    "list_BUs = df_bookings['BU'].unique()\n",
    "list_curr = df_bookings['Currency'].unique()\n",
    "\n",
    "print('This is the list of BUs in the bookings dataframe: ', list_BUs)\n",
    "print('This is the list of currencies in the bookings dataframe: ', list_curr)\n"
   ]
  },
  {
   "cell_type": "markdown",
   "metadata": {},
   "source": [
    "##### Creating data to add to the billings dataframe to incorporate period by period billings \n",
    "NOTE:  This is just creating the space in the dataframe for the data. We will fill it in later"
   ]
  },
  {
   "cell_type": "code",
   "execution_count": null,
   "metadata": {},
   "outputs": [],
   "source": [
    "# creating dataframe of zeros\n",
    "l_BU = []\n",
    "l_curr = []\n",
    "for BU in list_BUs:\n",
    "    for curr in list_curr:\n",
    "        l_BU.append(BU)\n",
    "        l_curr.append(curr)\n",
    "#print(l_BU)\n",
    "#print(l_curr)\n",
    "l_zero = np.zeros(len(l_BU))"
   ]
  },
  {
   "cell_type": "code",
   "execution_count": null,
   "metadata": {},
   "outputs": [],
   "source": [
    "data= {'BU':l_BU, 'curr':l_curr, \n",
    "      'Q1':l_zero,\n",
    "      'Q2':l_zero,\n",
    "      'Q3':l_zero,\n",
    "      'Q4':l_zero,\n",
    "      'P01':l_zero,\n",
    "      'P02':l_zero,\n",
    "      'P03':l_zero,\n",
    "      'P04':l_zero,\n",
    "      'P05':l_zero,\n",
    "      'P06':l_zero,\n",
    "      'P07':l_zero,\n",
    "       'P08':l_zero,\n",
    "       'P09':l_zero,\n",
    "       'P10':l_zero,\n",
    "       'P11':l_zero,\n",
    "       'P12':l_zero,\n",
    "      }\n",
    "\n",
    "df_book_period=pd.DataFrame(data)"
   ]
  },
  {
   "cell_type": "code",
   "execution_count": null,
   "metadata": {},
   "outputs": [],
   "source": [
    "#df_book_period.head(14)"
   ]
  },
  {
   "cell_type": "markdown",
   "metadata": {},
   "source": [
    "##### Uncomment below to remember what the df_bookings looked like"
   ]
  },
  {
   "cell_type": "code",
   "execution_count": null,
   "metadata": {},
   "outputs": [],
   "source": [
    "#df_bookings.head(10)\n",
    "#df_bookings.sample(10)\n",
    "#df_bookings.tail(10)"
   ]
  },
  {
   "cell_type": "markdown",
   "metadata": {},
   "source": [
    "##### The cell below fills in the df_book_period dataframe with the quarterly bookings numbers for each BU and currency"
   ]
  },
  {
   "cell_type": "code",
   "execution_count": null,
   "metadata": {},
   "outputs": [],
   "source": [
    "# fill in the quarters\n",
    "for i in range(len(df_book_period['BU'])):\n",
    "    \n",
    "    this_BU = df_book_period['BU'][i]\n",
    "    this_curr = df_book_period['curr'][i]\n",
    "    this_slice = df_bookings[(df_bookings['BU']==this_BU)&\n",
    "                          (df_bookings['Currency']==this_curr)]\n",
    "    \n",
    "    this_Q1= this_slice[this_slice['Quarter']=='Q1 2020']\n",
    "    sum_Q1 = this_Q1['US_amount'].sum()\n",
    "    df_book_period['Q1'].loc[i]=sum_Q1\n",
    "    \n",
    "    this_Q2= this_slice[this_slice['Quarter']=='Q2 2020']\n",
    "    sum_Q2 = this_Q2['US_amount'].sum()\n",
    "    df_book_period['Q2'].loc[i]=sum_Q2\n",
    "    \n",
    "    this_Q3= this_slice[this_slice['Quarter']=='Q4 2020']\n",
    "    sum_Q3 = this_Q3['US_amount'].sum()\n",
    "    df_book_period['Q3'].loc[i]=sum_Q3\n",
    "    \n",
    "    this_Q4= this_slice[this_slice['Quarter']=='Q4 2020']\n",
    "    sum_Q4 = this_Q4['US_amount'].sum()\n",
    "    df_book_period['Q4'].loc[i]=sum_Q4\n"
   ]
  },
  {
   "cell_type": "code",
   "execution_count": null,
   "metadata": {},
   "outputs": [],
   "source": [
    "#df_book_period.head(10)\n",
    "#df_book_period.sample(10)\n",
    "#df_book_period.tail(10)"
   ]
  },
  {
   "cell_type": "markdown",
   "metadata": {},
   "source": [
    "##### Creating lists of periods and quarters needed to fill out the df_book_period dataframe"
   ]
  },
  {
   "cell_type": "code",
   "execution_count": null,
   "metadata": {},
   "outputs": [],
   "source": [
    "# list of quarters for the percentages\n",
    "list_q2 = ['2019-04', '2019-05', '2019-06']\n",
    "list_q3 = ['2019-07', '2019-08', '2019-09']\n",
    "list_q4 = ['2019-10', '2019-11', '2019-12']\n",
    "list_q1 = [ '2020-01', '2020-02', '2020-03']\n",
    "\n",
    "list_periods = ['2020-01', '2020-02', '2020-03',\n",
    "                '2019-04', '2019-05', '2019-06',\n",
    "                '2019-07', '2019-08', '2019-09',\n",
    "                '2019-10', '2019-11', '2019-12']\n",
    "\n",
    "list_p_headers = ['P01', 'P02', 'P03',\n",
    "                  'P04', 'P05', 'P06',\n",
    "                  'P07', 'P08', 'P09',\n",
    "                  'P10', 'P11', 'P12'\n",
    "                 ]\n",
    "\n",
    "list_q_headers = ['Q1', 'Q1', 'Q1',\n",
    "                  'Q2', 'Q2', 'Q2',\n",
    "                  'Q3', 'Q3', 'Q3',\n",
    "                  'Q4', 'Q4', 'Q4']\n"
   ]
  },
  {
   "cell_type": "markdown",
   "metadata": {},
   "source": [
    "##### adding the booking periods to the dataframe. The bookings are split into periods based on last years percentage of 1 year deferred billings within the quarter.\n",
    "For example: P1 = 25%, P2 = 30%, P3 = 45% such that the sum is equal to the total quarterly billings last year"
   ]
  },
  {
   "cell_type": "code",
   "execution_count": null,
   "metadata": {},
   "outputs": [],
   "source": [
    "for i in range(len(df_book_period['BU'])):\n",
    "    \n",
    "    this_BU = df_book_period['BU'][i]\n",
    "    this_curr = df_book_period['curr'][i]\n",
    "    \n",
    "    this_slice = df_billings[(df_billings['BU']==this_BU)&\n",
    "                          (df_billings['curr']==this_curr)]\n",
    "    \n",
    "    for j in range(len(list_periods)):\n",
    "        this_period = list_periods[j]\n",
    "        this_header = list_p_headers[j]\n",
    "        this_quarter = list_q_headers[j]\n",
    "        this_P_slice = this_slice[this_slice['period']==this_period]\n",
    "        df_book_period.loc[[i],[this_header]]=this_P_slice['deferred_1Y_DC'].sum()\n",
    "        \n",
    "df_book_period['bill_Q1_sum'] = df_book_period['P01'] + df_book_period['P02'] + df_book_period['P03']    \n",
    "df_book_period['bill_Q2_sum'] = df_book_period['P04'] + df_book_period['P05'] + df_book_period['P06']    \n",
    "df_book_period['bill_Q3_sum'] = df_book_period['P07'] + df_book_period['P08'] + df_book_period['P09']    \n",
    "df_book_period['bill_Q4_sum'] = df_book_period['P10'] + df_book_period['P11'] + df_book_period['P12']    \n",
    "\n",
    "df_book_period['P01'] = df_book_period['Q1']*df_book_period['P01']/df_book_period['bill_Q1_sum']\n",
    "df_book_period['P02'] = df_book_period['Q1']*df_book_period['P02']/df_book_period['bill_Q1_sum']\n",
    "df_book_period['P03'] = df_book_period['Q1']*df_book_period['P03']/df_book_period['bill_Q1_sum']\n",
    "\n",
    "df_book_period['P04'] = df_book_period['Q2']*df_book_period['P04']/df_book_period['bill_Q2_sum']\n",
    "df_book_period['P05'] = df_book_period['Q2']*df_book_period['P05']/df_book_period['bill_Q2_sum']\n",
    "df_book_period['P06'] = df_book_period['Q2']*df_book_period['P06']/df_book_period['bill_Q2_sum']\n",
    "\n",
    "df_book_period['P07'] = df_book_period['Q3']*df_book_period['P07']/df_book_period['bill_Q3_sum']\n",
    "df_book_period['P08'] = df_book_period['Q3']*df_book_period['P08']/df_book_period['bill_Q3_sum']\n",
    "df_book_period['P09'] = df_book_period['Q3']*df_book_period['P09']/df_book_period['bill_Q3_sum']\n",
    "\n",
    "df_book_period['P10'] = df_book_period['Q4']*df_book_period['P10']/df_book_period['bill_Q4_sum']\n",
    "df_book_period['P11'] = df_book_period['Q4']*df_book_period['P11']/df_book_period['bill_Q4_sum']\n",
    "df_book_period['P12'] = df_book_period['Q4']*df_book_period['P12']/df_book_period['bill_Q4_sum']\n",
    "  "
   ]
  },
  {
   "cell_type": "code",
   "execution_count": null,
   "metadata": {},
   "outputs": [],
   "source": [
    "#df_book_period.head(10)\n",
    "#df_book_period.sample(10)\n",
    "df_book_period.tail(10)"
   ]
  },
  {
   "cell_type": "markdown",
   "metadata": {},
   "source": [
    "###### Cleaning up the dataframe by dropping the columns we no longer need"
   ]
  },
  {
   "cell_type": "code",
   "execution_count": null,
   "metadata": {},
   "outputs": [],
   "source": [
    "df_book_period.drop(['bill_Q1_sum', 'bill_Q2_sum', 'bill_Q3_sum', 'bill_Q4_sum'], axis=1,inplace=True)"
   ]
  },
  {
   "cell_type": "markdown",
   "metadata": {},
   "source": [
    "##### Converting these billings to local currency based on the forward rates at the time the plan was created"
   ]
  },
  {
   "cell_type": "code",
   "execution_count": null,
   "metadata": {},
   "outputs": [],
   "source": [
    "df_FX_fwds.set_index('curr', inplace=True)\n",
    "\n",
    "list_fwds =[]\n",
    "for i in range(len(df_book_period['curr'])):\n",
    "    this_curr = df_book_period['curr'][i]\n",
    "    \n",
    "    if this_curr == 'USD':\n",
    "        this_fwd=1\n",
    "    else:\n",
    "        this_fwd = df_FX_fwds.loc[this_curr, 'forward']\n",
    "    \n",
    "    \n",
    "    list_fwds.append(this_fwd)\n",
    "df_book_period['FX_fwd_rate'] = list_fwds\n",
    "\n",
    "df_book_period['P01_DC']=df_book_period['P01']* df_book_period['FX_fwd_rate']\n",
    "df_book_period['P02_DC']=df_book_period['P02']* df_book_period['FX_fwd_rate']\n",
    "df_book_period['P03_DC']=df_book_period['P03']* df_book_period['FX_fwd_rate']\n",
    "df_book_period['P04_DC']=df_book_period['P04']* df_book_period['FX_fwd_rate']\n",
    "df_book_period['P05_DC']=df_book_period['P05']* df_book_period['FX_fwd_rate']\n",
    "df_book_period['P06_DC']=df_book_period['P06']* df_book_period['FX_fwd_rate']\n",
    "df_book_period['P07_DC']=df_book_period['P07']* df_book_period['FX_fwd_rate']\n",
    "df_book_period['P08_DC']=df_book_period['P08']* df_book_period['FX_fwd_rate']\n",
    "df_book_period['P09_DC']=df_book_period['P09']* df_book_period['FX_fwd_rate']\n",
    "df_book_period['P10_DC']=df_book_period['P10']* df_book_period['FX_fwd_rate']\n",
    "df_book_period['P11_DC']=df_book_period['P11']* df_book_period['FX_fwd_rate']\n",
    "df_book_period['P12_DC']=df_book_period['P12']* df_book_period['FX_fwd_rate']"
   ]
  },
  {
   "cell_type": "code",
   "execution_count": null,
   "metadata": {},
   "outputs": [],
   "source": [
    "#df_book_period.head(10)\n",
    "#df_book_period.sample(10)\n",
    "df_book_period.tail(10)"
   ]
  },
  {
   "cell_type": "markdown",
   "metadata": {},
   "source": [
    "##### The df_book_period dataframe now has columns for bookings each period in both local currency and document currency"
   ]
  },
  {
   "cell_type": "code",
   "execution_count": null,
   "metadata": {},
   "outputs": [],
   "source": [
    "df_book_period.columns"
   ]
  },
  {
   "cell_type": "markdown",
   "metadata": {},
   "source": [
    "## Building the billings forecast in a dataframe called df_fcst\n",
    "\n",
    "###  Forecasting the billings into the future\n",
    "#### Steps\n",
    " - create list of bill periods that is sorted for the lookup functions\n",
    " - create forecast dataframe that includes the same columns (though in document currency) for the billings\n",
    " - add the bookings forecast to this data\n",
    " - create impact on deferred (project the new waterfall from this_\n",
    " - load up accounting's version of the initial waterfall (by BU)\n",
    " - reporting"
   ]
  },
  {
   "cell_type": "markdown",
   "metadata": {},
   "source": [
    "###### creating the list of historical bill periods"
   ]
  },
  {
   "cell_type": "code",
   "execution_count": null,
   "metadata": {},
   "outputs": [],
   "source": [
    "list_bill_periods = df_billings['period'].unique()\n",
    "list_bill_periods.sort()\n",
    "print(list_bill_periods)"
   ]
  },
  {
   "cell_type": "code",
   "execution_count": null,
   "metadata": {},
   "outputs": [],
   "source": [
    "v_BU = df_billings['BU'].copy()\n",
    "v_curr = df_billings['curr'].copy()\n",
    "v_both = v_BU + v_curr\n",
    "v_unique = v_both.unique()\n",
    "\n",
    "v_un_BU = [sub[:-3] for sub in v_unique]\n",
    "v_un_curr = [sub[-3:] for sub in v_unique]\n"
   ]
  },
  {
   "cell_type": "code",
   "execution_count": null,
   "metadata": {},
   "outputs": [],
   "source": [
    "list_future_periods = ['2020-04', '2020-05', '2020-06',\n",
    "                       '2020-07', '2020-08', '2020-09',\n",
    "                       '2020-10', '2020-11', '2020-12',\n",
    "                       '2021-01', '2021-02', '2021-03']"
   ]
  },
  {
   "cell_type": "code",
   "execution_count": null,
   "metadata": {},
   "outputs": [],
   "source": [
    "# creating the vectors for the future billings dataframe\n",
    "v_BU_2_df=[]\n",
    "v_curr_2_df=[]\n",
    "v_period_2_df = []\n",
    "\n",
    "for i in range(len(v_un_BU)):\n",
    "    this_BU = v_un_BU[i]\n",
    "    this_curr = v_un_curr[i]\n",
    "    \n",
    "    for period in list_future_periods:\n",
    "        v_BU_2_df.append(this_BU)\n",
    "        v_curr_2_df.append(this_curr)\n",
    "        v_period_2_df.append(period)\n",
    "\n",
    "print('This is the length of the vectors: ',len(v_BU_2_df))\n",
    "    "
   ]
  },
  {
   "cell_type": "markdown",
   "metadata": {},
   "source": [
    "##### Creating a list of the columns that we need to use in the df_billings dataframe (They contain document currency billings)"
   ]
  },
  {
   "cell_type": "code",
   "execution_count": null,
   "metadata": {},
   "outputs": [],
   "source": [
    "list_all_columns = df_billings.columns\n",
    "\n",
    "list_keepers= []\n",
    "for i in list_all_columns:\n",
    "    \n",
    "    if i[-2:]=='DC':\n",
    "        list_keepers.append(i)\n",
    "\n",
    "list_keepers"
   ]
  },
  {
   "cell_type": "markdown",
   "metadata": {},
   "source": [
    "##### Creating the df_fcst dataframe with every currency, BU and period we need"
   ]
  },
  {
   "cell_type": "code",
   "execution_count": null,
   "metadata": {},
   "outputs": [],
   "source": [
    "df_fcst = pd.DataFrame({'curr': v_curr_2_df,\n",
    "                        'BU': v_BU_2_df,\n",
    "                       'period': v_period_2_df})"
   ]
  },
  {
   "cell_type": "markdown",
   "metadata": {},
   "source": [
    "###### Adding the columns we need to populate (list_keepers)"
   ]
  },
  {
   "cell_type": "code",
   "execution_count": null,
   "metadata": {},
   "outputs": [],
   "source": [
    "for col in list_keepers:\n",
    "    df_fcst[col]=0"
   ]
  },
  {
   "cell_type": "code",
   "execution_count": null,
   "metadata": {},
   "outputs": [],
   "source": [
    "#df_fcst.head(10)\n",
    "#df_fcst.sample(10)\n",
    "#df_fcst.head(10)"
   ]
  },
  {
   "cell_type": "markdown",
   "metadata": {},
   "source": [
    "##### Adding period weeks to the forecast"
   ]
  },
  {
   "cell_type": "code",
   "execution_count": null,
   "metadata": {},
   "outputs": [],
   "source": [
    "df_cal_2_merge = df_cal.copy()\n",
    "df_cal_2_merge.drop(['Year', 'Quarter', 'Period', 'Qtr_Ticker', 'Qtr_Start', 'Qtr_End', 'Per_Start',\n",
    "                     'Per_Ticker','Per_End'], axis=1, inplace=True)\n",
    "\n",
    "df_fcst = df_fcst.merge(df_cal_2_merge, how='left', left_on='period', right_on='period_match')\n",
    "df_fcst.drop(['period_match'], axis=1, inplace=True)\n"
   ]
  },
  {
   "cell_type": "code",
   "execution_count": null,
   "metadata": {},
   "outputs": [],
   "source": [
    "#df_fcst.head(10)\n",
    "#df_fcst.sample(10)\n",
    "#df_fcst.tail(10)"
   ]
  },
  {
   "cell_type": "markdown",
   "metadata": {},
   "source": [
    "### The functions below create the billings forecast by looking up the historical billings and having them renew\n",
    "NOTE: The monthly billings are using a linear regression model on the monthly billings / weeks in the month"
   ]
  },
  {
   "cell_type": "markdown",
   "metadata": {},
   "source": [
    "### TO BE DONE TO COMPLETE:\n",
    " - the monthly billings contain several BU, currency pairs that have no monthly billings history. We need to shortcut the program by adding an if statement in that case\n",
    " - we need to alter the monthly program to search the periods for the best time period to use (maximizing the R-squared) since some of the BU, currency pairs exhibit growth only after a few years\n",
    " - determine which print statement need to be kept to make sure it is running appropriately\n",
    " - remove slice error warnings after investigating where the problem occurs"
   ]
  },
  {
   "cell_type": "code",
   "execution_count": null,
   "metadata": {},
   "outputs": [],
   "source": [
    "def find_unique_curr_and_BU(df_billings):\n",
    "    v_BU = df_billings['BU'].copy()\n",
    "    v_curr = df_billings['curr'].copy()\n",
    "    v_both = v_BU + v_curr\n",
    "    v_unique = v_both.unique()\n",
    "\n",
    "    v_un_BU = [sub[:-3] for sub in v_unique]\n",
    "    v_un_curr = [sub[-3:] for sub in v_unique]\n",
    "\n",
    "    return v_un_BU, v_un_curr"
   ]
  },
  {
   "cell_type": "code",
   "execution_count": null,
   "metadata": {},
   "outputs": [],
   "source": [
    "def create_billing_forecast(df_billings, df_fcst):\n",
    "\n",
    "    v_un_BU, v_un_curr = find_unique_curr_and_BU(df_billings)\n",
    "    \n",
    "    # new Vectorized approach (sort of)\n",
    "    counter = 0\n",
    "\n",
    "    for i in range(len(v_un_BU)):\n",
    "        this_BU = v_un_BU[i]\n",
    "        this_curr = v_un_curr[i]\n",
    "        \n",
    "        print('working on BU: {0}  and currency: {1}'.format(this_BU, this_curr))\n",
    "        df_slice = df_billings[(df_billings['BU']==this_BU) &\n",
    "                                (df_billings['curr']== this_curr)].copy()\n",
    "\n",
    "\n",
    "        old_per_3Y = list_bill_periods[-36:-24]\n",
    "        old_per_2Y = list_bill_periods[-24:-12]\n",
    "        old_per_1Y = list_bill_periods[-12:]\n",
    "        old_per_6M = list_bill_periods[-6:]\n",
    "        old_per_3M = list_bill_periods[-3:]\n",
    "\n",
    "        # three year\n",
    "        this_v_3yrs = df_slice.loc[df_slice['period'].isin(old_per_3Y), 'deferred_3Y_DC'].copy()\n",
    "        if len(this_v_3yrs)!=12:\n",
    "            print(this_BU, this_curr)\n",
    "            print(\"There is a period mismatch. length of 3yrs vector = \", len(this_v_3yrs))\n",
    "            print('Length of df_slice: ', len(df_slice))    \n",
    "            print('This BU: {0} and this currency: {1}'.format(this_BU, this_curr))\n",
    "\n",
    "        else:        \n",
    "            df_fcst.loc[(df_fcst['BU']==this_BU)&\n",
    "                            (df_fcst['curr']==this_curr),\n",
    "                            'deferred_3Y_DC'] = this_v_3yrs.values\n",
    "\n",
    "        #two years\n",
    "        this_v_2yrs = df_slice.loc[df_slice['period'].isin(old_per_2Y), 'deferred_2Y_DC'].copy()\n",
    "        if len(this_v_2yrs)!=12:\n",
    "            print(this_BU, this_curr)\n",
    "            print(\"There is a period mismatch. length of 2 yrs vector = \", len(this_v_2yrs))\n",
    "            print('Length of df_slice: ', len(df_slice))    \n",
    "            print('This BU: {0} and this currency: {1}'.format(this_BU, this_curr))\n",
    "        else:\n",
    "            df_fcst.loc[(df_fcst['BU']==this_BU)&\n",
    "                        (df_fcst['curr']==this_curr),\n",
    "                        'deferred_2Y_DC'] = this_v_2yrs.values\n",
    "\n",
    "        # one year\n",
    "        this_v_1yrs = df_slice.loc[df_slice['period'].isin(old_per_1Y), 'deferred_1Y_DC'].copy()\n",
    "        if len(this_v_1yrs)!= 12:\n",
    "            print(this_BU, this_curr)\n",
    "            print(\"There is a period mismatch. length of 1 yr vector = \", len(this_v_1yrs))\n",
    "            print('Length of df_slice: ', len(df_slice))    \n",
    "\n",
    "        else:\n",
    "            df_fcst.loc[(df_fcst['BU']==this_BU)&\n",
    "                        (df_fcst['curr']==this_curr),\n",
    "                        'deferred_1Y_DC'] = this_v_1yrs.values\n",
    "\n",
    "        # six months (we need to append the values to repeat once)\n",
    "        this_v_6M = df_slice.loc[df_slice['period'].isin(old_per_6M), 'deferred_6M_DC'].copy()\n",
    "        this_v_6M = this_v_6M.append(this_v_6M, ignore_index=True)\n",
    "\n",
    "        df_fcst.loc[(df_fcst['BU']==this_BU)&\n",
    "                    (df_fcst['curr']==this_curr),\n",
    "                    'deferred_6M_DC'] = this_v_6M.values\n",
    "\n",
    "        # three months:\n",
    "        this_v_3M = df_slice.loc[df_slice['period'].isin(old_per_3M), 'deferred_3M_DC'].copy()\n",
    "        this_v_3M = this_v_3M.append(this_v_3M, ignore_index=True)\n",
    "        this_v_3M = this_v_3M.append(this_v_3M, ignore_index=True)\n",
    "\n",
    "        df_fcst.loc[(df_fcst['BU']==this_BU)&\n",
    "                    (df_fcst['curr']==this_curr),\n",
    "                    'deferred_3M_DC'] = this_v_3M.values\n",
    "\n",
    "        # what the hell do we do with the service and recognized revenue billings?\n",
    "        # RECOGNIZED REVENUE - does not go to deferred, so just take the last 12 month's worth\n",
    "        this_recog = df_slice.loc[df_slice['period'].isin(old_per_1Y), 'recognized_DC'].copy()\n",
    "        df_fcst.loc[(df_fcst['BU']==this_BU) &\n",
    "                    (df_fcst['curr']==this_curr),\n",
    "                   'recognized_DC'] = this_recog.values\n",
    "\n",
    "        # SERVICE BASED BILLINGS - for now just use the average of whatever we used last time\n",
    "        this_svc = df_slice.loc[df_slice['period'].isin(old_per_1Y), 'service_DC'].copy()\n",
    "        df_fcst.loc[(df_fcst['BU']==this_BU) &\n",
    "                    (df_fcst['curr']==this_curr),\n",
    "                   'service_DC'] = this_svc.values\n",
    "\n",
    "        # Type B Deferred (Service Billings)\n",
    "        this_type_B = df_slice.loc[df_slice['period'].isin(old_per_1Y), 'deferred_B_DC'].copy()\n",
    "        df_fcst.loc[(df_fcst['BU']==this_BU) &\n",
    "                    (df_fcst['curr']==this_curr),\n",
    "                   'deferred_B_DC'] = this_type_B.values\n",
    "        \n",
    "        # MONTHLY BILLINGS\n",
    "        # here we need to call a seperate function using just the X array that is the one month billings\n",
    "        this_y= df_slice['deferred_1M_DC'].copy()\n",
    "        this_y = this_y.to_numpy()\n",
    "        this_y = this_y.reshape(-1,1)\n",
    "        \n",
    "        \n",
    "        if sum(this_y)!=0:\n",
    "        \n",
    "            period_weeks = df_slice['Period_Weeks'].copy()\n",
    "            period_weeks = period_weeks.to_numpy()\n",
    "            period_weeks = period_weeks.reshape(-1,1)\n",
    "\n",
    "            this_y = np.true_divide(this_y, period_weeks)\n",
    "            this_y = np.nan_to_num(this_y)\n",
    "            X = np.arange(len(this_y))\n",
    "\n",
    "            this_model  = build_monthly_forecast(X, this_y)\n",
    "            weekly_fcst_y = this_model['fcst_y'] \n",
    "            \n",
    "            fcst_slice = df_fcst[(df_fcst['BU']==this_BU)&\n",
    "                                 (df_fcst['curr']==this_curr)].copy()\n",
    "            fcst_weeks = fcst_slice['Period_Weeks'].to_numpy()\n",
    "            fcst_weeks=fcst_weeks.reshape(-1,1)\n",
    "\n",
    "            period_fcst_y = weekly_fcst_y * fcst_weeks\n",
    "            \n",
    "            #print('length of new_y: ', len(fcst_y))\n",
    "            df_fcst.loc[(df_fcst['BU']==this_BU) &\n",
    "                        (df_fcst['curr']==this_curr),\n",
    "                        'deferred_1M_DC'] = period_fcst_y\n",
    "\n",
    "            df_fcst.loc[(df_fcst['BU']==this_BU)&\n",
    "                       (df_fcst['curr']==this_curr),\n",
    "                        'r_squared']= this_model['score']\n",
    "\n",
    "            df_fcst.loc[(df_fcst['BU']==this_BU)&\n",
    "                       (df_fcst['curr']==this_curr),\n",
    "                        'intercept']= this_model['intercept']\n",
    "\n",
    "            df_fcst.loc[(df_fcst['BU']==this_BU)&\n",
    "                       (df_fcst['curr']==this_curr),\n",
    "                        'coeff']= this_model['coeff']\n",
    "\n",
    "            df_fcst.loc[(df_fcst['BU']==this_BU)&\n",
    "                   (df_fcst['curr']==this_curr),\n",
    "                    'X_length']= this_model['first_row']\n",
    "        \n",
    "        #print('For this BU: {0} and this currency {1}, we have a score of {2}, and int of {3} and a coeff of {4}'.\n",
    "        #     format(this_BU, this_curr, this_score, this_int, this_coeff))\n",
    "        #NOTE: We will need to return two things here\n",
    "        # First - the df_fcst dataframe\n",
    "        # second - a dictionary describing the monthly forecasts\n",
    "    \n",
    "    \n",
    "    return df_fcst\n",
    "    "
   ]
  },
  {
   "cell_type": "code",
   "execution_count": null,
   "metadata": {},
   "outputs": [],
   "source": [
    "def build_monthly_forecast(X, y):\n",
    "    '''\n",
    "    Need to keep track of the initial X and Y\n",
    "    Need to track the best X, best Y, best model & best score\n",
    "    Within the loop, reducing the X and Y to new_x and new_y and keeping track of new model\n",
    "    If the new model is better, the best_x, best_y, best_model and best_score are overwritten\n",
    "    \n",
    "    At the end of the program, the best model is fit and the relevant information is returned\n",
    "    '''\n",
    "    \n",
    "    X = X.reshape(-1,1)\n",
    "    y = y.reshape(-1,1)\n",
    "    \n",
    "    best_X = X.reshape(-1,1)\n",
    "    best_y = y.reshape(-1,1)\n",
    "    \n",
    "    fcst_X = np.arange(np.max(X)+1, np.max(X)+13)\n",
    "    fcst_X = fcst_X.reshape(-1,1)\n",
    "    \n",
    "    # best row tracks the beginning month used for the model\n",
    "    best_row = 0\n",
    "    \n",
    "    # create initial linear regression model, fit it and record score\n",
    "    best_model = LinearRegression(fit_intercept=True)\n",
    "    best_model.fit(best_X, best_y)\n",
    "    best_score = best_model.score(best_X, best_y)\n",
    "    best_int =   best_model.intercept_\n",
    "    best_coeff = best_model.coef_\n",
    "\n",
    "    #print(\"Model Score :\",       best_score)\n",
    "    #print(\"Model intercept :\",   best_model.intercept_)\n",
    "    #print(\"Model Coefficient :\", best_model.coef_)\n",
    "\n",
    "    for start_row in np.arange(1, y.shape[0]-12):\n",
    "        new_X = X[start_row:]\n",
    "        new_y = y[start_row:]\n",
    "        \n",
    "        new_model = LinearRegression(fit_intercept=True)\n",
    "        new_model.fit(new_X, new_y)\n",
    "        new_score = new_model.score(new_X, new_y)\n",
    "        new_int =   new_model.intercept_\n",
    "        new_coeff = new_model.coef_\n",
    "        \n",
    "        #print(\"Model Score :\",       new_score)\n",
    "        #print(\"Model intercept :\",   new_model.intercept_)\n",
    "        #print(\"Model Coefficient :\", new_model.coef_)\n",
    "        \n",
    "\n",
    "        # if the new model beats the best model, reassign to the best model\n",
    "        if new_score > best_score:\n",
    "            best_model = new_model\n",
    "            best_score = new_score\n",
    "            best_X = new_X\n",
    "            best_y = new_y\n",
    "            best_row = start_row\n",
    "            best_int = new_int\n",
    "            best_coeff = new_coeff\n",
    "            \n",
    "    #perform the forecast\n",
    "    fcst_y = best_model.predict(fcst_X)\n",
    "    \n",
    "    \n",
    "    monthly_model = dict({'model':  best_model,\n",
    "                     'score':  best_score,\n",
    "                     'fcst_y': fcst_y,\n",
    "                     'first_row': best_row,\n",
    "                     'intercept': best_int,\n",
    "                     'coeff' : best_coeff\n",
    "                    })\n",
    "    \n",
    "        \n",
    "    return monthly_model"
   ]
  },
  {
   "cell_type": "code",
   "execution_count": null,
   "metadata": {},
   "outputs": [],
   "source": [
    "df_fcst = create_billing_forecast(df_billings, df_fcst)"
   ]
  },
  {
   "cell_type": "code",
   "execution_count": null,
   "metadata": {},
   "outputs": [],
   "source": [
    "df_fcst.head(20)\n",
    "#df_fcst.sample(20)\n",
    "#df_fcst.tail(20)"
   ]
  },
  {
   "cell_type": "markdown",
   "metadata": {},
   "source": [
    "### THIS WOULD BE A GREAT PLACE TO PUT AN INTERACTIVE CHART TO SEE WHAT IS GOING ON"
   ]
  },
  {
   "cell_type": "code",
   "execution_count": null,
   "metadata": {},
   "outputs": [],
   "source": [
    "test_output = df_fcst[(df_fcst['curr']=='USD')&\n",
    "                     (df_fcst['BU']=='Creative')]\n",
    "test_output.head(20)"
   ]
  },
  {
   "cell_type": "code",
   "execution_count": null,
   "metadata": {},
   "outputs": [],
   "source": []
  },
  {
   "cell_type": "code",
   "execution_count": null,
   "metadata": {},
   "outputs": [],
   "source": []
  },
  {
   "cell_type": "markdown",
   "metadata": {},
   "source": [
    "### saving the initial work here"
   ]
  },
  {
   "cell_type": "code",
   "execution_count": null,
   "metadata": {},
   "outputs": [],
   "source": [
    "df_billings=df_billings.sort_values(['curr', 'BU', 'period'], ascending = (True, True, True))\n",
    "df_fcst = df_fcst.sort_values(['curr', 'BU', 'period'], ascending = (True, True, True))\n",
    "\n",
    "input_df_dict = {'model_dict': model_dict,\n",
    "                 'billings':df_billings, \n",
    "                 'ADBE_cal':df_cal,\n",
    "                 'bookings': df_bookings,\n",
    "                 'FX_forwards': df_FX_fwds,\n",
    "                 'FX_rates': df_FX_rates,\n",
    "                 'forecast': df_fcst\n",
    "                }\n",
    "\n",
    "pickle.dump(input_df_dict, open('../data/processed/initial_forecast.p', 'wb'))"
   ]
  },
  {
   "cell_type": "code",
   "execution_count": null,
   "metadata": {},
   "outputs": [],
   "source": [
    "df_billings.head(5)"
   ]
  },
  {
   "cell_type": "code",
   "execution_count": null,
   "metadata": {},
   "outputs": [],
   "source": [
    "df_fcst.head(5)"
   ]
  },
  {
   "cell_type": "markdown",
   "metadata": {},
   "source": [
    "##### Merging the df_fcst with the df_bililngs for easier charting?"
   ]
  },
  {
   "cell_type": "code",
   "execution_count": null,
   "metadata": {},
   "outputs": [],
   "source": [
    "df_final = df_billings.copy()\n",
    "df_final['is_forecast']=0\n",
    "\n",
    "df_fcst['is_forecast']=1\n",
    "\n",
    "df_final = df_final.append(df_fcst, ignore_index=True)\n",
    "\n",
    "df_final = df_final.fillna(value=0)"
   ]
  },
  {
   "cell_type": "code",
   "execution_count": null,
   "metadata": {},
   "outputs": [],
   "source": []
  },
  {
   "cell_type": "code",
   "execution_count": null,
   "metadata": {},
   "outputs": [],
   "source": [
    "this_curr = 'USD'\n",
    "this_BU = 'Creative'\n",
    "\n",
    "df_slice = df_test[(df_test['curr']==this_curr)&\n",
    "                 (df_test['BU']==this_BU)]\n",
    "\n",
    "fig, axs = plt.subplots(3,1,figsize=(14,10))\n",
    "\n",
    "axs[0].bar(df_slice['period'], df_slice['deferred_1M_DC'])\n",
    "axs[0].set_title('1 Month Deferred Billings for the USD')\n",
    "\n",
    "axs[1].bar(df_slice['period'], df_slice['deferred_1Y_DC'])\n",
    "axs[1].set_title('1 Year Deferred Billigns for the USD')\n",
    "\n",
    "axs[2].bar(df_slice['period'],df_slice['recognized_DC'])\n",
    "\n",
    "fig.tight_layout()\n",
    "text_saver = 'Cheese'"
   ]
  },
  {
   "cell_type": "code",
   "execution_count": null,
   "metadata": {},
   "outputs": [],
   "source": []
  },
  {
   "cell_type": "code",
   "execution_count": null,
   "metadata": {},
   "outputs": [],
   "source": [
    "df_FX_rates"
   ]
  },
  {
   "cell_type": "markdown",
   "metadata": {},
   "source": [
    "##### Creating USD amounts for the forecast\n",
    "We have the document currency forecast of billings and now have to translate this into USD\n",
    " - df_fcst (contains the forecast and historical billings)\n",
    " - FX_rates (contains current spot rates, forward rates and volatilities)\n",
    " \n",
    " ##### I will need to create a 12 month forward vector for each currency\n",
    "  - First add 'is_direct' field to the df_FX_rates DataFrame"
   ]
  },
  {
   "cell_type": "code",
   "execution_count": null,
   "metadata": {},
   "outputs": [],
   "source": [
    "def interp_FX_fwds(df_FX_rates):\n",
    "    ''' Creates monthly interpolated rates from the df_FX_rates file and adds the is_direct field '''\n",
    "    # Create list of tickers to determine which is direct (if USD is the first currency, it is direct)\n",
    "    tickers = df_FX_rates['Ticker'].copy()\n",
    "    first_curr = [sub[:-3] for sub in tickers]\n",
    "    is_direct = []\n",
    "    for curr in first_curr:\n",
    "        if curr=='USD':\n",
    "            is_direct.append(0)\n",
    "        else:\n",
    "            is_direct.append(1)\n",
    "\n",
    "    df_FX_rates['is_direct']=is_direct\n",
    "    \n",
    "    # Add new columns that will hold the forward rates\n",
    "    new_cols = ['fwd_01M', 'fwd_02M', 'fwd_03M',\n",
    "               'fwd_04M', 'fwd_05M', 'fwd_06M',\n",
    "               'fwd_07M', 'fwd_08M', 'fwd_09M',\n",
    "               'fwd_10M', 'fwd_11M', 'fwd_12M']\n",
    "\n",
    "    for item in new_cols:\n",
    "        df_FX_rates[item]=0\n",
    "        \n",
    "    # Interpolate the forward rates\n",
    "    interp_time = np.arange(1, 13)\n",
    "    interp_time = interp_time/12\n",
    "\n",
    "    fwd_times = [0, .25, .5, .75, 1]\n",
    "    \n",
    "    for index, row in df_FX_rates.iterrows():\n",
    "        fwds = [row['Spot'], row['FWD_3M'], row['FWD_6M'], row['FWD_9M'], row['FWD_1Y']]\n",
    "        interp_fwds = np.interp(interp_time, fwd_times, fwds)\n",
    "        for i in np.arange(len(new_cols)):\n",
    "        \n",
    "            df_FX_rates.loc[index, new_cols[i]]=interp_fwds[i]\n",
    "    \n",
    "    return df_FX_rates\n"
   ]
  },
  {
   "cell_type": "code",
   "execution_count": null,
   "metadata": {},
   "outputs": [],
   "source": [
    "df_FX_rates = interp_FX_fwds(df_FX_rates)"
   ]
  },
  {
   "cell_type": "code",
   "execution_count": null,
   "metadata": {},
   "outputs": [],
   "source": [
    "df_FX_rates.head(15)"
   ]
  },
  {
   "cell_type": "markdown",
   "metadata": {},
   "source": [
    "##### Creating USD forecast\n",
    " - loop through the currencies and business units again\n",
    " - find the forward rates that need to be calculated, transpose and invert if is_direct = 1\n",
    " - take the time index and loop through the forwards to apply the forward rates to each DC amount\n",
    " - \n",
    " "
   ]
  },
  {
   "cell_type": "code",
   "execution_count": null,
   "metadata": {},
   "outputs": [],
   "source": [
    "this_BU = 'Creative'\n",
    "this_curr = 'EUR'\n",
    "is_forecast = 1\n",
    "\n",
    "new_cols = ['fwd_01M', 'fwd_02M', 'fwd_03M',\n",
    "               'fwd_04M', 'fwd_05M', 'fwd_06M',\n",
    "               'fwd_07M', 'fwd_08M', 'fwd_09M',\n",
    "               'fwd_10M', 'fwd_11M', 'fwd_12M']\n",
    "\n",
    "these_forwards = df_FX_rates[df_FX_rates['DC']==this_curr]\n",
    "just_forwards = these_forwards[new_cols]\n",
    "transp_fwds= just_forwards.transpose(copy=True).values\n",
    "\n",
    "if these_forwards['is_direct'].values[0]==0:\n",
    "    \n",
    "    my_ones = np.ones(len(new_cols))\n",
    "    my_ones = my_ones.reshape(-1,1)\n",
    "    \n",
    "    A = np.true_divide(my_ones, transp_fwds)\n",
    "    transp_fwds = A\n",
    "    \n",
    "\n",
    "this_slice = df_final[(df_final['BU']==this_BU) & \n",
    "                     (df_final['curr']==this_curr)&\n",
    "                     (df_final['is_forecast']==1)]\n",
    "\n"
   ]
  },
  {
   "cell_type": "code",
   "execution_count": null,
   "metadata": {},
   "outputs": [],
   "source": [
    "this_slice\n"
   ]
  },
  {
   "cell_type": "code",
   "execution_count": null,
   "metadata": {},
   "outputs": [],
   "source": [
    "these_periods= this_slice['period']\n",
    "these_periods"
   ]
  },
  {
   "cell_type": "code",
   "execution_count": null,
   "metadata": {},
   "outputs": [],
   "source": [
    "XX = this_slice['deferred_1Y_DC']\n",
    "XY = XX.values\n",
    "\n",
    "\n",
    "a = transp_fwds*XY[:, np.newaxis]\n",
    "print(a)\n"
   ]
  },
  {
   "cell_type": "markdown",
   "metadata": {},
   "source": [
    "# TO BE DONE:\n",
    " - create the loop to iterate over each BU and currency (function is already written and used above)\n",
    " - multiply each of the following by the tranp_fwds to get the USD amounts\n",
    "     - recognized_DC\n",
    "     - service_DC\n",
    "     - deferred_B_DC\n",
    "     - deferred_1M_DC\n",
    "     - deferred_3M_DC\n",
    "     - deferred_6M_DC\n",
    "     - deferred_1Y_DC\n",
    "     - deferred_2Y_DC\n",
    "     - deferred_3Y_DC\n",
    " - Figure out how to assign each of these back to the df_final using .loc[] or .iloc[]\n",
    " \n",
    " - make this function easy to use by tweaking the forward rates or shocking the FX_rates \n",
    "      - This will be a call to the df_FX_rates which will then recalculate the forward rates\n",
    "      - Then the new forward rates will need to be fed back into the df_final dataframe to recalculate USD amounts"
   ]
  },
  {
   "cell_type": "code",
   "execution_count": null,
   "metadata": {},
   "outputs": [],
   "source": [
    "transp_fwds"
   ]
  },
  {
   "cell_type": "code",
   "execution_count": null,
   "metadata": {},
   "outputs": [],
   "source": [
    "new_columns = ['fwd_01M', 'fwd_02M', 'fwd_03M',\n",
    "               'fwd_04M', 'fwd_05M', 'fwd_06M',\n",
    "               'fwd_07M', 'fwd_08M', 'fwd_09M',\n",
    "               'fwd_10M', 'fwd_11M', 'fwd_12M']\n"
   ]
  },
  {
   "cell_type": "code",
   "execution_count": null,
   "metadata": {},
   "outputs": [],
   "source": [
    "list_columns = ['recognized_', \n",
    "                'service_',\n",
    "                'deferred_B_',\n",
    "                'deferred_1M_',\n",
    "                'deferred_3M_',\n",
    "                'deferred_6M_',\n",
    "                'deferred_1Y_',\n",
    "                'deferred_2Y_',\n",
    "                'deferred_3Y_',\n",
    "               ]\n"
   ]
  },
  {
   "cell_type": "code",
   "execution_count": null,
   "metadata": {},
   "outputs": [],
   "source": [
    "df_fcst.columns"
   ]
  },
  {
   "cell_type": "code",
   "execution_count": null,
   "metadata": {},
   "outputs": [],
   "source": [
    "v_un_BU, v_un_curr = find_unique_curr_and_BU(df_fcst)\n"
   ]
  },
  {
   "cell_type": "code",
   "execution_count": null,
   "metadata": {},
   "outputs": [],
   "source": [
    "def convert_fcst(df_fcst, df_FX_rates, list_columns, new_columns):\n",
    "    \n",
    "    for i in list_columns:\n",
    "        new_column = i+'_US'\n",
    "        df_fcst[new_column]= 0\n",
    "    \n",
    "    # get the unique list of currency and BU combinations in the forecast\n",
    "    v_un_BU, v_un_curr = find_unique_curr_and_BU(df_fcst)\n",
    "    for i in range(len(v_un_BU)):\n",
    "        this_BU = v_un_BU[i]\n",
    "        this_curr = v_un_curr[i]\n",
    "        print('working on BU: {0}  and currency: {1}'.format(this_BU, this_curr))\n",
    "        \n",
    "        # create the list of forwards to use here\n",
    "        these_forwards = df_FX_rates[df_FX_rates['DC']==this_curr]\n",
    "        just_forwards = these_forwards[new_cols]\n",
    "        if these_forwards.is_direct.values == 1:\n",
    "            \n",
    "            transp_fwds= just_forwards.transpose(copy=True).values\n",
    "        \n",
    "        else:\n",
    "            transp_fwds = just_forwards.transpose(copy=True).values\n",
    "            transp_fwds = 1/transp_fwds\n",
    "        \n",
    "        this_slice = df_fcst[(df_fcst['BU']==this_BU)&\n",
    "                             (df_fcst['curr']==this_curr)].copy()\n",
    "        \n",
    "        for col in list_columns:\n",
    "            new_column = col+'US'\n",
    "            old_column = col+'DC'\n",
    "            \n",
    "            DC_values =this_slice[old_column].values\n",
    "            DC_values = DC_values.reshape(-1,1)\n",
    "            transp_fwds = transp_fwds.reshape(-1,1)\n",
    "            xx = DC_values * transp_fwds\n",
    "            \n",
    "            df_fcst.loc[(df_fcst['BU']==this_BU)&\n",
    "                           (df_fcst['curr']==this_curr),\n",
    "                           new_column] = xx\n",
    "\n",
    "    return df_fcst"
   ]
  },
  {
   "cell_type": "code",
   "execution_count": null,
   "metadata": {},
   "outputs": [],
   "source": [
    "df_fcst = convert_fcst(df_fcst, df_FX_rates, list_columns, new_columns)"
   ]
  },
  {
   "cell_type": "code",
   "execution_count": null,
   "metadata": {},
   "outputs": [],
   "source": [
    "these_forwards = df_FX_rates[df_FX_rates['DC']==this_curr]\n",
    "just_forwards = these_forwards[new_cols]\n",
    "\n",
    "x = these_forwards.is_direct.values\n",
    "x"
   ]
  },
  {
   "cell_type": "code",
   "execution_count": null,
   "metadata": {},
   "outputs": [],
   "source": [
    "df_final.sample(10)"
   ]
  },
  {
   "cell_type": "code",
   "execution_count": null,
   "metadata": {},
   "outputs": [],
   "source": [
    "us_slice = df_fcst[(df_fcst['BU']=='Creative')&\n",
    "                  (df_fcst['curr']=='JPY')]\n",
    "us_slice.head(15)"
   ]
  },
  {
   "cell_type": "code",
   "execution_count": null,
   "metadata": {},
   "outputs": [],
   "source": [
    "dc = us_slice['deferred_1Y_DC']\n",
    "us = us_slice['deferred_1Y_US']\n",
    "print(dc/us)"
   ]
  },
  {
   "cell_type": "code",
   "execution_count": null,
   "metadata": {},
   "outputs": [],
   "source": [
    "df_final.columns"
   ]
  },
  {
   "cell_type": "code",
   "execution_count": null,
   "metadata": {},
   "outputs": [],
   "source": []
  },
  {
   "cell_type": "code",
   "execution_count": null,
   "metadata": {},
   "outputs": [],
   "source": [
    "df_final.sample(10)"
   ]
  },
  {
   "cell_type": "code",
   "execution_count": null,
   "metadata": {},
   "outputs": [],
   "source": []
  },
  {
   "cell_type": "code",
   "execution_count": null,
   "metadata": {},
   "outputs": [],
   "source": []
  },
  {
   "cell_type": "code",
   "execution_count": null,
   "metadata": {},
   "outputs": [],
   "source": []
  },
  {
   "cell_type": "code",
   "execution_count": null,
   "metadata": {},
   "outputs": [],
   "source": []
  },
  {
   "cell_type": "code",
   "execution_count": null,
   "metadata": {},
   "outputs": [],
   "source": [
    "df_billings['is_forecast']= 0\n",
    "df_fcst['is_forecast']=1\n",
    "df = pd.concat([df_billings, df_fcst],\n",
    "            join='outer',\n",
    "            ignore_index=True)\n",
    "df = df.fillna(0)\n",
    "df.sort_values(by=['curr', 'BU', 'period'], inplace=True)\n"
   ]
  },
  {
   "cell_type": "code",
   "execution_count": null,
   "metadata": {},
   "outputs": [],
   "source": [
    "df_billings=df_billings.sort_values(['curr', 'BU', 'period'], ascending = (True, True, True))\n",
    "df_fcst = df_fcst.sort_values(['curr', 'BU', 'period'], ascending = (True, True, True))\n",
    "\n",
    "\n",
    "input_df_dict_long = {'model_dict': model_dict,\n",
    "                 'billings':df_billings, \n",
    "                 'ADBE_cal':df_cal,\n",
    "                 'bookings': df_bookings,\n",
    "                 'FX_forwards': df_FX_fwds,\n",
    "                 'FX_rates': df_FX_rates,\n",
    "                 'forecast': df_fcst,\n",
    "                 'final': df\n",
    "                }\n",
    "\n",
    "pickle.dump(input_df_dict, open('../data/processed/initial_forecast.p', 'wb'))\n",
    "\n",
    "input_df_dict_short = {'model_dict': model_dict,\n",
    "                 'bookings': df_bookings,\n",
    "                 'FX_forwards': df_FX_fwds,\n",
    "                 'FX_rates': df_FX_rates,\n",
    "                 'final': df\n",
    "                }\n",
    "pickle.dump(input_df_dict, open('../data/processed/final_forecast.p', 'wb'))"
   ]
  },
  {
   "cell_type": "code",
   "execution_count": null,
   "metadata": {},
   "outputs": [],
   "source": []
  },
  {
   "cell_type": "code",
   "execution_count": null,
   "metadata": {},
   "outputs": [],
   "source": []
  }
 ],
 "metadata": {
  "kernelspec": {
   "display_name": "Python 3",
   "language": "python",
   "name": "python3"
  },
  "language_info": {
   "codemirror_mode": {
    "name": "ipython",
    "version": 3
   },
   "file_extension": ".py",
   "mimetype": "text/x-python",
   "name": "python",
   "nbconvert_exporter": "python",
   "pygments_lexer": "ipython3",
   "version": "3.7.3"
  }
 },
 "nbformat": 4,
 "nbformat_minor": 2
}
