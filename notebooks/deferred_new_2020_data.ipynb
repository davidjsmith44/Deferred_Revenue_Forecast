{
 "cells": [
  {
   "cell_type": "markdown",
   "metadata": {},
   "source": [
    "# Testing Deferred Revenue in Python\n",
    "Will this be easier for everyone to use than Matlab?"
   ]
  },
  {
   "cell_type": "code",
   "execution_count": 1,
   "metadata": {},
   "outputs": [],
   "source": [
    "import numpy as np\n",
    "import pandas as pd\n",
    "import matplotlib.pyplot as plt\n",
    "%matplotlib inline"
   ]
  },
  {
   "cell_type": "markdown",
   "metadata": {},
   "source": [
    "## Step 1: Processing Base Billings Data"
   ]
  },
  {
   "cell_type": "code",
   "execution_count": 2,
   "metadata": {},
   "outputs": [],
   "source": [
    "df = pd.read_excel('../data/all_billings_inputs.xlsx', sheet_name='base_billings')"
   ]
  },
  {
   "cell_type": "code",
   "execution_count": 3,
   "metadata": {
    "scrolled": true
   },
   "outputs": [
    {
     "data": {
      "text/html": [
       "<div>\n",
       "<style scoped>\n",
       "    .dataframe tbody tr th:only-of-type {\n",
       "        vertical-align: middle;\n",
       "    }\n",
       "\n",
       "    .dataframe tbody tr th {\n",
       "        vertical-align: top;\n",
       "    }\n",
       "\n",
       "    .dataframe thead th {\n",
       "        text-align: right;\n",
       "    }\n",
       "</style>\n",
       "<table border=\"1\" class=\"dataframe\">\n",
       "  <thead>\n",
       "    <tr style=\"text-align: right;\">\n",
       "      <th></th>\n",
       "      <th>Document Currency</th>\n",
       "      <th>Enterprise BU Desc</th>\n",
       "      <th>Frequency</th>\n",
       "      <th>Invoice Fiscal Year Period Desc</th>\n",
       "      <th>Product Config Type</th>\n",
       "      <th>Rev Rec Category</th>\n",
       "      <th>Rule For Bill Date</th>\n",
       "      <th>Sales Type</th>\n",
       "      <th>Subscription Term</th>\n",
       "      <th>Completed Sales ( DC )</th>\n",
       "      <th>Completed Sales</th>\n",
       "    </tr>\n",
       "  </thead>\n",
       "  <tbody>\n",
       "    <tr>\n",
       "      <th>6870</th>\n",
       "      <td>CAD</td>\n",
       "      <td>Experience Cloud</td>\n",
       "      <td>ONGO</td>\n",
       "      <td>2018-10</td>\n",
       "      <td>ONORE</td>\n",
       "      <td>D</td>\n",
       "      <td>Y1</td>\n",
       "      <td>DEFERRED</td>\n",
       "      <td>0</td>\n",
       "      <td>32087.50</td>\n",
       "      <td>24894.67</td>\n",
       "    </tr>\n",
       "    <tr>\n",
       "      <th>3170</th>\n",
       "      <td>AUD</td>\n",
       "      <td>Experience Cloud</td>\n",
       "      <td>1TME</td>\n",
       "      <td>2018-11</td>\n",
       "      <td>NaN</td>\n",
       "      <td>NaN</td>\n",
       "      <td>NaN</td>\n",
       "      <td>RECOGNIZED</td>\n",
       "      <td>0</td>\n",
       "      <td>6781.93</td>\n",
       "      <td>4893.61</td>\n",
       "    </tr>\n",
       "    <tr>\n",
       "      <th>18070</th>\n",
       "      <td>EUR</td>\n",
       "      <td>Experience Cloud</td>\n",
       "      <td>ONGO</td>\n",
       "      <td>2018-10</td>\n",
       "      <td>1Y</td>\n",
       "      <td>D</td>\n",
       "      <td>Y1</td>\n",
       "      <td>DEFERRED</td>\n",
       "      <td>12</td>\n",
       "      <td>23124.98</td>\n",
       "      <td>26972.14</td>\n",
       "    </tr>\n",
       "    <tr>\n",
       "      <th>2813</th>\n",
       "      <td>AUD</td>\n",
       "      <td>Experience Cloud</td>\n",
       "      <td>1TME</td>\n",
       "      <td>2015-11</td>\n",
       "      <td>NaN</td>\n",
       "      <td>NaN</td>\n",
       "      <td>NaN</td>\n",
       "      <td>RECOGNIZED</td>\n",
       "      <td>0</td>\n",
       "      <td>-28003.37</td>\n",
       "      <td>-20572.74</td>\n",
       "    </tr>\n",
       "    <tr>\n",
       "      <th>13808</th>\n",
       "      <td>EUR</td>\n",
       "      <td>Creative</td>\n",
       "      <td>ONGO</td>\n",
       "      <td>2015-10</td>\n",
       "      <td>1Y</td>\n",
       "      <td>D</td>\n",
       "      <td>YA</td>\n",
       "      <td>DEFERRED</td>\n",
       "      <td>0</td>\n",
       "      <td>109953.60</td>\n",
       "      <td>124950.52</td>\n",
       "    </tr>\n",
       "    <tr>\n",
       "      <th>27165</th>\n",
       "      <td>JPY</td>\n",
       "      <td>Creative</td>\n",
       "      <td>NaN</td>\n",
       "      <td>2017-05</td>\n",
       "      <td>1Y</td>\n",
       "      <td>NaN</td>\n",
       "      <td>NaN</td>\n",
       "      <td>DEFERRED</td>\n",
       "      <td>0</td>\n",
       "      <td>0.00</td>\n",
       "      <td>0.00</td>\n",
       "    </tr>\n",
       "    <tr>\n",
       "      <th>3702</th>\n",
       "      <td>AUD</td>\n",
       "      <td>Experience Cloud</td>\n",
       "      <td>ONGO</td>\n",
       "      <td>2015-12</td>\n",
       "      <td>OENSV</td>\n",
       "      <td>D</td>\n",
       "      <td>YQ</td>\n",
       "      <td>DEFERRED</td>\n",
       "      <td>0</td>\n",
       "      <td>2499.99</td>\n",
       "      <td>1769.44</td>\n",
       "    </tr>\n",
       "    <tr>\n",
       "      <th>47531</th>\n",
       "      <td>USD</td>\n",
       "      <td>Experience Cloud</td>\n",
       "      <td>ONGO</td>\n",
       "      <td>2019-09</td>\n",
       "      <td>ONORE</td>\n",
       "      <td>D</td>\n",
       "      <td>YC</td>\n",
       "      <td>DEFERRED</td>\n",
       "      <td>0</td>\n",
       "      <td>850002.02</td>\n",
       "      <td>850002.02</td>\n",
       "    </tr>\n",
       "    <tr>\n",
       "      <th>45747</th>\n",
       "      <td>USD</td>\n",
       "      <td>Experience Cloud</td>\n",
       "      <td>ONGO</td>\n",
       "      <td>2016-01</td>\n",
       "      <td>ONORE</td>\n",
       "      <td>NaN</td>\n",
       "      <td>NaN</td>\n",
       "      <td>RECOGNIZED</td>\n",
       "      <td>0</td>\n",
       "      <td>0.00</td>\n",
       "      <td>0.00</td>\n",
       "    </tr>\n",
       "    <tr>\n",
       "      <th>7694</th>\n",
       "      <td>CHF</td>\n",
       "      <td>Creative</td>\n",
       "      <td>NaN</td>\n",
       "      <td>2018-06</td>\n",
       "      <td>1Y</td>\n",
       "      <td>D</td>\n",
       "      <td>YA</td>\n",
       "      <td>DEFERRED</td>\n",
       "      <td>12</td>\n",
       "      <td>1016009.40</td>\n",
       "      <td>1018853.15</td>\n",
       "    </tr>\n",
       "  </tbody>\n",
       "</table>\n",
       "</div>"
      ],
      "text/plain": [
       "      Document Currency Enterprise BU Desc Frequency  \\\n",
       "6870                CAD   Experience Cloud      ONGO   \n",
       "3170                AUD   Experience Cloud      1TME   \n",
       "18070               EUR   Experience Cloud      ONGO   \n",
       "2813                AUD   Experience Cloud      1TME   \n",
       "13808               EUR           Creative      ONGO   \n",
       "27165               JPY           Creative       NaN   \n",
       "3702                AUD   Experience Cloud      ONGO   \n",
       "47531               USD   Experience Cloud      ONGO   \n",
       "45747               USD   Experience Cloud      ONGO   \n",
       "7694                CHF           Creative       NaN   \n",
       "\n",
       "      Invoice Fiscal Year Period Desc Product Config Type Rev Rec Category  \\\n",
       "6870                          2018-10               ONORE                D   \n",
       "3170                          2018-11                 NaN              NaN   \n",
       "18070                         2018-10                  1Y                D   \n",
       "2813                          2015-11                 NaN              NaN   \n",
       "13808                         2015-10                  1Y                D   \n",
       "27165                         2017-05                  1Y              NaN   \n",
       "3702                          2015-12               OENSV                D   \n",
       "47531                         2019-09               ONORE                D   \n",
       "45747                         2016-01               ONORE              NaN   \n",
       "7694                          2018-06                  1Y                D   \n",
       "\n",
       "      Rule For Bill Date  Sales Type  Subscription Term  \\\n",
       "6870                  Y1    DEFERRED                  0   \n",
       "3170                 NaN  RECOGNIZED                  0   \n",
       "18070                 Y1    DEFERRED                 12   \n",
       "2813                 NaN  RECOGNIZED                  0   \n",
       "13808                 YA    DEFERRED                  0   \n",
       "27165                NaN    DEFERRED                  0   \n",
       "3702                  YQ    DEFERRED                  0   \n",
       "47531                 YC    DEFERRED                  0   \n",
       "45747                NaN  RECOGNIZED                  0   \n",
       "7694                  YA    DEFERRED                 12   \n",
       "\n",
       "       Completed Sales ( DC )  Completed Sales  \n",
       "6870                 32087.50         24894.67  \n",
       "3170                  6781.93          4893.61  \n",
       "18070                23124.98         26972.14  \n",
       "2813                -28003.37        -20572.74  \n",
       "13808               109953.60        124950.52  \n",
       "27165                    0.00             0.00  \n",
       "3702                  2499.99          1769.44  \n",
       "47531               850002.02        850002.02  \n",
       "45747                    0.00             0.00  \n",
       "7694               1016009.40       1018853.15  "
      ]
     },
     "execution_count": 3,
     "metadata": {},
     "output_type": "execute_result"
    }
   ],
   "source": [
    "df.sample(10)"
   ]
  },
  {
   "cell_type": "markdown",
   "metadata": {},
   "source": [
    "## Changing the column names early since they are inconsistent across other reports"
   ]
  },
  {
   "cell_type": "code",
   "execution_count": 4,
   "metadata": {},
   "outputs": [
    {
     "data": {
      "text/plain": [
       "Index(['Document Currency', 'Enterprise BU Desc', 'Frequency',\n",
       "       'Invoice Fiscal Year Period Desc', 'Product Config Type',\n",
       "       'Rev Rec Category', 'Rule For Bill Date', 'Sales Type',\n",
       "       'Subscription Term', 'Completed Sales ( DC )', 'Completed Sales'],\n",
       "      dtype='object')"
      ]
     },
     "execution_count": 4,
     "metadata": {},
     "output_type": "execute_result"
    }
   ],
   "source": [
    "df.columns"
   ]
  },
  {
   "cell_type": "code",
   "execution_count": 20,
   "metadata": {},
   "outputs": [],
   "source": [
    "df.rename(index = str, columns = {'Document Currency': 'curr',\n",
    "                                 'Enterprise BU Desc': 'BU',\n",
    "                                 'Invoice Fiscal Year Period Desc': 'period',\n",
    "                                 'Product Config Type': 'config',\n",
    "                                 'Rev Rec Category': 'rev_req_type',\n",
    "                                 'Rule For Bill Date': 'rebill_rule',\n",
    "                                 'Completed Sales ( DC )': 'DC_amount',\n",
    "                                 'Completed Sales': 'US_amount'}, inplace=True)"
   ]
  },
  {
   "cell_type": "code",
   "execution_count": 21,
   "metadata": {},
   "outputs": [
    {
     "data": {
      "text/plain": [
       "Index(['curr', 'BU', 'Frequency', 'period', 'config', 'rev_req_type',\n",
       "       'rebill_rule', 'Sales Type', 'Subscription Term', 'DC_amount',\n",
       "       'US_amount'],\n",
       "      dtype='object')"
      ]
     },
     "execution_count": 21,
     "metadata": {},
     "output_type": "execute_result"
    }
   ],
   "source": [
    "df.columns"
   ]
  },
  {
   "cell_type": "markdown",
   "metadata": {},
   "source": [
    "## Filter that removes any currency that has  < 10 transactions. \n"
   ]
  },
  {
   "cell_type": "code",
   "execution_count": 7,
   "metadata": {},
   "outputs": [
    {
     "name": "stdout",
     "output_type": "stream",
     "text": [
      "USD    12427\n",
      "EUR     7725\n",
      "GBP     5714\n",
      "AUD     5068\n",
      "JPY     4919\n",
      "CHF     2389\n",
      "SEK     2260\n",
      "DKK     2172\n",
      "NOK     1854\n",
      "CAD     1520\n",
      "HKD      486\n",
      "BRL      466\n",
      "RUB      461\n",
      "KRW      247\n",
      "CLP      211\n",
      "ARS      210\n",
      "COP      210\n",
      "SGD      209\n",
      "PEN      190\n",
      "INR      181\n",
      "PHP      151\n",
      "TWD      148\n",
      "THB      144\n",
      "MYR      138\n",
      "IDR      132\n",
      "NZD       67\n",
      "ILS       38\n",
      "TRY       27\n",
      "SAR        4\n",
      "BMD        2\n",
      "AED        1\n",
      "MXP        1\n",
      "Name: curr, dtype: int64\n"
     ]
    }
   ],
   "source": [
    "# creates a list of the currencies and the number of transactions for each currency\n",
    "vc = df['curr'].value_counts()\n",
    "print(vc)"
   ]
  },
  {
   "cell_type": "code",
   "execution_count": 8,
   "metadata": {},
   "outputs": [],
   "source": [
    "# Create variable that is true if the number of transaction is greater than 10, false otherwise\n",
    "keep_these = vc.values > 10\n",
    "# filtering only currencies that were greater than 10\n",
    "keep_curr = vc[keep_these]\n",
    "a = keep_curr.index\n",
    "# filtering the dataframe to remove any of teh currencies not in our list\n",
    "df = df[df['curr'].isin(a)]"
   ]
  },
  {
   "cell_type": "markdown",
   "metadata": {},
   "source": [
    "## Just keeping track of the currencies we removed in our model_dict data structure"
   ]
  },
  {
   "cell_type": "code",
   "execution_count": 9,
   "metadata": {},
   "outputs": [],
   "source": [
    "remove_these = vc[vc.values <= 10].index\n",
    "model_dict = {'curr_removed': list(vc[remove_these].index)}\n",
    "delete_curr = list(remove_these)"
   ]
  },
  {
   "cell_type": "markdown",
   "metadata": {},
   "source": [
    "## The FX database does not have information on the following currencies\n",
    " - AED (United Arab Emirates Dirham)\n",
    " - BMD (Bermudan Dollar)\n",
    " - MXP (Mexican Peso)\n",
    " - TRY (Turkish Lira)"
   ]
  },
  {
   "cell_type": "code",
   "execution_count": 10,
   "metadata": {},
   "outputs": [
    {
     "name": "stdout",
     "output_type": "stream",
     "text": [
      "Model dictionary {'curr_removed': ['SAR', 'BMD', 'AED', 'MXP', 'TRY']}\n",
      "Deleted Currencies ['SAR', 'BMD', 'AED', 'MXP', 'TRY']\n"
     ]
    }
   ],
   "source": [
    "if 'TRY' not in model_dict:\n",
    "    model_dict['curr_removed'].append('TRY')\n",
    "    delete_curr.append('TRY')\n",
    "    a = a.drop('TRY')\n",
    "    \n",
    "print('Model dictionary', model_dict)\n",
    "print('Deleted Currencies', delete_curr)"
   ]
  },
  {
   "cell_type": "code",
   "execution_count": 11,
   "metadata": {},
   "outputs": [
    {
     "name": "stdout",
     "output_type": "stream",
     "text": [
      "---Removing infrequent currencies from billings history---\n",
      "Total number of currencies in the base billings file:  32\n",
      "\n",
      " Currencies were removed:  5\n",
      "SAR , BMD , AED , MXP , \n",
      "\n",
      "27 Remaining currencies: \n",
      "USD , EUR , GBP , AUD , JPY , CHF , SEK , DKK , NOK , CAD , HKD , BRL , RUB , KRW , CLP , ARS , COP , SGD , PEN , INR , PHP , TWD , THB , MYR , IDR , NZD , ILS , "
     ]
    }
   ],
   "source": [
    "print(\"---Removing infrequent currencies from billings history---\")\n",
    "print('Total number of currencies in the base billings file: ', len(vc))\n",
    "if len(model_dict['curr_removed'])==0:\n",
    "    print('No currencies were removed, all contained 10 or more billings')\n",
    "    print('Currencies in the base billings file')\n",
    "    for item in a:\n",
    "        print(a[item], end = \" \")\n",
    "else:\n",
    "    print('\\n Currencies were removed: ', len(model_dict['curr_removed']))\n",
    "\n",
    "    for item in remove_these:\n",
    "        print(item, ', ', end=\"\")\n",
    "        \n",
    "    print(\"\\n\\n{} Remaining currencies: \".format(len(a)))\n",
    "    for item in a:\n",
    "        print(item, ', ', end=\"\")"
   ]
  },
  {
   "cell_type": "code",
   "execution_count": null,
   "metadata": {},
   "outputs": [],
   "source": []
  },
  {
   "cell_type": "markdown",
   "metadata": {},
   "source": [
    "# Removing any of the values that are zero"
   ]
  },
  {
   "cell_type": "code",
   "execution_count": 13,
   "metadata": {},
   "outputs": [
    {
     "name": "stdout",
     "output_type": "stream",
     "text": [
      "This is the length of the dataframe before removing zeros:  49764\n",
      "This is the length of the dataframe after removing zeros:  46285\n"
     ]
    }
   ],
   "source": [
    "print('This is the length of the dataframe before removing zeros: ', len(df))\n",
    "df = df[df['DC_amount']!=0]\n",
    "print('This is the length of the dataframe after removing zeros: ', len(df))"
   ]
  },
  {
   "cell_type": "code",
   "execution_count": 14,
   "metadata": {},
   "outputs": [
    {
     "data": {
      "text/html": [
       "<div>\n",
       "<style scoped>\n",
       "    .dataframe tbody tr th:only-of-type {\n",
       "        vertical-align: middle;\n",
       "    }\n",
       "\n",
       "    .dataframe tbody tr th {\n",
       "        vertical-align: top;\n",
       "    }\n",
       "\n",
       "    .dataframe thead th {\n",
       "        text-align: right;\n",
       "    }\n",
       "</style>\n",
       "<table border=\"1\" class=\"dataframe\">\n",
       "  <thead>\n",
       "    <tr style=\"text-align: right;\">\n",
       "      <th></th>\n",
       "      <th>curr</th>\n",
       "      <th>Enterprise BU Desc</th>\n",
       "      <th>Frequency</th>\n",
       "      <th>period</th>\n",
       "      <th>config</th>\n",
       "      <th>rev_req_type</th>\n",
       "      <th>rebill_rule</th>\n",
       "      <th>Sales Type</th>\n",
       "      <th>Subscription Term</th>\n",
       "      <th>DC_amount</th>\n",
       "      <th>US_amount</th>\n",
       "    </tr>\n",
       "  </thead>\n",
       "  <tbody>\n",
       "    <tr>\n",
       "      <th>44536</th>\n",
       "      <td>USD</td>\n",
       "      <td>Experience Cloud</td>\n",
       "      <td>1TME</td>\n",
       "      <td>2019-06</td>\n",
       "      <td>ONORE</td>\n",
       "      <td>D</td>\n",
       "      <td>YH</td>\n",
       "      <td>DEFERRED</td>\n",
       "      <td>0</td>\n",
       "      <td>-5249.62</td>\n",
       "      <td>-5249.62</td>\n",
       "    </tr>\n",
       "    <tr>\n",
       "      <th>23974</th>\n",
       "      <td>GBP</td>\n",
       "      <td>Experience Cloud</td>\n",
       "      <td>ONGO</td>\n",
       "      <td>2017-01</td>\n",
       "      <td>1Y</td>\n",
       "      <td>D</td>\n",
       "      <td>YQ</td>\n",
       "      <td>DEFERRED</td>\n",
       "      <td>12</td>\n",
       "      <td>8988.19</td>\n",
       "      <td>9906.01</td>\n",
       "    </tr>\n",
       "    <tr>\n",
       "      <th>25992</th>\n",
       "      <td>HKD</td>\n",
       "      <td>Document Cloud</td>\n",
       "      <td>NaN</td>\n",
       "      <td>2018-10</td>\n",
       "      <td>NaN</td>\n",
       "      <td>A</td>\n",
       "      <td>NaN</td>\n",
       "      <td>DEFERRED</td>\n",
       "      <td>12</td>\n",
       "      <td>-1222.34</td>\n",
       "      <td>-155.77</td>\n",
       "    </tr>\n",
       "    <tr>\n",
       "      <th>9914</th>\n",
       "      <td>COP</td>\n",
       "      <td>Creative</td>\n",
       "      <td>NaN</td>\n",
       "      <td>2019-10</td>\n",
       "      <td>NaN</td>\n",
       "      <td>NaN</td>\n",
       "      <td>NaN</td>\n",
       "      <td>RECOGNIZED</td>\n",
       "      <td>0</td>\n",
       "      <td>4050103.00</td>\n",
       "      <td>1192.42</td>\n",
       "    </tr>\n",
       "    <tr>\n",
       "      <th>40870</th>\n",
       "      <td>USD</td>\n",
       "      <td>Document Cloud</td>\n",
       "      <td>NaN</td>\n",
       "      <td>2017-08</td>\n",
       "      <td>1Y</td>\n",
       "      <td>D</td>\n",
       "      <td>YQ</td>\n",
       "      <td>DEFERRED</td>\n",
       "      <td>0</td>\n",
       "      <td>94680.00</td>\n",
       "      <td>94680.00</td>\n",
       "    </tr>\n",
       "    <tr>\n",
       "      <th>38822</th>\n",
       "      <td>USD</td>\n",
       "      <td>Creative</td>\n",
       "      <td>NaN</td>\n",
       "      <td>2019-02</td>\n",
       "      <td>1Y</td>\n",
       "      <td>D</td>\n",
       "      <td>NaN</td>\n",
       "      <td>DEFERRED</td>\n",
       "      <td>1</td>\n",
       "      <td>-514380.47</td>\n",
       "      <td>-514380.47</td>\n",
       "    </tr>\n",
       "    <tr>\n",
       "      <th>46495</th>\n",
       "      <td>USD</td>\n",
       "      <td>Experience Cloud</td>\n",
       "      <td>ONGO</td>\n",
       "      <td>2017-09</td>\n",
       "      <td>OCONS</td>\n",
       "      <td>D</td>\n",
       "      <td>YQ</td>\n",
       "      <td>DEFERRED</td>\n",
       "      <td>0</td>\n",
       "      <td>98250.00</td>\n",
       "      <td>98250.00</td>\n",
       "    </tr>\n",
       "    <tr>\n",
       "      <th>44636</th>\n",
       "      <td>USD</td>\n",
       "      <td>Experience Cloud</td>\n",
       "      <td>1TME</td>\n",
       "      <td>2019-11</td>\n",
       "      <td>OCONS</td>\n",
       "      <td>B</td>\n",
       "      <td>NaN</td>\n",
       "      <td>DEFERRED</td>\n",
       "      <td>0</td>\n",
       "      <td>5638408.73</td>\n",
       "      <td>5638408.73</td>\n",
       "    </tr>\n",
       "    <tr>\n",
       "      <th>15640</th>\n",
       "      <td>EUR</td>\n",
       "      <td>Experience Cloud</td>\n",
       "      <td>1TME</td>\n",
       "      <td>2015-03</td>\n",
       "      <td>OCONS</td>\n",
       "      <td>A</td>\n",
       "      <td>NaN</td>\n",
       "      <td>DEFERRED</td>\n",
       "      <td>0</td>\n",
       "      <td>1500.00</td>\n",
       "      <td>1695.45</td>\n",
       "    </tr>\n",
       "    <tr>\n",
       "      <th>5977</th>\n",
       "      <td>CAD</td>\n",
       "      <td>Document Cloud</td>\n",
       "      <td>NaN</td>\n",
       "      <td>2016-09</td>\n",
       "      <td>1Y</td>\n",
       "      <td>D</td>\n",
       "      <td>Y3</td>\n",
       "      <td>DEFERRED</td>\n",
       "      <td>0</td>\n",
       "      <td>120.00</td>\n",
       "      <td>93.34</td>\n",
       "    </tr>\n",
       "  </tbody>\n",
       "</table>\n",
       "</div>"
      ],
      "text/plain": [
       "      curr Enterprise BU Desc Frequency   period config rev_req_type  \\\n",
       "44536  USD   Experience Cloud      1TME  2019-06  ONORE            D   \n",
       "23974  GBP   Experience Cloud      ONGO  2017-01     1Y            D   \n",
       "25992  HKD     Document Cloud       NaN  2018-10    NaN            A   \n",
       "9914   COP           Creative       NaN  2019-10    NaN          NaN   \n",
       "40870  USD     Document Cloud       NaN  2017-08     1Y            D   \n",
       "38822  USD           Creative       NaN  2019-02     1Y            D   \n",
       "46495  USD   Experience Cloud      ONGO  2017-09  OCONS            D   \n",
       "44636  USD   Experience Cloud      1TME  2019-11  OCONS            B   \n",
       "15640  EUR   Experience Cloud      1TME  2015-03  OCONS            A   \n",
       "5977   CAD     Document Cloud       NaN  2016-09     1Y            D   \n",
       "\n",
       "      rebill_rule  Sales Type  Subscription Term   DC_amount   US_amount  \n",
       "44536          YH    DEFERRED                  0    -5249.62    -5249.62  \n",
       "23974          YQ    DEFERRED                 12     8988.19     9906.01  \n",
       "25992         NaN    DEFERRED                 12    -1222.34     -155.77  \n",
       "9914          NaN  RECOGNIZED                  0  4050103.00     1192.42  \n",
       "40870          YQ    DEFERRED                  0    94680.00    94680.00  \n",
       "38822         NaN    DEFERRED                  1  -514380.47  -514380.47  \n",
       "46495          YQ    DEFERRED                  0    98250.00    98250.00  \n",
       "44636         NaN    DEFERRED                  0  5638408.73  5638408.73  \n",
       "15640         NaN    DEFERRED                  0     1500.00     1695.45  \n",
       "5977           Y3    DEFERRED                  0      120.00       93.34  "
      ]
     },
     "execution_count": 14,
     "metadata": {},
     "output_type": "execute_result"
    }
   ],
   "source": [
    "df.sample(10)"
   ]
  },
  {
   "cell_type": "markdown",
   "metadata": {},
   "source": [
    "## Clearing out the Non-Revenue billings from the file\n",
    " - No Idea what these are"
   ]
  },
  {
   "cell_type": "code",
   "execution_count": 15,
   "metadata": {},
   "outputs": [
    {
     "data": {
      "text/plain": [
       "DEFERRED       37628\n",
       "RECOGNIZED      7183\n",
       "PRO-SVC-INV     1323\n",
       "NON-REV          150\n",
       "Name: Sales Type, dtype: int64"
      ]
     },
     "execution_count": 15,
     "metadata": {},
     "output_type": "execute_result"
    }
   ],
   "source": [
    "df[\"Sales Type\"].value_counts()"
   ]
  },
  {
   "cell_type": "code",
   "execution_count": 16,
   "metadata": {},
   "outputs": [
    {
     "name": "stdout",
     "output_type": "stream",
     "text": [
      "Length of the dataframe before removing non-revenue billings:  46285\n",
      "Length of the dataframe after removing non-revenue billings:   46135\n"
     ]
    }
   ],
   "source": [
    "print('Length of the dataframe before removing non-revenue billings: ', len(df))\n",
    "df = df[df['Sales Type']!='NON-REV']\n",
    "print('Length of the dataframe after removing non-revenue billings:  ', len(df))\n"
   ]
  },
  {
   "cell_type": "markdown",
   "metadata": {},
   "source": [
    "## Starting to group the revenue by period, industry, etc"
   ]
  },
  {
   "cell_type": "markdown",
   "metadata": {},
   "source": [
    "Attempting to group by the following categories\n",
    " - currency\n",
    " - period\n",
    " - sale type\n",
    " \n",
    "May need to process the data differently with the deferred billings so we will start with the recognized and then the service billings\n",
    "\n",
    "# DOING THIS ALL IN PANDAS WITH SPLIT APPLY COMBINE on Sales Type \n"
   ]
  },
  {
   "cell_type": "code",
   "execution_count": 23,
   "metadata": {},
   "outputs": [],
   "source": [
    "# First split the data into three dataframes\n",
    "# Recognized billings\n",
    "rec = df[df['Sales Type']=='RECOGNIZED']\n",
    "svc = df[df['Sales Type']=='PRO-SVC-INV']\n",
    "dfr = df[df['Sales Type']=='DEFERRED']"
   ]
  },
  {
   "cell_type": "markdown",
   "metadata": {},
   "source": [
    "# NOW WORKING ON THE BILLINGS"
   ]
  },
  {
   "cell_type": "markdown",
   "metadata": {},
   "source": [
    "### Recognized Revenue"
   ]
  },
  {
   "cell_type": "code",
   "execution_count": 24,
   "metadata": {},
   "outputs": [
    {
     "data": {
      "text/html": [
       "<div>\n",
       "<style scoped>\n",
       "    .dataframe tbody tr th:only-of-type {\n",
       "        vertical-align: middle;\n",
       "    }\n",
       "\n",
       "    .dataframe tbody tr th {\n",
       "        vertical-align: top;\n",
       "    }\n",
       "\n",
       "    .dataframe thead th {\n",
       "        text-align: right;\n",
       "    }\n",
       "</style>\n",
       "<table border=\"1\" class=\"dataframe\">\n",
       "  <thead>\n",
       "    <tr style=\"text-align: right;\">\n",
       "      <th></th>\n",
       "      <th>curr</th>\n",
       "      <th>BU</th>\n",
       "      <th>Frequency</th>\n",
       "      <th>period</th>\n",
       "      <th>config</th>\n",
       "      <th>rev_req_type</th>\n",
       "      <th>rebill_rule</th>\n",
       "      <th>Sales Type</th>\n",
       "      <th>Subscription Term</th>\n",
       "      <th>DC_amount</th>\n",
       "      <th>US_amount</th>\n",
       "    </tr>\n",
       "  </thead>\n",
       "  <tbody>\n",
       "    <tr>\n",
       "      <th>26379</th>\n",
       "      <td>INR</td>\n",
       "      <td>Creative</td>\n",
       "      <td>NaN</td>\n",
       "      <td>2019-12</td>\n",
       "      <td>NaN</td>\n",
       "      <td>NaN</td>\n",
       "      <td>NaN</td>\n",
       "      <td>RECOGNIZED</td>\n",
       "      <td>0</td>\n",
       "      <td>118953.62</td>\n",
       "      <td>1670.57</td>\n",
       "    </tr>\n",
       "    <tr>\n",
       "      <th>3420</th>\n",
       "      <td>AUD</td>\n",
       "      <td>Experience Cloud</td>\n",
       "      <td>ACTL</td>\n",
       "      <td>2017-04</td>\n",
       "      <td>ONORE</td>\n",
       "      <td>NaN</td>\n",
       "      <td>NaN</td>\n",
       "      <td>RECOGNIZED</td>\n",
       "      <td>0</td>\n",
       "      <td>495384.17</td>\n",
       "      <td>374233.53</td>\n",
       "    </tr>\n",
       "    <tr>\n",
       "      <th>48180</th>\n",
       "      <td>USD</td>\n",
       "      <td>Other Solutions</td>\n",
       "      <td>NaN</td>\n",
       "      <td>2017-09</td>\n",
       "      <td>NaN</td>\n",
       "      <td>NaN</td>\n",
       "      <td>NaN</td>\n",
       "      <td>RECOGNIZED</td>\n",
       "      <td>0</td>\n",
       "      <td>-3297.65</td>\n",
       "      <td>-3297.65</td>\n",
       "    </tr>\n",
       "    <tr>\n",
       "      <th>16850</th>\n",
       "      <td>EUR</td>\n",
       "      <td>Experience Cloud</td>\n",
       "      <td>CERT</td>\n",
       "      <td>2015-06</td>\n",
       "      <td>NaN</td>\n",
       "      <td>NaN</td>\n",
       "      <td>NaN</td>\n",
       "      <td>RECOGNIZED</td>\n",
       "      <td>0</td>\n",
       "      <td>237600.00</td>\n",
       "      <td>264624.62</td>\n",
       "    </tr>\n",
       "    <tr>\n",
       "      <th>39637</th>\n",
       "      <td>USD</td>\n",
       "      <td>Creative</td>\n",
       "      <td>ONGO</td>\n",
       "      <td>2015-06</td>\n",
       "      <td>ONORE</td>\n",
       "      <td>NaN</td>\n",
       "      <td>NaN</td>\n",
       "      <td>RECOGNIZED</td>\n",
       "      <td>0</td>\n",
       "      <td>1532.34</td>\n",
       "      <td>1532.34</td>\n",
       "    </tr>\n",
       "    <tr>\n",
       "      <th>48453</th>\n",
       "      <td>USD</td>\n",
       "      <td>Print &amp; Publishing</td>\n",
       "      <td>NaN</td>\n",
       "      <td>2015-08</td>\n",
       "      <td>1Y</td>\n",
       "      <td>NaN</td>\n",
       "      <td>NaN</td>\n",
       "      <td>RECOGNIZED</td>\n",
       "      <td>0</td>\n",
       "      <td>2100.00</td>\n",
       "      <td>2100.00</td>\n",
       "    </tr>\n",
       "    <tr>\n",
       "      <th>16768</th>\n",
       "      <td>EUR</td>\n",
       "      <td>Experience Cloud</td>\n",
       "      <td>ACTL</td>\n",
       "      <td>2017-10</td>\n",
       "      <td>ONORE</td>\n",
       "      <td>NaN</td>\n",
       "      <td>NaN</td>\n",
       "      <td>RECOGNIZED</td>\n",
       "      <td>0</td>\n",
       "      <td>810547.39</td>\n",
       "      <td>969541.11</td>\n",
       "    </tr>\n",
       "    <tr>\n",
       "      <th>30691</th>\n",
       "      <td>JPY</td>\n",
       "      <td>LiveCycle</td>\n",
       "      <td>NaN</td>\n",
       "      <td>2015-06</td>\n",
       "      <td>NaN</td>\n",
       "      <td>NaN</td>\n",
       "      <td>NaN</td>\n",
       "      <td>RECOGNIZED</td>\n",
       "      <td>0</td>\n",
       "      <td>684800.00</td>\n",
       "      <td>5731.78</td>\n",
       "    </tr>\n",
       "    <tr>\n",
       "      <th>31158</th>\n",
       "      <td>JPY</td>\n",
       "      <td>Print &amp; Publishing</td>\n",
       "      <td>NaN</td>\n",
       "      <td>2017-11</td>\n",
       "      <td>NaN</td>\n",
       "      <td>NaN</td>\n",
       "      <td>NaN</td>\n",
       "      <td>RECOGNIZED</td>\n",
       "      <td>0</td>\n",
       "      <td>9932227.00</td>\n",
       "      <td>88208.92</td>\n",
       "    </tr>\n",
       "    <tr>\n",
       "      <th>48599</th>\n",
       "      <td>USD</td>\n",
       "      <td>Print &amp; Publishing</td>\n",
       "      <td>NaN</td>\n",
       "      <td>2016-02</td>\n",
       "      <td>2V</td>\n",
       "      <td>NaN</td>\n",
       "      <td>NaN</td>\n",
       "      <td>RECOGNIZED</td>\n",
       "      <td>0</td>\n",
       "      <td>88693.00</td>\n",
       "      <td>88693.00</td>\n",
       "    </tr>\n",
       "  </tbody>\n",
       "</table>\n",
       "</div>"
      ],
      "text/plain": [
       "      curr                  BU Frequency   period config rev_req_type  \\\n",
       "26379  INR            Creative       NaN  2019-12    NaN          NaN   \n",
       "3420   AUD    Experience Cloud      ACTL  2017-04  ONORE          NaN   \n",
       "48180  USD     Other Solutions       NaN  2017-09    NaN          NaN   \n",
       "16850  EUR    Experience Cloud      CERT  2015-06    NaN          NaN   \n",
       "39637  USD            Creative      ONGO  2015-06  ONORE          NaN   \n",
       "48453  USD  Print & Publishing       NaN  2015-08     1Y          NaN   \n",
       "16768  EUR    Experience Cloud      ACTL  2017-10  ONORE          NaN   \n",
       "30691  JPY           LiveCycle       NaN  2015-06    NaN          NaN   \n",
       "31158  JPY  Print & Publishing       NaN  2017-11    NaN          NaN   \n",
       "48599  USD  Print & Publishing       NaN  2016-02     2V          NaN   \n",
       "\n",
       "      rebill_rule  Sales Type  Subscription Term   DC_amount  US_amount  \n",
       "26379         NaN  RECOGNIZED                  0   118953.62    1670.57  \n",
       "3420          NaN  RECOGNIZED                  0   495384.17  374233.53  \n",
       "48180         NaN  RECOGNIZED                  0    -3297.65   -3297.65  \n",
       "16850         NaN  RECOGNIZED                  0   237600.00  264624.62  \n",
       "39637         NaN  RECOGNIZED                  0     1532.34    1532.34  \n",
       "48453         NaN  RECOGNIZED                  0     2100.00    2100.00  \n",
       "16768         NaN  RECOGNIZED                  0   810547.39  969541.11  \n",
       "30691         NaN  RECOGNIZED                  0   684800.00    5731.78  \n",
       "31158         NaN  RECOGNIZED                  0  9932227.00   88208.92  \n",
       "48599         NaN  RECOGNIZED                  0    88693.00   88693.00  "
      ]
     },
     "execution_count": 24,
     "metadata": {},
     "output_type": "execute_result"
    }
   ],
   "source": [
    "rec.sample(10)"
   ]
  },
  {
   "cell_type": "code",
   "execution_count": 25,
   "metadata": {},
   "outputs": [],
   "source": [
    "# testing groupby object\n",
    "gb_rec = rec.groupby(['curr', 'BU', 'period'], as_index=False).sum()"
   ]
  },
  {
   "cell_type": "code",
   "execution_count": 26,
   "metadata": {},
   "outputs": [],
   "source": [
    "# the Subscription term hangs around. We are dropping that here\n",
    "gb_rec.drop(labels='Subscription Term', axis=1,inplace =True)"
   ]
  },
  {
   "cell_type": "code",
   "execution_count": 27,
   "metadata": {},
   "outputs": [
    {
     "data": {
      "text/html": [
       "<div>\n",
       "<style scoped>\n",
       "    .dataframe tbody tr th:only-of-type {\n",
       "        vertical-align: middle;\n",
       "    }\n",
       "\n",
       "    .dataframe tbody tr th {\n",
       "        vertical-align: top;\n",
       "    }\n",
       "\n",
       "    .dataframe thead th {\n",
       "        text-align: right;\n",
       "    }\n",
       "</style>\n",
       "<table border=\"1\" class=\"dataframe\">\n",
       "  <thead>\n",
       "    <tr style=\"text-align: right;\">\n",
       "      <th></th>\n",
       "      <th>curr</th>\n",
       "      <th>BU</th>\n",
       "      <th>period</th>\n",
       "      <th>DC_amount</th>\n",
       "      <th>US_amount</th>\n",
       "    </tr>\n",
       "  </thead>\n",
       "  <tbody>\n",
       "    <tr>\n",
       "      <th>3252</th>\n",
       "      <td>USD</td>\n",
       "      <td>Other Solutions</td>\n",
       "      <td>2017-10</td>\n",
       "      <td>-4048.51</td>\n",
       "      <td>-4048.51</td>\n",
       "    </tr>\n",
       "    <tr>\n",
       "      <th>466</th>\n",
       "      <td>CHF</td>\n",
       "      <td>Creative</td>\n",
       "      <td>2016-03</td>\n",
       "      <td>100903.80</td>\n",
       "      <td>101440.71</td>\n",
       "    </tr>\n",
       "    <tr>\n",
       "      <th>3212</th>\n",
       "      <td>USD</td>\n",
       "      <td>LiveCycle</td>\n",
       "      <td>2019-08</td>\n",
       "      <td>11517.50</td>\n",
       "      <td>11517.50</td>\n",
       "    </tr>\n",
       "    <tr>\n",
       "      <th>2590</th>\n",
       "      <td>SEK</td>\n",
       "      <td>Creative</td>\n",
       "      <td>2018-06</td>\n",
       "      <td>333928.60</td>\n",
       "      <td>38287.58</td>\n",
       "    </tr>\n",
       "    <tr>\n",
       "      <th>326</th>\n",
       "      <td>AUD</td>\n",
       "      <td>Print &amp; Publishing</td>\n",
       "      <td>2019-09</td>\n",
       "      <td>74864.73</td>\n",
       "      <td>51472.01</td>\n",
       "    </tr>\n",
       "    <tr>\n",
       "      <th>275</th>\n",
       "      <td>AUD</td>\n",
       "      <td>Print &amp; Publishing</td>\n",
       "      <td>2015-06</td>\n",
       "      <td>158831.25</td>\n",
       "      <td>125156.31</td>\n",
       "    </tr>\n",
       "    <tr>\n",
       "      <th>2042</th>\n",
       "      <td>JPY</td>\n",
       "      <td>LiveCycle</td>\n",
       "      <td>2016-05</td>\n",
       "      <td>1726600.00</td>\n",
       "      <td>15335.70</td>\n",
       "    </tr>\n",
       "    <tr>\n",
       "      <th>930</th>\n",
       "      <td>DKK</td>\n",
       "      <td>Experience Cloud</td>\n",
       "      <td>2018-10</td>\n",
       "      <td>21942.58</td>\n",
       "      <td>3434.17</td>\n",
       "    </tr>\n",
       "    <tr>\n",
       "      <th>2162</th>\n",
       "      <td>JPY</td>\n",
       "      <td>Print &amp; Publishing</td>\n",
       "      <td>2018-12</td>\n",
       "      <td>9148237.00</td>\n",
       "      <td>80841.01</td>\n",
       "    </tr>\n",
       "    <tr>\n",
       "      <th>2945</th>\n",
       "      <td>USD</td>\n",
       "      <td>Creative</td>\n",
       "      <td>2018-09</td>\n",
       "      <td>9398021.93</td>\n",
       "      <td>9398021.93</td>\n",
       "    </tr>\n",
       "  </tbody>\n",
       "</table>\n",
       "</div>"
      ],
      "text/plain": [
       "     curr                  BU   period   DC_amount   US_amount\n",
       "3252  USD     Other Solutions  2017-10    -4048.51    -4048.51\n",
       "466   CHF            Creative  2016-03   100903.80   101440.71\n",
       "3212  USD           LiveCycle  2019-08    11517.50    11517.50\n",
       "2590  SEK            Creative  2018-06   333928.60    38287.58\n",
       "326   AUD  Print & Publishing  2019-09    74864.73    51472.01\n",
       "275   AUD  Print & Publishing  2015-06   158831.25   125156.31\n",
       "2042  JPY           LiveCycle  2016-05  1726600.00    15335.70\n",
       "930   DKK    Experience Cloud  2018-10    21942.58     3434.17\n",
       "2162  JPY  Print & Publishing  2018-12  9148237.00    80841.01\n",
       "2945  USD            Creative  2018-09  9398021.93  9398021.93"
      ]
     },
     "execution_count": 27,
     "metadata": {},
     "output_type": "execute_result"
    }
   ],
   "source": [
    "gb_rec.sample(10)"
   ]
  },
  {
   "cell_type": "markdown",
   "metadata": {},
   "source": [
    "## Now doing this for the service billings"
   ]
  },
  {
   "cell_type": "code",
   "execution_count": 29,
   "metadata": {},
   "outputs": [],
   "source": [
    "# testing groupby object\n",
    "gb_svc = svc.groupby(['curr', 'BU', 'period'], as_index=False).sum()"
   ]
  },
  {
   "cell_type": "code",
   "execution_count": 30,
   "metadata": {},
   "outputs": [
    {
     "data": {
      "text/html": [
       "<div>\n",
       "<style scoped>\n",
       "    .dataframe tbody tr th:only-of-type {\n",
       "        vertical-align: middle;\n",
       "    }\n",
       "\n",
       "    .dataframe tbody tr th {\n",
       "        vertical-align: top;\n",
       "    }\n",
       "\n",
       "    .dataframe thead th {\n",
       "        text-align: right;\n",
       "    }\n",
       "</style>\n",
       "<table border=\"1\" class=\"dataframe\">\n",
       "  <thead>\n",
       "    <tr style=\"text-align: right;\">\n",
       "      <th></th>\n",
       "      <th>curr</th>\n",
       "      <th>BU</th>\n",
       "      <th>period</th>\n",
       "      <th>DC_amount</th>\n",
       "      <th>US_amount</th>\n",
       "    </tr>\n",
       "  </thead>\n",
       "  <tbody>\n",
       "    <tr>\n",
       "      <th>0</th>\n",
       "      <td>AUD</td>\n",
       "      <td>Experience Cloud</td>\n",
       "      <td>2015-01</td>\n",
       "      <td>25075.00</td>\n",
       "      <td>21084.51</td>\n",
       "    </tr>\n",
       "    <tr>\n",
       "      <th>1</th>\n",
       "      <td>AUD</td>\n",
       "      <td>Experience Cloud</td>\n",
       "      <td>2015-02</td>\n",
       "      <td>-4750.00</td>\n",
       "      <td>-4220.74</td>\n",
       "    </tr>\n",
       "    <tr>\n",
       "      <th>2</th>\n",
       "      <td>AUD</td>\n",
       "      <td>Experience Cloud</td>\n",
       "      <td>2015-03</td>\n",
       "      <td>424271.75</td>\n",
       "      <td>337822.37</td>\n",
       "    </tr>\n",
       "    <tr>\n",
       "      <th>3</th>\n",
       "      <td>AUD</td>\n",
       "      <td>Experience Cloud</td>\n",
       "      <td>2015-04</td>\n",
       "      <td>297925.00</td>\n",
       "      <td>229116.23</td>\n",
       "    </tr>\n",
       "    <tr>\n",
       "      <th>4</th>\n",
       "      <td>AUD</td>\n",
       "      <td>Experience Cloud</td>\n",
       "      <td>2015-05</td>\n",
       "      <td>316894.82</td>\n",
       "      <td>237310.85</td>\n",
       "    </tr>\n",
       "  </tbody>\n",
       "</table>\n",
       "</div>"
      ],
      "text/plain": [
       "  curr                BU   period  DC_amount  US_amount\n",
       "0  AUD  Experience Cloud  2015-01   25075.00   21084.51\n",
       "1  AUD  Experience Cloud  2015-02   -4750.00   -4220.74\n",
       "2  AUD  Experience Cloud  2015-03  424271.75  337822.37\n",
       "3  AUD  Experience Cloud  2015-04  297925.00  229116.23\n",
       "4  AUD  Experience Cloud  2015-05  316894.82  237310.85"
      ]
     },
     "execution_count": 30,
     "metadata": {},
     "output_type": "execute_result"
    }
   ],
   "source": [
    "gb_svc.drop(labels='Subscription Term', axis=1,inplace =True)\n",
    "gb_svc.head(5)"
   ]
  },
  {
   "cell_type": "markdown",
   "metadata": {},
   "source": [
    "# NOW WORKING ON DEFERRED BILLINGS\n",
    "\n",
    "## Type B billings are service agreements that will have invoices submitted before the billings are reclassified to revenue. If no invoices are assigned to the billings, the billings become revenue in 12 months"
   ]
  },
  {
   "cell_type": "code",
   "execution_count": 32,
   "metadata": {},
   "outputs": [],
   "source": [
    "# filter out the type B first then do a group_by\n",
    "dfr_b = dfr[dfr['rev_req_type']=='B']"
   ]
  },
  {
   "cell_type": "code",
   "execution_count": 33,
   "metadata": {},
   "outputs": [],
   "source": [
    "gb_b = dfr_b.groupby(['curr', 'BU', 'period'], as_index=False).sum()"
   ]
  },
  {
   "cell_type": "code",
   "execution_count": 34,
   "metadata": {},
   "outputs": [],
   "source": [
    "gb_b.drop(labels='Subscription Term', axis=1, inplace=True)"
   ]
  },
  {
   "cell_type": "code",
   "execution_count": 35,
   "metadata": {},
   "outputs": [
    {
     "data": {
      "text/html": [
       "<div>\n",
       "<style scoped>\n",
       "    .dataframe tbody tr th:only-of-type {\n",
       "        vertical-align: middle;\n",
       "    }\n",
       "\n",
       "    .dataframe tbody tr th {\n",
       "        vertical-align: top;\n",
       "    }\n",
       "\n",
       "    .dataframe thead th {\n",
       "        text-align: right;\n",
       "    }\n",
       "</style>\n",
       "<table border=\"1\" class=\"dataframe\">\n",
       "  <thead>\n",
       "    <tr style=\"text-align: right;\">\n",
       "      <th></th>\n",
       "      <th>curr</th>\n",
       "      <th>BU</th>\n",
       "      <th>period</th>\n",
       "      <th>DC_amount</th>\n",
       "      <th>US_amount</th>\n",
       "    </tr>\n",
       "  </thead>\n",
       "  <tbody>\n",
       "    <tr>\n",
       "      <th>0</th>\n",
       "      <td>AUD</td>\n",
       "      <td>Creative</td>\n",
       "      <td>2017-10</td>\n",
       "      <td>8544.0</td>\n",
       "      <td>6837.59</td>\n",
       "    </tr>\n",
       "    <tr>\n",
       "      <th>1</th>\n",
       "      <td>AUD</td>\n",
       "      <td>DX Other</td>\n",
       "      <td>2017-04</td>\n",
       "      <td>13205.0</td>\n",
       "      <td>10082.02</td>\n",
       "    </tr>\n",
       "    <tr>\n",
       "      <th>2</th>\n",
       "      <td>AUD</td>\n",
       "      <td>DX Other</td>\n",
       "      <td>2017-08</td>\n",
       "      <td>27400.0</td>\n",
       "      <td>21259.93</td>\n",
       "    </tr>\n",
       "    <tr>\n",
       "      <th>3</th>\n",
       "      <td>AUD</td>\n",
       "      <td>DX Other</td>\n",
       "      <td>2018-07</td>\n",
       "      <td>6635.4</td>\n",
       "      <td>4908.74</td>\n",
       "    </tr>\n",
       "    <tr>\n",
       "      <th>4</th>\n",
       "      <td>AUD</td>\n",
       "      <td>DX Other</td>\n",
       "      <td>2018-08</td>\n",
       "      <td>7535.0</td>\n",
       "      <td>5561.43</td>\n",
       "    </tr>\n",
       "    <tr>\n",
       "      <th>5</th>\n",
       "      <td>AUD</td>\n",
       "      <td>Document Cloud</td>\n",
       "      <td>2017-12</td>\n",
       "      <td>3283.2</td>\n",
       "      <td>2494.58</td>\n",
       "    </tr>\n",
       "    <tr>\n",
       "      <th>6</th>\n",
       "      <td>AUD</td>\n",
       "      <td>Document Cloud</td>\n",
       "      <td>2018-06</td>\n",
       "      <td>3425.0</td>\n",
       "      <td>2592.18</td>\n",
       "    </tr>\n",
       "    <tr>\n",
       "      <th>7</th>\n",
       "      <td>AUD</td>\n",
       "      <td>Document Cloud</td>\n",
       "      <td>2018-12</td>\n",
       "      <td>3425.0</td>\n",
       "      <td>2483.47</td>\n",
       "    </tr>\n",
       "    <tr>\n",
       "      <th>8</th>\n",
       "      <td>AUD</td>\n",
       "      <td>Document Cloud</td>\n",
       "      <td>2019-03</td>\n",
       "      <td>4375.0</td>\n",
       "      <td>3122.00</td>\n",
       "    </tr>\n",
       "    <tr>\n",
       "      <th>9</th>\n",
       "      <td>AUD</td>\n",
       "      <td>Experience Cloud</td>\n",
       "      <td>2015-01</td>\n",
       "      <td>157510.0</td>\n",
       "      <td>131675.74</td>\n",
       "    </tr>\n",
       "  </tbody>\n",
       "</table>\n",
       "</div>"
      ],
      "text/plain": [
       "  curr                BU   period  DC_amount  US_amount\n",
       "0  AUD          Creative  2017-10     8544.0    6837.59\n",
       "1  AUD          DX Other  2017-04    13205.0   10082.02\n",
       "2  AUD          DX Other  2017-08    27400.0   21259.93\n",
       "3  AUD          DX Other  2018-07     6635.4    4908.74\n",
       "4  AUD          DX Other  2018-08     7535.0    5561.43\n",
       "5  AUD    Document Cloud  2017-12     3283.2    2494.58\n",
       "6  AUD    Document Cloud  2018-06     3425.0    2592.18\n",
       "7  AUD    Document Cloud  2018-12     3425.0    2483.47\n",
       "8  AUD    Document Cloud  2019-03     4375.0    3122.00\n",
       "9  AUD  Experience Cloud  2015-01   157510.0  131675.74"
      ]
     },
     "execution_count": 35,
     "metadata": {},
     "output_type": "execute_result"
    }
   ],
   "source": [
    "gb_b.head(10)"
   ]
  },
  {
   "cell_type": "code",
   "execution_count": null,
   "metadata": {},
   "outputs": [],
   "source": []
  },
  {
   "cell_type": "code",
   "execution_count": 36,
   "metadata": {},
   "outputs": [
    {
     "name": "stdout",
     "output_type": "stream",
     "text": [
      "length of deferred billings :  37628\n",
      "length of the type B billings:  1434\n"
     ]
    }
   ],
   "source": [
    "print('length of deferred billings : ', len(dfr))\n",
    "print('length of the type B billings: ', len(dfr_b))"
   ]
  },
  {
   "cell_type": "code",
   "execution_count": null,
   "metadata": {},
   "outputs": [],
   "source": []
  },
  {
   "cell_type": "code",
   "execution_count": null,
   "metadata": {},
   "outputs": [],
   "source": []
  },
  {
   "cell_type": "markdown",
   "metadata": {},
   "source": [
    "## Now Type A Billings\n",
    "These billings are on a billing plan. The product config tells us how long before they renew\n",
    "\n",
    " - '2Y' = 24 months\n",
    " - '1Y' = 12 months\n",
    " - 'MTHLY' = 1 month\n",
    " \n",
    "NOTE: There are also other fields in the 'Product Configtype ID' field that do not map well to a rebill period.\n",
    "To fix this, we need to load up a different file and determine the length of the sales contract (type A no config)\n",
    " "
   ]
  },
  {
   "cell_type": "code",
   "execution_count": 37,
   "metadata": {},
   "outputs": [],
   "source": [
    "# filtering just the type A billings\n",
    "dfr_a = dfr[dfr['rev_req_type']=='A']"
   ]
  },
  {
   "cell_type": "code",
   "execution_count": 38,
   "metadata": {},
   "outputs": [],
   "source": [
    "gb_a = dfr_a.groupby(['curr', 'BU', 'period',\n",
    "                     'config'], as_index=False).sum()\n",
    "gb_a.drop(labels='Subscription Term', axis=1, inplace = True)"
   ]
  },
  {
   "cell_type": "code",
   "execution_count": 39,
   "metadata": {},
   "outputs": [
    {
     "data": {
      "text/html": [
       "<div>\n",
       "<style scoped>\n",
       "    .dataframe tbody tr th:only-of-type {\n",
       "        vertical-align: middle;\n",
       "    }\n",
       "\n",
       "    .dataframe tbody tr th {\n",
       "        vertical-align: top;\n",
       "    }\n",
       "\n",
       "    .dataframe thead th {\n",
       "        text-align: right;\n",
       "    }\n",
       "</style>\n",
       "<table border=\"1\" class=\"dataframe\">\n",
       "  <thead>\n",
       "    <tr style=\"text-align: right;\">\n",
       "      <th></th>\n",
       "      <th>curr</th>\n",
       "      <th>BU</th>\n",
       "      <th>period</th>\n",
       "      <th>config</th>\n",
       "      <th>DC_amount</th>\n",
       "      <th>US_amount</th>\n",
       "    </tr>\n",
       "  </thead>\n",
       "  <tbody>\n",
       "    <tr>\n",
       "      <th>4404</th>\n",
       "      <td>USD</td>\n",
       "      <td>Experience Cloud</td>\n",
       "      <td>2017-10</td>\n",
       "      <td>2Y</td>\n",
       "      <td>2046.00</td>\n",
       "      <td>2046.00</td>\n",
       "    </tr>\n",
       "    <tr>\n",
       "      <th>4278</th>\n",
       "      <td>USD</td>\n",
       "      <td>Experience Cloud</td>\n",
       "      <td>2015-01</td>\n",
       "      <td>1Y</td>\n",
       "      <td>2725125.59</td>\n",
       "      <td>2725125.59</td>\n",
       "    </tr>\n",
       "    <tr>\n",
       "      <th>4634</th>\n",
       "      <td>USD</td>\n",
       "      <td>Print &amp; Publishing</td>\n",
       "      <td>2017-01</td>\n",
       "      <td>1Y</td>\n",
       "      <td>4468602.67</td>\n",
       "      <td>4468602.67</td>\n",
       "    </tr>\n",
       "    <tr>\n",
       "      <th>3746</th>\n",
       "      <td>SEK</td>\n",
       "      <td>Print &amp; Publishing</td>\n",
       "      <td>2016-01</td>\n",
       "      <td>1Y</td>\n",
       "      <td>-514.00</td>\n",
       "      <td>-60.04</td>\n",
       "    </tr>\n",
       "    <tr>\n",
       "      <th>491</th>\n",
       "      <td>AUD</td>\n",
       "      <td>Print &amp; Publishing</td>\n",
       "      <td>2015-07</td>\n",
       "      <td>2Y</td>\n",
       "      <td>6525.00</td>\n",
       "      <td>5038.13</td>\n",
       "    </tr>\n",
       "    <tr>\n",
       "      <th>604</th>\n",
       "      <td>BRL</td>\n",
       "      <td>Creative</td>\n",
       "      <td>2018-10</td>\n",
       "      <td>1Y</td>\n",
       "      <td>-34605.06</td>\n",
       "      <td>-8401.32</td>\n",
       "    </tr>\n",
       "    <tr>\n",
       "      <th>3769</th>\n",
       "      <td>SEK</td>\n",
       "      <td>Print &amp; Publishing</td>\n",
       "      <td>2018-06</td>\n",
       "      <td>1Y</td>\n",
       "      <td>430.50</td>\n",
       "      <td>49.55</td>\n",
       "    </tr>\n",
       "    <tr>\n",
       "      <th>4571</th>\n",
       "      <td>USD</td>\n",
       "      <td>Other Solutions</td>\n",
       "      <td>2020-01</td>\n",
       "      <td>OUNIV</td>\n",
       "      <td>12250.00</td>\n",
       "      <td>12250.00</td>\n",
       "    </tr>\n",
       "    <tr>\n",
       "      <th>3239</th>\n",
       "      <td>JPY</td>\n",
       "      <td>Print &amp; Publishing</td>\n",
       "      <td>2018-07</td>\n",
       "      <td>1Y</td>\n",
       "      <td>5813748.00</td>\n",
       "      <td>53026.17</td>\n",
       "    </tr>\n",
       "    <tr>\n",
       "      <th>3115</th>\n",
       "      <td>JPY</td>\n",
       "      <td>Experience Cloud</td>\n",
       "      <td>2018-01</td>\n",
       "      <td>1Y</td>\n",
       "      <td>123999.00</td>\n",
       "      <td>1100.19</td>\n",
       "    </tr>\n",
       "  </tbody>\n",
       "</table>\n",
       "</div>"
      ],
      "text/plain": [
       "     curr                  BU   period config   DC_amount   US_amount\n",
       "4404  USD    Experience Cloud  2017-10     2Y     2046.00     2046.00\n",
       "4278  USD    Experience Cloud  2015-01     1Y  2725125.59  2725125.59\n",
       "4634  USD  Print & Publishing  2017-01     1Y  4468602.67  4468602.67\n",
       "3746  SEK  Print & Publishing  2016-01     1Y     -514.00      -60.04\n",
       "491   AUD  Print & Publishing  2015-07     2Y     6525.00     5038.13\n",
       "604   BRL            Creative  2018-10     1Y   -34605.06    -8401.32\n",
       "3769  SEK  Print & Publishing  2018-06     1Y      430.50       49.55\n",
       "4571  USD     Other Solutions  2020-01  OUNIV    12250.00    12250.00\n",
       "3239  JPY  Print & Publishing  2018-07     1Y  5813748.00    53026.17\n",
       "3115  JPY    Experience Cloud  2018-01     1Y   123999.00     1100.19"
      ]
     },
     "execution_count": 39,
     "metadata": {},
     "output_type": "execute_result"
    }
   ],
   "source": [
    "gb_a.sample(10)"
   ]
  },
  {
   "cell_type": "code",
   "execution_count": 40,
   "metadata": {},
   "outputs": [
    {
     "data": {
      "text/plain": [
       "1Y       2418\n",
       "MTHLY     950\n",
       "2Y        875\n",
       "OUNIV     231\n",
       "OCONS     106\n",
       "3Y        101\n",
       "ONORE      32\n",
       "1V          1\n",
       "OENSV       1\n",
       "Name: config, dtype: int64"
      ]
     },
     "execution_count": 40,
     "metadata": {},
     "output_type": "execute_result"
    }
   ],
   "source": [
    "gb_a['config'].value_counts()"
   ]
  },
  {
   "cell_type": "markdown",
   "metadata": {},
   "source": [
    "### Below is just a check to see how large the billing types are across all periods"
   ]
  },
  {
   "cell_type": "code",
   "execution_count": 41,
   "metadata": {},
   "outputs": [
    {
     "data": {
      "text/html": [
       "<div>\n",
       "<style scoped>\n",
       "    .dataframe tbody tr th:only-of-type {\n",
       "        vertical-align: middle;\n",
       "    }\n",
       "\n",
       "    .dataframe tbody tr th {\n",
       "        vertical-align: top;\n",
       "    }\n",
       "\n",
       "    .dataframe thead th {\n",
       "        text-align: right;\n",
       "    }\n",
       "</style>\n",
       "<table border=\"1\" class=\"dataframe\">\n",
       "  <thead>\n",
       "    <tr style=\"text-align: right;\">\n",
       "      <th></th>\n",
       "      <th>config</th>\n",
       "      <th>DC_amount</th>\n",
       "      <th>US_amount</th>\n",
       "    </tr>\n",
       "  </thead>\n",
       "  <tbody>\n",
       "    <tr>\n",
       "      <th>0</th>\n",
       "      <td>1V</td>\n",
       "      <td>6.503000e+03</td>\n",
       "      <td>6.503000e+03</td>\n",
       "    </tr>\n",
       "    <tr>\n",
       "      <th>1</th>\n",
       "      <td>1Y</td>\n",
       "      <td>1.198135e+11</td>\n",
       "      <td>9.655797e+09</td>\n",
       "    </tr>\n",
       "    <tr>\n",
       "      <th>2</th>\n",
       "      <td>2Y</td>\n",
       "      <td>2.470307e+08</td>\n",
       "      <td>6.719101e+07</td>\n",
       "    </tr>\n",
       "    <tr>\n",
       "      <th>3</th>\n",
       "      <td>3Y</td>\n",
       "      <td>9.380464e+08</td>\n",
       "      <td>4.051346e+06</td>\n",
       "    </tr>\n",
       "    <tr>\n",
       "      <th>4</th>\n",
       "      <td>MTHLY</td>\n",
       "      <td>1.381940e+08</td>\n",
       "      <td>3.985406e+07</td>\n",
       "    </tr>\n",
       "    <tr>\n",
       "      <th>5</th>\n",
       "      <td>OCONS</td>\n",
       "      <td>3.903233e+07</td>\n",
       "      <td>1.028252e+07</td>\n",
       "    </tr>\n",
       "    <tr>\n",
       "      <th>6</th>\n",
       "      <td>OENSV</td>\n",
       "      <td>-1.200000e+02</td>\n",
       "      <td>-1.200000e+02</td>\n",
       "    </tr>\n",
       "    <tr>\n",
       "      <th>7</th>\n",
       "      <td>ONORE</td>\n",
       "      <td>2.350904e+06</td>\n",
       "      <td>2.015485e+06</td>\n",
       "    </tr>\n",
       "    <tr>\n",
       "      <th>8</th>\n",
       "      <td>OUNIV</td>\n",
       "      <td>4.283761e+06</td>\n",
       "      <td>3.473767e+06</td>\n",
       "    </tr>\n",
       "  </tbody>\n",
       "</table>\n",
       "</div>"
      ],
      "text/plain": [
       "  config     DC_amount     US_amount\n",
       "0     1V  6.503000e+03  6.503000e+03\n",
       "1     1Y  1.198135e+11  9.655797e+09\n",
       "2     2Y  2.470307e+08  6.719101e+07\n",
       "3     3Y  9.380464e+08  4.051346e+06\n",
       "4  MTHLY  1.381940e+08  3.985406e+07\n",
       "5  OCONS  3.903233e+07  1.028252e+07\n",
       "6  OENSV -1.200000e+02 -1.200000e+02\n",
       "7  ONORE  2.350904e+06  2.015485e+06\n",
       "8  OUNIV  4.283761e+06  3.473767e+06"
      ]
     },
     "execution_count": 41,
     "metadata": {},
     "output_type": "execute_result"
    }
   ],
   "source": [
    "gb_a_config = gb_a.groupby(['config'], as_index=False).sum()\n",
    "gb_a_config"
   ]
  },
  {
   "cell_type": "markdown",
   "metadata": {},
   "source": [
    "### These 'OCONS', 'ONORE' and 'OUNIV' data types are not actual product config IDs so we have to get them from a different data file. We are excluding these types below."
   ]
  },
  {
   "cell_type": "code",
   "execution_count": 46,
   "metadata": {},
   "outputs": [],
   "source": [
    "config_list = ['1Y', '2Y', '3Y', 'MTHLY']\n",
    "test1 = gb_a[gb_a['config'].isin(config_list)]\n"
   ]
  },
  {
   "cell_type": "code",
   "execution_count": 47,
   "metadata": {},
   "outputs": [
    {
     "data": {
      "text/html": [
       "<div>\n",
       "<style scoped>\n",
       "    .dataframe tbody tr th:only-of-type {\n",
       "        vertical-align: middle;\n",
       "    }\n",
       "\n",
       "    .dataframe tbody tr th {\n",
       "        vertical-align: top;\n",
       "    }\n",
       "\n",
       "    .dataframe thead th {\n",
       "        text-align: right;\n",
       "    }\n",
       "</style>\n",
       "<table border=\"1\" class=\"dataframe\">\n",
       "  <thead>\n",
       "    <tr style=\"text-align: right;\">\n",
       "      <th></th>\n",
       "      <th>curr</th>\n",
       "      <th>BU</th>\n",
       "      <th>period</th>\n",
       "      <th>config</th>\n",
       "      <th>DC_amount</th>\n",
       "      <th>US_amount</th>\n",
       "    </tr>\n",
       "  </thead>\n",
       "  <tbody>\n",
       "    <tr>\n",
       "      <th>1965</th>\n",
       "      <td>EUR</td>\n",
       "      <td>Print &amp; Publishing</td>\n",
       "      <td>2016-02</td>\n",
       "      <td>2Y</td>\n",
       "      <td>14280.00</td>\n",
       "      <td>15536.38</td>\n",
       "    </tr>\n",
       "    <tr>\n",
       "      <th>3689</th>\n",
       "      <td>SEK</td>\n",
       "      <td>Document Cloud</td>\n",
       "      <td>2018-08</td>\n",
       "      <td>MTHLY</td>\n",
       "      <td>-1221.38</td>\n",
       "      <td>-137.83</td>\n",
       "    </tr>\n",
       "    <tr>\n",
       "      <th>4147</th>\n",
       "      <td>USD</td>\n",
       "      <td>Document Cloud</td>\n",
       "      <td>2017-05</td>\n",
       "      <td>1Y</td>\n",
       "      <td>6586147.77</td>\n",
       "      <td>6586147.77</td>\n",
       "    </tr>\n",
       "    <tr>\n",
       "      <th>126</th>\n",
       "      <td>AUD</td>\n",
       "      <td>Creative</td>\n",
       "      <td>2018-07</td>\n",
       "      <td>2Y</td>\n",
       "      <td>10888.83</td>\n",
       "      <td>8221.41</td>\n",
       "    </tr>\n",
       "    <tr>\n",
       "      <th>714</th>\n",
       "      <td>CAD</td>\n",
       "      <td>Experience Cloud</td>\n",
       "      <td>2017-02</td>\n",
       "      <td>1Y</td>\n",
       "      <td>119180.55</td>\n",
       "      <td>90043.86</td>\n",
       "    </tr>\n",
       "  </tbody>\n",
       "</table>\n",
       "</div>"
      ],
      "text/plain": [
       "     curr                  BU   period config   DC_amount   US_amount\n",
       "1965  EUR  Print & Publishing  2016-02     2Y    14280.00    15536.38\n",
       "3689  SEK      Document Cloud  2018-08  MTHLY    -1221.38     -137.83\n",
       "4147  USD      Document Cloud  2017-05     1Y  6586147.77  6586147.77\n",
       "126   AUD            Creative  2018-07     2Y    10888.83     8221.41\n",
       "714   CAD    Experience Cloud  2017-02     1Y   119180.55    90043.86"
      ]
     },
     "execution_count": 47,
     "metadata": {},
     "output_type": "execute_result"
    }
   ],
   "source": [
    "test1.sample(5)"
   ]
  },
  {
   "cell_type": "code",
   "execution_count": null,
   "metadata": {},
   "outputs": [],
   "source": []
  },
  {
   "cell_type": "markdown",
   "metadata": {},
   "source": [
    "## For now, lets just split this into gb_a_1Y, gb_a_2Y, gb_a_3y, gb_a_1M\n"
   ]
  },
  {
   "cell_type": "code",
   "execution_count": 48,
   "metadata": {},
   "outputs": [],
   "source": [
    "gb_a_1Y = test1[test1['config']=='1Y']\n",
    "gb_a_2Y = test1[test1['config']=='2Y']\n",
    "gb_a_3Y = test1[test1['config']=='3Y']\n",
    "gb_a_1M = test1[test1['config']=='MTHLY']"
   ]
  },
  {
   "cell_type": "code",
   "execution_count": 49,
   "metadata": {},
   "outputs": [
    {
     "name": "stdout",
     "output_type": "stream",
     "text": [
      "this is the lenght of type A 1M billings:  950\n",
      "this is the lenght of type A 1Y billings:  2418\n",
      "this is the lenght of type A 2Y billings:  875\n",
      "this is the lenght of type A 3Y billings:  101\n"
     ]
    }
   ],
   "source": [
    "print('this is the lenght of type A 1M billings: ', len(gb_a_1M))\n",
    "print('this is the lenght of type A 1Y billings: ', len(gb_a_1Y))\n",
    "print('this is the lenght of type A 2Y billings: ', len(gb_a_2Y))\n",
    "print('this is the lenght of type A 3Y billings: ', len(gb_a_3Y))"
   ]
  },
  {
   "cell_type": "markdown",
   "metadata": {},
   "source": [
    "# TYPE D billings\n",
    "These billings have a field 'Rule For Bill Date' that determines when new billings will occur\n",
    " - Monthly [Y1, Y2, Y3, Y5]\n",
    " - Quarterly [YQ]\n",
    " - Every 4 months [YT]\n",
    " - Semi-annual [YH]\n",
    " - Annual [YA, YC]\n",
    " - Every 2 years - [Y4]\n",
    " \n",
    " We also need to track the type D billings that do not have a 'Rule for Bill Date'"
   ]
  },
  {
   "cell_type": "code",
   "execution_count": 51,
   "metadata": {},
   "outputs": [],
   "source": [
    "# for now just do a groupby on the type\n",
    "# filtering just the type A billings\n",
    "dfr_d = dfr[dfr['rev_req_type']=='D']"
   ]
  },
  {
   "cell_type": "code",
   "execution_count": 52,
   "metadata": {},
   "outputs": [],
   "source": [
    "gb_d = dfr_d.groupby(['curr', 'BU', 'period',\n",
    "                     'rebill_rule'], as_index=False).sum()\n",
    "gb_d.drop(labels='Subscription Term', axis=1, inplace = True)"
   ]
  },
  {
   "cell_type": "code",
   "execution_count": 53,
   "metadata": {},
   "outputs": [],
   "source": [
    "gb_d_mthly = gb_d[gb_d['rebill_rule'].isin(['Y1', 'Y2', 'Y3', 'Y5'])]\n",
    "gb_d_qtrly = gb_d[gb_d['rebill_rule']=='YQ']\n",
    "gb_d_four_mths = gb_d[gb_d['rebill_rule']=='YT']\n",
    "gb_d_semi_ann = gb_d[gb_d['rebill_rule']=='YH']\n",
    "gb_d_annual = gb_d[gb_d['rebill_rule'].isin(['YA', 'YC'])]\n",
    "gb_d_two_yrs = gb_d[gb_d['rebill_rule']=='Y4']"
   ]
  },
  {
   "cell_type": "code",
   "execution_count": 54,
   "metadata": {},
   "outputs": [
    {
     "data": {
      "text/plain": [
       "YA    2952\n",
       "Y3    2375\n",
       "YQ     991\n",
       "YH     547\n",
       "Y1     491\n",
       "YC     490\n",
       "Y2     153\n",
       "Y4      57\n",
       "Y7      31\n",
       "YM      23\n",
       "YX      12\n",
       "YY      10\n",
       "YT      10\n",
       "Name: rebill_rule, dtype: int64"
      ]
     },
     "execution_count": 54,
     "metadata": {},
     "output_type": "execute_result"
    }
   ],
   "source": [
    "gb_d['rebill_rule'].value_counts()"
   ]
  },
  {
   "cell_type": "markdown",
   "metadata": {},
   "source": [
    "### Note: There is one type D billings that is listed as 'BT' I don't know what this means, but it was a $180 EUR payment from January 2017, so we will ignore"
   ]
  },
  {
   "cell_type": "code",
   "execution_count": 55,
   "metadata": {},
   "outputs": [
    {
     "name": "stdout",
     "output_type": "stream",
     "text": [
      "Length of monthly 3019\n",
      "Length of quarterly 991\n",
      "Length of four months 10\n",
      "Length of semi ann 547\n",
      "Length of annual 3442\n",
      "Length of two years 57\n"
     ]
    }
   ],
   "source": [
    "print('Length of monthly', len(gb_d_mthly))\n",
    "print('Length of quarterly', len(gb_d_qtrly))\n",
    "print('Length of four months', len(gb_d_four_mths))\n",
    "print('Length of semi ann', len(gb_d_semi_ann))\n",
    "print('Length of annual', len(gb_d_annual))\n",
    "print('Length of two years', len(gb_d_two_yrs))"
   ]
  },
  {
   "cell_type": "code",
   "execution_count": 56,
   "metadata": {},
   "outputs": [
    {
     "data": {
      "text/html": [
       "<div>\n",
       "<style scoped>\n",
       "    .dataframe tbody tr th:only-of-type {\n",
       "        vertical-align: middle;\n",
       "    }\n",
       "\n",
       "    .dataframe tbody tr th {\n",
       "        vertical-align: top;\n",
       "    }\n",
       "\n",
       "    .dataframe thead th {\n",
       "        text-align: right;\n",
       "    }\n",
       "</style>\n",
       "<table border=\"1\" class=\"dataframe\">\n",
       "  <thead>\n",
       "    <tr style=\"text-align: right;\">\n",
       "      <th></th>\n",
       "      <th>curr</th>\n",
       "      <th>BU</th>\n",
       "      <th>period</th>\n",
       "      <th>rebill_rule</th>\n",
       "      <th>DC_amount</th>\n",
       "      <th>US_amount</th>\n",
       "    </tr>\n",
       "  </thead>\n",
       "  <tbody>\n",
       "    <tr>\n",
       "      <th>6985</th>\n",
       "      <td>USD</td>\n",
       "      <td>DX Other</td>\n",
       "      <td>2016-12</td>\n",
       "      <td>YT</td>\n",
       "      <td>13440.00</td>\n",
       "      <td>13440.00</td>\n",
       "    </tr>\n",
       "    <tr>\n",
       "      <th>6999</th>\n",
       "      <td>USD</td>\n",
       "      <td>DX Other</td>\n",
       "      <td>2017-04</td>\n",
       "      <td>YT</td>\n",
       "      <td>13440.00</td>\n",
       "      <td>13440.00</td>\n",
       "    </tr>\n",
       "    <tr>\n",
       "      <th>7011</th>\n",
       "      <td>USD</td>\n",
       "      <td>DX Other</td>\n",
       "      <td>2017-08</td>\n",
       "      <td>YT</td>\n",
       "      <td>13440.00</td>\n",
       "      <td>13440.00</td>\n",
       "    </tr>\n",
       "    <tr>\n",
       "      <th>7436</th>\n",
       "      <td>USD</td>\n",
       "      <td>Experience Cloud</td>\n",
       "      <td>2015-02</td>\n",
       "      <td>YT</td>\n",
       "      <td>612916.60</td>\n",
       "      <td>612916.60</td>\n",
       "    </tr>\n",
       "    <tr>\n",
       "      <th>7444</th>\n",
       "      <td>USD</td>\n",
       "      <td>Experience Cloud</td>\n",
       "      <td>2015-03</td>\n",
       "      <td>YT</td>\n",
       "      <td>698888.89</td>\n",
       "      <td>698888.89</td>\n",
       "    </tr>\n",
       "    <tr>\n",
       "      <th>7465</th>\n",
       "      <td>USD</td>\n",
       "      <td>Experience Cloud</td>\n",
       "      <td>2015-06</td>\n",
       "      <td>YT</td>\n",
       "      <td>11666.60</td>\n",
       "      <td>11666.60</td>\n",
       "    </tr>\n",
       "    <tr>\n",
       "      <th>7480</th>\n",
       "      <td>USD</td>\n",
       "      <td>Experience Cloud</td>\n",
       "      <td>2015-08</td>\n",
       "      <td>YT</td>\n",
       "      <td>549861.11</td>\n",
       "      <td>549861.11</td>\n",
       "    </tr>\n",
       "    <tr>\n",
       "      <th>7495</th>\n",
       "      <td>USD</td>\n",
       "      <td>Experience Cloud</td>\n",
       "      <td>2015-10</td>\n",
       "      <td>YT</td>\n",
       "      <td>11666.60</td>\n",
       "      <td>11666.60</td>\n",
       "    </tr>\n",
       "    <tr>\n",
       "      <th>7518</th>\n",
       "      <td>USD</td>\n",
       "      <td>Experience Cloud</td>\n",
       "      <td>2016-01</td>\n",
       "      <td>YT</td>\n",
       "      <td>612916.60</td>\n",
       "      <td>612916.60</td>\n",
       "    </tr>\n",
       "    <tr>\n",
       "      <th>7526</th>\n",
       "      <td>USD</td>\n",
       "      <td>Experience Cloud</td>\n",
       "      <td>2016-02</td>\n",
       "      <td>YT</td>\n",
       "      <td>-601250.00</td>\n",
       "      <td>-601250.00</td>\n",
       "    </tr>\n",
       "  </tbody>\n",
       "</table>\n",
       "</div>"
      ],
      "text/plain": [
       "     curr                BU   period rebill_rule  DC_amount  US_amount\n",
       "6985  USD          DX Other  2016-12          YT   13440.00   13440.00\n",
       "6999  USD          DX Other  2017-04          YT   13440.00   13440.00\n",
       "7011  USD          DX Other  2017-08          YT   13440.00   13440.00\n",
       "7436  USD  Experience Cloud  2015-02          YT  612916.60  612916.60\n",
       "7444  USD  Experience Cloud  2015-03          YT  698888.89  698888.89\n",
       "7465  USD  Experience Cloud  2015-06          YT   11666.60   11666.60\n",
       "7480  USD  Experience Cloud  2015-08          YT  549861.11  549861.11\n",
       "7495  USD  Experience Cloud  2015-10          YT   11666.60   11666.60\n",
       "7518  USD  Experience Cloud  2016-01          YT  612916.60  612916.60\n",
       "7526  USD  Experience Cloud  2016-02          YT -601250.00 -601250.00"
      ]
     },
     "execution_count": 56,
     "metadata": {},
     "output_type": "execute_result"
    }
   ],
   "source": [
    "what_is_YT = gb_d[gb_d['rebill_rule']=='YT']\n",
    "what_is_YT.head(10)"
   ]
  },
  {
   "cell_type": "markdown",
   "metadata": {},
   "source": [
    "## Note: There are only 8 payments (back from 2017) that paid on a 4 month basis. \n",
    "We will ignore these as well."
   ]
  },
  {
   "cell_type": "code",
   "execution_count": null,
   "metadata": {},
   "outputs": [],
   "source": []
  },
  {
   "cell_type": "code",
   "execution_count": null,
   "metadata": {},
   "outputs": [],
   "source": []
  },
  {
   "cell_type": "markdown",
   "metadata": {},
   "source": [
    "## NOW WE NEED TO BUILD A DATAFRAME THAT INTEGRATES THIS DATA\n",
    "\n",
    "- We will have the following descriptive fields\n",
    "   - Invoicing Fiscal Year-Period\n",
    "   - Document Currency\n",
    "   - Enterprise BU\n",
    "\n",
    "- We will have the following fields based on rebilling rule\n",
    "   - Recognized\n",
    "   - Service\n",
    "   - Monthly\n",
    "   - Quarterly\n",
    "   - Annual\n",
    "   - Two Years\n",
    "   - Three Years"
   ]
  },
  {
   "cell_type": "code",
   "execution_count": 57,
   "metadata": {},
   "outputs": [],
   "source": [
    "# We need to do it this way when we get to a .py file!\n",
    "list_df = [gb_rec, gb_svc, gb_b,\n",
    "        gb_a_1M,    gb_a_1Y,    gb_a_2Y,       gb_a_3Y, \n",
    "        gb_d_mthly, gb_d_qtrly, gb_d_semi_ann, gb_d_annual, gb_d_two_yrs]\n",
    "\n",
    "list_columns = ['recognized', 'service', 'deferred_B', \n",
    "    'deferred_1M_a', 'deferred_1Y_a', 'deferred_2Y_a', 'deferred_3Y_a',\n",
    "    'deferred_1M_d', 'deferred_3M_d', 'deferred_6M_d', 'deferred_1Y_d', 'deferred_2Y_d']\n"
   ]
  },
  {
   "cell_type": "code",
   "execution_count": 64,
   "metadata": {},
   "outputs": [],
   "source": [
    "def merge_new_dataframe(old_df, new_df, new_column):\n",
    "    df_merged = pd.merge(old_df, new_df, how='outer', \n",
    "                     left_on=['curr', 'BU', 'period'],\n",
    "                    right_on=['curr', 'BU', 'period'])\n",
    "    df_merged.rename(index=str, columns={'DC_amount': new_column}, inplace=True)\n",
    "    \n",
    "    #need to drop the product configtype id for merges where the new_df is of type A\n",
    "    config_str = 'config'\n",
    "    rule_str = 'rebill_rule'\n",
    "    if config_str in df_merged.columns:\n",
    "        df_merged.drop(columns=['config'], inplace=True)\n",
    "    \n",
    "    if rule_str in df_merged.columns:\n",
    "        df_merged.drop(columns=['rebill_rule'], inplace=True)\n",
    "        \n",
    "    return df_merged"
   ]
  },
  {
   "cell_type": "code",
   "execution_count": 65,
   "metadata": {},
   "outputs": [],
   "source": [
    "def merge_all_dataframes(list_df, list_columns):\n",
    "    for i, df in enumerate(list_df):\n",
    "        print('This is i:', i)\n",
    "        #print(\"This is the df: \", df.head())\n",
    "        print('referencing the column: ', list_columns[i])\n",
    "\n",
    "        if i==0:\n",
    "            df_merged = list_df[0]\n",
    "            df_merged.rename(index=str, columns={'amount': list_columns[i]}, inplace=True)\n",
    "        else:\n",
    "            df_merged = merge_new_dataframe(df_merged, df, list_columns[i])\n",
    "\n",
    "    return df_merged\n",
    "    "
   ]
  },
  {
   "cell_type": "code",
   "execution_count": 66,
   "metadata": {},
   "outputs": [
    {
     "name": "stdout",
     "output_type": "stream",
     "text": [
      "This is i: 0\n",
      "referencing the column:  recognized\n",
      "This is i: 1\n",
      "referencing the column:  service\n",
      "This is i: 2\n",
      "referencing the column:  deferred_B\n",
      "This is i: 3\n",
      "referencing the column:  deferred_1M_a\n",
      "This is i: 4\n",
      "referencing the column:  deferred_1Y_a\n",
      "This is i: 5\n",
      "referencing the column:  deferred_2Y_a\n",
      "This is i: 6\n",
      "referencing the column:  deferred_3Y_a\n",
      "This is i: 7\n",
      "referencing the column:  deferred_1M_d\n",
      "This is i: 8\n",
      "referencing the column:  deferred_3M_d\n",
      "This is i: 9\n",
      "referencing the column:  deferred_6M_d\n",
      "This is i: 10\n",
      "referencing the column:  deferred_1Y_d\n",
      "This is i: 11\n",
      "referencing the column:  deferred_2Y_d\n"
     ]
    }
   ],
   "source": [
    "df = merge_all_dataframes(list_df, list_columns)"
   ]
  },
  {
   "cell_type": "code",
   "execution_count": 69,
   "metadata": {
    "scrolled": true
   },
   "outputs": [
    {
     "data": {
      "text/plain": [
       "Index(['curr', 'BU', 'period', 'DC_amount_x', 'US_amount_x', 'DC_amount_y',\n",
       "       'US_amount_y', 'deferred_B', 'US_amount_x', 'deferred_1M_a',\n",
       "       'US_amount_y', 'deferred_1Y_a', 'US_amount_x', 'deferred_2Y_a',\n",
       "       'US_amount_y', 'deferred_3Y_a', 'US_amount_x', 'deferred_1M_d',\n",
       "       'US_amount_y', 'deferred_3M_d', 'US_amount_x', 'deferred_6M_d',\n",
       "       'US_amount_y', 'deferred_1Y_d', 'US_amount_x', 'deferred_2Y_d',\n",
       "       'US_amount_y'],\n",
       "      dtype='object')"
      ]
     },
     "execution_count": 69,
     "metadata": {},
     "output_type": "execute_result"
    }
   ],
   "source": [
    "df.columns"
   ]
  },
  {
   "cell_type": "code",
   "execution_count": 68,
   "metadata": {},
   "outputs": [],
   "source": [
    "def clean_df_columns(df):\n",
    "    \n",
    "    # clean up NaNs before adding \n",
    "    df = df.fillna(value=0)\n",
    "    \n",
    "    # Monthly\n",
    "    df['deferred_1M'] = df['deferred_1M_a']+df['deferred_1M_d']\n",
    "    df.drop(labels=['deferred_1M_a', 'deferred_1M_d'], axis=1, inplace=True)\n",
    "    \n",
    "    # Annual\n",
    "    df['deferred_1Y'] = df['deferred_1Y_a']+df['deferred_1Y_d']\n",
    "    df.drop(labels=['deferred_1Y_a', 'deferred_1Y_d'], axis=1, inplace=True)\n",
    "    \n",
    "    # Two-Year\n",
    "    df['deferred_2Y'] = df['deferred_2Y_a']+df['deferred_2Y_d']\n",
    "    df.drop(labels=['deferred_2Y_a', 'deferred_2Y_d'], axis=1, inplace=True)\n",
    "    \n",
    "    # renaming 3Y, 3M and 6M\n",
    "    df.rename(index=str, columns = {'deferred_3Y_a':'deferred_3Y', 'deferred_3M_d':'deferred_3M', \n",
    "                               'deferred_6M_d': 'deferred_6M'}, inplace=True)\n",
    "\n",
    "    #cleaning up the longer column names\n",
    "    df.rename(index=str, columns = {'curr': 'curr',\n",
    "                               'BU':'BU',\n",
    "                               'period':'period'}, inplace=True)\n",
    "    \n",
    "    return df"
   ]
  },
  {
   "cell_type": "code",
   "execution_count": 63,
   "metadata": {},
   "outputs": [
    {
     "ename": "KeyError",
     "evalue": "'deferred_1M_a'",
     "output_type": "error",
     "traceback": [
      "\u001b[0;31m---------------------------------------------------------------------------\u001b[0m",
      "\u001b[0;31mKeyError\u001b[0m                                  Traceback (most recent call last)",
      "\u001b[0;32m~/anaconda3/lib/python3.7/site-packages/pandas/core/indexes/base.py\u001b[0m in \u001b[0;36mget_loc\u001b[0;34m(self, key, method, tolerance)\u001b[0m\n\u001b[1;32m   2645\u001b[0m             \u001b[0;32mtry\u001b[0m\u001b[0;34m:\u001b[0m\u001b[0;34m\u001b[0m\u001b[0;34m\u001b[0m\u001b[0m\n\u001b[0;32m-> 2646\u001b[0;31m                 \u001b[0;32mreturn\u001b[0m \u001b[0mself\u001b[0m\u001b[0;34m.\u001b[0m\u001b[0m_engine\u001b[0m\u001b[0;34m.\u001b[0m\u001b[0mget_loc\u001b[0m\u001b[0;34m(\u001b[0m\u001b[0mkey\u001b[0m\u001b[0;34m)\u001b[0m\u001b[0;34m\u001b[0m\u001b[0;34m\u001b[0m\u001b[0m\n\u001b[0m\u001b[1;32m   2647\u001b[0m             \u001b[0;32mexcept\u001b[0m \u001b[0mKeyError\u001b[0m\u001b[0;34m:\u001b[0m\u001b[0;34m\u001b[0m\u001b[0;34m\u001b[0m\u001b[0m\n",
      "\u001b[0;32mpandas/_libs/index.pyx\u001b[0m in \u001b[0;36mpandas._libs.index.IndexEngine.get_loc\u001b[0;34m()\u001b[0m\n",
      "\u001b[0;32mpandas/_libs/index.pyx\u001b[0m in \u001b[0;36mpandas._libs.index.IndexEngine.get_loc\u001b[0;34m()\u001b[0m\n",
      "\u001b[0;32mpandas/_libs/index.pyx\u001b[0m in \u001b[0;36mpandas._libs.index.IndexEngine._get_loc_duplicates\u001b[0;34m()\u001b[0m\n",
      "\u001b[0;32mpandas/_libs/index.pyx\u001b[0m in \u001b[0;36mpandas._libs.index.IndexEngine._maybe_get_bool_indexer\u001b[0;34m()\u001b[0m\n",
      "\u001b[0;31mKeyError\u001b[0m: 'deferred_1M_a'",
      "\nDuring handling of the above exception, another exception occurred:\n",
      "\u001b[0;31mKeyError\u001b[0m                                  Traceback (most recent call last)",
      "\u001b[0;32m<ipython-input-63-cb865a6cd64f>\u001b[0m in \u001b[0;36m<module>\u001b[0;34m\u001b[0m\n\u001b[0;32m----> 1\u001b[0;31m \u001b[0mdf\u001b[0m \u001b[0;34m=\u001b[0m \u001b[0mclean_df_columns\u001b[0m\u001b[0;34m(\u001b[0m\u001b[0mdf\u001b[0m\u001b[0;34m)\u001b[0m\u001b[0;34m\u001b[0m\u001b[0;34m\u001b[0m\u001b[0m\n\u001b[0m",
      "\u001b[0;32m<ipython-input-62-51e1dac0df77>\u001b[0m in \u001b[0;36mclean_df_columns\u001b[0;34m(df)\u001b[0m\n\u001b[1;32m      5\u001b[0m \u001b[0;34m\u001b[0m\u001b[0m\n\u001b[1;32m      6\u001b[0m     \u001b[0;31m# Monthly\u001b[0m\u001b[0;34m\u001b[0m\u001b[0;34m\u001b[0m\u001b[0;34m\u001b[0m\u001b[0m\n\u001b[0;32m----> 7\u001b[0;31m     \u001b[0mdf\u001b[0m\u001b[0;34m[\u001b[0m\u001b[0;34m'deferred_1M'\u001b[0m\u001b[0;34m]\u001b[0m \u001b[0;34m=\u001b[0m \u001b[0mdf\u001b[0m\u001b[0;34m[\u001b[0m\u001b[0;34m'deferred_1M_a'\u001b[0m\u001b[0;34m]\u001b[0m\u001b[0;34m+\u001b[0m\u001b[0mdf\u001b[0m\u001b[0;34m[\u001b[0m\u001b[0;34m'deferred_1M_d'\u001b[0m\u001b[0;34m]\u001b[0m\u001b[0;34m\u001b[0m\u001b[0;34m\u001b[0m\u001b[0m\n\u001b[0m\u001b[1;32m      8\u001b[0m     \u001b[0mdf\u001b[0m\u001b[0;34m.\u001b[0m\u001b[0mdrop\u001b[0m\u001b[0;34m(\u001b[0m\u001b[0mlabels\u001b[0m\u001b[0;34m=\u001b[0m\u001b[0;34m[\u001b[0m\u001b[0;34m'deferred_1M_a'\u001b[0m\u001b[0;34m,\u001b[0m \u001b[0;34m'deferred_1M_d'\u001b[0m\u001b[0;34m]\u001b[0m\u001b[0;34m,\u001b[0m \u001b[0maxis\u001b[0m\u001b[0;34m=\u001b[0m\u001b[0;36m1\u001b[0m\u001b[0;34m,\u001b[0m \u001b[0minplace\u001b[0m\u001b[0;34m=\u001b[0m\u001b[0;32mTrue\u001b[0m\u001b[0;34m)\u001b[0m\u001b[0;34m\u001b[0m\u001b[0;34m\u001b[0m\u001b[0m\n\u001b[1;32m      9\u001b[0m \u001b[0;34m\u001b[0m\u001b[0m\n",
      "\u001b[0;32m~/anaconda3/lib/python3.7/site-packages/pandas/core/frame.py\u001b[0m in \u001b[0;36m__getitem__\u001b[0;34m(self, key)\u001b[0m\n\u001b[1;32m   2798\u001b[0m             \u001b[0;32mif\u001b[0m \u001b[0mself\u001b[0m\u001b[0;34m.\u001b[0m\u001b[0mcolumns\u001b[0m\u001b[0;34m.\u001b[0m\u001b[0mnlevels\u001b[0m \u001b[0;34m>\u001b[0m \u001b[0;36m1\u001b[0m\u001b[0;34m:\u001b[0m\u001b[0;34m\u001b[0m\u001b[0;34m\u001b[0m\u001b[0m\n\u001b[1;32m   2799\u001b[0m                 \u001b[0;32mreturn\u001b[0m \u001b[0mself\u001b[0m\u001b[0;34m.\u001b[0m\u001b[0m_getitem_multilevel\u001b[0m\u001b[0;34m(\u001b[0m\u001b[0mkey\u001b[0m\u001b[0;34m)\u001b[0m\u001b[0;34m\u001b[0m\u001b[0;34m\u001b[0m\u001b[0m\n\u001b[0;32m-> 2800\u001b[0;31m             \u001b[0mindexer\u001b[0m \u001b[0;34m=\u001b[0m \u001b[0mself\u001b[0m\u001b[0;34m.\u001b[0m\u001b[0mcolumns\u001b[0m\u001b[0;34m.\u001b[0m\u001b[0mget_loc\u001b[0m\u001b[0;34m(\u001b[0m\u001b[0mkey\u001b[0m\u001b[0;34m)\u001b[0m\u001b[0;34m\u001b[0m\u001b[0;34m\u001b[0m\u001b[0m\n\u001b[0m\u001b[1;32m   2801\u001b[0m             \u001b[0;32mif\u001b[0m \u001b[0mis_integer\u001b[0m\u001b[0;34m(\u001b[0m\u001b[0mindexer\u001b[0m\u001b[0;34m)\u001b[0m\u001b[0;34m:\u001b[0m\u001b[0;34m\u001b[0m\u001b[0;34m\u001b[0m\u001b[0m\n\u001b[1;32m   2802\u001b[0m                 \u001b[0mindexer\u001b[0m \u001b[0;34m=\u001b[0m \u001b[0;34m[\u001b[0m\u001b[0mindexer\u001b[0m\u001b[0;34m]\u001b[0m\u001b[0;34m\u001b[0m\u001b[0;34m\u001b[0m\u001b[0m\n",
      "\u001b[0;32m~/anaconda3/lib/python3.7/site-packages/pandas/core/indexes/base.py\u001b[0m in \u001b[0;36mget_loc\u001b[0;34m(self, key, method, tolerance)\u001b[0m\n\u001b[1;32m   2646\u001b[0m                 \u001b[0;32mreturn\u001b[0m \u001b[0mself\u001b[0m\u001b[0;34m.\u001b[0m\u001b[0m_engine\u001b[0m\u001b[0;34m.\u001b[0m\u001b[0mget_loc\u001b[0m\u001b[0;34m(\u001b[0m\u001b[0mkey\u001b[0m\u001b[0;34m)\u001b[0m\u001b[0;34m\u001b[0m\u001b[0;34m\u001b[0m\u001b[0m\n\u001b[1;32m   2647\u001b[0m             \u001b[0;32mexcept\u001b[0m \u001b[0mKeyError\u001b[0m\u001b[0;34m:\u001b[0m\u001b[0;34m\u001b[0m\u001b[0;34m\u001b[0m\u001b[0m\n\u001b[0;32m-> 2648\u001b[0;31m                 \u001b[0;32mreturn\u001b[0m \u001b[0mself\u001b[0m\u001b[0;34m.\u001b[0m\u001b[0m_engine\u001b[0m\u001b[0;34m.\u001b[0m\u001b[0mget_loc\u001b[0m\u001b[0;34m(\u001b[0m\u001b[0mself\u001b[0m\u001b[0;34m.\u001b[0m\u001b[0m_maybe_cast_indexer\u001b[0m\u001b[0;34m(\u001b[0m\u001b[0mkey\u001b[0m\u001b[0;34m)\u001b[0m\u001b[0;34m)\u001b[0m\u001b[0;34m\u001b[0m\u001b[0;34m\u001b[0m\u001b[0m\n\u001b[0m\u001b[1;32m   2649\u001b[0m         \u001b[0mindexer\u001b[0m \u001b[0;34m=\u001b[0m \u001b[0mself\u001b[0m\u001b[0;34m.\u001b[0m\u001b[0mget_indexer\u001b[0m\u001b[0;34m(\u001b[0m\u001b[0;34m[\u001b[0m\u001b[0mkey\u001b[0m\u001b[0;34m]\u001b[0m\u001b[0;34m,\u001b[0m \u001b[0mmethod\u001b[0m\u001b[0;34m=\u001b[0m\u001b[0mmethod\u001b[0m\u001b[0;34m,\u001b[0m \u001b[0mtolerance\u001b[0m\u001b[0;34m=\u001b[0m\u001b[0mtolerance\u001b[0m\u001b[0;34m)\u001b[0m\u001b[0;34m\u001b[0m\u001b[0;34m\u001b[0m\u001b[0m\n\u001b[1;32m   2650\u001b[0m         \u001b[0;32mif\u001b[0m \u001b[0mindexer\u001b[0m\u001b[0;34m.\u001b[0m\u001b[0mndim\u001b[0m \u001b[0;34m>\u001b[0m \u001b[0;36m1\u001b[0m \u001b[0;32mor\u001b[0m \u001b[0mindexer\u001b[0m\u001b[0;34m.\u001b[0m\u001b[0msize\u001b[0m \u001b[0;34m>\u001b[0m \u001b[0;36m1\u001b[0m\u001b[0;34m:\u001b[0m\u001b[0;34m\u001b[0m\u001b[0;34m\u001b[0m\u001b[0m\n",
      "\u001b[0;32mpandas/_libs/index.pyx\u001b[0m in \u001b[0;36mpandas._libs.index.IndexEngine.get_loc\u001b[0;34m()\u001b[0m\n",
      "\u001b[0;32mpandas/_libs/index.pyx\u001b[0m in \u001b[0;36mpandas._libs.index.IndexEngine.get_loc\u001b[0;34m()\u001b[0m\n",
      "\u001b[0;32mpandas/_libs/index.pyx\u001b[0m in \u001b[0;36mpandas._libs.index.IndexEngine._get_loc_duplicates\u001b[0;34m()\u001b[0m\n",
      "\u001b[0;32mpandas/_libs/index.pyx\u001b[0m in \u001b[0;36mpandas._libs.index.IndexEngine._maybe_get_bool_indexer\u001b[0;34m()\u001b[0m\n",
      "\u001b[0;31mKeyError\u001b[0m: 'deferred_1M_a'"
     ]
    }
   ],
   "source": [
    "df = clean_df_columns(df)"
   ]
  },
  {
   "cell_type": "code",
   "execution_count": null,
   "metadata": {},
   "outputs": [],
   "source": [
    "df.sample(10)"
   ]
  },
  {
   "cell_type": "code",
   "execution_count": null,
   "metadata": {},
   "outputs": [],
   "source": [
    "# Make this a function to be cleaned up somehow\n",
    "del dfr\n",
    "del dfr_a\n",
    "del dfr_b\n",
    "del dfr_d\n",
    "del gb_a\n",
    "del gb_a_1M\n",
    "del gb_a_1Y\n",
    "del gb_a_2Y\n",
    "del gb_a_3Y\n",
    "del gb_b, \n",
    "del gb_d\n",
    "del gb_svc, gb_rec, gb_d_two_yrs\n",
    "del gb_d_four_mths, gb_d_qtrly, gb_d_semi_ann\n"
   ]
  },
  {
   "cell_type": "markdown",
   "metadata": {},
   "source": [
    "# Now working on the ZCC billings\n",
    "\n",
    "These billings are type D billings that did not populate the rebill_rule field of the database.\n",
    "\n",
    "They have a 'sales document type' = 'ZCC\"\n",
    "\n",
    "The billings themselves are being created from a tableau report that looks for additions to the deferred revenue waterfall based on billings of type D and have a sales document type of ZCC"
   ]
  },
  {
   "cell_type": "code",
   "execution_count": null,
   "metadata": {},
   "outputs": [],
   "source": [
    "whos"
   ]
  },
  {
   "cell_type": "code",
   "execution_count": null,
   "metadata": {},
   "outputs": [],
   "source": [
    "df.sample(10)"
   ]
  },
  {
   "cell_type": "markdown",
   "metadata": {},
   "source": [
    "# TO BE DONE:\n",
    "\n",
    "1. Clean up the type F billings (at least check to see if they are necessary)\n",
    "2. Make a function to delete all intermediate dataframes\n",
    "3. Add type A no config function\n",
    "4. Add type D ZCC billings\n",
    "\n",
    "5. Work on the forecast part of this\n",
    "\n",
    "6. Load up FX rates"
   ]
  },
  {
   "cell_type": "code",
   "execution_count": null,
   "metadata": {},
   "outputs": [],
   "source": [
    "# Adobe financial calendar\n",
    "df_cal = pd.read_excel('../data/old/ADOBE_FINANCIAL_CALENDAR.xlsx', 'ADBE_cal')"
   ]
  },
  {
   "cell_type": "code",
   "execution_count": null,
   "metadata": {},
   "outputs": [],
   "source": [
    "df_cal.head()"
   ]
  },
  {
   "cell_type": "code",
   "execution_count": null,
   "metadata": {},
   "outputs": [],
   "source": []
  },
  {
   "cell_type": "markdown",
   "metadata": {},
   "source": [
    "## ZCC Billings"
   ]
  },
  {
   "cell_type": "code",
   "execution_count": null,
   "metadata": {},
   "outputs": [],
   "source": [
    "df_ZCC = pd.read_excel('../data/old/type_D_ZCC_billings.xlsx', sheet_name='DC')"
   ]
  },
  {
   "cell_type": "code",
   "execution_count": null,
   "metadata": {},
   "outputs": [],
   "source": [
    "df_ZCC.sample(10)"
   ]
  },
  {
   "cell_type": "markdown",
   "metadata": {},
   "source": [
    "### Renaming the columns"
   ]
  },
  {
   "cell_type": "code",
   "execution_count": null,
   "metadata": {},
   "outputs": [],
   "source": [
    "df_ZCC.columns"
   ]
  },
  {
   "cell_type": "code",
   "execution_count": null,
   "metadata": {},
   "outputs": [],
   "source": [
    "df_ZCC.rename(index = str, columns = {'Document Currency': 'curr',\n",
    "                                      'Enterprise BU Description':'BU',\n",
    "                                      'Rule for Bill Date Code': 'rebill_rule',\n",
    "                                      'Week of FICA Posting Date (YYYYMMDD) (copy)': 'fiscal_week',\n",
    "                                      'DF Additions - Doc Curr': 'amount'}, inplace = True)"
   ]
  },
  {
   "cell_type": "code",
   "execution_count": null,
   "metadata": {},
   "outputs": [],
   "source": [
    "df_ZCC.columns"
   ]
  },
  {
   "cell_type": "markdown",
   "metadata": {},
   "source": [
    "### Checking that we do not have any currencies that need to be removed\n"
   ]
  },
  {
   "cell_type": "code",
   "execution_count": null,
   "metadata": {},
   "outputs": [],
   "source": [
    "df_ZCC['curr'].value_counts()"
   ]
  },
  {
   "cell_type": "code",
   "execution_count": null,
   "metadata": {},
   "outputs": [],
   "source": [
    "model_dict"
   ]
  },
  {
   "cell_type": "code",
   "execution_count": null,
   "metadata": {},
   "outputs": [],
   "source": [
    "ZCC_curr = df_ZCC['curr'].unique()"
   ]
  },
  {
   "cell_type": "code",
   "execution_count": null,
   "metadata": {},
   "outputs": [],
   "source": [
    "for item in ZCC_curr:\n",
    "    if item in model_dict['curr_removed']:\n",
    "        print('This currency needs to be removed: ', item)"
   ]
  },
  {
   "cell_type": "markdown",
   "metadata": {},
   "source": [
    "There are no currencies that need to be removed"
   ]
  },
  {
   "cell_type": "markdown",
   "metadata": {},
   "source": [
    "# Now we are clearing out nans"
   ]
  },
  {
   "cell_type": "code",
   "execution_count": null,
   "metadata": {},
   "outputs": [],
   "source": [
    "print('Number of NaNs to be cleared out: ', sum(df_ZCC['amount'].isna()))\n",
    "ZCC_isna = df_ZCC['amount'].isna()\n",
    "print(\"This is the length of the ZCC records before clearing NAs: \", len(df_ZCC))\n",
    "df_ZCC = df_ZCC[~ZCC_isna]\n",
    "print(\"This is the length of the ZCC records before clearing NAs: \", len(df_ZCC))"
   ]
  },
  {
   "cell_type": "code",
   "execution_count": null,
   "metadata": {},
   "outputs": [],
   "source": []
  },
  {
   "cell_type": "code",
   "execution_count": null,
   "metadata": {},
   "outputs": [],
   "source": [
    "df_cal.sample(5)"
   ]
  },
  {
   "cell_type": "code",
   "execution_count": null,
   "metadata": {},
   "outputs": [],
   "source": [
    "df_ZCC.sample(10)"
   ]
  },
  {
   "cell_type": "code",
   "execution_count": null,
   "metadata": {},
   "outputs": [],
   "source": []
  },
  {
   "cell_type": "code",
   "execution_count": null,
   "metadata": {},
   "outputs": [],
   "source": [
    "def add_ZCC_periods(df_ZCC, df_cal):\n",
    "    ''' \n",
    "    Takes each ZCC period billing and maps it to the fiscal calendar then assignes the\n",
    "    ZCC billing to the dataframe df\n",
    "    '''\n",
    "    period_list = []\n",
    "    \n",
    "    for i in range(len(df_ZCC)):\n",
    "        # this_date is the date we need mapped to a period\n",
    "        this_date = df_ZCC['fiscal_week'].iloc[i]\n",
    "        \n",
    "        #max index will be the index to the period in our financial calendar\n",
    "        this_index = df_cal['Per_End']<=this_date\n",
    "        max_index = sum(this_index)\n",
    "\n",
    "        this_year = df_cal['Year'].iloc[max_index].astype(str)\n",
    "        this_period= df_cal['Period'].iloc[max_index].astype(str)\n",
    "\n",
    "        # formatting the period string from the calendar\n",
    "        if len(this_period)== 1:\n",
    "            this_period = '0'+this_period\n",
    "\n",
    "        period_ticker = this_year + '-' + this_period\n",
    "\n",
    "        period_list.append(period_ticker)\n",
    "\n",
    "    df_ZCC['period'] = period_list\n",
    "    return df_ZCC\n"
   ]
  },
  {
   "cell_type": "code",
   "execution_count": null,
   "metadata": {},
   "outputs": [],
   "source": [
    "df_ZCC.head()"
   ]
  },
  {
   "cell_type": "code",
   "execution_count": null,
   "metadata": {},
   "outputs": [],
   "source": [
    "df_ZCC = add_ZCC_periods(df_ZCC, df_cal)"
   ]
  },
  {
   "cell_type": "code",
   "execution_count": null,
   "metadata": {},
   "outputs": [],
   "source": [
    "df_ZCC.tail()"
   ]
  },
  {
   "cell_type": "markdown",
   "metadata": {},
   "source": [
    "## Now we need to determine the length of the ZCC billings to and add this to our dataframe"
   ]
  },
  {
   "cell_type": "code",
   "execution_count": null,
   "metadata": {},
   "outputs": [],
   "source": [
    "df.columns"
   ]
  },
  {
   "cell_type": "code",
   "execution_count": null,
   "metadata": {},
   "outputs": [],
   "source": [
    "df_ZCC.columns"
   ]
  },
  {
   "cell_type": "code",
   "execution_count": null,
   "metadata": {},
   "outputs": [],
   "source": [
    "gb_ZCC = df_ZCC.groupby(['curr', 'BU', 'period',\n",
    "                     'rebill_rule'], as_index=False).sum()\n",
    "#gb_d.drop(labels='Subscription Term', axis=1, inplace = True)"
   ]
  },
  {
   "cell_type": "code",
   "execution_count": null,
   "metadata": {},
   "outputs": [],
   "source": [
    "gb_ZCC.sample(20)"
   ]
  },
  {
   "cell_type": "code",
   "execution_count": null,
   "metadata": {},
   "outputs": [],
   "source": [
    "gb_ZCC['rebill_rule'].value_counts()"
   ]
  },
  {
   "cell_type": "code",
   "execution_count": null,
   "metadata": {},
   "outputs": [],
   "source": [
    "gb_ZCC_mthly = gb_ZCC[gb_ZCC['rebill_rule'].isin(['Y1', 'Y2', 'Y3', 'Y5'])]\n",
    "gb_ZCC_qtrly = gb_ZCC[gb_ZCC['rebill_rule']=='YQ']\n",
    "gb_ZCC_four_mths = gb_ZCC[gb_ZCC['rebill_rule']=='YT']\n",
    "gb_ZCC_semi_ann = gb_ZCC[gb_ZCC['rebill_rule']=='YH']\n",
    "gb_ZCC_annual = gb_ZCC[gb_ZCC['rebill_rule'].isin(['YA', 'YC'])]\n",
    "gb_ZCC_two_yrs = gb_ZCC[gb_ZCC['rebill_rule']=='Y4']"
   ]
  },
  {
   "cell_type": "markdown",
   "metadata": {},
   "source": [
    "There are no four month billings"
   ]
  },
  {
   "cell_type": "code",
   "execution_count": null,
   "metadata": {},
   "outputs": [],
   "source": [
    "len(gb_ZCC_four_mths)"
   ]
  },
  {
   "cell_type": "markdown",
   "metadata": {},
   "source": [
    "There are two YX billings for small amounts that I do not have mapped to a frequency.\n",
    "They will be ignored"
   ]
  },
  {
   "cell_type": "code",
   "execution_count": null,
   "metadata": {},
   "outputs": [],
   "source": [
    "what_is_YX = gb_ZCC[gb_ZCC['rebill_rule']=='YX']\n",
    "what_is_YX.head(10)"
   ]
  },
  {
   "cell_type": "markdown",
   "metadata": {},
   "source": [
    "## I need to merge the ZCC billings and then clean up the columns. \n",
    " \n"
   ]
  },
  {
   "cell_type": "code",
   "execution_count": null,
   "metadata": {},
   "outputs": [],
   "source": []
  },
  {
   "cell_type": "code",
   "execution_count": null,
   "metadata": {},
   "outputs": [],
   "source": []
  },
  {
   "cell_type": "code",
   "execution_count": null,
   "metadata": {},
   "outputs": [],
   "source": []
  },
  {
   "cell_type": "code",
   "execution_count": null,
   "metadata": {},
   "outputs": [],
   "source": []
  },
  {
   "cell_type": "code",
   "execution_count": null,
   "metadata": {},
   "outputs": [],
   "source": [
    "# We need to do it this way when we get to a .py file!\n",
    "list_ZCC_df = [gb_ZCC_mthly, gb_ZCC_qtrly, gb_ZCC_semi_ann,\n",
    "           gb_ZCC_annual, gb_ZCC_two_yrs]\n",
    "\n",
    "list_ZCC_columns = ['deferred_1M', 'deferred_3M', 'deferred_6M', \n",
    "    'deferred_1Y', 'deferred_2Y']\n"
   ]
  },
  {
   "cell_type": "code",
   "execution_count": null,
   "metadata": {},
   "outputs": [],
   "source": [
    "df_ZCC_merged = merge_all_dataframes(list_ZCC_df, list_ZCC_columns)"
   ]
  },
  {
   "cell_type": "code",
   "execution_count": null,
   "metadata": {},
   "outputs": [],
   "source": [
    "df_ZCC_merged.sample(10)"
   ]
  },
  {
   "cell_type": "markdown",
   "metadata": {},
   "source": [
    "### Clearing out any zeros"
   ]
  },
  {
   "cell_type": "code",
   "execution_count": null,
   "metadata": {},
   "outputs": [],
   "source": [
    "df_ZCC_merged.drop(columns=['rebill_rule_x', 'rebill_rule_y'], inplace=True)\n",
    "df_ZCC_merged.fillna(0, inplace=True)\n",
    "df_ZCC_merged.sample(10)"
   ]
  },
  {
   "cell_type": "code",
   "execution_count": null,
   "metadata": {},
   "outputs": [],
   "source": []
  },
  {
   "cell_type": "code",
   "execution_count": null,
   "metadata": {},
   "outputs": [],
   "source": []
  },
  {
   "cell_type": "code",
   "execution_count": null,
   "metadata": {},
   "outputs": [],
   "source": [
    "df.columns"
   ]
  },
  {
   "cell_type": "code",
   "execution_count": null,
   "metadata": {},
   "outputs": [],
   "source": [
    "df_cal.sample(5)"
   ]
  },
  {
   "cell_type": "code",
   "execution_count": null,
   "metadata": {},
   "outputs": [],
   "source": []
  },
  {
   "cell_type": "code",
   "execution_count": null,
   "metadata": {},
   "outputs": [],
   "source": [
    "test_merge = pd.merge(df, df_ZCC_merged, how='outer', \n",
    "                 left_on=['curr', 'BU', 'period'],\n",
    "                right_on=['curr', 'BU', 'period'])\n",
    "#test_merge.rename(index=str, columns={'amount': new_column}, inplace=True)\n"
   ]
  },
  {
   "cell_type": "code",
   "execution_count": null,
   "metadata": {},
   "outputs": [],
   "source": [
    "test_merge"
   ]
  },
  {
   "cell_type": "code",
   "execution_count": null,
   "metadata": {},
   "outputs": [],
   "source": [
    "\n",
    "# clean up NaNs before adding \n",
    "test_merge = test_merge.fillna(value=0)\n",
    "\n",
    "# Monthly\n",
    "test_merge['deferred_1M'] = test_merge['deferred_1M_x']+test_merge['deferred_1M_y']\n",
    "test_merge.drop(labels=['deferred_1M_x', 'deferred_1M_x'], axis=1, inplace=True)\n",
    "\n",
    "# Quarterly\n",
    "test_merge['deferred_3M'] = test_merge['deferred_3M_x']+test_merge['deferred_3M_y']\n",
    "test_merge.drop(labels=['deferred_3M_x', 'deferred_3M_y'], axis=1, inplace=True)\n",
    "\n",
    "# Semi-Annual\n",
    "test_merge['deferred_6M'] = test_merge['deferred_6M_x']+test_merge['deferred_6M_y']\n",
    "test_merge.drop(labels=['deferred_6M_x', 'deferred_6M_y'], axis=1, inplace=True)\n",
    "\n",
    "# Annual\n",
    "test_merge['deferred_1Y'] = test_merge['deferred_1Y_x']+test_merge['deferred_1Y_y']\n",
    "test_merge.drop(labels=['deferred_1Y_x', 'deferred_1Y_y'], axis=1, inplace=True)\n",
    "\n",
    "# 2-Years\n",
    "test_merge['deferred_2Y'] = test_merge['deferred_2Y_x']+test_merge['deferred_2Y_y']\n",
    "test_merge.drop(labels=['deferred_2Y_x', 'deferred_2Y_y'], axis=1, inplace=True)\n",
    "\n",
    "\n",
    "\n"
   ]
  },
  {
   "cell_type": "code",
   "execution_count": null,
   "metadata": {},
   "outputs": [],
   "source": [
    "test_merge.columns"
   ]
  },
  {
   "cell_type": "code",
   "execution_count": null,
   "metadata": {},
   "outputs": [],
   "source": [
    "test_merge.sample(20)"
   ]
  },
  {
   "cell_type": "code",
   "execution_count": null,
   "metadata": {},
   "outputs": [],
   "source": [
    "## Looks like the type ZCC billings are complete"
   ]
  },
  {
   "cell_type": "code",
   "execution_count": null,
   "metadata": {},
   "outputs": [],
   "source": [
    "# renaming the main dataframe as df\n",
    "df = test_merge.copy()"
   ]
  },
  {
   "cell_type": "markdown",
   "metadata": {},
   "source": [
    "# Type A No Config Type Billings\n",
    "\n",
    "This file contains type A billings that have a revenue contract start date and end date. We need to map these into the terms of our dataframe.\n",
    "\n",
    "### Steps:\n",
    "1. Rename the columns\n",
    "2. This file has entries for pennies. Need to clear out anything less than $10 in absolute value\n",
    "3. Determine the length of time between start date and end date\n",
    "4. Group this dataframe by currency, period and BU\n",
    "5. Merge this final dataframe with the larger dataframe\n",
    "\n",
    "## NOTE: This file contains two different start date and end date columns. We need to look at all of them"
   ]
  },
  {
   "cell_type": "code",
   "execution_count": null,
   "metadata": {},
   "outputs": [],
   "source": [
    "df_A = pd.read_excel('../data/old/type_A_no_config.xlsx', 'DC')"
   ]
  },
  {
   "cell_type": "code",
   "execution_count": null,
   "metadata": {},
   "outputs": [],
   "source": [
    "df_A.sample(10)"
   ]
  },
  {
   "cell_type": "code",
   "execution_count": null,
   "metadata": {},
   "outputs": [],
   "source": [
    "df_A.columns"
   ]
  },
  {
   "cell_type": "code",
   "execution_count": null,
   "metadata": {},
   "outputs": [],
   "source": [
    "df_A.rename(index=str, columns={'Document Currency':'currency', \n",
    "                               'Enterprise Bu':'BU',\n",
    "                               'Invoicing Fiscal Year-Period Desc':'period',\n",
    "                               'Rev Rec Contract End Date Hdr':'end_date_1',\n",
    "                               'Rev Rec Contract End Date Item':'end_date_2',\n",
    "                               'Rev Rec Contract Start Date Hdr': 'start_date_1',\n",
    "                               'Rev Rec Contract Start Date Item': 'start_date_2',\n",
    "                               'Completed Sales Doc Currency':'amount'}, inplace=True)\n",
    "\n",
    "df_A.drop(columns='Product Configtype ID', inplace=True)"
   ]
  },
  {
   "cell_type": "code",
   "execution_count": null,
   "metadata": {},
   "outputs": [],
   "source": [
    "df_A.columns"
   ]
  },
  {
   "cell_type": "markdown",
   "metadata": {},
   "source": [
    "### Dealing with the duplicate dates by taking a max"
   ]
  },
  {
   "cell_type": "code",
   "execution_count": null,
   "metadata": {},
   "outputs": [],
   "source": [
    "df_A.head()"
   ]
  },
  {
   "cell_type": "code",
   "execution_count": null,
   "metadata": {},
   "outputs": [],
   "source": [
    "df_A['start_date_str'] = df_A[['start_date_1','start_date_2']].max(axis=1).astype(int).astype(str)\n",
    "df_A['end_date_str'] = df_A[['end_date_1','end_date_2']].max(axis=1).astype(int).astype(str)"
   ]
  },
  {
   "cell_type": "code",
   "execution_count": null,
   "metadata": {},
   "outputs": [],
   "source": [
    "df_A.sample(10)"
   ]
  },
  {
   "cell_type": "code",
   "execution_count": null,
   "metadata": {},
   "outputs": [],
   "source": [
    "df_A['start_date'] = pd.to_datetime(df_A['start_date_str'])\n",
    "df_A['end_date'] = pd.to_datetime(df_A['end_date_str'])"
   ]
  },
  {
   "cell_type": "code",
   "execution_count": null,
   "metadata": {},
   "outputs": [],
   "source": [
    "df_A.drop(labels=['end_date_1', 'end_date_2', 'start_date_1', 'start_date_2',\n",
    "                  'start_date_str', 'end_date_str'], axis=1, inplace=True)"
   ]
  },
  {
   "cell_type": "code",
   "execution_count": null,
   "metadata": {},
   "outputs": [],
   "source": []
  },
  {
   "cell_type": "code",
   "execution_count": null,
   "metadata": {},
   "outputs": [],
   "source": [
    "df_A['month_interval']=(df_A['end_date']-df_A['start_date'])"
   ]
  },
  {
   "cell_type": "code",
   "execution_count": null,
   "metadata": {},
   "outputs": [],
   "source": [
    "df_A.sample(10)"
   ]
  },
  {
   "cell_type": "code",
   "execution_count": null,
   "metadata": {},
   "outputs": [],
   "source": [
    "df_A['months']= (df_A['month_interval']/ np.timedelta64(1,'M')).round(0)"
   ]
  },
  {
   "cell_type": "code",
   "execution_count": null,
   "metadata": {},
   "outputs": [],
   "source": []
  },
  {
   "cell_type": "markdown",
   "metadata": {},
   "source": [
    "### Now I need to map the months into the different integers in my dataframe\n"
   ]
  },
  {
   "cell_type": "code",
   "execution_count": null,
   "metadata": {},
   "outputs": [],
   "source": [
    "list_rebills = [1, 3, 6, 12, 24, 36]\n",
    "temp_rebill = np.zeros_like(df_A['months'])\n",
    "for i in range(len(df_A)):\n",
    "    temp_rebill[i] = min(list_rebills, key=lambda x:abs(x-df_A['months'][i]))\n",
    "df_A['rebill_months']=temp_rebill\n"
   ]
  },
  {
   "cell_type": "code",
   "execution_count": null,
   "metadata": {},
   "outputs": [],
   "source": [
    "df_A.sample(10)"
   ]
  },
  {
   "cell_type": "code",
   "execution_count": null,
   "metadata": {},
   "outputs": [],
   "source": [
    "plt.scatter(df_A['months'], df_A['rebill_months'])"
   ]
  },
  {
   "cell_type": "markdown",
   "metadata": {},
   "source": [
    "## Grouping the dataframe by rebill_months"
   ]
  },
  {
   "cell_type": "code",
   "execution_count": null,
   "metadata": {},
   "outputs": [],
   "source": [
    "# drop what we dont need\n",
    "df_A.drop(columns = ['start_date', 'end_date', 'month_interval', 'months'], axis=1, inplace=True)"
   ]
  },
  {
   "cell_type": "code",
   "execution_count": null,
   "metadata": {},
   "outputs": [],
   "source": [
    "df_A.head()"
   ]
  },
  {
   "cell_type": "code",
   "execution_count": null,
   "metadata": {},
   "outputs": [],
   "source": [
    "#gb_A = df+A.groupby(['curr', 'BU', 'period'], as_index=False).sum()"
   ]
  },
  {
   "cell_type": "code",
   "execution_count": null,
   "metadata": {},
   "outputs": [],
   "source": [
    "#medals = df.pivot_table('no of medals', ['Year', 'Country'], 'medal')\n",
    "temp = df_A.pivot_table('amount', ['currency', 'BU', 'period'], 'rebill_months')"
   ]
  },
  {
   "cell_type": "code",
   "execution_count": null,
   "metadata": {},
   "outputs": [],
   "source": [
    "temp"
   ]
  },
  {
   "cell_type": "code",
   "execution_count": null,
   "metadata": {},
   "outputs": [],
   "source": [
    "temp.columns[5]"
   ]
  },
  {
   "cell_type": "code",
   "execution_count": null,
   "metadata": {},
   "outputs": [],
   "source": [
    "temp.fillna(0)"
   ]
  },
  {
   "cell_type": "code",
   "execution_count": null,
   "metadata": {},
   "outputs": [],
   "source": [
    "temp.rename(index=str, columns = {''})"
   ]
  },
  {
   "cell_type": "code",
   "execution_count": null,
   "metadata": {},
   "outputs": [],
   "source": [
    "whos"
   ]
  },
  {
   "cell_type": "code",
   "execution_count": null,
   "metadata": {},
   "outputs": [],
   "source": []
  },
  {
   "cell_type": "code",
   "execution_count": null,
   "metadata": {},
   "outputs": [],
   "source": []
  }
 ],
 "metadata": {
  "kernelspec": {
   "display_name": "Python 3",
   "language": "python",
   "name": "python3"
  },
  "language_info": {
   "codemirror_mode": {
    "name": "ipython",
    "version": 3
   },
   "file_extension": ".py",
   "mimetype": "text/x-python",
   "name": "python",
   "nbconvert_exporter": "python",
   "pygments_lexer": "ipython3",
   "version": "3.7.3"
  }
 },
 "nbformat": 4,
 "nbformat_minor": 2
}
