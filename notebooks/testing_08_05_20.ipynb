{
 "cells": [
  {
   "cell_type": "code",
   "execution_count": 131,
   "metadata": {},
   "outputs": [],
   "source": [
    "import numpy as np\n",
    "import pickle\n",
    "import pandas as pd\n",
    "import matplotlib.pyplot as plt\n",
    "%matplotlib inline\n",
    "\n",
    "plt.style.use(\"ggplot\")\n"
   ]
  },
  {
   "cell_type": "code",
   "execution_count": 132,
   "metadata": {},
   "outputs": [],
   "source": [
    "import json\n",
    "\n"
   ]
  },
  {
   "cell_type": "code",
   "execution_count": 133,
   "metadata": {},
   "outputs": [],
   "source": [
    "df = pd.read_excel('../data/Data_2020_P06/all_billings_inputs_08_20.xlsx',\n",
    "                  sheet_name = 'base_billings')"
   ]
  },
  {
   "cell_type": "code",
   "execution_count": 134,
   "metadata": {},
   "outputs": [],
   "source": [
    "df.rename(\n",
    "        index=str,\n",
    "        columns={\n",
    "            \"Contrct Duration in Months\": \"duration\",\n",
    "            \"Document Currency\": \"curr\",\n",
    "            \"Enterprise BU Desc\": \"BU\",\n",
    "            \"Invoice Fiscal Year Period Desc\": \"period\",\n",
    "            \"POB Type\": \"POB_type\",\n",
    "            \"Product Config Type\": \"config\",\n",
    "            \"Rev Rec Category\": \"rev_req_type\",\n",
    "            \"Rule For Bill Date\": \"rebill_rule\",\n",
    "            \"Sales Document Type\": \"sales_doc\",\n",
    "            \"Sales Type\": \"sales_type\",\n",
    "            \"Subscription Term\": \"sub_term\",\n",
    "            \"Completed Sales ( DC )\": \"DC_amount\",\n",
    "            \"Completed Sales\": \"US_amount\",\n",
    "        },\n",
    "        inplace=True,\n",
    "    )\n"
   ]
  },
  {
   "cell_type": "code",
   "execution_count": 135,
   "metadata": {},
   "outputs": [
    {
     "data": {
      "text/html": [
       "<div>\n",
       "<style scoped>\n",
       "    .dataframe tbody tr th:only-of-type {\n",
       "        vertical-align: middle;\n",
       "    }\n",
       "\n",
       "    .dataframe tbody tr th {\n",
       "        vertical-align: top;\n",
       "    }\n",
       "\n",
       "    .dataframe thead th {\n",
       "        text-align: right;\n",
       "    }\n",
       "</style>\n",
       "<table border=\"1\" class=\"dataframe\">\n",
       "  <thead>\n",
       "    <tr style=\"text-align: right;\">\n",
       "      <th></th>\n",
       "      <th>duration</th>\n",
       "      <th>curr</th>\n",
       "      <th>BU</th>\n",
       "      <th>period</th>\n",
       "      <th>POB_type</th>\n",
       "      <th>config</th>\n",
       "      <th>rev_req_type</th>\n",
       "      <th>rebill_rule</th>\n",
       "      <th>sales_doc</th>\n",
       "      <th>sales_type</th>\n",
       "      <th>sub_term</th>\n",
       "      <th>DC_amount</th>\n",
       "      <th>US_amount</th>\n",
       "    </tr>\n",
       "  </thead>\n",
       "  <tbody>\n",
       "    <tr>\n",
       "      <th>0</th>\n",
       "      <td>0</td>\n",
       "      <td>AUD</td>\n",
       "      <td>Experience Cloud</td>\n",
       "      <td>2017-01</td>\n",
       "      <td>NaN</td>\n",
       "      <td>OCONS</td>\n",
       "      <td>NaN</td>\n",
       "      <td>NaN</td>\n",
       "      <td>ZCC</td>\n",
       "      <td>PRO-SVC-INV</td>\n",
       "      <td>0</td>\n",
       "      <td>375.0</td>\n",
       "      <td>278.01</td>\n",
       "    </tr>\n",
       "    <tr>\n",
       "      <th>1</th>\n",
       "      <td>0</td>\n",
       "      <td>AUD</td>\n",
       "      <td>Experience Cloud</td>\n",
       "      <td>2017-01</td>\n",
       "      <td>NaN</td>\n",
       "      <td>ONORE</td>\n",
       "      <td>NaN</td>\n",
       "      <td>NaN</td>\n",
       "      <td>ZCC</td>\n",
       "      <td>RECOGNIZED</td>\n",
       "      <td>0</td>\n",
       "      <td>0.0</td>\n",
       "      <td>45.75</td>\n",
       "    </tr>\n",
       "    <tr>\n",
       "      <th>2</th>\n",
       "      <td>0</td>\n",
       "      <td>AUD</td>\n",
       "      <td>Experience Cloud</td>\n",
       "      <td>2017-01</td>\n",
       "      <td>NaN</td>\n",
       "      <td>ONORE</td>\n",
       "      <td>D</td>\n",
       "      <td>YA</td>\n",
       "      <td>ZCC</td>\n",
       "      <td>DEFERRED</td>\n",
       "      <td>0</td>\n",
       "      <td>-684738.0</td>\n",
       "      <td>-512177.81</td>\n",
       "    </tr>\n",
       "  </tbody>\n",
       "</table>\n",
       "</div>"
      ],
      "text/plain": [
       "   duration curr                BU   period POB_type config rev_req_type  \\\n",
       "0         0  AUD  Experience Cloud  2017-01      NaN  OCONS          NaN   \n",
       "1         0  AUD  Experience Cloud  2017-01      NaN  ONORE          NaN   \n",
       "2         0  AUD  Experience Cloud  2017-01      NaN  ONORE            D   \n",
       "\n",
       "  rebill_rule sales_doc   sales_type  sub_term  DC_amount  US_amount  \n",
       "0         NaN       ZCC  PRO-SVC-INV         0      375.0     278.01  \n",
       "1         NaN       ZCC   RECOGNIZED         0        0.0      45.75  \n",
       "2          YA       ZCC     DEFERRED         0  -684738.0 -512177.81  "
      ]
     },
     "execution_count": 135,
     "metadata": {},
     "output_type": "execute_result"
    }
   ],
   "source": [
    "df.head(3)"
   ]
  },
  {
   "cell_type": "code",
   "execution_count": 136,
   "metadata": {},
   "outputs": [],
   "source": [
    "vc = df[\"curr\"].value_counts()\n",
    "keep_these = vc.values > 20\n",
    "keep_curr = vc[keep_these]\n",
    "list_keepers = keep_curr.index\n",
    "remove_these = vc[vc.values <= 20].index\n",
    "model_dict = {\"curr_removed\": list(vc[remove_these].index)}\n",
    "delete_curr = list(remove_these)\n",
    "\n",
    "if \"TRY\" not in model_dict[\"curr_removed\"]:\n",
    "    model_dict[\"curr_removed\"].append(\"TRY\")\n",
    "    delete_curr.append(\"TRY\")\n",
    "    list_keepers = list_keepers.drop(\"TRY\")\n",
    "\n",
    "df = df[df[\"curr\"].isin(list_keepers)]"
   ]
  },
  {
   "cell_type": "code",
   "execution_count": 137,
   "metadata": {},
   "outputs": [
    {
     "name": "stdout",
     "output_type": "stream",
     "text": [
      "293832\n",
      "286744\n"
     ]
    }
   ],
   "source": [
    "print(len(df))\n",
    "df = df[df[\"DC_amount\"] != 0]\n",
    "print(len(df))"
   ]
  },
  {
   "cell_type": "code",
   "execution_count": 138,
   "metadata": {},
   "outputs": [
    {
     "data": {
      "text/plain": [
       "{'curr_removed': ['BHD',\n",
       "  'JOD',\n",
       "  'EGP',\n",
       "  'OMR',\n",
       "  'LBP',\n",
       "  'BMD',\n",
       "  'AED',\n",
       "  'MXP',\n",
       "  'TRY']}"
      ]
     },
     "execution_count": 138,
     "metadata": {},
     "output_type": "execute_result"
    }
   ],
   "source": [
    "model_dict"
   ]
  },
  {
   "cell_type": "code",
   "execution_count": 139,
   "metadata": {},
   "outputs": [
    {
     "data": {
      "text/plain": [
       "RR       73256\n",
       "IR-NA     7424\n",
       "IR        4819\n",
       "BNDL      3604\n",
       "CR        2956\n",
       "RR-NA     2308\n",
       "CR-NA      102\n",
       "LFB         56\n",
       "Name: POB_type, dtype: int64"
      ]
     },
     "execution_count": 139,
     "metadata": {},
     "output_type": "execute_result"
    }
   ],
   "source": [
    "df['POB_type'].value_counts()"
   ]
  },
  {
   "cell_type": "markdown",
   "metadata": {},
   "source": [
    "## Grouping by POB Type\n",
    "\n",
    "The new 606 has everything grouped by sales type. There are blanks\n",
    "We need to separate into groups based on the POB type\n"
   ]
  },
  {
   "cell_type": "code",
   "execution_count": 140,
   "metadata": {},
   "outputs": [
    {
     "name": "stdout",
     "output_type": "stream",
     "text": [
      "['IR', 'IR-NA', 'LFB', 'CR', 'CR-NA', 'RR', 'RR-NA', 'BNDL']\n"
     ]
    }
   ],
   "source": [
    "list_IR = ['IR', 'IR-NA', 'LFB']\n",
    "list_service = ['CR', 'CR-NA']\n",
    "list_deferred = ['RR', 'RR-NA']\n",
    "list_hybrid = ['BNDL']\n",
    "\n",
    "list_all = list_IR + list_service + list_deferred + list_hybrid\n",
    "print(list_all)"
   ]
  },
  {
   "cell_type": "code",
   "execution_count": 141,
   "metadata": {},
   "outputs": [],
   "source": [
    "rec = df[df[\"POB_type\"].isin(list_IR)].copy()\n",
    "svc = df[df[\"POB_type\"].isin(list_service)].copy()\n",
    "dfr = df[df[\"POB_type\"].isin(list_deferred)].copy()\n",
    "hyb = df[df[\"POB_type\"].isin(list_hybrid)].copy()\n",
    "blank = df[~df[\"POB_type\"].isin(list_all)].copy()"
   ]
  },
  {
   "cell_type": "code",
   "execution_count": 142,
   "metadata": {},
   "outputs": [
    {
     "name": "stdout",
     "output_type": "stream",
     "text": [
      "rec 12299\n",
      "svc 3058\n",
      "dfr 75564\n",
      "hyb 3604\n",
      "blank 192219\n",
      "ALL 286744\n"
     ]
    }
   ],
   "source": [
    "print('rec', len(rec))\n",
    "print('svc', len(svc))\n",
    "print('dfr', len(dfr))\n",
    "print('hyb', len(hyb))\n",
    "print('blank', len(blank))\n",
    "print('ALL', len(df))"
   ]
  },
  {
   "cell_type": "code",
   "execution_count": 143,
   "metadata": {},
   "outputs": [
    {
     "data": {
      "text/plain": [
       "286744"
      ]
     },
     "execution_count": 143,
     "metadata": {},
     "output_type": "execute_result"
    }
   ],
   "source": [
    "len(rec)+len(svc)+ len(dfr)+ len(blank)+len(hyb)"
   ]
  },
  {
   "cell_type": "code",
   "execution_count": 144,
   "metadata": {},
   "outputs": [],
   "source": [
    "gb_rec = rec.groupby([\"curr\", \"BU\", \"period\"], as_index=False).sum()"
   ]
  },
  {
   "cell_type": "code",
   "execution_count": 145,
   "metadata": {},
   "outputs": [],
   "source": [
    "gb_rec.drop(labels=[\"duration\", \"sub_term\"] , axis=1, inplace=True)"
   ]
  },
  {
   "cell_type": "code",
   "execution_count": 146,
   "metadata": {},
   "outputs": [
    {
     "data": {
      "text/html": [
       "<div>\n",
       "<style scoped>\n",
       "    .dataframe tbody tr th:only-of-type {\n",
       "        vertical-align: middle;\n",
       "    }\n",
       "\n",
       "    .dataframe tbody tr th {\n",
       "        vertical-align: top;\n",
       "    }\n",
       "\n",
       "    .dataframe thead th {\n",
       "        text-align: right;\n",
       "    }\n",
       "</style>\n",
       "<table border=\"1\" class=\"dataframe\">\n",
       "  <thead>\n",
       "    <tr style=\"text-align: right;\">\n",
       "      <th></th>\n",
       "      <th>curr</th>\n",
       "      <th>BU</th>\n",
       "      <th>period</th>\n",
       "      <th>DC_amount</th>\n",
       "      <th>US_amount</th>\n",
       "    </tr>\n",
       "  </thead>\n",
       "  <tbody>\n",
       "    <tr>\n",
       "      <th>0</th>\n",
       "      <td>ARS</td>\n",
       "      <td>Creative</td>\n",
       "      <td>2019-07</td>\n",
       "      <td>6786.00</td>\n",
       "      <td>155.12</td>\n",
       "    </tr>\n",
       "    <tr>\n",
       "      <th>1</th>\n",
       "      <td>ARS</td>\n",
       "      <td>Creative</td>\n",
       "      <td>2019-08</td>\n",
       "      <td>16472.00</td>\n",
       "      <td>390.02</td>\n",
       "    </tr>\n",
       "    <tr>\n",
       "      <th>2</th>\n",
       "      <td>ARS</td>\n",
       "      <td>Creative</td>\n",
       "      <td>2019-09</td>\n",
       "      <td>19205.00</td>\n",
       "      <td>405.51</td>\n",
       "    </tr>\n",
       "    <tr>\n",
       "      <th>3</th>\n",
       "      <td>ARS</td>\n",
       "      <td>Creative</td>\n",
       "      <td>2019-10</td>\n",
       "      <td>30382.19</td>\n",
       "      <td>532.13</td>\n",
       "    </tr>\n",
       "  </tbody>\n",
       "</table>\n",
       "</div>"
      ],
      "text/plain": [
       "  curr        BU   period  DC_amount  US_amount\n",
       "0  ARS  Creative  2019-07    6786.00     155.12\n",
       "1  ARS  Creative  2019-08   16472.00     390.02\n",
       "2  ARS  Creative  2019-09   19205.00     405.51\n",
       "3  ARS  Creative  2019-10   30382.19     532.13"
      ]
     },
     "execution_count": 146,
     "metadata": {},
     "output_type": "execute_result"
    }
   ],
   "source": [
    "gb_rec.head(4)"
   ]
  },
  {
   "cell_type": "code",
   "execution_count": 147,
   "metadata": {},
   "outputs": [],
   "source": [
    "gb_svc = svc.groupby([\"curr\", \"BU\", \"period\"], as_index=False).sum()"
   ]
  },
  {
   "cell_type": "code",
   "execution_count": 148,
   "metadata": {},
   "outputs": [
    {
     "data": {
      "text/html": [
       "<div>\n",
       "<style scoped>\n",
       "    .dataframe tbody tr th:only-of-type {\n",
       "        vertical-align: middle;\n",
       "    }\n",
       "\n",
       "    .dataframe tbody tr th {\n",
       "        vertical-align: top;\n",
       "    }\n",
       "\n",
       "    .dataframe thead th {\n",
       "        text-align: right;\n",
       "    }\n",
       "</style>\n",
       "<table border=\"1\" class=\"dataframe\">\n",
       "  <thead>\n",
       "    <tr style=\"text-align: right;\">\n",
       "      <th></th>\n",
       "      <th>curr</th>\n",
       "      <th>BU</th>\n",
       "      <th>period</th>\n",
       "      <th>duration</th>\n",
       "      <th>sub_term</th>\n",
       "      <th>DC_amount</th>\n",
       "      <th>US_amount</th>\n",
       "    </tr>\n",
       "  </thead>\n",
       "  <tbody>\n",
       "    <tr>\n",
       "      <th>0</th>\n",
       "      <td>AUD</td>\n",
       "      <td>Creative</td>\n",
       "      <td>2017-10</td>\n",
       "      <td>18</td>\n",
       "      <td>0</td>\n",
       "      <td>8544.00</td>\n",
       "      <td>6837.59</td>\n",
       "    </tr>\n",
       "    <tr>\n",
       "      <th>1</th>\n",
       "      <td>AUD</td>\n",
       "      <td>Creative</td>\n",
       "      <td>2019-01</td>\n",
       "      <td>12</td>\n",
       "      <td>0</td>\n",
       "      <td>8472.55</td>\n",
       "      <td>6135.45</td>\n",
       "    </tr>\n",
       "    <tr>\n",
       "      <th>2</th>\n",
       "      <td>AUD</td>\n",
       "      <td>Creative</td>\n",
       "      <td>2019-02</td>\n",
       "      <td>12</td>\n",
       "      <td>0</td>\n",
       "      <td>3635.13</td>\n",
       "      <td>2587.61</td>\n",
       "    </tr>\n",
       "    <tr>\n",
       "      <th>3</th>\n",
       "      <td>AUD</td>\n",
       "      <td>Creative</td>\n",
       "      <td>2019-03</td>\n",
       "      <td>36</td>\n",
       "      <td>24</td>\n",
       "      <td>10437.33</td>\n",
       "      <td>7531.36</td>\n",
       "    </tr>\n",
       "    <tr>\n",
       "      <th>4</th>\n",
       "      <td>AUD</td>\n",
       "      <td>Creative</td>\n",
       "      <td>2019-04</td>\n",
       "      <td>24</td>\n",
       "      <td>12</td>\n",
       "      <td>6914.89</td>\n",
       "      <td>4896.03</td>\n",
       "    </tr>\n",
       "    <tr>\n",
       "      <th>...</th>\n",
       "      <td>...</td>\n",
       "      <td>...</td>\n",
       "      <td>...</td>\n",
       "      <td>...</td>\n",
       "      <td>...</td>\n",
       "      <td>...</td>\n",
       "      <td>...</td>\n",
       "    </tr>\n",
       "    <tr>\n",
       "      <th>576</th>\n",
       "      <td>USD</td>\n",
       "      <td>Print &amp; Publishing</td>\n",
       "      <td>2019-12</td>\n",
       "      <td>22</td>\n",
       "      <td>0</td>\n",
       "      <td>70834.00</td>\n",
       "      <td>70834.00</td>\n",
       "    </tr>\n",
       "    <tr>\n",
       "      <th>577</th>\n",
       "      <td>USD</td>\n",
       "      <td>Print &amp; Publishing</td>\n",
       "      <td>2020-01</td>\n",
       "      <td>15</td>\n",
       "      <td>0</td>\n",
       "      <td>35000.00</td>\n",
       "      <td>35000.00</td>\n",
       "    </tr>\n",
       "    <tr>\n",
       "      <th>578</th>\n",
       "      <td>USD</td>\n",
       "      <td>Print &amp; Publishing</td>\n",
       "      <td>2020-02</td>\n",
       "      <td>8</td>\n",
       "      <td>0</td>\n",
       "      <td>33333.00</td>\n",
       "      <td>33333.00</td>\n",
       "    </tr>\n",
       "    <tr>\n",
       "      <th>579</th>\n",
       "      <td>USD</td>\n",
       "      <td>Print &amp; Publishing</td>\n",
       "      <td>2020-04</td>\n",
       "      <td>8</td>\n",
       "      <td>0</td>\n",
       "      <td>33333.00</td>\n",
       "      <td>33333.00</td>\n",
       "    </tr>\n",
       "    <tr>\n",
       "      <th>580</th>\n",
       "      <td>USD</td>\n",
       "      <td>Print &amp; Publishing</td>\n",
       "      <td>2020-06</td>\n",
       "      <td>9</td>\n",
       "      <td>0</td>\n",
       "      <td>50000.00</td>\n",
       "      <td>50000.00</td>\n",
       "    </tr>\n",
       "  </tbody>\n",
       "</table>\n",
       "<p>581 rows × 7 columns</p>\n",
       "</div>"
      ],
      "text/plain": [
       "    curr                  BU   period  duration  sub_term  DC_amount  \\\n",
       "0    AUD            Creative  2017-10        18         0    8544.00   \n",
       "1    AUD            Creative  2019-01        12         0    8472.55   \n",
       "2    AUD            Creative  2019-02        12         0    3635.13   \n",
       "3    AUD            Creative  2019-03        36        24   10437.33   \n",
       "4    AUD            Creative  2019-04        24        12    6914.89   \n",
       "..   ...                 ...      ...       ...       ...        ...   \n",
       "576  USD  Print & Publishing  2019-12        22         0   70834.00   \n",
       "577  USD  Print & Publishing  2020-01        15         0   35000.00   \n",
       "578  USD  Print & Publishing  2020-02         8         0   33333.00   \n",
       "579  USD  Print & Publishing  2020-04         8         0   33333.00   \n",
       "580  USD  Print & Publishing  2020-06         9         0   50000.00   \n",
       "\n",
       "     US_amount  \n",
       "0      6837.59  \n",
       "1      6135.45  \n",
       "2      2587.61  \n",
       "3      7531.36  \n",
       "4      4896.03  \n",
       "..         ...  \n",
       "576   70834.00  \n",
       "577   35000.00  \n",
       "578   33333.00  \n",
       "579   33333.00  \n",
       "580   50000.00  \n",
       "\n",
       "[581 rows x 7 columns]"
      ]
     },
     "execution_count": 148,
     "metadata": {},
     "output_type": "execute_result"
    }
   ],
   "source": [
    "gb_svc"
   ]
  },
  {
   "cell_type": "code",
   "execution_count": 149,
   "metadata": {},
   "outputs": [
    {
     "data": {
      "text/html": [
       "<div>\n",
       "<style scoped>\n",
       "    .dataframe tbody tr th:only-of-type {\n",
       "        vertical-align: middle;\n",
       "    }\n",
       "\n",
       "    .dataframe tbody tr th {\n",
       "        vertical-align: top;\n",
       "    }\n",
       "\n",
       "    .dataframe thead th {\n",
       "        text-align: right;\n",
       "    }\n",
       "</style>\n",
       "<table border=\"1\" class=\"dataframe\">\n",
       "  <thead>\n",
       "    <tr style=\"text-align: right;\">\n",
       "      <th></th>\n",
       "      <th>curr</th>\n",
       "      <th>BU</th>\n",
       "      <th>period</th>\n",
       "      <th>duration</th>\n",
       "      <th>sub_term</th>\n",
       "      <th>DC_amount</th>\n",
       "      <th>US_amount</th>\n",
       "    </tr>\n",
       "  </thead>\n",
       "  <tbody>\n",
       "    <tr>\n",
       "      <th>0</th>\n",
       "      <td>AUD</td>\n",
       "      <td>Creative</td>\n",
       "      <td>2017-10</td>\n",
       "      <td>18</td>\n",
       "      <td>0</td>\n",
       "      <td>8544.00</td>\n",
       "      <td>6837.59</td>\n",
       "    </tr>\n",
       "    <tr>\n",
       "      <th>1</th>\n",
       "      <td>AUD</td>\n",
       "      <td>Creative</td>\n",
       "      <td>2019-01</td>\n",
       "      <td>12</td>\n",
       "      <td>0</td>\n",
       "      <td>8472.55</td>\n",
       "      <td>6135.45</td>\n",
       "    </tr>\n",
       "    <tr>\n",
       "      <th>2</th>\n",
       "      <td>AUD</td>\n",
       "      <td>Creative</td>\n",
       "      <td>2019-02</td>\n",
       "      <td>12</td>\n",
       "      <td>0</td>\n",
       "      <td>3635.13</td>\n",
       "      <td>2587.61</td>\n",
       "    </tr>\n",
       "    <tr>\n",
       "      <th>3</th>\n",
       "      <td>AUD</td>\n",
       "      <td>Creative</td>\n",
       "      <td>2019-03</td>\n",
       "      <td>36</td>\n",
       "      <td>24</td>\n",
       "      <td>10437.33</td>\n",
       "      <td>7531.36</td>\n",
       "    </tr>\n",
       "  </tbody>\n",
       "</table>\n",
       "</div>"
      ],
      "text/plain": [
       "  curr        BU   period  duration  sub_term  DC_amount  US_amount\n",
       "0  AUD  Creative  2017-10        18         0    8544.00    6837.59\n",
       "1  AUD  Creative  2019-01        12         0    8472.55    6135.45\n",
       "2  AUD  Creative  2019-02        12         0    3635.13    2587.61\n",
       "3  AUD  Creative  2019-03        36        24   10437.33    7531.36"
      ]
     },
     "execution_count": 149,
     "metadata": {},
     "output_type": "execute_result"
    }
   ],
   "source": [
    "gb_svc.head(4)"
   ]
  },
  {
   "cell_type": "markdown",
   "metadata": {},
   "source": [
    "# Deferred billings\n",
    "## Type B Service based/"
   ]
  },
  {
   "cell_type": "code",
   "execution_count": 150,
   "metadata": {},
   "outputs": [],
   "source": [
    "dfr_b = dfr[dfr[\"rev_req_type\"] == \"B\"].copy()"
   ]
  },
  {
   "cell_type": "code",
   "execution_count": 151,
   "metadata": {},
   "outputs": [
    {
     "name": "stdout",
     "output_type": "stream",
     "text": [
      "75564\n",
      "0\n"
     ]
    }
   ],
   "source": [
    "print(len(dfr))\n",
    "print(len(dfr_b))"
   ]
  },
  {
   "cell_type": "code",
   "execution_count": 152,
   "metadata": {},
   "outputs": [
    {
     "data": {
      "text/html": [
       "<div>\n",
       "<style scoped>\n",
       "    .dataframe tbody tr th:only-of-type {\n",
       "        vertical-align: middle;\n",
       "    }\n",
       "\n",
       "    .dataframe tbody tr th {\n",
       "        vertical-align: top;\n",
       "    }\n",
       "\n",
       "    .dataframe thead th {\n",
       "        text-align: right;\n",
       "    }\n",
       "</style>\n",
       "<table border=\"1\" class=\"dataframe\">\n",
       "  <thead>\n",
       "    <tr style=\"text-align: right;\">\n",
       "      <th></th>\n",
       "      <th>duration</th>\n",
       "      <th>curr</th>\n",
       "      <th>BU</th>\n",
       "      <th>period</th>\n",
       "      <th>POB_type</th>\n",
       "      <th>config</th>\n",
       "      <th>rev_req_type</th>\n",
       "      <th>rebill_rule</th>\n",
       "      <th>sales_doc</th>\n",
       "      <th>sales_type</th>\n",
       "      <th>sub_term</th>\n",
       "      <th>DC_amount</th>\n",
       "      <th>US_amount</th>\n",
       "    </tr>\n",
       "  </thead>\n",
       "  <tbody>\n",
       "    <tr>\n",
       "      <th>15</th>\n",
       "      <td>0</td>\n",
       "      <td>EUR</td>\n",
       "      <td>Experience Cloud</td>\n",
       "      <td>2017-01</td>\n",
       "      <td>RR</td>\n",
       "      <td>ONORE</td>\n",
       "      <td>D</td>\n",
       "      <td>YA</td>\n",
       "      <td>ZCC</td>\n",
       "      <td>DEFERRED</td>\n",
       "      <td>0</td>\n",
       "      <td>117600.00</td>\n",
       "      <td>123853.97</td>\n",
       "    </tr>\n",
       "    <tr>\n",
       "      <th>47</th>\n",
       "      <td>1</td>\n",
       "      <td>EUR</td>\n",
       "      <td>Experience Cloud</td>\n",
       "      <td>2017-01</td>\n",
       "      <td>RR</td>\n",
       "      <td>ONORE</td>\n",
       "      <td>D</td>\n",
       "      <td>YA</td>\n",
       "      <td>ZCC</td>\n",
       "      <td>DEFERRED</td>\n",
       "      <td>0</td>\n",
       "      <td>399.00</td>\n",
       "      <td>426.24</td>\n",
       "    </tr>\n",
       "    <tr>\n",
       "      <th>48</th>\n",
       "      <td>1</td>\n",
       "      <td>JPY</td>\n",
       "      <td>Experience Cloud</td>\n",
       "      <td>2017-01</td>\n",
       "      <td>RR</td>\n",
       "      <td>ONORE</td>\n",
       "      <td>D</td>\n",
       "      <td>YA</td>\n",
       "      <td>ZCC</td>\n",
       "      <td>DEFERRED</td>\n",
       "      <td>0</td>\n",
       "      <td>72772.00</td>\n",
       "      <td>637.48</td>\n",
       "    </tr>\n",
       "    <tr>\n",
       "      <th>55</th>\n",
       "      <td>1</td>\n",
       "      <td>USD</td>\n",
       "      <td>Experience Cloud</td>\n",
       "      <td>2017-01</td>\n",
       "      <td>RR</td>\n",
       "      <td>ONORE</td>\n",
       "      <td>D</td>\n",
       "      <td>Y1</td>\n",
       "      <td>ZCC</td>\n",
       "      <td>DEFERRED</td>\n",
       "      <td>0</td>\n",
       "      <td>1232.50</td>\n",
       "      <td>1232.50</td>\n",
       "    </tr>\n",
       "    <tr>\n",
       "      <th>56</th>\n",
       "      <td>1</td>\n",
       "      <td>USD</td>\n",
       "      <td>Experience Cloud</td>\n",
       "      <td>2017-01</td>\n",
       "      <td>RR</td>\n",
       "      <td>ONORE</td>\n",
       "      <td>D</td>\n",
       "      <td>YA</td>\n",
       "      <td>ZCC</td>\n",
       "      <td>DEFERRED</td>\n",
       "      <td>0</td>\n",
       "      <td>18094.74</td>\n",
       "      <td>18094.74</td>\n",
       "    </tr>\n",
       "    <tr>\n",
       "      <th>57</th>\n",
       "      <td>1</td>\n",
       "      <td>USD</td>\n",
       "      <td>Experience Cloud</td>\n",
       "      <td>2017-01</td>\n",
       "      <td>RR</td>\n",
       "      <td>ONORE</td>\n",
       "      <td>D</td>\n",
       "      <td>YQ</td>\n",
       "      <td>ZCC</td>\n",
       "      <td>DEFERRED</td>\n",
       "      <td>0</td>\n",
       "      <td>4064.52</td>\n",
       "      <td>4064.52</td>\n",
       "    </tr>\n",
       "    <tr>\n",
       "      <th>60</th>\n",
       "      <td>2</td>\n",
       "      <td>EUR</td>\n",
       "      <td>Experience Cloud</td>\n",
       "      <td>2017-01</td>\n",
       "      <td>RR</td>\n",
       "      <td>ONORE</td>\n",
       "      <td>D</td>\n",
       "      <td>YA</td>\n",
       "      <td>ZCC</td>\n",
       "      <td>DEFERRED</td>\n",
       "      <td>0</td>\n",
       "      <td>19485.90</td>\n",
       "      <td>20724.03</td>\n",
       "    </tr>\n",
       "    <tr>\n",
       "      <th>65</th>\n",
       "      <td>2</td>\n",
       "      <td>USD</td>\n",
       "      <td>Experience Cloud</td>\n",
       "      <td>2017-01</td>\n",
       "      <td>RR</td>\n",
       "      <td>ONORE</td>\n",
       "      <td>D</td>\n",
       "      <td>YA</td>\n",
       "      <td>ZCC</td>\n",
       "      <td>DEFERRED</td>\n",
       "      <td>0</td>\n",
       "      <td>13850.00</td>\n",
       "      <td>13850.00</td>\n",
       "    </tr>\n",
       "    <tr>\n",
       "      <th>69</th>\n",
       "      <td>3</td>\n",
       "      <td>CAD</td>\n",
       "      <td>Experience Cloud</td>\n",
       "      <td>2017-01</td>\n",
       "      <td>RR</td>\n",
       "      <td>ONORE</td>\n",
       "      <td>D</td>\n",
       "      <td>YQ</td>\n",
       "      <td>ZCC</td>\n",
       "      <td>DEFERRED</td>\n",
       "      <td>0</td>\n",
       "      <td>78810.00</td>\n",
       "      <td>58634.64</td>\n",
       "    </tr>\n",
       "    <tr>\n",
       "      <th>74</th>\n",
       "      <td>3</td>\n",
       "      <td>EUR</td>\n",
       "      <td>Experience Cloud</td>\n",
       "      <td>2017-01</td>\n",
       "      <td>RR</td>\n",
       "      <td>ONORE</td>\n",
       "      <td>D</td>\n",
       "      <td>YA</td>\n",
       "      <td>ZCC</td>\n",
       "      <td>DEFERRED</td>\n",
       "      <td>0</td>\n",
       "      <td>79251.79</td>\n",
       "      <td>84287.45</td>\n",
       "    </tr>\n",
       "  </tbody>\n",
       "</table>\n",
       "</div>"
      ],
      "text/plain": [
       "    duration curr                BU   period POB_type config rev_req_type  \\\n",
       "15         0  EUR  Experience Cloud  2017-01       RR  ONORE            D   \n",
       "47         1  EUR  Experience Cloud  2017-01       RR  ONORE            D   \n",
       "48         1  JPY  Experience Cloud  2017-01       RR  ONORE            D   \n",
       "55         1  USD  Experience Cloud  2017-01       RR  ONORE            D   \n",
       "56         1  USD  Experience Cloud  2017-01       RR  ONORE            D   \n",
       "57         1  USD  Experience Cloud  2017-01       RR  ONORE            D   \n",
       "60         2  EUR  Experience Cloud  2017-01       RR  ONORE            D   \n",
       "65         2  USD  Experience Cloud  2017-01       RR  ONORE            D   \n",
       "69         3  CAD  Experience Cloud  2017-01       RR  ONORE            D   \n",
       "74         3  EUR  Experience Cloud  2017-01       RR  ONORE            D   \n",
       "\n",
       "   rebill_rule sales_doc sales_type  sub_term  DC_amount  US_amount  \n",
       "15          YA       ZCC   DEFERRED         0  117600.00  123853.97  \n",
       "47          YA       ZCC   DEFERRED         0     399.00     426.24  \n",
       "48          YA       ZCC   DEFERRED         0   72772.00     637.48  \n",
       "55          Y1       ZCC   DEFERRED         0    1232.50    1232.50  \n",
       "56          YA       ZCC   DEFERRED         0   18094.74   18094.74  \n",
       "57          YQ       ZCC   DEFERRED         0    4064.52    4064.52  \n",
       "60          YA       ZCC   DEFERRED         0   19485.90   20724.03  \n",
       "65          YA       ZCC   DEFERRED         0   13850.00   13850.00  \n",
       "69          YQ       ZCC   DEFERRED         0   78810.00   58634.64  \n",
       "74          YA       ZCC   DEFERRED         0   79251.79   84287.45  "
      ]
     },
     "execution_count": 152,
     "metadata": {},
     "output_type": "execute_result"
    }
   ],
   "source": [
    "dfr.head(10)"
   ]
  },
  {
   "cell_type": "code",
   "execution_count": 153,
   "metadata": {},
   "outputs": [
    {
     "data": {
      "text/plain": [
       "D    51470\n",
       "A    23504\n",
       "Name: rev_req_type, dtype: int64"
      ]
     },
     "execution_count": 153,
     "metadata": {},
     "output_type": "execute_result"
    }
   ],
   "source": [
    "dfr.rev_req_type.value_counts()"
   ]
  },
  {
   "cell_type": "markdown",
   "metadata": {},
   "source": [
    "## Type A Deferred billings\n",
    "\n",
    "### First sort by config type\n",
    "\n",
    "### Then use sub term"
   ]
  },
  {
   "cell_type": "code",
   "execution_count": 154,
   "metadata": {},
   "outputs": [
    {
     "name": "stdout",
     "output_type": "stream",
     "text": [
      "length of dfr_a 23504\n"
     ]
    }
   ],
   "source": [
    "dfr_a = dfr[dfr[\"rev_req_type\"] == \"A\"].copy()\n",
    "print(\"length of dfr_a\", len(dfr_a))\n",
    "dfr_a.drop(labels='duration', axis=1, inplace=True)\n",
    "gb_a = dfr_a.groupby([\"curr\", \"BU\", \"period\", \"config\", 'sub_term'], as_index=False).sum()\n"
   ]
  },
  {
   "cell_type": "code",
   "execution_count": 121,
   "metadata": {},
   "outputs": [
    {
     "data": {
      "text/plain": [
       "2744"
      ]
     },
     "execution_count": 121,
     "metadata": {},
     "output_type": "execute_result"
    }
   ],
   "source": [
    "len(gb_a)"
   ]
  },
  {
   "cell_type": "code",
   "execution_count": 122,
   "metadata": {},
   "outputs": [
    {
     "data": {
      "text/html": [
       "<div>\n",
       "<style scoped>\n",
       "    .dataframe tbody tr th:only-of-type {\n",
       "        vertical-align: middle;\n",
       "    }\n",
       "\n",
       "    .dataframe tbody tr th {\n",
       "        vertical-align: top;\n",
       "    }\n",
       "\n",
       "    .dataframe thead th {\n",
       "        text-align: right;\n",
       "    }\n",
       "</style>\n",
       "<table border=\"1\" class=\"dataframe\">\n",
       "  <thead>\n",
       "    <tr style=\"text-align: right;\">\n",
       "      <th></th>\n",
       "      <th>curr</th>\n",
       "      <th>BU</th>\n",
       "      <th>period</th>\n",
       "      <th>config</th>\n",
       "      <th>sub_term</th>\n",
       "      <th>DC_amount</th>\n",
       "      <th>US_amount</th>\n",
       "    </tr>\n",
       "  </thead>\n",
       "  <tbody>\n",
       "    <tr>\n",
       "      <th>0</th>\n",
       "      <td>AUD</td>\n",
       "      <td>Creative</td>\n",
       "      <td>2017-01</td>\n",
       "      <td>1Y</td>\n",
       "      <td>12</td>\n",
       "      <td>52763.75</td>\n",
       "      <td>39147.16</td>\n",
       "    </tr>\n",
       "    <tr>\n",
       "      <th>1</th>\n",
       "      <td>AUD</td>\n",
       "      <td>Creative</td>\n",
       "      <td>2017-01</td>\n",
       "      <td>2Y</td>\n",
       "      <td>0</td>\n",
       "      <td>562.00</td>\n",
       "      <td>417.19</td>\n",
       "    </tr>\n",
       "    <tr>\n",
       "      <th>2</th>\n",
       "      <td>AUD</td>\n",
       "      <td>Creative</td>\n",
       "      <td>2017-01</td>\n",
       "      <td>2Y</td>\n",
       "      <td>12</td>\n",
       "      <td>0.00</td>\n",
       "      <td>0.00</td>\n",
       "    </tr>\n",
       "    <tr>\n",
       "      <th>3</th>\n",
       "      <td>AUD</td>\n",
       "      <td>Creative</td>\n",
       "      <td>2017-02</td>\n",
       "      <td>1Y</td>\n",
       "      <td>0</td>\n",
       "      <td>11438.00</td>\n",
       "      <td>8498.43</td>\n",
       "    </tr>\n",
       "  </tbody>\n",
       "</table>\n",
       "</div>"
      ],
      "text/plain": [
       "  curr        BU   period config  sub_term  DC_amount  US_amount\n",
       "0  AUD  Creative  2017-01     1Y        12   52763.75   39147.16\n",
       "1  AUD  Creative  2017-01     2Y         0     562.00     417.19\n",
       "2  AUD  Creative  2017-01     2Y        12       0.00       0.00\n",
       "3  AUD  Creative  2017-02     1Y         0   11438.00    8498.43"
      ]
     },
     "execution_count": 122,
     "metadata": {},
     "output_type": "execute_result"
    }
   ],
   "source": [
    "gb_a.head(4)\n"
   ]
  },
  {
   "cell_type": "code",
   "execution_count": 123,
   "metadata": {},
   "outputs": [
    {
     "data": {
      "text/plain": [
       "1Y       1757\n",
       "2Y        664\n",
       "OUNIV     112\n",
       "3Y        102\n",
       "MTHLY      82\n",
       "OCONS      14\n",
       "ONORE      13\n",
       "Name: config, dtype: int64"
      ]
     },
     "execution_count": 123,
     "metadata": {},
     "output_type": "execute_result"
    }
   ],
   "source": [
    "gb_a.config.value_counts()"
   ]
  },
  {
   "cell_type": "code",
   "execution_count": 124,
   "metadata": {},
   "outputs": [
    {
     "data": {
      "text/plain": [
       "0     1524\n",
       "12     927\n",
       "1      184\n",
       "36     102\n",
       "24       7\n",
       "Name: sub_term, dtype: int64"
      ]
     },
     "execution_count": 124,
     "metadata": {},
     "output_type": "execute_result"
    }
   ],
   "source": [
    "gb_a.sub_term.value_counts()"
   ]
  },
  {
   "cell_type": "code",
   "execution_count": 125,
   "metadata": {},
   "outputs": [],
   "source": [
    "config_type_keepers = ['MTHLY', '1Y', '2Y', '3Y']\n"
   ]
  },
  {
   "cell_type": "code",
   "execution_count": 126,
   "metadata": {},
   "outputs": [],
   "source": [
    "gb_a_keepers = gb_a[gb_a[\"config\"].isin(config_type_keepers)].copy()\n",
    "a_blank_config = gb_a[~gb_a[\"config\"].isin(config_type_keepers)].copy()"
   ]
  },
  {
   "cell_type": "code",
   "execution_count": 127,
   "metadata": {},
   "outputs": [
    {
     "name": "stdout",
     "output_type": "stream",
     "text": [
      "len gb_a 2744\n",
      "gb_a_keepers 2605\n",
      "len a_blank_config 139\n"
     ]
    }
   ],
   "source": [
    "print('len gb_a', len(gb_a))\n",
    "print('gb_a_keepers', len(gb_a_keepers))\n",
    "print('len a_blank_config', len(a_blank_config))\n"
   ]
  },
  {
   "cell_type": "code",
   "execution_count": 128,
   "metadata": {},
   "outputs": [
    {
     "data": {
      "text/plain": [
       "1Y       1757\n",
       "2Y        664\n",
       "3Y        102\n",
       "MTHLY      82\n",
       "Name: config, dtype: int64"
      ]
     },
     "execution_count": 128,
     "metadata": {},
     "output_type": "execute_result"
    }
   ],
   "source": [
    "gb_a_keepers['config'].value_counts()"
   ]
  },
  {
   "cell_type": "code",
   "execution_count": 115,
   "metadata": {},
   "outputs": [
    {
     "data": {
      "text/html": [
       "<div>\n",
       "<style scoped>\n",
       "    .dataframe tbody tr th:only-of-type {\n",
       "        vertical-align: middle;\n",
       "    }\n",
       "\n",
       "    .dataframe tbody tr th {\n",
       "        vertical-align: top;\n",
       "    }\n",
       "\n",
       "    .dataframe thead th {\n",
       "        text-align: right;\n",
       "    }\n",
       "</style>\n",
       "<table border=\"1\" class=\"dataframe\">\n",
       "  <thead>\n",
       "    <tr style=\"text-align: right;\">\n",
       "      <th></th>\n",
       "      <th>curr</th>\n",
       "      <th>BU</th>\n",
       "      <th>period</th>\n",
       "      <th>config</th>\n",
       "      <th>sub_term</th>\n",
       "      <th>DC_amount</th>\n",
       "      <th>US_amount</th>\n",
       "    </tr>\n",
       "  </thead>\n",
       "  <tbody>\n",
       "    <tr>\n",
       "      <th>0</th>\n",
       "      <td>AUD</td>\n",
       "      <td>Creative</td>\n",
       "      <td>2017-01</td>\n",
       "      <td>1Y</td>\n",
       "      <td>12</td>\n",
       "      <td>52763.75</td>\n",
       "      <td>39147.16</td>\n",
       "    </tr>\n",
       "    <tr>\n",
       "      <th>1</th>\n",
       "      <td>AUD</td>\n",
       "      <td>Creative</td>\n",
       "      <td>2017-01</td>\n",
       "      <td>2Y</td>\n",
       "      <td>0</td>\n",
       "      <td>562.00</td>\n",
       "      <td>417.19</td>\n",
       "    </tr>\n",
       "    <tr>\n",
       "      <th>2</th>\n",
       "      <td>AUD</td>\n",
       "      <td>Creative</td>\n",
       "      <td>2017-01</td>\n",
       "      <td>2Y</td>\n",
       "      <td>12</td>\n",
       "      <td>0.00</td>\n",
       "      <td>0.00</td>\n",
       "    </tr>\n",
       "    <tr>\n",
       "      <th>3</th>\n",
       "      <td>AUD</td>\n",
       "      <td>Creative</td>\n",
       "      <td>2017-02</td>\n",
       "      <td>1Y</td>\n",
       "      <td>0</td>\n",
       "      <td>11438.00</td>\n",
       "      <td>8498.43</td>\n",
       "    </tr>\n",
       "    <tr>\n",
       "      <th>4</th>\n",
       "      <td>AUD</td>\n",
       "      <td>Creative</td>\n",
       "      <td>2017-02</td>\n",
       "      <td>1Y</td>\n",
       "      <td>12</td>\n",
       "      <td>69634.32</td>\n",
       "      <td>51472.25</td>\n",
       "    </tr>\n",
       "    <tr>\n",
       "      <th>5</th>\n",
       "      <td>AUD</td>\n",
       "      <td>Creative</td>\n",
       "      <td>2017-02</td>\n",
       "      <td>2Y</td>\n",
       "      <td>12</td>\n",
       "      <td>61992.00</td>\n",
       "      <td>44608.20</td>\n",
       "    </tr>\n",
       "    <tr>\n",
       "      <th>6</th>\n",
       "      <td>AUD</td>\n",
       "      <td>Creative</td>\n",
       "      <td>2017-03</td>\n",
       "      <td>1Y</td>\n",
       "      <td>12</td>\n",
       "      <td>81471.66</td>\n",
       "      <td>62593.81</td>\n",
       "    </tr>\n",
       "    <tr>\n",
       "      <th>7</th>\n",
       "      <td>AUD</td>\n",
       "      <td>Creative</td>\n",
       "      <td>2017-03</td>\n",
       "      <td>2Y</td>\n",
       "      <td>0</td>\n",
       "      <td>96.00</td>\n",
       "      <td>73.59</td>\n",
       "    </tr>\n",
       "    <tr>\n",
       "      <th>8</th>\n",
       "      <td>AUD</td>\n",
       "      <td>Creative</td>\n",
       "      <td>2017-04</td>\n",
       "      <td>1Y</td>\n",
       "      <td>12</td>\n",
       "      <td>67584.71</td>\n",
       "      <td>51860.04</td>\n",
       "    </tr>\n",
       "    <tr>\n",
       "      <th>9</th>\n",
       "      <td>AUD</td>\n",
       "      <td>Creative</td>\n",
       "      <td>2017-05</td>\n",
       "      <td>1Y</td>\n",
       "      <td>12</td>\n",
       "      <td>15534.23</td>\n",
       "      <td>11716.53</td>\n",
       "    </tr>\n",
       "  </tbody>\n",
       "</table>\n",
       "</div>"
      ],
      "text/plain": [
       "  curr        BU   period config  sub_term  DC_amount  US_amount\n",
       "0  AUD  Creative  2017-01     1Y        12   52763.75   39147.16\n",
       "1  AUD  Creative  2017-01     2Y         0     562.00     417.19\n",
       "2  AUD  Creative  2017-01     2Y        12       0.00       0.00\n",
       "3  AUD  Creative  2017-02     1Y         0   11438.00    8498.43\n",
       "4  AUD  Creative  2017-02     1Y        12   69634.32   51472.25\n",
       "5  AUD  Creative  2017-02     2Y        12   61992.00   44608.20\n",
       "6  AUD  Creative  2017-03     1Y        12   81471.66   62593.81\n",
       "7  AUD  Creative  2017-03     2Y         0      96.00      73.59\n",
       "8  AUD  Creative  2017-04     1Y        12   67584.71   51860.04\n",
       "9  AUD  Creative  2017-05     1Y        12   15534.23   11716.53"
      ]
     },
     "execution_count": 115,
     "metadata": {},
     "output_type": "execute_result"
    }
   ],
   "source": [
    "gb_a_keepers.head(10)"
   ]
  },
  {
   "cell_type": "code",
   "execution_count": 116,
   "metadata": {},
   "outputs": [
    {
     "name": "stdout",
     "output_type": "stream",
     "text": [
      "Total USD Equivalent Billings of Type A with bad configs 2276183.34\n"
     ]
    }
   ],
   "source": [
    "print('Total USD Equivalent Billings of Type A with bad configs', \n",
    "      a_blank_config.US_amount.sum())"
   ]
  },
  {
   "cell_type": "markdown",
   "metadata": {},
   "source": [
    "## For the type A billings that we can use, we need to split them apart by sub_term and config\n",
    "If subterm == 0, then we use the config period. (Assuming these are PUP?)\n",
    "\n",
    "Otherwise, 12 = annual, 24 = two years, 36 = 3 years\n",
    "\n",
    "Old code has these as gb_a_1M, gb_a_1Y, gb_a_2Y, gb_a_3Y\n",
    "\n",
    "Here we will pull out the types from the gb_a_keepers dataframe into a new dataframe and then delete these old records from the gb_a_keepers dataframe"
   ]
  },
  {
   "cell_type": "code",
   "execution_count": 117,
   "metadata": {},
   "outputs": [
    {
     "name": "stdout",
     "output_type": "stream",
     "text": [
      "start length 2605\n",
      "    curr              BU   period config  sub_term  DC_amount  US_amount\n",
      "69   AUD        Creative  2018-10     1Y         1   -1055.63    -765.06\n",
      "73   AUD        Creative  2018-11     1Y         1 -101077.16  -72130.89\n",
      "76   AUD        Creative  2018-11  MTHLY         1  -21963.21  -15688.45\n",
      "78   AUD        Creative  2018-12     1Y         1  -12507.27   -8897.35\n",
      "81   AUD        Creative  2018-12  MTHLY         1      32.99      23.88\n",
      "83   AUD        Creative  2019-01     1Y         1     -89.96     -65.15\n",
      "193  AUD  Document Cloud  2018-10     1Y         1     -16.99     -12.31\n",
      "198  AUD  Document Cloud  2018-11     1Y         1    -914.96    -652.99\n",
      "201  AUD  Document Cloud  2018-11  MTHLY         1    -746.73    -532.24\n",
      "203  AUD  Document Cloud  2018-12     1Y         1     -16.99     -12.11\n",
      "len df_1M 185\n",
      "2420\n"
     ]
    }
   ],
   "source": [
    "print('start length', len(gb_a_keepers))\n",
    "df_1M = gb_a_keepers[(gb_a_keepers['config']=='MTHLY') |\n",
    "                       (gb_a_keepers['sub_term']==1)].copy()\n",
    "\n",
    "index_1M = df_1M.index\n",
    "\n",
    "\n",
    "gb_a_keepers.drop(index_1M, inplace=True)\n",
    "\n",
    "print(df_1M.head(10))\n",
    "print('len df_1M', len(df_1M))\n",
    "print(len(gb_a_keepers))\n"
   ]
  },
  {
   "cell_type": "code",
   "execution_count": 118,
   "metadata": {},
   "outputs": [
    {
     "name": "stdout",
     "output_type": "stream",
     "text": [
      "2420\n"
     ]
    }
   ],
   "source": [
    "print(len(gb_a_keepers))"
   ]
  },
  {
   "cell_type": "code",
   "execution_count": 119,
   "metadata": {},
   "outputs": [
    {
     "data": {
      "text/plain": [
       "2605"
      ]
     },
     "execution_count": 119,
     "metadata": {},
     "output_type": "execute_result"
    }
   ],
   "source": [
    "1596+1009\n"
   ]
  },
  {
   "cell_type": "code",
   "execution_count": 90,
   "metadata": {},
   "outputs": [
    {
     "data": {
      "text/plain": [
       "12    927\n",
       "1      81\n",
       "0       1\n",
       "Name: sub_term, dtype: int64"
      ]
     },
     "execution_count": 90,
     "metadata": {},
     "output_type": "execute_result"
    }
   ],
   "source": [
    "df_1M['sub_term'].value_counts()"
   ]
  },
  {
   "cell_type": "code",
   "execution_count": 100,
   "metadata": {},
   "outputs": [
    {
     "data": {
      "text/plain": [
       "1Y       748\n",
       "2Y       179\n",
       "MTHLY     82\n",
       "Name: config, dtype: int64"
      ]
     },
     "execution_count": 100,
     "metadata": {},
     "output_type": "execute_result"
    }
   ],
   "source": [
    "df_1M['config'].value_counts()"
   ]
  },
  {
   "cell_type": "code",
   "execution_count": null,
   "metadata": {},
   "outputs": [],
   "source": []
  }
 ],
 "metadata": {
  "kernelspec": {
   "display_name": "Python 3.7.3 64-bit ('base': conda)",
   "language": "python",
   "name": "python37364bitbasecondaf40c37e8e9dd45c89e043b248b661bde"
  },
  "language_info": {
   "codemirror_mode": {
    "name": "ipython",
    "version": 3
   },
   "file_extension": ".py",
   "mimetype": "text/x-python",
   "name": "python",
   "nbconvert_exporter": "python",
   "pygments_lexer": "ipython3",
   "version": "3.7.3"
  }
 },
 "nbformat": 4,
 "nbformat_minor": 2
}
