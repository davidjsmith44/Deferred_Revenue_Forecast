{
 "cells": [
  {
   "cell_type": "code",
   "execution_count": 1,
   "metadata": {},
   "outputs": [],
   "source": [
    "import numpy as np\n",
    "import pickle\n",
    "import pandas as pd\n",
    "import matplotlib.pyplot as plt\n",
    "%matplotlib inline\n",
    "\n",
    "plt.style.use(\"ggplot\")\n",
    "\n",
    "import json"
   ]
  },
  {
   "cell_type": "code",
   "execution_count": null,
   "metadata": {},
   "outputs": [],
   "source": [
    "\n",
    "\n"
   ]
  },
  {
   "cell_type": "code",
   "execution_count": 2,
   "metadata": {},
   "outputs": [],
   "source": [
    "df = pd.read_excel('../data/Data_2020_P06/all_billings_inputs_08_20.xlsx',\n",
    "                  sheet_name = 'base_billings')"
   ]
  },
  {
   "cell_type": "code",
   "execution_count": 3,
   "metadata": {},
   "outputs": [
    {
     "name": "stdout",
     "output_type": "stream",
     "text": [
      "df length:  294044\n"
     ]
    }
   ],
   "source": [
    "print('df length: ', len(df))"
   ]
  },
  {
   "cell_type": "code",
   "execution_count": 4,
   "metadata": {},
   "outputs": [],
   "source": [
    "df.rename(\n",
    "        index=str,\n",
    "        columns={\n",
    "            \"Contrct Duration in Months\": \"duration\",\n",
    "            \"Document Currency\": \"curr\",\n",
    "            \"Enterprise BU Desc\": \"BU\",\n",
    "            \"Invoice Fiscal Year Period Desc\": \"period\",\n",
    "            \"POB Type\": \"POB_type\",\n",
    "            \"Product Config Type\": \"config\",\n",
    "            \"Rev Rec Category\": \"rev_req_type\",\n",
    "            \"Rule For Bill Date\": \"rebill_rule\",\n",
    "            \"Sales Document Type\": \"sales_doc\",\n",
    "            \"Sales Type\": \"sales_type\",\n",
    "            \"Subscription Term\": \"sub_term\",\n",
    "            \"Completed Sales ( DC )\": \"DC_amount\",\n",
    "            \"Completed Sales\": \"US_amount\",\n",
    "        },\n",
    "        inplace=True,\n",
    "    )\n"
   ]
  },
  {
   "cell_type": "code",
   "execution_count": 5,
   "metadata": {},
   "outputs": [
    {
     "data": {
      "text/html": [
       "<div>\n",
       "<style scoped>\n",
       "    .dataframe tbody tr th:only-of-type {\n",
       "        vertical-align: middle;\n",
       "    }\n",
       "\n",
       "    .dataframe tbody tr th {\n",
       "        vertical-align: top;\n",
       "    }\n",
       "\n",
       "    .dataframe thead th {\n",
       "        text-align: right;\n",
       "    }\n",
       "</style>\n",
       "<table border=\"1\" class=\"dataframe\">\n",
       "  <thead>\n",
       "    <tr style=\"text-align: right;\">\n",
       "      <th></th>\n",
       "      <th>duration</th>\n",
       "      <th>curr</th>\n",
       "      <th>BU</th>\n",
       "      <th>period</th>\n",
       "      <th>POB_type</th>\n",
       "      <th>config</th>\n",
       "      <th>rev_req_type</th>\n",
       "      <th>rebill_rule</th>\n",
       "      <th>sales_doc</th>\n",
       "      <th>sales_type</th>\n",
       "      <th>sub_term</th>\n",
       "      <th>DC_amount</th>\n",
       "      <th>US_amount</th>\n",
       "    </tr>\n",
       "  </thead>\n",
       "  <tbody>\n",
       "    <tr>\n",
       "      <th>0</th>\n",
       "      <td>0</td>\n",
       "      <td>AUD</td>\n",
       "      <td>Experience Cloud</td>\n",
       "      <td>2017-01</td>\n",
       "      <td>NaN</td>\n",
       "      <td>OCONS</td>\n",
       "      <td>NaN</td>\n",
       "      <td>NaN</td>\n",
       "      <td>ZCC</td>\n",
       "      <td>PRO-SVC-INV</td>\n",
       "      <td>0</td>\n",
       "      <td>375.0</td>\n",
       "      <td>278.01</td>\n",
       "    </tr>\n",
       "    <tr>\n",
       "      <th>1</th>\n",
       "      <td>0</td>\n",
       "      <td>AUD</td>\n",
       "      <td>Experience Cloud</td>\n",
       "      <td>2017-01</td>\n",
       "      <td>NaN</td>\n",
       "      <td>ONORE</td>\n",
       "      <td>NaN</td>\n",
       "      <td>NaN</td>\n",
       "      <td>ZCC</td>\n",
       "      <td>RECOGNIZED</td>\n",
       "      <td>0</td>\n",
       "      <td>0.0</td>\n",
       "      <td>45.75</td>\n",
       "    </tr>\n",
       "    <tr>\n",
       "      <th>2</th>\n",
       "      <td>0</td>\n",
       "      <td>AUD</td>\n",
       "      <td>Experience Cloud</td>\n",
       "      <td>2017-01</td>\n",
       "      <td>NaN</td>\n",
       "      <td>ONORE</td>\n",
       "      <td>D</td>\n",
       "      <td>YA</td>\n",
       "      <td>ZCC</td>\n",
       "      <td>DEFERRED</td>\n",
       "      <td>0</td>\n",
       "      <td>-684738.0</td>\n",
       "      <td>-512177.81</td>\n",
       "    </tr>\n",
       "  </tbody>\n",
       "</table>\n",
       "</div>"
      ],
      "text/plain": [
       "   duration curr                BU   period POB_type config rev_req_type  \\\n",
       "0         0  AUD  Experience Cloud  2017-01      NaN  OCONS          NaN   \n",
       "1         0  AUD  Experience Cloud  2017-01      NaN  ONORE          NaN   \n",
       "2         0  AUD  Experience Cloud  2017-01      NaN  ONORE            D   \n",
       "\n",
       "  rebill_rule sales_doc   sales_type  sub_term  DC_amount  US_amount  \n",
       "0         NaN       ZCC  PRO-SVC-INV         0      375.0     278.01  \n",
       "1         NaN       ZCC   RECOGNIZED         0        0.0      45.75  \n",
       "2          YA       ZCC     DEFERRED         0  -684738.0 -512177.81  "
      ]
     },
     "execution_count": 5,
     "metadata": {},
     "output_type": "execute_result"
    }
   ],
   "source": [
    "df.head(3)"
   ]
  },
  {
   "cell_type": "code",
   "execution_count": 6,
   "metadata": {},
   "outputs": [],
   "source": [
    "vc = df[\"curr\"].value_counts()\n",
    "keep_these = vc.values > 20\n",
    "keep_curr = vc[keep_these]\n",
    "list_keepers = keep_curr.index\n",
    "remove_these = vc[vc.values <= 20].index\n",
    "model_dict = {\"curr_removed\": list(vc[remove_these].index)}\n",
    "delete_curr = list(remove_these)\n",
    "\n",
    "if \"TRY\" not in model_dict[\"curr_removed\"]:\n",
    "    model_dict[\"curr_removed\"].append(\"TRY\")\n",
    "    delete_curr.append(\"TRY\")\n",
    "    list_keepers = list_keepers.drop(\"TRY\")\n",
    "\n",
    "df = df[df[\"curr\"].isin(list_keepers)]"
   ]
  },
  {
   "cell_type": "code",
   "execution_count": 7,
   "metadata": {},
   "outputs": [
    {
     "name": "stdout",
     "output_type": "stream",
     "text": [
      "293832\n",
      "286744\n"
     ]
    }
   ],
   "source": [
    "print(len(df))\n",
    "df = df[df[\"DC_amount\"] != 0]\n",
    "print(len(df))"
   ]
  },
  {
   "cell_type": "code",
   "execution_count": 8,
   "metadata": {},
   "outputs": [
    {
     "data": {
      "text/plain": [
       "{'curr_removed': ['BHD',\n",
       "  'JOD',\n",
       "  'EGP',\n",
       "  'OMR',\n",
       "  'LBP',\n",
       "  'BMD',\n",
       "  'AED',\n",
       "  'MXP',\n",
       "  'TRY']}"
      ]
     },
     "execution_count": 8,
     "metadata": {},
     "output_type": "execute_result"
    }
   ],
   "source": [
    "model_dict"
   ]
  },
  {
   "cell_type": "code",
   "execution_count": 9,
   "metadata": {},
   "outputs": [
    {
     "data": {
      "text/plain": [
       "NaN      192219\n",
       "RR        73256\n",
       "IR-NA      7424\n",
       "IR         4819\n",
       "BNDL       3604\n",
       "CR         2956\n",
       "RR-NA      2308\n",
       "CR-NA       102\n",
       "LFB          56\n",
       "Name: POB_type, dtype: int64"
      ]
     },
     "execution_count": 9,
     "metadata": {},
     "output_type": "execute_result"
    }
   ],
   "source": [
    "df['POB_type'].value_counts(dropna=False)"
   ]
  },
  {
   "cell_type": "markdown",
   "metadata": {},
   "source": [
    "## Grouping by POB Type\n",
    "\n",
    "The new 606 has everything grouped by sales type. There are blanks\n",
    "We need to separate into groups based on the POB type\n"
   ]
  },
  {
   "cell_type": "code",
   "execution_count": 10,
   "metadata": {},
   "outputs": [
    {
     "name": "stdout",
     "output_type": "stream",
     "text": [
      "['IR', 'IR-NA', 'LFB', 'CR', 'CR-NA', 'RR', 'RR-NA', 'BNDL']\n"
     ]
    }
   ],
   "source": [
    "list_IR = ['IR', 'IR-NA', 'LFB']\n",
    "list_service = ['CR', 'CR-NA']\n",
    "list_deferred = ['RR', 'RR-NA']\n",
    "list_hybrid = ['BNDL']\n",
    "\n",
    "list_all = list_IR + list_service + list_deferred + list_hybrid\n",
    "print(list_all)"
   ]
  },
  {
   "cell_type": "code",
   "execution_count": 11,
   "metadata": {},
   "outputs": [],
   "source": [
    "rec = df[df[\"POB_type\"].isin(list_IR)].copy()\n",
    "svc = df[df[\"POB_type\"].isin(list_service)].copy()\n",
    "dfr = df[df[\"POB_type\"].isin(list_deferred)].copy()\n",
    "hyb = df[df[\"POB_type\"].isin(list_hybrid)].copy()\n",
    "blank = df[~df[\"POB_type\"].isin(list_all)].copy()"
   ]
  },
  {
   "cell_type": "code",
   "execution_count": 12,
   "metadata": {},
   "outputs": [
    {
     "name": "stdout",
     "output_type": "stream",
     "text": [
      "rec 12299\n",
      "svc 3058\n",
      "dfr 75564\n",
      "hyb 3604\n",
      "blank 192219\n",
      "ALL 286744\n"
     ]
    }
   ],
   "source": [
    "print('rec', len(rec))\n",
    "print('svc', len(svc))\n",
    "print('dfr', len(dfr))\n",
    "print('hyb', len(hyb))\n",
    "print('blank', len(blank))\n",
    "print('ALL', len(df))"
   ]
  },
  {
   "cell_type": "code",
   "execution_count": null,
   "metadata": {},
   "outputs": [],
   "source": [
    "hyb.head(10)"
   ]
  },
  {
   "cell_type": "code",
   "execution_count": null,
   "metadata": {},
   "outputs": [],
   "source": [
    "def split_hybrid_dataframe(hyb, pct_IR):\n",
    "    df_IR = hyb.copy()\n",
    "    df_deferred = hyb.copy()\n",
    "    \n",
    "    df_IR['DC_amount'] = df_IR['DC_amount']* pct_IR\n",
    "    df_IR['US_amount'] = df_IR['US_amount']* pct_IR  \n",
    "    \n",
    "    df_deferred['DC_amount'] = df_deferred['DC_amount']* (1 - pct_IR)\n",
    "    df_deferred['US_amount'] = df_deferred['US_amount']* (1 - pct_IR)\n",
    "    \n",
    "    return df_IR, df_deferred"
   ]
  },
  {
   "cell_type": "code",
   "execution_count": null,
   "metadata": {},
   "outputs": [],
   "source": [
    "pct_IR = .17\n",
    "df_IR, df_defered = split_hybrid_dataframe(hyb, pct_IR)\n"
   ]
  },
  {
   "cell_type": "code",
   "execution_count": null,
   "metadata": {},
   "outputs": [],
   "source": [
    "print(hyb['US_amount'].sum())\n",
    "print(df_IR['US_amount'].sum())\n",
    "print(df_defered['US_amount'].sum())"
   ]
  },
  {
   "cell_type": "code",
   "execution_count": null,
   "metadata": {},
   "outputs": [],
   "source": [
    "df_IR['US_amount'].sum()+df_defered['US_amount'].sum()"
   ]
  },
  {
   "cell_type": "code",
   "execution_count": null,
   "metadata": {},
   "outputs": [],
   "source": []
  },
  {
   "cell_type": "code",
   "execution_count": null,
   "metadata": {},
   "outputs": [],
   "source": [
    "len(rec)+len(svc)+ len(dfr)+ len(blank)+len(hyb)"
   ]
  },
  {
   "cell_type": "code",
   "execution_count": null,
   "metadata": {},
   "outputs": [],
   "source": [
    "gb_rec = rec.groupby([\"curr\", \"BU\", \"period\"], as_index=False).sum()"
   ]
  },
  {
   "cell_type": "code",
   "execution_count": null,
   "metadata": {},
   "outputs": [],
   "source": [
    "gb_rec.drop(labels=[\"duration\", \"sub_term\"] , axis=1, inplace=True)"
   ]
  },
  {
   "cell_type": "code",
   "execution_count": null,
   "metadata": {},
   "outputs": [],
   "source": [
    "gb_rec"
   ]
  },
  {
   "cell_type": "code",
   "execution_count": null,
   "metadata": {},
   "outputs": [],
   "source": [
    "gb_svc = svc.groupby([\"curr\", \"BU\", \"period\"], as_index=False).sum()"
   ]
  },
  {
   "cell_type": "code",
   "execution_count": null,
   "metadata": {},
   "outputs": [],
   "source": [
    "gb_svc.drop(labels=[\"sub_term\", \"duration\"] , axis=1, inplace=True)\n",
    "\n",
    "gb_svc"
   ]
  },
  {
   "cell_type": "code",
   "execution_count": null,
   "metadata": {},
   "outputs": [],
   "source": [
    "gb_svc.head(4)"
   ]
  },
  {
   "cell_type": "markdown",
   "metadata": {},
   "source": [
    "# Deferred billings\n",
    "## Type B Service based/"
   ]
  },
  {
   "cell_type": "code",
   "execution_count": null,
   "metadata": {},
   "outputs": [],
   "source": [
    "dfr_b = dfr[dfr[\"rev_req_type\"] == \"B\"].copy()"
   ]
  },
  {
   "cell_type": "code",
   "execution_count": null,
   "metadata": {},
   "outputs": [],
   "source": [
    "print(len(dfr))\n",
    "print(len(dfr_b))"
   ]
  },
  {
   "cell_type": "code",
   "execution_count": null,
   "metadata": {},
   "outputs": [],
   "source": [
    "dfr.head(10)"
   ]
  },
  {
   "cell_type": "code",
   "execution_count": null,
   "metadata": {},
   "outputs": [],
   "source": [
    "dfr.rev_req_type.value_counts(dropna=False)"
   ]
  },
  {
   "cell_type": "markdown",
   "metadata": {},
   "source": [
    "## Type A Deferred billings\n",
    "\n",
    "### First sort by config type\n",
    "\n",
    "### Then use sub term"
   ]
  },
  {
   "cell_type": "code",
   "execution_count": null,
   "metadata": {},
   "outputs": [],
   "source": [
    "dfr_a = dfr[dfr[\"rev_req_type\"] == \"A\"].copy()\n",
    "print(\"length of dfr_a\", len(dfr_a))\n",
    "dfr_a.drop(labels='duration', axis=1, inplace=True)\n",
    "gb_a = dfr_a.groupby([\"curr\", \"BU\", \"period\", \"config\", 'sub_term'], as_index=False).sum()\n"
   ]
  },
  {
   "cell_type": "code",
   "execution_count": null,
   "metadata": {},
   "outputs": [],
   "source": [
    "len(gb_a)"
   ]
  },
  {
   "cell_type": "code",
   "execution_count": null,
   "metadata": {},
   "outputs": [],
   "source": [
    "gb_a.head(4)\n"
   ]
  },
  {
   "cell_type": "code",
   "execution_count": null,
   "metadata": {},
   "outputs": [],
   "source": [
    "gb_a.config.value_counts(dropna=False)"
   ]
  },
  {
   "cell_type": "code",
   "execution_count": null,
   "metadata": {},
   "outputs": [],
   "source": [
    "gb_a.sub_term.value_counts(dropna=False)"
   ]
  },
  {
   "cell_type": "code",
   "execution_count": null,
   "metadata": {},
   "outputs": [],
   "source": [
    "config_type_keepers = ['MTHLY', '1Y', '2Y', '3Y']\n"
   ]
  },
  {
   "cell_type": "code",
   "execution_count": null,
   "metadata": {},
   "outputs": [],
   "source": [
    "gb_a_keepers = gb_a[gb_a[\"config\"].isin(config_type_keepers)].copy()\n",
    "a_bad_config = gb_a[~gb_a[\"config\"].isin(config_type_keepers)].copy()"
   ]
  },
  {
   "cell_type": "code",
   "execution_count": null,
   "metadata": {},
   "outputs": [],
   "source": [
    "print('len gb_a', len(gb_a))\n",
    "print('gb_a_keepers', len(gb_a_keepers))\n",
    "print('len a_blank_config', len(a_bad_config))\n"
   ]
  },
  {
   "cell_type": "code",
   "execution_count": null,
   "metadata": {},
   "outputs": [],
   "source": [
    "gb_a_keepers['config'].value_counts(dropna=False)"
   ]
  },
  {
   "cell_type": "code",
   "execution_count": null,
   "metadata": {},
   "outputs": [],
   "source": [
    "gb_a_keepers['sub_term'].value_counts(dropna=False)"
   ]
  },
  {
   "cell_type": "code",
   "execution_count": null,
   "metadata": {},
   "outputs": [],
   "source": [
    "gb_a_keepers.head(10)"
   ]
  },
  {
   "cell_type": "code",
   "execution_count": null,
   "metadata": {},
   "outputs": [],
   "source": [
    "print('Total USD Equivalent Billings of Type A with bad configs', \n",
    "      a_bad_config.US_amount.sum())"
   ]
  },
  {
   "cell_type": "markdown",
   "metadata": {},
   "source": [
    "## For the type A billings that we can use, we need to split them apart by sub_term and config\n",
    "If subterm == 0, then we use the config period. (Assuming these are PUP?)\n",
    "\n",
    "Otherwise, 12 = annual, 24 = two years, 36 = 3 years\n",
    "\n",
    "Old code has these as gb_a_1M, gb_a_1Y, gb_a_2Y, gb_a_3Y\n",
    "\n",
    "Here we will pull out the types from the gb_a_keepers dataframe into a new dataframe and then delete these old records from the gb_a_keepers dataframe"
   ]
  },
  {
   "cell_type": "code",
   "execution_count": null,
   "metadata": {},
   "outputs": [],
   "source": [
    "print('start length', len(gb_a_keepers))\n",
    "df_1M = gb_a_keepers[(gb_a_keepers['config']=='MTHLY') |\n",
    "                       (gb_a_keepers['sub_term']==1)].copy()\n",
    "\n",
    "index_1M = df_1M.index\n",
    "\n",
    "\n",
    "gb_a_keepers.drop(index_1M, inplace=True)\n",
    "\n",
    "print(df_1M.head(10))\n",
    "print('len df_1M', len(df_1M))\n",
    "print(len(gb_a_keepers))\n"
   ]
  },
  {
   "cell_type": "code",
   "execution_count": null,
   "metadata": {},
   "outputs": [],
   "source": [
    "print(len(gb_a_keepers))"
   ]
  },
  {
   "cell_type": "code",
   "execution_count": null,
   "metadata": {},
   "outputs": [],
   "source": [
    "#df_1M['sub_term'].value_counts(dropna=False)\n",
    "df_1M['config'].value_counts(dropna=False)"
   ]
  },
  {
   "cell_type": "code",
   "execution_count": null,
   "metadata": {},
   "outputs": [],
   "source": [
    "gb_a_keepers.head(10)"
   ]
  },
  {
   "cell_type": "markdown",
   "metadata": {},
   "source": [
    "##### Dealing with the 1 year rebillings"
   ]
  },
  {
   "cell_type": "code",
   "execution_count": null,
   "metadata": {},
   "outputs": [],
   "source": [
    "print('start length', len(gb_a_keepers))\n",
    "df_1Y = gb_a_keepers[(gb_a_keepers['sub_term']==12) | \n",
    "                       ((gb_a_keepers['sub_term']==0) &\n",
    "                        (gb_a_keepers['config']=='1Y'))].copy()\n",
    "\n",
    "index_1Y = df_1Y.index\n",
    "\n",
    "\n",
    "gb_a_keepers.drop(index_1Y, inplace=True)\n",
    "\n",
    "print(df_1Y.head(10))\n",
    "print('len df_1Y', len(df_1Y))\n",
    "print(len(gb_a_keepers))"
   ]
  },
  {
   "cell_type": "code",
   "execution_count": null,
   "metadata": {},
   "outputs": [],
   "source": [
    "df_2Y = gb_a_keepers[gb_a_keepers['config']=='2Y'].copy()\n",
    "df_3Y = gb_a_keepers[gb_a_keepers['config']=='3Y'].copy()\n",
    "\n",
    "print('length gb_a_keepers', len(gb_a_keepers))\n",
    "print('length df_2Y', len(df_2Y))\n",
    "print('df_3Y', len(df_3Y))"
   ]
  },
  {
   "cell_type": "code",
   "execution_count": null,
   "metadata": {},
   "outputs": [],
   "source": [
    "test2 = gb_a_keepers[gb_a_keepers['config']=='3Y']\n",
    "test2.sub_term.value_counts()"
   ]
  },
  {
   "cell_type": "code",
   "execution_count": null,
   "metadata": {},
   "outputs": [],
   "source": []
  },
  {
   "cell_type": "markdown",
   "metadata": {},
   "source": [
    "# Type D Billings\n",
    "\n"
   ]
  },
  {
   "cell_type": "code",
   "execution_count": null,
   "metadata": {},
   "outputs": [],
   "source": [
    "dfr_d = dfr[dfr[\"rev_req_type\"] == \"D\"].copy()\n",
    "dfr_d.head(10)"
   ]
  },
  {
   "cell_type": "code",
   "execution_count": null,
   "metadata": {},
   "outputs": [],
   "source": [
    "gb_d = dfr_d.groupby([\"curr\", \"BU\", \"period\", \"rebill_rule\", \"sales_doc\"], as_index=False).sum()\n",
    "gb_d.head(10)"
   ]
  },
  {
   "cell_type": "code",
   "execution_count": null,
   "metadata": {},
   "outputs": [],
   "source": [
    "gb_d.drop(labels=[\"sub_term\", \"duration\"], axis=1, inplace=True)\n",
    "gb_d.head(10)"
   ]
  },
  {
   "cell_type": "code",
   "execution_count": null,
   "metadata": {},
   "outputs": [],
   "source": [
    "gb_d[\"rebill_rule\"].value_counts(dropna=False)"
   ]
  },
  {
   "cell_type": "code",
   "execution_count": null,
   "metadata": {},
   "outputs": [],
   "source": [
    "list_monthly = ['Y1', 'Y2', 'Y3', 'YM']\n",
    "list_qtrly = ['YQ', 'YY', 'YT']\n",
    "list_semi_ann = ['YH']\n",
    "list_ann = ['YA', 'YC', 'YX']\n",
    "list_2yrs = ['Y4']\n",
    "list_3yrs = ['Y7']\n",
    "list_all_rebills = list_monthly + list_qtrly + list_semi_ann + list_ann + list_2yrs + list_3yrs\n",
    "print(list_all_rebills)"
   ]
  },
  {
   "cell_type": "code",
   "execution_count": null,
   "metadata": {},
   "outputs": [],
   "source": [
    "gb_d_mthly = gb_d[gb_d[\"rebill_rule\"].isin(list_monthly)].copy()\n",
    "gb_d_mthly.drop(labels=\"rebill_rule\", axis=1, inplace=True)\n",
    "gb_d_mthly = gb_d_mthly.groupby([\"curr\", \"BU\", \"period\"]).sum()\n",
    "gb_d_mthly.reset_index(inplace=True)\n",
    "\n",
    "gb_d_qtrly = gb_d[gb_d[\"rebill_rule\"].isin(list_qtrly)].copy()\n",
    "gb_d_qtrly.drop(labels=\"rebill_rule\", axis=1, inplace=True)\n",
    "gb_d_qtrly = gb_d_qtrly.groupby([\"curr\", \"BU\", \"period\"]).sum()\n",
    "gb_d_qtrly.reset_index(inplace=True)\n",
    "\n",
    "gb_d_semi_ann = gb_d[gb_d[\"rebill_rule\"].isin(list_semi_ann)]\n",
    "gb_d_semi_ann.drop(labels=\"rebill_rule\", axis=1, inplace=True)\n",
    "gb_d_semi_ann = gb_d_semi_ann.groupby([\"curr\", \"BU\", \"period\"]).sum()\n",
    "gb_d_semi_ann.reset_index(inplace=True)\n",
    "\n",
    "gb_d_annual = gb_d[gb_d[\"rebill_rule\"].isin(list_ann)].copy()\n",
    "gb_d_annual.drop(labels=\"rebill_rule\", axis=1, inplace=True)\n",
    "gb_d_annual = gb_d_annual.groupby([\"curr\", \"BU\", \"period\"]).sum()\n",
    "gb_d_annual.reset_index(inplace=True)\n",
    "\n",
    "gb_d_two_yrs = gb_d[gb_d[\"rebill_rule\"].isin(list_2yrs)].copy()\n",
    "gb_d_two_yrs.drop(labels=\"rebill_rule\", axis=1, inplace=True)\n",
    "gb_d_two_yrs = gb_d_two_yrs.groupby([\"curr\", \"BU\", \"period\"]).sum()\n",
    "gb_d_two_yrs.reset_index(inplace=True)\n",
    "\n",
    "gb_d_three_yrs = gb_d[gb_d[\"rebill_rule\"].isin(list_3yrs)]\n",
    "gb_d_three_yrs.drop(labels=\"rebill_rule\", axis=1, inplace=True)\n",
    "gb_d_three_yrs = gb_d_three_yrs.groupby([\"curr\", \"BU\", \"period\"]).sum()\n",
    "gb_d_three_yrs.reset_index(inplace=True)\n",
    "\n",
    "print(\"Length of monthly\", len(gb_d_mthly))\n",
    "print(\"Length of quarterly\", len(gb_d_qtrly))\n",
    "print(\"Length of semi ann\", len(gb_d_semi_ann))\n",
    "print(\"Length of annual\", len(gb_d_annual))\n",
    "print(\"Length of two years\", len(gb_d_two_yrs))\n",
    "print(\"Length of three years\", len(gb_d_three_yrs))\n"
   ]
  },
  {
   "cell_type": "code",
   "execution_count": null,
   "metadata": {},
   "outputs": [],
   "source": [
    "list_df = [\n",
    "    gb_rec,\n",
    "    gb_svc,\n",
    "    gb_b,\n",
    "    gb_a_1M,\n",
    "    gb_a_1Y,\n",
    "    gb_a_2Y,\n",
    "    gb_a_3Y,\n",
    "    gb_d_mthly,\n",
    "    gb_d_qtrly,\n",
    "    gb_d_semi_ann,\n",
    "    gb_d_annual,\n",
    "    gb_d_two_yrs,\n",
    "    gb_d_three_yrs,\n",
    "]\n",
    "\n",
    "list_columns = [\n",
    "    \"recognized\",\n",
    "    \"service\",\n",
    "    \"deferred_B\",\n",
    "    \"deferred_1M_a\",\n",
    "    \"deferred_1Y_a\",\n",
    "    \"deferred_2Y_a\",\n",
    "    \"deferred_3Y_a\",\n",
    "    \"deferred_1M_d\",\n",
    "    \"deferred_3M_d\",\n",
    "    \"deferred_6M_d\",\n",
    "    \"deferred_1Y_d\",\n",
    "    \"deferred_2Y_d\",\n",
    "    \"deferred_3Y_d\",\n",
    "]\n"
   ]
  },
  {
   "cell_type": "code",
   "execution_count": 13,
   "metadata": {},
   "outputs": [
    {
     "data": {
      "text/html": [
       "<div>\n",
       "<style scoped>\n",
       "    .dataframe tbody tr th:only-of-type {\n",
       "        vertical-align: middle;\n",
       "    }\n",
       "\n",
       "    .dataframe tbody tr th {\n",
       "        vertical-align: top;\n",
       "    }\n",
       "\n",
       "    .dataframe thead th {\n",
       "        text-align: right;\n",
       "    }\n",
       "</style>\n",
       "<table border=\"1\" class=\"dataframe\">\n",
       "  <thead>\n",
       "    <tr style=\"text-align: right;\">\n",
       "      <th></th>\n",
       "      <th>duration</th>\n",
       "      <th>curr</th>\n",
       "      <th>BU</th>\n",
       "      <th>period</th>\n",
       "      <th>POB_type</th>\n",
       "      <th>config</th>\n",
       "      <th>rev_req_type</th>\n",
       "      <th>rebill_rule</th>\n",
       "      <th>sales_doc</th>\n",
       "      <th>sales_type</th>\n",
       "      <th>sub_term</th>\n",
       "      <th>DC_amount</th>\n",
       "      <th>US_amount</th>\n",
       "    </tr>\n",
       "  </thead>\n",
       "  <tbody>\n",
       "    <tr>\n",
       "      <th>0</th>\n",
       "      <td>0</td>\n",
       "      <td>AUD</td>\n",
       "      <td>Experience Cloud</td>\n",
       "      <td>2017-01</td>\n",
       "      <td>NaN</td>\n",
       "      <td>OCONS</td>\n",
       "      <td>NaN</td>\n",
       "      <td>NaN</td>\n",
       "      <td>ZCC</td>\n",
       "      <td>PRO-SVC-INV</td>\n",
       "      <td>0</td>\n",
       "      <td>375.00</td>\n",
       "      <td>278.01</td>\n",
       "    </tr>\n",
       "    <tr>\n",
       "      <th>2</th>\n",
       "      <td>0</td>\n",
       "      <td>AUD</td>\n",
       "      <td>Experience Cloud</td>\n",
       "      <td>2017-01</td>\n",
       "      <td>NaN</td>\n",
       "      <td>ONORE</td>\n",
       "      <td>D</td>\n",
       "      <td>YA</td>\n",
       "      <td>ZCC</td>\n",
       "      <td>DEFERRED</td>\n",
       "      <td>0</td>\n",
       "      <td>-684738.00</td>\n",
       "      <td>-512177.81</td>\n",
       "    </tr>\n",
       "    <tr>\n",
       "      <th>3</th>\n",
       "      <td>0</td>\n",
       "      <td>AUD</td>\n",
       "      <td>Experience Cloud</td>\n",
       "      <td>2017-01</td>\n",
       "      <td>NaN</td>\n",
       "      <td>ONORE</td>\n",
       "      <td>D</td>\n",
       "      <td>YQ</td>\n",
       "      <td>ZCC</td>\n",
       "      <td>DEFERRED</td>\n",
       "      <td>0</td>\n",
       "      <td>16196.47</td>\n",
       "      <td>11935.54</td>\n",
       "    </tr>\n",
       "    <tr>\n",
       "      <th>4</th>\n",
       "      <td>0</td>\n",
       "      <td>AUD</td>\n",
       "      <td>Experience Cloud</td>\n",
       "      <td>2017-01</td>\n",
       "      <td>NaN</td>\n",
       "      <td>OUNIV</td>\n",
       "      <td>B</td>\n",
       "      <td>NaN</td>\n",
       "      <td>ZCC</td>\n",
       "      <td>DEFERRED</td>\n",
       "      <td>0</td>\n",
       "      <td>-38000.00</td>\n",
       "      <td>-27070.00</td>\n",
       "    </tr>\n",
       "    <tr>\n",
       "      <th>5</th>\n",
       "      <td>0</td>\n",
       "      <td>CAD</td>\n",
       "      <td>Experience Cloud</td>\n",
       "      <td>2017-01</td>\n",
       "      <td>NaN</td>\n",
       "      <td>ONORE</td>\n",
       "      <td>D</td>\n",
       "      <td>YQ</td>\n",
       "      <td>ZCC</td>\n",
       "      <td>DEFERRED</td>\n",
       "      <td>0</td>\n",
       "      <td>25171.20</td>\n",
       "      <td>18816.73</td>\n",
       "    </tr>\n",
       "    <tr>\n",
       "      <th>6</th>\n",
       "      <td>0</td>\n",
       "      <td>EUR</td>\n",
       "      <td>Experience Cloud</td>\n",
       "      <td>2017-01</td>\n",
       "      <td>NaN</td>\n",
       "      <td>OCONS</td>\n",
       "      <td>NaN</td>\n",
       "      <td>NaN</td>\n",
       "      <td>ZCC</td>\n",
       "      <td>PRO-SVC-INV</td>\n",
       "      <td>0</td>\n",
       "      <td>525.00</td>\n",
       "      <td>552.92</td>\n",
       "    </tr>\n",
       "    <tr>\n",
       "      <th>7</th>\n",
       "      <td>0</td>\n",
       "      <td>EUR</td>\n",
       "      <td>Experience Cloud</td>\n",
       "      <td>2017-01</td>\n",
       "      <td>NaN</td>\n",
       "      <td>OCONS</td>\n",
       "      <td>B</td>\n",
       "      <td>NaN</td>\n",
       "      <td>ZCC</td>\n",
       "      <td>DEFERRED</td>\n",
       "      <td>0</td>\n",
       "      <td>-3790.50</td>\n",
       "      <td>-4464.85</td>\n",
       "    </tr>\n",
       "    <tr>\n",
       "      <th>8</th>\n",
       "      <td>0</td>\n",
       "      <td>EUR</td>\n",
       "      <td>Experience Cloud</td>\n",
       "      <td>2017-01</td>\n",
       "      <td>NaN</td>\n",
       "      <td>OCONS</td>\n",
       "      <td>D</td>\n",
       "      <td>YA</td>\n",
       "      <td>ZCC</td>\n",
       "      <td>DEFERRED</td>\n",
       "      <td>0</td>\n",
       "      <td>17256.00</td>\n",
       "      <td>18352.45</td>\n",
       "    </tr>\n",
       "    <tr>\n",
       "      <th>9</th>\n",
       "      <td>0</td>\n",
       "      <td>EUR</td>\n",
       "      <td>Experience Cloud</td>\n",
       "      <td>2017-01</td>\n",
       "      <td>NaN</td>\n",
       "      <td>OCONS</td>\n",
       "      <td>D</td>\n",
       "      <td>YC</td>\n",
       "      <td>ZCC</td>\n",
       "      <td>DEFERRED</td>\n",
       "      <td>0</td>\n",
       "      <td>-17256.00</td>\n",
       "      <td>-17982.82</td>\n",
       "    </tr>\n",
       "    <tr>\n",
       "      <th>10</th>\n",
       "      <td>0</td>\n",
       "      <td>EUR</td>\n",
       "      <td>Experience Cloud</td>\n",
       "      <td>2017-01</td>\n",
       "      <td>NaN</td>\n",
       "      <td>ONORE</td>\n",
       "      <td>D</td>\n",
       "      <td>Y1</td>\n",
       "      <td>ZCC</td>\n",
       "      <td>DEFERRED</td>\n",
       "      <td>0</td>\n",
       "      <td>-13868.36</td>\n",
       "      <td>-15248.40</td>\n",
       "    </tr>\n",
       "  </tbody>\n",
       "</table>\n",
       "</div>"
      ],
      "text/plain": [
       "    duration curr                BU   period POB_type config rev_req_type  \\\n",
       "0          0  AUD  Experience Cloud  2017-01      NaN  OCONS          NaN   \n",
       "2          0  AUD  Experience Cloud  2017-01      NaN  ONORE            D   \n",
       "3          0  AUD  Experience Cloud  2017-01      NaN  ONORE            D   \n",
       "4          0  AUD  Experience Cloud  2017-01      NaN  OUNIV            B   \n",
       "5          0  CAD  Experience Cloud  2017-01      NaN  ONORE            D   \n",
       "6          0  EUR  Experience Cloud  2017-01      NaN  OCONS          NaN   \n",
       "7          0  EUR  Experience Cloud  2017-01      NaN  OCONS            B   \n",
       "8          0  EUR  Experience Cloud  2017-01      NaN  OCONS            D   \n",
       "9          0  EUR  Experience Cloud  2017-01      NaN  OCONS            D   \n",
       "10         0  EUR  Experience Cloud  2017-01      NaN  ONORE            D   \n",
       "\n",
       "   rebill_rule sales_doc   sales_type  sub_term  DC_amount  US_amount  \n",
       "0          NaN       ZCC  PRO-SVC-INV         0     375.00     278.01  \n",
       "2           YA       ZCC     DEFERRED         0 -684738.00 -512177.81  \n",
       "3           YQ       ZCC     DEFERRED         0   16196.47   11935.54  \n",
       "4          NaN       ZCC     DEFERRED         0  -38000.00  -27070.00  \n",
       "5           YQ       ZCC     DEFERRED         0   25171.20   18816.73  \n",
       "6          NaN       ZCC  PRO-SVC-INV         0     525.00     552.92  \n",
       "7          NaN       ZCC     DEFERRED         0   -3790.50   -4464.85  \n",
       "8           YA       ZCC     DEFERRED         0   17256.00   18352.45  \n",
       "9           YC       ZCC     DEFERRED         0  -17256.00  -17982.82  \n",
       "10          Y1       ZCC     DEFERRED         0  -13868.36  -15248.40  "
      ]
     },
     "execution_count": 13,
     "metadata": {},
     "output_type": "execute_result"
    }
   ],
   "source": [
    "# Blank\n",
    "blank.head(10)"
   ]
  },
  {
   "cell_type": "code",
   "execution_count": 14,
   "metadata": {},
   "outputs": [
    {
     "data": {
      "text/html": [
       "<div>\n",
       "<style scoped>\n",
       "    .dataframe tbody tr th:only-of-type {\n",
       "        vertical-align: middle;\n",
       "    }\n",
       "\n",
       "    .dataframe tbody tr th {\n",
       "        vertical-align: top;\n",
       "    }\n",
       "\n",
       "    .dataframe thead th {\n",
       "        text-align: right;\n",
       "    }\n",
       "</style>\n",
       "<table border=\"1\" class=\"dataframe\">\n",
       "  <thead>\n",
       "    <tr style=\"text-align: right;\">\n",
       "      <th></th>\n",
       "      <th>duration</th>\n",
       "      <th>curr</th>\n",
       "      <th>BU</th>\n",
       "      <th>period</th>\n",
       "      <th>POB_type</th>\n",
       "      <th>config</th>\n",
       "      <th>rev_req_type</th>\n",
       "      <th>rebill_rule</th>\n",
       "      <th>sales_doc</th>\n",
       "      <th>sales_type</th>\n",
       "      <th>sub_term</th>\n",
       "      <th>DC_amount</th>\n",
       "      <th>US_amount</th>\n",
       "    </tr>\n",
       "  </thead>\n",
       "  <tbody>\n",
       "    <tr>\n",
       "      <th>294034</th>\n",
       "      <td>96</td>\n",
       "      <td>USD</td>\n",
       "      <td>Creative</td>\n",
       "      <td>2020-06</td>\n",
       "      <td>NaN</td>\n",
       "      <td>1Y</td>\n",
       "      <td>D</td>\n",
       "      <td>Y3</td>\n",
       "      <td>ZCSB</td>\n",
       "      <td>DEFERRED</td>\n",
       "      <td>1</td>\n",
       "      <td>930.83</td>\n",
       "      <td>930.83</td>\n",
       "    </tr>\n",
       "    <tr>\n",
       "      <th>294035</th>\n",
       "      <td>97</td>\n",
       "      <td>DKK</td>\n",
       "      <td>Creative</td>\n",
       "      <td>2020-06</td>\n",
       "      <td>NaN</td>\n",
       "      <td>1Y</td>\n",
       "      <td>D</td>\n",
       "      <td>Y3</td>\n",
       "      <td>ZCSB</td>\n",
       "      <td>DEFERRED</td>\n",
       "      <td>1</td>\n",
       "      <td>370.00</td>\n",
       "      <td>54.02</td>\n",
       "    </tr>\n",
       "    <tr>\n",
       "      <th>294036</th>\n",
       "      <td>97</td>\n",
       "      <td>EUR</td>\n",
       "      <td>Creative</td>\n",
       "      <td>2020-06</td>\n",
       "      <td>NaN</td>\n",
       "      <td>1Y</td>\n",
       "      <td>D</td>\n",
       "      <td>Y3</td>\n",
       "      <td>ZCSB</td>\n",
       "      <td>DEFERRED</td>\n",
       "      <td>1</td>\n",
       "      <td>249.95</td>\n",
       "      <td>271.09</td>\n",
       "    </tr>\n",
       "    <tr>\n",
       "      <th>294037</th>\n",
       "      <td>97</td>\n",
       "      <td>JPY</td>\n",
       "      <td>Creative</td>\n",
       "      <td>2020-06</td>\n",
       "      <td>NaN</td>\n",
       "      <td>1Y</td>\n",
       "      <td>D</td>\n",
       "      <td>Y3</td>\n",
       "      <td>ZCSB</td>\n",
       "      <td>DEFERRED</td>\n",
       "      <td>1</td>\n",
       "      <td>34080.00</td>\n",
       "      <td>317.46</td>\n",
       "    </tr>\n",
       "    <tr>\n",
       "      <th>294038</th>\n",
       "      <td>97</td>\n",
       "      <td>USD</td>\n",
       "      <td>Creative</td>\n",
       "      <td>2020-06</td>\n",
       "      <td>NaN</td>\n",
       "      <td>1Y</td>\n",
       "      <td>D</td>\n",
       "      <td>Y3</td>\n",
       "      <td>ZCSB</td>\n",
       "      <td>DEFERRED</td>\n",
       "      <td>1</td>\n",
       "      <td>1094.79</td>\n",
       "      <td>1094.79</td>\n",
       "    </tr>\n",
       "    <tr>\n",
       "      <th>294039</th>\n",
       "      <td>98</td>\n",
       "      <td>JPY</td>\n",
       "      <td>Creative</td>\n",
       "      <td>2020-06</td>\n",
       "      <td>NaN</td>\n",
       "      <td>1Y</td>\n",
       "      <td>D</td>\n",
       "      <td>Y3</td>\n",
       "      <td>ZCSB</td>\n",
       "      <td>DEFERRED</td>\n",
       "      <td>1</td>\n",
       "      <td>5680.00</td>\n",
       "      <td>52.77</td>\n",
       "    </tr>\n",
       "    <tr>\n",
       "      <th>294040</th>\n",
       "      <td>98</td>\n",
       "      <td>USD</td>\n",
       "      <td>Creative</td>\n",
       "      <td>2020-06</td>\n",
       "      <td>NaN</td>\n",
       "      <td>1Y</td>\n",
       "      <td>D</td>\n",
       "      <td>Y3</td>\n",
       "      <td>ZCSB</td>\n",
       "      <td>DEFERRED</td>\n",
       "      <td>1</td>\n",
       "      <td>208.96</td>\n",
       "      <td>208.96</td>\n",
       "    </tr>\n",
       "    <tr>\n",
       "      <th>294041</th>\n",
       "      <td>99</td>\n",
       "      <td>AUD</td>\n",
       "      <td>Creative</td>\n",
       "      <td>2020-06</td>\n",
       "      <td>NaN</td>\n",
       "      <td>1Y</td>\n",
       "      <td>D</td>\n",
       "      <td>Y3</td>\n",
       "      <td>ZCSB</td>\n",
       "      <td>DEFERRED</td>\n",
       "      <td>1</td>\n",
       "      <td>139.98</td>\n",
       "      <td>90.40</td>\n",
       "    </tr>\n",
       "    <tr>\n",
       "      <th>294042</th>\n",
       "      <td>99</td>\n",
       "      <td>JPY</td>\n",
       "      <td>Creative</td>\n",
       "      <td>2020-06</td>\n",
       "      <td>NaN</td>\n",
       "      <td>1Y</td>\n",
       "      <td>D</td>\n",
       "      <td>Y3</td>\n",
       "      <td>ZCSB</td>\n",
       "      <td>DEFERRED</td>\n",
       "      <td>1</td>\n",
       "      <td>-5680.00</td>\n",
       "      <td>-52.26</td>\n",
       "    </tr>\n",
       "    <tr>\n",
       "      <th>294043</th>\n",
       "      <td>99</td>\n",
       "      <td>USD</td>\n",
       "      <td>Creative</td>\n",
       "      <td>2020-06</td>\n",
       "      <td>NaN</td>\n",
       "      <td>1Y</td>\n",
       "      <td>D</td>\n",
       "      <td>Y3</td>\n",
       "      <td>ZCSB</td>\n",
       "      <td>DEFERRED</td>\n",
       "      <td>1</td>\n",
       "      <td>211.96</td>\n",
       "      <td>211.96</td>\n",
       "    </tr>\n",
       "  </tbody>\n",
       "</table>\n",
       "</div>"
      ],
      "text/plain": [
       "        duration curr        BU   period POB_type config rev_req_type  \\\n",
       "294034        96  USD  Creative  2020-06      NaN     1Y            D   \n",
       "294035        97  DKK  Creative  2020-06      NaN     1Y            D   \n",
       "294036        97  EUR  Creative  2020-06      NaN     1Y            D   \n",
       "294037        97  JPY  Creative  2020-06      NaN     1Y            D   \n",
       "294038        97  USD  Creative  2020-06      NaN     1Y            D   \n",
       "294039        98  JPY  Creative  2020-06      NaN     1Y            D   \n",
       "294040        98  USD  Creative  2020-06      NaN     1Y            D   \n",
       "294041        99  AUD  Creative  2020-06      NaN     1Y            D   \n",
       "294042        99  JPY  Creative  2020-06      NaN     1Y            D   \n",
       "294043        99  USD  Creative  2020-06      NaN     1Y            D   \n",
       "\n",
       "       rebill_rule sales_doc sales_type  sub_term  DC_amount  US_amount  \n",
       "294034          Y3      ZCSB   DEFERRED         1     930.83     930.83  \n",
       "294035          Y3      ZCSB   DEFERRED         1     370.00      54.02  \n",
       "294036          Y3      ZCSB   DEFERRED         1     249.95     271.09  \n",
       "294037          Y3      ZCSB   DEFERRED         1   34080.00     317.46  \n",
       "294038          Y3      ZCSB   DEFERRED         1    1094.79    1094.79  \n",
       "294039          Y3      ZCSB   DEFERRED         1    5680.00      52.77  \n",
       "294040          Y3      ZCSB   DEFERRED         1     208.96     208.96  \n",
       "294041          Y3      ZCSB   DEFERRED         1     139.98      90.40  \n",
       "294042          Y3      ZCSB   DEFERRED         1   -5680.00     -52.26  \n",
       "294043          Y3      ZCSB   DEFERRED         1     211.96     211.96  "
      ]
     },
     "execution_count": 14,
     "metadata": {},
     "output_type": "execute_result"
    }
   ],
   "source": [
    "blank.tail(10)"
   ]
  },
  {
   "cell_type": "code",
   "execution_count": 15,
   "metadata": {},
   "outputs": [],
   "source": [
    "sales_doc_type = {'immediate_revenue': ['G2', 'KR', 'OR', 'ZCCR',\n",
    "                                        'ZCDR', 'ZCOR', 'ZCRE', 'ZLO3',\n",
    "                                       'ZLO1', 'ZLO2', 'ZGO2', 'ZOL2', 'ZOTM' ],\n",
    "                  'service':['ZATS'],\n",
    "                  'deferred_D': ['ZCSB'],\n",
    "                  'rev_rec_class': ['ZCC', 'ZCQ', 'ZLCR', 'ZLDR', 'ZLG2', 'ZLO5',\n",
    "                                    'ZRG2', 'ZRL2']\n",
    "                 }\n",
    "# OH SHIT ZCC, ZCQ, ZLCR, ZLDR, ZLG2, ZLO5, ZL05, ZRG2, ZRL2\n",
    "# ZCC are mostly type D. Some are type A with blank config, some are type A with OCONS or other configs\n",
    "#  ZCC A have no config - immediate\n",
    "# some are type B - which we should switch immediately to service\n",
    "# most are type D\n",
    "# Many are blank move to immediate revenue\n",
    "\n",
    "# ZCQ - some A, moxst are D, some are blank\n"
   ]
  },
  {
   "cell_type": "code",
   "execution_count": 16,
   "metadata": {},
   "outputs": [
    {
     "data": {
      "text/plain": [
       "{'immediate_revenue': ['G2',\n",
       "  'KR',\n",
       "  'OR',\n",
       "  'ZCCR',\n",
       "  'ZCDR',\n",
       "  'ZCOR',\n",
       "  'ZCRE',\n",
       "  'ZLO3',\n",
       "  'ZLO1',\n",
       "  'ZLO2',\n",
       "  'ZGO2',\n",
       "  'ZOL2',\n",
       "  'ZOTM'],\n",
       " 'service': ['ZATS'],\n",
       " 'deferred_D': ['ZCSB'],\n",
       " 'rev_rec_class': ['ZCC',\n",
       "  'ZCQ',\n",
       "  'ZLCR',\n",
       "  'ZLDR',\n",
       "  'ZLG2',\n",
       "  'ZLO5',\n",
       "  'ZRG2',\n",
       "  'ZRL2']}"
      ]
     },
     "execution_count": 16,
     "metadata": {},
     "output_type": "execute_result"
    }
   ],
   "source": [
    "sales_doc_type"
   ]
  },
  {
   "cell_type": "markdown",
   "metadata": {},
   "source": [
    "#### TODO:\n",
    " - create function that moves through these by rev_rec_class and classifies them based on if they are A, B, D or F\n",
    " - classify them as in A and D\n",
    " - return  dataframes\n",
    "     -IR\n",
    "     -service\n",
    "     -deferred\n",
    " - merge these with the other dataframes\n",
    " - Move on to type A"
   ]
  },
  {
   "cell_type": "code",
   "execution_count": null,
   "metadata": {},
   "outputs": [],
   "source": []
  },
  {
   "cell_type": "code",
   "execution_count": 13,
   "metadata": {},
   "outputs": [
    {
     "ename": "TypeError",
     "evalue": "value_counts() got an unexpected keyword argument 'fillna'",
     "output_type": "error",
     "traceback": [
      "\u001b[0;31m---------------------------------------------------------------------------\u001b[0m",
      "\u001b[0;31mTypeError\u001b[0m                                 Traceback (most recent call last)",
      "\u001b[0;32m<ipython-input-13-d7c013515b3f>\u001b[0m in \u001b[0;36m<module>\u001b[0;34m\u001b[0m\n\u001b[0;32m----> 1\u001b[0;31m \u001b[0mblank\u001b[0m\u001b[0;34m[\u001b[0m\u001b[0;34m'sales_doc'\u001b[0m\u001b[0;34m]\u001b[0m\u001b[0;34m.\u001b[0m\u001b[0mvalue_counts\u001b[0m\u001b[0;34m(\u001b[0m\u001b[0mfillna\u001b[0m\u001b[0;34m=\u001b[0m\u001b[0;32mFalse\u001b[0m\u001b[0;34m)\u001b[0m\u001b[0;34m\u001b[0m\u001b[0;34m\u001b[0m\u001b[0m\n\u001b[0m",
      "\u001b[0;31mTypeError\u001b[0m: value_counts() got an unexpected keyword argument 'fillna'"
     ]
    }
   ],
   "source": [
    "blank['sales_doc'].value_counts(fillna=False)"
   ]
  },
  {
   "cell_type": "code",
   "execution_count": null,
   "metadata": {},
   "outputs": [],
   "source": []
  },
  {
   "cell_type": "code",
   "execution_count": null,
   "metadata": {},
   "outputs": [],
   "source": []
  },
  {
   "cell_type": "code",
   "execution_count": null,
   "metadata": {},
   "outputs": [],
   "source": []
  },
  {
   "cell_type": "code",
   "execution_count": null,
   "metadata": {},
   "outputs": [],
   "source": []
  },
  {
   "cell_type": "code",
   "execution_count": null,
   "metadata": {},
   "outputs": [],
   "source": []
  }
 ],
 "metadata": {
  "kernelspec": {
   "display_name": "Python 3.7.3 64-bit ('base': conda)",
   "language": "python",
   "name": "python37364bitbasecondaf40c37e8e9dd45c89e043b248b661bde"
  },
  "language_info": {
   "codemirror_mode": {
    "name": "ipython",
    "version": 3
   },
   "file_extension": ".py",
   "mimetype": "text/x-python",
   "name": "python",
   "nbconvert_exporter": "python",
   "pygments_lexer": "ipython3",
   "version": "3.7.3"
  }
 },
 "nbformat": 4,
 "nbformat_minor": 2
}
