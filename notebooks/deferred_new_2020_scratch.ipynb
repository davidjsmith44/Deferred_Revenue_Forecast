{
 "cells": [
  {
   "cell_type": "markdown",
   "metadata": {},
   "source": [
    "# Testing Deferred Revenue in Python\n",
    "Will this be easier for everyone to use than Matlab?"
   ]
  },
  {
   "cell_type": "code",
   "execution_count": 1,
   "metadata": {},
   "outputs": [],
   "source": [
    "import numpy as np\n",
    "import pandas as pd\n",
    "import matplotlib.pyplot as plt\n",
    "%matplotlib inline"
   ]
  },
  {
   "cell_type": "markdown",
   "metadata": {},
   "source": [
    "## Step 1: Processing Base Billings Data"
   ]
  },
  {
   "cell_type": "code",
   "execution_count": 2,
   "metadata": {},
   "outputs": [],
   "source": [
    "df = pd.read_excel('../data/all_billings_inputs.xlsx', sheet_name='base_billings')"
   ]
  },
  {
   "cell_type": "code",
   "execution_count": 3,
   "metadata": {
    "scrolled": true
   },
   "outputs": [
    {
     "data": {
      "text/html": [
       "<div>\n",
       "<style scoped>\n",
       "    .dataframe tbody tr th:only-of-type {\n",
       "        vertical-align: middle;\n",
       "    }\n",
       "\n",
       "    .dataframe tbody tr th {\n",
       "        vertical-align: top;\n",
       "    }\n",
       "\n",
       "    .dataframe thead th {\n",
       "        text-align: right;\n",
       "    }\n",
       "</style>\n",
       "<table border=\"1\" class=\"dataframe\">\n",
       "  <thead>\n",
       "    <tr style=\"text-align: right;\">\n",
       "      <th></th>\n",
       "      <th>Document Currency</th>\n",
       "      <th>Enterprise BU Desc</th>\n",
       "      <th>Frequency</th>\n",
       "      <th>Invoice Fiscal Year Period Desc</th>\n",
       "      <th>Product Config Type</th>\n",
       "      <th>Rev Rec Category</th>\n",
       "      <th>Rule For Bill Date</th>\n",
       "      <th>Sales Type</th>\n",
       "      <th>Subscription Term</th>\n",
       "      <th>Completed Sales ( DC )</th>\n",
       "      <th>Completed Sales</th>\n",
       "    </tr>\n",
       "  </thead>\n",
       "  <tbody>\n",
       "    <tr>\n",
       "      <th>12653</th>\n",
       "      <td>EUR</td>\n",
       "      <td>Creative</td>\n",
       "      <td>NaN</td>\n",
       "      <td>2016-04</td>\n",
       "      <td>MTHLY</td>\n",
       "      <td>D</td>\n",
       "      <td>Y3</td>\n",
       "      <td>DEFERRED</td>\n",
       "      <td>1</td>\n",
       "      <td>678776.78</td>\n",
       "      <td>752802.03</td>\n",
       "    </tr>\n",
       "    <tr>\n",
       "      <th>20407</th>\n",
       "      <td>GBP</td>\n",
       "      <td>Creative</td>\n",
       "      <td>NaN</td>\n",
       "      <td>2016-11</td>\n",
       "      <td>1Y</td>\n",
       "      <td>NaN</td>\n",
       "      <td>NaN</td>\n",
       "      <td>RECOGNIZED</td>\n",
       "      <td>0</td>\n",
       "      <td>0.00</td>\n",
       "      <td>0.00</td>\n",
       "    </tr>\n",
       "    <tr>\n",
       "      <th>49365</th>\n",
       "      <td>USD</td>\n",
       "      <td>Print &amp; Publishing</td>\n",
       "      <td>NaN</td>\n",
       "      <td>2019-04</td>\n",
       "      <td>1Y</td>\n",
       "      <td>D</td>\n",
       "      <td>YQ</td>\n",
       "      <td>DEFERRED</td>\n",
       "      <td>0</td>\n",
       "      <td>509458.08</td>\n",
       "      <td>509458.08</td>\n",
       "    </tr>\n",
       "    <tr>\n",
       "      <th>35707</th>\n",
       "      <td>SEK</td>\n",
       "      <td>Document Cloud</td>\n",
       "      <td>NaN</td>\n",
       "      <td>2019-02</td>\n",
       "      <td>NaN</td>\n",
       "      <td>D</td>\n",
       "      <td>Y3</td>\n",
       "      <td>DEFERRED</td>\n",
       "      <td>1</td>\n",
       "      <td>43406.99</td>\n",
       "      <td>4842.24</td>\n",
       "    </tr>\n",
       "    <tr>\n",
       "      <th>2858</th>\n",
       "      <td>AUD</td>\n",
       "      <td>Experience Cloud</td>\n",
       "      <td>1TME</td>\n",
       "      <td>2016-04</td>\n",
       "      <td>NaN</td>\n",
       "      <td>B</td>\n",
       "      <td>NaN</td>\n",
       "      <td>DEFERRED</td>\n",
       "      <td>0</td>\n",
       "      <td>-5750.00</td>\n",
       "      <td>-4053.96</td>\n",
       "    </tr>\n",
       "    <tr>\n",
       "      <th>17426</th>\n",
       "      <td>EUR</td>\n",
       "      <td>Experience Cloud</td>\n",
       "      <td>ONGO</td>\n",
       "      <td>2016-09</td>\n",
       "      <td>ONORE</td>\n",
       "      <td>D</td>\n",
       "      <td>YH</td>\n",
       "      <td>DEFERRED</td>\n",
       "      <td>0</td>\n",
       "      <td>294172.94</td>\n",
       "      <td>334451.90</td>\n",
       "    </tr>\n",
       "    <tr>\n",
       "      <th>17764</th>\n",
       "      <td>EUR</td>\n",
       "      <td>Experience Cloud</td>\n",
       "      <td>ONGO</td>\n",
       "      <td>2017-11</td>\n",
       "      <td>1Y</td>\n",
       "      <td>D</td>\n",
       "      <td>Y1</td>\n",
       "      <td>DEFERRED</td>\n",
       "      <td>12</td>\n",
       "      <td>20913.19</td>\n",
       "      <td>24672.54</td>\n",
       "    </tr>\n",
       "    <tr>\n",
       "      <th>10437</th>\n",
       "      <td>DKK</td>\n",
       "      <td>Creative</td>\n",
       "      <td>NaN</td>\n",
       "      <td>2018-02</td>\n",
       "      <td>MTHLY</td>\n",
       "      <td>A</td>\n",
       "      <td>NaN</td>\n",
       "      <td>DEFERRED</td>\n",
       "      <td>1</td>\n",
       "      <td>-11076.98</td>\n",
       "      <td>-1793.14</td>\n",
       "    </tr>\n",
       "    <tr>\n",
       "      <th>39977</th>\n",
       "      <td>USD</td>\n",
       "      <td>Creative</td>\n",
       "      <td>ONGO</td>\n",
       "      <td>2018-09</td>\n",
       "      <td>NaN</td>\n",
       "      <td>NaN</td>\n",
       "      <td>NaN</td>\n",
       "      <td>RECOGNIZED</td>\n",
       "      <td>0</td>\n",
       "      <td>12140.00</td>\n",
       "      <td>12140.00</td>\n",
       "    </tr>\n",
       "    <tr>\n",
       "      <th>38385</th>\n",
       "      <td>USD</td>\n",
       "      <td>Creative</td>\n",
       "      <td>NaN</td>\n",
       "      <td>2017-12</td>\n",
       "      <td>MTHLY</td>\n",
       "      <td>NaN</td>\n",
       "      <td>NaN</td>\n",
       "      <td>DEFERRED</td>\n",
       "      <td>1</td>\n",
       "      <td>-174442.40</td>\n",
       "      <td>-174442.40</td>\n",
       "    </tr>\n",
       "  </tbody>\n",
       "</table>\n",
       "</div>"
      ],
      "text/plain": [
       "      Document Currency  Enterprise BU Desc Frequency  \\\n",
       "12653               EUR            Creative       NaN   \n",
       "20407               GBP            Creative       NaN   \n",
       "49365               USD  Print & Publishing       NaN   \n",
       "35707               SEK      Document Cloud       NaN   \n",
       "2858                AUD    Experience Cloud      1TME   \n",
       "17426               EUR    Experience Cloud      ONGO   \n",
       "17764               EUR    Experience Cloud      ONGO   \n",
       "10437               DKK            Creative       NaN   \n",
       "39977               USD            Creative      ONGO   \n",
       "38385               USD            Creative       NaN   \n",
       "\n",
       "      Invoice Fiscal Year Period Desc Product Config Type Rev Rec Category  \\\n",
       "12653                         2016-04               MTHLY                D   \n",
       "20407                         2016-11                  1Y              NaN   \n",
       "49365                         2019-04                  1Y                D   \n",
       "35707                         2019-02                 NaN                D   \n",
       "2858                          2016-04                 NaN                B   \n",
       "17426                         2016-09               ONORE                D   \n",
       "17764                         2017-11                  1Y                D   \n",
       "10437                         2018-02               MTHLY                A   \n",
       "39977                         2018-09                 NaN              NaN   \n",
       "38385                         2017-12               MTHLY              NaN   \n",
       "\n",
       "      Rule For Bill Date  Sales Type  Subscription Term  \\\n",
       "12653                 Y3    DEFERRED                  1   \n",
       "20407                NaN  RECOGNIZED                  0   \n",
       "49365                 YQ    DEFERRED                  0   \n",
       "35707                 Y3    DEFERRED                  1   \n",
       "2858                 NaN    DEFERRED                  0   \n",
       "17426                 YH    DEFERRED                  0   \n",
       "17764                 Y1    DEFERRED                 12   \n",
       "10437                NaN    DEFERRED                  1   \n",
       "39977                NaN  RECOGNIZED                  0   \n",
       "38385                NaN    DEFERRED                  1   \n",
       "\n",
       "       Completed Sales ( DC )  Completed Sales  \n",
       "12653               678776.78        752802.03  \n",
       "20407                    0.00             0.00  \n",
       "49365               509458.08        509458.08  \n",
       "35707                43406.99          4842.24  \n",
       "2858                 -5750.00         -4053.96  \n",
       "17426               294172.94        334451.90  \n",
       "17764                20913.19         24672.54  \n",
       "10437               -11076.98         -1793.14  \n",
       "39977                12140.00         12140.00  \n",
       "38385              -174442.40       -174442.40  "
      ]
     },
     "execution_count": 3,
     "metadata": {},
     "output_type": "execute_result"
    }
   ],
   "source": [
    "df.sample(10)"
   ]
  },
  {
   "cell_type": "markdown",
   "metadata": {},
   "source": [
    "## Changing the column names early since they are inconsistent across other reports"
   ]
  },
  {
   "cell_type": "code",
   "execution_count": 4,
   "metadata": {},
   "outputs": [
    {
     "data": {
      "text/plain": [
       "Index(['Document Currency', 'Enterprise BU Desc', 'Frequency',\n",
       "       'Invoice Fiscal Year Period Desc', 'Product Config Type',\n",
       "       'Rev Rec Category', 'Rule For Bill Date', 'Sales Type',\n",
       "       'Subscription Term', 'Completed Sales ( DC )', 'Completed Sales'],\n",
       "      dtype='object')"
      ]
     },
     "execution_count": 4,
     "metadata": {},
     "output_type": "execute_result"
    }
   ],
   "source": [
    "df.columns"
   ]
  },
  {
   "cell_type": "code",
   "execution_count": 5,
   "metadata": {},
   "outputs": [],
   "source": [
    "df.rename(index = str, columns = {'Document Currency': 'curr',\n",
    "                                 'Enterprise BU Desc': 'BU',\n",
    "                                 'Invoice Fiscal Year Period Desc': 'period',\n",
    "                                 'Product Config Type': 'config',\n",
    "                                 'Rev Rec Category': 'rev_req_type',\n",
    "                                 'Rule For Bill Date': 'rebill_rule',\n",
    "                                 'Completed Sales ( DC )': 'DC_amount',\n",
    "                                 'Completed Sales': 'US_amount'}, inplace=True)"
   ]
  },
  {
   "cell_type": "code",
   "execution_count": 66,
   "metadata": {},
   "outputs": [
    {
     "data": {
      "text/plain": [
       "Index(['curr', 'BU', 'Frequency', 'period', 'config', 'rev_req_type',\n",
       "       'rebill_rule', 'Sales Type', 'Subscription Term', 'DC_amount',\n",
       "       'US_amount'],\n",
       "      dtype='object')"
      ]
     },
     "execution_count": 66,
     "metadata": {},
     "output_type": "execute_result"
    }
   ],
   "source": [
    "df.columns"
   ]
  },
  {
   "cell_type": "markdown",
   "metadata": {},
   "source": [
    "## Filter that removes any currency that has  < 10 transactions. \n"
   ]
  },
  {
   "cell_type": "code",
   "execution_count": 67,
   "metadata": {},
   "outputs": [
    {
     "name": "stdout",
     "output_type": "stream",
     "text": [
      "USD    11140\n",
      "EUR     6940\n",
      "GBP     5312\n",
      "AUD     4647\n",
      "JPY     4557\n",
      "CHF     2306\n",
      "SEK     2216\n",
      "DKK     2137\n",
      "NOK     1835\n",
      "CAD     1362\n",
      "HKD      485\n",
      "BRL      464\n",
      "RUB      461\n",
      "KRW      247\n",
      "COP      210\n",
      "CLP      209\n",
      "ARS      208\n",
      "SGD      199\n",
      "PEN      190\n",
      "INR      178\n",
      "PHP      151\n",
      "TWD      148\n",
      "THB      144\n",
      "MYR      137\n",
      "IDR      132\n",
      "NZD       58\n",
      "ILS       35\n",
      "TRY       27\n",
      "Name: curr, dtype: int64\n"
     ]
    }
   ],
   "source": [
    "# creates a list of the currencies and the number of transactions for each currency\n",
    "vc = df['curr'].value_counts()\n",
    "print(vc)"
   ]
  },
  {
   "cell_type": "code",
   "execution_count": 68,
   "metadata": {},
   "outputs": [],
   "source": [
    "# Create variable that is true if the number of transaction is greater than 10, false otherwise\n",
    "keep_these = vc.values > 10\n",
    "# filtering only currencies that were greater than 10\n",
    "keep_curr = vc[keep_these]\n",
    "a = keep_curr.index\n",
    "# filtering the dataframe to remove any of teh currencies not in our list\n",
    "df = df[df['curr'].isin(a)]"
   ]
  },
  {
   "cell_type": "markdown",
   "metadata": {},
   "source": [
    "## Just keeping track of the currencies we removed in our model_dict data structure"
   ]
  },
  {
   "cell_type": "code",
   "execution_count": 69,
   "metadata": {},
   "outputs": [],
   "source": [
    "remove_these = vc[vc.values <= 10].index\n",
    "model_dict = {'curr_removed': list(vc[remove_these].index)}\n",
    "delete_curr = list(remove_these)"
   ]
  },
  {
   "cell_type": "markdown",
   "metadata": {},
   "source": [
    "## The FX database does not have information on the following currencies\n",
    " - AED (United Arab Emirates Dirham)\n",
    " - BMD (Bermudan Dollar)\n",
    " - MXP (Mexican Peso)\n",
    " - TRY (Turkish Lira)"
   ]
  },
  {
   "cell_type": "code",
   "execution_count": 70,
   "metadata": {},
   "outputs": [
    {
     "name": "stdout",
     "output_type": "stream",
     "text": [
      "Model dictionary {'curr_removed': ['TRY']}\n",
      "Deleted Currencies ['TRY']\n"
     ]
    }
   ],
   "source": [
    "if 'TRY' not in model_dict:\n",
    "    model_dict['curr_removed'].append('TRY')\n",
    "    delete_curr.append('TRY')\n",
    "    a = a.drop('TRY')\n",
    "    \n",
    "print('Model dictionary', model_dict)\n",
    "print('Deleted Currencies', delete_curr)"
   ]
  },
  {
   "cell_type": "code",
   "execution_count": 71,
   "metadata": {},
   "outputs": [
    {
     "name": "stdout",
     "output_type": "stream",
     "text": [
      "---Removing infrequent currencies from billings history---\n",
      "Total number of currencies in the base billings file:  28\n",
      "\n",
      " Currencies were removed:  1\n",
      "\n",
      "\n",
      "27 Remaining currencies: \n",
      "USD , EUR , GBP , AUD , JPY , CHF , SEK , DKK , NOK , CAD , HKD , BRL , RUB , KRW , COP , CLP , ARS , SGD , PEN , INR , PHP , TWD , THB , MYR , IDR , NZD , ILS , "
     ]
    }
   ],
   "source": [
    "print(\"---Removing infrequent currencies from billings history---\")\n",
    "print('Total number of currencies in the base billings file: ', len(vc))\n",
    "if len(model_dict['curr_removed'])==0:\n",
    "    print('No currencies were removed, all contained 10 or more billings')\n",
    "    print('Currencies in the base billings file')\n",
    "    for item in a:\n",
    "        print(a[item], end = \" \")\n",
    "else:\n",
    "    print('\\n Currencies were removed: ', len(model_dict['curr_removed']))\n",
    "\n",
    "    for item in remove_these:\n",
    "        print(item, ', ', end=\"\")\n",
    "        \n",
    "    print(\"\\n\\n{} Remaining currencies: \".format(len(a)))\n",
    "    for item in a:\n",
    "        print(item, ', ', end=\"\")"
   ]
  },
  {
   "cell_type": "code",
   "execution_count": null,
   "metadata": {},
   "outputs": [],
   "source": []
  },
  {
   "cell_type": "markdown",
   "metadata": {},
   "source": [
    "# Removing any of the values that are zero"
   ]
  },
  {
   "cell_type": "code",
   "execution_count": 72,
   "metadata": {},
   "outputs": [
    {
     "name": "stdout",
     "output_type": "stream",
     "text": [
      "This is the length of the dataframe before removing zeros:  46135\n",
      "This is the length of the dataframe after removing zeros:  46135\n"
     ]
    }
   ],
   "source": [
    "print('This is the length of the dataframe before removing zeros: ', len(df))\n",
    "df = df[df['DC_amount']!=0]\n",
    "print('This is the length of the dataframe after removing zeros: ', len(df))"
   ]
  },
  {
   "cell_type": "code",
   "execution_count": 73,
   "metadata": {},
   "outputs": [
    {
     "data": {
      "text/html": [
       "<div>\n",
       "<style scoped>\n",
       "    .dataframe tbody tr th:only-of-type {\n",
       "        vertical-align: middle;\n",
       "    }\n",
       "\n",
       "    .dataframe tbody tr th {\n",
       "        vertical-align: top;\n",
       "    }\n",
       "\n",
       "    .dataframe thead th {\n",
       "        text-align: right;\n",
       "    }\n",
       "</style>\n",
       "<table border=\"1\" class=\"dataframe\">\n",
       "  <thead>\n",
       "    <tr style=\"text-align: right;\">\n",
       "      <th></th>\n",
       "      <th>curr</th>\n",
       "      <th>BU</th>\n",
       "      <th>Frequency</th>\n",
       "      <th>period</th>\n",
       "      <th>config</th>\n",
       "      <th>rev_req_type</th>\n",
       "      <th>rebill_rule</th>\n",
       "      <th>Sales Type</th>\n",
       "      <th>Subscription Term</th>\n",
       "      <th>DC_amount</th>\n",
       "      <th>US_amount</th>\n",
       "    </tr>\n",
       "  </thead>\n",
       "  <tbody>\n",
       "    <tr>\n",
       "      <th>38468</th>\n",
       "      <td>USD</td>\n",
       "      <td>Creative</td>\n",
       "      <td>NaN</td>\n",
       "      <td>2018-03</td>\n",
       "      <td>2V</td>\n",
       "      <td>NaN</td>\n",
       "      <td>NaN</td>\n",
       "      <td>RECOGNIZED</td>\n",
       "      <td>0</td>\n",
       "      <td>49.00</td>\n",
       "      <td>49.00</td>\n",
       "    </tr>\n",
       "    <tr>\n",
       "      <th>12536</th>\n",
       "      <td>EUR</td>\n",
       "      <td>Creative</td>\n",
       "      <td>NaN</td>\n",
       "      <td>2015-12</td>\n",
       "      <td>NaN</td>\n",
       "      <td>A</td>\n",
       "      <td>NaN</td>\n",
       "      <td>DEFERRED</td>\n",
       "      <td>12</td>\n",
       "      <td>-44.71</td>\n",
       "      <td>-49.19</td>\n",
       "    </tr>\n",
       "    <tr>\n",
       "      <th>37122</th>\n",
       "      <td>THB</td>\n",
       "      <td>Document Cloud</td>\n",
       "      <td>NaN</td>\n",
       "      <td>2019-11</td>\n",
       "      <td>NaN</td>\n",
       "      <td>D</td>\n",
       "      <td>NaN</td>\n",
       "      <td>DEFERRED</td>\n",
       "      <td>1</td>\n",
       "      <td>-534.00</td>\n",
       "      <td>-17.56</td>\n",
       "    </tr>\n",
       "    <tr>\n",
       "      <th>48471</th>\n",
       "      <td>USD</td>\n",
       "      <td>Print &amp; Publishing</td>\n",
       "      <td>NaN</td>\n",
       "      <td>2015-09</td>\n",
       "      <td>NaN</td>\n",
       "      <td>A</td>\n",
       "      <td>NaN</td>\n",
       "      <td>DEFERRED</td>\n",
       "      <td>1</td>\n",
       "      <td>131047.18</td>\n",
       "      <td>131047.18</td>\n",
       "    </tr>\n",
       "    <tr>\n",
       "      <th>6818</th>\n",
       "      <td>CAD</td>\n",
       "      <td>Experience Cloud</td>\n",
       "      <td>ONGO</td>\n",
       "      <td>2018-05</td>\n",
       "      <td>NaN</td>\n",
       "      <td>NaN</td>\n",
       "      <td>NaN</td>\n",
       "      <td>RECOGNIZED</td>\n",
       "      <td>0</td>\n",
       "      <td>171032.64</td>\n",
       "      <td>133417.56</td>\n",
       "    </tr>\n",
       "    <tr>\n",
       "      <th>24716</th>\n",
       "      <td>GBP</td>\n",
       "      <td>LiveCycle</td>\n",
       "      <td>NaN</td>\n",
       "      <td>2016-12</td>\n",
       "      <td>NaN</td>\n",
       "      <td>NaN</td>\n",
       "      <td>NaN</td>\n",
       "      <td>RECOGNIZED</td>\n",
       "      <td>0</td>\n",
       "      <td>3760.57</td>\n",
       "      <td>4645.16</td>\n",
       "    </tr>\n",
       "    <tr>\n",
       "      <th>22581</th>\n",
       "      <td>GBP</td>\n",
       "      <td>Experience Cloud</td>\n",
       "      <td>NaN</td>\n",
       "      <td>2016-12</td>\n",
       "      <td>1Y</td>\n",
       "      <td>D</td>\n",
       "      <td>YA</td>\n",
       "      <td>DEFERRED</td>\n",
       "      <td>0</td>\n",
       "      <td>15044.54</td>\n",
       "      <td>18754.97</td>\n",
       "    </tr>\n",
       "    <tr>\n",
       "      <th>41690</th>\n",
       "      <td>USD</td>\n",
       "      <td>Document Cloud</td>\n",
       "      <td>NaN</td>\n",
       "      <td>2019-12</td>\n",
       "      <td>1Y</td>\n",
       "      <td>D</td>\n",
       "      <td>Y3</td>\n",
       "      <td>DEFERRED</td>\n",
       "      <td>1</td>\n",
       "      <td>3487602.61</td>\n",
       "      <td>3487602.61</td>\n",
       "    </tr>\n",
       "    <tr>\n",
       "      <th>4608</th>\n",
       "      <td>AUD</td>\n",
       "      <td>Other Solutions</td>\n",
       "      <td>ONGO</td>\n",
       "      <td>2016-11</td>\n",
       "      <td>OUNIV</td>\n",
       "      <td>A</td>\n",
       "      <td>NaN</td>\n",
       "      <td>DEFERRED</td>\n",
       "      <td>0</td>\n",
       "      <td>2560.00</td>\n",
       "      <td>1960.70</td>\n",
       "    </tr>\n",
       "    <tr>\n",
       "      <th>46686</th>\n",
       "      <td>USD</td>\n",
       "      <td>Experience Cloud</td>\n",
       "      <td>ONGO</td>\n",
       "      <td>2018-02</td>\n",
       "      <td>1Y</td>\n",
       "      <td>D</td>\n",
       "      <td>YH</td>\n",
       "      <td>DEFERRED</td>\n",
       "      <td>0</td>\n",
       "      <td>774623.00</td>\n",
       "      <td>774623.00</td>\n",
       "    </tr>\n",
       "  </tbody>\n",
       "</table>\n",
       "</div>"
      ],
      "text/plain": [
       "      curr                  BU Frequency   period config rev_req_type  \\\n",
       "38468  USD            Creative       NaN  2018-03     2V          NaN   \n",
       "12536  EUR            Creative       NaN  2015-12    NaN            A   \n",
       "37122  THB      Document Cloud       NaN  2019-11    NaN            D   \n",
       "48471  USD  Print & Publishing       NaN  2015-09    NaN            A   \n",
       "6818   CAD    Experience Cloud      ONGO  2018-05    NaN          NaN   \n",
       "24716  GBP           LiveCycle       NaN  2016-12    NaN          NaN   \n",
       "22581  GBP    Experience Cloud       NaN  2016-12     1Y            D   \n",
       "41690  USD      Document Cloud       NaN  2019-12     1Y            D   \n",
       "4608   AUD     Other Solutions      ONGO  2016-11  OUNIV            A   \n",
       "46686  USD    Experience Cloud      ONGO  2018-02     1Y            D   \n",
       "\n",
       "      rebill_rule  Sales Type  Subscription Term   DC_amount   US_amount  \n",
       "38468         NaN  RECOGNIZED                  0       49.00       49.00  \n",
       "12536         NaN    DEFERRED                 12      -44.71      -49.19  \n",
       "37122         NaN    DEFERRED                  1     -534.00      -17.56  \n",
       "48471         NaN    DEFERRED                  1   131047.18   131047.18  \n",
       "6818          NaN  RECOGNIZED                  0   171032.64   133417.56  \n",
       "24716         NaN  RECOGNIZED                  0     3760.57     4645.16  \n",
       "22581          YA    DEFERRED                  0    15044.54    18754.97  \n",
       "41690          Y3    DEFERRED                  1  3487602.61  3487602.61  \n",
       "4608          NaN    DEFERRED                  0     2560.00     1960.70  \n",
       "46686          YH    DEFERRED                  0   774623.00   774623.00  "
      ]
     },
     "execution_count": 73,
     "metadata": {},
     "output_type": "execute_result"
    }
   ],
   "source": [
    "df.sample(10)"
   ]
  },
  {
   "cell_type": "markdown",
   "metadata": {},
   "source": [
    "## Clearing out the Non-Revenue billings from the file\n",
    " - No Idea what these are"
   ]
  },
  {
   "cell_type": "code",
   "execution_count": 74,
   "metadata": {},
   "outputs": [
    {
     "data": {
      "text/plain": [
       "DEFERRED       37628\n",
       "RECOGNIZED      7183\n",
       "PRO-SVC-INV     1323\n",
       "Name: Sales Type, dtype: int64"
      ]
     },
     "execution_count": 74,
     "metadata": {},
     "output_type": "execute_result"
    }
   ],
   "source": [
    "df[\"Sales Type\"].value_counts()"
   ]
  },
  {
   "cell_type": "code",
   "execution_count": 75,
   "metadata": {},
   "outputs": [
    {
     "name": "stdout",
     "output_type": "stream",
     "text": [
      "Length of the dataframe before removing non-revenue billings:  46135\n",
      "Length of the dataframe after removing non-revenue billings:   46135\n"
     ]
    }
   ],
   "source": [
    "print('Length of the dataframe before removing non-revenue billings: ', len(df))\n",
    "df = df[df['Sales Type']!='NON-REV']\n",
    "print('Length of the dataframe after removing non-revenue billings:  ', len(df))\n"
   ]
  },
  {
   "cell_type": "markdown",
   "metadata": {},
   "source": [
    "## Starting to group the revenue by period, industry, etc"
   ]
  },
  {
   "cell_type": "markdown",
   "metadata": {},
   "source": [
    "Attempting to group by the following categories\n",
    " - currency\n",
    " - period\n",
    " - sale type\n",
    " \n",
    "May need to process the data differently with the deferred billings so we will start with the recognized and then the service billings\n",
    "\n",
    "# DOING THIS ALL IN PANDAS WITH SPLIT APPLY COMBINE on Sales Type \n"
   ]
  },
  {
   "cell_type": "code",
   "execution_count": 76,
   "metadata": {},
   "outputs": [],
   "source": [
    "# First split the data into three dataframes\n",
    "# Recognized billings\n",
    "rec = df[df['Sales Type']=='RECOGNIZED']\n",
    "svc = df[df['Sales Type']=='PRO-SVC-INV']\n",
    "dfr = df[df['Sales Type']=='DEFERRED']"
   ]
  },
  {
   "cell_type": "markdown",
   "metadata": {},
   "source": [
    "# NOW WORKING ON THE BILLINGS"
   ]
  },
  {
   "cell_type": "markdown",
   "metadata": {},
   "source": [
    "### Recognized Revenue"
   ]
  },
  {
   "cell_type": "code",
   "execution_count": 77,
   "metadata": {},
   "outputs": [
    {
     "data": {
      "text/html": [
       "<div>\n",
       "<style scoped>\n",
       "    .dataframe tbody tr th:only-of-type {\n",
       "        vertical-align: middle;\n",
       "    }\n",
       "\n",
       "    .dataframe tbody tr th {\n",
       "        vertical-align: top;\n",
       "    }\n",
       "\n",
       "    .dataframe thead th {\n",
       "        text-align: right;\n",
       "    }\n",
       "</style>\n",
       "<table border=\"1\" class=\"dataframe\">\n",
       "  <thead>\n",
       "    <tr style=\"text-align: right;\">\n",
       "      <th></th>\n",
       "      <th>curr</th>\n",
       "      <th>BU</th>\n",
       "      <th>Frequency</th>\n",
       "      <th>period</th>\n",
       "      <th>config</th>\n",
       "      <th>rev_req_type</th>\n",
       "      <th>rebill_rule</th>\n",
       "      <th>Sales Type</th>\n",
       "      <th>Subscription Term</th>\n",
       "      <th>DC_amount</th>\n",
       "      <th>US_amount</th>\n",
       "    </tr>\n",
       "  </thead>\n",
       "  <tbody>\n",
       "    <tr>\n",
       "      <th>31434</th>\n",
       "      <td>JPY</td>\n",
       "      <td>Print &amp; Publishing</td>\n",
       "      <td>NaN</td>\n",
       "      <td>2020-04</td>\n",
       "      <td>NaN</td>\n",
       "      <td>NaN</td>\n",
       "      <td>NaN</td>\n",
       "      <td>RECOGNIZED</td>\n",
       "      <td>0</td>\n",
       "      <td>8.894203e+06</td>\n",
       "      <td>81517.75</td>\n",
       "    </tr>\n",
       "    <tr>\n",
       "      <th>25518</th>\n",
       "      <td>GBP</td>\n",
       "      <td>Print &amp; Publishing</td>\n",
       "      <td>NaN</td>\n",
       "      <td>2019-04</td>\n",
       "      <td>NaN</td>\n",
       "      <td>NaN</td>\n",
       "      <td>NaN</td>\n",
       "      <td>RECOGNIZED</td>\n",
       "      <td>0</td>\n",
       "      <td>6.921080e+04</td>\n",
       "      <td>91457.54</td>\n",
       "    </tr>\n",
       "    <tr>\n",
       "      <th>16765</th>\n",
       "      <td>EUR</td>\n",
       "      <td>Experience Cloud</td>\n",
       "      <td>ACTL</td>\n",
       "      <td>2017-09</td>\n",
       "      <td>ONORE</td>\n",
       "      <td>NaN</td>\n",
       "      <td>NaN</td>\n",
       "      <td>RECOGNIZED</td>\n",
       "      <td>0</td>\n",
       "      <td>8.913630e+05</td>\n",
       "      <td>1053468.95</td>\n",
       "    </tr>\n",
       "    <tr>\n",
       "      <th>2831</th>\n",
       "      <td>AUD</td>\n",
       "      <td>Experience Cloud</td>\n",
       "      <td>1TME</td>\n",
       "      <td>2016-01</td>\n",
       "      <td>NaN</td>\n",
       "      <td>B</td>\n",
       "      <td>NaN</td>\n",
       "      <td>RECOGNIZED</td>\n",
       "      <td>0</td>\n",
       "      <td>5.000000e+02</td>\n",
       "      <td>362.12</td>\n",
       "    </tr>\n",
       "    <tr>\n",
       "      <th>27016</th>\n",
       "      <td>JPY</td>\n",
       "      <td>Creative</td>\n",
       "      <td>NaN</td>\n",
       "      <td>2016-09</td>\n",
       "      <td>UPG1</td>\n",
       "      <td>NaN</td>\n",
       "      <td>NaN</td>\n",
       "      <td>RECOGNIZED</td>\n",
       "      <td>0</td>\n",
       "      <td>3.750000e+05</td>\n",
       "      <td>3693.90</td>\n",
       "    </tr>\n",
       "    <tr>\n",
       "      <th>14188</th>\n",
       "      <td>EUR</td>\n",
       "      <td>Document Cloud</td>\n",
       "      <td>NaN</td>\n",
       "      <td>2016-03</td>\n",
       "      <td>NaN</td>\n",
       "      <td>NaN</td>\n",
       "      <td>NaN</td>\n",
       "      <td>RECOGNIZED</td>\n",
       "      <td>0</td>\n",
       "      <td>-3.240000e+02</td>\n",
       "      <td>-356.50</td>\n",
       "    </tr>\n",
       "    <tr>\n",
       "      <th>4546</th>\n",
       "      <td>AUD</td>\n",
       "      <td>LiveCycle</td>\n",
       "      <td>NaN</td>\n",
       "      <td>2017-05</td>\n",
       "      <td>NaN</td>\n",
       "      <td>NaN</td>\n",
       "      <td>NaN</td>\n",
       "      <td>RECOGNIZED</td>\n",
       "      <td>0</td>\n",
       "      <td>3.149250e+03</td>\n",
       "      <td>2383.30</td>\n",
       "    </tr>\n",
       "    <tr>\n",
       "      <th>27750</th>\n",
       "      <td>JPY</td>\n",
       "      <td>Creative</td>\n",
       "      <td>NaN</td>\n",
       "      <td>2019-09</td>\n",
       "      <td>NaN</td>\n",
       "      <td>NaN</td>\n",
       "      <td>NaN</td>\n",
       "      <td>RECOGNIZED</td>\n",
       "      <td>0</td>\n",
       "      <td>1.076450e+08</td>\n",
       "      <td>1002710.70</td>\n",
       "    </tr>\n",
       "    <tr>\n",
       "      <th>27280</th>\n",
       "      <td>JPY</td>\n",
       "      <td>Creative</td>\n",
       "      <td>NaN</td>\n",
       "      <td>2017-10</td>\n",
       "      <td>IDRT</td>\n",
       "      <td>NaN</td>\n",
       "      <td>NaN</td>\n",
       "      <td>RECOGNIZED</td>\n",
       "      <td>0</td>\n",
       "      <td>1.329760e+06</td>\n",
       "      <td>12047.62</td>\n",
       "    </tr>\n",
       "    <tr>\n",
       "      <th>16089</th>\n",
       "      <td>EUR</td>\n",
       "      <td>Experience Cloud</td>\n",
       "      <td>1TME</td>\n",
       "      <td>2017-05</td>\n",
       "      <td>NaN</td>\n",
       "      <td>NaN</td>\n",
       "      <td>NaN</td>\n",
       "      <td>RECOGNIZED</td>\n",
       "      <td>0</td>\n",
       "      <td>6.273153e+04</td>\n",
       "      <td>67404.14</td>\n",
       "    </tr>\n",
       "  </tbody>\n",
       "</table>\n",
       "</div>"
      ],
      "text/plain": [
       "      curr                  BU Frequency   period config rev_req_type  \\\n",
       "31434  JPY  Print & Publishing       NaN  2020-04    NaN          NaN   \n",
       "25518  GBP  Print & Publishing       NaN  2019-04    NaN          NaN   \n",
       "16765  EUR    Experience Cloud      ACTL  2017-09  ONORE          NaN   \n",
       "2831   AUD    Experience Cloud      1TME  2016-01    NaN            B   \n",
       "27016  JPY            Creative       NaN  2016-09   UPG1          NaN   \n",
       "14188  EUR      Document Cloud       NaN  2016-03    NaN          NaN   \n",
       "4546   AUD           LiveCycle       NaN  2017-05    NaN          NaN   \n",
       "27750  JPY            Creative       NaN  2019-09    NaN          NaN   \n",
       "27280  JPY            Creative       NaN  2017-10   IDRT          NaN   \n",
       "16089  EUR    Experience Cloud      1TME  2017-05    NaN          NaN   \n",
       "\n",
       "      rebill_rule  Sales Type  Subscription Term     DC_amount   US_amount  \n",
       "31434         NaN  RECOGNIZED                  0  8.894203e+06    81517.75  \n",
       "25518         NaN  RECOGNIZED                  0  6.921080e+04    91457.54  \n",
       "16765         NaN  RECOGNIZED                  0  8.913630e+05  1053468.95  \n",
       "2831          NaN  RECOGNIZED                  0  5.000000e+02      362.12  \n",
       "27016         NaN  RECOGNIZED                  0  3.750000e+05     3693.90  \n",
       "14188         NaN  RECOGNIZED                  0 -3.240000e+02     -356.50  \n",
       "4546          NaN  RECOGNIZED                  0  3.149250e+03     2383.30  \n",
       "27750         NaN  RECOGNIZED                  0  1.076450e+08  1002710.70  \n",
       "27280         NaN  RECOGNIZED                  0  1.329760e+06    12047.62  \n",
       "16089         NaN  RECOGNIZED                  0  6.273153e+04    67404.14  "
      ]
     },
     "execution_count": 77,
     "metadata": {},
     "output_type": "execute_result"
    }
   ],
   "source": [
    "rec.sample(10)"
   ]
  },
  {
   "cell_type": "code",
   "execution_count": 78,
   "metadata": {},
   "outputs": [],
   "source": [
    "# testing groupby object\n",
    "gb_rec = rec.groupby(['curr', 'BU', 'period'], as_index=False).sum()"
   ]
  },
  {
   "cell_type": "code",
   "execution_count": 79,
   "metadata": {},
   "outputs": [],
   "source": [
    "# the Subscription term hangs around. We are dropping that here\n",
    "gb_rec.drop(labels='Subscription Term', axis=1,inplace =True)"
   ]
  },
  {
   "cell_type": "code",
   "execution_count": 80,
   "metadata": {},
   "outputs": [
    {
     "data": {
      "text/html": [
       "<div>\n",
       "<style scoped>\n",
       "    .dataframe tbody tr th:only-of-type {\n",
       "        vertical-align: middle;\n",
       "    }\n",
       "\n",
       "    .dataframe tbody tr th {\n",
       "        vertical-align: top;\n",
       "    }\n",
       "\n",
       "    .dataframe thead th {\n",
       "        text-align: right;\n",
       "    }\n",
       "</style>\n",
       "<table border=\"1\" class=\"dataframe\">\n",
       "  <thead>\n",
       "    <tr style=\"text-align: right;\">\n",
       "      <th></th>\n",
       "      <th>curr</th>\n",
       "      <th>BU</th>\n",
       "      <th>period</th>\n",
       "      <th>DC_amount</th>\n",
       "      <th>US_amount</th>\n",
       "    </tr>\n",
       "  </thead>\n",
       "  <tbody>\n",
       "    <tr>\n",
       "      <th>2634</th>\n",
       "      <td>SEK</td>\n",
       "      <td>Document Cloud</td>\n",
       "      <td>2016-10</td>\n",
       "      <td>3020.00</td>\n",
       "      <td>353.55</td>\n",
       "    </tr>\n",
       "    <tr>\n",
       "      <th>2514</th>\n",
       "      <td>PHP</td>\n",
       "      <td>Creative</td>\n",
       "      <td>2020-04</td>\n",
       "      <td>36423.00</td>\n",
       "      <td>714.67</td>\n",
       "    </tr>\n",
       "    <tr>\n",
       "      <th>1716</th>\n",
       "      <td>GBP</td>\n",
       "      <td>Other Solutions</td>\n",
       "      <td>2019-03</td>\n",
       "      <td>-750.47</td>\n",
       "      <td>-981.49</td>\n",
       "    </tr>\n",
       "    <tr>\n",
       "      <th>1351</th>\n",
       "      <td>EUR</td>\n",
       "      <td>Other Solutions</td>\n",
       "      <td>2019-02</td>\n",
       "      <td>-13305.80</td>\n",
       "      <td>-15158.98</td>\n",
       "    </tr>\n",
       "    <tr>\n",
       "      <th>260</th>\n",
       "      <td>AUD</td>\n",
       "      <td>Other Solutions</td>\n",
       "      <td>2018-10</td>\n",
       "      <td>-5292.01</td>\n",
       "      <td>-3784.49</td>\n",
       "    </tr>\n",
       "    <tr>\n",
       "      <th>199</th>\n",
       "      <td>AUD</td>\n",
       "      <td>Experience Cloud</td>\n",
       "      <td>2020-02</td>\n",
       "      <td>307712.86</td>\n",
       "      <td>212006.26</td>\n",
       "    </tr>\n",
       "    <tr>\n",
       "      <th>860</th>\n",
       "      <td>DKK</td>\n",
       "      <td>Document Cloud</td>\n",
       "      <td>2017-06</td>\n",
       "      <td>590.00</td>\n",
       "      <td>88.84</td>\n",
       "    </tr>\n",
       "    <tr>\n",
       "      <th>419</th>\n",
       "      <td>CAD</td>\n",
       "      <td>Experience Cloud</td>\n",
       "      <td>2019-07</td>\n",
       "      <td>997229.89</td>\n",
       "      <td>749832.70</td>\n",
       "    </tr>\n",
       "    <tr>\n",
       "      <th>2496</th>\n",
       "      <td>NZD</td>\n",
       "      <td>Experience Cloud</td>\n",
       "      <td>2020-03</td>\n",
       "      <td>472254.75</td>\n",
       "      <td>308563.35</td>\n",
       "    </tr>\n",
       "    <tr>\n",
       "      <th>3235</th>\n",
       "      <td>USD</td>\n",
       "      <td>Other Solutions</td>\n",
       "      <td>2016-05</td>\n",
       "      <td>234938.11</td>\n",
       "      <td>234938.11</td>\n",
       "    </tr>\n",
       "  </tbody>\n",
       "</table>\n",
       "</div>"
      ],
      "text/plain": [
       "     curr                BU   period  DC_amount  US_amount\n",
       "2634  SEK    Document Cloud  2016-10    3020.00     353.55\n",
       "2514  PHP          Creative  2020-04   36423.00     714.67\n",
       "1716  GBP   Other Solutions  2019-03    -750.47    -981.49\n",
       "1351  EUR   Other Solutions  2019-02  -13305.80  -15158.98\n",
       "260   AUD   Other Solutions  2018-10   -5292.01   -3784.49\n",
       "199   AUD  Experience Cloud  2020-02  307712.86  212006.26\n",
       "860   DKK    Document Cloud  2017-06     590.00      88.84\n",
       "419   CAD  Experience Cloud  2019-07  997229.89  749832.70\n",
       "2496  NZD  Experience Cloud  2020-03  472254.75  308563.35\n",
       "3235  USD   Other Solutions  2016-05  234938.11  234938.11"
      ]
     },
     "execution_count": 80,
     "metadata": {},
     "output_type": "execute_result"
    }
   ],
   "source": [
    "gb_rec.sample(10)"
   ]
  },
  {
   "cell_type": "markdown",
   "metadata": {},
   "source": [
    "## Now doing this for the service billings"
   ]
  },
  {
   "cell_type": "code",
   "execution_count": 81,
   "metadata": {},
   "outputs": [],
   "source": [
    "# testing groupby object\n",
    "gb_svc = svc.groupby(['curr', 'BU', 'period'], as_index=False).sum()"
   ]
  },
  {
   "cell_type": "code",
   "execution_count": 82,
   "metadata": {},
   "outputs": [
    {
     "data": {
      "text/html": [
       "<div>\n",
       "<style scoped>\n",
       "    .dataframe tbody tr th:only-of-type {\n",
       "        vertical-align: middle;\n",
       "    }\n",
       "\n",
       "    .dataframe tbody tr th {\n",
       "        vertical-align: top;\n",
       "    }\n",
       "\n",
       "    .dataframe thead th {\n",
       "        text-align: right;\n",
       "    }\n",
       "</style>\n",
       "<table border=\"1\" class=\"dataframe\">\n",
       "  <thead>\n",
       "    <tr style=\"text-align: right;\">\n",
       "      <th></th>\n",
       "      <th>curr</th>\n",
       "      <th>BU</th>\n",
       "      <th>period</th>\n",
       "      <th>DC_amount</th>\n",
       "      <th>US_amount</th>\n",
       "    </tr>\n",
       "  </thead>\n",
       "  <tbody>\n",
       "    <tr>\n",
       "      <th>0</th>\n",
       "      <td>AUD</td>\n",
       "      <td>Experience Cloud</td>\n",
       "      <td>2015-01</td>\n",
       "      <td>25075.00</td>\n",
       "      <td>21084.51</td>\n",
       "    </tr>\n",
       "    <tr>\n",
       "      <th>1</th>\n",
       "      <td>AUD</td>\n",
       "      <td>Experience Cloud</td>\n",
       "      <td>2015-02</td>\n",
       "      <td>-4750.00</td>\n",
       "      <td>-4220.74</td>\n",
       "    </tr>\n",
       "    <tr>\n",
       "      <th>2</th>\n",
       "      <td>AUD</td>\n",
       "      <td>Experience Cloud</td>\n",
       "      <td>2015-03</td>\n",
       "      <td>424271.75</td>\n",
       "      <td>337822.37</td>\n",
       "    </tr>\n",
       "    <tr>\n",
       "      <th>3</th>\n",
       "      <td>AUD</td>\n",
       "      <td>Experience Cloud</td>\n",
       "      <td>2015-04</td>\n",
       "      <td>297925.00</td>\n",
       "      <td>229116.23</td>\n",
       "    </tr>\n",
       "    <tr>\n",
       "      <th>4</th>\n",
       "      <td>AUD</td>\n",
       "      <td>Experience Cloud</td>\n",
       "      <td>2015-05</td>\n",
       "      <td>316894.82</td>\n",
       "      <td>237310.85</td>\n",
       "    </tr>\n",
       "  </tbody>\n",
       "</table>\n",
       "</div>"
      ],
      "text/plain": [
       "  curr                BU   period  DC_amount  US_amount\n",
       "0  AUD  Experience Cloud  2015-01   25075.00   21084.51\n",
       "1  AUD  Experience Cloud  2015-02   -4750.00   -4220.74\n",
       "2  AUD  Experience Cloud  2015-03  424271.75  337822.37\n",
       "3  AUD  Experience Cloud  2015-04  297925.00  229116.23\n",
       "4  AUD  Experience Cloud  2015-05  316894.82  237310.85"
      ]
     },
     "execution_count": 82,
     "metadata": {},
     "output_type": "execute_result"
    }
   ],
   "source": [
    "gb_svc.drop(labels='Subscription Term', axis=1,inplace =True)\n",
    "gb_svc.head(5)"
   ]
  },
  {
   "cell_type": "markdown",
   "metadata": {},
   "source": [
    "# NOW WORKING ON DEFERRED BILLINGS\n",
    "\n",
    "## Type B billings are service agreements that will have invoices submitted before the billings are reclassified to revenue. If no invoices are assigned to the billings, the billings become revenue in 12 months"
   ]
  },
  {
   "cell_type": "code",
   "execution_count": 83,
   "metadata": {},
   "outputs": [],
   "source": [
    "# filter out the type B first then do a group_by\n",
    "dfr_b = dfr[dfr['rev_req_type']=='B']"
   ]
  },
  {
   "cell_type": "code",
   "execution_count": 84,
   "metadata": {},
   "outputs": [],
   "source": [
    "gb_b = dfr_b.groupby(['curr', 'BU', 'period'], as_index=False).sum()"
   ]
  },
  {
   "cell_type": "code",
   "execution_count": 85,
   "metadata": {},
   "outputs": [],
   "source": [
    "gb_b.drop(labels='Subscription Term', axis=1, inplace=True)"
   ]
  },
  {
   "cell_type": "code",
   "execution_count": 86,
   "metadata": {},
   "outputs": [
    {
     "data": {
      "text/html": [
       "<div>\n",
       "<style scoped>\n",
       "    .dataframe tbody tr th:only-of-type {\n",
       "        vertical-align: middle;\n",
       "    }\n",
       "\n",
       "    .dataframe tbody tr th {\n",
       "        vertical-align: top;\n",
       "    }\n",
       "\n",
       "    .dataframe thead th {\n",
       "        text-align: right;\n",
       "    }\n",
       "</style>\n",
       "<table border=\"1\" class=\"dataframe\">\n",
       "  <thead>\n",
       "    <tr style=\"text-align: right;\">\n",
       "      <th></th>\n",
       "      <th>curr</th>\n",
       "      <th>BU</th>\n",
       "      <th>period</th>\n",
       "      <th>DC_amount</th>\n",
       "      <th>US_amount</th>\n",
       "    </tr>\n",
       "  </thead>\n",
       "  <tbody>\n",
       "    <tr>\n",
       "      <th>0</th>\n",
       "      <td>AUD</td>\n",
       "      <td>Creative</td>\n",
       "      <td>2017-10</td>\n",
       "      <td>8544.0</td>\n",
       "      <td>6837.59</td>\n",
       "    </tr>\n",
       "    <tr>\n",
       "      <th>1</th>\n",
       "      <td>AUD</td>\n",
       "      <td>DX Other</td>\n",
       "      <td>2017-04</td>\n",
       "      <td>13205.0</td>\n",
       "      <td>10082.02</td>\n",
       "    </tr>\n",
       "    <tr>\n",
       "      <th>2</th>\n",
       "      <td>AUD</td>\n",
       "      <td>DX Other</td>\n",
       "      <td>2017-08</td>\n",
       "      <td>27400.0</td>\n",
       "      <td>21259.93</td>\n",
       "    </tr>\n",
       "    <tr>\n",
       "      <th>3</th>\n",
       "      <td>AUD</td>\n",
       "      <td>DX Other</td>\n",
       "      <td>2018-07</td>\n",
       "      <td>6635.4</td>\n",
       "      <td>4908.74</td>\n",
       "    </tr>\n",
       "    <tr>\n",
       "      <th>4</th>\n",
       "      <td>AUD</td>\n",
       "      <td>DX Other</td>\n",
       "      <td>2018-08</td>\n",
       "      <td>7535.0</td>\n",
       "      <td>5561.43</td>\n",
       "    </tr>\n",
       "    <tr>\n",
       "      <th>5</th>\n",
       "      <td>AUD</td>\n",
       "      <td>Document Cloud</td>\n",
       "      <td>2017-12</td>\n",
       "      <td>3283.2</td>\n",
       "      <td>2494.58</td>\n",
       "    </tr>\n",
       "    <tr>\n",
       "      <th>6</th>\n",
       "      <td>AUD</td>\n",
       "      <td>Document Cloud</td>\n",
       "      <td>2018-06</td>\n",
       "      <td>3425.0</td>\n",
       "      <td>2592.18</td>\n",
       "    </tr>\n",
       "    <tr>\n",
       "      <th>7</th>\n",
       "      <td>AUD</td>\n",
       "      <td>Document Cloud</td>\n",
       "      <td>2018-12</td>\n",
       "      <td>3425.0</td>\n",
       "      <td>2483.47</td>\n",
       "    </tr>\n",
       "    <tr>\n",
       "      <th>8</th>\n",
       "      <td>AUD</td>\n",
       "      <td>Document Cloud</td>\n",
       "      <td>2019-03</td>\n",
       "      <td>4375.0</td>\n",
       "      <td>3122.00</td>\n",
       "    </tr>\n",
       "    <tr>\n",
       "      <th>9</th>\n",
       "      <td>AUD</td>\n",
       "      <td>Experience Cloud</td>\n",
       "      <td>2015-01</td>\n",
       "      <td>157510.0</td>\n",
       "      <td>131675.74</td>\n",
       "    </tr>\n",
       "  </tbody>\n",
       "</table>\n",
       "</div>"
      ],
      "text/plain": [
       "  curr                BU   period  DC_amount  US_amount\n",
       "0  AUD          Creative  2017-10     8544.0    6837.59\n",
       "1  AUD          DX Other  2017-04    13205.0   10082.02\n",
       "2  AUD          DX Other  2017-08    27400.0   21259.93\n",
       "3  AUD          DX Other  2018-07     6635.4    4908.74\n",
       "4  AUD          DX Other  2018-08     7535.0    5561.43\n",
       "5  AUD    Document Cloud  2017-12     3283.2    2494.58\n",
       "6  AUD    Document Cloud  2018-06     3425.0    2592.18\n",
       "7  AUD    Document Cloud  2018-12     3425.0    2483.47\n",
       "8  AUD    Document Cloud  2019-03     4375.0    3122.00\n",
       "9  AUD  Experience Cloud  2015-01   157510.0  131675.74"
      ]
     },
     "execution_count": 86,
     "metadata": {},
     "output_type": "execute_result"
    }
   ],
   "source": [
    "gb_b.head(10)"
   ]
  },
  {
   "cell_type": "code",
   "execution_count": null,
   "metadata": {},
   "outputs": [],
   "source": []
  },
  {
   "cell_type": "code",
   "execution_count": 87,
   "metadata": {},
   "outputs": [
    {
     "name": "stdout",
     "output_type": "stream",
     "text": [
      "length of deferred billings :  37628\n",
      "length of the type B billings:  1434\n"
     ]
    }
   ],
   "source": [
    "print('length of deferred billings : ', len(dfr))\n",
    "print('length of the type B billings: ', len(dfr_b))"
   ]
  },
  {
   "cell_type": "code",
   "execution_count": null,
   "metadata": {},
   "outputs": [],
   "source": []
  },
  {
   "cell_type": "code",
   "execution_count": null,
   "metadata": {},
   "outputs": [],
   "source": []
  },
  {
   "cell_type": "markdown",
   "metadata": {},
   "source": [
    "## Now Type A Billings\n",
    "These billings are on a billing plan. The product config tells us how long before they renew\n",
    "\n",
    " - '2Y' = 24 months\n",
    " - '1Y' = 12 months\n",
    " - 'MTHLY' = 1 month\n",
    " \n",
    "NOTE: There are also other fields in the 'Product Configtype ID' field that do not map well to a rebill period.\n",
    "To fix this, we need to load up a different file and determine the length of the sales contract (type A no config)\n",
    " "
   ]
  },
  {
   "cell_type": "code",
   "execution_count": 88,
   "metadata": {},
   "outputs": [],
   "source": [
    "# filtering just the type A billings\n",
    "dfr_a = dfr[dfr['rev_req_type']=='A']"
   ]
  },
  {
   "cell_type": "code",
   "execution_count": 89,
   "metadata": {},
   "outputs": [],
   "source": [
    "gb_a = dfr_a.groupby(['curr', 'BU', 'period',\n",
    "                     'config'], as_index=False).sum()\n",
    "gb_a.drop(labels='Subscription Term', axis=1, inplace = True)"
   ]
  },
  {
   "cell_type": "code",
   "execution_count": 90,
   "metadata": {},
   "outputs": [
    {
     "data": {
      "text/html": [
       "<div>\n",
       "<style scoped>\n",
       "    .dataframe tbody tr th:only-of-type {\n",
       "        vertical-align: middle;\n",
       "    }\n",
       "\n",
       "    .dataframe tbody tr th {\n",
       "        vertical-align: top;\n",
       "    }\n",
       "\n",
       "    .dataframe thead th {\n",
       "        text-align: right;\n",
       "    }\n",
       "</style>\n",
       "<table border=\"1\" class=\"dataframe\">\n",
       "  <thead>\n",
       "    <tr style=\"text-align: right;\">\n",
       "      <th></th>\n",
       "      <th>curr</th>\n",
       "      <th>BU</th>\n",
       "      <th>period</th>\n",
       "      <th>config</th>\n",
       "      <th>DC_amount</th>\n",
       "      <th>US_amount</th>\n",
       "    </tr>\n",
       "  </thead>\n",
       "  <tbody>\n",
       "    <tr>\n",
       "      <th>3102</th>\n",
       "      <td>JPY</td>\n",
       "      <td>Experience Cloud</td>\n",
       "      <td>2016-12</td>\n",
       "      <td>1Y</td>\n",
       "      <td>9.312991e+07</td>\n",
       "      <td>835317.60</td>\n",
       "    </tr>\n",
       "    <tr>\n",
       "      <th>2868</th>\n",
       "      <td>JPY</td>\n",
       "      <td>Creative</td>\n",
       "      <td>2019-11</td>\n",
       "      <td>1Y</td>\n",
       "      <td>1.495522e+09</td>\n",
       "      <td>10805918.28</td>\n",
       "    </tr>\n",
       "    <tr>\n",
       "      <th>446</th>\n",
       "      <td>AUD</td>\n",
       "      <td>LiveCycle</td>\n",
       "      <td>2016-01</td>\n",
       "      <td>1Y</td>\n",
       "      <td>1.251022e+04</td>\n",
       "      <td>9053.15</td>\n",
       "    </tr>\n",
       "    <tr>\n",
       "      <th>59</th>\n",
       "      <td>AUD</td>\n",
       "      <td>Creative</td>\n",
       "      <td>2016-08</td>\n",
       "      <td>MTHLY</td>\n",
       "      <td>-1.151986e+04</td>\n",
       "      <td>-8665.64</td>\n",
       "    </tr>\n",
       "    <tr>\n",
       "      <th>1507</th>\n",
       "      <td>EUR</td>\n",
       "      <td>Creative</td>\n",
       "      <td>2019-09</td>\n",
       "      <td>1Y</td>\n",
       "      <td>3.189519e+07</td>\n",
       "      <td>35066165.02</td>\n",
       "    </tr>\n",
       "    <tr>\n",
       "      <th>3631</th>\n",
       "      <td>SEK</td>\n",
       "      <td>Document Cloud</td>\n",
       "      <td>2016-02</td>\n",
       "      <td>1Y</td>\n",
       "      <td>-1.999630e+03</td>\n",
       "      <td>-234.11</td>\n",
       "    </tr>\n",
       "    <tr>\n",
       "      <th>22</th>\n",
       "      <td>AUD</td>\n",
       "      <td>Creative</td>\n",
       "      <td>2015-08</td>\n",
       "      <td>2Y</td>\n",
       "      <td>2.316620e+03</td>\n",
       "      <td>1779.90</td>\n",
       "    </tr>\n",
       "    <tr>\n",
       "      <th>173</th>\n",
       "      <td>AUD</td>\n",
       "      <td>Document Cloud</td>\n",
       "      <td>2015-02</td>\n",
       "      <td>2Y</td>\n",
       "      <td>8.710500e+03</td>\n",
       "      <td>7114.25</td>\n",
       "    </tr>\n",
       "    <tr>\n",
       "      <th>4440</th>\n",
       "      <td>USD</td>\n",
       "      <td>Experience Cloud</td>\n",
       "      <td>2019-09</td>\n",
       "      <td>1Y</td>\n",
       "      <td>7.865042e+06</td>\n",
       "      <td>7865042.21</td>\n",
       "    </tr>\n",
       "    <tr>\n",
       "      <th>2941</th>\n",
       "      <td>JPY</td>\n",
       "      <td>Document Cloud</td>\n",
       "      <td>2016-05</td>\n",
       "      <td>MTHLY</td>\n",
       "      <td>-3.506700e+04</td>\n",
       "      <td>-317.49</td>\n",
       "    </tr>\n",
       "  </tbody>\n",
       "</table>\n",
       "</div>"
      ],
      "text/plain": [
       "     curr                BU   period config     DC_amount    US_amount\n",
       "3102  JPY  Experience Cloud  2016-12     1Y  9.312991e+07    835317.60\n",
       "2868  JPY          Creative  2019-11     1Y  1.495522e+09  10805918.28\n",
       "446   AUD         LiveCycle  2016-01     1Y  1.251022e+04      9053.15\n",
       "59    AUD          Creative  2016-08  MTHLY -1.151986e+04     -8665.64\n",
       "1507  EUR          Creative  2019-09     1Y  3.189519e+07  35066165.02\n",
       "3631  SEK    Document Cloud  2016-02     1Y -1.999630e+03      -234.11\n",
       "22    AUD          Creative  2015-08     2Y  2.316620e+03      1779.90\n",
       "173   AUD    Document Cloud  2015-02     2Y  8.710500e+03      7114.25\n",
       "4440  USD  Experience Cloud  2019-09     1Y  7.865042e+06   7865042.21\n",
       "2941  JPY    Document Cloud  2016-05  MTHLY -3.506700e+04      -317.49"
      ]
     },
     "execution_count": 90,
     "metadata": {},
     "output_type": "execute_result"
    }
   ],
   "source": [
    "gb_a.sample(10)"
   ]
  },
  {
   "cell_type": "code",
   "execution_count": 91,
   "metadata": {},
   "outputs": [
    {
     "data": {
      "text/plain": [
       "1Y       2418\n",
       "MTHLY     950\n",
       "2Y        875\n",
       "OUNIV     231\n",
       "OCONS     106\n",
       "3Y        101\n",
       "ONORE      32\n",
       "1V          1\n",
       "OENSV       1\n",
       "Name: config, dtype: int64"
      ]
     },
     "execution_count": 91,
     "metadata": {},
     "output_type": "execute_result"
    }
   ],
   "source": [
    "gb_a['config'].value_counts()"
   ]
  },
  {
   "cell_type": "markdown",
   "metadata": {},
   "source": [
    "### Below is just a check to see how large the billing types are across all periods"
   ]
  },
  {
   "cell_type": "code",
   "execution_count": 92,
   "metadata": {},
   "outputs": [
    {
     "data": {
      "text/html": [
       "<div>\n",
       "<style scoped>\n",
       "    .dataframe tbody tr th:only-of-type {\n",
       "        vertical-align: middle;\n",
       "    }\n",
       "\n",
       "    .dataframe tbody tr th {\n",
       "        vertical-align: top;\n",
       "    }\n",
       "\n",
       "    .dataframe thead th {\n",
       "        text-align: right;\n",
       "    }\n",
       "</style>\n",
       "<table border=\"1\" class=\"dataframe\">\n",
       "  <thead>\n",
       "    <tr style=\"text-align: right;\">\n",
       "      <th></th>\n",
       "      <th>config</th>\n",
       "      <th>DC_amount</th>\n",
       "      <th>US_amount</th>\n",
       "    </tr>\n",
       "  </thead>\n",
       "  <tbody>\n",
       "    <tr>\n",
       "      <th>0</th>\n",
       "      <td>1V</td>\n",
       "      <td>6.503000e+03</td>\n",
       "      <td>6.503000e+03</td>\n",
       "    </tr>\n",
       "    <tr>\n",
       "      <th>1</th>\n",
       "      <td>1Y</td>\n",
       "      <td>1.198135e+11</td>\n",
       "      <td>9.655797e+09</td>\n",
       "    </tr>\n",
       "    <tr>\n",
       "      <th>2</th>\n",
       "      <td>2Y</td>\n",
       "      <td>2.470307e+08</td>\n",
       "      <td>6.719101e+07</td>\n",
       "    </tr>\n",
       "    <tr>\n",
       "      <th>3</th>\n",
       "      <td>3Y</td>\n",
       "      <td>9.380464e+08</td>\n",
       "      <td>4.051346e+06</td>\n",
       "    </tr>\n",
       "    <tr>\n",
       "      <th>4</th>\n",
       "      <td>MTHLY</td>\n",
       "      <td>1.381940e+08</td>\n",
       "      <td>3.985406e+07</td>\n",
       "    </tr>\n",
       "    <tr>\n",
       "      <th>5</th>\n",
       "      <td>OCONS</td>\n",
       "      <td>3.903233e+07</td>\n",
       "      <td>1.028252e+07</td>\n",
       "    </tr>\n",
       "    <tr>\n",
       "      <th>6</th>\n",
       "      <td>OENSV</td>\n",
       "      <td>-1.200000e+02</td>\n",
       "      <td>-1.200000e+02</td>\n",
       "    </tr>\n",
       "    <tr>\n",
       "      <th>7</th>\n",
       "      <td>ONORE</td>\n",
       "      <td>2.350904e+06</td>\n",
       "      <td>2.015485e+06</td>\n",
       "    </tr>\n",
       "    <tr>\n",
       "      <th>8</th>\n",
       "      <td>OUNIV</td>\n",
       "      <td>4.283761e+06</td>\n",
       "      <td>3.473767e+06</td>\n",
       "    </tr>\n",
       "  </tbody>\n",
       "</table>\n",
       "</div>"
      ],
      "text/plain": [
       "  config     DC_amount     US_amount\n",
       "0     1V  6.503000e+03  6.503000e+03\n",
       "1     1Y  1.198135e+11  9.655797e+09\n",
       "2     2Y  2.470307e+08  6.719101e+07\n",
       "3     3Y  9.380464e+08  4.051346e+06\n",
       "4  MTHLY  1.381940e+08  3.985406e+07\n",
       "5  OCONS  3.903233e+07  1.028252e+07\n",
       "6  OENSV -1.200000e+02 -1.200000e+02\n",
       "7  ONORE  2.350904e+06  2.015485e+06\n",
       "8  OUNIV  4.283761e+06  3.473767e+06"
      ]
     },
     "execution_count": 92,
     "metadata": {},
     "output_type": "execute_result"
    }
   ],
   "source": [
    "gb_a_config = gb_a.groupby(['config'], as_index=False).sum()\n",
    "gb_a_config"
   ]
  },
  {
   "cell_type": "markdown",
   "metadata": {},
   "source": [
    "### These 'OCONS', 'ONORE' and 'OUNIV' data types are not actual product config IDs so we have to get them from a different data file. We are excluding these types below."
   ]
  },
  {
   "cell_type": "code",
   "execution_count": 93,
   "metadata": {},
   "outputs": [],
   "source": [
    "config_list = ['1Y', '2Y', '3Y', 'MTHLY']\n",
    "test1 = gb_a[gb_a['config'].isin(config_list)]\n"
   ]
  },
  {
   "cell_type": "code",
   "execution_count": 94,
   "metadata": {},
   "outputs": [
    {
     "data": {
      "text/html": [
       "<div>\n",
       "<style scoped>\n",
       "    .dataframe tbody tr th:only-of-type {\n",
       "        vertical-align: middle;\n",
       "    }\n",
       "\n",
       "    .dataframe tbody tr th {\n",
       "        vertical-align: top;\n",
       "    }\n",
       "\n",
       "    .dataframe thead th {\n",
       "        text-align: right;\n",
       "    }\n",
       "</style>\n",
       "<table border=\"1\" class=\"dataframe\">\n",
       "  <thead>\n",
       "    <tr style=\"text-align: right;\">\n",
       "      <th></th>\n",
       "      <th>curr</th>\n",
       "      <th>BU</th>\n",
       "      <th>period</th>\n",
       "      <th>config</th>\n",
       "      <th>DC_amount</th>\n",
       "      <th>US_amount</th>\n",
       "    </tr>\n",
       "  </thead>\n",
       "  <tbody>\n",
       "    <tr>\n",
       "      <th>2400</th>\n",
       "      <td>GBP</td>\n",
       "      <td>Document Cloud</td>\n",
       "      <td>2020-02</td>\n",
       "      <td>1Y</td>\n",
       "      <td>1114507.98</td>\n",
       "      <td>1455902.46</td>\n",
       "    </tr>\n",
       "    <tr>\n",
       "      <th>3169</th>\n",
       "      <td>JPY</td>\n",
       "      <td>LiveCycle</td>\n",
       "      <td>2017-05</td>\n",
       "      <td>1Y</td>\n",
       "      <td>22323734.00</td>\n",
       "      <td>203249.56</td>\n",
       "    </tr>\n",
       "    <tr>\n",
       "      <th>1151</th>\n",
       "      <td>DKK</td>\n",
       "      <td>Creative</td>\n",
       "      <td>2016-09</td>\n",
       "      <td>MTHLY</td>\n",
       "      <td>-11470.57</td>\n",
       "      <td>-1719.26</td>\n",
       "    </tr>\n",
       "    <tr>\n",
       "      <th>2503</th>\n",
       "      <td>GBP</td>\n",
       "      <td>LiveCycle</td>\n",
       "      <td>2017-04</td>\n",
       "      <td>1Y</td>\n",
       "      <td>10427.45</td>\n",
       "      <td>12808.46</td>\n",
       "    </tr>\n",
       "    <tr>\n",
       "      <th>2842</th>\n",
       "      <td>JPY</td>\n",
       "      <td>Creative</td>\n",
       "      <td>2018-11</td>\n",
       "      <td>MTHLY</td>\n",
       "      <td>-2115492.00</td>\n",
       "      <td>-18838.98</td>\n",
       "    </tr>\n",
       "  </tbody>\n",
       "</table>\n",
       "</div>"
      ],
      "text/plain": [
       "     curr              BU   period config    DC_amount   US_amount\n",
       "2400  GBP  Document Cloud  2020-02     1Y   1114507.98  1455902.46\n",
       "3169  JPY       LiveCycle  2017-05     1Y  22323734.00   203249.56\n",
       "1151  DKK        Creative  2016-09  MTHLY    -11470.57    -1719.26\n",
       "2503  GBP       LiveCycle  2017-04     1Y     10427.45    12808.46\n",
       "2842  JPY        Creative  2018-11  MTHLY  -2115492.00   -18838.98"
      ]
     },
     "execution_count": 94,
     "metadata": {},
     "output_type": "execute_result"
    }
   ],
   "source": [
    "test1.sample(5)"
   ]
  },
  {
   "cell_type": "code",
   "execution_count": null,
   "metadata": {},
   "outputs": [],
   "source": []
  },
  {
   "cell_type": "markdown",
   "metadata": {},
   "source": [
    "## For now, lets just split this into gb_a_1Y, gb_a_2Y, gb_a_3y, gb_a_1M\n"
   ]
  },
  {
   "cell_type": "code",
   "execution_count": 95,
   "metadata": {},
   "outputs": [],
   "source": [
    "gb_a_1Y = test1[test1['config']=='1Y']\n",
    "gb_a_2Y = test1[test1['config']=='2Y']\n",
    "gb_a_3Y = test1[test1['config']=='3Y']\n",
    "gb_a_1M = test1[test1['config']=='MTHLY']"
   ]
  },
  {
   "cell_type": "code",
   "execution_count": 96,
   "metadata": {},
   "outputs": [
    {
     "name": "stdout",
     "output_type": "stream",
     "text": [
      "this is the lenght of type A 1M billings:  950\n",
      "this is the lenght of type A 1Y billings:  2418\n",
      "this is the lenght of type A 2Y billings:  875\n",
      "this is the lenght of type A 3Y billings:  101\n"
     ]
    }
   ],
   "source": [
    "print('this is the lenght of type A 1M billings: ', len(gb_a_1M))\n",
    "print('this is the lenght of type A 1Y billings: ', len(gb_a_1Y))\n",
    "print('this is the lenght of type A 2Y billings: ', len(gb_a_2Y))\n",
    "print('this is the lenght of type A 3Y billings: ', len(gb_a_3Y))"
   ]
  },
  {
   "cell_type": "markdown",
   "metadata": {},
   "source": [
    "# TYPE D billings\n",
    "These billings have a field 'Rule For Bill Date' that determines when new billings will occur\n",
    " - Monthly [Y1, Y2, Y3, Y5]\n",
    " - Quarterly [YQ]\n",
    " - Every 4 months [YT]\n",
    " - Semi-annual [YH]\n",
    " - Annual [YA, YC]\n",
    " - Every 2 years - [Y4]\n",
    " \n",
    " We also need to track the type D billings that do not have a 'Rule for Bill Date'"
   ]
  },
  {
   "cell_type": "code",
   "execution_count": 97,
   "metadata": {},
   "outputs": [],
   "source": [
    "# for now just do a groupby on the type\n",
    "# filtering just the type A billings\n",
    "dfr_d = dfr[dfr['rev_req_type']=='D']"
   ]
  },
  {
   "cell_type": "code",
   "execution_count": 98,
   "metadata": {},
   "outputs": [],
   "source": [
    "gb_d = dfr_d.groupby(['curr', 'BU', 'period',\n",
    "                     'rebill_rule'], as_index=False).sum()\n",
    "gb_d.drop(labels='Subscription Term', axis=1, inplace = True)"
   ]
  },
  {
   "cell_type": "code",
   "execution_count": 99,
   "metadata": {},
   "outputs": [],
   "source": [
    "gb_d_mthly = gb_d[gb_d['rebill_rule'].isin(['Y1', 'Y2', 'Y3', 'Y5'])]\n",
    "gb_d_qtrly = gb_d[gb_d['rebill_rule']=='YQ']\n",
    "gb_d_four_mths = gb_d[gb_d['rebill_rule']=='YT']\n",
    "gb_d_semi_ann = gb_d[gb_d['rebill_rule']=='YH']\n",
    "gb_d_annual = gb_d[gb_d['rebill_rule'].isin(['YA', 'YC'])]\n",
    "gb_d_two_yrs = gb_d[gb_d['rebill_rule']=='Y4']"
   ]
  },
  {
   "cell_type": "code",
   "execution_count": 100,
   "metadata": {},
   "outputs": [
    {
     "data": {
      "text/plain": [
       "YA    2952\n",
       "Y3    2375\n",
       "YQ     991\n",
       "YH     547\n",
       "Y1     491\n",
       "YC     490\n",
       "Y2     153\n",
       "Y4      57\n",
       "Y7      31\n",
       "YM      23\n",
       "YX      12\n",
       "YT      10\n",
       "YY      10\n",
       "Name: rebill_rule, dtype: int64"
      ]
     },
     "execution_count": 100,
     "metadata": {},
     "output_type": "execute_result"
    }
   ],
   "source": [
    "gb_d['rebill_rule'].value_counts()"
   ]
  },
  {
   "cell_type": "markdown",
   "metadata": {},
   "source": [
    "# Asking Michelle to follow up on the rebill rules I don't know here"
   ]
  },
  {
   "cell_type": "markdown",
   "metadata": {},
   "source": [
    "### Note: There is one type D billings that is listed as 'BT' I don't know what this means, but it was a $180 EUR payment from January 2017, so we will ignore"
   ]
  },
  {
   "cell_type": "code",
   "execution_count": 101,
   "metadata": {},
   "outputs": [
    {
     "data": {
      "text/html": [
       "<div>\n",
       "<style scoped>\n",
       "    .dataframe tbody tr th:only-of-type {\n",
       "        vertical-align: middle;\n",
       "    }\n",
       "\n",
       "    .dataframe tbody tr th {\n",
       "        vertical-align: top;\n",
       "    }\n",
       "\n",
       "    .dataframe thead th {\n",
       "        text-align: right;\n",
       "    }\n",
       "</style>\n",
       "<table border=\"1\" class=\"dataframe\">\n",
       "  <thead>\n",
       "    <tr style=\"text-align: right;\">\n",
       "      <th></th>\n",
       "      <th>curr</th>\n",
       "      <th>BU</th>\n",
       "      <th>period</th>\n",
       "      <th>rebill_rule</th>\n",
       "      <th>DC_amount</th>\n",
       "      <th>US_amount</th>\n",
       "    </tr>\n",
       "  </thead>\n",
       "  <tbody>\n",
       "    <tr>\n",
       "      <th>6985</th>\n",
       "      <td>USD</td>\n",
       "      <td>DX Other</td>\n",
       "      <td>2016-12</td>\n",
       "      <td>YT</td>\n",
       "      <td>13440.00</td>\n",
       "      <td>13440.00</td>\n",
       "    </tr>\n",
       "    <tr>\n",
       "      <th>6999</th>\n",
       "      <td>USD</td>\n",
       "      <td>DX Other</td>\n",
       "      <td>2017-04</td>\n",
       "      <td>YT</td>\n",
       "      <td>13440.00</td>\n",
       "      <td>13440.00</td>\n",
       "    </tr>\n",
       "    <tr>\n",
       "      <th>7011</th>\n",
       "      <td>USD</td>\n",
       "      <td>DX Other</td>\n",
       "      <td>2017-08</td>\n",
       "      <td>YT</td>\n",
       "      <td>13440.00</td>\n",
       "      <td>13440.00</td>\n",
       "    </tr>\n",
       "    <tr>\n",
       "      <th>7436</th>\n",
       "      <td>USD</td>\n",
       "      <td>Experience Cloud</td>\n",
       "      <td>2015-02</td>\n",
       "      <td>YT</td>\n",
       "      <td>612916.60</td>\n",
       "      <td>612916.60</td>\n",
       "    </tr>\n",
       "    <tr>\n",
       "      <th>7444</th>\n",
       "      <td>USD</td>\n",
       "      <td>Experience Cloud</td>\n",
       "      <td>2015-03</td>\n",
       "      <td>YT</td>\n",
       "      <td>698888.89</td>\n",
       "      <td>698888.89</td>\n",
       "    </tr>\n",
       "    <tr>\n",
       "      <th>7465</th>\n",
       "      <td>USD</td>\n",
       "      <td>Experience Cloud</td>\n",
       "      <td>2015-06</td>\n",
       "      <td>YT</td>\n",
       "      <td>11666.60</td>\n",
       "      <td>11666.60</td>\n",
       "    </tr>\n",
       "    <tr>\n",
       "      <th>7480</th>\n",
       "      <td>USD</td>\n",
       "      <td>Experience Cloud</td>\n",
       "      <td>2015-08</td>\n",
       "      <td>YT</td>\n",
       "      <td>549861.11</td>\n",
       "      <td>549861.11</td>\n",
       "    </tr>\n",
       "    <tr>\n",
       "      <th>7495</th>\n",
       "      <td>USD</td>\n",
       "      <td>Experience Cloud</td>\n",
       "      <td>2015-10</td>\n",
       "      <td>YT</td>\n",
       "      <td>11666.60</td>\n",
       "      <td>11666.60</td>\n",
       "    </tr>\n",
       "    <tr>\n",
       "      <th>7518</th>\n",
       "      <td>USD</td>\n",
       "      <td>Experience Cloud</td>\n",
       "      <td>2016-01</td>\n",
       "      <td>YT</td>\n",
       "      <td>612916.60</td>\n",
       "      <td>612916.60</td>\n",
       "    </tr>\n",
       "    <tr>\n",
       "      <th>7526</th>\n",
       "      <td>USD</td>\n",
       "      <td>Experience Cloud</td>\n",
       "      <td>2016-02</td>\n",
       "      <td>YT</td>\n",
       "      <td>-601250.00</td>\n",
       "      <td>-601250.00</td>\n",
       "    </tr>\n",
       "  </tbody>\n",
       "</table>\n",
       "</div>"
      ],
      "text/plain": [
       "     curr                BU   period rebill_rule  DC_amount  US_amount\n",
       "6985  USD          DX Other  2016-12          YT   13440.00   13440.00\n",
       "6999  USD          DX Other  2017-04          YT   13440.00   13440.00\n",
       "7011  USD          DX Other  2017-08          YT   13440.00   13440.00\n",
       "7436  USD  Experience Cloud  2015-02          YT  612916.60  612916.60\n",
       "7444  USD  Experience Cloud  2015-03          YT  698888.89  698888.89\n",
       "7465  USD  Experience Cloud  2015-06          YT   11666.60   11666.60\n",
       "7480  USD  Experience Cloud  2015-08          YT  549861.11  549861.11\n",
       "7495  USD  Experience Cloud  2015-10          YT   11666.60   11666.60\n",
       "7518  USD  Experience Cloud  2016-01          YT  612916.60  612916.60\n",
       "7526  USD  Experience Cloud  2016-02          YT -601250.00 -601250.00"
      ]
     },
     "execution_count": 101,
     "metadata": {},
     "output_type": "execute_result"
    }
   ],
   "source": [
    "what_is_YT = gb_d[gb_d['rebill_rule']=='YT']\n",
    "what_is_YT.head(10)"
   ]
  },
  {
   "cell_type": "markdown",
   "metadata": {},
   "source": [
    "## Note: There are only 8 payments (back from 2017) that paid on a 4 month basis. \n",
    "We will ignore these as well."
   ]
  },
  {
   "cell_type": "code",
   "execution_count": 102,
   "metadata": {},
   "outputs": [
    {
     "name": "stdout",
     "output_type": "stream",
     "text": [
      "Length of monthly 3019\n",
      "Length of quarterly 991\n",
      "Length of four months 10\n",
      "Length of semi ann 547\n",
      "Length of annual 3442\n",
      "Length of two years 57\n"
     ]
    }
   ],
   "source": [
    "print('Length of monthly', len(gb_d_mthly))\n",
    "print('Length of quarterly', len(gb_d_qtrly))\n",
    "print('Length of four months', len(gb_d_four_mths))\n",
    "print('Length of semi ann', len(gb_d_semi_ann))\n",
    "print('Length of annual', len(gb_d_annual))\n",
    "print('Length of two years', len(gb_d_two_yrs))"
   ]
  },
  {
   "cell_type": "code",
   "execution_count": null,
   "metadata": {},
   "outputs": [],
   "source": []
  },
  {
   "cell_type": "code",
   "execution_count": null,
   "metadata": {},
   "outputs": [],
   "source": []
  },
  {
   "cell_type": "markdown",
   "metadata": {},
   "source": [
    "## NOW WE NEED TO BUILD A DATAFRAME THAT INTEGRATES THIS DATA\n",
    "\n",
    "- We will have the following descriptive fields\n",
    "   - Invoicing Fiscal Year-Period\n",
    "   - Document Currency\n",
    "   - Enterprise BU\n",
    "\n",
    "- We will have the following fields based on rebilling rule\n",
    "   - Recognized\n",
    "   - Service\n",
    "   - Monthly\n",
    "   - Quarterly\n",
    "   - Annual\n",
    "   - Two Years\n",
    "   - Three Years"
   ]
  },
  {
   "cell_type": "code",
   "execution_count": 126,
   "metadata": {},
   "outputs": [],
   "source": [
    "# We need to do it this way when we get to a .py file!\n",
    "list_df = [gb_rec, gb_svc, gb_b,\n",
    "        gb_a_1M,    gb_a_1Y,    gb_a_2Y,       gb_a_3Y, \n",
    "        gb_d_mthly, gb_d_qtrly, gb_d_semi_ann, gb_d_annual, gb_d_two_yrs]\n",
    "\n",
    "list_columns = ['recognized', 'service', 'deferred_B', \n",
    "    'deferred_1M_a', 'deferred_1Y_a', 'deferred_2Y_a', 'deferred_3Y_a',\n",
    "    'deferred_1M_d', 'deferred_3M_d', 'deferred_6M_d', 'deferred_1Y_d', 'deferred_2Y_d']\n"
   ]
  },
  {
   "cell_type": "code",
   "execution_count": 127,
   "metadata": {},
   "outputs": [],
   "source": [
    "def merge_new_dataframe(old_df, new_df, new_column):\n",
    "    df_merged = pd.merge(old_df, new_df, how='outer', \n",
    "                     left_on=['curr', 'BU', 'period'],\n",
    "                    right_on=['curr', 'BU', 'period'])\n",
    "    df_merged.rename(index=str, columns={'DC_amount': new_column+'_DC', 'US_amount': new_column+'_US'}, inplace=True)\n",
    "    \n",
    "    #need to drop the product configtype id for merges where the new_df is of type A\n",
    "    config_str = 'config'\n",
    "    rule_str = 'rebill_rule'\n",
    "    if config_str in df_merged.columns:\n",
    "        df_merged.drop(columns=['config'], inplace=True)\n",
    "    \n",
    "    if rule_str in df_merged.columns:\n",
    "        df_merged.drop(columns=['rebill_rule'], inplace=True)\n",
    "        \n",
    "    return df_merged"
   ]
  },
  {
   "cell_type": "code",
   "execution_count": 128,
   "metadata": {},
   "outputs": [],
   "source": [
    "def merge_all_dataframes(list_df, list_columns):\n",
    "    for i, df in enumerate(list_df):\n",
    "        print('This is i:', i)\n",
    "        #print(\"This is the df: \", df.head())\n",
    "        print('referencing the column: ', list_columns[i])\n",
    "\n",
    "        if i==0:\n",
    "            df_merged = list_df[0].copy()\n",
    "            df_merged.rename(index=str, columns={'DC_amount': list_columns[i]+'_DC', \n",
    "                                                 'US_amount': list_columns[i]+'_US'}, inplace=True)\n",
    "        else:\n",
    "            df_merged = merge_new_dataframe(df_merged, df, list_columns[i])\n",
    "\n",
    "    return df_merged\n",
    "    "
   ]
  },
  {
   "cell_type": "code",
   "execution_count": 134,
   "metadata": {},
   "outputs": [],
   "source": [
    "def clean_df_columns(df):\n",
    "    \n",
    "    # clean up NaNs before adding \n",
    "    df = df.fillna(value=0)\n",
    "    \n",
    "    # DC columns first\n",
    "    # Monthly\n",
    "    df['deferred_1M_DC'] = df['deferred_1M_a_DC']+df['deferred_1M_d_DC']\n",
    "    df.drop(labels=['deferred_1M_a_DC', 'deferred_1M_d_DC'], axis=1, inplace=True)\n",
    "    \n",
    "    # Annual\n",
    "    df['deferred_1Y_DC'] = df['deferred_1Y_a_DC']+df['deferred_1Y_d_DC']\n",
    "    df.drop(labels=['deferred_1Y_a_DC', 'deferred_1Y_d_DC'], axis=1, inplace=True)\n",
    "    \n",
    "    # Two-Year\n",
    "    df['deferred_2Y_DC'] = df['deferred_2Y_a_DC']+df['deferred_2Y_d_DC']\n",
    "    df.drop(labels=['deferred_2Y_a_DC', 'deferred_2Y_d_DC'], axis=1, inplace=True)\n",
    "    \n",
    "    # renaming 3Y, 3M and 6M\n",
    "    df.rename(index=str, columns = {'deferred_3Y_a_DC':'deferred_3Y_DC', 'deferred_3M_d_DC':'deferred_3M_DC', \n",
    "                               'deferred_6M_d_DC': 'deferred_6M_DC'}, inplace=True)\n",
    "\n",
    "    # US columns\n",
    "    # Monthly\n",
    "    df['deferred_1M_US'] = df['deferred_1M_a_US']+df['deferred_1M_d_US']\n",
    "    df.drop(labels=['deferred_1M_a_US', 'deferred_1M_d_US'], axis=1, inplace=True)\n",
    "    \n",
    "    # Annual\n",
    "    df['deferred_1Y_US'] = df['deferred_1Y_a_US']+df['deferred_1Y_d_US']\n",
    "    df.drop(labels=['deferred_1Y_a_US', 'deferred_1Y_d_US'], axis=1, inplace=True)\n",
    "    \n",
    "    # Two-Year\n",
    "    df['deferred_2Y_US'] = df['deferred_2Y_a_US']+df['deferred_2Y_d_US']\n",
    "    df.drop(labels=['deferred_2Y_a_US', 'deferred_2Y_d_US'], axis=1, inplace=True)\n",
    "    \n",
    "    # renaming 3Y, 3M and 6M\n",
    "    df.rename(index=str, columns = {'deferred_3Y_a_US':'deferred_3Y_US', 'deferred_3M_d_US':'deferred_3M_US', \n",
    "                               'deferred_6M_d_US': 'deferred_6M_US'}, inplace=True)\n",
    "\n",
    "    \n",
    "    #cleaning up the longer column names\n",
    "    df.rename(index=str, columns = {'curr': 'curr',\n",
    "                               'BU':'BU',\n",
    "                               'period':'period'}, inplace=True)\n",
    "    \n",
    "    return df"
   ]
  },
  {
   "cell_type": "code",
   "execution_count": 129,
   "metadata": {},
   "outputs": [
    {
     "name": "stdout",
     "output_type": "stream",
     "text": [
      "This is i: 0\n",
      "referencing the column:  recognized\n",
      "This is i: 1\n",
      "referencing the column:  service\n",
      "This is i: 2\n",
      "referencing the column:  deferred_B\n",
      "This is i: 3\n",
      "referencing the column:  deferred_1M_a\n",
      "This is i: 4\n",
      "referencing the column:  deferred_1Y_a\n",
      "This is i: 5\n",
      "referencing the column:  deferred_2Y_a\n",
      "This is i: 6\n",
      "referencing the column:  deferred_3Y_a\n",
      "This is i: 7\n",
      "referencing the column:  deferred_1M_d\n",
      "This is i: 8\n",
      "referencing the column:  deferred_3M_d\n",
      "This is i: 9\n",
      "referencing the column:  deferred_6M_d\n",
      "This is i: 10\n",
      "referencing the column:  deferred_1Y_d\n",
      "This is i: 11\n",
      "referencing the column:  deferred_2Y_d\n"
     ]
    }
   ],
   "source": [
    "df = merge_all_dataframes(list_df, list_columns)"
   ]
  },
  {
   "cell_type": "code",
   "execution_count": 135,
   "metadata": {},
   "outputs": [],
   "source": [
    "df = clean_df_columns(df)"
   ]
  },
  {
   "cell_type": "code",
   "execution_count": 136,
   "metadata": {},
   "outputs": [
    {
     "data": {
      "text/html": [
       "<div>\n",
       "<style scoped>\n",
       "    .dataframe tbody tr th:only-of-type {\n",
       "        vertical-align: middle;\n",
       "    }\n",
       "\n",
       "    .dataframe tbody tr th {\n",
       "        vertical-align: top;\n",
       "    }\n",
       "\n",
       "    .dataframe thead th {\n",
       "        text-align: right;\n",
       "    }\n",
       "</style>\n",
       "<table border=\"1\" class=\"dataframe\">\n",
       "  <thead>\n",
       "    <tr style=\"text-align: right;\">\n",
       "      <th></th>\n",
       "      <th>curr</th>\n",
       "      <th>BU</th>\n",
       "      <th>period</th>\n",
       "      <th>recognized_DC</th>\n",
       "      <th>recognized_US</th>\n",
       "      <th>service_DC</th>\n",
       "      <th>service_US</th>\n",
       "      <th>deferred_B_DC</th>\n",
       "      <th>deferred_B_US</th>\n",
       "      <th>deferred_3Y_DC</th>\n",
       "      <th>...</th>\n",
       "      <th>deferred_3M_DC</th>\n",
       "      <th>deferred_3M_US</th>\n",
       "      <th>deferred_6M_DC</th>\n",
       "      <th>deferred_6M_US</th>\n",
       "      <th>deferred_1M_DC</th>\n",
       "      <th>deferred_1Y_DC</th>\n",
       "      <th>deferred_2Y_DC</th>\n",
       "      <th>deferred_1M_US</th>\n",
       "      <th>deferred_1Y_US</th>\n",
       "      <th>deferred_2Y_US</th>\n",
       "    </tr>\n",
       "  </thead>\n",
       "  <tbody>\n",
       "    <tr>\n",
       "      <th>2814</th>\n",
       "      <td>NOK</td>\n",
       "      <td>Creative</td>\n",
       "      <td>2018-12</td>\n",
       "      <td>204928.00</td>\n",
       "      <td>24343.52</td>\n",
       "      <td>0.00</td>\n",
       "      <td>0.00</td>\n",
       "      <td>0.00</td>\n",
       "      <td>0.00</td>\n",
       "      <td>0.0</td>\n",
       "      <td>...</td>\n",
       "      <td>0.00</td>\n",
       "      <td>0.00</td>\n",
       "      <td>0.00</td>\n",
       "      <td>0.00</td>\n",
       "      <td>16932131.76</td>\n",
       "      <td>6870577.67</td>\n",
       "      <td>0.00</td>\n",
       "      <td>2007555.88</td>\n",
       "      <td>812401.82</td>\n",
       "      <td>0.00</td>\n",
       "    </tr>\n",
       "    <tr>\n",
       "      <th>4664</th>\n",
       "      <td>CAD</td>\n",
       "      <td>Creative</td>\n",
       "      <td>2017-12</td>\n",
       "      <td>0.00</td>\n",
       "      <td>0.00</td>\n",
       "      <td>0.00</td>\n",
       "      <td>0.00</td>\n",
       "      <td>0.00</td>\n",
       "      <td>0.00</td>\n",
       "      <td>0.0</td>\n",
       "      <td>...</td>\n",
       "      <td>0.00</td>\n",
       "      <td>0.00</td>\n",
       "      <td>0.00</td>\n",
       "      <td>0.00</td>\n",
       "      <td>0.00</td>\n",
       "      <td>2702101.83</td>\n",
       "      <td>0.00</td>\n",
       "      <td>0.00</td>\n",
       "      <td>2120443.17</td>\n",
       "      <td>0.00</td>\n",
       "    </tr>\n",
       "    <tr>\n",
       "      <th>4383</th>\n",
       "      <td>USD</td>\n",
       "      <td>Other Solutions</td>\n",
       "      <td>2016-10</td>\n",
       "      <td>-2939.89</td>\n",
       "      <td>-2939.89</td>\n",
       "      <td>0.00</td>\n",
       "      <td>0.00</td>\n",
       "      <td>0.00</td>\n",
       "      <td>0.00</td>\n",
       "      <td>0.0</td>\n",
       "      <td>...</td>\n",
       "      <td>0.00</td>\n",
       "      <td>0.00</td>\n",
       "      <td>0.00</td>\n",
       "      <td>0.00</td>\n",
       "      <td>0.00</td>\n",
       "      <td>0.00</td>\n",
       "      <td>0.00</td>\n",
       "      <td>0.00</td>\n",
       "      <td>0.00</td>\n",
       "      <td>0.00</td>\n",
       "    </tr>\n",
       "    <tr>\n",
       "      <th>2922</th>\n",
       "      <td>NOK</td>\n",
       "      <td>Experience Cloud</td>\n",
       "      <td>2017-09</td>\n",
       "      <td>133897.09</td>\n",
       "      <td>16850.76</td>\n",
       "      <td>128073.50</td>\n",
       "      <td>16308.88</td>\n",
       "      <td>0.00</td>\n",
       "      <td>0.00</td>\n",
       "      <td>0.0</td>\n",
       "      <td>...</td>\n",
       "      <td>1752617.50</td>\n",
       "      <td>221544.18</td>\n",
       "      <td>0.00</td>\n",
       "      <td>0.00</td>\n",
       "      <td>0.00</td>\n",
       "      <td>800202.00</td>\n",
       "      <td>0.00</td>\n",
       "      <td>0.00</td>\n",
       "      <td>100729.43</td>\n",
       "      <td>0.00</td>\n",
       "    </tr>\n",
       "    <tr>\n",
       "      <th>3351</th>\n",
       "      <td>SEK</td>\n",
       "      <td>Other Solutions</td>\n",
       "      <td>2017-07</td>\n",
       "      <td>-465.66</td>\n",
       "      <td>-53.61</td>\n",
       "      <td>0.00</td>\n",
       "      <td>0.00</td>\n",
       "      <td>0.00</td>\n",
       "      <td>0.00</td>\n",
       "      <td>0.0</td>\n",
       "      <td>...</td>\n",
       "      <td>0.00</td>\n",
       "      <td>0.00</td>\n",
       "      <td>0.00</td>\n",
       "      <td>0.00</td>\n",
       "      <td>0.00</td>\n",
       "      <td>0.00</td>\n",
       "      <td>0.00</td>\n",
       "      <td>0.00</td>\n",
       "      <td>0.00</td>\n",
       "      <td>0.00</td>\n",
       "    </tr>\n",
       "    <tr>\n",
       "      <th>3492</th>\n",
       "      <td>USD</td>\n",
       "      <td>Creative</td>\n",
       "      <td>2015-06</td>\n",
       "      <td>31105538.88</td>\n",
       "      <td>31105538.88</td>\n",
       "      <td>179021.88</td>\n",
       "      <td>179021.88</td>\n",
       "      <td>17700.16</td>\n",
       "      <td>17700.16</td>\n",
       "      <td>0.0</td>\n",
       "      <td>...</td>\n",
       "      <td>714356.34</td>\n",
       "      <td>714356.34</td>\n",
       "      <td>92888.32</td>\n",
       "      <td>92888.32</td>\n",
       "      <td>297417.73</td>\n",
       "      <td>54049378.76</td>\n",
       "      <td>132701.06</td>\n",
       "      <td>297417.73</td>\n",
       "      <td>53771030.56</td>\n",
       "      <td>132701.06</td>\n",
       "    </tr>\n",
       "    <tr>\n",
       "      <th>3551</th>\n",
       "      <td>USD</td>\n",
       "      <td>Creative</td>\n",
       "      <td>2016-06</td>\n",
       "      <td>11055078.61</td>\n",
       "      <td>11055078.61</td>\n",
       "      <td>10125.00</td>\n",
       "      <td>10125.00</td>\n",
       "      <td>-29690.00</td>\n",
       "      <td>-29690.00</td>\n",
       "      <td>0.0</td>\n",
       "      <td>...</td>\n",
       "      <td>672870.27</td>\n",
       "      <td>672870.27</td>\n",
       "      <td>218150.47</td>\n",
       "      <td>218150.47</td>\n",
       "      <td>561926.46</td>\n",
       "      <td>77943969.56</td>\n",
       "      <td>97736.20</td>\n",
       "      <td>561926.46</td>\n",
       "      <td>76318051.66</td>\n",
       "      <td>97736.20</td>\n",
       "    </tr>\n",
       "    <tr>\n",
       "      <th>555</th>\n",
       "      <td>CAD</td>\n",
       "      <td>LiveCycle</td>\n",
       "      <td>2017-10</td>\n",
       "      <td>961.35</td>\n",
       "      <td>781.84</td>\n",
       "      <td>0.00</td>\n",
       "      <td>0.00</td>\n",
       "      <td>0.00</td>\n",
       "      <td>0.00</td>\n",
       "      <td>0.0</td>\n",
       "      <td>...</td>\n",
       "      <td>0.00</td>\n",
       "      <td>0.00</td>\n",
       "      <td>0.00</td>\n",
       "      <td>0.00</td>\n",
       "      <td>0.00</td>\n",
       "      <td>0.00</td>\n",
       "      <td>0.00</td>\n",
       "      <td>0.00</td>\n",
       "      <td>0.00</td>\n",
       "      <td>0.00</td>\n",
       "    </tr>\n",
       "    <tr>\n",
       "      <th>70</th>\n",
       "      <td>AUD</td>\n",
       "      <td>Creative</td>\n",
       "      <td>2019-03</td>\n",
       "      <td>164031.92</td>\n",
       "      <td>117030.66</td>\n",
       "      <td>0.00</td>\n",
       "      <td>0.00</td>\n",
       "      <td>0.00</td>\n",
       "      <td>0.00</td>\n",
       "      <td>0.0</td>\n",
       "      <td>...</td>\n",
       "      <td>0.00</td>\n",
       "      <td>0.00</td>\n",
       "      <td>0.00</td>\n",
       "      <td>0.00</td>\n",
       "      <td>19522071.17</td>\n",
       "      <td>12720059.66</td>\n",
       "      <td>12.00</td>\n",
       "      <td>13954587.91</td>\n",
       "      <td>9049823.90</td>\n",
       "      <td>8.57</td>\n",
       "    </tr>\n",
       "    <tr>\n",
       "      <th>5134</th>\n",
       "      <td>THB</td>\n",
       "      <td>Document Cloud</td>\n",
       "      <td>2019-10</td>\n",
       "      <td>0.00</td>\n",
       "      <td>0.00</td>\n",
       "      <td>0.00</td>\n",
       "      <td>0.00</td>\n",
       "      <td>0.00</td>\n",
       "      <td>0.00</td>\n",
       "      <td>0.0</td>\n",
       "      <td>...</td>\n",
       "      <td>0.00</td>\n",
       "      <td>0.00</td>\n",
       "      <td>0.00</td>\n",
       "      <td>0.00</td>\n",
       "      <td>23123.00</td>\n",
       "      <td>81451.00</td>\n",
       "      <td>0.00</td>\n",
       "      <td>756.36</td>\n",
       "      <td>2663.51</td>\n",
       "      <td>0.00</td>\n",
       "    </tr>\n",
       "  </tbody>\n",
       "</table>\n",
       "<p>10 rows × 21 columns</p>\n",
       "</div>"
      ],
      "text/plain": [
       "     curr                BU   period  recognized_DC  recognized_US  \\\n",
       "2814  NOK          Creative  2018-12      204928.00       24343.52   \n",
       "4664  CAD          Creative  2017-12           0.00           0.00   \n",
       "4383  USD   Other Solutions  2016-10       -2939.89       -2939.89   \n",
       "2922  NOK  Experience Cloud  2017-09      133897.09       16850.76   \n",
       "3351  SEK   Other Solutions  2017-07        -465.66         -53.61   \n",
       "3492  USD          Creative  2015-06    31105538.88    31105538.88   \n",
       "3551  USD          Creative  2016-06    11055078.61    11055078.61   \n",
       "555   CAD         LiveCycle  2017-10         961.35         781.84   \n",
       "70    AUD          Creative  2019-03      164031.92      117030.66   \n",
       "5134  THB    Document Cloud  2019-10           0.00           0.00   \n",
       "\n",
       "      service_DC  service_US  deferred_B_DC  deferred_B_US  deferred_3Y_DC  \\\n",
       "2814        0.00        0.00           0.00           0.00             0.0   \n",
       "4664        0.00        0.00           0.00           0.00             0.0   \n",
       "4383        0.00        0.00           0.00           0.00             0.0   \n",
       "2922   128073.50    16308.88           0.00           0.00             0.0   \n",
       "3351        0.00        0.00           0.00           0.00             0.0   \n",
       "3492   179021.88   179021.88       17700.16       17700.16             0.0   \n",
       "3551    10125.00    10125.00      -29690.00      -29690.00             0.0   \n",
       "555         0.00        0.00           0.00           0.00             0.0   \n",
       "70          0.00        0.00           0.00           0.00             0.0   \n",
       "5134        0.00        0.00           0.00           0.00             0.0   \n",
       "\n",
       "      ...  deferred_3M_DC  deferred_3M_US  deferred_6M_DC  deferred_6M_US  \\\n",
       "2814  ...            0.00            0.00            0.00            0.00   \n",
       "4664  ...            0.00            0.00            0.00            0.00   \n",
       "4383  ...            0.00            0.00            0.00            0.00   \n",
       "2922  ...      1752617.50       221544.18            0.00            0.00   \n",
       "3351  ...            0.00            0.00            0.00            0.00   \n",
       "3492  ...       714356.34       714356.34        92888.32        92888.32   \n",
       "3551  ...       672870.27       672870.27       218150.47       218150.47   \n",
       "555   ...            0.00            0.00            0.00            0.00   \n",
       "70    ...            0.00            0.00            0.00            0.00   \n",
       "5134  ...            0.00            0.00            0.00            0.00   \n",
       "\n",
       "      deferred_1M_DC  deferred_1Y_DC  deferred_2Y_DC  deferred_1M_US  \\\n",
       "2814     16932131.76      6870577.67            0.00      2007555.88   \n",
       "4664            0.00      2702101.83            0.00            0.00   \n",
       "4383            0.00            0.00            0.00            0.00   \n",
       "2922            0.00       800202.00            0.00            0.00   \n",
       "3351            0.00            0.00            0.00            0.00   \n",
       "3492       297417.73     54049378.76       132701.06       297417.73   \n",
       "3551       561926.46     77943969.56        97736.20       561926.46   \n",
       "555             0.00            0.00            0.00            0.00   \n",
       "70       19522071.17     12720059.66           12.00     13954587.91   \n",
       "5134        23123.00        81451.00            0.00          756.36   \n",
       "\n",
       "      deferred_1Y_US  deferred_2Y_US  \n",
       "2814       812401.82            0.00  \n",
       "4664      2120443.17            0.00  \n",
       "4383            0.00            0.00  \n",
       "2922       100729.43            0.00  \n",
       "3351            0.00            0.00  \n",
       "3492     53771030.56       132701.06  \n",
       "3551     76318051.66        97736.20  \n",
       "555             0.00            0.00  \n",
       "70        9049823.90            8.57  \n",
       "5134         2663.51            0.00  \n",
       "\n",
       "[10 rows x 21 columns]"
      ]
     },
     "execution_count": 136,
     "metadata": {},
     "output_type": "execute_result"
    }
   ],
   "source": [
    "df.sample(10)"
   ]
  },
  {
   "cell_type": "code",
   "execution_count": 137,
   "metadata": {},
   "outputs": [
    {
     "data": {
      "text/plain": [
       "Index(['curr', 'BU', 'period', 'recognized_DC', 'recognized_US', 'service_DC',\n",
       "       'service_US', 'deferred_B_DC', 'deferred_B_US', 'deferred_3Y_DC',\n",
       "       'deferred_3Y_US', 'deferred_3M_DC', 'deferred_3M_US', 'deferred_6M_DC',\n",
       "       'deferred_6M_US', 'deferred_1M_DC', 'deferred_1Y_DC', 'deferred_2Y_DC',\n",
       "       'deferred_1M_US', 'deferred_1Y_US', 'deferred_2Y_US'],\n",
       "      dtype='object')"
      ]
     },
     "execution_count": 137,
     "metadata": {},
     "output_type": "execute_result"
    }
   ],
   "source": [
    "df.columns\n"
   ]
  },
  {
   "cell_type": "code",
   "execution_count": null,
   "metadata": {},
   "outputs": [],
   "source": [
    "# Make this a function to be cleaned up somehow\n",
    "del dfr\n",
    "del dfr_a\n",
    "del dfr_b\n",
    "del dfr_d\n",
    "del gb_a\n",
    "del gb_a_1M\n",
    "del gb_a_1Y\n",
    "del gb_a_2Y\n",
    "del gb_a_3Y\n",
    "del gb_b, \n",
    "del gb_d\n",
    "del gb_svc, gb_rec, gb_d_two_yrs\n",
    "del gb_d_four_mths, gb_d_qtrly, gb_d_semi_ann\n"
   ]
  },
  {
   "cell_type": "code",
   "execution_count": null,
   "metadata": {},
   "outputs": [],
   "source": [
    "df.head(20)"
   ]
  },
  {
   "cell_type": "code",
   "execution_count": null,
   "metadata": {},
   "outputs": [],
   "source": []
  },
  {
   "cell_type": "code",
   "execution_count": null,
   "metadata": {},
   "outputs": [],
   "source": [
    "gb_rec"
   ]
  },
  {
   "cell_type": "code",
   "execution_count": null,
   "metadata": {},
   "outputs": [],
   "source": []
  },
  {
   "cell_type": "code",
   "execution_count": null,
   "metadata": {},
   "outputs": [],
   "source": []
  },
  {
   "cell_type": "code",
   "execution_count": null,
   "metadata": {},
   "outputs": [],
   "source": [
    "whos"
   ]
  },
  {
   "cell_type": "code",
   "execution_count": null,
   "metadata": {},
   "outputs": [],
   "source": []
  },
  {
   "cell_type": "code",
   "execution_count": null,
   "metadata": {},
   "outputs": [],
   "source": []
  },
  {
   "cell_type": "code",
   "execution_count": null,
   "metadata": {},
   "outputs": [],
   "source": []
  },
  {
   "cell_type": "code",
   "execution_count": null,
   "metadata": {},
   "outputs": [],
   "source": []
  },
  {
   "cell_type": "code",
   "execution_count": null,
   "metadata": {},
   "outputs": [],
   "source": []
  },
  {
   "cell_type": "markdown",
   "metadata": {},
   "source": [
    "# Now working on the ZCC billings\n",
    "\n",
    "These billings are type D billings that did not populate the rebill_rule field of the database.\n",
    "\n",
    "They have a 'sales document type' = 'ZCC\"\n",
    "\n",
    "The billings themselves are being created from a tableau report that looks for additions to the deferred revenue waterfall based on billings of type D and have a sales document type of ZCC"
   ]
  },
  {
   "cell_type": "code",
   "execution_count": null,
   "metadata": {},
   "outputs": [],
   "source": [
    "whos"
   ]
  },
  {
   "cell_type": "code",
   "execution_count": null,
   "metadata": {},
   "outputs": [],
   "source": [
    "df.sample(10)"
   ]
  },
  {
   "cell_type": "markdown",
   "metadata": {},
   "source": [
    "# TO BE DONE:\n",
    "\n",
    "1. Clean up the type F billings (at least check to see if they are necessary)\n",
    "2. Make a function to delete all intermediate dataframes\n",
    "3. Add type A no config function\n",
    "4. Add type D ZCC billings\n",
    "\n",
    "5. Work on the forecast part of this\n",
    "\n",
    "6. Load up FX rates"
   ]
  },
  {
   "cell_type": "code",
   "execution_count": null,
   "metadata": {},
   "outputs": [],
   "source": [
    "# Adobe financial calendar\n",
    "df_cal = pd.read_excel('../data/old/ADOBE_FINANCIAL_CALENDAR.xlsx', 'ADBE_cal')"
   ]
  },
  {
   "cell_type": "code",
   "execution_count": null,
   "metadata": {},
   "outputs": [],
   "source": [
    "df_cal.head()"
   ]
  },
  {
   "cell_type": "markdown",
   "metadata": {},
   "source": [
    "## Working on Type A billings with no configuration\n",
    "\n",
    " - this is included in the all_billings_inputs file on the 'type_A_no_config' sheet"
   ]
  },
  {
   "cell_type": "code",
   "execution_count": null,
   "metadata": {},
   "outputs": [],
   "source": []
  },
  {
   "cell_type": "code",
   "execution_count": null,
   "metadata": {},
   "outputs": [],
   "source": []
  },
  {
   "cell_type": "code",
   "execution_count": null,
   "metadata": {},
   "outputs": [],
   "source": []
  },
  {
   "cell_type": "code",
   "execution_count": null,
   "metadata": {},
   "outputs": [],
   "source": []
  },
  {
   "cell_type": "code",
   "execution_count": null,
   "metadata": {},
   "outputs": [],
   "source": []
  },
  {
   "cell_type": "code",
   "execution_count": null,
   "metadata": {},
   "outputs": [],
   "source": []
  },
  {
   "cell_type": "code",
   "execution_count": null,
   "metadata": {},
   "outputs": [],
   "source": []
  },
  {
   "cell_type": "code",
   "execution_count": null,
   "metadata": {},
   "outputs": [],
   "source": []
  },
  {
   "cell_type": "code",
   "execution_count": null,
   "metadata": {},
   "outputs": [],
   "source": []
  },
  {
   "cell_type": "code",
   "execution_count": null,
   "metadata": {},
   "outputs": [],
   "source": []
  },
  {
   "cell_type": "code",
   "execution_count": null,
   "metadata": {},
   "outputs": [],
   "source": []
  },
  {
   "cell_type": "code",
   "execution_count": null,
   "metadata": {},
   "outputs": [],
   "source": []
  },
  {
   "cell_type": "code",
   "execution_count": null,
   "metadata": {},
   "outputs": [],
   "source": []
  },
  {
   "cell_type": "code",
   "execution_count": null,
   "metadata": {},
   "outputs": [],
   "source": []
  },
  {
   "cell_type": "code",
   "execution_count": null,
   "metadata": {},
   "outputs": [],
   "source": []
  },
  {
   "cell_type": "code",
   "execution_count": null,
   "metadata": {},
   "outputs": [],
   "source": []
  },
  {
   "cell_type": "code",
   "execution_count": null,
   "metadata": {},
   "outputs": [],
   "source": []
  },
  {
   "cell_type": "code",
   "execution_count": null,
   "metadata": {},
   "outputs": [],
   "source": []
  },
  {
   "cell_type": "code",
   "execution_count": null,
   "metadata": {},
   "outputs": [],
   "source": []
  },
  {
   "cell_type": "code",
   "execution_count": null,
   "metadata": {},
   "outputs": [],
   "source": []
  },
  {
   "cell_type": "code",
   "execution_count": null,
   "metadata": {},
   "outputs": [],
   "source": []
  },
  {
   "cell_type": "code",
   "execution_count": null,
   "metadata": {},
   "outputs": [],
   "source": []
  },
  {
   "cell_type": "markdown",
   "metadata": {},
   "source": [
    "## ZCC Billings have been included in the base billings file"
   ]
  },
  {
   "cell_type": "code",
   "execution_count": null,
   "metadata": {},
   "outputs": [],
   "source": [
    "df_ZCC = pd.read_excel('../data/all_billings_inputs.xlsx', sheet_name='type_A_no_config')"
   ]
  },
  {
   "cell_type": "code",
   "execution_count": null,
   "metadata": {},
   "outputs": [],
   "source": [
    "\n",
    "# clean up NaNs before adding \n",
    "test_merge = test_merge.fillna(value=0)\n",
    "\n",
    "# Monthly\n",
    "test_merge['deferred_1M'] = test_merge['deferred_1M_x']+test_merge['deferred_1M_y']\n",
    "test_merge.drop(labels=['deferred_1M_x', 'deferred_1M_x'], axis=1, inplace=True)\n",
    "\n",
    "# Quarterly\n",
    "test_merge['deferred_3M'] = test_merge['deferred_3M_x']+test_merge['deferred_3M_y']\n",
    "test_merge.drop(labels=['deferred_3M_x', 'deferred_3M_y'], axis=1, inplace=True)\n",
    "\n",
    "# Semi-Annual\n",
    "test_merge['deferred_6M'] = test_merge['deferred_6M_x']+test_merge['deferred_6M_y']\n",
    "test_merge.drop(labels=['deferred_6M_x', 'deferred_6M_y'], axis=1, inplace=True)\n",
    "\n",
    "# Annual\n",
    "test_merge['deferred_1Y'] = test_merge['deferred_1Y_x']+test_merge['deferred_1Y_y']\n",
    "test_merge.drop(labels=['deferred_1Y_x', 'deferred_1Y_y'], axis=1, inplace=True)\n",
    "\n",
    "# 2-Years\n",
    "test_merge['deferred_2Y'] = test_merge['deferred_2Y_x']+test_merge['deferred_2Y_y']\n",
    "test_merge.drop(labels=['deferred_2Y_x', 'deferred_2Y_y'], axis=1, inplace=True)\n",
    "\n",
    "\n",
    "\n"
   ]
  },
  {
   "cell_type": "code",
   "execution_count": null,
   "metadata": {},
   "outputs": [],
   "source": [
    "test_merge.columns"
   ]
  },
  {
   "cell_type": "code",
   "execution_count": null,
   "metadata": {},
   "outputs": [],
   "source": [
    "test_merge.sample(20)"
   ]
  },
  {
   "cell_type": "code",
   "execution_count": null,
   "metadata": {},
   "outputs": [],
   "source": [
    "## Looks like the type ZCC billings are complete"
   ]
  },
  {
   "cell_type": "code",
   "execution_count": null,
   "metadata": {},
   "outputs": [],
   "source": [
    "# renaming the main dataframe as df\n",
    "df = test_merge.copy()"
   ]
  },
  {
   "cell_type": "markdown",
   "metadata": {},
   "source": [
    "# Type A No Config Type Billings\n",
    "\n",
    "This file contains type A billings that have a revenue contract start date and end date. We need to map these into the terms of our dataframe.\n",
    "\n",
    "### Steps:\n",
    "1. Rename the columns\n",
    "2. This file has entries for pennies. Need to clear out anything less than $10 in absolute value\n",
    "3. Determine the length of time between start date and end date\n",
    "4. Group this dataframe by currency, period and BU\n",
    "5. Merge this final dataframe with the larger dataframe\n",
    "\n",
    "## NOTE: This file contains two different start date and end date columns. We need to look at all of them"
   ]
  },
  {
   "cell_type": "code",
   "execution_count": null,
   "metadata": {},
   "outputs": [],
   "source": [
    "df_A = pd.read_excel('../data/old/type_A_no_config.xlsx', 'DC')"
   ]
  },
  {
   "cell_type": "code",
   "execution_count": null,
   "metadata": {},
   "outputs": [],
   "source": [
    "df_A.sample(10)"
   ]
  },
  {
   "cell_type": "code",
   "execution_count": null,
   "metadata": {},
   "outputs": [],
   "source": [
    "df_A.columns"
   ]
  },
  {
   "cell_type": "code",
   "execution_count": null,
   "metadata": {},
   "outputs": [],
   "source": [
    "df_A.rename(index=str, columns={'Document Currency':'currency', \n",
    "                               'Enterprise Bu':'BU',\n",
    "                               'Invoicing Fiscal Year-Period Desc':'period',\n",
    "                               'Rev Rec Contract End Date Hdr':'end_date_1',\n",
    "                               'Rev Rec Contract End Date Item':'end_date_2',\n",
    "                               'Rev Rec Contract Start Date Hdr': 'start_date_1',\n",
    "                               'Rev Rec Contract Start Date Item': 'start_date_2',\n",
    "                               'Completed Sales Doc Currency':'amount'}, inplace=True)\n",
    "\n",
    "df_A.drop(columns='Product Configtype ID', inplace=True)"
   ]
  },
  {
   "cell_type": "code",
   "execution_count": null,
   "metadata": {},
   "outputs": [],
   "source": [
    "df_A.columns"
   ]
  },
  {
   "cell_type": "markdown",
   "metadata": {},
   "source": [
    "### Dealing with the duplicate dates by taking a max"
   ]
  },
  {
   "cell_type": "code",
   "execution_count": null,
   "metadata": {},
   "outputs": [],
   "source": [
    "df_A.head()"
   ]
  },
  {
   "cell_type": "code",
   "execution_count": null,
   "metadata": {},
   "outputs": [],
   "source": [
    "df_A['start_date_str'] = df_A[['start_date_1','start_date_2']].max(axis=1).astype(int).astype(str)\n",
    "df_A['end_date_str'] = df_A[['end_date_1','end_date_2']].max(axis=1).astype(int).astype(str)"
   ]
  },
  {
   "cell_type": "code",
   "execution_count": null,
   "metadata": {},
   "outputs": [],
   "source": [
    "df_A.sample(10)"
   ]
  },
  {
   "cell_type": "code",
   "execution_count": null,
   "metadata": {},
   "outputs": [],
   "source": [
    "df_A['start_date'] = pd.to_datetime(df_A['start_date_str'])\n",
    "df_A['end_date'] = pd.to_datetime(df_A['end_date_str'])"
   ]
  },
  {
   "cell_type": "code",
   "execution_count": null,
   "metadata": {},
   "outputs": [],
   "source": [
    "df_A.drop(labels=['end_date_1', 'end_date_2', 'start_date_1', 'start_date_2',\n",
    "                  'start_date_str', 'end_date_str'], axis=1, inplace=True)"
   ]
  },
  {
   "cell_type": "code",
   "execution_count": null,
   "metadata": {},
   "outputs": [],
   "source": []
  },
  {
   "cell_type": "code",
   "execution_count": null,
   "metadata": {},
   "outputs": [],
   "source": [
    "df_A['month_interval']=(df_A['end_date']-df_A['start_date'])"
   ]
  },
  {
   "cell_type": "code",
   "execution_count": null,
   "metadata": {},
   "outputs": [],
   "source": [
    "df_A.sample(10)"
   ]
  },
  {
   "cell_type": "code",
   "execution_count": null,
   "metadata": {},
   "outputs": [],
   "source": [
    "df_A['months']= (df_A['month_interval']/ np.timedelta64(1,'M')).round(0)"
   ]
  },
  {
   "cell_type": "code",
   "execution_count": null,
   "metadata": {},
   "outputs": [],
   "source": []
  },
  {
   "cell_type": "markdown",
   "metadata": {},
   "source": [
    "### Now I need to map the months into the different integers in my dataframe\n"
   ]
  },
  {
   "cell_type": "code",
   "execution_count": null,
   "metadata": {},
   "outputs": [],
   "source": [
    "list_rebills = [1, 3, 6, 12, 24, 36]\n",
    "temp_rebill = np.zeros_like(df_A['months'])\n",
    "for i in range(len(df_A)):\n",
    "    temp_rebill[i] = min(list_rebills, key=lambda x:abs(x-df_A['months'][i]))\n",
    "df_A['rebill_months']=temp_rebill\n"
   ]
  },
  {
   "cell_type": "code",
   "execution_count": null,
   "metadata": {},
   "outputs": [],
   "source": [
    "df_A.sample(10)"
   ]
  },
  {
   "cell_type": "code",
   "execution_count": null,
   "metadata": {},
   "outputs": [],
   "source": [
    "plt.scatter(df_A['months'], df_A['rebill_months'])"
   ]
  },
  {
   "cell_type": "markdown",
   "metadata": {},
   "source": [
    "## Grouping the dataframe by rebill_months"
   ]
  },
  {
   "cell_type": "code",
   "execution_count": null,
   "metadata": {},
   "outputs": [],
   "source": [
    "# drop what we dont need\n",
    "df_A.drop(columns = ['start_date', 'end_date', 'month_interval', 'months'], axis=1, inplace=True)"
   ]
  },
  {
   "cell_type": "code",
   "execution_count": null,
   "metadata": {},
   "outputs": [],
   "source": [
    "df_A.head()"
   ]
  },
  {
   "cell_type": "code",
   "execution_count": null,
   "metadata": {},
   "outputs": [],
   "source": [
    "#gb_A = df+A.groupby(['curr', 'BU', 'period'], as_index=False).sum()"
   ]
  },
  {
   "cell_type": "code",
   "execution_count": null,
   "metadata": {},
   "outputs": [],
   "source": [
    "#medals = df.pivot_table('no of medals', ['Year', 'Country'], 'medal')\n",
    "temp = df_A.pivot_table('amount', ['currency', 'BU', 'period'], 'rebill_months')"
   ]
  },
  {
   "cell_type": "code",
   "execution_count": null,
   "metadata": {},
   "outputs": [],
   "source": [
    "temp"
   ]
  },
  {
   "cell_type": "code",
   "execution_count": null,
   "metadata": {},
   "outputs": [],
   "source": [
    "temp.columns[5]"
   ]
  },
  {
   "cell_type": "code",
   "execution_count": null,
   "metadata": {},
   "outputs": [],
   "source": [
    "temp.fillna(0)"
   ]
  },
  {
   "cell_type": "code",
   "execution_count": null,
   "metadata": {},
   "outputs": [],
   "source": [
    "temp.rename(index=str, columns = {''})"
   ]
  },
  {
   "cell_type": "code",
   "execution_count": null,
   "metadata": {},
   "outputs": [],
   "source": [
    "whos"
   ]
  },
  {
   "cell_type": "code",
   "execution_count": null,
   "metadata": {},
   "outputs": [],
   "source": []
  },
  {
   "cell_type": "code",
   "execution_count": null,
   "metadata": {},
   "outputs": [],
   "source": []
  }
 ],
 "metadata": {
  "kernelspec": {
   "display_name": "Python 3",
   "language": "python",
   "name": "python3"
  },
  "language_info": {
   "codemirror_mode": {
    "name": "ipython",
    "version": 3
   },
   "file_extension": ".py",
   "mimetype": "text/x-python",
   "name": "python",
   "nbconvert_exporter": "python",
   "pygments_lexer": "ipython3",
   "version": "3.7.3"
  }
 },
 "nbformat": 4,
 "nbformat_minor": 2
}
