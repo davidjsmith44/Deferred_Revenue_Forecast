{
 "cells": [
  {
   "cell_type": "code",
   "execution_count": 2,
   "metadata": {},
   "outputs": [],
   "source": [
    "import numpy as np\n",
    "import pandas as pd"
   ]
  },
  {
   "cell_type": "markdown",
   "metadata": {},
   "source": [
    "Inputs\n",
    "\n",
    " - key\n",
    " \n",
    " - bill\n",
    " \n",
    " - bookings\n",
    "  \n",
    " - fcst_length\n",
    " \n",
    " "
   ]
  },
  {
   "cell_type": "code",
   "execution_count": null,
   "metadata": {
    "collapsed": true
   },
   "outputs": [],
   "source": [
    "passed_fcst_length = fcst_length;\n",
    "temp_fcst_length = 12;\n",
    "\n",
    "last_period = key.fcst_last_period;\n"
   ]
  },
  {
   "cell_type": "code",
   "execution_count": 3,
   "metadata": {
    "collapsed": true
   },
   "outputs": [],
   "source": [
    "# input file is df_merged"
   ]
  },
  {
   "cell_type": "code",
   "execution_count": null,
   "metadata": {
    "collapsed": true
   },
   "outputs": [],
   "source": [
    "'''\n",
    "output is a dataframe fcst.bill.deferred\n",
    "\n",
    "fcst.bill.service\n",
    "fcst.bill.recognized\n",
    "fcst.bill.DC\n",
    "\n",
    "\n",
    "each is 4 dimensional\n",
    "\n",
    "    x - forecast length (time in months)\n",
    "    y - length of the deferred rebill rules\n",
    "    z - currency\n",
    "    aa - bu\n",
    "    \n",
    "Just make this one big ass dataframe\n",
    "\n",
    "Rows index = time\n",
    "\n",
    "columns ['Currency']\n",
    "        ['BU']\n",
    "        ['recognized']\n",
    "        ['service']\n",
    "        ['deferred_1M', 'deferred_2M', ..... 'deferred_3M']\n",
    "        \n",
    "'''"
   ]
  },
  {
   "cell_type": "code",
   "execution_count": 4,
   "metadata": {
    "collapsed": true
   },
   "outputs": [],
   "source": [
    "df_fcst = pd.DataFrame(columns=['period', 'curr', 'BU', 'recognized', 'service', 'deferred_B',\n",
    "                                'deferred_1M','deferred_3M','deferred_6M','deferred_1Y',\n",
    "                                'deferred_2Y','deferred_3Y'])\n",
    "\n"
   ]
  },
  {
   "cell_type": "code",
   "execution_count": 5,
   "metadata": {},
   "outputs": [
    {
     "data": {
      "text/html": [
       "<div>\n",
       "<style scoped>\n",
       "    .dataframe tbody tr th:only-of-type {\n",
       "        vertical-align: middle;\n",
       "    }\n",
       "\n",
       "    .dataframe tbody tr th {\n",
       "        vertical-align: top;\n",
       "    }\n",
       "\n",
       "    .dataframe thead th {\n",
       "        text-align: right;\n",
       "    }\n",
       "</style>\n",
       "<table border=\"1\" class=\"dataframe\">\n",
       "  <thead>\n",
       "    <tr style=\"text-align: right;\">\n",
       "      <th></th>\n",
       "      <th>period</th>\n",
       "      <th>curr</th>\n",
       "      <th>BU</th>\n",
       "      <th>recognized</th>\n",
       "      <th>service</th>\n",
       "      <th>deferred_B</th>\n",
       "      <th>deferred_1M</th>\n",
       "      <th>deferred_3M</th>\n",
       "      <th>deferred_6M</th>\n",
       "      <th>deferred_1Y</th>\n",
       "      <th>deferred_2Y</th>\n",
       "      <th>deferred_3Y</th>\n",
       "    </tr>\n",
       "  </thead>\n",
       "  <tbody>\n",
       "  </tbody>\n",
       "</table>\n",
       "</div>"
      ],
      "text/plain": [
       "Empty DataFrame\n",
       "Columns: [period, curr, BU, recognized, service, deferred_B, deferred_1M, deferred_3M, deferred_6M, deferred_1Y, deferred_2Y, deferred_3Y]\n",
       "Index: []"
      ]
     },
     "execution_count": 5,
     "metadata": {},
     "output_type": "execute_result"
    }
   ],
   "source": [
    "df_fcst"
   ]
  },
  {
   "cell_type": "code",
   "execution_count": null,
   "metadata": {
    "collapsed": true
   },
   "outputs": [],
   "source": []
  },
  {
   "cell_type": "code",
   "execution_count": null,
   "metadata": {
    "collapsed": true
   },
   "outputs": [],
   "source": []
  }
 ],
 "metadata": {
  "kernelspec": {
   "display_name": "Python 3",
   "language": "python",
   "name": "python3"
  },
  "language_info": {
   "codemirror_mode": {
    "name": "ipython",
    "version": 3
   },
   "file_extension": ".py",
   "mimetype": "text/x-python",
   "name": "python",
   "nbconvert_exporter": "python",
   "pygments_lexer": "ipython3",
   "version": "3.6.3"
  },
  "toc": {
   "base_numbering": 1,
   "nav_menu": {},
   "number_sections": true,
   "sideBar": true,
   "skip_h1_title": false,
   "title_cell": "Table of Contents",
   "title_sidebar": "Contents",
   "toc_cell": false,
   "toc_position": {},
   "toc_section_display": true,
   "toc_window_display": false
  }
 },
 "nbformat": 4,
 "nbformat_minor": 2
}
