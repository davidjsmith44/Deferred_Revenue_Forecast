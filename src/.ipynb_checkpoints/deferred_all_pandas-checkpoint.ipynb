{
 "cells": [
  {
   "cell_type": "markdown",
   "metadata": {},
   "source": [
    "# Testing Deferred Revenue in Python\n",
    "Will this be easier for everyone to use than Matlab?"
   ]
  },
  {
   "cell_type": "code",
   "execution_count": 1,
   "metadata": {},
   "outputs": [],
   "source": [
    "import numpy as np\n",
    "import pandas as pd\n",
    "import matplotlib.pyplot as plt\n",
    "%matplotlib inline"
   ]
  },
  {
   "cell_type": "markdown",
   "metadata": {},
   "source": [
    "## Step 1: Processing Base Billings Data"
   ]
  },
  {
   "cell_type": "code",
   "execution_count": 2,
   "metadata": {},
   "outputs": [],
   "source": [
    "df = pd.read_excel('../data/old/base_billings.xlsx', sheet_name='bill_DC')"
   ]
  },
  {
   "cell_type": "code",
   "execution_count": 3,
   "metadata": {},
   "outputs": [
    {
     "data": {
      "text/html": [
       "<div>\n",
       "<style scoped>\n",
       "    .dataframe tbody tr th:only-of-type {\n",
       "        vertical-align: middle;\n",
       "    }\n",
       "\n",
       "    .dataframe tbody tr th {\n",
       "        vertical-align: top;\n",
       "    }\n",
       "\n",
       "    .dataframe thead th {\n",
       "        text-align: right;\n",
       "    }\n",
       "</style>\n",
       "<table border=\"1\" class=\"dataframe\">\n",
       "  <thead>\n",
       "    <tr style=\"text-align: right;\">\n",
       "      <th></th>\n",
       "      <th>Document Currency</th>\n",
       "      <th>Enterprise Bu</th>\n",
       "      <th>Frequency</th>\n",
       "      <th>Invoicing Fiscal Year-Period Desc</th>\n",
       "      <th>Product Configtype ID</th>\n",
       "      <th>Revenue Recognition Category New</th>\n",
       "      <th>Rule For Bill Date</th>\n",
       "      <th>Sales Type</th>\n",
       "      <th>Subscription Term</th>\n",
       "      <th>Completed Sales Doc Currency</th>\n",
       "    </tr>\n",
       "  </thead>\n",
       "  <tbody>\n",
       "    <tr>\n",
       "      <th>30731</th>\n",
       "      <td>USD</td>\n",
       "      <td>Print &amp; Publishing</td>\n",
       "      <td>NaN</td>\n",
       "      <td>2016-07</td>\n",
       "      <td>NaN</td>\n",
       "      <td>NaN</td>\n",
       "      <td>NaN</td>\n",
       "      <td>RECOGNIZED</td>\n",
       "      <td>0</td>\n",
       "      <td>545755.20</td>\n",
       "    </tr>\n",
       "    <tr>\n",
       "      <th>26208</th>\n",
       "      <td>USD</td>\n",
       "      <td>Document Cloud</td>\n",
       "      <td>NaN</td>\n",
       "      <td>2017-09</td>\n",
       "      <td>NaN</td>\n",
       "      <td>NaN</td>\n",
       "      <td>NaN</td>\n",
       "      <td>DEFERRED</td>\n",
       "      <td>0</td>\n",
       "      <td>0.00</td>\n",
       "    </tr>\n",
       "    <tr>\n",
       "      <th>11458</th>\n",
       "      <td>EUR</td>\n",
       "      <td>Experience Cloud</td>\n",
       "      <td>1TME</td>\n",
       "      <td>2017-12</td>\n",
       "      <td>OUNIV</td>\n",
       "      <td>F</td>\n",
       "      <td>NaN</td>\n",
       "      <td>DEFERRED</td>\n",
       "      <td>0</td>\n",
       "      <td>-1476.01</td>\n",
       "    </tr>\n",
       "    <tr>\n",
       "      <th>14075</th>\n",
       "      <td>GBP</td>\n",
       "      <td>Creative</td>\n",
       "      <td>NaN</td>\n",
       "      <td>2019-03</td>\n",
       "      <td>1Y</td>\n",
       "      <td>D</td>\n",
       "      <td>NaN</td>\n",
       "      <td>DEFERRED</td>\n",
       "      <td>1</td>\n",
       "      <td>-56630.00</td>\n",
       "    </tr>\n",
       "    <tr>\n",
       "      <th>9015</th>\n",
       "      <td>EUR</td>\n",
       "      <td>Creative</td>\n",
       "      <td>NaN</td>\n",
       "      <td>2018-12</td>\n",
       "      <td>2Y</td>\n",
       "      <td>D</td>\n",
       "      <td>NaN</td>\n",
       "      <td>DEFERRED</td>\n",
       "      <td>12</td>\n",
       "      <td>-26096.40</td>\n",
       "    </tr>\n",
       "    <tr>\n",
       "      <th>11903</th>\n",
       "      <td>EUR</td>\n",
       "      <td>Experience Cloud</td>\n",
       "      <td>ACTL</td>\n",
       "      <td>2018-09</td>\n",
       "      <td>ONORE</td>\n",
       "      <td>NaN</td>\n",
       "      <td>NaN</td>\n",
       "      <td>RECOGNIZED</td>\n",
       "      <td>0</td>\n",
       "      <td>590421.24</td>\n",
       "    </tr>\n",
       "    <tr>\n",
       "      <th>8029</th>\n",
       "      <td>EUR</td>\n",
       "      <td>Creative</td>\n",
       "      <td>NaN</td>\n",
       "      <td>2015-09</td>\n",
       "      <td>NaN</td>\n",
       "      <td>A</td>\n",
       "      <td>NaN</td>\n",
       "      <td>DEFERRED</td>\n",
       "      <td>1</td>\n",
       "      <td>-9.99</td>\n",
       "    </tr>\n",
       "    <tr>\n",
       "      <th>6451</th>\n",
       "      <td>CHF</td>\n",
       "      <td>Print &amp; Publishing</td>\n",
       "      <td>NaN</td>\n",
       "      <td>2018-09</td>\n",
       "      <td>1Y</td>\n",
       "      <td>NaN</td>\n",
       "      <td>NaN</td>\n",
       "      <td>RECOGNIZED</td>\n",
       "      <td>0</td>\n",
       "      <td>0.00</td>\n",
       "    </tr>\n",
       "    <tr>\n",
       "      <th>18260</th>\n",
       "      <td>JPY</td>\n",
       "      <td>Creative</td>\n",
       "      <td>NaN</td>\n",
       "      <td>2018-12</td>\n",
       "      <td>PRD12</td>\n",
       "      <td>NaN</td>\n",
       "      <td>NaN</td>\n",
       "      <td>RECOGNIZED</td>\n",
       "      <td>0</td>\n",
       "      <td>0.00</td>\n",
       "    </tr>\n",
       "    <tr>\n",
       "      <th>1691</th>\n",
       "      <td>AUD</td>\n",
       "      <td>Experience Cloud</td>\n",
       "      <td>NaN</td>\n",
       "      <td>2015-08</td>\n",
       "      <td>1Y</td>\n",
       "      <td>A</td>\n",
       "      <td>NaN</td>\n",
       "      <td>DEFERRED</td>\n",
       "      <td>12</td>\n",
       "      <td>41460.00</td>\n",
       "    </tr>\n",
       "  </tbody>\n",
       "</table>\n",
       "</div>"
      ],
      "text/plain": [
       "      Document Currency       Enterprise Bu Frequency  \\\n",
       "30731               USD  Print & Publishing       NaN   \n",
       "26208               USD      Document Cloud       NaN   \n",
       "11458               EUR    Experience Cloud      1TME   \n",
       "14075               GBP            Creative       NaN   \n",
       "9015                EUR            Creative       NaN   \n",
       "11903               EUR    Experience Cloud      ACTL   \n",
       "8029                EUR            Creative       NaN   \n",
       "6451                CHF  Print & Publishing       NaN   \n",
       "18260               JPY            Creative       NaN   \n",
       "1691                AUD    Experience Cloud       NaN   \n",
       "\n",
       "      Invoicing Fiscal Year-Period Desc Product Configtype ID  \\\n",
       "30731                           2016-07                   NaN   \n",
       "26208                           2017-09                   NaN   \n",
       "11458                           2017-12                 OUNIV   \n",
       "14075                           2019-03                    1Y   \n",
       "9015                            2018-12                    2Y   \n",
       "11903                           2018-09                 ONORE   \n",
       "8029                            2015-09                   NaN   \n",
       "6451                            2018-09                    1Y   \n",
       "18260                           2018-12                 PRD12   \n",
       "1691                            2015-08                    1Y   \n",
       "\n",
       "      Revenue Recognition Category New Rule For Bill Date  Sales Type  \\\n",
       "30731                              NaN                NaN  RECOGNIZED   \n",
       "26208                              NaN                NaN    DEFERRED   \n",
       "11458                                F                NaN    DEFERRED   \n",
       "14075                                D                NaN    DEFERRED   \n",
       "9015                                 D                NaN    DEFERRED   \n",
       "11903                              NaN                NaN  RECOGNIZED   \n",
       "8029                                 A                NaN    DEFERRED   \n",
       "6451                               NaN                NaN  RECOGNIZED   \n",
       "18260                              NaN                NaN  RECOGNIZED   \n",
       "1691                                 A                NaN    DEFERRED   \n",
       "\n",
       "       Subscription Term  Completed Sales Doc Currency  \n",
       "30731                  0                     545755.20  \n",
       "26208                  0                          0.00  \n",
       "11458                  0                      -1476.01  \n",
       "14075                  1                     -56630.00  \n",
       "9015                  12                     -26096.40  \n",
       "11903                  0                     590421.24  \n",
       "8029                   1                         -9.99  \n",
       "6451                   0                          0.00  \n",
       "18260                  0                          0.00  \n",
       "1691                  12                      41460.00  "
      ]
     },
     "execution_count": 3,
     "metadata": {},
     "output_type": "execute_result"
    }
   ],
   "source": [
    "df.sample(10)"
   ]
  },
  {
   "cell_type": "markdown",
   "metadata": {},
   "source": [
    "## Filter that removes any currency that has  < 10 transactions. \n"
   ]
  },
  {
   "cell_type": "code",
   "execution_count": 4,
   "metadata": {},
   "outputs": [],
   "source": [
    "# creates a list of the currencies and the number of transactions for each currency\n",
    "vc = df['Document Currency'].value_counts()"
   ]
  },
  {
   "cell_type": "code",
   "execution_count": 5,
   "metadata": {},
   "outputs": [],
   "source": [
    "# Create variable that is true if the number of transaction is greater than 10, false otherwise\n",
    "keep_these = vc.values > 10\n",
    "# filtering only currencies that were greater than 10\n",
    "keep_curr = vc[keep_these]\n",
    "a = keep_curr.index\n",
    "# filtering the dataframe to remove any of teh currencies not in our list\n",
    "df = df[df['Document Currency'].isin(a)]"
   ]
  },
  {
   "cell_type": "markdown",
   "metadata": {},
   "source": [
    "## Just keeping track of the currencies we removed in our model_dict data strucutre"
   ]
  },
  {
   "cell_type": "code",
   "execution_count": 6,
   "metadata": {},
   "outputs": [
    {
     "data": {
      "text/plain": [
       "{'curr_removed': ['CLP', 'COP', 'ARS', 'PEN', 'MXP', 'BMD', 'INR']}"
      ]
     },
     "execution_count": 6,
     "metadata": {},
     "output_type": "execute_result"
    }
   ],
   "source": [
    "remove_these = vc.values <= 10\n",
    "model_dict = {'curr_removed': list(vc[remove_these].index)}\n",
    "model_dict"
   ]
  },
  {
   "cell_type": "markdown",
   "metadata": {},
   "source": [
    "# Removing any of the values that are zero"
   ]
  },
  {
   "cell_type": "code",
   "execution_count": 7,
   "metadata": {},
   "outputs": [
    {
     "name": "stdout",
     "output_type": "stream",
     "text": [
      "This is the length of the dataframe before removing zeros:  31418\n",
      "This is the length of the dataframe after removing zeros:  28896\n"
     ]
    }
   ],
   "source": [
    "print('This is the length of the dataframe before removing zeros: ', len(df))\n",
    "df = df[df['Completed Sales Doc Currency']!=0]\n",
    "print('This is the length of the dataframe after removing zeros: ', len(df))"
   ]
  },
  {
   "cell_type": "code",
   "execution_count": 8,
   "metadata": {},
   "outputs": [
    {
     "data": {
      "text/html": [
       "<div>\n",
       "<style scoped>\n",
       "    .dataframe tbody tr th:only-of-type {\n",
       "        vertical-align: middle;\n",
       "    }\n",
       "\n",
       "    .dataframe tbody tr th {\n",
       "        vertical-align: top;\n",
       "    }\n",
       "\n",
       "    .dataframe thead th {\n",
       "        text-align: right;\n",
       "    }\n",
       "</style>\n",
       "<table border=\"1\" class=\"dataframe\">\n",
       "  <thead>\n",
       "    <tr style=\"text-align: right;\">\n",
       "      <th></th>\n",
       "      <th>Document Currency</th>\n",
       "      <th>Enterprise Bu</th>\n",
       "      <th>Frequency</th>\n",
       "      <th>Invoicing Fiscal Year-Period Desc</th>\n",
       "      <th>Product Configtype ID</th>\n",
       "      <th>Revenue Recognition Category New</th>\n",
       "      <th>Rule For Bill Date</th>\n",
       "      <th>Sales Type</th>\n",
       "      <th>Subscription Term</th>\n",
       "      <th>Completed Sales Doc Currency</th>\n",
       "    </tr>\n",
       "  </thead>\n",
       "  <tbody>\n",
       "    <tr>\n",
       "      <th>19235</th>\n",
       "      <td>JPY</td>\n",
       "      <td>Experience Cloud</td>\n",
       "      <td>NaN</td>\n",
       "      <td>2016-05</td>\n",
       "      <td>NaN</td>\n",
       "      <td>NaN</td>\n",
       "      <td>NaN</td>\n",
       "      <td>RECOGNIZED</td>\n",
       "      <td>0</td>\n",
       "      <td>613300.00</td>\n",
       "    </tr>\n",
       "    <tr>\n",
       "      <th>18802</th>\n",
       "      <td>JPY</td>\n",
       "      <td>Document Cloud</td>\n",
       "      <td>NaN</td>\n",
       "      <td>2018-02</td>\n",
       "      <td>NaN</td>\n",
       "      <td>D</td>\n",
       "      <td>Y3</td>\n",
       "      <td>DEFERRED</td>\n",
       "      <td>1</td>\n",
       "      <td>1470850.00</td>\n",
       "    </tr>\n",
       "    <tr>\n",
       "      <th>23501</th>\n",
       "      <td>SEK</td>\n",
       "      <td>Print &amp; Publishing</td>\n",
       "      <td>NaN</td>\n",
       "      <td>2015-07</td>\n",
       "      <td>NaN</td>\n",
       "      <td>NaN</td>\n",
       "      <td>NaN</td>\n",
       "      <td>RECOGNIZED</td>\n",
       "      <td>0</td>\n",
       "      <td>3540.00</td>\n",
       "    </tr>\n",
       "    <tr>\n",
       "      <th>25823</th>\n",
       "      <td>USD</td>\n",
       "      <td>Document Cloud</td>\n",
       "      <td>NaN</td>\n",
       "      <td>2016-05</td>\n",
       "      <td>1Y</td>\n",
       "      <td>D</td>\n",
       "      <td>YA</td>\n",
       "      <td>DEFERRED</td>\n",
       "      <td>12</td>\n",
       "      <td>2710109.21</td>\n",
       "    </tr>\n",
       "    <tr>\n",
       "      <th>20786</th>\n",
       "      <td>NOK</td>\n",
       "      <td>Creative</td>\n",
       "      <td>NaN</td>\n",
       "      <td>2017-01</td>\n",
       "      <td>1Y</td>\n",
       "      <td>D</td>\n",
       "      <td>YA</td>\n",
       "      <td>DEFERRED</td>\n",
       "      <td>12</td>\n",
       "      <td>1986353.05</td>\n",
       "    </tr>\n",
       "    <tr>\n",
       "      <th>21469</th>\n",
       "      <td>NOK</td>\n",
       "      <td>Document Cloud</td>\n",
       "      <td>NaN</td>\n",
       "      <td>2018-12</td>\n",
       "      <td>NaN</td>\n",
       "      <td>D</td>\n",
       "      <td>YA</td>\n",
       "      <td>DEFERRED</td>\n",
       "      <td>12</td>\n",
       "      <td>383145.95</td>\n",
       "    </tr>\n",
       "    <tr>\n",
       "      <th>327</th>\n",
       "      <td>AUD</td>\n",
       "      <td>Creative</td>\n",
       "      <td>NaN</td>\n",
       "      <td>2016-12</td>\n",
       "      <td>NaN</td>\n",
       "      <td>A</td>\n",
       "      <td>NaN</td>\n",
       "      <td>DEFERRED</td>\n",
       "      <td>0</td>\n",
       "      <td>383303.49</td>\n",
       "    </tr>\n",
       "    <tr>\n",
       "      <th>24714</th>\n",
       "      <td>USD</td>\n",
       "      <td>Creative</td>\n",
       "      <td>NaN</td>\n",
       "      <td>2017-07</td>\n",
       "      <td>NaN</td>\n",
       "      <td>NaN</td>\n",
       "      <td>NaN</td>\n",
       "      <td>RECOGNIZED</td>\n",
       "      <td>0</td>\n",
       "      <td>8856271.24</td>\n",
       "    </tr>\n",
       "    <tr>\n",
       "      <th>6194</th>\n",
       "      <td>CHF</td>\n",
       "      <td>Experience Cloud</td>\n",
       "      <td>1TME</td>\n",
       "      <td>2018-12</td>\n",
       "      <td>OCONS</td>\n",
       "      <td>B</td>\n",
       "      <td>NaN</td>\n",
       "      <td>DEFERRED</td>\n",
       "      <td>0</td>\n",
       "      <td>44160.00</td>\n",
       "    </tr>\n",
       "    <tr>\n",
       "      <th>22510</th>\n",
       "      <td>SEK</td>\n",
       "      <td>Creative</td>\n",
       "      <td>NaN</td>\n",
       "      <td>2018-07</td>\n",
       "      <td>MTHLY</td>\n",
       "      <td>D</td>\n",
       "      <td>Y3</td>\n",
       "      <td>DEFERRED</td>\n",
       "      <td>1</td>\n",
       "      <td>1237145.73</td>\n",
       "    </tr>\n",
       "  </tbody>\n",
       "</table>\n",
       "</div>"
      ],
      "text/plain": [
       "      Document Currency       Enterprise Bu Frequency  \\\n",
       "19235               JPY    Experience Cloud       NaN   \n",
       "18802               JPY      Document Cloud       NaN   \n",
       "23501               SEK  Print & Publishing       NaN   \n",
       "25823               USD      Document Cloud       NaN   \n",
       "20786               NOK            Creative       NaN   \n",
       "21469               NOK      Document Cloud       NaN   \n",
       "327                 AUD            Creative       NaN   \n",
       "24714               USD            Creative       NaN   \n",
       "6194                CHF    Experience Cloud      1TME   \n",
       "22510               SEK            Creative       NaN   \n",
       "\n",
       "      Invoicing Fiscal Year-Period Desc Product Configtype ID  \\\n",
       "19235                           2016-05                   NaN   \n",
       "18802                           2018-02                   NaN   \n",
       "23501                           2015-07                   NaN   \n",
       "25823                           2016-05                    1Y   \n",
       "20786                           2017-01                    1Y   \n",
       "21469                           2018-12                   NaN   \n",
       "327                             2016-12                   NaN   \n",
       "24714                           2017-07                   NaN   \n",
       "6194                            2018-12                 OCONS   \n",
       "22510                           2018-07                 MTHLY   \n",
       "\n",
       "      Revenue Recognition Category New Rule For Bill Date  Sales Type  \\\n",
       "19235                              NaN                NaN  RECOGNIZED   \n",
       "18802                                D                 Y3    DEFERRED   \n",
       "23501                              NaN                NaN  RECOGNIZED   \n",
       "25823                                D                 YA    DEFERRED   \n",
       "20786                                D                 YA    DEFERRED   \n",
       "21469                                D                 YA    DEFERRED   \n",
       "327                                  A                NaN    DEFERRED   \n",
       "24714                              NaN                NaN  RECOGNIZED   \n",
       "6194                                 B                NaN    DEFERRED   \n",
       "22510                                D                 Y3    DEFERRED   \n",
       "\n",
       "       Subscription Term  Completed Sales Doc Currency  \n",
       "19235                  0                     613300.00  \n",
       "18802                  1                    1470850.00  \n",
       "23501                  0                       3540.00  \n",
       "25823                 12                    2710109.21  \n",
       "20786                 12                    1986353.05  \n",
       "21469                 12                     383145.95  \n",
       "327                    0                     383303.49  \n",
       "24714                  0                    8856271.24  \n",
       "6194                   0                      44160.00  \n",
       "22510                  1                    1237145.73  "
      ]
     },
     "execution_count": 8,
     "metadata": {},
     "output_type": "execute_result"
    }
   ],
   "source": [
    "df.sample(10)"
   ]
  },
  {
   "cell_type": "markdown",
   "metadata": {},
   "source": [
    "## Clearing out the Non-Revenue billings from the file\n",
    " - No Idea what these are"
   ]
  },
  {
   "cell_type": "code",
   "execution_count": 9,
   "metadata": {},
   "outputs": [
    {
     "data": {
      "text/plain": [
       "DEFERRED       22919\n",
       "RECOGNIZED      5041\n",
       "PRO-SVC-INV      844\n",
       "NON-REV           92\n",
       "Name: Sales Type, dtype: int64"
      ]
     },
     "execution_count": 9,
     "metadata": {},
     "output_type": "execute_result"
    }
   ],
   "source": [
    "df['Sales Type'].value_counts()"
   ]
  },
  {
   "cell_type": "code",
   "execution_count": 10,
   "metadata": {},
   "outputs": [
    {
     "name": "stdout",
     "output_type": "stream",
     "text": [
      "Length of the dataframe before removing non-revenue billings:  28896\n",
      "Length of the dataframe after removing non-revenue billings:   28804\n"
     ]
    }
   ],
   "source": [
    "print('Length of the dataframe before removing non-revenue billings: ', len(df))\n",
    "df = df[df['Sales Type']!='NON-REV']\n",
    "print('Length of the dataframe after removing non-revenue billings:  ', len(df))\n"
   ]
  },
  {
   "cell_type": "markdown",
   "metadata": {},
   "source": [
    "## Starting to group the revenue by period, industry, etc"
   ]
  },
  {
   "cell_type": "markdown",
   "metadata": {},
   "source": [
    "Attempting to group by the following categories\n",
    " - currency\n",
    " - period\n",
    " - sale type\n",
    " \n",
    "May need to process the data differently with the deferred billings so we will start with the recognized and then the service billings\n",
    "\n",
    "# DOING THIS ALL IN PANDAS WITH SPLIT APPLY COMBINE on Sales Type \n"
   ]
  },
  {
   "cell_type": "code",
   "execution_count": 11,
   "metadata": {},
   "outputs": [],
   "source": [
    "# First split the data into three dataframes\n",
    "# Recognized billings\n",
    "rec = df[df['Sales Type']=='RECOGNIZED']\n",
    "svc = df[df['Sales Type']=='PRO-SVC-INV']\n",
    "dfr = df[df['Sales Type']=='DEFERRED']"
   ]
  },
  {
   "cell_type": "code",
   "execution_count": 12,
   "metadata": {},
   "outputs": [
    {
     "data": {
      "text/plain": [
       "Index(['Document Currency', 'Enterprise Bu', 'Frequency',\n",
       "       'Invoicing Fiscal Year-Period Desc', 'Product Configtype ID',\n",
       "       'Revenue Recognition Category New', 'Rule For Bill Date', 'Sales Type',\n",
       "       'Subscription Term', 'Completed Sales Doc Currency'],\n",
       "      dtype='object')"
      ]
     },
     "execution_count": 12,
     "metadata": {},
     "output_type": "execute_result"
    }
   ],
   "source": [
    "rec.columns"
   ]
  },
  {
   "cell_type": "markdown",
   "metadata": {},
   "source": [
    "# NOW WORKING ON THE BILLINGS"
   ]
  },
  {
   "cell_type": "markdown",
   "metadata": {},
   "source": [
    "### Recognized Revenue"
   ]
  },
  {
   "cell_type": "code",
   "execution_count": 13,
   "metadata": {},
   "outputs": [
    {
     "data": {
      "text/html": [
       "<div>\n",
       "<style scoped>\n",
       "    .dataframe tbody tr th:only-of-type {\n",
       "        vertical-align: middle;\n",
       "    }\n",
       "\n",
       "    .dataframe tbody tr th {\n",
       "        vertical-align: top;\n",
       "    }\n",
       "\n",
       "    .dataframe thead th {\n",
       "        text-align: right;\n",
       "    }\n",
       "</style>\n",
       "<table border=\"1\" class=\"dataframe\">\n",
       "  <thead>\n",
       "    <tr style=\"text-align: right;\">\n",
       "      <th></th>\n",
       "      <th>Document Currency</th>\n",
       "      <th>Enterprise Bu</th>\n",
       "      <th>Frequency</th>\n",
       "      <th>Invoicing Fiscal Year-Period Desc</th>\n",
       "      <th>Product Configtype ID</th>\n",
       "      <th>Revenue Recognition Category New</th>\n",
       "      <th>Rule For Bill Date</th>\n",
       "      <th>Sales Type</th>\n",
       "      <th>Subscription Term</th>\n",
       "      <th>Completed Sales Doc Currency</th>\n",
       "    </tr>\n",
       "  </thead>\n",
       "  <tbody>\n",
       "    <tr>\n",
       "      <th>15533</th>\n",
       "      <td>GBP</td>\n",
       "      <td>Experience Cloud</td>\n",
       "      <td>ACTL</td>\n",
       "      <td>2016-12</td>\n",
       "      <td>ONORE</td>\n",
       "      <td>NaN</td>\n",
       "      <td>NaN</td>\n",
       "      <td>RECOGNIZED</td>\n",
       "      <td>0</td>\n",
       "      <td>945647.97</td>\n",
       "    </tr>\n",
       "    <tr>\n",
       "      <th>10480</th>\n",
       "      <td>EUR</td>\n",
       "      <td>Experience Cloud</td>\n",
       "      <td>NaN</td>\n",
       "      <td>2016-04</td>\n",
       "      <td>NaN</td>\n",
       "      <td>NaN</td>\n",
       "      <td>NaN</td>\n",
       "      <td>RECOGNIZED</td>\n",
       "      <td>0</td>\n",
       "      <td>9336.00</td>\n",
       "    </tr>\n",
       "    <tr>\n",
       "      <th>5453</th>\n",
       "      <td>CHF</td>\n",
       "      <td>Document Cloud</td>\n",
       "      <td>NaN</td>\n",
       "      <td>2017-01</td>\n",
       "      <td>NaN</td>\n",
       "      <td>NaN</td>\n",
       "      <td>NaN</td>\n",
       "      <td>RECOGNIZED</td>\n",
       "      <td>0</td>\n",
       "      <td>866.00</td>\n",
       "    </tr>\n",
       "    <tr>\n",
       "      <th>16175</th>\n",
       "      <td>GBP</td>\n",
       "      <td>Experience Cloud</td>\n",
       "      <td>ONGO</td>\n",
       "      <td>2018-08</td>\n",
       "      <td>NaN</td>\n",
       "      <td>NaN</td>\n",
       "      <td>NaN</td>\n",
       "      <td>RECOGNIZED</td>\n",
       "      <td>0</td>\n",
       "      <td>56461.49</td>\n",
       "    </tr>\n",
       "    <tr>\n",
       "      <th>30647</th>\n",
       "      <td>USD</td>\n",
       "      <td>Print &amp; Publishing</td>\n",
       "      <td>NaN</td>\n",
       "      <td>2016-02</td>\n",
       "      <td>2V</td>\n",
       "      <td>NaN</td>\n",
       "      <td>NaN</td>\n",
       "      <td>RECOGNIZED</td>\n",
       "      <td>0</td>\n",
       "      <td>88693.00</td>\n",
       "    </tr>\n",
       "    <tr>\n",
       "      <th>4477</th>\n",
       "      <td>CAD</td>\n",
       "      <td>Experience Cloud</td>\n",
       "      <td>1TME</td>\n",
       "      <td>2018-08</td>\n",
       "      <td>ONORE</td>\n",
       "      <td>NaN</td>\n",
       "      <td>NaN</td>\n",
       "      <td>RECOGNIZED</td>\n",
       "      <td>0</td>\n",
       "      <td>28486.84</td>\n",
       "    </tr>\n",
       "    <tr>\n",
       "      <th>25406</th>\n",
       "      <td>USD</td>\n",
       "      <td>Creative</td>\n",
       "      <td>ONGO</td>\n",
       "      <td>2018-12</td>\n",
       "      <td>NaN</td>\n",
       "      <td>NaN</td>\n",
       "      <td>NaN</td>\n",
       "      <td>RECOGNIZED</td>\n",
       "      <td>0</td>\n",
       "      <td>9059.06</td>\n",
       "    </tr>\n",
       "    <tr>\n",
       "      <th>17011</th>\n",
       "      <td>GBP</td>\n",
       "      <td>Print &amp; Publishing</td>\n",
       "      <td>NaN</td>\n",
       "      <td>2018-06</td>\n",
       "      <td>NaN</td>\n",
       "      <td>NaN</td>\n",
       "      <td>NaN</td>\n",
       "      <td>RECOGNIZED</td>\n",
       "      <td>0</td>\n",
       "      <td>47876.00</td>\n",
       "    </tr>\n",
       "    <tr>\n",
       "      <th>25350</th>\n",
       "      <td>USD</td>\n",
       "      <td>Creative</td>\n",
       "      <td>NaN</td>\n",
       "      <td>2018-11</td>\n",
       "      <td>IDRT</td>\n",
       "      <td>NaN</td>\n",
       "      <td>NaN</td>\n",
       "      <td>RECOGNIZED</td>\n",
       "      <td>0</td>\n",
       "      <td>33852.00</td>\n",
       "    </tr>\n",
       "    <tr>\n",
       "      <th>16812</th>\n",
       "      <td>GBP</td>\n",
       "      <td>Print &amp; Publishing</td>\n",
       "      <td>NaN</td>\n",
       "      <td>2017-02</td>\n",
       "      <td>2V</td>\n",
       "      <td>NaN</td>\n",
       "      <td>NaN</td>\n",
       "      <td>RECOGNIZED</td>\n",
       "      <td>0</td>\n",
       "      <td>636.00</td>\n",
       "    </tr>\n",
       "  </tbody>\n",
       "</table>\n",
       "</div>"
      ],
      "text/plain": [
       "      Document Currency       Enterprise Bu Frequency  \\\n",
       "15533               GBP    Experience Cloud      ACTL   \n",
       "10480               EUR    Experience Cloud       NaN   \n",
       "5453                CHF      Document Cloud       NaN   \n",
       "16175               GBP    Experience Cloud      ONGO   \n",
       "30647               USD  Print & Publishing       NaN   \n",
       "4477                CAD    Experience Cloud      1TME   \n",
       "25406               USD            Creative      ONGO   \n",
       "17011               GBP  Print & Publishing       NaN   \n",
       "25350               USD            Creative       NaN   \n",
       "16812               GBP  Print & Publishing       NaN   \n",
       "\n",
       "      Invoicing Fiscal Year-Period Desc Product Configtype ID  \\\n",
       "15533                           2016-12                 ONORE   \n",
       "10480                           2016-04                   NaN   \n",
       "5453                            2017-01                   NaN   \n",
       "16175                           2018-08                   NaN   \n",
       "30647                           2016-02                    2V   \n",
       "4477                            2018-08                 ONORE   \n",
       "25406                           2018-12                   NaN   \n",
       "17011                           2018-06                   NaN   \n",
       "25350                           2018-11                  IDRT   \n",
       "16812                           2017-02                    2V   \n",
       "\n",
       "      Revenue Recognition Category New Rule For Bill Date  Sales Type  \\\n",
       "15533                              NaN                NaN  RECOGNIZED   \n",
       "10480                              NaN                NaN  RECOGNIZED   \n",
       "5453                               NaN                NaN  RECOGNIZED   \n",
       "16175                              NaN                NaN  RECOGNIZED   \n",
       "30647                              NaN                NaN  RECOGNIZED   \n",
       "4477                               NaN                NaN  RECOGNIZED   \n",
       "25406                              NaN                NaN  RECOGNIZED   \n",
       "17011                              NaN                NaN  RECOGNIZED   \n",
       "25350                              NaN                NaN  RECOGNIZED   \n",
       "16812                              NaN                NaN  RECOGNIZED   \n",
       "\n",
       "       Subscription Term  Completed Sales Doc Currency  \n",
       "15533                  0                     945647.97  \n",
       "10480                  0                       9336.00  \n",
       "5453                   0                        866.00  \n",
       "16175                  0                      56461.49  \n",
       "30647                  0                      88693.00  \n",
       "4477                   0                      28486.84  \n",
       "25406                  0                       9059.06  \n",
       "17011                  0                      47876.00  \n",
       "25350                  0                      33852.00  \n",
       "16812                  0                        636.00  "
      ]
     },
     "execution_count": 13,
     "metadata": {},
     "output_type": "execute_result"
    }
   ],
   "source": [
    "rec.sample(10)"
   ]
  },
  {
   "cell_type": "code",
   "execution_count": 14,
   "metadata": {},
   "outputs": [],
   "source": [
    "# testing groupby object\n",
    "gb_rec = rec.groupby(['Document Currency', 'Enterprise Bu', 'Invoicing Fiscal Year-Period Desc'], as_index=False).sum()"
   ]
  },
  {
   "cell_type": "code",
   "execution_count": 15,
   "metadata": {},
   "outputs": [],
   "source": [
    "# the Subscription term hangs around. We are dropping that here\n",
    "gb_rec.drop(labels='Subscription Term', axis=1,inplace =True)"
   ]
  },
  {
   "cell_type": "code",
   "execution_count": 16,
   "metadata": {},
   "outputs": [
    {
     "data": {
      "text/html": [
       "<div>\n",
       "<style scoped>\n",
       "    .dataframe tbody tr th:only-of-type {\n",
       "        vertical-align: middle;\n",
       "    }\n",
       "\n",
       "    .dataframe tbody tr th {\n",
       "        vertical-align: top;\n",
       "    }\n",
       "\n",
       "    .dataframe thead th {\n",
       "        text-align: right;\n",
       "    }\n",
       "</style>\n",
       "<table border=\"1\" class=\"dataframe\">\n",
       "  <thead>\n",
       "    <tr style=\"text-align: right;\">\n",
       "      <th></th>\n",
       "      <th>Document Currency</th>\n",
       "      <th>Enterprise Bu</th>\n",
       "      <th>Invoicing Fiscal Year-Period Desc</th>\n",
       "      <th>Completed Sales Doc Currency</th>\n",
       "    </tr>\n",
       "  </thead>\n",
       "  <tbody>\n",
       "    <tr>\n",
       "      <th>334</th>\n",
       "      <td>CHF</td>\n",
       "      <td>Creative</td>\n",
       "      <td>2016-08</td>\n",
       "      <td>39605.00</td>\n",
       "    </tr>\n",
       "    <tr>\n",
       "      <th>1535</th>\n",
       "      <td>JPY</td>\n",
       "      <td>Print &amp; Publishing</td>\n",
       "      <td>2017-02</td>\n",
       "      <td>14941067.00</td>\n",
       "    </tr>\n",
       "    <tr>\n",
       "      <th>2247</th>\n",
       "      <td>USD</td>\n",
       "      <td>Other Solutions</td>\n",
       "      <td>2018-08</td>\n",
       "      <td>-8314.41</td>\n",
       "    </tr>\n",
       "    <tr>\n",
       "      <th>883</th>\n",
       "      <td>EUR</td>\n",
       "      <td>Experience Cloud</td>\n",
       "      <td>2019-01</td>\n",
       "      <td>2988350.89</td>\n",
       "    </tr>\n",
       "    <tr>\n",
       "      <th>1929</th>\n",
       "      <td>SEK</td>\n",
       "      <td>LiveCycle</td>\n",
       "      <td>2016-06</td>\n",
       "      <td>4440.00</td>\n",
       "    </tr>\n",
       "    <tr>\n",
       "      <th>1498</th>\n",
       "      <td>JPY</td>\n",
       "      <td>Other Solutions</td>\n",
       "      <td>2017-08</td>\n",
       "      <td>-646041.00</td>\n",
       "    </tr>\n",
       "    <tr>\n",
       "      <th>1746</th>\n",
       "      <td>NOK</td>\n",
       "      <td>Print &amp; Publishing</td>\n",
       "      <td>2019-01</td>\n",
       "      <td>2824.00</td>\n",
       "    </tr>\n",
       "    <tr>\n",
       "      <th>2203</th>\n",
       "      <td>USD</td>\n",
       "      <td>LiveCycle</td>\n",
       "      <td>2018-10</td>\n",
       "      <td>46288.96</td>\n",
       "    </tr>\n",
       "    <tr>\n",
       "      <th>590</th>\n",
       "      <td>DKK</td>\n",
       "      <td>Document Cloud</td>\n",
       "      <td>2015-06</td>\n",
       "      <td>26800.00</td>\n",
       "    </tr>\n",
       "    <tr>\n",
       "      <th>2173</th>\n",
       "      <td>USD</td>\n",
       "      <td>LiveCycle</td>\n",
       "      <td>2016-04</td>\n",
       "      <td>181497.17</td>\n",
       "    </tr>\n",
       "  </tbody>\n",
       "</table>\n",
       "</div>"
      ],
      "text/plain": [
       "     Document Currency       Enterprise Bu Invoicing Fiscal Year-Period Desc  \\\n",
       "334                CHF            Creative                           2016-08   \n",
       "1535               JPY  Print & Publishing                           2017-02   \n",
       "2247               USD     Other Solutions                           2018-08   \n",
       "883                EUR    Experience Cloud                           2019-01   \n",
       "1929               SEK           LiveCycle                           2016-06   \n",
       "1498               JPY     Other Solutions                           2017-08   \n",
       "1746               NOK  Print & Publishing                           2019-01   \n",
       "2203               USD           LiveCycle                           2018-10   \n",
       "590                DKK      Document Cloud                           2015-06   \n",
       "2173               USD           LiveCycle                           2016-04   \n",
       "\n",
       "      Completed Sales Doc Currency  \n",
       "334                       39605.00  \n",
       "1535                   14941067.00  \n",
       "2247                      -8314.41  \n",
       "883                     2988350.89  \n",
       "1929                       4440.00  \n",
       "1498                    -646041.00  \n",
       "1746                       2824.00  \n",
       "2203                      46288.96  \n",
       "590                       26800.00  \n",
       "2173                     181497.17  "
      ]
     },
     "execution_count": 16,
     "metadata": {},
     "output_type": "execute_result"
    }
   ],
   "source": [
    "gb_rec.sample(10)"
   ]
  },
  {
   "cell_type": "code",
   "execution_count": 17,
   "metadata": {
    "scrolled": true
   },
   "outputs": [
    {
     "name": "stdout",
     "output_type": "stream",
     "text": [
      "<class 'pandas.core.frame.DataFrame'>\n"
     ]
    }
   ],
   "source": [
    "print(type(gb_rec))"
   ]
  },
  {
   "cell_type": "markdown",
   "metadata": {},
   "source": [
    "## Now doing this for the service billings"
   ]
  },
  {
   "cell_type": "code",
   "execution_count": 18,
   "metadata": {},
   "outputs": [],
   "source": [
    "# testing groupby object\n",
    "gb_svc = svc.groupby(['Document Currency', 'Enterprise Bu', 'Invoicing Fiscal Year-Period Desc'], as_index=False).sum()"
   ]
  },
  {
   "cell_type": "code",
   "execution_count": 19,
   "metadata": {},
   "outputs": [
    {
     "data": {
      "text/html": [
       "<div>\n",
       "<style scoped>\n",
       "    .dataframe tbody tr th:only-of-type {\n",
       "        vertical-align: middle;\n",
       "    }\n",
       "\n",
       "    .dataframe tbody tr th {\n",
       "        vertical-align: top;\n",
       "    }\n",
       "\n",
       "    .dataframe thead th {\n",
       "        text-align: right;\n",
       "    }\n",
       "</style>\n",
       "<table border=\"1\" class=\"dataframe\">\n",
       "  <thead>\n",
       "    <tr style=\"text-align: right;\">\n",
       "      <th></th>\n",
       "      <th>Document Currency</th>\n",
       "      <th>Enterprise Bu</th>\n",
       "      <th>Invoicing Fiscal Year-Period Desc</th>\n",
       "      <th>Completed Sales Doc Currency</th>\n",
       "    </tr>\n",
       "  </thead>\n",
       "  <tbody>\n",
       "    <tr>\n",
       "      <th>0</th>\n",
       "      <td>AUD</td>\n",
       "      <td>Experience Cloud</td>\n",
       "      <td>2015-06</td>\n",
       "      <td>589499.45</td>\n",
       "    </tr>\n",
       "    <tr>\n",
       "      <th>1</th>\n",
       "      <td>AUD</td>\n",
       "      <td>Experience Cloud</td>\n",
       "      <td>2015-07</td>\n",
       "      <td>656493.50</td>\n",
       "    </tr>\n",
       "    <tr>\n",
       "      <th>2</th>\n",
       "      <td>AUD</td>\n",
       "      <td>Experience Cloud</td>\n",
       "      <td>2015-08</td>\n",
       "      <td>370780.74</td>\n",
       "    </tr>\n",
       "    <tr>\n",
       "      <th>3</th>\n",
       "      <td>AUD</td>\n",
       "      <td>Experience Cloud</td>\n",
       "      <td>2015-09</td>\n",
       "      <td>1251726.13</td>\n",
       "    </tr>\n",
       "    <tr>\n",
       "      <th>4</th>\n",
       "      <td>AUD</td>\n",
       "      <td>Experience Cloud</td>\n",
       "      <td>2015-10</td>\n",
       "      <td>291324.07</td>\n",
       "    </tr>\n",
       "  </tbody>\n",
       "</table>\n",
       "</div>"
      ],
      "text/plain": [
       "  Document Currency     Enterprise Bu Invoicing Fiscal Year-Period Desc  \\\n",
       "0               AUD  Experience Cloud                           2015-06   \n",
       "1               AUD  Experience Cloud                           2015-07   \n",
       "2               AUD  Experience Cloud                           2015-08   \n",
       "3               AUD  Experience Cloud                           2015-09   \n",
       "4               AUD  Experience Cloud                           2015-10   \n",
       "\n",
       "   Completed Sales Doc Currency  \n",
       "0                     589499.45  \n",
       "1                     656493.50  \n",
       "2                     370780.74  \n",
       "3                    1251726.13  \n",
       "4                     291324.07  "
      ]
     },
     "execution_count": 19,
     "metadata": {},
     "output_type": "execute_result"
    }
   ],
   "source": [
    "gb_svc.drop(labels='Subscription Term', axis=1,inplace =True)\n",
    "gb_svc.head(5)"
   ]
  },
  {
   "cell_type": "markdown",
   "metadata": {},
   "source": [
    "# NOW WORKING ON DEFERRED BILLINGS\n",
    "\n",
    "## Type B billings are service agreements that will have invoices submitted before the billings are reclassified to revenue. If no invoices are assigned to the billings, the billings become revenue in 12 months"
   ]
  },
  {
   "cell_type": "code",
   "execution_count": 20,
   "metadata": {},
   "outputs": [],
   "source": [
    "# filter out the type B first then do a group_by\n",
    "dfr_b = dfr[dfr['Revenue Recognition Category New']=='B']"
   ]
  },
  {
   "cell_type": "code",
   "execution_count": 21,
   "metadata": {},
   "outputs": [],
   "source": [
    "gb_b = dfr_b.groupby(['Document Currency', 'Enterprise Bu', 'Invoicing Fiscal Year-Period Desc'], as_index=False).sum()"
   ]
  },
  {
   "cell_type": "code",
   "execution_count": 22,
   "metadata": {},
   "outputs": [
    {
     "data": {
      "text/html": [
       "<div>\n",
       "<style scoped>\n",
       "    .dataframe tbody tr th:only-of-type {\n",
       "        vertical-align: middle;\n",
       "    }\n",
       "\n",
       "    .dataframe tbody tr th {\n",
       "        vertical-align: top;\n",
       "    }\n",
       "\n",
       "    .dataframe thead th {\n",
       "        text-align: right;\n",
       "    }\n",
       "</style>\n",
       "<table border=\"1\" class=\"dataframe\">\n",
       "  <thead>\n",
       "    <tr style=\"text-align: right;\">\n",
       "      <th></th>\n",
       "      <th>Document Currency</th>\n",
       "      <th>Enterprise Bu</th>\n",
       "      <th>Invoicing Fiscal Year-Period Desc</th>\n",
       "      <th>Subscription Term</th>\n",
       "      <th>Completed Sales Doc Currency</th>\n",
       "    </tr>\n",
       "  </thead>\n",
       "  <tbody>\n",
       "    <tr>\n",
       "      <th>0</th>\n",
       "      <td>AUD</td>\n",
       "      <td>Creative</td>\n",
       "      <td>2017-10</td>\n",
       "      <td>0</td>\n",
       "      <td>8544.00</td>\n",
       "    </tr>\n",
       "    <tr>\n",
       "      <th>1</th>\n",
       "      <td>AUD</td>\n",
       "      <td>Document Cloud</td>\n",
       "      <td>2017-12</td>\n",
       "      <td>0</td>\n",
       "      <td>3283.20</td>\n",
       "    </tr>\n",
       "    <tr>\n",
       "      <th>2</th>\n",
       "      <td>AUD</td>\n",
       "      <td>Document Cloud</td>\n",
       "      <td>2018-06</td>\n",
       "      <td>0</td>\n",
       "      <td>3425.00</td>\n",
       "    </tr>\n",
       "    <tr>\n",
       "      <th>3</th>\n",
       "      <td>AUD</td>\n",
       "      <td>Document Cloud</td>\n",
       "      <td>2018-12</td>\n",
       "      <td>0</td>\n",
       "      <td>3425.00</td>\n",
       "    </tr>\n",
       "    <tr>\n",
       "      <th>4</th>\n",
       "      <td>AUD</td>\n",
       "      <td>Document Cloud</td>\n",
       "      <td>2019-03</td>\n",
       "      <td>0</td>\n",
       "      <td>4375.00</td>\n",
       "    </tr>\n",
       "    <tr>\n",
       "      <th>5</th>\n",
       "      <td>AUD</td>\n",
       "      <td>Experience Cloud</td>\n",
       "      <td>2015-06</td>\n",
       "      <td>0</td>\n",
       "      <td>258231.69</td>\n",
       "    </tr>\n",
       "    <tr>\n",
       "      <th>6</th>\n",
       "      <td>AUD</td>\n",
       "      <td>Experience Cloud</td>\n",
       "      <td>2015-07</td>\n",
       "      <td>0</td>\n",
       "      <td>261159.25</td>\n",
       "    </tr>\n",
       "    <tr>\n",
       "      <th>7</th>\n",
       "      <td>AUD</td>\n",
       "      <td>Experience Cloud</td>\n",
       "      <td>2015-08</td>\n",
       "      <td>0</td>\n",
       "      <td>270139.50</td>\n",
       "    </tr>\n",
       "    <tr>\n",
       "      <th>8</th>\n",
       "      <td>AUD</td>\n",
       "      <td>Experience Cloud</td>\n",
       "      <td>2015-09</td>\n",
       "      <td>0</td>\n",
       "      <td>482725.30</td>\n",
       "    </tr>\n",
       "    <tr>\n",
       "      <th>9</th>\n",
       "      <td>AUD</td>\n",
       "      <td>Experience Cloud</td>\n",
       "      <td>2015-10</td>\n",
       "      <td>0</td>\n",
       "      <td>287254.60</td>\n",
       "    </tr>\n",
       "  </tbody>\n",
       "</table>\n",
       "</div>"
      ],
      "text/plain": [
       "  Document Currency     Enterprise Bu Invoicing Fiscal Year-Period Desc  \\\n",
       "0               AUD          Creative                           2017-10   \n",
       "1               AUD    Document Cloud                           2017-12   \n",
       "2               AUD    Document Cloud                           2018-06   \n",
       "3               AUD    Document Cloud                           2018-12   \n",
       "4               AUD    Document Cloud                           2019-03   \n",
       "5               AUD  Experience Cloud                           2015-06   \n",
       "6               AUD  Experience Cloud                           2015-07   \n",
       "7               AUD  Experience Cloud                           2015-08   \n",
       "8               AUD  Experience Cloud                           2015-09   \n",
       "9               AUD  Experience Cloud                           2015-10   \n",
       "\n",
       "   Subscription Term  Completed Sales Doc Currency  \n",
       "0                  0                       8544.00  \n",
       "1                  0                       3283.20  \n",
       "2                  0                       3425.00  \n",
       "3                  0                       3425.00  \n",
       "4                  0                       4375.00  \n",
       "5                  0                     258231.69  \n",
       "6                  0                     261159.25  \n",
       "7                  0                     270139.50  \n",
       "8                  0                     482725.30  \n",
       "9                  0                     287254.60  "
      ]
     },
     "execution_count": 22,
     "metadata": {},
     "output_type": "execute_result"
    }
   ],
   "source": [
    "gb_b.head(10)"
   ]
  },
  {
   "cell_type": "code",
   "execution_count": 23,
   "metadata": {},
   "outputs": [],
   "source": [
    "gb_b.drop(labels='Subscription Term', axis=1, inplace=True)"
   ]
  },
  {
   "cell_type": "code",
   "execution_count": 24,
   "metadata": {},
   "outputs": [
    {
     "data": {
      "text/plain": [
       "Index(['Document Currency', 'Enterprise Bu', 'Frequency',\n",
       "       'Invoicing Fiscal Year-Period Desc', 'Product Configtype ID',\n",
       "       'Revenue Recognition Category New', 'Rule For Bill Date', 'Sales Type',\n",
       "       'Subscription Term', 'Completed Sales Doc Currency'],\n",
       "      dtype='object')"
      ]
     },
     "execution_count": 24,
     "metadata": {},
     "output_type": "execute_result"
    }
   ],
   "source": [
    "dfr.columns"
   ]
  },
  {
   "cell_type": "code",
   "execution_count": 25,
   "metadata": {},
   "outputs": [
    {
     "name": "stdout",
     "output_type": "stream",
     "text": [
      "22919\n"
     ]
    }
   ],
   "source": [
    "print(len(dfr))"
   ]
  },
  {
   "cell_type": "code",
   "execution_count": 26,
   "metadata": {},
   "outputs": [
    {
     "name": "stdout",
     "output_type": "stream",
     "text": [
      "997\n"
     ]
    }
   ],
   "source": [
    "print(len(dfr_b))"
   ]
  },
  {
   "cell_type": "code",
   "execution_count": null,
   "metadata": {},
   "outputs": [],
   "source": []
  },
  {
   "cell_type": "code",
   "execution_count": null,
   "metadata": {},
   "outputs": [],
   "source": []
  },
  {
   "cell_type": "markdown",
   "metadata": {},
   "source": [
    "## Now Type A Billings\n",
    "These billings are on a billing plan. The product config tells us how long before they renew\n",
    "\n",
    " - '2Y' = 24 months\n",
    " - '1Y' = 12 months\n",
    " - 'MTHLY' = 1 month\n",
    " \n",
    "NOTE: There are also other fields in the 'Product Configtype ID' field that do not map well to a rebill period.\n",
    "To fix this, we need to load up a different file and determine the length of the sales contract (type A no config)\n",
    " "
   ]
  },
  {
   "cell_type": "code",
   "execution_count": 27,
   "metadata": {},
   "outputs": [],
   "source": [
    "# filtering just the type A billings\n",
    "dfr_a = dfr[dfr['Revenue Recognition Category New']=='A']"
   ]
  },
  {
   "cell_type": "code",
   "execution_count": 28,
   "metadata": {},
   "outputs": [],
   "source": [
    "gb_a = dfr_a.groupby(['Document Currency', 'Enterprise Bu', 'Invoicing Fiscal Year-Period Desc',\n",
    "                     'Product Configtype ID'], as_index=False).sum()\n",
    "gb_a.drop(labels='Subscription Term', axis=1, inplace = True)"
   ]
  },
  {
   "cell_type": "code",
   "execution_count": 29,
   "metadata": {},
   "outputs": [
    {
     "data": {
      "text/html": [
       "<div>\n",
       "<style scoped>\n",
       "    .dataframe tbody tr th:only-of-type {\n",
       "        vertical-align: middle;\n",
       "    }\n",
       "\n",
       "    .dataframe tbody tr th {\n",
       "        vertical-align: top;\n",
       "    }\n",
       "\n",
       "    .dataframe thead th {\n",
       "        text-align: right;\n",
       "    }\n",
       "</style>\n",
       "<table border=\"1\" class=\"dataframe\">\n",
       "  <thead>\n",
       "    <tr style=\"text-align: right;\">\n",
       "      <th></th>\n",
       "      <th>Document Currency</th>\n",
       "      <th>Enterprise Bu</th>\n",
       "      <th>Invoicing Fiscal Year-Period Desc</th>\n",
       "      <th>Product Configtype ID</th>\n",
       "      <th>Completed Sales Doc Currency</th>\n",
       "    </tr>\n",
       "  </thead>\n",
       "  <tbody>\n",
       "    <tr>\n",
       "      <th>1869</th>\n",
       "      <td>GBP</td>\n",
       "      <td>Document Cloud</td>\n",
       "      <td>2018-04</td>\n",
       "      <td>2Y</td>\n",
       "      <td>9.035770e+03</td>\n",
       "    </tr>\n",
       "    <tr>\n",
       "      <th>1506</th>\n",
       "      <td>EUR</td>\n",
       "      <td>Other Solutions</td>\n",
       "      <td>2016-06</td>\n",
       "      <td>OUNIV</td>\n",
       "      <td>1.007400e+04</td>\n",
       "    </tr>\n",
       "    <tr>\n",
       "      <th>1395</th>\n",
       "      <td>EUR</td>\n",
       "      <td>Experience Cloud</td>\n",
       "      <td>2016-02</td>\n",
       "      <td>1Y</td>\n",
       "      <td>7.652724e+05</td>\n",
       "    </tr>\n",
       "    <tr>\n",
       "      <th>2141</th>\n",
       "      <td>JPY</td>\n",
       "      <td>Creative</td>\n",
       "      <td>2015-10</td>\n",
       "      <td>1Y</td>\n",
       "      <td>5.210580e+08</td>\n",
       "    </tr>\n",
       "    <tr>\n",
       "      <th>587</th>\n",
       "      <td>CAD</td>\n",
       "      <td>Print &amp; Publishing</td>\n",
       "      <td>2015-10</td>\n",
       "      <td>1Y</td>\n",
       "      <td>2.685400e+02</td>\n",
       "    </tr>\n",
       "    <tr>\n",
       "      <th>102</th>\n",
       "      <td>AUD</td>\n",
       "      <td>Creative</td>\n",
       "      <td>2018-04</td>\n",
       "      <td>2Y</td>\n",
       "      <td>8.831040e+03</td>\n",
       "    </tr>\n",
       "    <tr>\n",
       "      <th>393</th>\n",
       "      <td>AUD</td>\n",
       "      <td>Print &amp; Publishing</td>\n",
       "      <td>2016-10</td>\n",
       "      <td>1Y</td>\n",
       "      <td>2.982591e+04</td>\n",
       "    </tr>\n",
       "    <tr>\n",
       "      <th>2681</th>\n",
       "      <td>NOK</td>\n",
       "      <td>Document Cloud</td>\n",
       "      <td>2017-12</td>\n",
       "      <td>1Y</td>\n",
       "      <td>-1.833240e+03</td>\n",
       "    </tr>\n",
       "    <tr>\n",
       "      <th>372</th>\n",
       "      <td>AUD</td>\n",
       "      <td>Print &amp; Publishing</td>\n",
       "      <td>2015-11</td>\n",
       "      <td>2Y</td>\n",
       "      <td>4.919000e+03</td>\n",
       "    </tr>\n",
       "    <tr>\n",
       "      <th>1462</th>\n",
       "      <td>EUR</td>\n",
       "      <td>LiveCycle</td>\n",
       "      <td>2016-08</td>\n",
       "      <td>1Y</td>\n",
       "      <td>1.706735e+05</td>\n",
       "    </tr>\n",
       "  </tbody>\n",
       "</table>\n",
       "</div>"
      ],
      "text/plain": [
       "     Document Currency       Enterprise Bu Invoicing Fiscal Year-Period Desc  \\\n",
       "1869               GBP      Document Cloud                           2018-04   \n",
       "1506               EUR     Other Solutions                           2016-06   \n",
       "1395               EUR    Experience Cloud                           2016-02   \n",
       "2141               JPY            Creative                           2015-10   \n",
       "587                CAD  Print & Publishing                           2015-10   \n",
       "102                AUD            Creative                           2018-04   \n",
       "393                AUD  Print & Publishing                           2016-10   \n",
       "2681               NOK      Document Cloud                           2017-12   \n",
       "372                AUD  Print & Publishing                           2015-11   \n",
       "1462               EUR           LiveCycle                           2016-08   \n",
       "\n",
       "     Product Configtype ID  Completed Sales Doc Currency  \n",
       "1869                    2Y                  9.035770e+03  \n",
       "1506                 OUNIV                  1.007400e+04  \n",
       "1395                    1Y                  7.652724e+05  \n",
       "2141                    1Y                  5.210580e+08  \n",
       "587                     1Y                  2.685400e+02  \n",
       "102                     2Y                  8.831040e+03  \n",
       "393                     1Y                  2.982591e+04  \n",
       "2681                    1Y                 -1.833240e+03  \n",
       "372                     2Y                  4.919000e+03  \n",
       "1462                    1Y                  1.706735e+05  "
      ]
     },
     "execution_count": 29,
     "metadata": {},
     "output_type": "execute_result"
    }
   ],
   "source": [
    "gb_a.sample(10)"
   ]
  },
  {
   "cell_type": "code",
   "execution_count": 30,
   "metadata": {},
   "outputs": [
    {
     "data": {
      "text/plain": [
       "1Y       1856\n",
       "MTHLY     823\n",
       "2Y        657\n",
       "OUNIV     171\n",
       "OCONS      62\n",
       "3Y         46\n",
       "ONORE      28\n",
       "Name: Product Configtype ID, dtype: int64"
      ]
     },
     "execution_count": 30,
     "metadata": {},
     "output_type": "execute_result"
    }
   ],
   "source": [
    "gb_a['Product Configtype ID'].value_counts()"
   ]
  },
  {
   "cell_type": "code",
   "execution_count": 31,
   "metadata": {},
   "outputs": [],
   "source": [
    "gb_a_config = gb_a.groupby(['Product Configtype ID'], as_index=False).sum()"
   ]
  },
  {
   "cell_type": "code",
   "execution_count": 32,
   "metadata": {},
   "outputs": [
    {
     "data": {
      "text/html": [
       "<div>\n",
       "<style scoped>\n",
       "    .dataframe tbody tr th:only-of-type {\n",
       "        vertical-align: middle;\n",
       "    }\n",
       "\n",
       "    .dataframe tbody tr th {\n",
       "        vertical-align: top;\n",
       "    }\n",
       "\n",
       "    .dataframe thead th {\n",
       "        text-align: right;\n",
       "    }\n",
       "</style>\n",
       "<table border=\"1\" class=\"dataframe\">\n",
       "  <thead>\n",
       "    <tr style=\"text-align: right;\">\n",
       "      <th></th>\n",
       "      <th>Product Configtype ID</th>\n",
       "      <th>Completed Sales Doc Currency</th>\n",
       "    </tr>\n",
       "  </thead>\n",
       "  <tbody>\n",
       "    <tr>\n",
       "      <th>0</th>\n",
       "      <td>1Y</td>\n",
       "      <td>6.471612e+10</td>\n",
       "    </tr>\n",
       "    <tr>\n",
       "      <th>1</th>\n",
       "      <td>2Y</td>\n",
       "      <td>1.973660e+08</td>\n",
       "    </tr>\n",
       "    <tr>\n",
       "      <th>2</th>\n",
       "      <td>3Y</td>\n",
       "      <td>8.787511e+07</td>\n",
       "    </tr>\n",
       "    <tr>\n",
       "      <th>3</th>\n",
       "      <td>MTHLY</td>\n",
       "      <td>-1.982427e+07</td>\n",
       "    </tr>\n",
       "    <tr>\n",
       "      <th>4</th>\n",
       "      <td>OCONS</td>\n",
       "      <td>2.883743e+07</td>\n",
       "    </tr>\n",
       "    <tr>\n",
       "      <th>5</th>\n",
       "      <td>ONORE</td>\n",
       "      <td>2.258881e+06</td>\n",
       "    </tr>\n",
       "    <tr>\n",
       "      <th>6</th>\n",
       "      <td>OUNIV</td>\n",
       "      <td>3.328696e+06</td>\n",
       "    </tr>\n",
       "  </tbody>\n",
       "</table>\n",
       "</div>"
      ],
      "text/plain": [
       "  Product Configtype ID  Completed Sales Doc Currency\n",
       "0                    1Y                  6.471612e+10\n",
       "1                    2Y                  1.973660e+08\n",
       "2                    3Y                  8.787511e+07\n",
       "3                 MTHLY                 -1.982427e+07\n",
       "4                 OCONS                  2.883743e+07\n",
       "5                 ONORE                  2.258881e+06\n",
       "6                 OUNIV                  3.328696e+06"
      ]
     },
     "execution_count": 32,
     "metadata": {},
     "output_type": "execute_result"
    }
   ],
   "source": [
    "gb_a_config"
   ]
  },
  {
   "cell_type": "code",
   "execution_count": 33,
   "metadata": {},
   "outputs": [
    {
     "data": {
      "text/plain": [
       "<BarContainer object of 7 artists>"
      ]
     },
     "execution_count": 33,
     "metadata": {},
     "output_type": "execute_result"
    },
    {
     "data": {
      "image/png": "[encoded data removed]",
      "text/plain": [
       "<Figure size 432x288 with 1 Axes>"
      ]
     },
     "metadata": {
      "needs_background": "light"
     },
     "output_type": "display_data"
    }
   ],
   "source": [
    "plt.bar(gb_a_config['Product Configtype ID'], gb_a_config['Completed Sales Doc Currency'])"
   ]
  },
  {
   "cell_type": "markdown",
   "metadata": {},
   "source": [
    "### These type A amounts are very small!"
   ]
  },
  {
   "cell_type": "code",
   "execution_count": 34,
   "metadata": {},
   "outputs": [],
   "source": [
    "# OK now lets just filter this gb_a to only be 1Y, 2Y, 3Y and MTHLY"
   ]
  },
  {
   "cell_type": "code",
   "execution_count": null,
   "metadata": {},
   "outputs": [],
   "source": []
  },
  {
   "cell_type": "code",
   "execution_count": null,
   "metadata": {},
   "outputs": [],
   "source": []
  },
  {
   "cell_type": "code",
   "execution_count": 35,
   "metadata": {},
   "outputs": [
    {
     "data": {
      "text/plain": [
       "3382"
      ]
     },
     "execution_count": 35,
     "metadata": {},
     "output_type": "execute_result"
    }
   ],
   "source": [
    "config_list = ['1Y', '2Y', '3Y', 'MTHLY']\n",
    "test1 = gb_a['Product Configtype ID'].isin(config_list)\n",
    "sum(test1)"
   ]
  },
  {
   "cell_type": "code",
   "execution_count": 36,
   "metadata": {},
   "outputs": [],
   "source": [
    "test1 = gb_a[gb_a['Product Configtype ID'].isin(config_list)]"
   ]
  },
  {
   "cell_type": "markdown",
   "metadata": {},
   "source": [
    "## For now, lets just split this into gb_a_1Y, gb_a_2Y, gb_a_3y, gb_a_1M\n"
   ]
  },
  {
   "cell_type": "code",
   "execution_count": 37,
   "metadata": {},
   "outputs": [],
   "source": [
    "gb_a_1Y = test1[test1['Product Configtype ID']=='1Y']\n",
    "gb_a_2Y = test1[test1['Product Configtype ID']=='2Y']\n",
    "gb_a_3Y = test1[test1['Product Configtype ID']=='3Y']\n",
    "gb_a_1M = test1[test1['Product Configtype ID']=='MTHLY']"
   ]
  },
  {
   "cell_type": "code",
   "execution_count": 38,
   "metadata": {},
   "outputs": [
    {
     "name": "stdout",
     "output_type": "stream",
     "text": [
      "this is the lenght of type A 1M billings:  823\n",
      "this is the lenght of type A 1Y billings:  1856\n",
      "this is the lenght of type A 2Y billings:  657\n",
      "this is the lenght of type A 3Y billings:  46\n"
     ]
    }
   ],
   "source": [
    "print('this is the lenght of type A 1M billings: ', len(gb_a_1M))\n",
    "print('this is the lenght of type A 1Y billings: ', len(gb_a_1Y))\n",
    "print('this is the lenght of type A 2Y billings: ', len(gb_a_2Y))\n",
    "print('this is the lenght of type A 3Y billings: ', len(gb_a_3Y))"
   ]
  },
  {
   "cell_type": "markdown",
   "metadata": {},
   "source": [
    "# TYPE D billings\n",
    "These billings have a field 'Rule For Bill Date' that determines when new billings will occur\n",
    " - Monthly [Y1, Y2, Y3, Y5]\n",
    " - Quarterly [YQ]\n",
    " - Every 4 months [YT]\n",
    " - Semi-annual [YH]\n",
    " - Annual [YA, YC]\n",
    " - Every 2 years - [Y4]\n",
    " \n",
    " We also need to track the type D billings that do not have a 'Rule for Bill Date'"
   ]
  },
  {
   "cell_type": "code",
   "execution_count": 39,
   "metadata": {},
   "outputs": [],
   "source": [
    "# for now just do a groupby on the type\n",
    "# filtering just the type A billings\n",
    "dfr_d = dfr[dfr['Revenue Recognition Category New']=='D']"
   ]
  },
  {
   "cell_type": "code",
   "execution_count": 40,
   "metadata": {},
   "outputs": [],
   "source": [
    "gb_d = dfr_d.groupby(['Document Currency', 'Enterprise Bu', 'Invoicing Fiscal Year-Period Desc',\n",
    "                     'Rule For Bill Date'], as_index=False).sum()\n",
    "gb_d.drop(labels='Subscription Term', axis=1, inplace = True)"
   ]
  },
  {
   "cell_type": "code",
   "execution_count": 41,
   "metadata": {},
   "outputs": [],
   "source": [
    "gb_d_mthly = gb_d[gb_d['Rule For Bill Date'].isin(['Y1', 'Y2', 'Y3', 'Y5'])]\n",
    "gb_d_qtrly = gb_d[gb_d['Rule For Bill Date']=='YQ']\n",
    "gb_d_four_mths = gb_d[gb_d['Rule For Bill Date']=='YT']\n",
    "gb_d_semi_ann = gb_d[gb_d['Rule For Bill Date']=='YH']\n",
    "gb_d_annual = gb_d[gb_d['Rule For Bill Date'].isin(['YA', 'YC'])]\n",
    "gb_d_two_yrs = gb_d[gb_d['Rule For Bill Date']=='Y4']"
   ]
  },
  {
   "cell_type": "code",
   "execution_count": 42,
   "metadata": {},
   "outputs": [
    {
     "data": {
      "text/plain": [
       "YA    1630\n",
       "Y3    1438\n",
       "YQ     530\n",
       "Y1     256\n",
       "YC     246\n",
       "YH     243\n",
       "Y2      95\n",
       "Y4      23\n",
       "Y7      18\n",
       "YT       8\n",
       "BT       1\n",
       "Name: Rule For Bill Date, dtype: int64"
      ]
     },
     "execution_count": 42,
     "metadata": {},
     "output_type": "execute_result"
    }
   ],
   "source": [
    "gb_d['Rule For Bill Date'].value_counts()"
   ]
  },
  {
   "cell_type": "markdown",
   "metadata": {},
   "source": [
    "### Note: There is one type D billings that is listed as 'BT' I don't know what this means, but it was a $180 EUR payment from January 2017, so we will ignore"
   ]
  },
  {
   "cell_type": "code",
   "execution_count": 43,
   "metadata": {},
   "outputs": [
    {
     "name": "stdout",
     "output_type": "stream",
     "text": [
      "Length of monthly 1789\n",
      "Length of quarterly 530\n",
      "Length of four months 8\n",
      "Length of semi ann 243\n",
      "Length of annual 1876\n",
      "Length of two years 23\n"
     ]
    }
   ],
   "source": [
    "print('Length of monthly', len(gb_d_mthly))\n",
    "print('Length of quarterly', len(gb_d_qtrly))\n",
    "print('Length of four months', len(gb_d_four_mths))\n",
    "print('Length of semi ann', len(gb_d_semi_ann))\n",
    "print('Length of annual', len(gb_d_annual))\n",
    "print('Length of two years', len(gb_d_two_yrs))"
   ]
  },
  {
   "cell_type": "code",
   "execution_count": 44,
   "metadata": {},
   "outputs": [
    {
     "data": {
      "text/html": [
       "<div>\n",
       "<style scoped>\n",
       "    .dataframe tbody tr th:only-of-type {\n",
       "        vertical-align: middle;\n",
       "    }\n",
       "\n",
       "    .dataframe tbody tr th {\n",
       "        vertical-align: top;\n",
       "    }\n",
       "\n",
       "    .dataframe thead th {\n",
       "        text-align: right;\n",
       "    }\n",
       "</style>\n",
       "<table border=\"1\" class=\"dataframe\">\n",
       "  <thead>\n",
       "    <tr style=\"text-align: right;\">\n",
       "      <th></th>\n",
       "      <th>Document Currency</th>\n",
       "      <th>Enterprise Bu</th>\n",
       "      <th>Invoicing Fiscal Year-Period Desc</th>\n",
       "      <th>Rule For Bill Date</th>\n",
       "      <th>Completed Sales Doc Currency</th>\n",
       "    </tr>\n",
       "  </thead>\n",
       "  <tbody>\n",
       "    <tr>\n",
       "      <th>4054</th>\n",
       "      <td>USD</td>\n",
       "      <td>Experience Cloud</td>\n",
       "      <td>2015-06</td>\n",
       "      <td>YT</td>\n",
       "      <td>11666.60</td>\n",
       "    </tr>\n",
       "    <tr>\n",
       "      <th>4068</th>\n",
       "      <td>USD</td>\n",
       "      <td>Experience Cloud</td>\n",
       "      <td>2015-08</td>\n",
       "      <td>YT</td>\n",
       "      <td>549861.11</td>\n",
       "    </tr>\n",
       "    <tr>\n",
       "      <th>4081</th>\n",
       "      <td>USD</td>\n",
       "      <td>Experience Cloud</td>\n",
       "      <td>2015-10</td>\n",
       "      <td>YT</td>\n",
       "      <td>11666.60</td>\n",
       "    </tr>\n",
       "    <tr>\n",
       "      <th>4101</th>\n",
       "      <td>USD</td>\n",
       "      <td>Experience Cloud</td>\n",
       "      <td>2016-01</td>\n",
       "      <td>YT</td>\n",
       "      <td>612916.60</td>\n",
       "    </tr>\n",
       "    <tr>\n",
       "      <th>4106</th>\n",
       "      <td>USD</td>\n",
       "      <td>Experience Cloud</td>\n",
       "      <td>2016-02</td>\n",
       "      <td>YT</td>\n",
       "      <td>-601250.00</td>\n",
       "    </tr>\n",
       "    <tr>\n",
       "      <th>4166</th>\n",
       "      <td>USD</td>\n",
       "      <td>Experience Cloud</td>\n",
       "      <td>2016-12</td>\n",
       "      <td>YT</td>\n",
       "      <td>13440.00</td>\n",
       "    </tr>\n",
       "    <tr>\n",
       "      <th>4190</th>\n",
       "      <td>USD</td>\n",
       "      <td>Experience Cloud</td>\n",
       "      <td>2017-04</td>\n",
       "      <td>YT</td>\n",
       "      <td>13440.00</td>\n",
       "    </tr>\n",
       "    <tr>\n",
       "      <th>4214</th>\n",
       "      <td>USD</td>\n",
       "      <td>Experience Cloud</td>\n",
       "      <td>2017-08</td>\n",
       "      <td>YT</td>\n",
       "      <td>13440.00</td>\n",
       "    </tr>\n",
       "  </tbody>\n",
       "</table>\n",
       "</div>"
      ],
      "text/plain": [
       "     Document Currency     Enterprise Bu Invoicing Fiscal Year-Period Desc  \\\n",
       "4054               USD  Experience Cloud                           2015-06   \n",
       "4068               USD  Experience Cloud                           2015-08   \n",
       "4081               USD  Experience Cloud                           2015-10   \n",
       "4101               USD  Experience Cloud                           2016-01   \n",
       "4106               USD  Experience Cloud                           2016-02   \n",
       "4166               USD  Experience Cloud                           2016-12   \n",
       "4190               USD  Experience Cloud                           2017-04   \n",
       "4214               USD  Experience Cloud                           2017-08   \n",
       "\n",
       "     Rule For Bill Date  Completed Sales Doc Currency  \n",
       "4054                 YT                      11666.60  \n",
       "4068                 YT                     549861.11  \n",
       "4081                 YT                      11666.60  \n",
       "4101                 YT                     612916.60  \n",
       "4106                 YT                    -601250.00  \n",
       "4166                 YT                      13440.00  \n",
       "4190                 YT                      13440.00  \n",
       "4214                 YT                      13440.00  "
      ]
     },
     "execution_count": 44,
     "metadata": {},
     "output_type": "execute_result"
    }
   ],
   "source": [
    "what_is_BT = gb_d[gb_d['Rule For Bill Date']=='YT']\n",
    "what_is_BT.head(10)"
   ]
  },
  {
   "cell_type": "markdown",
   "metadata": {},
   "source": [
    "## Note: There are only 8 payments (back from 2017) that paid on a 4 month basis. \n",
    "We will ignore these as well."
   ]
  },
  {
   "cell_type": "code",
   "execution_count": null,
   "metadata": {},
   "outputs": [],
   "source": []
  },
  {
   "cell_type": "code",
   "execution_count": null,
   "metadata": {},
   "outputs": [],
   "source": []
  },
  {
   "cell_type": "markdown",
   "metadata": {},
   "source": [
    "## NOW WE NEED TO BUILD A DATAFRAME THAT INTEGRATES THIS DATA\n",
    "\n",
    "- We will have the following descriptive fields\n",
    "   - Invoicing Fiscal Year-Period\n",
    "   - Document Currency\n",
    "   - Enterprise BU\n",
    "\n",
    "- We will have the following fields based on rebilling rule\n",
    "   - Recognized\n",
    "   - Service\n",
    "   - Monthly\n",
    "   - Quarterly\n",
    "   - Annual\n",
    "   - Two Years\n",
    "   - Three Years"
   ]
  },
  {
   "cell_type": "code",
   "execution_count": 54,
   "metadata": {},
   "outputs": [],
   "source": [
    "# We need to do it this way when we get to a .py file!\n",
    "list_df = [gb_rec, gb_svc, gb_b,\n",
    "        gb_a_1M,    gb_a_1Y,    gb_a_2Y,       gb_a_3Y, \n",
    "        gb_d_mthly, gb_d_qtrly, gb_d_semi_ann, gb_d_annual, gb_d_two_yrs]\n",
    "\n",
    "list_columns = ['recognized', 'service', 'deferred_B', \n",
    "    'deferred_1M_a', 'deferred_1Y_a', 'deferred_2Y_a', 'deferred_3Y_a',\n",
    "    'deferred_1M_d', 'deferred_3M_d', 'deferred_6M_d', 'deferred_1Y_d', 'deferred_2Y_d']\n"
   ]
  },
  {
   "cell_type": "code",
   "execution_count": 46,
   "metadata": {},
   "outputs": [],
   "source": [
    "def merge_new_dataframe(old_df, new_df, new_column):\n",
    "    df_merged = pd.merge(old_df, new_df, how='outer', \n",
    "                     left_on=['Document Currency', 'Enterprise Bu', 'Invoicing Fiscal Year-Period Desc'],\n",
    "                    right_on=['Document Currency', 'Enterprise Bu', 'Invoicing Fiscal Year-Period Desc'])\n",
    "    df_merged.rename(index=str, columns={'Completed Sales Doc Currency': new_column}, inplace=True)\n",
    "    \n",
    "    #need to drop the product configtype id for merges where the new_df is of type A\n",
    "    config_str = 'Product Configtype ID'\n",
    "    rule_str = 'Rule For Bill Date'\n",
    "    if config_str in df_merged.columns:\n",
    "        df_merged.drop(columns=['Product Configtype ID'], inplace=True)\n",
    "    \n",
    "    if rule_str in df_merged.columns:\n",
    "        df_merged.drop(columns=['Rule For Bill Date'], inplace=True)\n",
    "        \n",
    "    return df_merged"
   ]
  },
  {
   "cell_type": "code",
   "execution_count": 48,
   "metadata": {},
   "outputs": [],
   "source": [
    "def merge_all_dataframes(list_df, list_columns):\n",
    "    for i, df in enumerate(list_df):\n",
    "        print('This is i:', i)\n",
    "        #print(\"This is the df: \", df.head())\n",
    "        print('referencing the column: ', list_columns[i])\n",
    "\n",
    "        if i==0:\n",
    "            df_merged = list_df[0]\n",
    "            df_merged.rename(index=str, columns={'Completed Sales Doc Currency': list_columns[i]}, inplace=True)\n",
    "        else:\n",
    "            df_merged = merge_new_dataframe(df_merged, df, list_columns[i])\n",
    "\n",
    "    return df_merged\n",
    "    "
   ]
  },
  {
   "cell_type": "code",
   "execution_count": 49,
   "metadata": {},
   "outputs": [
    {
     "name": "stdout",
     "output_type": "stream",
     "text": [
      "This is i: 0\n",
      "referencing the column:  recognized\n",
      "This is i: 1\n",
      "referencing the column:  service\n",
      "This is i: 2\n",
      "referencing the column:  deferred_B\n",
      "This is i: 3\n",
      "referencing the column:  deferred_1M_a\n",
      "This is i: 4\n",
      "referencing the column:  deferred_1Y_a\n",
      "This is i: 5\n",
      "referencing the column:  deferred_2Y_a\n",
      "This is i: 6\n",
      "referencing the column:  deferred_3Y_a\n",
      "This is i: 7\n",
      "referencing the column:  deferred_1M_d\n",
      "This is i: 8\n",
      "referencing the column:  deferred_3M_d\n",
      "This is i: 9\n",
      "referencing the column:  deferred_6M_d\n",
      "This is i: 10\n",
      "referencing the column:  deferred_1Y_d\n",
      "This is i: 11\n",
      "referencing the column:  deferred_2Y_d\n"
     ]
    }
   ],
   "source": [
    "df = merge_all_dataframes(list_df, list_columns)"
   ]
  },
  {
   "cell_type": "code",
   "execution_count": 88,
   "metadata": {
    "scrolled": true
   },
   "outputs": [
    {
     "data": {
      "text/html": [
       "<div>\n",
       "<style scoped>\n",
       "    .dataframe tbody tr th:only-of-type {\n",
       "        vertical-align: middle;\n",
       "    }\n",
       "\n",
       "    .dataframe tbody tr th {\n",
       "        vertical-align: top;\n",
       "    }\n",
       "\n",
       "    .dataframe thead th {\n",
       "        text-align: right;\n",
       "    }\n",
       "</style>\n",
       "<table border=\"1\" class=\"dataframe\">\n",
       "  <thead>\n",
       "    <tr style=\"text-align: right;\">\n",
       "      <th></th>\n",
       "      <th>curr</th>\n",
       "      <th>BU</th>\n",
       "      <th>period</th>\n",
       "      <th>recognized</th>\n",
       "      <th>service</th>\n",
       "      <th>deferred_B</th>\n",
       "      <th>deferred_3Y</th>\n",
       "      <th>deferred_3M</th>\n",
       "      <th>deferred_6M</th>\n",
       "      <th>deferred_1M</th>\n",
       "      <th>deferred_1Y</th>\n",
       "      <th>deferred_2Y</th>\n",
       "    </tr>\n",
       "  </thead>\n",
       "  <tbody>\n",
       "    <tr>\n",
       "      <th>2116</th>\n",
       "      <td>SEK</td>\n",
       "      <td>Document Cloud</td>\n",
       "      <td>2016-05</td>\n",
       "      <td>1.484400e+05</td>\n",
       "      <td>0.00</td>\n",
       "      <td>0.00</td>\n",
       "      <td>0.0</td>\n",
       "      <td>0.00</td>\n",
       "      <td>0.0</td>\n",
       "      <td>183524.59</td>\n",
       "      <td>2.549115e+05</td>\n",
       "      <td>0.0</td>\n",
       "    </tr>\n",
       "    <tr>\n",
       "      <th>628</th>\n",
       "      <td>DKK</td>\n",
       "      <td>Document Cloud</td>\n",
       "      <td>2015-11</td>\n",
       "      <td>3.914000e+04</td>\n",
       "      <td>0.00</td>\n",
       "      <td>0.00</td>\n",
       "      <td>0.0</td>\n",
       "      <td>0.00</td>\n",
       "      <td>0.0</td>\n",
       "      <td>145064.17</td>\n",
       "      <td>1.964491e+05</td>\n",
       "      <td>0.0</td>\n",
       "    </tr>\n",
       "    <tr>\n",
       "      <th>519</th>\n",
       "      <td>CHF</td>\n",
       "      <td>LiveCycle</td>\n",
       "      <td>2017-12</td>\n",
       "      <td>2.340000e+03</td>\n",
       "      <td>0.00</td>\n",
       "      <td>0.00</td>\n",
       "      <td>0.0</td>\n",
       "      <td>0.00</td>\n",
       "      <td>0.0</td>\n",
       "      <td>0.00</td>\n",
       "      <td>0.000000e+00</td>\n",
       "      <td>0.0</td>\n",
       "    </tr>\n",
       "    <tr>\n",
       "      <th>2728</th>\n",
       "      <td>USD</td>\n",
       "      <td>LiveCycle</td>\n",
       "      <td>2016-08</td>\n",
       "      <td>2.679953e+05</td>\n",
       "      <td>0.00</td>\n",
       "      <td>11600.00</td>\n",
       "      <td>0.0</td>\n",
       "      <td>0.00</td>\n",
       "      <td>0.0</td>\n",
       "      <td>0.00</td>\n",
       "      <td>3.699947e+05</td>\n",
       "      <td>0.0</td>\n",
       "    </tr>\n",
       "    <tr>\n",
       "      <th>815</th>\n",
       "      <td>EUR</td>\n",
       "      <td>Creative</td>\n",
       "      <td>2017-06</td>\n",
       "      <td>1.330859e+06</td>\n",
       "      <td>0.00</td>\n",
       "      <td>0.00</td>\n",
       "      <td>0.0</td>\n",
       "      <td>27369.22</td>\n",
       "      <td>0.0</td>\n",
       "      <td>28437999.94</td>\n",
       "      <td>4.740351e+07</td>\n",
       "      <td>118257.0</td>\n",
       "    </tr>\n",
       "    <tr>\n",
       "      <th>2208</th>\n",
       "      <td>SEK</td>\n",
       "      <td>LiveCycle</td>\n",
       "      <td>2016-10</td>\n",
       "      <td>6.660000e+03</td>\n",
       "      <td>0.00</td>\n",
       "      <td>0.00</td>\n",
       "      <td>0.0</td>\n",
       "      <td>0.00</td>\n",
       "      <td>0.0</td>\n",
       "      <td>0.00</td>\n",
       "      <td>0.000000e+00</td>\n",
       "      <td>0.0</td>\n",
       "    </tr>\n",
       "    <tr>\n",
       "      <th>2874</th>\n",
       "      <td>CAD</td>\n",
       "      <td>Experience Cloud</td>\n",
       "      <td>2016-08</td>\n",
       "      <td>0.000000e+00</td>\n",
       "      <td>56215.21</td>\n",
       "      <td>-42840.00</td>\n",
       "      <td>0.0</td>\n",
       "      <td>0.00</td>\n",
       "      <td>0.0</td>\n",
       "      <td>0.00</td>\n",
       "      <td>0.000000e+00</td>\n",
       "      <td>0.0</td>\n",
       "    </tr>\n",
       "    <tr>\n",
       "      <th>1607</th>\n",
       "      <td>JPY</td>\n",
       "      <td>Document Cloud</td>\n",
       "      <td>2015-09</td>\n",
       "      <td>3.719490e+08</td>\n",
       "      <td>0.00</td>\n",
       "      <td>0.00</td>\n",
       "      <td>0.0</td>\n",
       "      <td>0.00</td>\n",
       "      <td>0.0</td>\n",
       "      <td>15320133.00</td>\n",
       "      <td>1.839142e+08</td>\n",
       "      <td>2116980.0</td>\n",
       "    </tr>\n",
       "    <tr>\n",
       "      <th>2489</th>\n",
       "      <td>USD</td>\n",
       "      <td>Document Cloud</td>\n",
       "      <td>2016-07</td>\n",
       "      <td>1.660752e+07</td>\n",
       "      <td>0.00</td>\n",
       "      <td>0.00</td>\n",
       "      <td>0.0</td>\n",
       "      <td>16375.00</td>\n",
       "      <td>4350.0</td>\n",
       "      <td>3126375.98</td>\n",
       "      <td>1.721218e+07</td>\n",
       "      <td>488887.0</td>\n",
       "    </tr>\n",
       "    <tr>\n",
       "      <th>108</th>\n",
       "      <td>AUD</td>\n",
       "      <td>Experience Cloud</td>\n",
       "      <td>2015-06</td>\n",
       "      <td>6.609767e+06</td>\n",
       "      <td>589499.45</td>\n",
       "      <td>258231.69</td>\n",
       "      <td>0.0</td>\n",
       "      <td>391192.00</td>\n",
       "      <td>0.0</td>\n",
       "      <td>33192.00</td>\n",
       "      <td>2.594722e+06</td>\n",
       "      <td>0.0</td>\n",
       "    </tr>\n",
       "  </tbody>\n",
       "</table>\n",
       "</div>"
      ],
      "text/plain": [
       "     curr                BU   period    recognized    service  deferred_B  \\\n",
       "2116  SEK    Document Cloud  2016-05  1.484400e+05       0.00        0.00   \n",
       "628   DKK    Document Cloud  2015-11  3.914000e+04       0.00        0.00   \n",
       "519   CHF         LiveCycle  2017-12  2.340000e+03       0.00        0.00   \n",
       "2728  USD         LiveCycle  2016-08  2.679953e+05       0.00    11600.00   \n",
       "815   EUR          Creative  2017-06  1.330859e+06       0.00        0.00   \n",
       "2208  SEK         LiveCycle  2016-10  6.660000e+03       0.00        0.00   \n",
       "2874  CAD  Experience Cloud  2016-08  0.000000e+00   56215.21   -42840.00   \n",
       "1607  JPY    Document Cloud  2015-09  3.719490e+08       0.00        0.00   \n",
       "2489  USD    Document Cloud  2016-07  1.660752e+07       0.00        0.00   \n",
       "108   AUD  Experience Cloud  2015-06  6.609767e+06  589499.45   258231.69   \n",
       "\n",
       "      deferred_3Y  deferred_3M  deferred_6M  deferred_1M   deferred_1Y  \\\n",
       "2116          0.0         0.00          0.0    183524.59  2.549115e+05   \n",
       "628           0.0         0.00          0.0    145064.17  1.964491e+05   \n",
       "519           0.0         0.00          0.0         0.00  0.000000e+00   \n",
       "2728          0.0         0.00          0.0         0.00  3.699947e+05   \n",
       "815           0.0     27369.22          0.0  28437999.94  4.740351e+07   \n",
       "2208          0.0         0.00          0.0         0.00  0.000000e+00   \n",
       "2874          0.0         0.00          0.0         0.00  0.000000e+00   \n",
       "1607          0.0         0.00          0.0  15320133.00  1.839142e+08   \n",
       "2489          0.0     16375.00       4350.0   3126375.98  1.721218e+07   \n",
       "108           0.0    391192.00          0.0     33192.00  2.594722e+06   \n",
       "\n",
       "      deferred_2Y  \n",
       "2116          0.0  \n",
       "628           0.0  \n",
       "519           0.0  \n",
       "2728          0.0  \n",
       "815      118257.0  \n",
       "2208          0.0  \n",
       "2874          0.0  \n",
       "1607    2116980.0  \n",
       "2489     488887.0  \n",
       "108           0.0  "
      ]
     },
     "execution_count": 88,
     "metadata": {},
     "output_type": "execute_result"
    }
   ],
   "source": [
    "df.sample(10)"
   ]
  },
  {
   "cell_type": "code",
   "execution_count": 60,
   "metadata": {},
   "outputs": [],
   "source": [
    "del gb_svc, gb_rec, gb_d_two_yrs"
   ]
  },
  {
   "cell_type": "code",
   "execution_count": 72,
   "metadata": {},
   "outputs": [],
   "source": [
    "# cleaning up the older dataframes (deleting them)\n",
    "df['deferred_1M'] = df['deferred_1M_a']+df['deferred_1M_d']\n",
    "df.drop(labels=['deferred_1M_a', 'deferred_1M_d'], axis=1, inplace=True)"
   ]
  },
  {
   "cell_type": "code",
   "execution_count": 79,
   "metadata": {},
   "outputs": [],
   "source": [
    "# cleaning up the older dataframes (deleting them)\n",
    "df['deferred_1Y'] = df['deferred_1Y_a']+df['deferred_1Y_d']\n",
    "df.drop(labels=['deferred_1Y_a', 'deferred_1Y_d'], axis=1, inplace=True)"
   ]
  },
  {
   "cell_type": "code",
   "execution_count": 81,
   "metadata": {},
   "outputs": [],
   "source": [
    "# cleaning up the older dataframes (deleting them)\n",
    "df['deferred_2Y'] = df['deferred_2Y_a']+df['deferred_2Y_d']\n",
    "df.drop(labels=['deferred_2Y_a', 'deferred_2Y_d'], axis=1, inplace=True)"
   ]
  },
  {
   "cell_type": "code",
   "execution_count": 83,
   "metadata": {},
   "outputs": [],
   "source": [
    "# Now rename the 'deferred_3Y_a' and 'deferred_3M_d'\n",
    "df.rename(index=str, columns = {'deferred_3Y_a':'deferred_3Y', 'deferred_3M_d':'deferred_3M', \n",
    "                               'deferred_6M_d': 'deferred_6M'}, inplace=True)\n"
   ]
  },
  {
   "cell_type": "code",
   "execution_count": 87,
   "metadata": {},
   "outputs": [],
   "source": [
    "# now cleaning up longer column names\n",
    "df.rename(index=str, columns = {'Document Currency': 'curr',\n",
    "                               'Enterprise Bu':'BU',\n",
    "                               'Invoicing Fiscal Year-Period Desc':'period'}, inplace=True)"
   ]
  },
  {
   "cell_type": "code",
   "execution_count": null,
   "metadata": {},
   "outputs": [],
   "source": [
    "# NOW I NEED TO DO the following\n",
    "\n",
    "#1. Make all NANs zero\n",
    "df = df.fillna(value=0)\n",
    "#2. aggregate the deferred A and deferred D that are of the same type\n",
    "\n",
    "#3. Check on the type F billings\n",
    "\n"
   ]
  },
  {
   "cell_type": "code",
   "execution_count": 70,
   "metadata": {},
   "outputs": [],
   "source": [
    "df."
   ]
  },
  {
   "cell_type": "code",
   "execution_count": null,
   "metadata": {},
   "outputs": [],
   "source": [
    "whos"
   ]
  },
  {
   "cell_type": "code",
   "execution_count": 58,
   "metadata": {},
   "outputs": [],
   "source": [
    "del dfr\n",
    "del dfr_a\n",
    "del dfr_b\n",
    "del dfr_d\n",
    "del gb_a\n",
    "del gb_a_1M\n",
    "del gb_a_1Y\n",
    "del gb_a_2Y\n",
    "del gb_a_3Y\n",
    "del gb_b\n",
    "del gb_d\n",
    "del gb_svc, gb_rec, gb_d_two_yrs\n",
    "del gb_d_four_mths, gb_d_qtrly, gb_d_semi_ann"
   ]
  },
  {
   "cell_type": "code",
   "execution_count": 66,
   "metadata": {},
   "outputs": [
    {
     "name": "stdout",
     "output_type": "stream",
     "text": [
      "Variable               Type         Data/Info\n",
      "---------------------------------------------\n",
      "a                      Index        Index(['USD', 'EUR', 'GBP<...>],\\n      dtype='object')\n",
      "config_list            list         n=4\n",
      "df                     DataFrame         Document Currency   <...>n[3116 rows x 15 columns]\n",
      "gb_d_mthly             DataFrame         Document Currency   <...>\\n[1789 rows x 5 columns]\n",
      "keep_curr              Series       USD    7791\\nEUR    5291\\<...>nt Currency, dtype: int64\n",
      "keep_these             ndarray      23: 23 elems, type `bool`, 23 bytes\n",
      "list_columns           list         n=12\n",
      "list_df                list         n=12\n",
      "merge_all_dataframes   function     <function merge_all_dataframes at 0x10e463f28>\n",
      "merge_new_dataframe    function     <function merge_new_dataframe at 0x1138cdd08>\n",
      "model_dict             dict         n=1\n",
      "np                     module       <module 'numpy' from '/an<...>kages/numpy/__init__.py'>\n",
      "pd                     module       <module 'pandas' from '/a<...>ages/pandas/__init__.py'>\n",
      "plt                    module       <module 'matplotlib.pyplo<...>es/matplotlib/pyplot.py'>\n",
      "rec                    DataFrame          Document Currency  <...>n[5041 rows x 10 columns]\n",
      "remove_these           ndarray      23: 23 elems, type `bool`, 23 bytes\n",
      "svc                    DataFrame          Document Currency  <...>\\n[844 rows x 10 columns]\n",
      "test1                  DataFrame         Document Currency   <...>\\n[3382 rows x 5 columns]\n",
      "vc                     Series       USD    7791\\nEUR    5291\\<...>nt Currency, dtype: int64\n",
      "what_is_BT             DataFrame         Document Currency   <...>               13440.00  \n"
     ]
    }
   ],
   "source": [
    "whos"
   ]
  },
  {
   "cell_type": "code",
   "execution_count": 52,
   "metadata": {},
   "outputs": [],
   "source": [
    "del list_df"
   ]
  },
  {
   "cell_type": "code",
   "execution_count": 53,
   "metadata": {},
   "outputs": [
    {
     "name": "stdout",
     "output_type": "stream",
     "text": [
      "Variable               Type         Data/Info\n",
      "---------------------------------------------\n",
      "a                      Index        Index(['USD', 'EUR', 'GBP<...>],\\n      dtype='object')\n",
      "config_list            list         n=4\n",
      "df                     DataFrame         Document Currency   <...>n[3116 rows x 15 columns]\n",
      "dfr                    DataFrame          Document Currency  <...>[22919 rows x 10 columns]\n",
      "dfr_a                  DataFrame          Document Currency  <...>n[7856 rows x 10 columns]\n",
      "dfr_b                  DataFrame          Document Currency  <...>\\n[997 rows x 10 columns]\n",
      "dfr_d                  DataFrame          Document Currency  <...>[13534 rows x 10 columns]\n",
      "gb_a                   DataFrame         Document Currency   <...>\\n[3643 rows x 5 columns]\n",
      "gb_a_1M                DataFrame         Document Currency   <...>n\\n[823 rows x 5 columns]\n",
      "gb_a_1Y                DataFrame         Document Currency   <...>\\n[1856 rows x 5 columns]\n",
      "gb_a_2Y                DataFrame         Document Currency   <...>n\\n[657 rows x 5 columns]\n",
      "gb_a_3Y                DataFrame         Document Currency   <...>               49588.00  \n",
      "gb_a_config            DataFrame      Product Configtype ID  <...>             3.328696e+06\n",
      "gb_b                   DataFrame        Document Currency    <...>n\\n[479 rows x 4 columns]\n",
      "gb_d                   DataFrame         Document Currency   <...>\\n[4488 rows x 5 columns]\n",
      "gb_d_annual            DataFrame         Document Currency   <...>\\n[1876 rows x 5 columns]\n",
      "gb_d_four_mths         DataFrame         Document Currency   <...>               13440.00  \n",
      "gb_d_mthly             DataFrame         Document Currency   <...>\\n[1789 rows x 5 columns]\n",
      "gb_d_qtrly             DataFrame         Document Currency   <...>n\\n[530 rows x 5 columns]\n",
      "gb_d_semi_ann          DataFrame         Document Currency   <...>n\\n[243 rows x 5 columns]\n",
      "gb_d_two_yrs           DataFrame         Document Currency   <...>               15050.00  \n",
      "gb_rec                 DataFrame         Document Currency   <...>\\n[2301 rows x 4 columns]\n",
      "gb_svc                 DataFrame        Document Currency    <...>n\\n[502 rows x 4 columns]\n",
      "keep_curr              Series       USD    7791\\nEUR    5291\\<...>nt Currency, dtype: int64\n",
      "keep_these             ndarray      23: 23 elems, type `bool`, 23 bytes\n",
      "list_columns           list         n=12\n",
      "merge_all_dataframes   function     <function merge_all_dataframes at 0x10e463f28>\n",
      "merge_new_dataframe    function     <function merge_new_dataframe at 0x1138cdd08>\n",
      "model_dict             dict         n=1\n",
      "np                     module       <module 'numpy' from '/an<...>kages/numpy/__init__.py'>\n",
      "pd                     module       <module 'pandas' from '/a<...>ages/pandas/__init__.py'>\n",
      "plt                    module       <module 'matplotlib.pyplo<...>es/matplotlib/pyplot.py'>\n",
      "rec                    DataFrame          Document Currency  <...>n[5041 rows x 10 columns]\n",
      "remove_these           ndarray      23: 23 elems, type `bool`, 23 bytes\n",
      "svc                    DataFrame          Document Currency  <...>\\n[844 rows x 10 columns]\n",
      "test1                  DataFrame         Document Currency   <...>\\n[3382 rows x 5 columns]\n",
      "vc                     Series       USD    7791\\nEUR    5291\\<...>nt Currency, dtype: int64\n",
      "what_is_BT             DataFrame         Document Currency   <...>               13440.00  \n"
     ]
    }
   ],
   "source": [
    "whos\n"
   ]
  },
  {
   "cell_type": "code",
   "execution_count": null,
   "metadata": {},
   "outputs": [],
   "source": []
  }
 ],
 "metadata": {
  "kernelspec": {
   "display_name": "Python 3",
   "language": "python",
   "name": "python3"
  },
  "language_info": {
   "codemirror_mode": {
    "name": "ipython",
    "version": 3
   },
   "file_extension": ".py",
   "mimetype": "text/x-python",
   "name": "python",
   "nbconvert_exporter": "python",
   "pygments_lexer": "ipython3",
   "version": "3.6.8"
  }
 },
 "nbformat": 4,
 "nbformat_minor": 2
}
