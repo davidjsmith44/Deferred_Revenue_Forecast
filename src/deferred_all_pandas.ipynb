{
 "cells": [
  {
   "cell_type": "markdown",
   "metadata": {},
   "source": [
    "# Testing Deferred Revenue in Python\n",
    "Will this be easier for everyone to use than Matlab?"
   ]
  },
  {
   "cell_type": "code",
   "execution_count": 1,
   "metadata": {},
   "outputs": [],
   "source": [
    "import numpy as np\n",
    "import pandas as pd\n",
    "import matplotlib.pyplot as plt\n",
    "%matplotlib inline"
   ]
  },
  {
   "cell_type": "markdown",
   "metadata": {},
   "source": [
    "## Step 1: Processing Base Billings Data"
   ]
  },
  {
   "cell_type": "code",
   "execution_count": 2,
   "metadata": {},
   "outputs": [],
   "source": [
    "df = pd.read_excel('../data/old/base_billings.xlsx', sheet_name='bill_DC')"
   ]
  },
  {
   "cell_type": "code",
   "execution_count": 3,
   "metadata": {},
   "outputs": [
    {
     "data": {
      "text/html": [
       "<div>\n",
       "<style scoped>\n",
       "    .dataframe tbody tr th:only-of-type {\n",
       "        vertical-align: middle;\n",
       "    }\n",
       "\n",
       "    .dataframe tbody tr th {\n",
       "        vertical-align: top;\n",
       "    }\n",
       "\n",
       "    .dataframe thead th {\n",
       "        text-align: right;\n",
       "    }\n",
       "</style>\n",
       "<table border=\"1\" class=\"dataframe\">\n",
       "  <thead>\n",
       "    <tr style=\"text-align: right;\">\n",
       "      <th></th>\n",
       "      <th>Document Currency</th>\n",
       "      <th>Enterprise Bu</th>\n",
       "      <th>Frequency</th>\n",
       "      <th>Invoicing Fiscal Year-Period Desc</th>\n",
       "      <th>Product Configtype ID</th>\n",
       "      <th>Revenue Recognition Category New</th>\n",
       "      <th>Rule For Bill Date</th>\n",
       "      <th>Sales Type</th>\n",
       "      <th>Subscription Term</th>\n",
       "      <th>Completed Sales Doc Currency</th>\n",
       "    </tr>\n",
       "  </thead>\n",
       "  <tbody>\n",
       "    <tr>\n",
       "      <th>9520</th>\n",
       "      <td>EUR</td>\n",
       "      <td>Document Cloud</td>\n",
       "      <td>NaN</td>\n",
       "      <td>2017-04</td>\n",
       "      <td>MTHLY</td>\n",
       "      <td>A</td>\n",
       "      <td>NaN</td>\n",
       "      <td>DEFERRED</td>\n",
       "      <td>1</td>\n",
       "      <td>-1400.75</td>\n",
       "    </tr>\n",
       "    <tr>\n",
       "      <th>12055</th>\n",
       "      <td>EUR</td>\n",
       "      <td>Experience Cloud</td>\n",
       "      <td>CERT</td>\n",
       "      <td>2018-12</td>\n",
       "      <td>1Y</td>\n",
       "      <td>D</td>\n",
       "      <td>YA</td>\n",
       "      <td>DEFERRED</td>\n",
       "      <td>12</td>\n",
       "      <td>516160.88</td>\n",
       "    </tr>\n",
       "    <tr>\n",
       "      <th>4612</th>\n",
       "      <td>CAD</td>\n",
       "      <td>LiveCycle</td>\n",
       "      <td>NaN</td>\n",
       "      <td>2017-05</td>\n",
       "      <td>NaN</td>\n",
       "      <td>NaN</td>\n",
       "      <td>NaN</td>\n",
       "      <td>RECOGNIZED</td>\n",
       "      <td>0</td>\n",
       "      <td>1281.80</td>\n",
       "    </tr>\n",
       "    <tr>\n",
       "      <th>22</th>\n",
       "      <td>AUD</td>\n",
       "      <td>Creative</td>\n",
       "      <td>NaN</td>\n",
       "      <td>2015-06</td>\n",
       "      <td>2V</td>\n",
       "      <td>NaN</td>\n",
       "      <td>NaN</td>\n",
       "      <td>RECOGNIZED</td>\n",
       "      <td>0</td>\n",
       "      <td>1974.00</td>\n",
       "    </tr>\n",
       "    <tr>\n",
       "      <th>4678</th>\n",
       "      <td>CAD</td>\n",
       "      <td>Print &amp; Publishing</td>\n",
       "      <td>NaN</td>\n",
       "      <td>2016-11</td>\n",
       "      <td>1Y</td>\n",
       "      <td>A</td>\n",
       "      <td>NaN</td>\n",
       "      <td>DEFERRED</td>\n",
       "      <td>12</td>\n",
       "      <td>-2391.95</td>\n",
       "    </tr>\n",
       "    <tr>\n",
       "      <th>6445</th>\n",
       "      <td>CHF</td>\n",
       "      <td>Print &amp; Publishing</td>\n",
       "      <td>NaN</td>\n",
       "      <td>2018-07</td>\n",
       "      <td>1Y</td>\n",
       "      <td>A</td>\n",
       "      <td>NaN</td>\n",
       "      <td>DEFERRED</td>\n",
       "      <td>1</td>\n",
       "      <td>16.50</td>\n",
       "    </tr>\n",
       "    <tr>\n",
       "      <th>14871</th>\n",
       "      <td>GBP</td>\n",
       "      <td>Document Cloud</td>\n",
       "      <td>NaN</td>\n",
       "      <td>2019-01</td>\n",
       "      <td>MTHLY</td>\n",
       "      <td>D</td>\n",
       "      <td>Y3</td>\n",
       "      <td>DEFERRED</td>\n",
       "      <td>1</td>\n",
       "      <td>25203.96</td>\n",
       "    </tr>\n",
       "    <tr>\n",
       "      <th>27802</th>\n",
       "      <td>USD</td>\n",
       "      <td>Experience Cloud</td>\n",
       "      <td>NaN</td>\n",
       "      <td>2016-07</td>\n",
       "      <td>1Y</td>\n",
       "      <td>A</td>\n",
       "      <td>NaN</td>\n",
       "      <td>DEFERRED</td>\n",
       "      <td>0</td>\n",
       "      <td>1074848.01</td>\n",
       "    </tr>\n",
       "    <tr>\n",
       "      <th>5206</th>\n",
       "      <td>CHF</td>\n",
       "      <td>Creative</td>\n",
       "      <td>NaN</td>\n",
       "      <td>2018-11</td>\n",
       "      <td>1Y</td>\n",
       "      <td>NaN</td>\n",
       "      <td>NaN</td>\n",
       "      <td>RECOGNIZED</td>\n",
       "      <td>0</td>\n",
       "      <td>0.00</td>\n",
       "    </tr>\n",
       "    <tr>\n",
       "      <th>8487</th>\n",
       "      <td>EUR</td>\n",
       "      <td>Creative</td>\n",
       "      <td>NaN</td>\n",
       "      <td>2017-03</td>\n",
       "      <td>1Y</td>\n",
       "      <td>NaN</td>\n",
       "      <td>NaN</td>\n",
       "      <td>DEFERRED</td>\n",
       "      <td>0</td>\n",
       "      <td>0.00</td>\n",
       "    </tr>\n",
       "  </tbody>\n",
       "</table>\n",
       "</div>"
      ],
      "text/plain": [
       "      Document Currency       Enterprise Bu Frequency  \\\n",
       "9520                EUR      Document Cloud       NaN   \n",
       "12055               EUR    Experience Cloud      CERT   \n",
       "4612                CAD           LiveCycle       NaN   \n",
       "22                  AUD            Creative       NaN   \n",
       "4678                CAD  Print & Publishing       NaN   \n",
       "6445                CHF  Print & Publishing       NaN   \n",
       "14871               GBP      Document Cloud       NaN   \n",
       "27802               USD    Experience Cloud       NaN   \n",
       "5206                CHF            Creative       NaN   \n",
       "8487                EUR            Creative       NaN   \n",
       "\n",
       "      Invoicing Fiscal Year-Period Desc Product Configtype ID  \\\n",
       "9520                            2017-04                 MTHLY   \n",
       "12055                           2018-12                    1Y   \n",
       "4612                            2017-05                   NaN   \n",
       "22                              2015-06                    2V   \n",
       "4678                            2016-11                    1Y   \n",
       "6445                            2018-07                    1Y   \n",
       "14871                           2019-01                 MTHLY   \n",
       "27802                           2016-07                    1Y   \n",
       "5206                            2018-11                    1Y   \n",
       "8487                            2017-03                    1Y   \n",
       "\n",
       "      Revenue Recognition Category New Rule For Bill Date  Sales Type  \\\n",
       "9520                                 A                NaN    DEFERRED   \n",
       "12055                                D                 YA    DEFERRED   \n",
       "4612                               NaN                NaN  RECOGNIZED   \n",
       "22                                 NaN                NaN  RECOGNIZED   \n",
       "4678                                 A                NaN    DEFERRED   \n",
       "6445                                 A                NaN    DEFERRED   \n",
       "14871                                D                 Y3    DEFERRED   \n",
       "27802                                A                NaN    DEFERRED   \n",
       "5206                               NaN                NaN  RECOGNIZED   \n",
       "8487                               NaN                NaN    DEFERRED   \n",
       "\n",
       "       Subscription Term  Completed Sales Doc Currency  \n",
       "9520                   1                      -1400.75  \n",
       "12055                 12                     516160.88  \n",
       "4612                   0                       1281.80  \n",
       "22                     0                       1974.00  \n",
       "4678                  12                      -2391.95  \n",
       "6445                   1                         16.50  \n",
       "14871                  1                      25203.96  \n",
       "27802                  0                    1074848.01  \n",
       "5206                   0                          0.00  \n",
       "8487                   0                          0.00  "
      ]
     },
     "execution_count": 3,
     "metadata": {},
     "output_type": "execute_result"
    }
   ],
   "source": [
    "df.sample(10)"
   ]
  },
  {
   "cell_type": "markdown",
   "metadata": {},
   "source": [
    "## Filter that removes any currency that has  < 10 transactions. \n"
   ]
  },
  {
   "cell_type": "code",
   "execution_count": 4,
   "metadata": {},
   "outputs": [],
   "source": [
    "# creates a list of the currencies and the number of transactions for each currency\n",
    "vc = df['Document Currency'].value_counts()"
   ]
  },
  {
   "cell_type": "code",
   "execution_count": 5,
   "metadata": {},
   "outputs": [],
   "source": [
    "# Create variable that is true if the number of transaction is greater than 10, false otherwise\n",
    "keep_these = vc.values > 10\n",
    "# filtering only currencies that were greater than 10\n",
    "keep_curr = vc[keep_these]\n",
    "a = keep_curr.index\n",
    "# filtering the dataframe to remove any of teh currencies not in our list\n",
    "df = df[df['Document Currency'].isin(a)]"
   ]
  },
  {
   "cell_type": "markdown",
   "metadata": {},
   "source": [
    "## Just keeping track of the currencies we removed in our model_dict data strucutre"
   ]
  },
  {
   "cell_type": "code",
   "execution_count": 6,
   "metadata": {},
   "outputs": [
    {
     "data": {
      "text/plain": [
       "{'curr_removed': ['CLP', 'COP', 'ARS', 'PEN', 'MXP', 'INR', 'BMD']}"
      ]
     },
     "execution_count": 6,
     "metadata": {},
     "output_type": "execute_result"
    }
   ],
   "source": [
    "remove_these = vc.values <= 10\n",
    "model_dict = {'curr_removed': list(vc[remove_these].index)}\n",
    "model_dict"
   ]
  },
  {
   "cell_type": "markdown",
   "metadata": {},
   "source": [
    "# Removing any of the values that are zero"
   ]
  },
  {
   "cell_type": "code",
   "execution_count": 7,
   "metadata": {},
   "outputs": [
    {
     "name": "stdout",
     "output_type": "stream",
     "text": [
      "This is the length of the dataframe before removing zeros:  31418\n",
      "This is the length of the dataframe after removing zeros:  28896\n"
     ]
    }
   ],
   "source": [
    "print('This is the length of the dataframe before removing zeros: ', len(df))\n",
    "df = df[df['Completed Sales Doc Currency']!=0]\n",
    "print('This is the length of the dataframe after removing zeros: ', len(df))"
   ]
  },
  {
   "cell_type": "code",
   "execution_count": 9,
   "metadata": {},
   "outputs": [
    {
     "data": {
      "text/html": [
       "<div>\n",
       "<style scoped>\n",
       "    .dataframe tbody tr th:only-of-type {\n",
       "        vertical-align: middle;\n",
       "    }\n",
       "\n",
       "    .dataframe tbody tr th {\n",
       "        vertical-align: top;\n",
       "    }\n",
       "\n",
       "    .dataframe thead th {\n",
       "        text-align: right;\n",
       "    }\n",
       "</style>\n",
       "<table border=\"1\" class=\"dataframe\">\n",
       "  <thead>\n",
       "    <tr style=\"text-align: right;\">\n",
       "      <th></th>\n",
       "      <th>Document Currency</th>\n",
       "      <th>Enterprise Bu</th>\n",
       "      <th>Frequency</th>\n",
       "      <th>Invoicing Fiscal Year-Period Desc</th>\n",
       "      <th>Product Configtype ID</th>\n",
       "      <th>Revenue Recognition Category New</th>\n",
       "      <th>Rule For Bill Date</th>\n",
       "      <th>Sales Type</th>\n",
       "      <th>Subscription Term</th>\n",
       "      <th>Completed Sales Doc Currency</th>\n",
       "    </tr>\n",
       "  </thead>\n",
       "  <tbody>\n",
       "    <tr>\n",
       "      <th>28849</th>\n",
       "      <td>USD</td>\n",
       "      <td>Experience Cloud</td>\n",
       "      <td>ACTL</td>\n",
       "      <td>2017-09</td>\n",
       "      <td>NaN</td>\n",
       "      <td>A</td>\n",
       "      <td>NaN</td>\n",
       "      <td>DEFERRED</td>\n",
       "      <td>0</td>\n",
       "      <td>30000.00</td>\n",
       "    </tr>\n",
       "    <tr>\n",
       "      <th>5233</th>\n",
       "      <td>CHF</td>\n",
       "      <td>Creative</td>\n",
       "      <td>NaN</td>\n",
       "      <td>2019-01</td>\n",
       "      <td>1Y</td>\n",
       "      <td>D</td>\n",
       "      <td>NaN</td>\n",
       "      <td>DEFERRED</td>\n",
       "      <td>12</td>\n",
       "      <td>-47957.81</td>\n",
       "    </tr>\n",
       "    <tr>\n",
       "      <th>1302</th>\n",
       "      <td>AUD</td>\n",
       "      <td>Document Cloud</td>\n",
       "      <td>NaN</td>\n",
       "      <td>2017-10</td>\n",
       "      <td>1Y</td>\n",
       "      <td>A</td>\n",
       "      <td>NaN</td>\n",
       "      <td>DEFERRED</td>\n",
       "      <td>0</td>\n",
       "      <td>43033.80</td>\n",
       "    </tr>\n",
       "    <tr>\n",
       "      <th>19968</th>\n",
       "      <td>JPY</td>\n",
       "      <td>Experience Cloud</td>\n",
       "      <td>ONGO</td>\n",
       "      <td>2019-01</td>\n",
       "      <td>NaN</td>\n",
       "      <td>A</td>\n",
       "      <td>NaN</td>\n",
       "      <td>DEFERRED</td>\n",
       "      <td>0</td>\n",
       "      <td>6890000.00</td>\n",
       "    </tr>\n",
       "    <tr>\n",
       "      <th>21707</th>\n",
       "      <td>NOK</td>\n",
       "      <td>Experience Cloud</td>\n",
       "      <td>ONGO</td>\n",
       "      <td>2018-07</td>\n",
       "      <td>MTHLY</td>\n",
       "      <td>D</td>\n",
       "      <td>YA</td>\n",
       "      <td>DEFERRED</td>\n",
       "      <td>0</td>\n",
       "      <td>1305135.33</td>\n",
       "    </tr>\n",
       "    <tr>\n",
       "      <th>17823</th>\n",
       "      <td>JPY</td>\n",
       "      <td>Creative</td>\n",
       "      <td>NaN</td>\n",
       "      <td>2017-02</td>\n",
       "      <td>1Y</td>\n",
       "      <td>D</td>\n",
       "      <td>YA</td>\n",
       "      <td>DEFERRED</td>\n",
       "      <td>0</td>\n",
       "      <td>6600000.00</td>\n",
       "    </tr>\n",
       "    <tr>\n",
       "      <th>24</th>\n",
       "      <td>AUD</td>\n",
       "      <td>Creative</td>\n",
       "      <td>NaN</td>\n",
       "      <td>2015-06</td>\n",
       "      <td>2Y</td>\n",
       "      <td>A</td>\n",
       "      <td>NaN</td>\n",
       "      <td>DEFERRED</td>\n",
       "      <td>12</td>\n",
       "      <td>24742.20</td>\n",
       "    </tr>\n",
       "    <tr>\n",
       "      <th>15593</th>\n",
       "      <td>GBP</td>\n",
       "      <td>Experience Cloud</td>\n",
       "      <td>1TME</td>\n",
       "      <td>2017-02</td>\n",
       "      <td>OCONS</td>\n",
       "      <td>NaN</td>\n",
       "      <td>NaN</td>\n",
       "      <td>PRO-SVC-INV</td>\n",
       "      <td>0</td>\n",
       "      <td>759527.24</td>\n",
       "    </tr>\n",
       "    <tr>\n",
       "      <th>885</th>\n",
       "      <td>AUD</td>\n",
       "      <td>Document Cloud</td>\n",
       "      <td>NaN</td>\n",
       "      <td>2015-08</td>\n",
       "      <td>NaN</td>\n",
       "      <td>A</td>\n",
       "      <td>NaN</td>\n",
       "      <td>DEFERRED</td>\n",
       "      <td>1</td>\n",
       "      <td>-100.12</td>\n",
       "    </tr>\n",
       "    <tr>\n",
       "      <th>12439</th>\n",
       "      <td>EUR</td>\n",
       "      <td>Other Solutions</td>\n",
       "      <td>ONGO</td>\n",
       "      <td>2016-09</td>\n",
       "      <td>OUNIV</td>\n",
       "      <td>A</td>\n",
       "      <td>NaN</td>\n",
       "      <td>DEFERRED</td>\n",
       "      <td>0</td>\n",
       "      <td>9067.00</td>\n",
       "    </tr>\n",
       "  </tbody>\n",
       "</table>\n",
       "</div>"
      ],
      "text/plain": [
       "      Document Currency     Enterprise Bu Frequency  \\\n",
       "28849               USD  Experience Cloud      ACTL   \n",
       "5233                CHF          Creative       NaN   \n",
       "1302                AUD    Document Cloud       NaN   \n",
       "19968               JPY  Experience Cloud      ONGO   \n",
       "21707               NOK  Experience Cloud      ONGO   \n",
       "17823               JPY          Creative       NaN   \n",
       "24                  AUD          Creative       NaN   \n",
       "15593               GBP  Experience Cloud      1TME   \n",
       "885                 AUD    Document Cloud       NaN   \n",
       "12439               EUR   Other Solutions      ONGO   \n",
       "\n",
       "      Invoicing Fiscal Year-Period Desc Product Configtype ID  \\\n",
       "28849                           2017-09                   NaN   \n",
       "5233                            2019-01                    1Y   \n",
       "1302                            2017-10                    1Y   \n",
       "19968                           2019-01                   NaN   \n",
       "21707                           2018-07                 MTHLY   \n",
       "17823                           2017-02                    1Y   \n",
       "24                              2015-06                    2Y   \n",
       "15593                           2017-02                 OCONS   \n",
       "885                             2015-08                   NaN   \n",
       "12439                           2016-09                 OUNIV   \n",
       "\n",
       "      Revenue Recognition Category New Rule For Bill Date   Sales Type  \\\n",
       "28849                                A                NaN     DEFERRED   \n",
       "5233                                 D                NaN     DEFERRED   \n",
       "1302                                 A                NaN     DEFERRED   \n",
       "19968                                A                NaN     DEFERRED   \n",
       "21707                                D                 YA     DEFERRED   \n",
       "17823                                D                 YA     DEFERRED   \n",
       "24                                   A                NaN     DEFERRED   \n",
       "15593                              NaN                NaN  PRO-SVC-INV   \n",
       "885                                  A                NaN     DEFERRED   \n",
       "12439                                A                NaN     DEFERRED   \n",
       "\n",
       "       Subscription Term  Completed Sales Doc Currency  \n",
       "28849                  0                      30000.00  \n",
       "5233                  12                     -47957.81  \n",
       "1302                   0                      43033.80  \n",
       "19968                  0                    6890000.00  \n",
       "21707                  0                    1305135.33  \n",
       "17823                  0                    6600000.00  \n",
       "24                    12                      24742.20  \n",
       "15593                  0                     759527.24  \n",
       "885                    1                       -100.12  \n",
       "12439                  0                       9067.00  "
      ]
     },
     "execution_count": 9,
     "metadata": {},
     "output_type": "execute_result"
    }
   ],
   "source": [
    "df.sample(10)"
   ]
  },
  {
   "cell_type": "markdown",
   "metadata": {},
   "source": [
    "## Clearing out the Non-Revenue billings from the file\n",
    " - No Idea what these are"
   ]
  },
  {
   "cell_type": "code",
   "execution_count": 10,
   "metadata": {},
   "outputs": [
    {
     "data": {
      "text/plain": [
       "DEFERRED       22919\n",
       "RECOGNIZED      5041\n",
       "PRO-SVC-INV      844\n",
       "NON-REV           92\n",
       "Name: Sales Type, dtype: int64"
      ]
     },
     "execution_count": 10,
     "metadata": {},
     "output_type": "execute_result"
    }
   ],
   "source": [
    "df['Sales Type'].value_counts()"
   ]
  },
  {
   "cell_type": "code",
   "execution_count": 11,
   "metadata": {},
   "outputs": [
    {
     "name": "stdout",
     "output_type": "stream",
     "text": [
      "Length of the dataframe before removing non-revenue billings:  28896\n",
      "Length of the dataframe after removing non-revenue billings:   28804\n"
     ]
    }
   ],
   "source": [
    "print('Length of the dataframe before removing non-revenue billings: ', len(df))\n",
    "df = df[df['Sales Type']!='NON-REV']\n",
    "print('Length of the dataframe after removing non-revenue billings:  ', len(df))\n"
   ]
  },
  {
   "cell_type": "markdown",
   "metadata": {},
   "source": [
    "## Starting to group the revenue by period, industry, etc"
   ]
  },
  {
   "cell_type": "markdown",
   "metadata": {},
   "source": [
    "Attempting to group by the following categories\n",
    " - currency\n",
    " - period\n",
    " - sale type\n",
    " \n",
    "May need to process the data differently with the deferred billings so we will start with the recognized and then the service billings\n",
    "\n",
    "# DOING THIS ALL IN PANDAS WITH SPLIT APPLY COMBINE on Sales Type \n"
   ]
  },
  {
   "cell_type": "code",
   "execution_count": 12,
   "metadata": {},
   "outputs": [],
   "source": [
    "# First split the data into three dataframes\n",
    "# Recognized billings\n",
    "rec = df[df['Sales Type']=='RECOGNIZED']\n",
    "svc = df[df['Sales Type']=='PRO-SVC-INV']\n",
    "dfr = df[df['Sales Type']=='DEFERRED']"
   ]
  },
  {
   "cell_type": "code",
   "execution_count": 13,
   "metadata": {},
   "outputs": [
    {
     "data": {
      "text/plain": [
       "Index(['Document Currency', 'Enterprise Bu', 'Frequency',\n",
       "       'Invoicing Fiscal Year-Period Desc', 'Product Configtype ID',\n",
       "       'Revenue Recognition Category New', 'Rule For Bill Date', 'Sales Type',\n",
       "       'Subscription Term', 'Completed Sales Doc Currency'],\n",
       "      dtype='object')"
      ]
     },
     "execution_count": 13,
     "metadata": {},
     "output_type": "execute_result"
    }
   ],
   "source": [
    "rec.columns"
   ]
  },
  {
   "cell_type": "markdown",
   "metadata": {},
   "source": [
    "# NOW WORKING ON THE BILLINGS"
   ]
  },
  {
   "cell_type": "markdown",
   "metadata": {},
   "source": [
    "### Recognized Revenue"
   ]
  },
  {
   "cell_type": "code",
   "execution_count": 14,
   "metadata": {},
   "outputs": [
    {
     "data": {
      "text/html": [
       "<div>\n",
       "<style scoped>\n",
       "    .dataframe tbody tr th:only-of-type {\n",
       "        vertical-align: middle;\n",
       "    }\n",
       "\n",
       "    .dataframe tbody tr th {\n",
       "        vertical-align: top;\n",
       "    }\n",
       "\n",
       "    .dataframe thead th {\n",
       "        text-align: right;\n",
       "    }\n",
       "</style>\n",
       "<table border=\"1\" class=\"dataframe\">\n",
       "  <thead>\n",
       "    <tr style=\"text-align: right;\">\n",
       "      <th></th>\n",
       "      <th>Document Currency</th>\n",
       "      <th>Enterprise Bu</th>\n",
       "      <th>Frequency</th>\n",
       "      <th>Invoicing Fiscal Year-Period Desc</th>\n",
       "      <th>Product Configtype ID</th>\n",
       "      <th>Revenue Recognition Category New</th>\n",
       "      <th>Rule For Bill Date</th>\n",
       "      <th>Sales Type</th>\n",
       "      <th>Subscription Term</th>\n",
       "      <th>Completed Sales Doc Currency</th>\n",
       "    </tr>\n",
       "  </thead>\n",
       "  <tbody>\n",
       "    <tr>\n",
       "      <th>2388</th>\n",
       "      <td>AUD</td>\n",
       "      <td>Experience Cloud</td>\n",
       "      <td>ACTL</td>\n",
       "      <td>2017-09</td>\n",
       "      <td>ONORE</td>\n",
       "      <td>NaN</td>\n",
       "      <td>NaN</td>\n",
       "      <td>RECOGNIZED</td>\n",
       "      <td>0</td>\n",
       "      <td>1127888.57</td>\n",
       "    </tr>\n",
       "    <tr>\n",
       "      <th>1280</th>\n",
       "      <td>AUD</td>\n",
       "      <td>Document Cloud</td>\n",
       "      <td>NaN</td>\n",
       "      <td>2017-09</td>\n",
       "      <td>NaN</td>\n",
       "      <td>NaN</td>\n",
       "      <td>NaN</td>\n",
       "      <td>RECOGNIZED</td>\n",
       "      <td>0</td>\n",
       "      <td>587680.00</td>\n",
       "    </tr>\n",
       "    <tr>\n",
       "      <th>14089</th>\n",
       "      <td>GBP</td>\n",
       "      <td>Document Cloud</td>\n",
       "      <td>NaN</td>\n",
       "      <td>2015-06</td>\n",
       "      <td>NaN</td>\n",
       "      <td>NaN</td>\n",
       "      <td>NaN</td>\n",
       "      <td>RECOGNIZED</td>\n",
       "      <td>0</td>\n",
       "      <td>1582958.94</td>\n",
       "    </tr>\n",
       "    <tr>\n",
       "      <th>2477</th>\n",
       "      <td>AUD</td>\n",
       "      <td>Experience Cloud</td>\n",
       "      <td>ONGO</td>\n",
       "      <td>2017-12</td>\n",
       "      <td>NaN</td>\n",
       "      <td>NaN</td>\n",
       "      <td>NaN</td>\n",
       "      <td>RECOGNIZED</td>\n",
       "      <td>0</td>\n",
       "      <td>14218.62</td>\n",
       "    </tr>\n",
       "    <tr>\n",
       "      <th>11537</th>\n",
       "      <td>EUR</td>\n",
       "      <td>Experience Cloud</td>\n",
       "      <td>ONGO</td>\n",
       "      <td>2018-01</td>\n",
       "      <td>ONORE</td>\n",
       "      <td>NaN</td>\n",
       "      <td>NaN</td>\n",
       "      <td>RECOGNIZED</td>\n",
       "      <td>0</td>\n",
       "      <td>21757.73</td>\n",
       "    </tr>\n",
       "    <tr>\n",
       "      <th>4104</th>\n",
       "      <td>CAD</td>\n",
       "      <td>Experience Cloud</td>\n",
       "      <td>1TME</td>\n",
       "      <td>2016-07</td>\n",
       "      <td>NaN</td>\n",
       "      <td>NaN</td>\n",
       "      <td>NaN</td>\n",
       "      <td>RECOGNIZED</td>\n",
       "      <td>0</td>\n",
       "      <td>132845.02</td>\n",
       "    </tr>\n",
       "    <tr>\n",
       "      <th>20326</th>\n",
       "      <td>JPY</td>\n",
       "      <td>Print &amp; Publishing</td>\n",
       "      <td>NaN</td>\n",
       "      <td>2016-10</td>\n",
       "      <td>NaN</td>\n",
       "      <td>NaN</td>\n",
       "      <td>NaN</td>\n",
       "      <td>RECOGNIZED</td>\n",
       "      <td>0</td>\n",
       "      <td>14513571.00</td>\n",
       "    </tr>\n",
       "    <tr>\n",
       "      <th>28652</th>\n",
       "      <td>USD</td>\n",
       "      <td>Experience Cloud</td>\n",
       "      <td>ONGO</td>\n",
       "      <td>2017-06</td>\n",
       "      <td>NaN</td>\n",
       "      <td>NaN</td>\n",
       "      <td>NaN</td>\n",
       "      <td>RECOGNIZED</td>\n",
       "      <td>0</td>\n",
       "      <td>292898.09</td>\n",
       "    </tr>\n",
       "    <tr>\n",
       "      <th>2950</th>\n",
       "      <td>AUD</td>\n",
       "      <td>LiveCycle</td>\n",
       "      <td>NaN</td>\n",
       "      <td>2016-07</td>\n",
       "      <td>NaN</td>\n",
       "      <td>NaN</td>\n",
       "      <td>NaN</td>\n",
       "      <td>RECOGNIZED</td>\n",
       "      <td>0</td>\n",
       "      <td>8838.25</td>\n",
       "    </tr>\n",
       "    <tr>\n",
       "      <th>7424</th>\n",
       "      <td>DKK</td>\n",
       "      <td>Experience Cloud</td>\n",
       "      <td>ONGO</td>\n",
       "      <td>2015-11</td>\n",
       "      <td>NaN</td>\n",
       "      <td>NaN</td>\n",
       "      <td>NaN</td>\n",
       "      <td>RECOGNIZED</td>\n",
       "      <td>0</td>\n",
       "      <td>3191.84</td>\n",
       "    </tr>\n",
       "  </tbody>\n",
       "</table>\n",
       "</div>"
      ],
      "text/plain": [
       "      Document Currency       Enterprise Bu Frequency  \\\n",
       "2388                AUD    Experience Cloud      ACTL   \n",
       "1280                AUD      Document Cloud       NaN   \n",
       "14089               GBP      Document Cloud       NaN   \n",
       "2477                AUD    Experience Cloud      ONGO   \n",
       "11537               EUR    Experience Cloud      ONGO   \n",
       "4104                CAD    Experience Cloud      1TME   \n",
       "20326               JPY  Print & Publishing       NaN   \n",
       "28652               USD    Experience Cloud      ONGO   \n",
       "2950                AUD           LiveCycle       NaN   \n",
       "7424                DKK    Experience Cloud      ONGO   \n",
       "\n",
       "      Invoicing Fiscal Year-Period Desc Product Configtype ID  \\\n",
       "2388                            2017-09                 ONORE   \n",
       "1280                            2017-09                   NaN   \n",
       "14089                           2015-06                   NaN   \n",
       "2477                            2017-12                   NaN   \n",
       "11537                           2018-01                 ONORE   \n",
       "4104                            2016-07                   NaN   \n",
       "20326                           2016-10                   NaN   \n",
       "28652                           2017-06                   NaN   \n",
       "2950                            2016-07                   NaN   \n",
       "7424                            2015-11                   NaN   \n",
       "\n",
       "      Revenue Recognition Category New Rule For Bill Date  Sales Type  \\\n",
       "2388                               NaN                NaN  RECOGNIZED   \n",
       "1280                               NaN                NaN  RECOGNIZED   \n",
       "14089                              NaN                NaN  RECOGNIZED   \n",
       "2477                               NaN                NaN  RECOGNIZED   \n",
       "11537                              NaN                NaN  RECOGNIZED   \n",
       "4104                               NaN                NaN  RECOGNIZED   \n",
       "20326                              NaN                NaN  RECOGNIZED   \n",
       "28652                              NaN                NaN  RECOGNIZED   \n",
       "2950                               NaN                NaN  RECOGNIZED   \n",
       "7424                               NaN                NaN  RECOGNIZED   \n",
       "\n",
       "       Subscription Term  Completed Sales Doc Currency  \n",
       "2388                   0                    1127888.57  \n",
       "1280                   0                     587680.00  \n",
       "14089                  0                    1582958.94  \n",
       "2477                   0                      14218.62  \n",
       "11537                  0                      21757.73  \n",
       "4104                   0                     132845.02  \n",
       "20326                  0                   14513571.00  \n",
       "28652                  0                     292898.09  \n",
       "2950                   0                       8838.25  \n",
       "7424                   0                       3191.84  "
      ]
     },
     "execution_count": 14,
     "metadata": {},
     "output_type": "execute_result"
    }
   ],
   "source": [
    "rec.sample(10)"
   ]
  },
  {
   "cell_type": "code",
   "execution_count": 15,
   "metadata": {},
   "outputs": [],
   "source": [
    "# testing groupby object\n",
    "gb_rec = rec.groupby(['Document Currency', 'Enterprise Bu', 'Invoicing Fiscal Year-Period Desc'], as_index=False).sum()"
   ]
  },
  {
   "cell_type": "code",
   "execution_count": 17,
   "metadata": {},
   "outputs": [],
   "source": [
    "# the Subscription term hangs around. We are dropping that here\n",
    "gb_rec.drop(labels='Subscription Term', axis=1,inplace =True)"
   ]
  },
  {
   "cell_type": "code",
   "execution_count": 18,
   "metadata": {},
   "outputs": [
    {
     "data": {
      "text/html": [
       "<div>\n",
       "<style scoped>\n",
       "    .dataframe tbody tr th:only-of-type {\n",
       "        vertical-align: middle;\n",
       "    }\n",
       "\n",
       "    .dataframe tbody tr th {\n",
       "        vertical-align: top;\n",
       "    }\n",
       "\n",
       "    .dataframe thead th {\n",
       "        text-align: right;\n",
       "    }\n",
       "</style>\n",
       "<table border=\"1\" class=\"dataframe\">\n",
       "  <thead>\n",
       "    <tr style=\"text-align: right;\">\n",
       "      <th></th>\n",
       "      <th>Document Currency</th>\n",
       "      <th>Enterprise Bu</th>\n",
       "      <th>Invoicing Fiscal Year-Period Desc</th>\n",
       "      <th>Completed Sales Doc Currency</th>\n",
       "    </tr>\n",
       "  </thead>\n",
       "  <tbody>\n",
       "    <tr>\n",
       "      <th>1749</th>\n",
       "      <td>NZD</td>\n",
       "      <td>Experience Cloud</td>\n",
       "      <td>2015-07</td>\n",
       "      <td>349558.31</td>\n",
       "    </tr>\n",
       "    <tr>\n",
       "      <th>1397</th>\n",
       "      <td>JPY</td>\n",
       "      <td>Experience Cloud</td>\n",
       "      <td>2015-06</td>\n",
       "      <td>51670880.00</td>\n",
       "    </tr>\n",
       "    <tr>\n",
       "      <th>1330</th>\n",
       "      <td>JPY</td>\n",
       "      <td>Creative</td>\n",
       "      <td>2017-07</td>\n",
       "      <td>58882009.00</td>\n",
       "    </tr>\n",
       "    <tr>\n",
       "      <th>175</th>\n",
       "      <td>AUD</td>\n",
       "      <td>LiveCycle</td>\n",
       "      <td>2018-07</td>\n",
       "      <td>6893.75</td>\n",
       "    </tr>\n",
       "    <tr>\n",
       "      <th>441</th>\n",
       "      <td>CHF</td>\n",
       "      <td>Experience Cloud</td>\n",
       "      <td>2017-12</td>\n",
       "      <td>260494.79</td>\n",
       "    </tr>\n",
       "    <tr>\n",
       "      <th>325</th>\n",
       "      <td>CHF</td>\n",
       "      <td>Creative</td>\n",
       "      <td>2015-11</td>\n",
       "      <td>116953.30</td>\n",
       "    </tr>\n",
       "    <tr>\n",
       "      <th>1872</th>\n",
       "      <td>SEK</td>\n",
       "      <td>Document Cloud</td>\n",
       "      <td>2019-03</td>\n",
       "      <td>24651.00</td>\n",
       "    </tr>\n",
       "    <tr>\n",
       "      <th>2035</th>\n",
       "      <td>USD</td>\n",
       "      <td>Creative</td>\n",
       "      <td>2016-04</td>\n",
       "      <td>4028866.42</td>\n",
       "    </tr>\n",
       "    <tr>\n",
       "      <th>617</th>\n",
       "      <td>DKK</td>\n",
       "      <td>Document Cloud</td>\n",
       "      <td>2018-05</td>\n",
       "      <td>4170.00</td>\n",
       "    </tr>\n",
       "    <tr>\n",
       "      <th>183</th>\n",
       "      <td>AUD</td>\n",
       "      <td>Other Solutions</td>\n",
       "      <td>2017-06</td>\n",
       "      <td>-2175.40</td>\n",
       "    </tr>\n",
       "  </tbody>\n",
       "</table>\n",
       "</div>"
      ],
      "text/plain": [
       "     Document Currency     Enterprise Bu Invoicing Fiscal Year-Period Desc  \\\n",
       "1749               NZD  Experience Cloud                           2015-07   \n",
       "1397               JPY  Experience Cloud                           2015-06   \n",
       "1330               JPY          Creative                           2017-07   \n",
       "175                AUD         LiveCycle                           2018-07   \n",
       "441                CHF  Experience Cloud                           2017-12   \n",
       "325                CHF          Creative                           2015-11   \n",
       "1872               SEK    Document Cloud                           2019-03   \n",
       "2035               USD          Creative                           2016-04   \n",
       "617                DKK    Document Cloud                           2018-05   \n",
       "183                AUD   Other Solutions                           2017-06   \n",
       "\n",
       "      Completed Sales Doc Currency  \n",
       "1749                     349558.31  \n",
       "1397                   51670880.00  \n",
       "1330                   58882009.00  \n",
       "175                        6893.75  \n",
       "441                      260494.79  \n",
       "325                      116953.30  \n",
       "1872                      24651.00  \n",
       "2035                    4028866.42  \n",
       "617                        4170.00  \n",
       "183                       -2175.40  "
      ]
     },
     "execution_count": 18,
     "metadata": {},
     "output_type": "execute_result"
    }
   ],
   "source": [
    "gb_rec.sample(10)"
   ]
  },
  {
   "cell_type": "code",
   "execution_count": 19,
   "metadata": {
    "scrolled": true
   },
   "outputs": [
    {
     "name": "stdout",
     "output_type": "stream",
     "text": [
      "<class 'pandas.core.frame.DataFrame'>\n"
     ]
    }
   ],
   "source": [
    "print(type(gb_rec))"
   ]
  },
  {
   "cell_type": "markdown",
   "metadata": {},
   "source": [
    "## Now doing this for the service billings"
   ]
  },
  {
   "cell_type": "code",
   "execution_count": 20,
   "metadata": {},
   "outputs": [],
   "source": [
    "# testing groupby object\n",
    "gb_svc = svc.groupby(['Document Currency', 'Enterprise Bu', 'Invoicing Fiscal Year-Period Desc'], as_index=False).sum()"
   ]
  },
  {
   "cell_type": "code",
   "execution_count": 21,
   "metadata": {},
   "outputs": [
    {
     "data": {
      "text/html": [
       "<div>\n",
       "<style scoped>\n",
       "    .dataframe tbody tr th:only-of-type {\n",
       "        vertical-align: middle;\n",
       "    }\n",
       "\n",
       "    .dataframe tbody tr th {\n",
       "        vertical-align: top;\n",
       "    }\n",
       "\n",
       "    .dataframe thead th {\n",
       "        text-align: right;\n",
       "    }\n",
       "</style>\n",
       "<table border=\"1\" class=\"dataframe\">\n",
       "  <thead>\n",
       "    <tr style=\"text-align: right;\">\n",
       "      <th></th>\n",
       "      <th>Document Currency</th>\n",
       "      <th>Enterprise Bu</th>\n",
       "      <th>Invoicing Fiscal Year-Period Desc</th>\n",
       "      <th>Completed Sales Doc Currency</th>\n",
       "    </tr>\n",
       "  </thead>\n",
       "  <tbody>\n",
       "    <tr>\n",
       "      <th>0</th>\n",
       "      <td>AUD</td>\n",
       "      <td>Experience Cloud</td>\n",
       "      <td>2015-06</td>\n",
       "      <td>589499.45</td>\n",
       "    </tr>\n",
       "    <tr>\n",
       "      <th>1</th>\n",
       "      <td>AUD</td>\n",
       "      <td>Experience Cloud</td>\n",
       "      <td>2015-07</td>\n",
       "      <td>656493.50</td>\n",
       "    </tr>\n",
       "    <tr>\n",
       "      <th>2</th>\n",
       "      <td>AUD</td>\n",
       "      <td>Experience Cloud</td>\n",
       "      <td>2015-08</td>\n",
       "      <td>370780.74</td>\n",
       "    </tr>\n",
       "    <tr>\n",
       "      <th>3</th>\n",
       "      <td>AUD</td>\n",
       "      <td>Experience Cloud</td>\n",
       "      <td>2015-09</td>\n",
       "      <td>1251726.13</td>\n",
       "    </tr>\n",
       "    <tr>\n",
       "      <th>4</th>\n",
       "      <td>AUD</td>\n",
       "      <td>Experience Cloud</td>\n",
       "      <td>2015-10</td>\n",
       "      <td>291324.07</td>\n",
       "    </tr>\n",
       "  </tbody>\n",
       "</table>\n",
       "</div>"
      ],
      "text/plain": [
       "  Document Currency     Enterprise Bu Invoicing Fiscal Year-Period Desc  \\\n",
       "0               AUD  Experience Cloud                           2015-06   \n",
       "1               AUD  Experience Cloud                           2015-07   \n",
       "2               AUD  Experience Cloud                           2015-08   \n",
       "3               AUD  Experience Cloud                           2015-09   \n",
       "4               AUD  Experience Cloud                           2015-10   \n",
       "\n",
       "   Completed Sales Doc Currency  \n",
       "0                     589499.45  \n",
       "1                     656493.50  \n",
       "2                     370780.74  \n",
       "3                    1251726.13  \n",
       "4                     291324.07  "
      ]
     },
     "execution_count": 21,
     "metadata": {},
     "output_type": "execute_result"
    }
   ],
   "source": [
    "gb_svc.drop(labels='Subscription Term', axis=1,inplace =True)\n",
    "gb_svc.head(5)"
   ]
  },
  {
   "cell_type": "markdown",
   "metadata": {},
   "source": [
    "# NOW WORKING ON DEFERRED BILLINGS\n",
    "\n",
    "## Type B billings are service agreements that will have invoices submitted before the billings are reclassified to revenue. If no invoices are assigned to the billings, the billings become revenue in 12 months"
   ]
  },
  {
   "cell_type": "code",
   "execution_count": 22,
   "metadata": {},
   "outputs": [],
   "source": [
    "# filter out the type B first then do a group_by\n",
    "dfr_b = dfr[dfr['Revenue Recognition Category New']=='B']"
   ]
  },
  {
   "cell_type": "code",
   "execution_count": 23,
   "metadata": {},
   "outputs": [],
   "source": [
    "gb_b = dfr_b.groupby(['Document Currency', 'Enterprise Bu', 'Invoicing Fiscal Year-Period Desc'], as_index=False).sum()"
   ]
  },
  {
   "cell_type": "code",
   "execution_count": 24,
   "metadata": {},
   "outputs": [
    {
     "data": {
      "text/html": [
       "<div>\n",
       "<style scoped>\n",
       "    .dataframe tbody tr th:only-of-type {\n",
       "        vertical-align: middle;\n",
       "    }\n",
       "\n",
       "    .dataframe tbody tr th {\n",
       "        vertical-align: top;\n",
       "    }\n",
       "\n",
       "    .dataframe thead th {\n",
       "        text-align: right;\n",
       "    }\n",
       "</style>\n",
       "<table border=\"1\" class=\"dataframe\">\n",
       "  <thead>\n",
       "    <tr style=\"text-align: right;\">\n",
       "      <th></th>\n",
       "      <th>Document Currency</th>\n",
       "      <th>Enterprise Bu</th>\n",
       "      <th>Invoicing Fiscal Year-Period Desc</th>\n",
       "      <th>Subscription Term</th>\n",
       "      <th>Completed Sales Doc Currency</th>\n",
       "    </tr>\n",
       "  </thead>\n",
       "  <tbody>\n",
       "    <tr>\n",
       "      <th>0</th>\n",
       "      <td>AUD</td>\n",
       "      <td>Creative</td>\n",
       "      <td>2017-10</td>\n",
       "      <td>0</td>\n",
       "      <td>8544.00</td>\n",
       "    </tr>\n",
       "    <tr>\n",
       "      <th>1</th>\n",
       "      <td>AUD</td>\n",
       "      <td>Document Cloud</td>\n",
       "      <td>2017-12</td>\n",
       "      <td>0</td>\n",
       "      <td>3283.20</td>\n",
       "    </tr>\n",
       "    <tr>\n",
       "      <th>2</th>\n",
       "      <td>AUD</td>\n",
       "      <td>Document Cloud</td>\n",
       "      <td>2018-06</td>\n",
       "      <td>0</td>\n",
       "      <td>3425.00</td>\n",
       "    </tr>\n",
       "    <tr>\n",
       "      <th>3</th>\n",
       "      <td>AUD</td>\n",
       "      <td>Document Cloud</td>\n",
       "      <td>2018-12</td>\n",
       "      <td>0</td>\n",
       "      <td>3425.00</td>\n",
       "    </tr>\n",
       "    <tr>\n",
       "      <th>4</th>\n",
       "      <td>AUD</td>\n",
       "      <td>Document Cloud</td>\n",
       "      <td>2019-03</td>\n",
       "      <td>0</td>\n",
       "      <td>4375.00</td>\n",
       "    </tr>\n",
       "    <tr>\n",
       "      <th>5</th>\n",
       "      <td>AUD</td>\n",
       "      <td>Experience Cloud</td>\n",
       "      <td>2015-06</td>\n",
       "      <td>0</td>\n",
       "      <td>258231.69</td>\n",
       "    </tr>\n",
       "    <tr>\n",
       "      <th>6</th>\n",
       "      <td>AUD</td>\n",
       "      <td>Experience Cloud</td>\n",
       "      <td>2015-07</td>\n",
       "      <td>0</td>\n",
       "      <td>261159.25</td>\n",
       "    </tr>\n",
       "    <tr>\n",
       "      <th>7</th>\n",
       "      <td>AUD</td>\n",
       "      <td>Experience Cloud</td>\n",
       "      <td>2015-08</td>\n",
       "      <td>0</td>\n",
       "      <td>270139.50</td>\n",
       "    </tr>\n",
       "    <tr>\n",
       "      <th>8</th>\n",
       "      <td>AUD</td>\n",
       "      <td>Experience Cloud</td>\n",
       "      <td>2015-09</td>\n",
       "      <td>0</td>\n",
       "      <td>482725.30</td>\n",
       "    </tr>\n",
       "    <tr>\n",
       "      <th>9</th>\n",
       "      <td>AUD</td>\n",
       "      <td>Experience Cloud</td>\n",
       "      <td>2015-10</td>\n",
       "      <td>0</td>\n",
       "      <td>287254.60</td>\n",
       "    </tr>\n",
       "  </tbody>\n",
       "</table>\n",
       "</div>"
      ],
      "text/plain": [
       "  Document Currency     Enterprise Bu Invoicing Fiscal Year-Period Desc  \\\n",
       "0               AUD          Creative                           2017-10   \n",
       "1               AUD    Document Cloud                           2017-12   \n",
       "2               AUD    Document Cloud                           2018-06   \n",
       "3               AUD    Document Cloud                           2018-12   \n",
       "4               AUD    Document Cloud                           2019-03   \n",
       "5               AUD  Experience Cloud                           2015-06   \n",
       "6               AUD  Experience Cloud                           2015-07   \n",
       "7               AUD  Experience Cloud                           2015-08   \n",
       "8               AUD  Experience Cloud                           2015-09   \n",
       "9               AUD  Experience Cloud                           2015-10   \n",
       "\n",
       "   Subscription Term  Completed Sales Doc Currency  \n",
       "0                  0                       8544.00  \n",
       "1                  0                       3283.20  \n",
       "2                  0                       3425.00  \n",
       "3                  0                       3425.00  \n",
       "4                  0                       4375.00  \n",
       "5                  0                     258231.69  \n",
       "6                  0                     261159.25  \n",
       "7                  0                     270139.50  \n",
       "8                  0                     482725.30  \n",
       "9                  0                     287254.60  "
      ]
     },
     "execution_count": 24,
     "metadata": {},
     "output_type": "execute_result"
    }
   ],
   "source": [
    "gb_b.head(10)"
   ]
  },
  {
   "cell_type": "code",
   "execution_count": 25,
   "metadata": {},
   "outputs": [],
   "source": [
    "gb_b.drop(labels='Subscription Term', axis=1, inplace=True)"
   ]
  },
  {
   "cell_type": "code",
   "execution_count": 26,
   "metadata": {},
   "outputs": [
    {
     "data": {
      "text/plain": [
       "Index(['Document Currency', 'Enterprise Bu', 'Frequency',\n",
       "       'Invoicing Fiscal Year-Period Desc', 'Product Configtype ID',\n",
       "       'Revenue Recognition Category New', 'Rule For Bill Date', 'Sales Type',\n",
       "       'Subscription Term', 'Completed Sales Doc Currency'],\n",
       "      dtype='object')"
      ]
     },
     "execution_count": 26,
     "metadata": {},
     "output_type": "execute_result"
    }
   ],
   "source": [
    "dfr.columns"
   ]
  },
  {
   "cell_type": "code",
   "execution_count": 27,
   "metadata": {},
   "outputs": [
    {
     "name": "stdout",
     "output_type": "stream",
     "text": [
      "22919\n"
     ]
    }
   ],
   "source": [
    "print(len(dfr))"
   ]
  },
  {
   "cell_type": "code",
   "execution_count": 28,
   "metadata": {},
   "outputs": [
    {
     "name": "stdout",
     "output_type": "stream",
     "text": [
      "997\n"
     ]
    }
   ],
   "source": [
    "print(len(dfr_b))"
   ]
  },
  {
   "cell_type": "code",
   "execution_count": null,
   "metadata": {},
   "outputs": [],
   "source": []
  },
  {
   "cell_type": "code",
   "execution_count": null,
   "metadata": {},
   "outputs": [],
   "source": []
  },
  {
   "cell_type": "markdown",
   "metadata": {},
   "source": [
    "## Now Type A Billings\n",
    "These billings are on a billing plan. The product config tells us how long before they renew\n",
    "\n",
    " - '2Y' = 24 months\n",
    " - '1Y' = 12 months\n",
    " - 'MTHLY' = 1 month\n",
    " \n",
    "NOTE: There are also other fields in the 'Product Configtype ID' field that do not map well to a rebill period.\n",
    "To fix this, we need to load up a different file and determine the length of the sales contract (type A no config)\n",
    " "
   ]
  },
  {
   "cell_type": "code",
   "execution_count": 29,
   "metadata": {},
   "outputs": [],
   "source": [
    "# filtering just the type A billings\n",
    "dfr_a = dfr[dfr['Revenue Recognition Category New']=='A']"
   ]
  },
  {
   "cell_type": "code",
   "execution_count": 30,
   "metadata": {},
   "outputs": [],
   "source": [
    "gb_a = dfr_a.groupby(['Document Currency', 'Enterprise Bu', 'Invoicing Fiscal Year-Period Desc',\n",
    "                     'Product Configtype ID'], as_index=False).sum()\n",
    "gb_a.drop(labels='Subscription Term', axis=1, inplace = True)"
   ]
  },
  {
   "cell_type": "code",
   "execution_count": 31,
   "metadata": {},
   "outputs": [
    {
     "data": {
      "text/html": [
       "<div>\n",
       "<style scoped>\n",
       "    .dataframe tbody tr th:only-of-type {\n",
       "        vertical-align: middle;\n",
       "    }\n",
       "\n",
       "    .dataframe tbody tr th {\n",
       "        vertical-align: top;\n",
       "    }\n",
       "\n",
       "    .dataframe thead th {\n",
       "        text-align: right;\n",
       "    }\n",
       "</style>\n",
       "<table border=\"1\" class=\"dataframe\">\n",
       "  <thead>\n",
       "    <tr style=\"text-align: right;\">\n",
       "      <th></th>\n",
       "      <th>Document Currency</th>\n",
       "      <th>Enterprise Bu</th>\n",
       "      <th>Invoicing Fiscal Year-Period Desc</th>\n",
       "      <th>Product Configtype ID</th>\n",
       "      <th>Completed Sales Doc Currency</th>\n",
       "    </tr>\n",
       "  </thead>\n",
       "  <tbody>\n",
       "    <tr>\n",
       "      <th>846</th>\n",
       "      <td>CHF</td>\n",
       "      <td>LiveCycle</td>\n",
       "      <td>2018-04</td>\n",
       "      <td>1Y</td>\n",
       "      <td>17237.00</td>\n",
       "    </tr>\n",
       "    <tr>\n",
       "      <th>706</th>\n",
       "      <td>CHF</td>\n",
       "      <td>Creative</td>\n",
       "      <td>2018-11</td>\n",
       "      <td>MTHLY</td>\n",
       "      <td>-5134.35</td>\n",
       "    </tr>\n",
       "    <tr>\n",
       "      <th>2901</th>\n",
       "      <td>SEK</td>\n",
       "      <td>Document Cloud</td>\n",
       "      <td>2017-06</td>\n",
       "      <td>1Y</td>\n",
       "      <td>-123.90</td>\n",
       "    </tr>\n",
       "    <tr>\n",
       "      <th>695</th>\n",
       "      <td>CHF</td>\n",
       "      <td>Creative</td>\n",
       "      <td>2018-06</td>\n",
       "      <td>1Y</td>\n",
       "      <td>-8692.12</td>\n",
       "    </tr>\n",
       "    <tr>\n",
       "      <th>57</th>\n",
       "      <td>AUD</td>\n",
       "      <td>Creative</td>\n",
       "      <td>2017-01</td>\n",
       "      <td>1Y</td>\n",
       "      <td>2828854.56</td>\n",
       "    </tr>\n",
       "    <tr>\n",
       "      <th>3201</th>\n",
       "      <td>USD</td>\n",
       "      <td>Document Cloud</td>\n",
       "      <td>2016-08</td>\n",
       "      <td>2Y</td>\n",
       "      <td>566785.00</td>\n",
       "    </tr>\n",
       "    <tr>\n",
       "      <th>1133</th>\n",
       "      <td>EUR</td>\n",
       "      <td>Creative</td>\n",
       "      <td>2016-04</td>\n",
       "      <td>1Y</td>\n",
       "      <td>9858177.24</td>\n",
       "    </tr>\n",
       "    <tr>\n",
       "      <th>2621</th>\n",
       "      <td>NOK</td>\n",
       "      <td>Creative</td>\n",
       "      <td>2018-09</td>\n",
       "      <td>MTHLY</td>\n",
       "      <td>-34697.00</td>\n",
       "    </tr>\n",
       "    <tr>\n",
       "      <th>268</th>\n",
       "      <td>AUD</td>\n",
       "      <td>Document Cloud</td>\n",
       "      <td>2019-02</td>\n",
       "      <td>3Y</td>\n",
       "      <td>2270.00</td>\n",
       "    </tr>\n",
       "    <tr>\n",
       "      <th>1074</th>\n",
       "      <td>DKK</td>\n",
       "      <td>Print &amp; Publishing</td>\n",
       "      <td>2015-06</td>\n",
       "      <td>1Y</td>\n",
       "      <td>840.00</td>\n",
       "    </tr>\n",
       "  </tbody>\n",
       "</table>\n",
       "</div>"
      ],
      "text/plain": [
       "     Document Currency       Enterprise Bu Invoicing Fiscal Year-Period Desc  \\\n",
       "846                CHF           LiveCycle                           2018-04   \n",
       "706                CHF            Creative                           2018-11   \n",
       "2901               SEK      Document Cloud                           2017-06   \n",
       "695                CHF            Creative                           2018-06   \n",
       "57                 AUD            Creative                           2017-01   \n",
       "3201               USD      Document Cloud                           2016-08   \n",
       "1133               EUR            Creative                           2016-04   \n",
       "2621               NOK            Creative                           2018-09   \n",
       "268                AUD      Document Cloud                           2019-02   \n",
       "1074               DKK  Print & Publishing                           2015-06   \n",
       "\n",
       "     Product Configtype ID  Completed Sales Doc Currency  \n",
       "846                     1Y                      17237.00  \n",
       "706                  MTHLY                      -5134.35  \n",
       "2901                    1Y                       -123.90  \n",
       "695                     1Y                      -8692.12  \n",
       "57                      1Y                    2828854.56  \n",
       "3201                    2Y                     566785.00  \n",
       "1133                    1Y                    9858177.24  \n",
       "2621                 MTHLY                     -34697.00  \n",
       "268                     3Y                       2270.00  \n",
       "1074                    1Y                        840.00  "
      ]
     },
     "execution_count": 31,
     "metadata": {},
     "output_type": "execute_result"
    }
   ],
   "source": [
    "gb_a.sample(10)"
   ]
  },
  {
   "cell_type": "code",
   "execution_count": 32,
   "metadata": {},
   "outputs": [
    {
     "data": {
      "text/plain": [
       "1Y       1856\n",
       "MTHLY     823\n",
       "2Y        657\n",
       "OUNIV     171\n",
       "OCONS      62\n",
       "3Y         46\n",
       "ONORE      28\n",
       "Name: Product Configtype ID, dtype: int64"
      ]
     },
     "execution_count": 32,
     "metadata": {},
     "output_type": "execute_result"
    }
   ],
   "source": [
    "gb_a['Product Configtype ID'].value_counts()"
   ]
  },
  {
   "cell_type": "code",
   "execution_count": 35,
   "metadata": {},
   "outputs": [],
   "source": [
    "gb_a_config = gb_a.groupby(['Product Configtype ID'], as_index=False).sum()"
   ]
  },
  {
   "cell_type": "code",
   "execution_count": 38,
   "metadata": {},
   "outputs": [
    {
     "data": {
      "text/html": [
       "<div>\n",
       "<style scoped>\n",
       "    .dataframe tbody tr th:only-of-type {\n",
       "        vertical-align: middle;\n",
       "    }\n",
       "\n",
       "    .dataframe tbody tr th {\n",
       "        vertical-align: top;\n",
       "    }\n",
       "\n",
       "    .dataframe thead th {\n",
       "        text-align: right;\n",
       "    }\n",
       "</style>\n",
       "<table border=\"1\" class=\"dataframe\">\n",
       "  <thead>\n",
       "    <tr style=\"text-align: right;\">\n",
       "      <th></th>\n",
       "      <th>Product Configtype ID</th>\n",
       "      <th>Completed Sales Doc Currency</th>\n",
       "    </tr>\n",
       "  </thead>\n",
       "  <tbody>\n",
       "    <tr>\n",
       "      <th>0</th>\n",
       "      <td>1Y</td>\n",
       "      <td>6.471612e+10</td>\n",
       "    </tr>\n",
       "    <tr>\n",
       "      <th>1</th>\n",
       "      <td>2Y</td>\n",
       "      <td>1.973660e+08</td>\n",
       "    </tr>\n",
       "    <tr>\n",
       "      <th>2</th>\n",
       "      <td>3Y</td>\n",
       "      <td>8.787511e+07</td>\n",
       "    </tr>\n",
       "    <tr>\n",
       "      <th>3</th>\n",
       "      <td>MTHLY</td>\n",
       "      <td>-1.982427e+07</td>\n",
       "    </tr>\n",
       "    <tr>\n",
       "      <th>4</th>\n",
       "      <td>OCONS</td>\n",
       "      <td>2.883743e+07</td>\n",
       "    </tr>\n",
       "    <tr>\n",
       "      <th>5</th>\n",
       "      <td>ONORE</td>\n",
       "      <td>2.258881e+06</td>\n",
       "    </tr>\n",
       "    <tr>\n",
       "      <th>6</th>\n",
       "      <td>OUNIV</td>\n",
       "      <td>3.328696e+06</td>\n",
       "    </tr>\n",
       "  </tbody>\n",
       "</table>\n",
       "</div>"
      ],
      "text/plain": [
       "  Product Configtype ID  Completed Sales Doc Currency\n",
       "0                    1Y                  6.471612e+10\n",
       "1                    2Y                  1.973660e+08\n",
       "2                    3Y                  8.787511e+07\n",
       "3                 MTHLY                 -1.982427e+07\n",
       "4                 OCONS                  2.883743e+07\n",
       "5                 ONORE                  2.258881e+06\n",
       "6                 OUNIV                  3.328696e+06"
      ]
     },
     "execution_count": 38,
     "metadata": {},
     "output_type": "execute_result"
    }
   ],
   "source": [
    "gb_a_config"
   ]
  },
  {
   "cell_type": "code",
   "execution_count": 39,
   "metadata": {},
   "outputs": [
    {
     "data": {
      "text/plain": [
       "<BarContainer object of 7 artists>"
      ]
     },
     "execution_count": 39,
     "metadata": {},
     "output_type": "execute_result"
    },
    {
     "data": {
      "image/png": "[encoded data removed]",
      "text/plain": [
       "<Figure size 432x288 with 1 Axes>"
      ]
     },
     "metadata": {
      "needs_background": "light"
     },
     "output_type": "display_data"
    }
   ],
   "source": [
    "plt.bar(gb_a_config['Product Configtype ID'], gb_a_config['Completed Sales Doc Currency'])"
   ]
  },
  {
   "cell_type": "markdown",
   "metadata": {},
   "source": [
    "### These type A amounts are very small!"
   ]
  },
  {
   "cell_type": "code",
   "execution_count": null,
   "metadata": {},
   "outputs": [],
   "source": [
    "# OK now lets just filter this gb_a to only be 1Y, 2Y, 3Y and MTHLY"
   ]
  },
  {
   "cell_type": "code",
   "execution_count": null,
   "metadata": {},
   "outputs": [],
   "source": []
  },
  {
   "cell_type": "code",
   "execution_count": null,
   "metadata": {},
   "outputs": [],
   "source": []
  },
  {
   "cell_type": "code",
   "execution_count": 40,
   "metadata": {},
   "outputs": [
    {
     "data": {
      "text/plain": [
       "3382"
      ]
     },
     "execution_count": 40,
     "metadata": {},
     "output_type": "execute_result"
    }
   ],
   "source": [
    "config_list = ['1Y', '2Y', '3Y', 'MTHLY']\n",
    "test1 = gb_a['Product Configtype ID'].isin(config_list)\n",
    "sum(test1)"
   ]
  },
  {
   "cell_type": "code",
   "execution_count": 42,
   "metadata": {},
   "outputs": [],
   "source": [
    "test1 = gb_a[gb_a['Product Configtype ID'].isin(config_list)]"
   ]
  },
  {
   "cell_type": "markdown",
   "metadata": {},
   "source": [
    "## For now, lets just split this into gb_a_1Y, gb_a_2Y, gb_a_3y, gb_a_1M\n"
   ]
  },
  {
   "cell_type": "code",
   "execution_count": 43,
   "metadata": {},
   "outputs": [],
   "source": [
    "gb_a_1Y = test1[test1['Product Configtype ID']=='1Y']\n",
    "gb_a_2Y = test1[test1['Product Configtype ID']=='2Y']\n",
    "gb_a_3Y = test1[test1['Product Configtype ID']=='3Y']\n",
    "gb_a_1M = test1[test1['Product Configtype ID']=='MTHLY']"
   ]
  },
  {
   "cell_type": "code",
   "execution_count": 46,
   "metadata": {},
   "outputs": [
    {
     "name": "stdout",
     "output_type": "stream",
     "text": [
      "this is the lenght of type A 1M billings:  823\n",
      "this is the lenght of type A 1Y billings:  1856\n",
      "this is the lenght of type A 2Y billings:  657\n",
      "this is the lenght of type A 3Y billings:  46\n"
     ]
    }
   ],
   "source": [
    "print('this is the lenght of type A 1M billings: ', len(gb_a_1M))\n",
    "print('this is the lenght of type A 1Y billings: ', len(gb_a_1Y))\n",
    "print('this is the lenght of type A 2Y billings: ', len(gb_a_2Y))\n",
    "print('this is the lenght of type A 3Y billings: ', len(gb_a_3Y))"
   ]
  },
  {
   "cell_type": "markdown",
   "metadata": {},
   "source": [
    "# TYPE D billings\n",
    "These billings have a field 'Rule For Bill Date' that determines when new billings will occur\n",
    " - Monthly [Y1, Y2, Y3, Y5]\n",
    " - Quarterly [YQ]\n",
    " - Every 4 months [YT]\n",
    " - Semi-annual [YH]\n",
    " - Annual [YA, YC]\n",
    " - Every 2 years - [Y4]\n",
    " \n",
    " We also need to track the type D billings that do not have a 'Rule for Bill Date'"
   ]
  },
  {
   "cell_type": "code",
   "execution_count": 48,
   "metadata": {},
   "outputs": [],
   "source": [
    "# for now just do a groupby on the type\n",
    "# filtering just the type A billings\n",
    "dfr_d = dfr[dfr['Revenue Recognition Category New']=='D']"
   ]
  },
  {
   "cell_type": "code",
   "execution_count": 49,
   "metadata": {},
   "outputs": [],
   "source": [
    "gb_d = dfr_d.groupby(['Document Currency', 'Enterprise Bu', 'Invoicing Fiscal Year-Period Desc',\n",
    "                     'Rule For Bill Date'], as_index=False).sum()\n",
    "gb_d.drop(labels='Subscription Term', axis=1, inplace = True)"
   ]
  },
  {
   "cell_type": "code",
   "execution_count": 50,
   "metadata": {},
   "outputs": [],
   "source": [
    "gb_d_mthly = gb_d[gb_d['Rule For Bill Date'].isin(['Y1', 'Y2', 'Y3', 'Y5'])]\n",
    "gb_d_qtrly = gb_d[gb_d['Rule For Bill Date']=='YQ']\n",
    "gb_d_four_mths = gb_d[gb_d['Rule For Bill Date']=='YT']\n",
    "gb_d_semi_ann = gb_d[gb_d['Rule For Bill Date']=='YH']\n",
    "gb_d_annual = gb_d[gb_d['Rule For Bill Date'].isin(['YA', 'YC'])]\n",
    "gb_d_two_yrs = gb_d[gb_d['Rule For Bill Date']=='Y4']"
   ]
  },
  {
   "cell_type": "code",
   "execution_count": 51,
   "metadata": {},
   "outputs": [
    {
     "data": {
      "text/plain": [
       "YA    1630\n",
       "Y3    1438\n",
       "YQ     530\n",
       "Y1     256\n",
       "YC     246\n",
       "YH     243\n",
       "Y2      95\n",
       "Y4      23\n",
       "Y7      18\n",
       "YT       8\n",
       "BT       1\n",
       "Name: Rule For Bill Date, dtype: int64"
      ]
     },
     "execution_count": 51,
     "metadata": {},
     "output_type": "execute_result"
    }
   ],
   "source": [
    "gb_d['Rule For Bill Date'].value_counts()"
   ]
  },
  {
   "cell_type": "markdown",
   "metadata": {},
   "source": [
    "### Note: There is one type D billings that is listed as 'BT' I don't know what this means, but it was a $180 EUR payment from January 2017, so we will ignore"
   ]
  },
  {
   "cell_type": "code",
   "execution_count": 52,
   "metadata": {},
   "outputs": [
    {
     "name": "stdout",
     "output_type": "stream",
     "text": [
      "Length of monthly 1789\n",
      "Length of quarterly 530\n",
      "Length of four months 8\n",
      "Length of semi ann 243\n",
      "Length of annual 1876\n",
      "Length of two years 23\n"
     ]
    }
   ],
   "source": [
    "print('Length of monthly', len(gb_d_mthly))\n",
    "print('Length of quarterly', len(gb_d_qtrly))\n",
    "print('Length of four months', len(gb_d_four_mths))\n",
    "print('Length of semi ann', len(gb_d_semi_ann))\n",
    "print('Length of annual', len(gb_d_annual))\n",
    "print('Length of two years', len(gb_d_two_yrs))"
   ]
  },
  {
   "cell_type": "code",
   "execution_count": 53,
   "metadata": {},
   "outputs": [
    {
     "data": {
      "text/html": [
       "<div>\n",
       "<style scoped>\n",
       "    .dataframe tbody tr th:only-of-type {\n",
       "        vertical-align: middle;\n",
       "    }\n",
       "\n",
       "    .dataframe tbody tr th {\n",
       "        vertical-align: top;\n",
       "    }\n",
       "\n",
       "    .dataframe thead th {\n",
       "        text-align: right;\n",
       "    }\n",
       "</style>\n",
       "<table border=\"1\" class=\"dataframe\">\n",
       "  <thead>\n",
       "    <tr style=\"text-align: right;\">\n",
       "      <th></th>\n",
       "      <th>Document Currency</th>\n",
       "      <th>Enterprise Bu</th>\n",
       "      <th>Invoicing Fiscal Year-Period Desc</th>\n",
       "      <th>Rule For Bill Date</th>\n",
       "      <th>Completed Sales Doc Currency</th>\n",
       "    </tr>\n",
       "  </thead>\n",
       "  <tbody>\n",
       "    <tr>\n",
       "      <th>4054</th>\n",
       "      <td>USD</td>\n",
       "      <td>Experience Cloud</td>\n",
       "      <td>2015-06</td>\n",
       "      <td>YT</td>\n",
       "      <td>11666.60</td>\n",
       "    </tr>\n",
       "    <tr>\n",
       "      <th>4068</th>\n",
       "      <td>USD</td>\n",
       "      <td>Experience Cloud</td>\n",
       "      <td>2015-08</td>\n",
       "      <td>YT</td>\n",
       "      <td>549861.11</td>\n",
       "    </tr>\n",
       "    <tr>\n",
       "      <th>4081</th>\n",
       "      <td>USD</td>\n",
       "      <td>Experience Cloud</td>\n",
       "      <td>2015-10</td>\n",
       "      <td>YT</td>\n",
       "      <td>11666.60</td>\n",
       "    </tr>\n",
       "    <tr>\n",
       "      <th>4101</th>\n",
       "      <td>USD</td>\n",
       "      <td>Experience Cloud</td>\n",
       "      <td>2016-01</td>\n",
       "      <td>YT</td>\n",
       "      <td>612916.60</td>\n",
       "    </tr>\n",
       "    <tr>\n",
       "      <th>4106</th>\n",
       "      <td>USD</td>\n",
       "      <td>Experience Cloud</td>\n",
       "      <td>2016-02</td>\n",
       "      <td>YT</td>\n",
       "      <td>-601250.00</td>\n",
       "    </tr>\n",
       "    <tr>\n",
       "      <th>4166</th>\n",
       "      <td>USD</td>\n",
       "      <td>Experience Cloud</td>\n",
       "      <td>2016-12</td>\n",
       "      <td>YT</td>\n",
       "      <td>13440.00</td>\n",
       "    </tr>\n",
       "    <tr>\n",
       "      <th>4190</th>\n",
       "      <td>USD</td>\n",
       "      <td>Experience Cloud</td>\n",
       "      <td>2017-04</td>\n",
       "      <td>YT</td>\n",
       "      <td>13440.00</td>\n",
       "    </tr>\n",
       "    <tr>\n",
       "      <th>4214</th>\n",
       "      <td>USD</td>\n",
       "      <td>Experience Cloud</td>\n",
       "      <td>2017-08</td>\n",
       "      <td>YT</td>\n",
       "      <td>13440.00</td>\n",
       "    </tr>\n",
       "  </tbody>\n",
       "</table>\n",
       "</div>"
      ],
      "text/plain": [
       "     Document Currency     Enterprise Bu Invoicing Fiscal Year-Period Desc  \\\n",
       "4054               USD  Experience Cloud                           2015-06   \n",
       "4068               USD  Experience Cloud                           2015-08   \n",
       "4081               USD  Experience Cloud                           2015-10   \n",
       "4101               USD  Experience Cloud                           2016-01   \n",
       "4106               USD  Experience Cloud                           2016-02   \n",
       "4166               USD  Experience Cloud                           2016-12   \n",
       "4190               USD  Experience Cloud                           2017-04   \n",
       "4214               USD  Experience Cloud                           2017-08   \n",
       "\n",
       "     Rule For Bill Date  Completed Sales Doc Currency  \n",
       "4054                 YT                      11666.60  \n",
       "4068                 YT                     549861.11  \n",
       "4081                 YT                      11666.60  \n",
       "4101                 YT                     612916.60  \n",
       "4106                 YT                    -601250.00  \n",
       "4166                 YT                      13440.00  \n",
       "4190                 YT                      13440.00  \n",
       "4214                 YT                      13440.00  "
      ]
     },
     "execution_count": 53,
     "metadata": {},
     "output_type": "execute_result"
    }
   ],
   "source": [
    "what_is_BT = gb_d[gb_d['Rule For Bill Date']=='YT']\n",
    "what_is_BT.head(10)"
   ]
  },
  {
   "cell_type": "markdown",
   "metadata": {},
   "source": [
    "## Note: There are only 8 payments (back from 2017) that paid on a 4 month basis. \n",
    "We will ignore these as well."
   ]
  },
  {
   "cell_type": "code",
   "execution_count": null,
   "metadata": {},
   "outputs": [],
   "source": []
  },
  {
   "cell_type": "code",
   "execution_count": null,
   "metadata": {},
   "outputs": [],
   "source": []
  },
  {
   "cell_type": "markdown",
   "metadata": {},
   "source": [
    "## NOW WE NEED TO BUILD A DATAFRAME THAT INTEGRATES THIS DATA\n",
    "\n",
    "- We will have the following descriptive fields\n",
    "   - Invoicing Fiscal Year-Period\n",
    "   - Document Currency\n",
    "   - Enterprise BU\n",
    "\n",
    "- We will have the following fields based on rebilling rule\n",
    "   - Recognized\n",
    "   - Service\n",
    "   - Monthly\n",
    "   - Quarterly\n",
    "   - Annual\n",
    "   - Two Years\n",
    "   - Three Years"
   ]
  },
  {
   "cell_type": "code",
   "execution_count": 54,
   "metadata": {},
   "outputs": [],
   "source": [
    "# starting with service and revenue\n",
    "df_merge1 = pd.merge(gb_rec, gb_svc, how='outer', \n",
    "                     left_on=['Document Currency', 'Enterprise Bu', 'Invoicing Fiscal Year-Period Desc'],\n",
    "                    right_on=['Document Currency', 'Enterprise Bu', 'Invoicing Fiscal Year-Period Desc'])"
   ]
  },
  {
   "cell_type": "code",
   "execution_count": 55,
   "metadata": {},
   "outputs": [
    {
     "data": {
      "text/html": [
       "<div>\n",
       "<style scoped>\n",
       "    .dataframe tbody tr th:only-of-type {\n",
       "        vertical-align: middle;\n",
       "    }\n",
       "\n",
       "    .dataframe tbody tr th {\n",
       "        vertical-align: top;\n",
       "    }\n",
       "\n",
       "    .dataframe thead th {\n",
       "        text-align: right;\n",
       "    }\n",
       "</style>\n",
       "<table border=\"1\" class=\"dataframe\">\n",
       "  <thead>\n",
       "    <tr style=\"text-align: right;\">\n",
       "      <th></th>\n",
       "      <th>Document Currency</th>\n",
       "      <th>Enterprise Bu</th>\n",
       "      <th>Invoicing Fiscal Year-Period Desc</th>\n",
       "      <th>Completed Sales Doc Currency_x</th>\n",
       "      <th>Completed Sales Doc Currency_y</th>\n",
       "    </tr>\n",
       "  </thead>\n",
       "  <tbody>\n",
       "    <tr>\n",
       "      <th>1251</th>\n",
       "      <td>GBP</td>\n",
       "      <td>Print &amp; Publishing</td>\n",
       "      <td>2015-12</td>\n",
       "      <td>109931.88</td>\n",
       "      <td>NaN</td>\n",
       "    </tr>\n",
       "    <tr>\n",
       "      <th>1816</th>\n",
       "      <td>SEK</td>\n",
       "      <td>Creative</td>\n",
       "      <td>2018-02</td>\n",
       "      <td>366344.00</td>\n",
       "      <td>NaN</td>\n",
       "    </tr>\n",
       "    <tr>\n",
       "      <th>2007</th>\n",
       "      <td>SEK</td>\n",
       "      <td>Print &amp; Publishing</td>\n",
       "      <td>2017-05</td>\n",
       "      <td>9300.00</td>\n",
       "      <td>NaN</td>\n",
       "    </tr>\n",
       "    <tr>\n",
       "      <th>842</th>\n",
       "      <td>EUR</td>\n",
       "      <td>Experience Cloud</td>\n",
       "      <td>2015-08</td>\n",
       "      <td>1165954.20</td>\n",
       "      <td>1846289.96</td>\n",
       "    </tr>\n",
       "    <tr>\n",
       "      <th>703</th>\n",
       "      <td>DKK</td>\n",
       "      <td>Other Solutions</td>\n",
       "      <td>2017-08</td>\n",
       "      <td>-55.00</td>\n",
       "      <td>NaN</td>\n",
       "    </tr>\n",
       "  </tbody>\n",
       "</table>\n",
       "</div>"
      ],
      "text/plain": [
       "     Document Currency       Enterprise Bu Invoicing Fiscal Year-Period Desc  \\\n",
       "1251               GBP  Print & Publishing                           2015-12   \n",
       "1816               SEK            Creative                           2018-02   \n",
       "2007               SEK  Print & Publishing                           2017-05   \n",
       "842                EUR    Experience Cloud                           2015-08   \n",
       "703                DKK     Other Solutions                           2017-08   \n",
       "\n",
       "      Completed Sales Doc Currency_x  Completed Sales Doc Currency_y  \n",
       "1251                       109931.88                             NaN  \n",
       "1816                       366344.00                             NaN  \n",
       "2007                         9300.00                             NaN  \n",
       "842                       1165954.20                      1846289.96  \n",
       "703                           -55.00                             NaN  "
      ]
     },
     "execution_count": 55,
     "metadata": {},
     "output_type": "execute_result"
    }
   ],
   "source": [
    "df_merge1.sample(5)"
   ]
  },
  {
   "cell_type": "code",
   "execution_count": 56,
   "metadata": {},
   "outputs": [
    {
     "data": {
      "text/plain": [
       "Index(['Document Currency', 'Enterprise Bu',\n",
       "       'Invoicing Fiscal Year-Period Desc', 'Completed Sales Doc Currency'],\n",
       "      dtype='object')"
      ]
     },
     "execution_count": 56,
     "metadata": {},
     "output_type": "execute_result"
    }
   ],
   "source": [
    "gb_rec.columns"
   ]
  },
  {
   "cell_type": "code",
   "execution_count": 57,
   "metadata": {},
   "outputs": [],
   "source": [
    "df_merge1.rename(index=str, columns={'Completed Sales Doc Currency_x':'recognized',\n",
    "                                     'Completed Sales Doc Currency_y':'service'}, inplace=True)"
   ]
  },
  {
   "cell_type": "code",
   "execution_count": 58,
   "metadata": {},
   "outputs": [],
   "source": [
    "df_merge2 = pd.merge(df_merge1, gb_b, how='outer', \n",
    "                     left_on=['Document Currency', 'Enterprise Bu', 'Invoicing Fiscal Year-Period Desc'],\n",
    "                    right_on=['Document Currency', 'Enterprise Bu', 'Invoicing Fiscal Year-Period Desc'])"
   ]
  },
  {
   "cell_type": "code",
   "execution_count": 59,
   "metadata": {},
   "outputs": [],
   "source": [
    "df_merge2.rename(index=str, columns={'Completed Sales Doc Currency':'deferred_B'}, inplace=True)"
   ]
  },
  {
   "cell_type": "code",
   "execution_count": 60,
   "metadata": {},
   "outputs": [],
   "source": [
    "df_merge3 = pd.merge(df_merge2, gb_a_1M, how='outer', \n",
    "                     left_on=['Document Currency', 'Enterprise Bu', 'Invoicing Fiscal Year-Period Desc'],\n",
    "                    right_on=['Document Currency', 'Enterprise Bu', 'Invoicing Fiscal Year-Period Desc'])"
   ]
  },
  {
   "cell_type": "code",
   "execution_count": 61,
   "metadata": {},
   "outputs": [],
   "source": [
    "df_merge3.rename(index=str, columns={'Completed Sales Doc Currency': 'deferred_1M_a'}, inplace=True)"
   ]
  },
  {
   "cell_type": "code",
   "execution_count": 62,
   "metadata": {},
   "outputs": [
    {
     "data": {
      "text/plain": [
       "Index(['Document Currency', 'Enterprise Bu',\n",
       "       'Invoicing Fiscal Year-Period Desc', 'recognized', 'service',\n",
       "       'deferred_B', 'Product Configtype ID', 'deferred_1M_a'],\n",
       "      dtype='object')"
      ]
     },
     "execution_count": 62,
     "metadata": {},
     "output_type": "execute_result"
    }
   ],
   "source": [
    "df_merge3.columns"
   ]
  },
  {
   "cell_type": "code",
   "execution_count": 65,
   "metadata": {},
   "outputs": [],
   "source": [
    "df_merge3.drop(columns=['Product Configtype ID'], inplace=True)"
   ]
  },
  {
   "cell_type": "code",
   "execution_count": 66,
   "metadata": {},
   "outputs": [
    {
     "data": {
      "text/html": [
       "<div>\n",
       "<style scoped>\n",
       "    .dataframe tbody tr th:only-of-type {\n",
       "        vertical-align: middle;\n",
       "    }\n",
       "\n",
       "    .dataframe tbody tr th {\n",
       "        vertical-align: top;\n",
       "    }\n",
       "\n",
       "    .dataframe thead th {\n",
       "        text-align: right;\n",
       "    }\n",
       "</style>\n",
       "<table border=\"1\" class=\"dataframe\">\n",
       "  <thead>\n",
       "    <tr style=\"text-align: right;\">\n",
       "      <th></th>\n",
       "      <th>Document Currency</th>\n",
       "      <th>Enterprise Bu</th>\n",
       "      <th>Invoicing Fiscal Year-Period Desc</th>\n",
       "      <th>recognized</th>\n",
       "      <th>service</th>\n",
       "      <th>deferred_B</th>\n",
       "      <th>deferred_1M_a</th>\n",
       "    </tr>\n",
       "  </thead>\n",
       "  <tbody>\n",
       "    <tr>\n",
       "      <th>0</th>\n",
       "      <td>AUD</td>\n",
       "      <td>Creative</td>\n",
       "      <td>2015-06</td>\n",
       "      <td>490156.86</td>\n",
       "      <td>NaN</td>\n",
       "      <td>NaN</td>\n",
       "      <td>-2758.57</td>\n",
       "    </tr>\n",
       "    <tr>\n",
       "      <th>1</th>\n",
       "      <td>AUD</td>\n",
       "      <td>Creative</td>\n",
       "      <td>2015-07</td>\n",
       "      <td>235045.62</td>\n",
       "      <td>NaN</td>\n",
       "      <td>NaN</td>\n",
       "      <td>-3380.48</td>\n",
       "    </tr>\n",
       "    <tr>\n",
       "      <th>2</th>\n",
       "      <td>AUD</td>\n",
       "      <td>Creative</td>\n",
       "      <td>2015-08</td>\n",
       "      <td>284334.70</td>\n",
       "      <td>NaN</td>\n",
       "      <td>NaN</td>\n",
       "      <td>-2883.40</td>\n",
       "    </tr>\n",
       "    <tr>\n",
       "      <th>3</th>\n",
       "      <td>AUD</td>\n",
       "      <td>Creative</td>\n",
       "      <td>2015-09</td>\n",
       "      <td>369648.88</td>\n",
       "      <td>NaN</td>\n",
       "      <td>NaN</td>\n",
       "      <td>-4480.56</td>\n",
       "    </tr>\n",
       "    <tr>\n",
       "      <th>4</th>\n",
       "      <td>AUD</td>\n",
       "      <td>Creative</td>\n",
       "      <td>2015-10</td>\n",
       "      <td>287292.48</td>\n",
       "      <td>NaN</td>\n",
       "      <td>NaN</td>\n",
       "      <td>-3188.41</td>\n",
       "    </tr>\n",
       "  </tbody>\n",
       "</table>\n",
       "</div>"
      ],
      "text/plain": [
       "  Document Currency Enterprise Bu Invoicing Fiscal Year-Period Desc  \\\n",
       "0               AUD      Creative                           2015-06   \n",
       "1               AUD      Creative                           2015-07   \n",
       "2               AUD      Creative                           2015-08   \n",
       "3               AUD      Creative                           2015-09   \n",
       "4               AUD      Creative                           2015-10   \n",
       "\n",
       "   recognized  service  deferred_B  deferred_1M_a  \n",
       "0   490156.86      NaN         NaN       -2758.57  \n",
       "1   235045.62      NaN         NaN       -3380.48  \n",
       "2   284334.70      NaN         NaN       -2883.40  \n",
       "3   369648.88      NaN         NaN       -4480.56  \n",
       "4   287292.48      NaN         NaN       -3188.41  "
      ]
     },
     "execution_count": 66,
     "metadata": {},
     "output_type": "execute_result"
    }
   ],
   "source": [
    "df_merge3.head()"
   ]
  },
  {
   "cell_type": "code",
   "execution_count": 105,
   "metadata": {},
   "outputs": [],
   "source": [
    "def merge_new_dataframe(old_df, new_df, new_column):\n",
    "    df_merged = pd.merge(old_df, new_df, how='outer', \n",
    "                     left_on=['Document Currency', 'Enterprise Bu', 'Invoicing Fiscal Year-Period Desc'],\n",
    "                    right_on=['Document Currency', 'Enterprise Bu', 'Invoicing Fiscal Year-Period Desc'])\n",
    "    df_merged.rename(index=str, columns={'Completed Sales Doc Currency': new_column}, inplace=True)\n",
    "    \n",
    "    #need to drop the product configtype id for merges where the new_df is of type A\n",
    "    config_str = 'Product Configtype ID'\n",
    "    rule_str = 'Rule For Bill Date'\n",
    "    if config_str in df_merged.columns:\n",
    "        df_merged.drop(columns=['Product Configtype ID'], inplace=True)\n",
    "    \n",
    "    if rule_str in df_merged.columns:\n",
    "        df_merged.drop(columns=['Rule For Bill Date'], inplace=True)\n",
    "        \n",
    "    return df_merged"
   ]
  },
  {
   "cell_type": "code",
   "execution_count": 74,
   "metadata": {},
   "outputs": [],
   "source": [
    "new_column = 'deferred_1Y_a'\n",
    "df_merge4 = merge_new_dataframe(df_merge3, gb_a_1Y, new_column)"
   ]
  },
  {
   "cell_type": "code",
   "execution_count": 75,
   "metadata": {},
   "outputs": [
    {
     "data": {
      "text/plain": [
       "Index(['Document Currency', 'Enterprise Bu',\n",
       "       'Invoicing Fiscal Year-Period Desc', 'recognized', 'service',\n",
       "       'deferred_B', 'deferred_1M_a', 'deferred_1Y_a'],\n",
       "      dtype='object')"
      ]
     },
     "execution_count": 75,
     "metadata": {},
     "output_type": "execute_result"
    }
   ],
   "source": [
    "df_merge4.columns"
   ]
  },
  {
   "cell_type": "code",
   "execution_count": 79,
   "metadata": {},
   "outputs": [],
   "source": [
    "new_column = 'deferred_2Y_a'\n",
    "df_merge4 = merge_new_dataframe(df_merge4, gb_a_2Y, new_column)"
   ]
  },
  {
   "cell_type": "code",
   "execution_count": 80,
   "metadata": {},
   "outputs": [
    {
     "data": {
      "text/html": [
       "<div>\n",
       "<style scoped>\n",
       "    .dataframe tbody tr th:only-of-type {\n",
       "        vertical-align: middle;\n",
       "    }\n",
       "\n",
       "    .dataframe tbody tr th {\n",
       "        vertical-align: top;\n",
       "    }\n",
       "\n",
       "    .dataframe thead th {\n",
       "        text-align: right;\n",
       "    }\n",
       "</style>\n",
       "<table border=\"1\" class=\"dataframe\">\n",
       "  <thead>\n",
       "    <tr style=\"text-align: right;\">\n",
       "      <th></th>\n",
       "      <th>Document Currency</th>\n",
       "      <th>Enterprise Bu</th>\n",
       "      <th>Invoicing Fiscal Year-Period Desc</th>\n",
       "      <th>recognized</th>\n",
       "      <th>service</th>\n",
       "      <th>deferred_B</th>\n",
       "      <th>deferred_1M_a</th>\n",
       "      <th>deferred_1Y_a</th>\n",
       "      <th>deferred_2Y_a</th>\n",
       "    </tr>\n",
       "  </thead>\n",
       "  <tbody>\n",
       "    <tr>\n",
       "      <th>2169</th>\n",
       "      <td>USD</td>\n",
       "      <td>LiveCycle</td>\n",
       "      <td>2015-12</td>\n",
       "      <td>988034.05</td>\n",
       "      <td>NaN</td>\n",
       "      <td>NaN</td>\n",
       "      <td>NaN</td>\n",
       "      <td>2069136.37</td>\n",
       "      <td>NaN</td>\n",
       "    </tr>\n",
       "    <tr>\n",
       "      <th>796</th>\n",
       "      <td>EUR</td>\n",
       "      <td>Document Cloud</td>\n",
       "      <td>2015-08</td>\n",
       "      <td>2865799.94</td>\n",
       "      <td>NaN</td>\n",
       "      <td>NaN</td>\n",
       "      <td>-380.12</td>\n",
       "      <td>1289201.53</td>\n",
       "      <td>39150.0</td>\n",
       "    </tr>\n",
       "    <tr>\n",
       "      <th>402</th>\n",
       "      <td>CHF</td>\n",
       "      <td>Document Cloud</td>\n",
       "      <td>2018-07</td>\n",
       "      <td>1507.00</td>\n",
       "      <td>NaN</td>\n",
       "      <td>NaN</td>\n",
       "      <td>-80.98</td>\n",
       "      <td>16.38</td>\n",
       "      <td>NaN</td>\n",
       "    </tr>\n",
       "    <tr>\n",
       "      <th>1578</th>\n",
       "      <td>NOK</td>\n",
       "      <td>Creative</td>\n",
       "      <td>2016-11</td>\n",
       "      <td>219269.00</td>\n",
       "      <td>NaN</td>\n",
       "      <td>NaN</td>\n",
       "      <td>-7000.45</td>\n",
       "      <td>-174961.08</td>\n",
       "      <td>NaN</td>\n",
       "    </tr>\n",
       "    <tr>\n",
       "      <th>478</th>\n",
       "      <td>CHF</td>\n",
       "      <td>LiveCycle</td>\n",
       "      <td>2017-04</td>\n",
       "      <td>1300.00</td>\n",
       "      <td>NaN</td>\n",
       "      <td>NaN</td>\n",
       "      <td>NaN</td>\n",
       "      <td>NaN</td>\n",
       "      <td>NaN</td>\n",
       "    </tr>\n",
       "  </tbody>\n",
       "</table>\n",
       "</div>"
      ],
      "text/plain": [
       "     Document Currency   Enterprise Bu Invoicing Fiscal Year-Period Desc  \\\n",
       "2169               USD       LiveCycle                           2015-12   \n",
       "796                EUR  Document Cloud                           2015-08   \n",
       "402                CHF  Document Cloud                           2018-07   \n",
       "1578               NOK        Creative                           2016-11   \n",
       "478                CHF       LiveCycle                           2017-04   \n",
       "\n",
       "      recognized  service  deferred_B  deferred_1M_a  deferred_1Y_a  \\\n",
       "2169   988034.05      NaN         NaN            NaN     2069136.37   \n",
       "796   2865799.94      NaN         NaN        -380.12     1289201.53   \n",
       "402      1507.00      NaN         NaN         -80.98          16.38   \n",
       "1578   219269.00      NaN         NaN       -7000.45     -174961.08   \n",
       "478      1300.00      NaN         NaN            NaN            NaN   \n",
       "\n",
       "      deferred_2Y_a  \n",
       "2169            NaN  \n",
       "796         39150.0  \n",
       "402             NaN  \n",
       "1578            NaN  \n",
       "478             NaN  "
      ]
     },
     "execution_count": 80,
     "metadata": {},
     "output_type": "execute_result"
    }
   ],
   "source": [
    "df_merge4.sample(5)"
   ]
  },
  {
   "cell_type": "code",
   "execution_count": 97,
   "metadata": {},
   "outputs": [],
   "source": [
    "# We need to do it this way when we get to a .py file!\n",
    "list_df = [gb_rec, gb_svc, gb_b,\n",
    "        gb_a_1M,    gb_a_1Y,    gb_a_2Y,       gb_a_3Y, \n",
    "        gb_d_mthly, gb_d_qtrly, gb_d_semi_ann, gb_d_annual, gb_d_two_yrs]\n",
    "\n",
    "list_columns = ['recognized', 'service', 'deferred_B', \n",
    "    'deferred_1M_a', 'deferred_1Y_a', 'deferred_2Y_a', 'deferred_3Y_a',\n",
    "    'deferred_1M_d', 'deferred_3M_d', 'deferred_6M_d', 'deferred_1Y_d', 'deferred_2Y_d']\n"
   ]
  },
  {
   "cell_type": "code",
   "execution_count": 108,
   "metadata": {},
   "outputs": [],
   "source": [
    "def merge_all_dataframes(list_df, list_columns):\n",
    "    for i, df in enumerate(list_df):\n",
    "        print('This is i:', i)\n",
    "        #print(\"This is the df: \", df.head())\n",
    "        print('referencing the column: ', list_columns[i])\n",
    "\n",
    "        if i==0:\n",
    "            df_merged = list_df[0]\n",
    "            df_merged.rename(index=str, columns={'Completed Sales Doc Currency': list_columns[i]}, inplace=True)\n",
    "        else:\n",
    "            df_merged = merge_new_dataframe(df_merged, df, list_columns[i])\n",
    "\n",
    "    return df_merged\n",
    "    "
   ]
  },
  {
   "cell_type": "code",
   "execution_count": 109,
   "metadata": {},
   "outputs": [
    {
     "name": "stdout",
     "output_type": "stream",
     "text": [
      "This is i: 0\n",
      "referencing the column:  recognized\n",
      "This is i: 1\n",
      "referencing the column:  service\n",
      "This is i: 2\n",
      "referencing the column:  deferred_B\n",
      "This is i: 3\n",
      "referencing the column:  deferred_1M_a\n",
      "This is i: 4\n",
      "referencing the column:  deferred_1Y_a\n",
      "This is i: 5\n",
      "referencing the column:  deferred_2Y_a\n",
      "This is i: 6\n",
      "referencing the column:  deferred_3Y_a\n",
      "This is i: 7\n",
      "referencing the column:  deferred_1M_d\n",
      "This is i: 8\n",
      "referencing the column:  deferred_3M_d\n",
      "This is i: 9\n",
      "referencing the column:  deferred_6M_d\n",
      "This is i: 10\n",
      "referencing the column:  deferred_1Y_d\n",
      "This is i: 11\n",
      "referencing the column:  deferred_2Y_d\n"
     ]
    }
   ],
   "source": [
    "df = merge_all_dataframes(list_df, list_columns)"
   ]
  },
  {
   "cell_type": "code",
   "execution_count": 110,
   "metadata": {
    "scrolled": true
   },
   "outputs": [
    {
     "data": {
      "text/html": [
       "<div>\n",
       "<style scoped>\n",
       "    .dataframe tbody tr th:only-of-type {\n",
       "        vertical-align: middle;\n",
       "    }\n",
       "\n",
       "    .dataframe tbody tr th {\n",
       "        vertical-align: top;\n",
       "    }\n",
       "\n",
       "    .dataframe thead th {\n",
       "        text-align: right;\n",
       "    }\n",
       "</style>\n",
       "<table border=\"1\" class=\"dataframe\">\n",
       "  <thead>\n",
       "    <tr style=\"text-align: right;\">\n",
       "      <th></th>\n",
       "      <th>Document Currency</th>\n",
       "      <th>Enterprise Bu</th>\n",
       "      <th>Invoicing Fiscal Year-Period Desc</th>\n",
       "      <th>recognized</th>\n",
       "      <th>service</th>\n",
       "      <th>deferred_B</th>\n",
       "      <th>deferred_1M_a</th>\n",
       "      <th>deferred_1Y_a</th>\n",
       "      <th>deferred_2Y_a</th>\n",
       "      <th>deferred_3Y_a</th>\n",
       "      <th>deferred_1M_d</th>\n",
       "      <th>deferred_3M_d</th>\n",
       "      <th>deferred_6M_d</th>\n",
       "      <th>deferred_1Y_d</th>\n",
       "      <th>deferred_2Y_d</th>\n",
       "    </tr>\n",
       "  </thead>\n",
       "  <tbody>\n",
       "    <tr>\n",
       "      <th>1693</th>\n",
       "      <td>JPY</td>\n",
       "      <td>Experience Cloud</td>\n",
       "      <td>2017-07</td>\n",
       "      <td>45438289.98</td>\n",
       "      <td>35018750.00</td>\n",
       "      <td>40821000.00</td>\n",
       "      <td>NaN</td>\n",
       "      <td>943798.00</td>\n",
       "      <td>NaN</td>\n",
       "      <td>NaN</td>\n",
       "      <td>NaN</td>\n",
       "      <td>15375000.00</td>\n",
       "      <td>NaN</td>\n",
       "      <td>24350315.00</td>\n",
       "      <td>NaN</td>\n",
       "    </tr>\n",
       "    <tr>\n",
       "      <th>876</th>\n",
       "      <td>EUR</td>\n",
       "      <td>Document Cloud</td>\n",
       "      <td>2018-03</td>\n",
       "      <td>3194016.72</td>\n",
       "      <td>NaN</td>\n",
       "      <td>750.00</td>\n",
       "      <td>-2421.16</td>\n",
       "      <td>3501092.97</td>\n",
       "      <td>59770.00</td>\n",
       "      <td>NaN</td>\n",
       "      <td>441677.45</td>\n",
       "      <td>181213.13</td>\n",
       "      <td>NaN</td>\n",
       "      <td>2415274.87</td>\n",
       "      <td>NaN</td>\n",
       "    </tr>\n",
       "    <tr>\n",
       "      <th>485</th>\n",
       "      <td>CHF</td>\n",
       "      <td>Experience Cloud</td>\n",
       "      <td>2018-11</td>\n",
       "      <td>9546.89</td>\n",
       "      <td>79148.65</td>\n",
       "      <td>47876.55</td>\n",
       "      <td>NaN</td>\n",
       "      <td>154201.56</td>\n",
       "      <td>NaN</td>\n",
       "      <td>NaN</td>\n",
       "      <td>NaN</td>\n",
       "      <td>NaN</td>\n",
       "      <td>NaN</td>\n",
       "      <td>444700.00</td>\n",
       "      <td>NaN</td>\n",
       "    </tr>\n",
       "    <tr>\n",
       "      <th>3028</th>\n",
       "      <td>HKD</td>\n",
       "      <td>Document Cloud</td>\n",
       "      <td>2018-04</td>\n",
       "      <td>NaN</td>\n",
       "      <td>NaN</td>\n",
       "      <td>NaN</td>\n",
       "      <td>NaN</td>\n",
       "      <td>-1176.00</td>\n",
       "      <td>NaN</td>\n",
       "      <td>NaN</td>\n",
       "      <td>1907.00</td>\n",
       "      <td>NaN</td>\n",
       "      <td>NaN</td>\n",
       "      <td>22088.33</td>\n",
       "      <td>NaN</td>\n",
       "    </tr>\n",
       "    <tr>\n",
       "      <th>292</th>\n",
       "      <td>CAD</td>\n",
       "      <td>Experience Cloud</td>\n",
       "      <td>2015-12</td>\n",
       "      <td>174714.39</td>\n",
       "      <td>494318.35</td>\n",
       "      <td>185596.00</td>\n",
       "      <td>NaN</td>\n",
       "      <td>119799.54</td>\n",
       "      <td>NaN</td>\n",
       "      <td>NaN</td>\n",
       "      <td>7500.00</td>\n",
       "      <td>187314.59</td>\n",
       "      <td>NaN</td>\n",
       "      <td>247535.92</td>\n",
       "      <td>NaN</td>\n",
       "    </tr>\n",
       "    <tr>\n",
       "      <th>877</th>\n",
       "      <td>EUR</td>\n",
       "      <td>Document Cloud</td>\n",
       "      <td>2018-04</td>\n",
       "      <td>2726812.12</td>\n",
       "      <td>NaN</td>\n",
       "      <td>NaN</td>\n",
       "      <td>-1636.93</td>\n",
       "      <td>2144397.21</td>\n",
       "      <td>138492.00</td>\n",
       "      <td>NaN</td>\n",
       "      <td>334899.64</td>\n",
       "      <td>NaN</td>\n",
       "      <td>NaN</td>\n",
       "      <td>2594944.86</td>\n",
       "      <td>NaN</td>\n",
       "    </tr>\n",
       "    <tr>\n",
       "      <th>2353</th>\n",
       "      <td>USD</td>\n",
       "      <td>Creative</td>\n",
       "      <td>2016-04</td>\n",
       "      <td>4028866.42</td>\n",
       "      <td>725.00</td>\n",
       "      <td>NaN</td>\n",
       "      <td>367950.20</td>\n",
       "      <td>37803878.27</td>\n",
       "      <td>62595.56</td>\n",
       "      <td>NaN</td>\n",
       "      <td>62522523.59</td>\n",
       "      <td>421272.92</td>\n",
       "      <td>409825.0</td>\n",
       "      <td>16339776.66</td>\n",
       "      <td>NaN</td>\n",
       "    </tr>\n",
       "    <tr>\n",
       "      <th>1302</th>\n",
       "      <td>GBP</td>\n",
       "      <td>Experience Cloud</td>\n",
       "      <td>2016-08</td>\n",
       "      <td>1571505.55</td>\n",
       "      <td>886677.19</td>\n",
       "      <td>35394.00</td>\n",
       "      <td>NaN</td>\n",
       "      <td>585023.64</td>\n",
       "      <td>NaN</td>\n",
       "      <td>NaN</td>\n",
       "      <td>-8375.00</td>\n",
       "      <td>307345.80</td>\n",
       "      <td>NaN</td>\n",
       "      <td>533050.42</td>\n",
       "      <td>NaN</td>\n",
       "    </tr>\n",
       "    <tr>\n",
       "      <th>152</th>\n",
       "      <td>AUD</td>\n",
       "      <td>Experience Cloud</td>\n",
       "      <td>2018-06</td>\n",
       "      <td>1623337.26</td>\n",
       "      <td>1213382.60</td>\n",
       "      <td>2090691.90</td>\n",
       "      <td>NaN</td>\n",
       "      <td>1302298.86</td>\n",
       "      <td>NaN</td>\n",
       "      <td>NaN</td>\n",
       "      <td>14775.00</td>\n",
       "      <td>1074029.24</td>\n",
       "      <td>NaN</td>\n",
       "      <td>1229622.25</td>\n",
       "      <td>NaN</td>\n",
       "    </tr>\n",
       "    <tr>\n",
       "      <th>269</th>\n",
       "      <td>AUD</td>\n",
       "      <td>Print &amp; Publishing</td>\n",
       "      <td>2018-11</td>\n",
       "      <td>49296.00</td>\n",
       "      <td>NaN</td>\n",
       "      <td>NaN</td>\n",
       "      <td>NaN</td>\n",
       "      <td>60094.67</td>\n",
       "      <td>4157.00</td>\n",
       "      <td>NaN</td>\n",
       "      <td>33511.53</td>\n",
       "      <td>NaN</td>\n",
       "      <td>NaN</td>\n",
       "      <td>54702.05</td>\n",
       "      <td>NaN</td>\n",
       "    </tr>\n",
       "  </tbody>\n",
       "</table>\n",
       "</div>"
      ],
      "text/plain": [
       "     Document Currency       Enterprise Bu Invoicing Fiscal Year-Period Desc  \\\n",
       "1693               JPY    Experience Cloud                           2017-07   \n",
       "876                EUR      Document Cloud                           2018-03   \n",
       "485                CHF    Experience Cloud                           2018-11   \n",
       "3028               HKD      Document Cloud                           2018-04   \n",
       "292                CAD    Experience Cloud                           2015-12   \n",
       "877                EUR      Document Cloud                           2018-04   \n",
       "2353               USD            Creative                           2016-04   \n",
       "1302               GBP    Experience Cloud                           2016-08   \n",
       "152                AUD    Experience Cloud                           2018-06   \n",
       "269                AUD  Print & Publishing                           2018-11   \n",
       "\n",
       "       recognized      service   deferred_B  deferred_1M_a  deferred_1Y_a  \\\n",
       "1693  45438289.98  35018750.00  40821000.00            NaN      943798.00   \n",
       "876    3194016.72          NaN       750.00       -2421.16     3501092.97   \n",
       "485       9546.89     79148.65     47876.55            NaN      154201.56   \n",
       "3028          NaN          NaN          NaN            NaN       -1176.00   \n",
       "292     174714.39    494318.35    185596.00            NaN      119799.54   \n",
       "877    2726812.12          NaN          NaN       -1636.93     2144397.21   \n",
       "2353   4028866.42       725.00          NaN      367950.20    37803878.27   \n",
       "1302   1571505.55    886677.19     35394.00            NaN      585023.64   \n",
       "152    1623337.26   1213382.60   2090691.90            NaN     1302298.86   \n",
       "269      49296.00          NaN          NaN            NaN       60094.67   \n",
       "\n",
       "      deferred_2Y_a  deferred_3Y_a  deferred_1M_d  deferred_3M_d  \\\n",
       "1693            NaN            NaN            NaN    15375000.00   \n",
       "876        59770.00            NaN      441677.45      181213.13   \n",
       "485             NaN            NaN            NaN            NaN   \n",
       "3028            NaN            NaN        1907.00            NaN   \n",
       "292             NaN            NaN        7500.00      187314.59   \n",
       "877       138492.00            NaN      334899.64            NaN   \n",
       "2353       62595.56            NaN    62522523.59      421272.92   \n",
       "1302            NaN            NaN       -8375.00      307345.80   \n",
       "152             NaN            NaN       14775.00     1074029.24   \n",
       "269         4157.00            NaN       33511.53            NaN   \n",
       "\n",
       "      deferred_6M_d  deferred_1Y_d  deferred_2Y_d  \n",
       "1693            NaN    24350315.00            NaN  \n",
       "876             NaN     2415274.87            NaN  \n",
       "485             NaN      444700.00            NaN  \n",
       "3028            NaN       22088.33            NaN  \n",
       "292             NaN      247535.92            NaN  \n",
       "877             NaN     2594944.86            NaN  \n",
       "2353       409825.0    16339776.66            NaN  \n",
       "1302            NaN      533050.42            NaN  \n",
       "152             NaN     1229622.25            NaN  \n",
       "269             NaN       54702.05            NaN  "
      ]
     },
     "execution_count": 110,
     "metadata": {},
     "output_type": "execute_result"
    }
   ],
   "source": [
    "df.sample(10)"
   ]
  },
  {
   "cell_type": "code",
   "execution_count": null,
   "metadata": {},
   "outputs": [],
   "source": []
  },
  {
   "cell_type": "code",
   "execution_count": null,
   "metadata": {},
   "outputs": [],
   "source": []
  },
  {
   "cell_type": "code",
   "execution_count": 98,
   "metadata": {},
   "outputs": [
    {
     "name": "stdout",
     "output_type": "stream",
     "text": [
      "Variable              Type         Data/Info\n",
      "--------------------------------------------\n",
      "a                     Index        Index(['USD', 'EUR', 'GBP<...>],\\n      dtype='object')\n",
      "config_list           list         n=4\n",
      "config_str            str          Product Configtype ID\n",
      "df                    str          gb_a_1Y\n",
      "df_merge1             DataFrame         Document Currency   <...>\\n[2302 rows x 5 columns]\n",
      "df_merge2             DataFrame         Document Currency   <...>\\n[2303 rows x 6 columns]\n",
      "df_merge3             DataFrame         Document Currency   <...>\\n[2335 rows x 7 columns]\n",
      "df_merge4             DataFrame         Document Currency   <...>n[2476 rows x 12 columns]\n",
      "dfr                   DataFrame          Document Currency  <...>[22919 rows x 10 columns]\n",
      "dfr_a                 DataFrame          Document Currency  <...>n[7856 rows x 10 columns]\n",
      "dfr_b                 DataFrame          Document Currency  <...>\\n[997 rows x 10 columns]\n",
      "dfr_d                 DataFrame          Document Currency  <...>[13534 rows x 10 columns]\n",
      "gb_a                  DataFrame         Document Currency   <...>\\n[3643 rows x 5 columns]\n",
      "gb_a_1M               DataFrame         Document Currency   <...>n\\n[823 rows x 5 columns]\n",
      "gb_a_1Y               DataFrame         Document Currency   <...>\\n[1856 rows x 5 columns]\n",
      "gb_a_2Y               DataFrame         Document Currency   <...>n\\n[657 rows x 5 columns]\n",
      "gb_a_3Y               DataFrame         Document Currency   <...>               49588.00  \n",
      "gb_a_config           DataFrame      Product Configtype ID  <...>             3.328696e+06\n",
      "gb_b                  DataFrame        Document Currency    <...>n\\n[479 rows x 4 columns]\n",
      "gb_d                  DataFrame         Document Currency   <...>\\n[4488 rows x 5 columns]\n",
      "gb_d_annual           DataFrame         Document Currency   <...>\\n[1876 rows x 5 columns]\n",
      "gb_d_four_mths        DataFrame         Document Currency   <...>               13440.00  \n",
      "gb_d_mthly            DataFrame         Document Currency   <...>\\n[1789 rows x 5 columns]\n",
      "gb_d_qtrly            DataFrame         Document Currency   <...>n\\n[530 rows x 5 columns]\n",
      "gb_d_semi_ann         DataFrame         Document Currency   <...>n\\n[243 rows x 5 columns]\n",
      "gb_d_two_yrs          DataFrame         Document Currency   <...>               15050.00  \n",
      "gb_rec                DataFrame         Document Currency   <...>\\n[2301 rows x 4 columns]\n",
      "gb_svc                DataFrame        Document Currency    <...>n\\n[502 rows x 4 columns]\n",
      "i                     int          0\n",
      "keep_curr             Series       USD    7791\\nEUR    5291\\<...>nt Currency, dtype: int64\n",
      "keep_these            ndarray      23: 23 elems, type `bool`, 23 bytes\n",
      "list_columns          list         n=12\n",
      "list_df               list         n=12\n",
      "merge_new_dataframe   function     <function merge_new_dataframe at 0x10e948d08>\n",
      "model_dict            dict         n=1\n",
      "new_column            str          deferred_3Y_a\n",
      "np                    module       <module 'numpy' from '/an<...>kages/numpy/__init__.py'>\n",
      "pd                    module       <module 'pandas' from '/a<...>ages/pandas/__init__.py'>\n",
      "plt                   module       <module 'matplotlib.pyplo<...>es/matplotlib/pyplot.py'>\n",
      "rec                   DataFrame          Document Currency  <...>n[5041 rows x 10 columns]\n",
      "remove_these          ndarray      23: 23 elems, type `bool`, 23 bytes\n",
      "svc                   DataFrame          Document Currency  <...>\\n[844 rows x 10 columns]\n",
      "test1                 DataFrame         Document Currency   <...>\\n[3382 rows x 5 columns]\n",
      "vc                    Series       USD    7791\\nEUR    5291\\<...>nt Currency, dtype: int64\n",
      "what_is_BT            DataFrame         Document Currency   <...>               13440.00  \n"
     ]
    }
   ],
   "source": [
    "whos"
   ]
  },
  {
   "cell_type": "code",
   "execution_count": null,
   "metadata": {},
   "outputs": [],
   "source": []
  }
 ],
 "metadata": {
  "kernelspec": {
   "display_name": "Python 3",
   "language": "python",
   "name": "python3"
  },
  "language_info": {
   "codemirror_mode": {
    "name": "ipython",
    "version": 3
   },
   "file_extension": ".py",
   "mimetype": "text/x-python",
   "name": "python",
   "nbconvert_exporter": "python",
   "pygments_lexer": "ipython3",
   "version": "3.6.8"
  }
 },
 "nbformat": 4,
 "nbformat_minor": 2
}
